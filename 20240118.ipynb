{
 "cells": [
  {
   "cell_type": "code",
   "execution_count": 1,
   "metadata": {
    "collapsed": true,
    "pycharm": {
     "name": "#%%\n"
    }
   },
   "outputs": [],
   "source": [
    "import pandas as pd"
   ]
  },
  {
   "cell_type": "code",
   "execution_count": 2,
   "outputs": [],
   "source": [
    "import numpy as np"
   ],
   "metadata": {
    "collapsed": false,
    "pycharm": {
     "name": "#%%\n"
    }
   }
  },
  {
   "cell_type": "code",
   "execution_count": 3,
   "outputs": [],
   "source": [
    "import seaborn as sns"
   ],
   "metadata": {
    "collapsed": false,
    "pycharm": {
     "name": "#%%\n"
    }
   }
  },
  {
   "cell_type": "code",
   "execution_count": 4,
   "outputs": [],
   "source": [
    "import matplotlib.pyplot as plt"
   ],
   "metadata": {
    "collapsed": false,
    "pycharm": {
     "name": "#%%\n"
    }
   }
  },
  {
   "cell_type": "code",
   "execution_count": 5,
   "outputs": [],
   "source": [
    "import yfinance as yf"
   ],
   "metadata": {
    "collapsed": false,
    "pycharm": {
     "name": "#%%\n"
    }
   }
  },
  {
   "cell_type": "code",
   "execution_count": 6,
   "outputs": [],
   "source": [
    "df=pd.read_csv(r\"D:\\Pyn\\online learning\\FINAL_DATA\\SCRNER_DATA\\onlynifty500.csv\")"
   ],
   "metadata": {
    "collapsed": false,
    "pycharm": {
     "name": "#%%\n"
    }
   }
  },
  {
   "cell_type": "code",
   "execution_count": 10,
   "outputs": [],
   "source": [
    "tiker_name=[]\n",
    "for i in df.Tiker_name:\n",
    "    tiker_name.append(i+\".NS\")"
   ],
   "metadata": {
    "collapsed": false,
    "pycharm": {
     "name": "#%%\n"
    }
   }
  },
  {
   "cell_type": "code",
   "execution_count": 11,
   "outputs": [
    {
     "data": {
      "text/plain": "['GSFC.NS',\n 'JBMA.NS',\n 'ALKYLAMINE.NS',\n 'CASTROLIND.NS',\n 'IDEA.NS',\n 'SPARC.NS',\n 'ENGINERSIN.NS',\n 'JUBLPHARMA.NS',\n 'GNFC.NS',\n 'GUJGASLTD.NS',\n 'CIEINDIA.NS',\n 'GODREJIND.NS',\n 'GSPL.NS',\n 'YESBANK.NS',\n 'CENTURYTEX.NS',\n 'FORTIS.NS',\n 'RCF.NS',\n 'GUJALKALI.NS',\n 'ROUTE.NS',\n 'LICHSGFIN.NS',\n 'BIRLACORPN.NS',\n 'AVANTIFEED.NS',\n 'WELCORP.NS',\n 'MOTHERSON.NS',\n 'STLTECH.NS',\n 'DELTACORP.NS',\n 'DALBHARAT.NS',\n 'AWL.NS',\n 'POWERINDIA.NS',\n 'TV18BRDCST.NS',\n 'FLUOROCHEM.NS',\n 'APTUS.NS',\n 'GPPL.NS',\n 'SWSOLAR.NS',\n 'GLAXO.NS',\n 'CENTURYPLY.NS',\n 'SOBHA.NS',\n 'NIACL.NS',\n 'PFC.NS',\n 'INFIBEAM.NS',\n 'NESTLEIND.NS',\n 'LICI.NS',\n 'ANGELONE.NS',\n 'CESC.NS',\n 'GAIL.NS',\n 'ZEEL.NS',\n 'JINDALSAW.NS',\n 'CLEAN.NS',\n 'RECLTD.NS',\n 'HUDCO.NS',\n 'NATIONALUM.NS',\n 'KEC.NS',\n 'RAJESHEXPO.NS',\n 'RBA.NS',\n 'AJANTPHARM.NS',\n 'OFSS.NS',\n 'KAYNES.NS',\n 'ASHOKLEY.NS',\n 'IRCON.NS',\n 'BIOCON.NS',\n 'POLYPLEX.NS',\n 'SHYAMMETL.NS',\n 'CUB.NS',\n 'STARHEALTH.NS',\n 'BHEL.NS',\n 'LODHA.NS',\n 'VIPIND.NS',\n 'NHPC.NS',\n 'ZFCVINDIA.NS',\n 'KALYANKJIL.NS',\n 'SJVN.NS',\n 'AAVAS.NS',\n 'RAINBOW.NS',\n 'ADANIENT.NS',\n 'CAMPUS.NS',\n 'MHRIL.NS',\n 'AMBUJACEM.NS',\n 'ALLCARGO.NS',\n 'GPIL.NS',\n 'OLECTRA.NS',\n 'RADICO.NS',\n 'PNB.NS',\n 'PAYTM.NS',\n 'PCBL.NS',\n 'ADANIPORTS.NS',\n 'JMFINANCIL.NS',\n 'MOTILALOFS.NS',\n 'ANURAS.NS',\n 'BLS.NS',\n 'NAM-INDIA.NS',\n 'COALINDIA.NS',\n 'CHAMBLFERT.NS',\n 'TECHM.NS',\n 'OIL.NS',\n 'FACT.NS',\n 'ORIENTELEC.NS',\n 'TATAMOTORS.NS',\n 'SUMICHEM.NS',\n 'ACC.NS',\n 'VTL.NS',\n 'TIINDIA.NS',\n 'PETRONET.NS',\n 'TATAMTRDVR.NS',\n 'ICICIGI.NS',\n 'HONAUT.NS',\n 'EMAMILTD.NS',\n 'GRANULES.NS',\n 'CONCORDBIO.NS',\n 'RALLIS.NS',\n 'SYNGENE.NS',\n 'GICRE.NS',\n 'ZYDUSLIFE.NS',\n 'NETWORK18.NS',\n 'AARTIDRUGS.NS',\n 'UNIONBANK.NS',\n 'ALOKINDS.NS',\n 'ATGL.NS',\n 'IIFL.NS',\n 'GODREJCP.NS',\n 'ARE&M.NS',\n 'KPIL.NS',\n 'KARURVYSYA.NS',\n 'EXIDEIND.NS',\n 'NMDC.NS',\n 'BDL.NS',\n 'VMART.NS',\n 'MAHABANK.NS',\n 'AFFLE.NS',\n 'RBLBANK.NS',\n 'SUPRAJIT.NS',\n 'BAJAJHLDNG.NS',\n 'DEEPAKFERT.NS',\n 'IRFC.NS',\n 'TANLA.NS',\n 'HCLTECH.NS',\n 'EQUITASBNK.NS',\n 'BHARATFORG.NS',\n 'IOB.NS',\n 'NATCOPHARM.NS',\n 'EIDPARRY.NS',\n 'BANDHANBNK.NS',\n 'HAPPSTMNDS.NS',\n 'HAL.NS',\n 'INDIACEM.NS',\n 'APLLTD.NS',\n 'SBICARD.NS',\n 'BALRAMCHIN.NS',\n 'CROMPTON.NS',\n 'INDUSTOWER.NS',\n 'TRIDENT.NS',\n 'BANKBARODA.NS',\n 'UPL.NS',\n 'BALAMINES.NS',\n 'IGL.NS',\n 'ITC.NS',\n 'POLICYBZR.NS',\n 'HEG.NS',\n 'CANBK.NS',\n 'TTKPRESTIG.NS',\n 'EASEMYTRIP.NS',\n 'WIPRO.NS',\n 'ADANIENSOL.NS',\n 'WELSPUNLIV.NS',\n 'PNBHOUSING.NS',\n 'PRINCEPIPE.NS',\n 'TORNTPOWER.NS',\n 'CGCL.NS',\n 'HDFCAMC.NS',\n 'MANYAVAR.NS',\n 'BOSCHLTD.NS',\n 'TATACHEM.NS',\n 'VINATIORGA.NS',\n 'SFL.NS',\n 'CERA.NS',\n 'JYOTHYLAB.NS',\n 'KNRCON.NS',\n 'ABFRL.NS',\n 'COCHINSHIP.NS',\n 'POONAWALLA.NS',\n 'GRINDWELL.NS',\n 'MSUMI.NS',\n 'KAJARIACER.NS',\n 'BEML.NS',\n 'RENUKA.NS',\n 'APOLLOHOSP.NS',\n 'VARROC.NS',\n 'EIHOTEL.NS',\n 'UTIAMC.NS',\n 'RAYMOND.NS',\n 'ATUL.NS',\n 'PAGEIND.NS',\n 'IRB.NS',\n 'THERMAX.NS',\n 'OBEROIRLTY.NS',\n 'LXCHEM.NS',\n 'ZOMATO.NS',\n 'NBCC.NS',\n 'ITI.NS',\n 'IOC.NS',\n 'LAURUSLABS.NS',\n 'MMTC.NS',\n 'WESTLIFE.NS',\n 'SAIL.NS',\n 'SOLARINDS.NS',\n 'SANOFI.NS',\n 'NH.NS',\n 'SUZLON.NS',\n 'UCOBANK.NS',\n 'TRIVENI.NS',\n 'KRBL.NS',\n 'SCHAEFFLER.NS',\n 'JUSTDIAL.NS',\n 'SUNTECK.NS',\n 'SYMPHONY.NS',\n 'VBL.NS',\n 'INFY.NS',\n 'GILLETTE.NS',\n 'TEJASNET.NS',\n 'CIPLA.NS',\n 'CYIENT.NS',\n 'DRREDDY.NS',\n 'FIVESTAR.NS',\n 'MAHLIFE.NS',\n 'IRCTC.NS',\n 'AARTIIND.NS',\n 'MAZDOCK.NS',\n 'RAIN.NS',\n 'TCS.NS',\n 'PRSMJOHNSN.NS',\n 'PHOENIXLTD.NS',\n 'ROSSARI.NS',\n 'INDIANB.NS',\n 'FEDERALBNK.NS',\n 'TEAMLEASE.NS',\n 'JKCEMENT.NS',\n 'KFINTECH.NS',\n 'BALKRISIND.NS',\n 'BIKAJI.NS',\n 'BEL.NS',\n 'HOMEFIRST.NS',\n 'DCMSHRIRAM.NS',\n 'UBL.NS',\n 'IDBI.NS',\n 'AMBER.NS',\n 'CARBORUNIV.NS',\n 'INDIGO.NS',\n 'RVNL.NS',\n 'RELIANCE.NS',\n 'JSWENERGY.NS',\n 'JAMNAAUTO.NS',\n 'MGL.NS',\n 'MAXHEALTH.NS',\n 'HDFCLIFE.NS',\n 'KSB.NS',\n 'BPCL.NS',\n 'NCC.NS',\n 'TITAN.NS',\n 'HFCL.NS',\n 'GALAXYSURF.NS',\n 'PEL.NS',\n 'INDIGOPNTS.NS',\n 'HINDPETRO.NS',\n 'CENTRALBK.NS',\n 'DABUR.NS',\n 'LINDEINDIA.NS',\n 'NAVINFLUOR.NS',\n 'TATASTEEL.NS',\n 'VOLTAS.NS',\n 'RTNINDIA.NS',\n 'RELAXO.NS',\n 'SUNPHARMA.NS',\n 'SONACOMS.NS',\n 'CEATLTD.NS',\n 'CONCOR.NS',\n 'GRAPHITE.NS',\n 'DIVISLAB.NS',\n 'PFIZER.NS',\n 'NAZARA.NS',\n 'AIAENG.NS',\n 'SKFINDIA.NS',\n 'UJJIVANSFB.NS',\n 'IPCALAB.NS',\n 'PRAJIND.NS',\n 'FINPIPE.NS',\n 'HINDZINC.NS',\n 'BLUESTARCO.NS',\n 'CANFINHOME.NS',\n 'LUXIND.NS',\n 'POWERGRID.NS',\n 'BANKINDIA.NS',\n 'ONGC.NS',\n 'PGHH.NS',\n 'TATAELXSI.NS',\n 'PVRINOX.NS',\n 'MANKIND.NS',\n 'BRIGADE.NS',\n 'ADANIGREEN.NS',\n 'FSL.NS',\n 'PGHL.NS',\n 'TIMKEN.NS',\n 'PPLPHARMA.NS',\n 'ABB.NS',\n 'SUNDRMFAST.NS',\n 'VGUARD.NS',\n 'EPIGRAL.NS',\n 'MPHASIS.NS',\n 'LATENTVIEW.NS',\n 'IEX.NS',\n 'APARINDS.NS',\n 'SIEMENS.NS',\n 'KANSAINER.NS',\n 'CSBBANK.NS',\n 'SAREGAMA.NS',\n 'GLENMARK.NS',\n 'MRF.NS',\n 'INDUSINDBK.NS',\n 'APOLLOTYRE.NS',\n 'ICICIBANK.NS',\n 'GODREJPROP.NS',\n 'CAMS.NS',\n 'AUBANK.NS',\n 'CDSL.NS',\n 'BRITANNIA.NS',\n 'AUROPHARMA.NS',\n 'GLS.NS',\n 'MARUTI.NS',\n 'MTARTECH.NS',\n 'ABBOTINDIA.NS',\n 'SBILIFE.NS',\n 'MFSL.NS',\n 'ACI.NS',\n 'JUBLINGREA.NS',\n 'INDIAMART.NS',\n 'ERIS.NS',\n 'ASIANPAINT.NS',\n 'ADANIPOWER.NS',\n 'MINDACORP.NS',\n 'MRPL.NS',\n 'APLAPOLLO.NS',\n 'FINEORG.NS',\n 'NSLNISP.NS',\n 'NAUKRI.NS',\n 'ASTRAL.NS',\n 'SHRIRAMFIN.NS',\n 'LALPATHLAB.NS',\n 'PNCINFRA.NS',\n 'BERGEPAINT.NS',\n 'TORNTPHARM.NS',\n 'ULTRACEMCO.NS',\n 'JSL.NS',\n 'WHIRLPOOL.NS',\n 'DMART.NS',\n 'GMRINFRA.NS',\n 'BLUEDART.NS',\n 'SUNTV.NS',\n 'HLEGLAS.NS',\n 'ABCAPITAL.NS',\n 'POLYCAB.NS',\n 'INGERRAND.NS',\n 'GRINFRA.NS',\n 'AETHER.NS',\n 'METROPOLIS.NS',\n 'HEROMOTOCO.NS',\n 'CREDITACC.NS',\n 'LT.NS',\n 'JKPAPER.NS',\n 'JKLAKSHMI.NS',\n 'SWANENERGY.NS',\n 'TTML.NS',\n 'MANAPPURAM.NS',\n 'RITES.NS',\n 'RHIM.NS',\n 'TATACOMM.NS',\n 'NTPC.NS',\n 'JBCHEPHARM.NS',\n 'TATAINVEST.NS',\n 'BAJFINANCE.NS',\n 'HINDUNILVR.NS',\n 'M&MFIN.NS',\n 'KOTAKBANK.NS',\n 'FDC.NS',\n 'PIDILITIND.NS',\n 'JSWSTEEL.NS',\n 'ZENSARTECH.NS',\n 'ICICIPRULI.NS',\n 'IBULHSGFIN.NS',\n 'DLF.NS',\n 'ELGIEQUIP.NS',\n 'SBIN.NS',\n 'SHARDACROP.NS',\n 'LTIM.NS',\n 'JUBLFOOD.NS',\n 'LAXMIMACH.NS',\n 'BORORENEW.NS',\n 'TATACONSUM.NS',\n 'INDHOTEL.NS',\n 'AXISBANK.NS',\n 'TVSMOTOR.NS',\n 'SRF.NS',\n 'GESHIP.NS',\n 'COROMANDEL.NS',\n 'PATANJALI.NS',\n 'JINDALSTEL.NS',\n 'CUMMINSIND.NS',\n 'TATAPOWER.NS',\n 'DEEPAKNTR.NS',\n 'GRASIM.NS',\n 'VEDL.NS',\n 'PRESTIGE.NS',\n 'ESCORTS.NS',\n 'ZYDUSWELL.NS',\n 'AEGISCHEM.NS',\n 'ENDURANCE.NS',\n 'ASAHIINDIA.NS',\n 'BAJAJFINSV.NS',\n 'INTELLECT.NS',\n 'SUNDARMFIN.NS',\n 'HAVELLS.NS',\n 'LEMONTREE.NS',\n 'LUPIN.NS',\n 'RAMCOCEM.NS',\n 'MAPMYINDIA.NS',\n 'BSE.NS',\n 'VAIBHAVGBL.NS',\n 'PERSISTENT.NS',\n 'EPL.NS',\n 'HDFCBANK.NS',\n 'MUTHOOTFIN.NS',\n 'BATAINDIA.NS',\n 'GMMPFAUDLR.NS',\n 'SHREECEM.NS',\n 'REDINGTON.NS',\n 'DEVYANI.NS',\n 'POLYMED.NS',\n 'IDFC.NS',\n 'DATAPATTNS.NS',\n 'VIJAYA.NS',\n 'MEDANTA.NS',\n 'HINDCOPPER.NS',\n 'LTTS.NS',\n 'MCX.NS',\n 'ISEC.NS',\n 'MARICO.NS',\n 'GODFRYPHLP.NS',\n 'GLAND.NS',\n 'ASTERDM.NS',\n 'CGPOWER.NS',\n 'HINDALCO.NS',\n 'L&TFH.NS',\n 'PIIND.NS',\n 'DELHIVERY.NS',\n 'KIMS.NS',\n 'RATNAMANI.NS',\n 'MCDOWELL-N.NS',\n 'IDFCFIRSTB.NS',\n 'SYRMA.NS',\n 'SAPPHIRE.NS',\n 'COFORGE.NS',\n 'CHALET.NS',\n 'SUVENPHAR.NS',\n 'NLCINDIA.NS',\n 'SHOPERSTOP.NS',\n 'FINCABLES.NS',\n 'CRISIL.NS',\n 'MEDPLUS.NS',\n 'ECLERX.NS',\n 'NUVOCO.NS',\n 'BAJAJ-AUTO.NS',\n 'TRITURBINE.NS',\n 'CRAFTSMAN.NS',\n 'KPITTECH.NS',\n 'BCG.NS',\n 'BAYERCROP.NS',\n 'M&M.NS',\n 'ALKEM.NS',\n 'UNOMINDA.NS',\n 'QUESS.NS',\n 'TRENT.NS',\n 'NYKAA.NS',\n 'CCL.NS',\n 'USHAMART.NS',\n 'MASTEK.NS',\n 'COLPAL.NS',\n 'SUPREMEIND.NS',\n 'CHOLAHLDNG.NS',\n 'KPRMILL.NS',\n 'DIXON.NS',\n 'GAEL.NS',\n 'BHARTIARTL.NS',\n '3MINDIA.NS',\n 'KEI.NS',\n 'METROBRAND.NS',\n '360ONE.NS',\n 'GOCOLORS.NS',\n 'CHEMPLASTS.NS',\n 'BSOFT.NS',\n 'CHOLAFIN.NS',\n 'EICHERMOT.NS',\n 'SONATSOFTW.NS',\n 'SAFARI.NS',\n 'BBTC.NS']"
     },
     "execution_count": 11,
     "metadata": {},
     "output_type": "execute_result"
    }
   ],
   "source": [
    "tiker_name"
   ],
   "metadata": {
    "collapsed": false,
    "pycharm": {
     "name": "#%%\n"
    }
   }
  },
  {
   "cell_type": "code",
   "execution_count": 13,
   "outputs": [
    {
     "name": "stdout",
     "output_type": "stream",
     "text": [
      "[*********************100%%**********************]  1 of 1 completed\n",
      "[*********************100%%**********************]  1 of 1 completed\n",
      "[*********************100%%**********************]  1 of 1 completed\n",
      "[*********************100%%**********************]  1 of 1 completed\n",
      "[*********************100%%**********************]  1 of 1 completed\n"
     ]
    }
   ],
   "source": [
    "for i in tiker_name[:5]:\n",
    "    i=yf.download(i,start=\"2018-01-18\",end=\"2024-01-18\",interval=\"1d\")"
   ],
   "metadata": {
    "collapsed": false,
    "pycharm": {
     "name": "#%%\n"
    }
   }
  },
  {
   "cell_type": "code",
   "execution_count": 16,
   "outputs": [
    {
     "name": "stdout",
     "output_type": "stream",
     "text": [
      "GSFC.NS\n",
      "JBMA.NS\n",
      "ALKYLAMINE.NS\n",
      "CASTROLIND.NS\n",
      "IDEA.NS\n"
     ]
    }
   ],
   "source": [
    "for i in tiker_name[:5]:\n",
    "    print(i)"
   ],
   "metadata": {
    "collapsed": false,
    "pycharm": {
     "name": "#%%\n"
    }
   }
  },
  {
   "cell_type": "code",
   "execution_count": 15,
   "outputs": [
    {
     "ename": "NameError",
     "evalue": "name 'GSFC' is not defined",
     "output_type": "error",
     "traceback": [
      "\u001B[1;31m---------------------------------------------------------------------------\u001B[0m",
      "\u001B[1;31mNameError\u001B[0m                                 Traceback (most recent call last)",
      "Cell \u001B[1;32mIn[15], line 1\u001B[0m\n\u001B[1;32m----> 1\u001B[0m \u001B[43mGSFC\u001B[49m\u001B[38;5;241m.\u001B[39mNS\u001B[38;5;241m.\u001B[39mhead()\n",
      "\u001B[1;31mNameError\u001B[0m: name 'GSFC' is not defined"
     ]
    }
   ],
   "source": [
    "\"GSFC.NS\".head()"
   ],
   "metadata": {
    "collapsed": false,
    "pycharm": {
     "name": "#%%\n"
    }
   }
  },
  {
   "cell_type": "code",
   "execution_count": 19,
   "outputs": [
    {
     "data": {
      "text/plain": "0          GSFC\n1          JBMA\n2    ALKYLAMINE\n3    CASTROLIND\n4          IDEA\nName: Tiker_name, dtype: object"
     },
     "execution_count": 19,
     "metadata": {},
     "output_type": "execute_result"
    }
   ],
   "source": [
    "df.Tiker_name[:5]"
   ],
   "metadata": {
    "collapsed": false,
    "pycharm": {
     "name": "#%%\n"
    }
   }
  },
  {
   "cell_type": "code",
   "execution_count": 20,
   "outputs": [
    {
     "ename": "SyntaxError",
     "evalue": "leading zeros in decimal integer literals are not permitted; use an 0o prefix for octal integers (4101270233.py, line 2)",
     "output_type": "error",
     "traceback": [
      "\u001B[1;36m  Cell \u001B[1;32mIn[20], line 2\u001B[1;36m\u001B[0m\n\u001B[1;33m    i=yf.download(i+\".NS,start=\"2018-01-18\",end=\"2024-01-18\",interval=\"1d\")\u001B[0m\n\u001B[1;37m                                     ^\u001B[0m\n\u001B[1;31mSyntaxError\u001B[0m\u001B[1;31m:\u001B[0m leading zeros in decimal integer literals are not permitted; use an 0o prefix for octal integers\n"
     ]
    }
   ],
   "source": [
    "for i in df.Tiker_name[:5]:\n",
    "    i=yf.download(i+\".NS,start=\"2018-01-18\",end=\"2024-01-18\",interval=\"1d\")"
   ],
   "metadata": {
    "collapsed": false,
    "pycharm": {
     "name": "#%%\n"
    }
   }
  },
  {
   "cell_type": "code",
   "execution_count": 21,
   "outputs": [
    {
     "name": "stdout",
     "output_type": "stream",
     "text": [
      "[*********************100%%**********************]  1 of 1 completed\n",
      "[*********************100%%**********************]  1 of 1 completed\n",
      "[*********************100%%**********************]  1 of 1 completed\n",
      "[*********************100%%**********************]  1 of 1 completed\n",
      "[*********************100%%**********************]  1 of 1 completed\n",
      "[*********************100%%**********************]  1 of 1 completed\n",
      "[*********************100%%**********************]  1 of 1 completed\n",
      "[*********************100%%**********************]  1 of 1 completed\n",
      "[*********************100%%**********************]  1 of 1 completed\n",
      "[*********************100%%**********************]  1 of 1 completed\n",
      "[*********************100%%**********************]  1 of 1 completed\n",
      "[*********************100%%**********************]  1 of 1 completed\n",
      "[*********************100%%**********************]  1 of 1 completed\n",
      "[*********************100%%**********************]  1 of 1 completed\n",
      "[*********************100%%**********************]  1 of 1 completed\n",
      "[*********************100%%**********************]  1 of 1 completed\n",
      "[*********************100%%**********************]  1 of 1 completed\n",
      "[*********************100%%**********************]  1 of 1 completed\n",
      "[*********************100%%**********************]  1 of 1 completed\n",
      "[*********************100%%**********************]  1 of 1 completed\n",
      "[*********************100%%**********************]  1 of 1 completed\n",
      "[*********************100%%**********************]  1 of 1 completed\n",
      "[*********************100%%**********************]  1 of 1 completed\n",
      "[*********************100%%**********************]  1 of 1 completed\n",
      "[*********************100%%**********************]  1 of 1 completed\n",
      "[*********************100%%**********************]  1 of 1 completed\n",
      "[*********************100%%**********************]  1 of 1 completed\n",
      "[*********************100%%**********************]  1 of 1 completed\n",
      "[*********************100%%**********************]  1 of 1 completed\n",
      "[*********************100%%**********************]  1 of 1 completed\n",
      "[*********************100%%**********************]  1 of 1 completed\n",
      "[*********************100%%**********************]  1 of 1 completed\n",
      "[*********************100%%**********************]  1 of 1 completed\n",
      "[*********************100%%**********************]  1 of 1 completed\n",
      "[*********************100%%**********************]  1 of 1 completed\n",
      "[*********************100%%**********************]  1 of 1 completed\n",
      "[*********************100%%**********************]  1 of 1 completed\n",
      "[*********************100%%**********************]  1 of 1 completed\n",
      "[*********************100%%**********************]  1 of 1 completed\n",
      "[*********************100%%**********************]  1 of 1 completed\n",
      "[*********************100%%**********************]  1 of 1 completed\n",
      "[*********************100%%**********************]  1 of 1 completed\n",
      "[*********************100%%**********************]  1 of 1 completed\n",
      "[*********************100%%**********************]  1 of 1 completed\n",
      "[*********************100%%**********************]  1 of 1 completed\n",
      "[*********************100%%**********************]  1 of 1 completed\n",
      "[*********************100%%**********************]  1 of 1 completed\n",
      "[*********************100%%**********************]  1 of 1 completed\n",
      "[*********************100%%**********************]  1 of 1 completed\n",
      "[*********************100%%**********************]  1 of 1 completed\n",
      "[*********************100%%**********************]  1 of 1 completed\n",
      "[*********************100%%**********************]  1 of 1 completed\n",
      "[*********************100%%**********************]  1 of 1 completed\n",
      "[*********************100%%**********************]  1 of 1 completed\n",
      "[*********************100%%**********************]  1 of 1 completed\n",
      "[*********************100%%**********************]  1 of 1 completed\n",
      "[*********************100%%**********************]  1 of 1 completed\n",
      "[*********************100%%**********************]  1 of 1 completed\n",
      "[*********************100%%**********************]  1 of 1 completed\n",
      "[*********************100%%**********************]  1 of 1 completed\n",
      "[*********************100%%**********************]  1 of 1 completed\n",
      "[*********************100%%**********************]  1 of 1 completed\n",
      "[*********************100%%**********************]  1 of 1 completed\n",
      "[*********************100%%**********************]  1 of 1 completed\n",
      "[*********************100%%**********************]  1 of 1 completed\n",
      "[*********************100%%**********************]  1 of 1 completed\n",
      "[*********************100%%**********************]  1 of 1 completed\n",
      "[*********************100%%**********************]  1 of 1 completed\n",
      "[*********************100%%**********************]  1 of 1 completed\n",
      "[*********************100%%**********************]  1 of 1 completed\n",
      "[*********************100%%**********************]  1 of 1 completed\n",
      "[*********************100%%**********************]  1 of 1 completed\n",
      "[*********************100%%**********************]  1 of 1 completed\n",
      "[*********************100%%**********************]  1 of 1 completed\n",
      "[*********************100%%**********************]  1 of 1 completed\n",
      "[*********************100%%**********************]  1 of 1 completed\n",
      "[*********************100%%**********************]  1 of 1 completed\n",
      "[*********************100%%**********************]  1 of 1 completed\n",
      "[*********************100%%**********************]  1 of 1 completed\n",
      "[*********************100%%**********************]  1 of 1 completed\n",
      "[*********************100%%**********************]  1 of 1 completed\n",
      "[*********************100%%**********************]  1 of 1 completed\n",
      "[*********************100%%**********************]  1 of 1 completed\n",
      "[*********************100%%**********************]  1 of 1 completed\n",
      "[*********************100%%**********************]  1 of 1 completed\n",
      "[*********************100%%**********************]  1 of 1 completed\n",
      "[*********************100%%**********************]  1 of 1 completed\n",
      "[*********************100%%**********************]  1 of 1 completed\n",
      "[*********************100%%**********************]  1 of 1 completed\n",
      "[*********************100%%**********************]  1 of 1 completed\n",
      "[*********************100%%**********************]  1 of 1 completed\n",
      "[*********************100%%**********************]  1 of 1 completed\n",
      "[*********************100%%**********************]  1 of 1 completed\n",
      "[*********************100%%**********************]  1 of 1 completed\n",
      "[*********************100%%**********************]  1 of 1 completed\n",
      "[*********************100%%**********************]  1 of 1 completed\n",
      "[*********************100%%**********************]  1 of 1 completed\n",
      "[*********************100%%**********************]  1 of 1 completed\n",
      "[*********************100%%**********************]  1 of 1 completed\n",
      "[*********************100%%**********************]  1 of 1 completed\n",
      "[*********************100%%**********************]  1 of 1 completed\n",
      "[*********************100%%**********************]  1 of 1 completed\n",
      "[*********************100%%**********************]  1 of 1 completed\n",
      "[*********************100%%**********************]  1 of 1 completed\n",
      "[*********************100%%**********************]  1 of 1 completed\n",
      "[*********************100%%**********************]  1 of 1 completed\n",
      "[*********************100%%**********************]  1 of 1 completed\n",
      "[*********************100%%**********************]  1 of 1 completed\n",
      "[*********************100%%**********************]  1 of 1 completed\n",
      "[*********************100%%**********************]  1 of 1 completed\n",
      "[*********************100%%**********************]  1 of 1 completed\n",
      "[*********************100%%**********************]  1 of 1 completed\n",
      "[*********************100%%**********************]  1 of 1 completed\n",
      "[*********************100%%**********************]  1 of 1 completed\n",
      "[*********************100%%**********************]  1 of 1 completed\n",
      "[*********************100%%**********************]  1 of 1 completed\n",
      "[*********************100%%**********************]  1 of 1 completed\n",
      "[*********************100%%**********************]  1 of 1 completed\n",
      "[*********************100%%**********************]  1 of 1 completed\n",
      "[*********************100%%**********************]  1 of 1 completed\n",
      "[*********************100%%**********************]  1 of 1 completed\n",
      "[*********************100%%**********************]  1 of 1 completed\n",
      "[*********************100%%**********************]  1 of 1 completed\n",
      "[*********************100%%**********************]  1 of 1 completed\n",
      "[*********************100%%**********************]  1 of 1 completed\n",
      "[*********************100%%**********************]  1 of 1 completed\n",
      "[*********************100%%**********************]  1 of 1 completed\n",
      "[*********************100%%**********************]  1 of 1 completed\n",
      "[*********************100%%**********************]  1 of 1 completed\n",
      "[*********************100%%**********************]  1 of 1 completed\n",
      "[*********************100%%**********************]  1 of 1 completed\n",
      "[*********************100%%**********************]  1 of 1 completed\n",
      "[*********************100%%**********************]  1 of 1 completed\n",
      "[*********************100%%**********************]  1 of 1 completed\n",
      "[*********************100%%**********************]  1 of 1 completed\n",
      "[*********************100%%**********************]  1 of 1 completed\n",
      "[*********************100%%**********************]  1 of 1 completed\n",
      "[*********************100%%**********************]  1 of 1 completed\n",
      "[*********************100%%**********************]  1 of 1 completed\n",
      "[*********************100%%**********************]  1 of 1 completed\n",
      "[*********************100%%**********************]  1 of 1 completed\n",
      "[*********************100%%**********************]  1 of 1 completed\n",
      "[*********************100%%**********************]  1 of 1 completed\n",
      "[*********************100%%**********************]  1 of 1 completed\n",
      "[*********************100%%**********************]  1 of 1 completed\n",
      "[*********************100%%**********************]  1 of 1 completed\n",
      "[*********************100%%**********************]  1 of 1 completed\n",
      "[*********************100%%**********************]  1 of 1 completed\n",
      "[*********************100%%**********************]  1 of 1 completed\n",
      "[*********************100%%**********************]  1 of 1 completed\n",
      "[*********************100%%**********************]  1 of 1 completed\n",
      "[*********************100%%**********************]  1 of 1 completed\n",
      "[*********************100%%**********************]  1 of 1 completed\n",
      "[*********************100%%**********************]  1 of 1 completed\n",
      "[*********************100%%**********************]  1 of 1 completed\n",
      "[*********************100%%**********************]  1 of 1 completed\n",
      "[*********************100%%**********************]  1 of 1 completed\n",
      "[*********************100%%**********************]  1 of 1 completed\n",
      "[*********************100%%**********************]  1 of 1 completed\n",
      "[*********************100%%**********************]  1 of 1 completed\n",
      "[*********************100%%**********************]  1 of 1 completed\n",
      "[*********************100%%**********************]  1 of 1 completed\n",
      "[*********************100%%**********************]  1 of 1 completed\n",
      "[*********************100%%**********************]  1 of 1 completed\n",
      "[*********************100%%**********************]  1 of 1 completed\n",
      "[*********************100%%**********************]  1 of 1 completed\n",
      "[*********************100%%**********************]  1 of 1 completed\n",
      "[*********************100%%**********************]  1 of 1 completed\n",
      "[*********************100%%**********************]  1 of 1 completed\n",
      "[*********************100%%**********************]  1 of 1 completed\n",
      "[*********************100%%**********************]  1 of 1 completed\n",
      "[*********************100%%**********************]  1 of 1 completed\n",
      "[*********************100%%**********************]  1 of 1 completed\n",
      "[*********************100%%**********************]  1 of 1 completed\n",
      "[*********************100%%**********************]  1 of 1 completed\n",
      "[*********************100%%**********************]  1 of 1 completed\n",
      "[*********************100%%**********************]  1 of 1 completed\n",
      "[*********************100%%**********************]  1 of 1 completed\n",
      "[*********************100%%**********************]  1 of 1 completed\n",
      "[*********************100%%**********************]  1 of 1 completed\n",
      "[*********************100%%**********************]  1 of 1 completed\n",
      "[*********************100%%**********************]  1 of 1 completed\n",
      "[*********************100%%**********************]  1 of 1 completed\n",
      "[*********************100%%**********************]  1 of 1 completed\n",
      "[*********************100%%**********************]  1 of 1 completed\n",
      "[*********************100%%**********************]  1 of 1 completed\n",
      "[*********************100%%**********************]  1 of 1 completed\n",
      "[*********************100%%**********************]  1 of 1 completed\n",
      "[*********************100%%**********************]  1 of 1 completed\n",
      "[*********************100%%**********************]  1 of 1 completed\n",
      "[*********************100%%**********************]  1 of 1 completed\n",
      "[*********************100%%**********************]  1 of 1 completed\n",
      "[*********************100%%**********************]  1 of 1 completed\n",
      "[*********************100%%**********************]  1 of 1 completed\n",
      "[*********************100%%**********************]  1 of 1 completed\n",
      "[*********************100%%**********************]  1 of 1 completed\n",
      "[*********************100%%**********************]  1 of 1 completed\n",
      "[*********************100%%**********************]  1 of 1 completed\n",
      "[*********************100%%**********************]  1 of 1 completed\n",
      "[*********************100%%**********************]  1 of 1 completed\n",
      "[*********************100%%**********************]  1 of 1 completed\n",
      "[*********************100%%**********************]  1 of 1 completed\n",
      "[*********************100%%**********************]  1 of 1 completed\n",
      "[*********************100%%**********************]  1 of 1 completed\n",
      "[*********************100%%**********************]  1 of 1 completed\n",
      "[*********************100%%**********************]  1 of 1 completed\n",
      "[*********************100%%**********************]  1 of 1 completed\n",
      "[*********************100%%**********************]  1 of 1 completed\n",
      "[*********************100%%**********************]  1 of 1 completed\n",
      "[*********************100%%**********************]  1 of 1 completed\n",
      "[*********************100%%**********************]  1 of 1 completed\n",
      "[*********************100%%**********************]  1 of 1 completed\n",
      "[*********************100%%**********************]  1 of 1 completed\n",
      "[*********************100%%**********************]  1 of 1 completed\n",
      "[*********************100%%**********************]  1 of 1 completed\n",
      "[*********************100%%**********************]  1 of 1 completed\n",
      "[*********************100%%**********************]  1 of 1 completed\n",
      "[*********************100%%**********************]  1 of 1 completed\n",
      "[*********************100%%**********************]  1 of 1 completed\n",
      "[*********************100%%**********************]  1 of 1 completed\n",
      "[*********************100%%**********************]  1 of 1 completed\n",
      "[*********************100%%**********************]  1 of 1 completed\n",
      "[*********************100%%**********************]  1 of 1 completed\n",
      "[*********************100%%**********************]  1 of 1 completed\n",
      "[*********************100%%**********************]  1 of 1 completed\n",
      "[*********************100%%**********************]  1 of 1 completed\n",
      "[*********************100%%**********************]  1 of 1 completed\n",
      "[*********************100%%**********************]  1 of 1 completed\n",
      "[*********************100%%**********************]  1 of 1 completed\n",
      "[*********************100%%**********************]  1 of 1 completed\n",
      "[*********************100%%**********************]  1 of 1 completed\n",
      "[*********************100%%**********************]  1 of 1 completed\n",
      "[*********************100%%**********************]  1 of 1 completed\n",
      "[*********************100%%**********************]  1 of 1 completed\n",
      "[*********************100%%**********************]  1 of 1 completed\n",
      "[*********************100%%**********************]  1 of 1 completed\n",
      "[*********************100%%**********************]  1 of 1 completed\n",
      "[*********************100%%**********************]  1 of 1 completed\n",
      "[*********************100%%**********************]  1 of 1 completed\n",
      "[*********************100%%**********************]  1 of 1 completed\n",
      "[*********************100%%**********************]  1 of 1 completed\n",
      "[*********************100%%**********************]  1 of 1 completed\n",
      "[*********************100%%**********************]  1 of 1 completed\n",
      "[*********************100%%**********************]  1 of 1 completed\n",
      "[*********************100%%**********************]  1 of 1 completed\n",
      "[*********************100%%**********************]  1 of 1 completed\n",
      "[*********************100%%**********************]  1 of 1 completed\n",
      "[*********************100%%**********************]  1 of 1 completed\n",
      "[*********************100%%**********************]  1 of 1 completed\n",
      "[*********************100%%**********************]  1 of 1 completed\n",
      "[*********************100%%**********************]  1 of 1 completed\n",
      "[*********************100%%**********************]  1 of 1 completed\n",
      "[*********************100%%**********************]  1 of 1 completed\n",
      "[*********************100%%**********************]  1 of 1 completed\n",
      "[*********************100%%**********************]  1 of 1 completed\n",
      "[*********************100%%**********************]  1 of 1 completed\n",
      "[*********************100%%**********************]  1 of 1 completed\n",
      "[*********************100%%**********************]  1 of 1 completed\n",
      "[*********************100%%**********************]  1 of 1 completed\n",
      "[*********************100%%**********************]  1 of 1 completed\n",
      "[*********************100%%**********************]  1 of 1 completed\n",
      "[*********************100%%**********************]  1 of 1 completed\n",
      "[*********************100%%**********************]  1 of 1 completed\n",
      "[*********************100%%**********************]  1 of 1 completed\n",
      "[*********************100%%**********************]  1 of 1 completed\n",
      "[*********************100%%**********************]  1 of 1 completed\n",
      "[*********************100%%**********************]  1 of 1 completed\n",
      "[*********************100%%**********************]  1 of 1 completed\n",
      "[*********************100%%**********************]  1 of 1 completed\n",
      "[*********************100%%**********************]  1 of 1 completed\n",
      "[*********************100%%**********************]  1 of 1 completed\n",
      "[*********************100%%**********************]  1 of 1 completed\n",
      "[*********************100%%**********************]  1 of 1 completed\n",
      "[*********************100%%**********************]  1 of 1 completed\n",
      "[*********************100%%**********************]  1 of 1 completed\n",
      "[*********************100%%**********************]  1 of 1 completed\n",
      "[*********************100%%**********************]  1 of 1 completed\n",
      "[*********************100%%**********************]  1 of 1 completed\n",
      "[*********************100%%**********************]  1 of 1 completed\n",
      "[*********************100%%**********************]  1 of 1 completed\n",
      "[*********************100%%**********************]  1 of 1 completed\n",
      "[*********************100%%**********************]  1 of 1 completed\n",
      "[*********************100%%**********************]  1 of 1 completed\n",
      "[*********************100%%**********************]  1 of 1 completed\n",
      "[*********************100%%**********************]  1 of 1 completed\n",
      "[*********************100%%**********************]  1 of 1 completed\n",
      "[*********************100%%**********************]  1 of 1 completed\n",
      "[*********************100%%**********************]  1 of 1 completed\n",
      "[*********************100%%**********************]  1 of 1 completed\n",
      "[*********************100%%**********************]  1 of 1 completed\n",
      "[*********************100%%**********************]  1 of 1 completed\n",
      "[*********************100%%**********************]  1 of 1 completed\n",
      "[*********************100%%**********************]  1 of 1 completed\n",
      "[*********************100%%**********************]  1 of 1 completed\n",
      "[*********************100%%**********************]  1 of 1 completed\n",
      "[*********************100%%**********************]  1 of 1 completed\n",
      "[*********************100%%**********************]  1 of 1 completed\n",
      "[*********************100%%**********************]  1 of 1 completed\n",
      "[*********************100%%**********************]  1 of 1 completed\n",
      "[*********************100%%**********************]  1 of 1 completed\n",
      "[*********************100%%**********************]  1 of 1 completed\n",
      "[*********************100%%**********************]  1 of 1 completed\n",
      "[*********************100%%**********************]  1 of 1 completed\n",
      "[*********************100%%**********************]  1 of 1 completed\n",
      "[*********************100%%**********************]  1 of 1 completed\n",
      "[*********************100%%**********************]  1 of 1 completed\n",
      "[*********************100%%**********************]  1 of 1 completed\n",
      "[*********************100%%**********************]  1 of 1 completed\n",
      "[*********************100%%**********************]  1 of 1 completed\n",
      "[*********************100%%**********************]  1 of 1 completed\n",
      "[*********************100%%**********************]  1 of 1 completed\n",
      "[*********************100%%**********************]  1 of 1 completed\n",
      "[*********************100%%**********************]  1 of 1 completed\n",
      "[*********************100%%**********************]  1 of 1 completed\n",
      "[*********************100%%**********************]  1 of 1 completed\n",
      "[*********************100%%**********************]  1 of 1 completed\n",
      "[*********************100%%**********************]  1 of 1 completed\n",
      "[*********************100%%**********************]  1 of 1 completed\n",
      "[*********************100%%**********************]  1 of 1 completed\n",
      "[*********************100%%**********************]  1 of 1 completed\n",
      "[*********************100%%**********************]  1 of 1 completed\n",
      "[*********************100%%**********************]  1 of 1 completed\n",
      "[*********************100%%**********************]  1 of 1 completed\n",
      "[*********************100%%**********************]  1 of 1 completed\n",
      "[*********************100%%**********************]  1 of 1 completed\n",
      "[*********************100%%**********************]  1 of 1 completed\n",
      "[*********************100%%**********************]  1 of 1 completed\n",
      "[*********************100%%**********************]  1 of 1 completed\n",
      "[*********************100%%**********************]  1 of 1 completed\n",
      "[*********************100%%**********************]  1 of 1 completed\n",
      "[*********************100%%**********************]  1 of 1 completed\n",
      "[*********************100%%**********************]  1 of 1 completed\n",
      "[*********************100%%**********************]  1 of 1 completed\n",
      "[*********************100%%**********************]  1 of 1 completed\n",
      "[*********************100%%**********************]  1 of 1 completed\n",
      "[*********************100%%**********************]  1 of 1 completed\n",
      "[*********************100%%**********************]  1 of 1 completed\n",
      "[*********************100%%**********************]  1 of 1 completed\n",
      "[*********************100%%**********************]  1 of 1 completed\n",
      "[*********************100%%**********************]  1 of 1 completed\n",
      "[*********************100%%**********************]  1 of 1 completed\n",
      "[*********************100%%**********************]  1 of 1 completed\n",
      "[*********************100%%**********************]  1 of 1 completed\n",
      "[*********************100%%**********************]  1 of 1 completed\n",
      "[*********************100%%**********************]  1 of 1 completed\n",
      "[*********************100%%**********************]  1 of 1 completed\n",
      "[*********************100%%**********************]  1 of 1 completed\n",
      "[*********************100%%**********************]  1 of 1 completed\n",
      "[*********************100%%**********************]  1 of 1 completed\n",
      "[*********************100%%**********************]  1 of 1 completed\n",
      "[*********************100%%**********************]  1 of 1 completed\n",
      "[*********************100%%**********************]  1 of 1 completed\n",
      "[*********************100%%**********************]  1 of 1 completed\n",
      "[*********************100%%**********************]  1 of 1 completed\n",
      "[*********************100%%**********************]  1 of 1 completed\n",
      "[*********************100%%**********************]  1 of 1 completed\n",
      "[*********************100%%**********************]  1 of 1 completed\n",
      "[*********************100%%**********************]  1 of 1 completed\n",
      "[*********************100%%**********************]  1 of 1 completed\n",
      "[*********************100%%**********************]  1 of 1 completed\n",
      "[*********************100%%**********************]  1 of 1 completed\n",
      "[*********************100%%**********************]  1 of 1 completed\n",
      "[*********************100%%**********************]  1 of 1 completed\n",
      "[*********************100%%**********************]  1 of 1 completed\n",
      "[*********************100%%**********************]  1 of 1 completed\n",
      "[*********************100%%**********************]  1 of 1 completed\n",
      "[*********************100%%**********************]  1 of 1 completed\n",
      "[*********************100%%**********************]  1 of 1 completed\n",
      "[*********************100%%**********************]  1 of 1 completed\n",
      "[*********************100%%**********************]  1 of 1 completed\n",
      "[*********************100%%**********************]  1 of 1 completed\n",
      "[*********************100%%**********************]  1 of 1 completed\n",
      "[*********************100%%**********************]  1 of 1 completed\n",
      "[*********************100%%**********************]  1 of 1 completed\n",
      "[*********************100%%**********************]  1 of 1 completed\n",
      "[*********************100%%**********************]  1 of 1 completed\n",
      "[*********************100%%**********************]  1 of 1 completed\n",
      "[*********************100%%**********************]  1 of 1 completed\n",
      "[*********************100%%**********************]  1 of 1 completed\n",
      "[*********************100%%**********************]  1 of 1 completed\n",
      "[*********************100%%**********************]  1 of 1 completed\n",
      "[*********************100%%**********************]  1 of 1 completed\n",
      "[*********************100%%**********************]  1 of 1 completed\n",
      "[*********************100%%**********************]  1 of 1 completed\n",
      "[*********************100%%**********************]  1 of 1 completed\n",
      "[*********************100%%**********************]  1 of 1 completed\n",
      "[*********************100%%**********************]  1 of 1 completed\n",
      "[*********************100%%**********************]  1 of 1 completed\n",
      "[*********************100%%**********************]  1 of 1 completed\n",
      "[*********************100%%**********************]  1 of 1 completed\n",
      "[*********************100%%**********************]  1 of 1 completed\n",
      "[*********************100%%**********************]  1 of 1 completed\n",
      "[*********************100%%**********************]  1 of 1 completed\n",
      "[*********************100%%**********************]  1 of 1 completed\n",
      "[*********************100%%**********************]  1 of 1 completed\n",
      "[*********************100%%**********************]  1 of 1 completed\n",
      "[*********************100%%**********************]  1 of 1 completed\n",
      "[*********************100%%**********************]  1 of 1 completed\n",
      "[*********************100%%**********************]  1 of 1 completed\n",
      "[*********************100%%**********************]  1 of 1 completed\n",
      "[*********************100%%**********************]  1 of 1 completed\n",
      "[*********************100%%**********************]  1 of 1 completed\n",
      "[*********************100%%**********************]  1 of 1 completed\n",
      "[*********************100%%**********************]  1 of 1 completed\n",
      "[*********************100%%**********************]  1 of 1 completed\n",
      "[*********************100%%**********************]  1 of 1 completed\n",
      "[*********************100%%**********************]  1 of 1 completed\n",
      "[*********************100%%**********************]  1 of 1 completed\n",
      "[*********************100%%**********************]  1 of 1 completed\n",
      "[*********************100%%**********************]  1 of 1 completed\n",
      "[*********************100%%**********************]  1 of 1 completed\n",
      "[*********************100%%**********************]  1 of 1 completed\n",
      "[*********************100%%**********************]  1 of 1 completed\n",
      "[*********************100%%**********************]  1 of 1 completed\n",
      "[*********************100%%**********************]  1 of 1 completed\n",
      "[*********************100%%**********************]  1 of 1 completed\n",
      "[*********************100%%**********************]  1 of 1 completed\n",
      "[*********************100%%**********************]  1 of 1 completed\n",
      "[*********************100%%**********************]  1 of 1 completed\n",
      "[*********************100%%**********************]  1 of 1 completed\n",
      "[*********************100%%**********************]  1 of 1 completed\n",
      "[*********************100%%**********************]  1 of 1 completed\n",
      "[*********************100%%**********************]  1 of 1 completed\n",
      "[*********************100%%**********************]  1 of 1 completed\n",
      "[*********************100%%**********************]  1 of 1 completed\n",
      "[*********************100%%**********************]  1 of 1 completed\n",
      "[*********************100%%**********************]  1 of 1 completed\n",
      "[*********************100%%**********************]  1 of 1 completed\n",
      "[*********************100%%**********************]  1 of 1 completed\n",
      "[*********************100%%**********************]  1 of 1 completed\n",
      "[*********************100%%**********************]  1 of 1 completed\n",
      "[*********************100%%**********************]  1 of 1 completed\n",
      "[*********************100%%**********************]  1 of 1 completed\n",
      "[*********************100%%**********************]  1 of 1 completed\n",
      "[*********************100%%**********************]  1 of 1 completed\n",
      "[*********************100%%**********************]  1 of 1 completed\n",
      "[*********************100%%**********************]  1 of 1 completed\n",
      "[*********************100%%**********************]  1 of 1 completed\n",
      "[*********************100%%**********************]  1 of 1 completed\n",
      "[*********************100%%**********************]  1 of 1 completed\n",
      "[*********************100%%**********************]  1 of 1 completed\n",
      "[*********************100%%**********************]  1 of 1 completed\n",
      "[*********************100%%**********************]  1 of 1 completed\n",
      "[*********************100%%**********************]  1 of 1 completed\n",
      "[*********************100%%**********************]  1 of 1 completed\n",
      "[*********************100%%**********************]  1 of 1 completed\n",
      "[*********************100%%**********************]  1 of 1 completed\n",
      "[*********************100%%**********************]  1 of 1 completed\n",
      "[*********************100%%**********************]  1 of 1 completed\n",
      "[*********************100%%**********************]  1 of 1 completed\n",
      "[*********************100%%**********************]  1 of 1 completed\n",
      "[*********************100%%**********************]  1 of 1 completed\n",
      "[*********************100%%**********************]  1 of 1 completed\n",
      "[*********************100%%**********************]  1 of 1 completed\n",
      "[*********************100%%**********************]  1 of 1 completed\n",
      "[*********************100%%**********************]  1 of 1 completed\n",
      "[*********************100%%**********************]  1 of 1 completed\n",
      "[*********************100%%**********************]  1 of 1 completed\n",
      "[*********************100%%**********************]  1 of 1 completed\n",
      "[*********************100%%**********************]  1 of 1 completed\n",
      "[*********************100%%**********************]  1 of 1 completed\n",
      "[*********************100%%**********************]  1 of 1 completed\n",
      "[*********************100%%**********************]  1 of 1 completed\n",
      "[*********************100%%**********************]  1 of 1 completed\n",
      "[*********************100%%**********************]  1 of 1 completed\n",
      "[*********************100%%**********************]  1 of 1 completed\n",
      "[*********************100%%**********************]  1 of 1 completed\n",
      "[*********************100%%**********************]  1 of 1 completed\n",
      "[*********************100%%**********************]  1 of 1 completed\n",
      "[*********************100%%**********************]  1 of 1 completed\n",
      "[*********************100%%**********************]  1 of 1 completed\n",
      "[*********************100%%**********************]  1 of 1 completed\n",
      "[*********************100%%**********************]  1 of 1 completed\n",
      "[*********************100%%**********************]  1 of 1 completed\n",
      "[*********************100%%**********************]  1 of 1 completed\n",
      "[*********************100%%**********************]  1 of 1 completed\n",
      "[*********************100%%**********************]  1 of 1 completed\n",
      "[*********************100%%**********************]  1 of 1 completed\n",
      "[*********************100%%**********************]  1 of 1 completed\n",
      "[*********************100%%**********************]  1 of 1 completed\n",
      "[*********************100%%**********************]  1 of 1 completed\n",
      "[*********************100%%**********************]  1 of 1 completed\n",
      "[*********************100%%**********************]  1 of 1 completed\n",
      "[*********************100%%**********************]  1 of 1 completed\n",
      "[*********************100%%**********************]  1 of 1 completed\n",
      "[*********************100%%**********************]  1 of 1 completed\n",
      "[*********************100%%**********************]  1 of 1 completed\n",
      "[*********************100%%**********************]  1 of 1 completed\n",
      "[*********************100%%**********************]  1 of 1 completed\n",
      "[*********************100%%**********************]  1 of 1 completed\n",
      "[*********************100%%**********************]  1 of 1 completed\n",
      "[*********************100%%**********************]  1 of 1 completed\n",
      "[*********************100%%**********************]  1 of 1 completed\n",
      "[*********************100%%**********************]  1 of 1 completed\n",
      "[*********************100%%**********************]  1 of 1 completed\n",
      "[*********************100%%**********************]  1 of 1 completed\n",
      "[*********************100%%**********************]  1 of 1 completed\n",
      "[*********************100%%**********************]  1 of 1 completed\n",
      "[*********************100%%**********************]  1 of 1 completed\n",
      "[*********************100%%**********************]  1 of 1 completed\n",
      "[*********************100%%**********************]  1 of 1 completed\n"
     ]
    },
    {
     "ename": "ValueError",
     "evalue": "Cannot set a DataFrame with multiple columns to the single column GSFC.NS",
     "output_type": "error",
     "traceback": [
      "\u001B[1;31m---------------------------------------------------------------------------\u001B[0m",
      "\u001B[1;31mValueError\u001B[0m                                Traceback (most recent call last)",
      "Cell \u001B[1;32mIn[21], line 20\u001B[0m\n\u001B[0;32m     18\u001B[0m \u001B[38;5;66;03m# Concatenate monthly returns into a single DataFrame\u001B[39;00m\n\u001B[0;32m     19\u001B[0m \u001B[38;5;28;01mfor\u001B[39;00m symbol \u001B[38;5;129;01min\u001B[39;00m df_sh\u001B[38;5;241m.\u001B[39mkeys():\n\u001B[1;32m---> 20\u001B[0m     all_stock_returns[symbol] \u001B[38;5;241m=\u001B[39m df_sh[symbol]\n",
      "File \u001B[1;32m~\\AppData\\Roaming\\Python\\Python310\\site-packages\\pandas\\core\\frame.py:3940\u001B[0m, in \u001B[0;36mDataFrame.__setitem__\u001B[1;34m(self, key, value)\u001B[0m\n\u001B[0;32m   3938\u001B[0m     \u001B[38;5;28mself\u001B[39m\u001B[38;5;241m.\u001B[39m_setitem_array(key, value)\n\u001B[0;32m   3939\u001B[0m \u001B[38;5;28;01melif\u001B[39;00m \u001B[38;5;28misinstance\u001B[39m(value, DataFrame):\n\u001B[1;32m-> 3940\u001B[0m     \u001B[38;5;28;43mself\u001B[39;49m\u001B[38;5;241;43m.\u001B[39;49m\u001B[43m_set_item_frame_value\u001B[49m\u001B[43m(\u001B[49m\u001B[43mkey\u001B[49m\u001B[43m,\u001B[49m\u001B[43m \u001B[49m\u001B[43mvalue\u001B[49m\u001B[43m)\u001B[49m\n\u001B[0;32m   3941\u001B[0m \u001B[38;5;28;01melif\u001B[39;00m (\n\u001B[0;32m   3942\u001B[0m     is_list_like(value)\n\u001B[0;32m   3943\u001B[0m     \u001B[38;5;129;01mand\u001B[39;00m \u001B[38;5;129;01mnot\u001B[39;00m \u001B[38;5;28mself\u001B[39m\u001B[38;5;241m.\u001B[39mcolumns\u001B[38;5;241m.\u001B[39mis_unique\n\u001B[0;32m   3944\u001B[0m     \u001B[38;5;129;01mand\u001B[39;00m \u001B[38;5;241m1\u001B[39m \u001B[38;5;241m<\u001B[39m \u001B[38;5;28mlen\u001B[39m(\u001B[38;5;28mself\u001B[39m\u001B[38;5;241m.\u001B[39mcolumns\u001B[38;5;241m.\u001B[39mget_indexer_for([key])) \u001B[38;5;241m==\u001B[39m \u001B[38;5;28mlen\u001B[39m(value)\n\u001B[0;32m   3945\u001B[0m ):\n\u001B[0;32m   3946\u001B[0m     \u001B[38;5;66;03m# Column to set is duplicated\u001B[39;00m\n\u001B[0;32m   3947\u001B[0m     \u001B[38;5;28mself\u001B[39m\u001B[38;5;241m.\u001B[39m_setitem_array([key], value)\n",
      "File \u001B[1;32m~\\AppData\\Roaming\\Python\\Python310\\site-packages\\pandas\\core\\frame.py:4094\u001B[0m, in \u001B[0;36mDataFrame._set_item_frame_value\u001B[1;34m(self, key, value)\u001B[0m\n\u001B[0;32m   4091\u001B[0m     \u001B[38;5;28;01mreturn\u001B[39;00m\n\u001B[0;32m   4093\u001B[0m \u001B[38;5;28;01mif\u001B[39;00m \u001B[38;5;28mlen\u001B[39m(value\u001B[38;5;241m.\u001B[39mcolumns) \u001B[38;5;241m!=\u001B[39m \u001B[38;5;241m1\u001B[39m:\n\u001B[1;32m-> 4094\u001B[0m     \u001B[38;5;28;01mraise\u001B[39;00m \u001B[38;5;167;01mValueError\u001B[39;00m(\n\u001B[0;32m   4095\u001B[0m         \u001B[38;5;124m\"\u001B[39m\u001B[38;5;124mCannot set a DataFrame with multiple columns to the single \u001B[39m\u001B[38;5;124m\"\u001B[39m\n\u001B[0;32m   4096\u001B[0m         \u001B[38;5;124mf\u001B[39m\u001B[38;5;124m\"\u001B[39m\u001B[38;5;124mcolumn \u001B[39m\u001B[38;5;132;01m{\u001B[39;00mkey\u001B[38;5;132;01m}\u001B[39;00m\u001B[38;5;124m\"\u001B[39m\n\u001B[0;32m   4097\u001B[0m     )\n\u001B[0;32m   4099\u001B[0m \u001B[38;5;28mself\u001B[39m[key] \u001B[38;5;241m=\u001B[39m value[value\u001B[38;5;241m.\u001B[39mcolumns[\u001B[38;5;241m0\u001B[39m]]\n",
      "\u001B[1;31mValueError\u001B[0m: Cannot set a DataFrame with multiple columns to the single column GSFC.NS"
     ]
    }
   ],
   "source": [
    "df_sh = {}\n",
    "\n",
    "for symbol in tiker_name:\n",
    "    try:\n",
    "        df_sh[symbol] = yf.download(symbol,start=\"2018-01-18\",end=\"2024-01-18\",interval=\"1d\")\n",
    "\n",
    "        # Calculate daily returns\n",
    "        df_sh[symbol]['Daily_Return'] = df_sh[symbol]['Close'].pct_change()\n",
    "\n",
    "        # # Resample to get monthly returns\n",
    "        # df_sh[symbol] = df_sh[symbol]['Daily_Return'].resample('M').apply(lambda x: (x + 1).prod() - 1)\n",
    "    except Exception as e:\n",
    "        print(f\"Error fetching data for {symbol}: {e}\")\n",
    "\n",
    "# Create an empty DataFrame to store monthly returns of all stocks\n",
    "all_stock_returns = pd.DataFrame()\n",
    "\n",
    "# Concatenate monthly returns into a single DataFrame\n",
    "for symbol in df_sh.keys():\n",
    "    all_stock_returns[symbol] = df_sh[symbol]\n",
    "\n",
    "# # Example: Printing the resulting DataFrame\n",
    "# print(all_stock_returns)"
   ],
   "metadata": {
    "collapsed": false,
    "pycharm": {
     "name": "#%%\n"
    }
   }
  },
  {
   "cell_type": "code",
   "execution_count": 22,
   "outputs": [
    {
     "data": {
      "text/plain": "Empty DataFrame\nColumns: []\nIndex: [2018-01-18 00:00:00, 2018-01-19 00:00:00, 2018-01-22 00:00:00, 2018-01-23 00:00:00, 2018-01-24 00:00:00, 2018-01-25 00:00:00, 2018-01-29 00:00:00, 2018-01-30 00:00:00, 2018-01-31 00:00:00, 2018-02-01 00:00:00, 2018-02-02 00:00:00, 2018-02-05 00:00:00, 2018-02-06 00:00:00, 2018-02-07 00:00:00, 2018-02-08 00:00:00, 2018-02-09 00:00:00, 2018-02-12 00:00:00, 2018-02-14 00:00:00, 2018-02-15 00:00:00, 2018-02-16 00:00:00, 2018-02-19 00:00:00, 2018-02-20 00:00:00, 2018-02-21 00:00:00, 2018-02-22 00:00:00, 2018-02-23 00:00:00, 2018-02-26 00:00:00, 2018-02-27 00:00:00, 2018-02-28 00:00:00, 2018-03-01 00:00:00, 2018-03-05 00:00:00, 2018-03-06 00:00:00, 2018-03-07 00:00:00, 2018-03-08 00:00:00, 2018-03-09 00:00:00, 2018-03-12 00:00:00, 2018-03-13 00:00:00, 2018-03-14 00:00:00, 2018-03-15 00:00:00, 2018-03-16 00:00:00, 2018-03-19 00:00:00, 2018-03-20 00:00:00, 2018-03-21 00:00:00, 2018-03-22 00:00:00, 2018-03-23 00:00:00, 2018-03-26 00:00:00, 2018-03-27 00:00:00, 2018-03-28 00:00:00, 2018-04-02 00:00:00, 2018-04-03 00:00:00, 2018-04-04 00:00:00, 2018-04-05 00:00:00, 2018-04-06 00:00:00, 2018-04-09 00:00:00, 2018-04-10 00:00:00, 2018-04-11 00:00:00, 2018-04-12 00:00:00, 2018-04-13 00:00:00, 2018-04-16 00:00:00, 2018-04-17 00:00:00, 2018-04-18 00:00:00, 2018-04-19 00:00:00, 2018-04-20 00:00:00, 2018-04-23 00:00:00, 2018-04-24 00:00:00, 2018-04-25 00:00:00, 2018-04-26 00:00:00, 2018-04-27 00:00:00, 2018-04-30 00:00:00, 2018-05-02 00:00:00, 2018-05-03 00:00:00, 2018-05-04 00:00:00, 2018-05-07 00:00:00, 2018-05-08 00:00:00, 2018-05-09 00:00:00, 2018-05-10 00:00:00, 2018-05-11 00:00:00, 2018-05-14 00:00:00, 2018-05-15 00:00:00, 2018-05-16 00:00:00, 2018-05-17 00:00:00, 2018-05-18 00:00:00, 2018-05-21 00:00:00, 2018-05-22 00:00:00, 2018-05-23 00:00:00, 2018-05-24 00:00:00, 2018-05-25 00:00:00, 2018-05-28 00:00:00, 2018-05-29 00:00:00, 2018-05-30 00:00:00, 2018-05-31 00:00:00, 2018-06-01 00:00:00, 2018-06-04 00:00:00, 2018-06-05 00:00:00, 2018-06-06 00:00:00, 2018-06-07 00:00:00, 2018-06-08 00:00:00, 2018-06-11 00:00:00, 2018-06-12 00:00:00, 2018-06-13 00:00:00, 2018-06-14 00:00:00, ...]\n\n[1481 rows x 0 columns]",
      "text/html": "<div>\n<style scoped>\n    .dataframe tbody tr th:only-of-type {\n        vertical-align: middle;\n    }\n\n    .dataframe tbody tr th {\n        vertical-align: top;\n    }\n\n    .dataframe thead th {\n        text-align: right;\n    }\n</style>\n<table border=\"1\" class=\"dataframe\">\n  <thead>\n    <tr style=\"text-align: right;\">\n      <th></th>\n    </tr>\n    <tr>\n      <th>Date</th>\n    </tr>\n  </thead>\n  <tbody>\n    <tr>\n      <th>2018-01-18</th>\n    </tr>\n    <tr>\n      <th>2018-01-19</th>\n    </tr>\n    <tr>\n      <th>2018-01-22</th>\n    </tr>\n    <tr>\n      <th>2018-01-23</th>\n    </tr>\n    <tr>\n      <th>2018-01-24</th>\n    </tr>\n    <tr>\n      <th>...</th>\n    </tr>\n    <tr>\n      <th>2024-01-11</th>\n    </tr>\n    <tr>\n      <th>2024-01-12</th>\n    </tr>\n    <tr>\n      <th>2024-01-15</th>\n    </tr>\n    <tr>\n      <th>2024-01-16</th>\n    </tr>\n    <tr>\n      <th>2024-01-17</th>\n    </tr>\n  </tbody>\n</table>\n<p>1481 rows × 0 columns</p>\n</div>"
     },
     "execution_count": 22,
     "metadata": {},
     "output_type": "execute_result"
    }
   ],
   "source": [
    "all_stock_returns"
   ],
   "metadata": {
    "collapsed": false,
    "pycharm": {
     "name": "#%%\n"
    }
   }
  },
  {
   "cell_type": "code",
   "execution_count": 23,
   "outputs": [
    {
     "data": {
      "text/plain": "501"
     },
     "execution_count": 23,
     "metadata": {},
     "output_type": "execute_result"
    }
   ],
   "source": [
    "len(tiker_name)"
   ],
   "metadata": {
    "collapsed": false,
    "pycharm": {
     "name": "#%%\n"
    }
   }
  },
  {
   "cell_type": "code",
   "execution_count": 25,
   "outputs": [
    {
     "data": {
      "text/plain": "500"
     },
     "execution_count": 25,
     "metadata": {},
     "output_type": "execute_result"
    }
   ],
   "source": [
    "for i in tiker_name:\n",
    "    if i==\"GSFC.NS\":\n",
    "        tiker_name.remove(i)\n",
    "len(tiker_name)\n"
   ],
   "metadata": {
    "collapsed": false,
    "pycharm": {
     "name": "#%%\n"
    }
   }
  },
  {
   "cell_type": "code",
   "execution_count": null,
   "outputs": [],
   "source": [
    "GSFC.NS"
   ],
   "metadata": {
    "collapsed": false,
    "pycharm": {
     "name": "#%%\n"
    }
   }
  },
  {
   "cell_type": "code",
   "execution_count": 26,
   "outputs": [
    {
     "name": "stdout",
     "output_type": "stream",
     "text": [
      "[*********************100%%**********************]  1 of 1 completed\n",
      "Error fetching data for JBMA.NS: 'JBMA.NS'\n",
      "[*********************100%%**********************]  1 of 1 completed\n",
      "Error fetching data for ALKYLAMINE.NS: 'ALKYLAMINE.NS'\n",
      "[*********************100%%**********************]  1 of 1 completed\n",
      "Error fetching data for CASTROLIND.NS: 'CASTROLIND.NS'\n",
      "[*********************100%%**********************]  1 of 1 completed\n",
      "Error fetching data for IDEA.NS: 'IDEA.NS'\n",
      "[*********************100%%**********************]  1 of 1 completed\n",
      "Error fetching data for SPARC.NS: 'SPARC.NS'\n",
      "[*********************100%%**********************]  1 of 1 completed\n",
      "Error fetching data for ENGINERSIN.NS: 'ENGINERSIN.NS'\n",
      "[*********************100%%**********************]  1 of 1 completed\n",
      "Error fetching data for JUBLPHARMA.NS: 'JUBLPHARMA.NS'\n",
      "[*********************100%%**********************]  1 of 1 completed\n",
      "Error fetching data for GNFC.NS: 'GNFC.NS'\n",
      "[*********************100%%**********************]  1 of 1 completed\n",
      "Error fetching data for GUJGASLTD.NS: 'GUJGASLTD.NS'\n",
      "[*********************100%%**********************]  1 of 1 completed\n",
      "Error fetching data for CIEINDIA.NS: 'CIEINDIA.NS'\n",
      "[*********************100%%**********************]  1 of 1 completed\n",
      "Error fetching data for GODREJIND.NS: 'GODREJIND.NS'\n",
      "[*********************100%%**********************]  1 of 1 completed\n",
      "Error fetching data for GSPL.NS: 'GSPL.NS'\n",
      "[*********************100%%**********************]  1 of 1 completed\n",
      "Error fetching data for YESBANK.NS: 'YESBANK.NS'\n",
      "[*********************100%%**********************]  1 of 1 completed\n",
      "Error fetching data for CENTURYTEX.NS: 'CENTURYTEX.NS'\n",
      "[*********************100%%**********************]  1 of 1 completed\n",
      "Error fetching data for FORTIS.NS: 'FORTIS.NS'\n",
      "[*********************100%%**********************]  1 of 1 completed\n",
      "Error fetching data for RCF.NS: 'RCF.NS'\n",
      "[*********************100%%**********************]  1 of 1 completed\n",
      "Error fetching data for GUJALKALI.NS: 'GUJALKALI.NS'\n",
      "[*********************100%%**********************]  1 of 1 completed\n",
      "Error fetching data for ROUTE.NS: 'ROUTE.NS'\n",
      "[*********************100%%**********************]  1 of 1 completed\n",
      "Error fetching data for LICHSGFIN.NS: 'LICHSGFIN.NS'\n",
      "[*********************100%%**********************]  1 of 1 completed\n",
      "Error fetching data for BIRLACORPN.NS: 'BIRLACORPN.NS'\n",
      "[*********************100%%**********************]  1 of 1 completed\n",
      "Error fetching data for AVANTIFEED.NS: 'AVANTIFEED.NS'\n",
      "[*********************100%%**********************]  1 of 1 completed\n",
      "Error fetching data for WELCORP.NS: 'WELCORP.NS'\n",
      "[*********************100%%**********************]  1 of 1 completed\n",
      "Error fetching data for MOTHERSON.NS: 'MOTHERSON.NS'\n",
      "[*********************100%%**********************]  1 of 1 completed\n",
      "Error fetching data for STLTECH.NS: 'STLTECH.NS'\n",
      "[*********************100%%**********************]  1 of 1 completed\n",
      "Error fetching data for DELTACORP.NS: 'DELTACORP.NS'\n",
      "[*********************100%%**********************]  1 of 1 completed\n",
      "Error fetching data for DALBHARAT.NS: 'DALBHARAT.NS'\n",
      "[*********************100%%**********************]  1 of 1 completed\n",
      "Error fetching data for AWL.NS: 'AWL.NS'\n",
      "[*********************100%%**********************]  1 of 1 completed\n",
      "Error fetching data for POWERINDIA.NS: 'POWERINDIA.NS'\n",
      "[*********************100%%**********************]  1 of 1 completed\n",
      "Error fetching data for TV18BRDCST.NS: 'TV18BRDCST.NS'\n",
      "[*********************100%%**********************]  1 of 1 completed\n",
      "Error fetching data for FLUOROCHEM.NS: 'FLUOROCHEM.NS'\n",
      "[*********************100%%**********************]  1 of 1 completed\n",
      "Error fetching data for APTUS.NS: 'APTUS.NS'\n",
      "[*********************100%%**********************]  1 of 1 completed\n",
      "Error fetching data for GPPL.NS: 'GPPL.NS'\n",
      "[*********************100%%**********************]  1 of 1 completed\n",
      "Error fetching data for SWSOLAR.NS: 'SWSOLAR.NS'\n",
      "[*********************100%%**********************]  1 of 1 completed\n",
      "Error fetching data for GLAXO.NS: 'GLAXO.NS'\n",
      "[*********************100%%**********************]  1 of 1 completed\n",
      "Error fetching data for CENTURYPLY.NS: 'CENTURYPLY.NS'\n",
      "[*********************100%%**********************]  1 of 1 completed\n",
      "Error fetching data for SOBHA.NS: 'SOBHA.NS'\n",
      "[*********************100%%**********************]  1 of 1 completed\n",
      "Error fetching data for NIACL.NS: 'NIACL.NS'\n",
      "[*********************100%%**********************]  1 of 1 completed\n",
      "Error fetching data for PFC.NS: 'PFC.NS'\n",
      "[*********************100%%**********************]  1 of 1 completed\n",
      "Error fetching data for INFIBEAM.NS: 'INFIBEAM.NS'\n",
      "[*********************100%%**********************]  1 of 1 completed\n",
      "Error fetching data for NESTLEIND.NS: 'NESTLEIND.NS'\n",
      "[*********************100%%**********************]  1 of 1 completed\n",
      "Error fetching data for LICI.NS: 'LICI.NS'\n",
      "[*********************100%%**********************]  1 of 1 completed\n",
      "Error fetching data for ANGELONE.NS: 'ANGELONE.NS'\n",
      "[*********************100%%**********************]  1 of 1 completed\n",
      "Error fetching data for CESC.NS: 'CESC.NS'\n",
      "[*********************100%%**********************]  1 of 1 completed\n",
      "Error fetching data for GAIL.NS: 'GAIL.NS'\n",
      "[*********************100%%**********************]  1 of 1 completed\n",
      "Error fetching data for ZEEL.NS: 'ZEEL.NS'\n",
      "[*********************100%%**********************]  1 of 1 completed\n",
      "Error fetching data for JINDALSAW.NS: 'JINDALSAW.NS'\n",
      "[*********************100%%**********************]  1 of 1 completed\n",
      "Error fetching data for CLEAN.NS: 'CLEAN.NS'\n",
      "[*********************100%%**********************]  1 of 1 completed\n",
      "Error fetching data for RECLTD.NS: 'RECLTD.NS'\n",
      "[*********************100%%**********************]  1 of 1 completed\n",
      "Error fetching data for HUDCO.NS: 'HUDCO.NS'\n",
      "[*********************100%%**********************]  1 of 1 completed\n",
      "Error fetching data for NATIONALUM.NS: 'NATIONALUM.NS'\n",
      "[*********************100%%**********************]  1 of 1 completed\n",
      "Error fetching data for KEC.NS: 'KEC.NS'\n",
      "[*********************100%%**********************]  1 of 1 completed\n",
      "Error fetching data for RAJESHEXPO.NS: 'RAJESHEXPO.NS'\n",
      "[*********************100%%**********************]  1 of 1 completed\n",
      "Error fetching data for RBA.NS: 'RBA.NS'\n",
      "[*********************100%%**********************]  1 of 1 completed\n",
      "Error fetching data for AJANTPHARM.NS: 'AJANTPHARM.NS'\n",
      "[*********************100%%**********************]  1 of 1 completed\n",
      "Error fetching data for OFSS.NS: 'OFSS.NS'\n",
      "[*********************100%%**********************]  1 of 1 completed\n",
      "Error fetching data for KAYNES.NS: 'KAYNES.NS'\n",
      "[*********************100%%**********************]  1 of 1 completed\n",
      "Error fetching data for ASHOKLEY.NS: 'ASHOKLEY.NS'\n",
      "[*********************100%%**********************]  1 of 1 completed\n",
      "Error fetching data for IRCON.NS: 'IRCON.NS'\n",
      "[*********************100%%**********************]  1 of 1 completed\n",
      "Error fetching data for BIOCON.NS: 'BIOCON.NS'\n",
      "[*********************100%%**********************]  1 of 1 completed\n",
      "Error fetching data for POLYPLEX.NS: 'POLYPLEX.NS'\n",
      "[*********************100%%**********************]  1 of 1 completed\n",
      "Error fetching data for SHYAMMETL.NS: 'SHYAMMETL.NS'\n",
      "[*********************100%%**********************]  1 of 1 completed\n",
      "Error fetching data for CUB.NS: 'CUB.NS'\n",
      "[*********************100%%**********************]  1 of 1 completed\n",
      "Error fetching data for STARHEALTH.NS: 'STARHEALTH.NS'\n",
      "[*********************100%%**********************]  1 of 1 completed\n",
      "Error fetching data for BHEL.NS: 'BHEL.NS'\n",
      "[*********************100%%**********************]  1 of 1 completed\n",
      "Error fetching data for LODHA.NS: 'LODHA.NS'\n",
      "[*********************100%%**********************]  1 of 1 completed\n",
      "Error fetching data for VIPIND.NS: 'VIPIND.NS'\n",
      "[*********************100%%**********************]  1 of 1 completed\n",
      "Error fetching data for NHPC.NS: 'NHPC.NS'\n",
      "[*********************100%%**********************]  1 of 1 completed\n",
      "Error fetching data for ZFCVINDIA.NS: 'ZFCVINDIA.NS'\n",
      "[*********************100%%**********************]  1 of 1 completed\n",
      "Error fetching data for KALYANKJIL.NS: 'KALYANKJIL.NS'\n",
      "[*********************100%%**********************]  1 of 1 completed\n",
      "Error fetching data for SJVN.NS: 'SJVN.NS'\n",
      "[*********************100%%**********************]  1 of 1 completed\n",
      "Error fetching data for AAVAS.NS: 'AAVAS.NS'\n",
      "[*********************100%%**********************]  1 of 1 completed\n",
      "Error fetching data for RAINBOW.NS: 'RAINBOW.NS'\n",
      "[*********************100%%**********************]  1 of 1 completed\n",
      "Error fetching data for ADANIENT.NS: 'ADANIENT.NS'\n",
      "[*********************100%%**********************]  1 of 1 completed\n",
      "Error fetching data for CAMPUS.NS: 'CAMPUS.NS'\n",
      "[*********************100%%**********************]  1 of 1 completed\n",
      "Error fetching data for MHRIL.NS: 'MHRIL.NS'\n",
      "[*********************100%%**********************]  1 of 1 completed\n",
      "Error fetching data for AMBUJACEM.NS: 'AMBUJACEM.NS'\n",
      "[*********************100%%**********************]  1 of 1 completed\n",
      "Error fetching data for ALLCARGO.NS: 'ALLCARGO.NS'\n",
      "[*********************100%%**********************]  1 of 1 completed\n",
      "Error fetching data for GPIL.NS: 'GPIL.NS'\n",
      "[*********************100%%**********************]  1 of 1 completed\n",
      "Error fetching data for OLECTRA.NS: 'OLECTRA.NS'\n",
      "[*********************100%%**********************]  1 of 1 completed\n",
      "Error fetching data for RADICO.NS: 'RADICO.NS'\n",
      "[*********************100%%**********************]  1 of 1 completed\n",
      "Error fetching data for PNB.NS: 'PNB.NS'\n",
      "[*********************100%%**********************]  1 of 1 completed\n",
      "Error fetching data for PAYTM.NS: 'PAYTM.NS'\n",
      "[*********************100%%**********************]  1 of 1 completed\n",
      "Error fetching data for PCBL.NS: 'PCBL.NS'\n",
      "[*********************100%%**********************]  1 of 1 completed\n",
      "Error fetching data for ADANIPORTS.NS: 'ADANIPORTS.NS'\n",
      "[*********************100%%**********************]  1 of 1 completed\n",
      "Error fetching data for JMFINANCIL.NS: 'JMFINANCIL.NS'\n",
      "[*********************100%%**********************]  1 of 1 completed\n",
      "Error fetching data for MOTILALOFS.NS: 'MOTILALOFS.NS'\n",
      "[*********************100%%**********************]  1 of 1 completed\n",
      "Error fetching data for ANURAS.NS: 'ANURAS.NS'\n",
      "[*********************100%%**********************]  1 of 1 completed\n",
      "Error fetching data for BLS.NS: 'BLS.NS'\n",
      "[*********************100%%**********************]  1 of 1 completed\n",
      "Error fetching data for NAM-INDIA.NS: 'NAM-INDIA.NS'\n",
      "[*********************100%%**********************]  1 of 1 completed\n",
      "Error fetching data for COALINDIA.NS: 'COALINDIA.NS'\n",
      "[*********************100%%**********************]  1 of 1 completed\n",
      "Error fetching data for CHAMBLFERT.NS: 'CHAMBLFERT.NS'\n",
      "[*********************100%%**********************]  1 of 1 completed\n",
      "Error fetching data for TECHM.NS: 'TECHM.NS'\n",
      "[*********************100%%**********************]  1 of 1 completed\n",
      "Error fetching data for OIL.NS: 'OIL.NS'\n",
      "[*********************100%%**********************]  1 of 1 completed\n",
      "Error fetching data for FACT.NS: 'FACT.NS'\n",
      "[*********************100%%**********************]  1 of 1 completed\n",
      "Error fetching data for ORIENTELEC.NS: 'ORIENTELEC.NS'\n",
      "[*********************100%%**********************]  1 of 1 completed\n",
      "Error fetching data for TATAMOTORS.NS: 'TATAMOTORS.NS'\n",
      "[*********************100%%**********************]  1 of 1 completed\n",
      "Error fetching data for SUMICHEM.NS: 'SUMICHEM.NS'\n",
      "[*********************100%%**********************]  1 of 1 completed\n",
      "Error fetching data for ACC.NS: 'ACC.NS'\n",
      "[*********************100%%**********************]  1 of 1 completed\n",
      "Error fetching data for VTL.NS: 'VTL.NS'\n",
      "[*********************100%%**********************]  1 of 1 completed\n",
      "Error fetching data for TIINDIA.NS: 'TIINDIA.NS'\n",
      "[*********************100%%**********************]  1 of 1 completed\n",
      "Error fetching data for PETRONET.NS: 'PETRONET.NS'\n",
      "[*********************100%%**********************]  1 of 1 completed\n",
      "Error fetching data for TATAMTRDVR.NS: 'TATAMTRDVR.NS'\n",
      "[*********************100%%**********************]  1 of 1 completed\n",
      "Error fetching data for ICICIGI.NS: 'ICICIGI.NS'\n",
      "[*********************100%%**********************]  1 of 1 completed\n",
      "Error fetching data for HONAUT.NS: 'HONAUT.NS'\n",
      "[*********************100%%**********************]  1 of 1 completed\n",
      "Error fetching data for EMAMILTD.NS: 'EMAMILTD.NS'\n",
      "[*********************100%%**********************]  1 of 1 completed\n",
      "Error fetching data for GRANULES.NS: 'GRANULES.NS'\n",
      "[*********************100%%**********************]  1 of 1 completed\n",
      "Error fetching data for CONCORDBIO.NS: 'CONCORDBIO.NS'\n",
      "[*********************100%%**********************]  1 of 1 completed\n",
      "Error fetching data for RALLIS.NS: 'RALLIS.NS'\n",
      "[*********************100%%**********************]  1 of 1 completed\n",
      "Error fetching data for SYNGENE.NS: 'SYNGENE.NS'\n",
      "[*********************100%%**********************]  1 of 1 completed\n",
      "Error fetching data for GICRE.NS: 'GICRE.NS'\n",
      "[*********************100%%**********************]  1 of 1 completed\n",
      "Error fetching data for ZYDUSLIFE.NS: 'ZYDUSLIFE.NS'\n",
      "[*********************100%%**********************]  1 of 1 completed\n",
      "Error fetching data for NETWORK18.NS: 'NETWORK18.NS'\n",
      "[*********************100%%**********************]  1 of 1 completed\n",
      "Error fetching data for AARTIDRUGS.NS: 'AARTIDRUGS.NS'\n",
      "[*********************100%%**********************]  1 of 1 completed\n",
      "Error fetching data for UNIONBANK.NS: 'UNIONBANK.NS'\n",
      "[*********************100%%**********************]  1 of 1 completed\n",
      "Error fetching data for ALOKINDS.NS: 'ALOKINDS.NS'\n",
      "[*********************100%%**********************]  1 of 1 completed\n",
      "Error fetching data for ATGL.NS: 'ATGL.NS'\n",
      "[*********************100%%**********************]  1 of 1 completed\n",
      "Error fetching data for IIFL.NS: 'IIFL.NS'\n",
      "[*********************100%%**********************]  1 of 1 completed\n",
      "Error fetching data for GODREJCP.NS: 'GODREJCP.NS'\n",
      "[*********************100%%**********************]  1 of 1 completed\n",
      "Error fetching data for ARE&M.NS: 'ARE&M.NS'\n",
      "[*********************100%%**********************]  1 of 1 completed\n",
      "Error fetching data for KPIL.NS: 'KPIL.NS'\n",
      "[*********************100%%**********************]  1 of 1 completed\n",
      "Error fetching data for KARURVYSYA.NS: 'KARURVYSYA.NS'\n",
      "[*********************100%%**********************]  1 of 1 completed\n",
      "Error fetching data for EXIDEIND.NS: 'EXIDEIND.NS'\n",
      "[*********************100%%**********************]  1 of 1 completed\n",
      "Error fetching data for NMDC.NS: 'NMDC.NS'\n",
      "[*********************100%%**********************]  1 of 1 completed\n",
      "Error fetching data for BDL.NS: 'BDL.NS'\n",
      "[*********************100%%**********************]  1 of 1 completed\n",
      "Error fetching data for VMART.NS: 'VMART.NS'\n",
      "[*********************100%%**********************]  1 of 1 completed\n",
      "Error fetching data for MAHABANK.NS: 'MAHABANK.NS'\n",
      "[*********************100%%**********************]  1 of 1 completed\n",
      "Error fetching data for AFFLE.NS: 'AFFLE.NS'\n",
      "[*********************100%%**********************]  1 of 1 completed\n",
      "Error fetching data for RBLBANK.NS: 'RBLBANK.NS'\n",
      "[*********************100%%**********************]  1 of 1 completed\n",
      "Error fetching data for SUPRAJIT.NS: 'SUPRAJIT.NS'\n",
      "[*********************100%%**********************]  1 of 1 completed\n",
      "Error fetching data for BAJAJHLDNG.NS: 'BAJAJHLDNG.NS'\n",
      "[*********************100%%**********************]  1 of 1 completed\n",
      "Error fetching data for DEEPAKFERT.NS: 'DEEPAKFERT.NS'\n",
      "[*********************100%%**********************]  1 of 1 completed\n",
      "Error fetching data for IRFC.NS: 'IRFC.NS'\n",
      "[*********************100%%**********************]  1 of 1 completed\n",
      "Error fetching data for TANLA.NS: 'TANLA.NS'\n",
      "[*********************100%%**********************]  1 of 1 completed\n",
      "Error fetching data for HCLTECH.NS: 'HCLTECH.NS'\n",
      "[*********************100%%**********************]  1 of 1 completed\n",
      "Error fetching data for EQUITASBNK.NS: 'EQUITASBNK.NS'\n",
      "[*********************100%%**********************]  1 of 1 completed\n",
      "Error fetching data for BHARATFORG.NS: 'BHARATFORG.NS'\n",
      "[*********************100%%**********************]  1 of 1 completed\n",
      "Error fetching data for IOB.NS: 'IOB.NS'\n",
      "[*********************100%%**********************]  1 of 1 completed\n",
      "Error fetching data for NATCOPHARM.NS: 'NATCOPHARM.NS'\n",
      "[*********************100%%**********************]  1 of 1 completed\n",
      "Error fetching data for EIDPARRY.NS: 'EIDPARRY.NS'\n",
      "[*********************100%%**********************]  1 of 1 completed\n",
      "Error fetching data for BANDHANBNK.NS: 'BANDHANBNK.NS'\n",
      "[*********************100%%**********************]  1 of 1 completed\n",
      "Error fetching data for HAPPSTMNDS.NS: 'HAPPSTMNDS.NS'\n",
      "[*********************100%%**********************]  1 of 1 completed\n",
      "Error fetching data for HAL.NS: 'HAL.NS'\n",
      "[*********************100%%**********************]  1 of 1 completed\n",
      "Error fetching data for INDIACEM.NS: 'INDIACEM.NS'\n",
      "[*********************100%%**********************]  1 of 1 completed\n",
      "Error fetching data for APLLTD.NS: 'APLLTD.NS'\n",
      "[*********************100%%**********************]  1 of 1 completed\n",
      "Error fetching data for SBICARD.NS: 'SBICARD.NS'\n",
      "[*********************100%%**********************]  1 of 1 completed\n",
      "Error fetching data for BALRAMCHIN.NS: 'BALRAMCHIN.NS'\n",
      "[*********************100%%**********************]  1 of 1 completed\n",
      "Error fetching data for CROMPTON.NS: 'CROMPTON.NS'\n",
      "[*********************100%%**********************]  1 of 1 completed\n",
      "Error fetching data for INDUSTOWER.NS: 'INDUSTOWER.NS'\n",
      "[*********************100%%**********************]  1 of 1 completed\n",
      "Error fetching data for TRIDENT.NS: 'TRIDENT.NS'\n",
      "[*********************100%%**********************]  1 of 1 completed\n",
      "Error fetching data for BANKBARODA.NS: 'BANKBARODA.NS'\n",
      "[*********************100%%**********************]  1 of 1 completed\n",
      "Error fetching data for UPL.NS: 'UPL.NS'\n",
      "[*********************100%%**********************]  1 of 1 completed\n",
      "Error fetching data for BALAMINES.NS: 'BALAMINES.NS'\n",
      "[*********************100%%**********************]  1 of 1 completed\n",
      "Error fetching data for IGL.NS: 'IGL.NS'\n",
      "[*********************100%%**********************]  1 of 1 completed\n",
      "Error fetching data for ITC.NS: 'ITC.NS'\n",
      "[*********************100%%**********************]  1 of 1 completed\n",
      "Error fetching data for POLICYBZR.NS: 'POLICYBZR.NS'\n",
      "[*********************100%%**********************]  1 of 1 completed\n",
      "Error fetching data for HEG.NS: 'HEG.NS'\n",
      "[*********************100%%**********************]  1 of 1 completed\n",
      "Error fetching data for CANBK.NS: 'CANBK.NS'\n",
      "[*********************100%%**********************]  1 of 1 completed\n",
      "Error fetching data for TTKPRESTIG.NS: 'TTKPRESTIG.NS'\n",
      "[*********************100%%**********************]  1 of 1 completed\n",
      "Error fetching data for EASEMYTRIP.NS: 'EASEMYTRIP.NS'\n",
      "[*********************100%%**********************]  1 of 1 completed\n",
      "Error fetching data for WIPRO.NS: 'WIPRO.NS'\n",
      "[*********************100%%**********************]  1 of 1 completed\n",
      "Error fetching data for ADANIENSOL.NS: 'ADANIENSOL.NS'\n",
      "[*********************100%%**********************]  1 of 1 completed\n",
      "Error fetching data for WELSPUNLIV.NS: 'WELSPUNLIV.NS'\n",
      "[*********************100%%**********************]  1 of 1 completed\n",
      "Error fetching data for PNBHOUSING.NS: 'PNBHOUSING.NS'\n",
      "[*********************100%%**********************]  1 of 1 completed\n",
      "Error fetching data for PRINCEPIPE.NS: 'PRINCEPIPE.NS'\n",
      "[*********************100%%**********************]  1 of 1 completed\n",
      "Error fetching data for TORNTPOWER.NS: 'TORNTPOWER.NS'\n",
      "[*********************100%%**********************]  1 of 1 completed\n",
      "Error fetching data for CGCL.NS: 'CGCL.NS'\n",
      "[*********************100%%**********************]  1 of 1 completed\n",
      "Error fetching data for HDFCAMC.NS: 'HDFCAMC.NS'\n",
      "[*********************100%%**********************]  1 of 1 completed\n",
      "Error fetching data for MANYAVAR.NS: 'MANYAVAR.NS'\n",
      "[*********************100%%**********************]  1 of 1 completed\n",
      "Error fetching data for BOSCHLTD.NS: 'BOSCHLTD.NS'\n",
      "[*********************100%%**********************]  1 of 1 completed\n",
      "Error fetching data for TATACHEM.NS: 'TATACHEM.NS'\n",
      "[*********************100%%**********************]  1 of 1 completed\n",
      "Error fetching data for VINATIORGA.NS: 'VINATIORGA.NS'\n",
      "[*********************100%%**********************]  1 of 1 completed\n",
      "Error fetching data for SFL.NS: 'SFL.NS'\n",
      "[*********************100%%**********************]  1 of 1 completed\n",
      "Error fetching data for CERA.NS: 'CERA.NS'\n",
      "[*********************100%%**********************]  1 of 1 completed\n",
      "Error fetching data for JYOTHYLAB.NS: 'JYOTHYLAB.NS'\n",
      "[*********************100%%**********************]  1 of 1 completed\n",
      "Error fetching data for KNRCON.NS: 'KNRCON.NS'\n",
      "[*********************100%%**********************]  1 of 1 completed\n",
      "Error fetching data for ABFRL.NS: 'ABFRL.NS'\n",
      "[*********************100%%**********************]  1 of 1 completed\n",
      "Error fetching data for COCHINSHIP.NS: 'COCHINSHIP.NS'\n",
      "[*********************100%%**********************]  1 of 1 completed\n",
      "Error fetching data for POONAWALLA.NS: 'POONAWALLA.NS'\n",
      "[*********************100%%**********************]  1 of 1 completed\n",
      "Error fetching data for GRINDWELL.NS: 'GRINDWELL.NS'\n",
      "[*********************100%%**********************]  1 of 1 completed\n",
      "Error fetching data for MSUMI.NS: 'MSUMI.NS'\n",
      "[*********************100%%**********************]  1 of 1 completed\n",
      "Error fetching data for KAJARIACER.NS: 'KAJARIACER.NS'\n",
      "[*********************100%%**********************]  1 of 1 completed\n",
      "Error fetching data for BEML.NS: 'BEML.NS'\n",
      "[*********************100%%**********************]  1 of 1 completed\n",
      "Error fetching data for RENUKA.NS: 'RENUKA.NS'\n",
      "[*********************100%%**********************]  1 of 1 completed\n",
      "Error fetching data for APOLLOHOSP.NS: 'APOLLOHOSP.NS'\n",
      "[*********************100%%**********************]  1 of 1 completed\n",
      "Error fetching data for VARROC.NS: 'VARROC.NS'\n",
      "[*********************100%%**********************]  1 of 1 completed\n",
      "Error fetching data for EIHOTEL.NS: 'EIHOTEL.NS'\n",
      "[*********************100%%**********************]  1 of 1 completed\n",
      "Error fetching data for UTIAMC.NS: 'UTIAMC.NS'\n",
      "[*********************100%%**********************]  1 of 1 completed\n",
      "Error fetching data for RAYMOND.NS: 'RAYMOND.NS'\n",
      "[*********************100%%**********************]  1 of 1 completed\n",
      "Error fetching data for ATUL.NS: 'ATUL.NS'\n",
      "[*********************100%%**********************]  1 of 1 completed\n",
      "Error fetching data for PAGEIND.NS: 'PAGEIND.NS'\n",
      "[*********************100%%**********************]  1 of 1 completed\n",
      "Error fetching data for IRB.NS: 'IRB.NS'\n",
      "[*********************100%%**********************]  1 of 1 completed\n",
      "Error fetching data for THERMAX.NS: 'THERMAX.NS'\n",
      "[*********************100%%**********************]  1 of 1 completed\n",
      "Error fetching data for OBEROIRLTY.NS: 'OBEROIRLTY.NS'\n",
      "[*********************100%%**********************]  1 of 1 completed\n",
      "Error fetching data for LXCHEM.NS: 'LXCHEM.NS'\n",
      "[*********************100%%**********************]  1 of 1 completed\n",
      "Error fetching data for ZOMATO.NS: 'ZOMATO.NS'\n",
      "[*********************100%%**********************]  1 of 1 completed\n",
      "Error fetching data for NBCC.NS: 'NBCC.NS'\n",
      "[*********************100%%**********************]  1 of 1 completed\n",
      "Error fetching data for ITI.NS: 'ITI.NS'\n",
      "[*********************100%%**********************]  1 of 1 completed\n",
      "Error fetching data for IOC.NS: 'IOC.NS'\n",
      "[*********************100%%**********************]  1 of 1 completed\n",
      "Error fetching data for LAURUSLABS.NS: 'LAURUSLABS.NS'\n",
      "[*********************100%%**********************]  1 of 1 completed\n",
      "Error fetching data for MMTC.NS: 'MMTC.NS'\n",
      "[*********************100%%**********************]  1 of 1 completed\n",
      "Error fetching data for WESTLIFE.NS: 'WESTLIFE.NS'\n",
      "[*********************100%%**********************]  1 of 1 completed\n",
      "Error fetching data for SAIL.NS: 'SAIL.NS'\n",
      "[*********************100%%**********************]  1 of 1 completed\n",
      "Error fetching data for SOLARINDS.NS: 'SOLARINDS.NS'\n",
      "[*********************100%%**********************]  1 of 1 completed\n",
      "Error fetching data for SANOFI.NS: 'SANOFI.NS'\n",
      "[*********************100%%**********************]  1 of 1 completed\n",
      "Error fetching data for NH.NS: 'NH.NS'\n",
      "[*********************100%%**********************]  1 of 1 completed\n",
      "Error fetching data for SUZLON.NS: 'SUZLON.NS'\n",
      "[*********************100%%**********************]  1 of 1 completed\n",
      "Error fetching data for UCOBANK.NS: 'UCOBANK.NS'\n",
      "[*********************100%%**********************]  1 of 1 completed\n",
      "Error fetching data for TRIVENI.NS: 'TRIVENI.NS'\n",
      "[*********************100%%**********************]  1 of 1 completed\n",
      "Error fetching data for KRBL.NS: 'KRBL.NS'\n",
      "[*********************100%%**********************]  1 of 1 completed\n",
      "Error fetching data for SCHAEFFLER.NS: 'SCHAEFFLER.NS'\n",
      "[*********************100%%**********************]  1 of 1 completed\n",
      "Error fetching data for JUSTDIAL.NS: 'JUSTDIAL.NS'\n",
      "[*********************100%%**********************]  1 of 1 completed\n",
      "Error fetching data for SUNTECK.NS: 'SUNTECK.NS'\n",
      "[*********************100%%**********************]  1 of 1 completed\n",
      "Error fetching data for SYMPHONY.NS: 'SYMPHONY.NS'\n",
      "[*********************100%%**********************]  1 of 1 completed\n",
      "Error fetching data for VBL.NS: 'VBL.NS'\n",
      "[*********************100%%**********************]  1 of 1 completed\n",
      "Error fetching data for INFY.NS: 'INFY.NS'\n",
      "[*********************100%%**********************]  1 of 1 completed\n",
      "Error fetching data for GILLETTE.NS: 'GILLETTE.NS'\n",
      "[*********************100%%**********************]  1 of 1 completed\n",
      "Error fetching data for TEJASNET.NS: 'TEJASNET.NS'\n",
      "[*********************100%%**********************]  1 of 1 completed\n",
      "Error fetching data for CIPLA.NS: 'CIPLA.NS'\n",
      "[*********************100%%**********************]  1 of 1 completed\n",
      "Error fetching data for CYIENT.NS: 'CYIENT.NS'\n",
      "[*********************100%%**********************]  1 of 1 completed\n",
      "Error fetching data for DRREDDY.NS: 'DRREDDY.NS'\n",
      "[*********************100%%**********************]  1 of 1 completed\n",
      "Error fetching data for FIVESTAR.NS: 'FIVESTAR.NS'\n",
      "[*********************100%%**********************]  1 of 1 completed\n",
      "Error fetching data for MAHLIFE.NS: 'MAHLIFE.NS'\n",
      "[*********************100%%**********************]  1 of 1 completed\n",
      "Error fetching data for IRCTC.NS: 'IRCTC.NS'\n",
      "[*********************100%%**********************]  1 of 1 completed\n",
      "Error fetching data for AARTIIND.NS: 'AARTIIND.NS'\n",
      "[*********************100%%**********************]  1 of 1 completed\n",
      "Error fetching data for MAZDOCK.NS: 'MAZDOCK.NS'\n",
      "[*********************100%%**********************]  1 of 1 completed\n",
      "Error fetching data for RAIN.NS: 'RAIN.NS'\n",
      "[*********************100%%**********************]  1 of 1 completed\n",
      "Error fetching data for TCS.NS: 'TCS.NS'\n",
      "[*********************100%%**********************]  1 of 1 completed\n",
      "Error fetching data for PRSMJOHNSN.NS: 'PRSMJOHNSN.NS'\n",
      "[*********************100%%**********************]  1 of 1 completed\n",
      "Error fetching data for PHOENIXLTD.NS: 'PHOENIXLTD.NS'\n",
      "[*********************100%%**********************]  1 of 1 completed\n",
      "Error fetching data for ROSSARI.NS: 'ROSSARI.NS'\n",
      "[*********************100%%**********************]  1 of 1 completed\n",
      "Error fetching data for INDIANB.NS: 'INDIANB.NS'\n",
      "[*********************100%%**********************]  1 of 1 completed\n",
      "Error fetching data for FEDERALBNK.NS: 'FEDERALBNK.NS'\n",
      "[*********************100%%**********************]  1 of 1 completed\n",
      "Error fetching data for TEAMLEASE.NS: 'TEAMLEASE.NS'\n",
      "[*********************100%%**********************]  1 of 1 completed\n",
      "Error fetching data for JKCEMENT.NS: 'JKCEMENT.NS'\n",
      "[*********************100%%**********************]  1 of 1 completed\n",
      "Error fetching data for KFINTECH.NS: 'KFINTECH.NS'\n",
      "[*********************100%%**********************]  1 of 1 completed\n",
      "Error fetching data for BALKRISIND.NS: 'BALKRISIND.NS'\n",
      "[*********************100%%**********************]  1 of 1 completed\n",
      "Error fetching data for BIKAJI.NS: 'BIKAJI.NS'\n",
      "[*********************100%%**********************]  1 of 1 completed\n",
      "Error fetching data for BEL.NS: 'BEL.NS'\n",
      "[*********************100%%**********************]  1 of 1 completed\n",
      "Error fetching data for HOMEFIRST.NS: 'HOMEFIRST.NS'\n",
      "[*********************100%%**********************]  1 of 1 completed\n",
      "Error fetching data for DCMSHRIRAM.NS: 'DCMSHRIRAM.NS'\n",
      "[*********************100%%**********************]  1 of 1 completed\n",
      "Error fetching data for UBL.NS: 'UBL.NS'\n",
      "[*********************100%%**********************]  1 of 1 completed\n",
      "Error fetching data for IDBI.NS: 'IDBI.NS'\n",
      "[*********************100%%**********************]  1 of 1 completed\n",
      "Error fetching data for AMBER.NS: 'AMBER.NS'\n",
      "[*********************100%%**********************]  1 of 1 completed\n",
      "Error fetching data for CARBORUNIV.NS: 'CARBORUNIV.NS'\n",
      "[*********************100%%**********************]  1 of 1 completed\n",
      "Error fetching data for INDIGO.NS: 'INDIGO.NS'\n",
      "[*********************100%%**********************]  1 of 1 completed\n",
      "Error fetching data for RVNL.NS: 'RVNL.NS'\n",
      "[*********************100%%**********************]  1 of 1 completed\n",
      "Error fetching data for RELIANCE.NS: 'RELIANCE.NS'\n",
      "[*********************100%%**********************]  1 of 1 completed\n",
      "Error fetching data for JSWENERGY.NS: 'JSWENERGY.NS'\n",
      "[*********************100%%**********************]  1 of 1 completed\n",
      "Error fetching data for JAMNAAUTO.NS: 'JAMNAAUTO.NS'\n",
      "[*********************100%%**********************]  1 of 1 completed\n",
      "Error fetching data for MGL.NS: 'MGL.NS'\n",
      "[*********************100%%**********************]  1 of 1 completed\n",
      "Error fetching data for MAXHEALTH.NS: 'MAXHEALTH.NS'\n",
      "[*********************100%%**********************]  1 of 1 completed\n",
      "Error fetching data for HDFCLIFE.NS: 'HDFCLIFE.NS'\n",
      "[*********************100%%**********************]  1 of 1 completed\n",
      "Error fetching data for KSB.NS: 'KSB.NS'\n",
      "[*********************100%%**********************]  1 of 1 completed\n",
      "Error fetching data for BPCL.NS: 'BPCL.NS'\n",
      "[*********************100%%**********************]  1 of 1 completed\n",
      "Error fetching data for NCC.NS: 'NCC.NS'\n",
      "[*********************100%%**********************]  1 of 1 completed\n",
      "Error fetching data for TITAN.NS: 'TITAN.NS'\n",
      "[*********************100%%**********************]  1 of 1 completed\n",
      "Error fetching data for HFCL.NS: 'HFCL.NS'\n",
      "[*********************100%%**********************]  1 of 1 completed\n",
      "Error fetching data for GALAXYSURF.NS: 'GALAXYSURF.NS'\n",
      "[*********************100%%**********************]  1 of 1 completed\n",
      "Error fetching data for PEL.NS: 'PEL.NS'\n",
      "[*********************100%%**********************]  1 of 1 completed\n",
      "Error fetching data for INDIGOPNTS.NS: 'INDIGOPNTS.NS'\n",
      "[*********************100%%**********************]  1 of 1 completed\n",
      "Error fetching data for HINDPETRO.NS: 'HINDPETRO.NS'\n",
      "[*********************100%%**********************]  1 of 1 completed\n",
      "Error fetching data for CENTRALBK.NS: 'CENTRALBK.NS'\n",
      "[*********************100%%**********************]  1 of 1 completed\n",
      "Error fetching data for DABUR.NS: 'DABUR.NS'\n",
      "[*********************100%%**********************]  1 of 1 completed\n",
      "Error fetching data for LINDEINDIA.NS: 'LINDEINDIA.NS'\n",
      "[*********************100%%**********************]  1 of 1 completed\n",
      "Error fetching data for NAVINFLUOR.NS: 'NAVINFLUOR.NS'\n",
      "[*********************100%%**********************]  1 of 1 completed\n",
      "Error fetching data for TATASTEEL.NS: 'TATASTEEL.NS'\n",
      "[*********************100%%**********************]  1 of 1 completed\n",
      "Error fetching data for VOLTAS.NS: 'VOLTAS.NS'\n",
      "[*********************100%%**********************]  1 of 1 completed\n",
      "Error fetching data for RTNINDIA.NS: 'RTNINDIA.NS'\n",
      "[*********************100%%**********************]  1 of 1 completed\n",
      "Error fetching data for RELAXO.NS: 'RELAXO.NS'\n",
      "[*********************100%%**********************]  1 of 1 completed\n",
      "Error fetching data for SUNPHARMA.NS: 'SUNPHARMA.NS'\n",
      "[*********************100%%**********************]  1 of 1 completed\n",
      "Error fetching data for SONACOMS.NS: 'SONACOMS.NS'\n",
      "[*********************100%%**********************]  1 of 1 completed\n",
      "Error fetching data for CEATLTD.NS: 'CEATLTD.NS'\n",
      "[*********************100%%**********************]  1 of 1 completed\n",
      "Error fetching data for CONCOR.NS: 'CONCOR.NS'\n",
      "[*********************100%%**********************]  1 of 1 completed\n",
      "Error fetching data for GRAPHITE.NS: 'GRAPHITE.NS'\n",
      "[*********************100%%**********************]  1 of 1 completed\n",
      "Error fetching data for DIVISLAB.NS: 'DIVISLAB.NS'\n",
      "[*********************100%%**********************]  1 of 1 completed\n",
      "Error fetching data for PFIZER.NS: 'PFIZER.NS'\n",
      "[*********************100%%**********************]  1 of 1 completed\n",
      "Error fetching data for NAZARA.NS: 'NAZARA.NS'\n",
      "[*********************100%%**********************]  1 of 1 completed\n",
      "Error fetching data for AIAENG.NS: 'AIAENG.NS'\n",
      "[*********************100%%**********************]  1 of 1 completed\n",
      "Error fetching data for SKFINDIA.NS: 'SKFINDIA.NS'\n",
      "[*********************100%%**********************]  1 of 1 completed\n",
      "Error fetching data for UJJIVANSFB.NS: 'UJJIVANSFB.NS'\n",
      "[*********************100%%**********************]  1 of 1 completed\n",
      "Error fetching data for IPCALAB.NS: 'IPCALAB.NS'\n",
      "[*********************100%%**********************]  1 of 1 completed\n",
      "Error fetching data for PRAJIND.NS: 'PRAJIND.NS'\n",
      "[*********************100%%**********************]  1 of 1 completed\n",
      "Error fetching data for FINPIPE.NS: 'FINPIPE.NS'\n",
      "[*********************100%%**********************]  1 of 1 completed\n",
      "Error fetching data for HINDZINC.NS: 'HINDZINC.NS'\n",
      "[*********************100%%**********************]  1 of 1 completed\n",
      "Error fetching data for BLUESTARCO.NS: 'BLUESTARCO.NS'\n",
      "[*********************100%%**********************]  1 of 1 completed\n",
      "Error fetching data for CANFINHOME.NS: 'CANFINHOME.NS'\n",
      "[*********************100%%**********************]  1 of 1 completed\n",
      "Error fetching data for LUXIND.NS: 'LUXIND.NS'\n",
      "[*********************100%%**********************]  1 of 1 completed\n",
      "Error fetching data for POWERGRID.NS: 'POWERGRID.NS'\n",
      "[*********************100%%**********************]  1 of 1 completed\n",
      "Error fetching data for BANKINDIA.NS: 'BANKINDIA.NS'\n",
      "[*********************100%%**********************]  1 of 1 completed\n",
      "Error fetching data for ONGC.NS: 'ONGC.NS'\n",
      "[*********************100%%**********************]  1 of 1 completed\n",
      "Error fetching data for PGHH.NS: 'PGHH.NS'\n",
      "[*********************100%%**********************]  1 of 1 completed\n",
      "Error fetching data for TATAELXSI.NS: 'TATAELXSI.NS'\n",
      "[*********************100%%**********************]  1 of 1 completed\n",
      "Error fetching data for PVRINOX.NS: 'PVRINOX.NS'\n",
      "[*********************100%%**********************]  1 of 1 completed\n",
      "Error fetching data for MANKIND.NS: 'MANKIND.NS'\n",
      "[*********************100%%**********************]  1 of 1 completed\n",
      "Error fetching data for BRIGADE.NS: 'BRIGADE.NS'\n",
      "[*********************100%%**********************]  1 of 1 completed\n",
      "Error fetching data for ADANIGREEN.NS: 'ADANIGREEN.NS'\n",
      "[*********************100%%**********************]  1 of 1 completed\n",
      "Error fetching data for FSL.NS: 'FSL.NS'\n",
      "[*********************100%%**********************]  1 of 1 completed\n",
      "Error fetching data for PGHL.NS: 'PGHL.NS'\n",
      "[*********************100%%**********************]  1 of 1 completed\n",
      "Error fetching data for TIMKEN.NS: 'TIMKEN.NS'\n",
      "[*********************100%%**********************]  1 of 1 completed\n",
      "Error fetching data for PPLPHARMA.NS: 'PPLPHARMA.NS'\n",
      "[*********************100%%**********************]  1 of 1 completed\n",
      "Error fetching data for ABB.NS: 'ABB.NS'\n",
      "[*********************100%%**********************]  1 of 1 completed\n",
      "Error fetching data for SUNDRMFAST.NS: 'SUNDRMFAST.NS'\n",
      "[*********************100%%**********************]  1 of 1 completed\n",
      "Error fetching data for VGUARD.NS: 'VGUARD.NS'\n",
      "[*********************100%%**********************]  1 of 1 completed\n",
      "Error fetching data for EPIGRAL.NS: 'EPIGRAL.NS'\n",
      "[*********************100%%**********************]  1 of 1 completed\n",
      "Error fetching data for MPHASIS.NS: 'MPHASIS.NS'\n",
      "[*********************100%%**********************]  1 of 1 completed\n",
      "Error fetching data for LATENTVIEW.NS: 'LATENTVIEW.NS'\n",
      "[*********************100%%**********************]  1 of 1 completed\n",
      "Error fetching data for IEX.NS: 'IEX.NS'\n",
      "[*********************100%%**********************]  1 of 1 completed\n",
      "Error fetching data for APARINDS.NS: 'APARINDS.NS'\n",
      "[*********************100%%**********************]  1 of 1 completed\n",
      "Error fetching data for SIEMENS.NS: 'SIEMENS.NS'\n",
      "[*********************100%%**********************]  1 of 1 completed\n",
      "Error fetching data for KANSAINER.NS: 'KANSAINER.NS'\n",
      "[*********************100%%**********************]  1 of 1 completed\n",
      "Error fetching data for CSBBANK.NS: 'CSBBANK.NS'\n",
      "[*********************100%%**********************]  1 of 1 completed\n",
      "Error fetching data for SAREGAMA.NS: 'SAREGAMA.NS'\n",
      "[*********************100%%**********************]  1 of 1 completed\n",
      "Error fetching data for GLENMARK.NS: 'GLENMARK.NS'\n",
      "[*********************100%%**********************]  1 of 1 completed\n",
      "Error fetching data for MRF.NS: 'MRF.NS'\n",
      "[*********************100%%**********************]  1 of 1 completed\n",
      "Error fetching data for INDUSINDBK.NS: 'INDUSINDBK.NS'\n",
      "[*********************100%%**********************]  1 of 1 completed\n",
      "Error fetching data for APOLLOTYRE.NS: 'APOLLOTYRE.NS'\n",
      "[*********************100%%**********************]  1 of 1 completed\n",
      "Error fetching data for ICICIBANK.NS: 'ICICIBANK.NS'\n",
      "[*********************100%%**********************]  1 of 1 completed\n",
      "Error fetching data for GODREJPROP.NS: 'GODREJPROP.NS'\n",
      "[*********************100%%**********************]  1 of 1 completed\n",
      "Error fetching data for CAMS.NS: 'CAMS.NS'\n",
      "[*********************100%%**********************]  1 of 1 completed\n",
      "Error fetching data for AUBANK.NS: 'AUBANK.NS'\n",
      "[*********************100%%**********************]  1 of 1 completed\n",
      "Error fetching data for CDSL.NS: 'CDSL.NS'\n",
      "[*********************100%%**********************]  1 of 1 completed\n",
      "Error fetching data for BRITANNIA.NS: 'BRITANNIA.NS'\n",
      "[*********************100%%**********************]  1 of 1 completed\n",
      "Error fetching data for AUROPHARMA.NS: 'AUROPHARMA.NS'\n",
      "[*********************100%%**********************]  1 of 1 completed\n",
      "Error fetching data for GLS.NS: 'GLS.NS'\n",
      "[*********************100%%**********************]  1 of 1 completed\n",
      "Error fetching data for MARUTI.NS: 'MARUTI.NS'\n",
      "[*********************100%%**********************]  1 of 1 completed\n",
      "Error fetching data for MTARTECH.NS: 'MTARTECH.NS'\n",
      "[*********************100%%**********************]  1 of 1 completed\n",
      "Error fetching data for ABBOTINDIA.NS: 'ABBOTINDIA.NS'\n",
      "[*********************100%%**********************]  1 of 1 completed\n",
      "Error fetching data for SBILIFE.NS: 'SBILIFE.NS'\n",
      "[*********************100%%**********************]  1 of 1 completed\n",
      "Error fetching data for MFSL.NS: 'MFSL.NS'\n",
      "[*********************100%%**********************]  1 of 1 completed\n",
      "Error fetching data for ACI.NS: 'ACI.NS'\n",
      "[*********************100%%**********************]  1 of 1 completed\n",
      "Error fetching data for JUBLINGREA.NS: 'JUBLINGREA.NS'\n",
      "[*********************100%%**********************]  1 of 1 completed\n",
      "Error fetching data for INDIAMART.NS: 'INDIAMART.NS'\n",
      "[*********************100%%**********************]  1 of 1 completed\n",
      "Error fetching data for ERIS.NS: 'ERIS.NS'\n",
      "[*********************100%%**********************]  1 of 1 completed\n",
      "Error fetching data for ASIANPAINT.NS: 'ASIANPAINT.NS'\n",
      "[*********************100%%**********************]  1 of 1 completed\n",
      "Error fetching data for ADANIPOWER.NS: 'ADANIPOWER.NS'\n",
      "[*********************100%%**********************]  1 of 1 completed\n",
      "Error fetching data for MINDACORP.NS: 'MINDACORP.NS'\n",
      "[*********************100%%**********************]  1 of 1 completed\n",
      "Error fetching data for MRPL.NS: 'MRPL.NS'\n",
      "[*********************100%%**********************]  1 of 1 completed\n",
      "Error fetching data for APLAPOLLO.NS: 'APLAPOLLO.NS'\n",
      "[*********************100%%**********************]  1 of 1 completed\n",
      "Error fetching data for FINEORG.NS: 'FINEORG.NS'\n",
      "[*********************100%%**********************]  1 of 1 completed\n",
      "Error fetching data for NSLNISP.NS: 'NSLNISP.NS'\n",
      "[*********************100%%**********************]  1 of 1 completed\n",
      "Error fetching data for NAUKRI.NS: 'NAUKRI.NS'\n",
      "[*********************100%%**********************]  1 of 1 completed\n",
      "Error fetching data for ASTRAL.NS: 'ASTRAL.NS'\n",
      "[*********************100%%**********************]  1 of 1 completed\n",
      "Error fetching data for SHRIRAMFIN.NS: 'SHRIRAMFIN.NS'\n",
      "[*********************100%%**********************]  1 of 1 completed\n",
      "Error fetching data for LALPATHLAB.NS: 'LALPATHLAB.NS'\n",
      "[*********************100%%**********************]  1 of 1 completed\n",
      "Error fetching data for PNCINFRA.NS: 'PNCINFRA.NS'\n",
      "[*********************100%%**********************]  1 of 1 completed\n",
      "Error fetching data for BERGEPAINT.NS: 'BERGEPAINT.NS'\n",
      "[*********************100%%**********************]  1 of 1 completed\n",
      "Error fetching data for TORNTPHARM.NS: 'TORNTPHARM.NS'\n",
      "[*********************100%%**********************]  1 of 1 completed\n",
      "Error fetching data for ULTRACEMCO.NS: 'ULTRACEMCO.NS'\n",
      "[*********************100%%**********************]  1 of 1 completed\n",
      "Error fetching data for JSL.NS: 'JSL.NS'\n",
      "[*********************100%%**********************]  1 of 1 completed\n",
      "Error fetching data for WHIRLPOOL.NS: 'WHIRLPOOL.NS'\n",
      "[*********************100%%**********************]  1 of 1 completed\n",
      "Error fetching data for DMART.NS: 'DMART.NS'\n",
      "[*********************100%%**********************]  1 of 1 completed\n",
      "Error fetching data for GMRINFRA.NS: 'GMRINFRA.NS'\n",
      "[*********************100%%**********************]  1 of 1 completed\n",
      "Error fetching data for BLUEDART.NS: 'BLUEDART.NS'\n",
      "[*********************100%%**********************]  1 of 1 completed\n",
      "Error fetching data for SUNTV.NS: 'SUNTV.NS'\n",
      "[*********************100%%**********************]  1 of 1 completed\n",
      "Error fetching data for HLEGLAS.NS: 'HLEGLAS.NS'\n",
      "[*********************100%%**********************]  1 of 1 completed\n",
      "Error fetching data for ABCAPITAL.NS: 'ABCAPITAL.NS'\n",
      "[*********************100%%**********************]  1 of 1 completed\n",
      "Error fetching data for POLYCAB.NS: 'POLYCAB.NS'\n",
      "[*********************100%%**********************]  1 of 1 completed\n",
      "Error fetching data for INGERRAND.NS: 'INGERRAND.NS'\n",
      "[*********************100%%**********************]  1 of 1 completed\n",
      "Error fetching data for GRINFRA.NS: 'GRINFRA.NS'\n",
      "[*********************100%%**********************]  1 of 1 completed\n",
      "Error fetching data for AETHER.NS: 'AETHER.NS'\n",
      "[*********************100%%**********************]  1 of 1 completed\n",
      "Error fetching data for METROPOLIS.NS: 'METROPOLIS.NS'\n",
      "[*********************100%%**********************]  1 of 1 completed\n",
      "Error fetching data for HEROMOTOCO.NS: 'HEROMOTOCO.NS'\n",
      "[*********************100%%**********************]  1 of 1 completed\n",
      "Error fetching data for CREDITACC.NS: 'CREDITACC.NS'\n",
      "[*********************100%%**********************]  1 of 1 completed\n",
      "Error fetching data for LT.NS: 'LT.NS'\n",
      "[*********************100%%**********************]  1 of 1 completed\n",
      "Error fetching data for JKPAPER.NS: 'JKPAPER.NS'\n",
      "[*********************100%%**********************]  1 of 1 completed\n",
      "Error fetching data for JKLAKSHMI.NS: 'JKLAKSHMI.NS'\n",
      "[*********************100%%**********************]  1 of 1 completed\n",
      "Error fetching data for SWANENERGY.NS: 'SWANENERGY.NS'\n",
      "[*********************100%%**********************]  1 of 1 completed\n",
      "Error fetching data for TTML.NS: 'TTML.NS'\n",
      "[*********************100%%**********************]  1 of 1 completed\n",
      "Error fetching data for MANAPPURAM.NS: 'MANAPPURAM.NS'\n",
      "[*********************100%%**********************]  1 of 1 completed\n",
      "Error fetching data for RITES.NS: 'RITES.NS'\n",
      "[*********************100%%**********************]  1 of 1 completed\n",
      "Error fetching data for RHIM.NS: 'RHIM.NS'\n",
      "[*********************100%%**********************]  1 of 1 completed\n",
      "Error fetching data for TATACOMM.NS: 'TATACOMM.NS'\n",
      "[*********************100%%**********************]  1 of 1 completed\n",
      "Error fetching data for NTPC.NS: 'NTPC.NS'\n",
      "[*********************100%%**********************]  1 of 1 completed\n",
      "Error fetching data for JBCHEPHARM.NS: 'JBCHEPHARM.NS'\n",
      "[*********************100%%**********************]  1 of 1 completed\n",
      "Error fetching data for TATAINVEST.NS: 'TATAINVEST.NS'\n",
      "[*********************100%%**********************]  1 of 1 completed\n",
      "Error fetching data for BAJFINANCE.NS: 'BAJFINANCE.NS'\n",
      "[*********************100%%**********************]  1 of 1 completed\n",
      "Error fetching data for HINDUNILVR.NS: 'HINDUNILVR.NS'\n",
      "[*********************100%%**********************]  1 of 1 completed\n",
      "Error fetching data for M&MFIN.NS: 'M&MFIN.NS'\n",
      "[*********************100%%**********************]  1 of 1 completed\n",
      "Error fetching data for KOTAKBANK.NS: 'KOTAKBANK.NS'\n",
      "[*********************100%%**********************]  1 of 1 completed\n",
      "Error fetching data for FDC.NS: 'FDC.NS'\n",
      "[*********************100%%**********************]  1 of 1 completed\n",
      "Error fetching data for PIDILITIND.NS: 'PIDILITIND.NS'\n",
      "[*********************100%%**********************]  1 of 1 completed\n",
      "Error fetching data for JSWSTEEL.NS: 'JSWSTEEL.NS'\n",
      "[*********************100%%**********************]  1 of 1 completed\n",
      "Error fetching data for ZENSARTECH.NS: 'ZENSARTECH.NS'\n",
      "[*********************100%%**********************]  1 of 1 completed\n",
      "Error fetching data for ICICIPRULI.NS: 'ICICIPRULI.NS'\n",
      "[*********************100%%**********************]  1 of 1 completed\n",
      "Error fetching data for IBULHSGFIN.NS: 'IBULHSGFIN.NS'\n",
      "[*********************100%%**********************]  1 of 1 completed\n",
      "Error fetching data for DLF.NS: 'DLF.NS'\n",
      "[*********************100%%**********************]  1 of 1 completed\n",
      "Error fetching data for ELGIEQUIP.NS: 'ELGIEQUIP.NS'\n",
      "[*********************100%%**********************]  1 of 1 completed\n",
      "Error fetching data for SBIN.NS: 'SBIN.NS'\n",
      "[*********************100%%**********************]  1 of 1 completed\n",
      "Error fetching data for SHARDACROP.NS: 'SHARDACROP.NS'\n",
      "[*********************100%%**********************]  1 of 1 completed\n",
      "Error fetching data for LTIM.NS: 'LTIM.NS'\n",
      "[*********************100%%**********************]  1 of 1 completed\n",
      "Error fetching data for JUBLFOOD.NS: 'JUBLFOOD.NS'\n",
      "[*********************100%%**********************]  1 of 1 completed\n",
      "Error fetching data for LAXMIMACH.NS: 'LAXMIMACH.NS'\n",
      "[*********************100%%**********************]  1 of 1 completed\n",
      "Error fetching data for BORORENEW.NS: 'BORORENEW.NS'\n",
      "[*********************100%%**********************]  1 of 1 completed\n",
      "Error fetching data for TATACONSUM.NS: 'TATACONSUM.NS'\n",
      "[*********************100%%**********************]  1 of 1 completed\n",
      "Error fetching data for INDHOTEL.NS: 'INDHOTEL.NS'\n",
      "[*********************100%%**********************]  1 of 1 completed\n",
      "Error fetching data for AXISBANK.NS: 'AXISBANK.NS'\n",
      "[*********************100%%**********************]  1 of 1 completed\n",
      "Error fetching data for TVSMOTOR.NS: 'TVSMOTOR.NS'\n",
      "[*********************100%%**********************]  1 of 1 completed\n",
      "Error fetching data for SRF.NS: 'SRF.NS'\n",
      "[*********************100%%**********************]  1 of 1 completed\n",
      "Error fetching data for GESHIP.NS: 'GESHIP.NS'\n",
      "[*********************100%%**********************]  1 of 1 completed\n",
      "Error fetching data for COROMANDEL.NS: 'COROMANDEL.NS'\n",
      "[*********************100%%**********************]  1 of 1 completed\n",
      "Error fetching data for PATANJALI.NS: 'PATANJALI.NS'\n",
      "[*********************100%%**********************]  1 of 1 completed\n",
      "Error fetching data for JINDALSTEL.NS: 'JINDALSTEL.NS'\n",
      "[*********************100%%**********************]  1 of 1 completed\n",
      "Error fetching data for CUMMINSIND.NS: 'CUMMINSIND.NS'\n",
      "[*********************100%%**********************]  1 of 1 completed\n",
      "Error fetching data for TATAPOWER.NS: 'TATAPOWER.NS'\n",
      "[*********************100%%**********************]  1 of 1 completed\n",
      "Error fetching data for DEEPAKNTR.NS: 'DEEPAKNTR.NS'\n",
      "[*********************100%%**********************]  1 of 1 completed\n",
      "Error fetching data for GRASIM.NS: 'GRASIM.NS'\n",
      "[*********************100%%**********************]  1 of 1 completed\n",
      "Error fetching data for VEDL.NS: 'VEDL.NS'\n",
      "[*********************100%%**********************]  1 of 1 completed\n",
      "Error fetching data for PRESTIGE.NS: 'PRESTIGE.NS'\n",
      "[*********************100%%**********************]  1 of 1 completed\n",
      "Error fetching data for ESCORTS.NS: 'ESCORTS.NS'\n",
      "[*********************100%%**********************]  1 of 1 completed\n",
      "Error fetching data for ZYDUSWELL.NS: 'ZYDUSWELL.NS'\n",
      "[*********************100%%**********************]  1 of 1 completed\n",
      "Error fetching data for AEGISCHEM.NS: 'AEGISCHEM.NS'\n",
      "[*********************100%%**********************]  1 of 1 completed\n",
      "Error fetching data for ENDURANCE.NS: 'ENDURANCE.NS'\n",
      "[*********************100%%**********************]  1 of 1 completed\n",
      "Error fetching data for ASAHIINDIA.NS: 'ASAHIINDIA.NS'\n",
      "[*********************100%%**********************]  1 of 1 completed\n",
      "Error fetching data for BAJAJFINSV.NS: 'BAJAJFINSV.NS'\n",
      "[*********************100%%**********************]  1 of 1 completed\n",
      "Error fetching data for INTELLECT.NS: 'INTELLECT.NS'\n",
      "[*********************100%%**********************]  1 of 1 completed\n",
      "Error fetching data for SUNDARMFIN.NS: 'SUNDARMFIN.NS'\n",
      "[*********************100%%**********************]  1 of 1 completed\n",
      "Error fetching data for HAVELLS.NS: 'HAVELLS.NS'\n",
      "[*********************100%%**********************]  1 of 1 completed\n",
      "Error fetching data for LEMONTREE.NS: 'LEMONTREE.NS'\n",
      "[*********************100%%**********************]  1 of 1 completed\n",
      "Error fetching data for LUPIN.NS: 'LUPIN.NS'\n",
      "[*********************100%%**********************]  1 of 1 completed\n",
      "Error fetching data for RAMCOCEM.NS: 'RAMCOCEM.NS'\n",
      "[*********************100%%**********************]  1 of 1 completed\n",
      "Error fetching data for MAPMYINDIA.NS: 'MAPMYINDIA.NS'\n",
      "[*********************100%%**********************]  1 of 1 completed\n",
      "Error fetching data for BSE.NS: 'BSE.NS'\n",
      "[*********************100%%**********************]  1 of 1 completed\n",
      "Error fetching data for VAIBHAVGBL.NS: 'VAIBHAVGBL.NS'\n",
      "[*********************100%%**********************]  1 of 1 completed\n",
      "Error fetching data for PERSISTENT.NS: 'PERSISTENT.NS'\n",
      "[*********************100%%**********************]  1 of 1 completed\n",
      "Error fetching data for EPL.NS: 'EPL.NS'\n",
      "[*********************100%%**********************]  1 of 1 completed\n",
      "Error fetching data for HDFCBANK.NS: 'HDFCBANK.NS'\n",
      "[*********************100%%**********************]  1 of 1 completed\n",
      "Error fetching data for MUTHOOTFIN.NS: 'MUTHOOTFIN.NS'\n",
      "[*********************100%%**********************]  1 of 1 completed\n",
      "Error fetching data for BATAINDIA.NS: 'BATAINDIA.NS'\n",
      "[*********************100%%**********************]  1 of 1 completed\n",
      "Error fetching data for GMMPFAUDLR.NS: 'GMMPFAUDLR.NS'\n",
      "[*********************100%%**********************]  1 of 1 completed\n",
      "Error fetching data for SHREECEM.NS: 'SHREECEM.NS'\n",
      "[*********************100%%**********************]  1 of 1 completed\n",
      "Error fetching data for REDINGTON.NS: 'REDINGTON.NS'\n",
      "[*********************100%%**********************]  1 of 1 completed\n",
      "Error fetching data for DEVYANI.NS: 'DEVYANI.NS'\n",
      "[*********************100%%**********************]  1 of 1 completed\n",
      "Error fetching data for POLYMED.NS: 'POLYMED.NS'\n",
      "[*********************100%%**********************]  1 of 1 completed\n",
      "Error fetching data for IDFC.NS: 'IDFC.NS'\n",
      "[*********************100%%**********************]  1 of 1 completed\n",
      "Error fetching data for DATAPATTNS.NS: 'DATAPATTNS.NS'\n",
      "[*********************100%%**********************]  1 of 1 completed\n",
      "Error fetching data for VIJAYA.NS: 'VIJAYA.NS'\n",
      "[*********************100%%**********************]  1 of 1 completed\n",
      "Error fetching data for MEDANTA.NS: 'MEDANTA.NS'\n",
      "[*********************100%%**********************]  1 of 1 completed\n",
      "Error fetching data for HINDCOPPER.NS: 'HINDCOPPER.NS'\n",
      "[*********************100%%**********************]  1 of 1 completed\n",
      "Error fetching data for LTTS.NS: 'LTTS.NS'\n",
      "[*********************100%%**********************]  1 of 1 completed\n",
      "Error fetching data for MCX.NS: 'MCX.NS'\n",
      "[*********************100%%**********************]  1 of 1 completed\n",
      "Error fetching data for ISEC.NS: 'ISEC.NS'\n",
      "[*********************100%%**********************]  1 of 1 completed\n",
      "Error fetching data for MARICO.NS: 'MARICO.NS'\n",
      "[*********************100%%**********************]  1 of 1 completed\n",
      "Error fetching data for GODFRYPHLP.NS: 'GODFRYPHLP.NS'\n",
      "[*********************100%%**********************]  1 of 1 completed\n",
      "Error fetching data for GLAND.NS: 'GLAND.NS'\n",
      "[*********************100%%**********************]  1 of 1 completed\n",
      "Error fetching data for ASTERDM.NS: 'ASTERDM.NS'\n",
      "[*********************100%%**********************]  1 of 1 completed\n",
      "Error fetching data for CGPOWER.NS: 'CGPOWER.NS'\n",
      "[*********************100%%**********************]  1 of 1 completed\n",
      "Error fetching data for HINDALCO.NS: 'HINDALCO.NS'\n",
      "[*********************100%%**********************]  1 of 1 completed\n",
      "Error fetching data for L&TFH.NS: 'L&TFH.NS'\n",
      "[*********************100%%**********************]  1 of 1 completed\n",
      "Error fetching data for PIIND.NS: 'PIIND.NS'\n",
      "[*********************100%%**********************]  1 of 1 completed\n",
      "Error fetching data for DELHIVERY.NS: 'DELHIVERY.NS'\n",
      "[*********************100%%**********************]  1 of 1 completed\n",
      "Error fetching data for KIMS.NS: 'KIMS.NS'\n",
      "[*********************100%%**********************]  1 of 1 completed\n",
      "Error fetching data for RATNAMANI.NS: 'RATNAMANI.NS'\n",
      "[*********************100%%**********************]  1 of 1 completed\n",
      "Error fetching data for MCDOWELL-N.NS: 'MCDOWELL-N.NS'\n",
      "[*********************100%%**********************]  1 of 1 completed\n",
      "Error fetching data for IDFCFIRSTB.NS: 'IDFCFIRSTB.NS'\n",
      "[*********************100%%**********************]  1 of 1 completed\n",
      "Error fetching data for SYRMA.NS: 'SYRMA.NS'\n",
      "[*********************100%%**********************]  1 of 1 completed\n",
      "Error fetching data for SAPPHIRE.NS: 'SAPPHIRE.NS'\n",
      "[*********************100%%**********************]  1 of 1 completed\n",
      "Error fetching data for COFORGE.NS: 'COFORGE.NS'\n",
      "[*********************100%%**********************]  1 of 1 completed\n",
      "Error fetching data for CHALET.NS: 'CHALET.NS'\n",
      "[*********************100%%**********************]  1 of 1 completed\n",
      "Error fetching data for SUVENPHAR.NS: 'SUVENPHAR.NS'\n",
      "[*********************100%%**********************]  1 of 1 completed\n",
      "Error fetching data for NLCINDIA.NS: 'NLCINDIA.NS'\n",
      "[*********************100%%**********************]  1 of 1 completed\n",
      "Error fetching data for SHOPERSTOP.NS: 'SHOPERSTOP.NS'\n",
      "[*********************100%%**********************]  1 of 1 completed\n",
      "Error fetching data for FINCABLES.NS: 'FINCABLES.NS'\n",
      "[*********************100%%**********************]  1 of 1 completed\n",
      "Error fetching data for CRISIL.NS: 'CRISIL.NS'\n",
      "[*********************100%%**********************]  1 of 1 completed\n",
      "Error fetching data for MEDPLUS.NS: 'MEDPLUS.NS'\n",
      "[*********************100%%**********************]  1 of 1 completed\n",
      "Error fetching data for ECLERX.NS: 'ECLERX.NS'\n",
      "[*********************100%%**********************]  1 of 1 completed\n",
      "Error fetching data for NUVOCO.NS: 'NUVOCO.NS'\n",
      "[*********************100%%**********************]  1 of 1 completed\n",
      "Error fetching data for BAJAJ-AUTO.NS: 'BAJAJ-AUTO.NS'\n",
      "[*********************100%%**********************]  1 of 1 completed\n",
      "Error fetching data for TRITURBINE.NS: 'TRITURBINE.NS'\n",
      "[*********************100%%**********************]  1 of 1 completed\n",
      "Error fetching data for CRAFTSMAN.NS: 'CRAFTSMAN.NS'\n",
      "[*********************100%%**********************]  1 of 1 completed\n",
      "Error fetching data for KPITTECH.NS: 'KPITTECH.NS'\n",
      "[*********************100%%**********************]  1 of 1 completed\n",
      "Error fetching data for BCG.NS: 'BCG.NS'\n",
      "[*********************100%%**********************]  1 of 1 completed\n",
      "Error fetching data for BAYERCROP.NS: 'BAYERCROP.NS'\n",
      "[*********************100%%**********************]  1 of 1 completed\n",
      "Error fetching data for M&M.NS: 'M&M.NS'\n",
      "[*********************100%%**********************]  1 of 1 completed\n",
      "Error fetching data for ALKEM.NS: 'ALKEM.NS'\n",
      "[*********************100%%**********************]  1 of 1 completed\n",
      "Error fetching data for UNOMINDA.NS: 'UNOMINDA.NS'\n",
      "[*********************100%%**********************]  1 of 1 completed\n",
      "Error fetching data for QUESS.NS: 'QUESS.NS'\n",
      "[*********************100%%**********************]  1 of 1 completed\n",
      "Error fetching data for TRENT.NS: 'TRENT.NS'\n",
      "[*********************100%%**********************]  1 of 1 completed\n",
      "Error fetching data for NYKAA.NS: 'NYKAA.NS'\n",
      "[*********************100%%**********************]  1 of 1 completed\n",
      "Error fetching data for CCL.NS: 'CCL.NS'\n",
      "[*********************100%%**********************]  1 of 1 completed\n",
      "Error fetching data for USHAMART.NS: 'USHAMART.NS'\n",
      "[*********************100%%**********************]  1 of 1 completed\n",
      "Error fetching data for MASTEK.NS: 'MASTEK.NS'\n",
      "[*********************100%%**********************]  1 of 1 completed\n",
      "Error fetching data for COLPAL.NS: 'COLPAL.NS'\n",
      "[*********************100%%**********************]  1 of 1 completed\n",
      "Error fetching data for SUPREMEIND.NS: 'SUPREMEIND.NS'\n",
      "[*********************100%%**********************]  1 of 1 completed\n",
      "Error fetching data for CHOLAHLDNG.NS: 'CHOLAHLDNG.NS'\n",
      "[*********************100%%**********************]  1 of 1 completed\n",
      "Error fetching data for KPRMILL.NS: 'KPRMILL.NS'\n",
      "[*********************100%%**********************]  1 of 1 completed\n",
      "Error fetching data for DIXON.NS: 'DIXON.NS'\n",
      "[*********************100%%**********************]  1 of 1 completed\n",
      "Error fetching data for GAEL.NS: 'GAEL.NS'\n",
      "[*********************100%%**********************]  1 of 1 completed\n",
      "Error fetching data for BHARTIARTL.NS: 'BHARTIARTL.NS'\n",
      "[*********************100%%**********************]  1 of 1 completed\n",
      "Error fetching data for 3MINDIA.NS: '3MINDIA.NS'\n",
      "[*********************100%%**********************]  1 of 1 completed\n",
      "Error fetching data for KEI.NS: 'KEI.NS'\n",
      "[*********************100%%**********************]  1 of 1 completed\n",
      "Error fetching data for METROBRAND.NS: 'METROBRAND.NS'\n",
      "[*********************100%%**********************]  1 of 1 completed\n",
      "Error fetching data for 360ONE.NS: '360ONE.NS'\n",
      "[*********************100%%**********************]  1 of 1 completed\n",
      "Error fetching data for GOCOLORS.NS: 'GOCOLORS.NS'\n",
      "[*********************100%%**********************]  1 of 1 completed\n",
      "Error fetching data for CHEMPLASTS.NS: 'CHEMPLASTS.NS'\n",
      "[*********************100%%**********************]  1 of 1 completed\n",
      "Error fetching data for BSOFT.NS: 'BSOFT.NS'\n",
      "[*********************100%%**********************]  1 of 1 completed\n",
      "Error fetching data for CHOLAFIN.NS: 'CHOLAFIN.NS'\n",
      "[*********************100%%**********************]  1 of 1 completed\n",
      "Error fetching data for EICHERMOT.NS: 'EICHERMOT.NS'\n",
      "[*********************100%%**********************]  1 of 1 completed\n",
      "Error fetching data for SONATSOFTW.NS: 'SONATSOFTW.NS'\n",
      "[*********************100%%**********************]  1 of 1 completed\n",
      "Error fetching data for SAFARI.NS: 'SAFARI.NS'\n",
      "[*********************100%%**********************]  1 of 1 completed\n",
      "Error fetching data for BBTC.NS: 'BBTC.NS'\n"
     ]
    }
   ],
   "source": [
    "df_sha = {}\n",
    "\n",
    "for symbol in tiker_name:\n",
    "    try:\n",
    "        df_sh[symbol] = yf.download(symbol,start=\"2018-01-18\",end=\"2024-01-18\",interval=\"1d\")\n",
    "\n",
    "        # Calculate daily returns\n",
    "        df_sha[symbol]['Daily_Return'] = df_sha[symbol]['Close'].pct_change()\n",
    "\n",
    "        # # Resample to get monthly returns\n",
    "        # df_sh[symbol] = df_sh[symbol]['Daily_Return'].resample('M').apply(lambda x: (x + 1).prod() - 1)\n",
    "    except Exception as e:\n",
    "        print(f\"Error fetching data for {symbol}: {e}\")\n",
    "\n",
    "# Create an empty DataFrame to store monthly returns of all stocks\n",
    "all_stock_returns = pd.DataFrame()\n",
    "\n",
    "for symbol in df_sha.keys():\n",
    "    all_stock_returns[symbol] = df_sha[symbol]"
   ],
   "metadata": {
    "collapsed": false,
    "pycharm": {
     "name": "#%%\n"
    }
   }
  },
  {
   "cell_type": "code",
   "execution_count": null,
   "outputs": [],
   "source": [
    "df_sh = {}\n",
    "\n",
    "for symbol in tiker_name:\n",
    "    try:\n",
    "        df_sh[symbol] = yf.download(symbol,start=\"2018-01-18\",end=\"2024-01-18\",interval=\"1d\")\n",
    "\n",
    "        # Calculate daily returns\n",
    "        df_sh[symbol]['Daily_Return'] = df_sh[symbol]['Close'].pct_change()\n",
    "\n",
    "        # # Resample to get monthly returns\n",
    "        # df_sh[symbol] = df_sh[symbol]['Daily_Return'].resample('M').apply(lambda x: (x + 1).prod() - 1)\n",
    "    except Exception as e:\n",
    "        print(f\"Error fetching data for {symbol}: {e}\")\n",
    "\n",
    "# Create an empty DataFrame to store monthly returns of all stocks\n",
    "all_stock_returns = pd.DataFrame()\n",
    "\n",
    "# Concatenate monthly returns into a single DataFrame\n",
    "for symbol in df_sh.keys():\n",
    "    all_stock_returns[symbol] = df_sh[symbol]"
   ],
   "metadata": {
    "collapsed": false,
    "pycharm": {
     "name": "#%%\n"
    }
   }
  },
  {
   "cell_type": "code",
   "execution_count": 27,
   "outputs": [
    {
     "data": {
      "text/plain": "Empty DataFrame\nColumns: []\nIndex: []",
      "text/html": "<div>\n<style scoped>\n    .dataframe tbody tr th:only-of-type {\n        vertical-align: middle;\n    }\n\n    .dataframe tbody tr th {\n        vertical-align: top;\n    }\n\n    .dataframe thead th {\n        text-align: right;\n    }\n</style>\n<table border=\"1\" class=\"dataframe\">\n  <thead>\n    <tr style=\"text-align: right;\">\n      <th></th>\n    </tr>\n  </thead>\n  <tbody>\n  </tbody>\n</table>\n</div>"
     },
     "execution_count": 27,
     "metadata": {},
     "output_type": "execute_result"
    }
   ],
   "source": [
    "all_stock_returns"
   ],
   "metadata": {
    "collapsed": false,
    "pycharm": {
     "name": "#%%\n"
    }
   }
  },
  {
   "cell_type": "code",
   "execution_count": 30,
   "outputs": [
    {
     "name": "stdout",
     "output_type": "stream",
     "text": [
      "[*********************100%%**********************]  1 of 1 completed\n",
      "[*********************100%%**********************]  1 of 1 completed\n",
      "[*********************100%%**********************]  1 of 1 completed\n",
      "[*********************100%%**********************]  1 of 1 completed\n",
      "[*********************100%%**********************]  1 of 1 completed\n",
      "[*********************100%%**********************]  1 of 1 completed\n",
      "[*********************100%%**********************]  1 of 1 completed\n",
      "[*********************100%%**********************]  1 of 1 completed\n",
      "[*********************100%%**********************]  1 of 1 completed\n",
      "[*********************100%%**********************]  1 of 1 completed\n",
      "[*********************100%%**********************]  1 of 1 completed\n",
      "[*********************100%%**********************]  1 of 1 completed\n",
      "[*********************100%%**********************]  1 of 1 completed\n",
      "[*********************100%%**********************]  1 of 1 completed\n",
      "[*********************100%%**********************]  1 of 1 completed\n",
      "[*********************100%%**********************]  1 of 1 completed\n",
      "[*********************100%%**********************]  1 of 1 completed\n",
      "[*********************100%%**********************]  1 of 1 completed\n",
      "[*********************100%%**********************]  1 of 1 completed\n",
      "[*********************100%%**********************]  1 of 1 completed\n",
      "[*********************100%%**********************]  1 of 1 completed\n",
      "[*********************100%%**********************]  1 of 1 completed\n",
      "[*********************100%%**********************]  1 of 1 completed\n",
      "[*********************100%%**********************]  1 of 1 completed\n",
      "[*********************100%%**********************]  1 of 1 completed\n",
      "[*********************100%%**********************]  1 of 1 completed\n",
      "[*********************100%%**********************]  1 of 1 completed\n",
      "[*********************100%%**********************]  1 of 1 completed\n",
      "[*********************100%%**********************]  1 of 1 completed\n",
      "[*********************100%%**********************]  1 of 1 completed\n",
      "[*********************100%%**********************]  1 of 1 completed\n",
      "[*********************100%%**********************]  1 of 1 completed\n",
      "[*********************100%%**********************]  1 of 1 completed\n",
      "[*********************100%%**********************]  1 of 1 completed\n",
      "[*********************100%%**********************]  1 of 1 completed\n",
      "[*********************100%%**********************]  1 of 1 completed\n",
      "[*********************100%%**********************]  1 of 1 completed\n",
      "[*********************100%%**********************]  1 of 1 completed\n",
      "[*********************100%%**********************]  1 of 1 completed\n",
      "[*********************100%%**********************]  1 of 1 completed\n",
      "[*********************100%%**********************]  1 of 1 completed\n",
      "[*********************100%%**********************]  1 of 1 completed\n",
      "[*********************100%%**********************]  1 of 1 completed\n",
      "[*********************100%%**********************]  1 of 1 completed\n",
      "[*********************100%%**********************]  1 of 1 completed\n",
      "[*********************100%%**********************]  1 of 1 completed\n",
      "[*********************100%%**********************]  1 of 1 completed\n",
      "[*********************100%%**********************]  1 of 1 completed\n",
      "[*********************100%%**********************]  1 of 1 completed\n",
      "[*********************100%%**********************]  1 of 1 completed\n",
      "[*********************100%%**********************]  1 of 1 completed\n",
      "[*********************100%%**********************]  1 of 1 completed\n",
      "[*********************100%%**********************]  1 of 1 completed\n",
      "[*********************100%%**********************]  1 of 1 completed\n",
      "[*********************100%%**********************]  1 of 1 completed\n",
      "[*********************100%%**********************]  1 of 1 completed\n",
      "[*********************100%%**********************]  1 of 1 completed\n",
      "[*********************100%%**********************]  1 of 1 completed\n",
      "[*********************100%%**********************]  1 of 1 completed\n",
      "[*********************100%%**********************]  1 of 1 completed\n",
      "[*********************100%%**********************]  1 of 1 completed\n",
      "[*********************100%%**********************]  1 of 1 completed\n",
      "[*********************100%%**********************]  1 of 1 completed\n",
      "[*********************100%%**********************]  1 of 1 completed\n",
      "[*********************100%%**********************]  1 of 1 completed\n",
      "[*********************100%%**********************]  1 of 1 completed\n",
      "[*********************100%%**********************]  1 of 1 completed\n",
      "[*********************100%%**********************]  1 of 1 completed\n",
      "[*********************100%%**********************]  1 of 1 completed\n",
      "[*********************100%%**********************]  1 of 1 completed\n",
      "[*********************100%%**********************]  1 of 1 completed\n",
      "[*********************100%%**********************]  1 of 1 completed\n",
      "[*********************100%%**********************]  1 of 1 completed\n",
      "[*********************100%%**********************]  1 of 1 completed\n",
      "[*********************100%%**********************]  1 of 1 completed\n",
      "[*********************100%%**********************]  1 of 1 completed\n",
      "[*********************100%%**********************]  1 of 1 completed\n",
      "[*********************100%%**********************]  1 of 1 completed\n",
      "[*********************100%%**********************]  1 of 1 completed\n",
      "[*********************100%%**********************]  1 of 1 completed\n",
      "[*********************100%%**********************]  1 of 1 completed\n",
      "[*********************100%%**********************]  1 of 1 completed\n",
      "[*********************100%%**********************]  1 of 1 completed\n",
      "[*********************100%%**********************]  1 of 1 completed\n",
      "[*********************100%%**********************]  1 of 1 completed\n",
      "[*********************100%%**********************]  1 of 1 completed\n",
      "[*********************100%%**********************]  1 of 1 completed\n",
      "[*********************100%%**********************]  1 of 1 completed\n",
      "[*********************100%%**********************]  1 of 1 completed\n",
      "[*********************100%%**********************]  1 of 1 completed\n",
      "[*********************100%%**********************]  1 of 1 completed\n",
      "[*********************100%%**********************]  1 of 1 completed\n",
      "[*********************100%%**********************]  1 of 1 completed\n",
      "[*********************100%%**********************]  1 of 1 completed\n",
      "[*********************100%%**********************]  1 of 1 completed\n",
      "[*********************100%%**********************]  1 of 1 completed\n",
      "[*********************100%%**********************]  1 of 1 completed\n",
      "[*********************100%%**********************]  1 of 1 completed\n",
      "[*********************100%%**********************]  1 of 1 completed\n",
      "[*********************100%%**********************]  1 of 1 completed\n",
      "[*********************100%%**********************]  1 of 1 completed\n",
      "[*********************100%%**********************]  1 of 1 completed\n",
      "[*********************100%%**********************]  1 of 1 completed\n",
      "[*********************100%%**********************]  1 of 1 completed\n",
      "[*********************100%%**********************]  1 of 1 completed\n",
      "[*********************100%%**********************]  1 of 1 completed\n",
      "[*********************100%%**********************]  1 of 1 completed\n",
      "[*********************100%%**********************]  1 of 1 completed\n",
      "[*********************100%%**********************]  1 of 1 completed\n",
      "[*********************100%%**********************]  1 of 1 completed\n",
      "[*********************100%%**********************]  1 of 1 completed\n",
      "[*********************100%%**********************]  1 of 1 completed\n",
      "[*********************100%%**********************]  1 of 1 completed\n",
      "[*********************100%%**********************]  1 of 1 completed\n",
      "[*********************100%%**********************]  1 of 1 completed\n",
      "[*********************100%%**********************]  1 of 1 completed\n",
      "[*********************100%%**********************]  1 of 1 completed\n",
      "[*********************100%%**********************]  1 of 1 completed\n",
      "[*********************100%%**********************]  1 of 1 completed\n",
      "[*********************100%%**********************]  1 of 1 completed\n",
      "[*********************100%%**********************]  1 of 1 completed\n",
      "[*********************100%%**********************]  1 of 1 completed\n",
      "[*********************100%%**********************]  1 of 1 completed\n",
      "[*********************100%%**********************]  1 of 1 completed\n",
      "[*********************100%%**********************]  1 of 1 completed\n",
      "[*********************100%%**********************]  1 of 1 completed\n",
      "[*********************100%%**********************]  1 of 1 completed\n",
      "[*********************100%%**********************]  1 of 1 completed\n",
      "[*********************100%%**********************]  1 of 1 completed\n",
      "[*********************100%%**********************]  1 of 1 completed\n",
      "[*********************100%%**********************]  1 of 1 completed\n",
      "[*********************100%%**********************]  1 of 1 completed\n",
      "[*********************100%%**********************]  1 of 1 completed\n",
      "[*********************100%%**********************]  1 of 1 completed\n",
      "[*********************100%%**********************]  1 of 1 completed\n",
      "[*********************100%%**********************]  1 of 1 completed\n",
      "[*********************100%%**********************]  1 of 1 completed\n",
      "[*********************100%%**********************]  1 of 1 completed\n",
      "[*********************100%%**********************]  1 of 1 completed\n",
      "[*********************100%%**********************]  1 of 1 completed\n",
      "[*********************100%%**********************]  1 of 1 completed\n",
      "[*********************100%%**********************]  1 of 1 completed\n",
      "[*********************100%%**********************]  1 of 1 completed\n",
      "[*********************100%%**********************]  1 of 1 completed\n",
      "[*********************100%%**********************]  1 of 1 completed\n",
      "[*********************100%%**********************]  1 of 1 completed\n",
      "[*********************100%%**********************]  1 of 1 completed\n",
      "[*********************100%%**********************]  1 of 1 completed\n",
      "[*********************100%%**********************]  1 of 1 completed\n",
      "[*********************100%%**********************]  1 of 1 completed\n",
      "[*********************100%%**********************]  1 of 1 completed\n",
      "[*********************100%%**********************]  1 of 1 completed\n",
      "[*********************100%%**********************]  1 of 1 completed\n",
      "[*********************100%%**********************]  1 of 1 completed\n",
      "[*********************100%%**********************]  1 of 1 completed\n",
      "[*********************100%%**********************]  1 of 1 completed\n",
      "[*********************100%%**********************]  1 of 1 completed\n",
      "[*********************100%%**********************]  1 of 1 completed\n",
      "[*********************100%%**********************]  1 of 1 completed\n",
      "[*********************100%%**********************]  1 of 1 completed\n",
      "[*********************100%%**********************]  1 of 1 completed\n",
      "[*********************100%%**********************]  1 of 1 completed\n",
      "[*********************100%%**********************]  1 of 1 completed\n",
      "[*********************100%%**********************]  1 of 1 completed\n",
      "[*********************100%%**********************]  1 of 1 completed\n",
      "[*********************100%%**********************]  1 of 1 completed\n",
      "[*********************100%%**********************]  1 of 1 completed\n",
      "[*********************100%%**********************]  1 of 1 completed\n",
      "[*********************100%%**********************]  1 of 1 completed\n",
      "[*********************100%%**********************]  1 of 1 completed\n",
      "[*********************100%%**********************]  1 of 1 completed\n",
      "[*********************100%%**********************]  1 of 1 completed\n",
      "[*********************100%%**********************]  1 of 1 completed\n",
      "[*********************100%%**********************]  1 of 1 completed\n",
      "[*********************100%%**********************]  1 of 1 completed\n",
      "[*********************100%%**********************]  1 of 1 completed\n",
      "[*********************100%%**********************]  1 of 1 completed\n",
      "[*********************100%%**********************]  1 of 1 completed\n",
      "[*********************100%%**********************]  1 of 1 completed\n",
      "[*********************100%%**********************]  1 of 1 completed\n",
      "[*********************100%%**********************]  1 of 1 completed\n",
      "[*********************100%%**********************]  1 of 1 completed\n",
      "[*********************100%%**********************]  1 of 1 completed\n",
      "[*********************100%%**********************]  1 of 1 completed\n",
      "[*********************100%%**********************]  1 of 1 completed\n",
      "[*********************100%%**********************]  1 of 1 completed\n",
      "[*********************100%%**********************]  1 of 1 completed\n",
      "[*********************100%%**********************]  1 of 1 completed\n",
      "[*********************100%%**********************]  1 of 1 completed\n",
      "[*********************100%%**********************]  1 of 1 completed\n",
      "[*********************100%%**********************]  1 of 1 completed\n",
      "[*********************100%%**********************]  1 of 1 completed\n",
      "[*********************100%%**********************]  1 of 1 completed\n",
      "[*********************100%%**********************]  1 of 1 completed\n",
      "[*********************100%%**********************]  1 of 1 completed\n",
      "[*********************100%%**********************]  1 of 1 completed\n",
      "[*********************100%%**********************]  1 of 1 completed\n",
      "[*********************100%%**********************]  1 of 1 completed\n",
      "[*********************100%%**********************]  1 of 1 completed\n",
      "[*********************100%%**********************]  1 of 1 completed\n",
      "[*********************100%%**********************]  1 of 1 completed\n",
      "[*********************100%%**********************]  1 of 1 completed\n",
      "[*********************100%%**********************]  1 of 1 completed\n",
      "[*********************100%%**********************]  1 of 1 completed\n",
      "[*********************100%%**********************]  1 of 1 completed\n",
      "[*********************100%%**********************]  1 of 1 completed\n",
      "[*********************100%%**********************]  1 of 1 completed\n",
      "[*********************100%%**********************]  1 of 1 completed\n",
      "[*********************100%%**********************]  1 of 1 completed\n",
      "[*********************100%%**********************]  1 of 1 completed\n",
      "[*********************100%%**********************]  1 of 1 completed\n",
      "[*********************100%%**********************]  1 of 1 completed\n",
      "[*********************100%%**********************]  1 of 1 completed\n",
      "[*********************100%%**********************]  1 of 1 completed\n",
      "[*********************100%%**********************]  1 of 1 completed\n",
      "[*********************100%%**********************]  1 of 1 completed\n",
      "[*********************100%%**********************]  1 of 1 completed\n",
      "[*********************100%%**********************]  1 of 1 completed\n",
      "[*********************100%%**********************]  1 of 1 completed\n",
      "[*********************100%%**********************]  1 of 1 completed\n",
      "[*********************100%%**********************]  1 of 1 completed\n",
      "[*********************100%%**********************]  1 of 1 completed\n",
      "[*********************100%%**********************]  1 of 1 completed\n",
      "[*********************100%%**********************]  1 of 1 completed\n",
      "[*********************100%%**********************]  1 of 1 completed\n",
      "[*********************100%%**********************]  1 of 1 completed\n",
      "[*********************100%%**********************]  1 of 1 completed\n",
      "[*********************100%%**********************]  1 of 1 completed\n",
      "[*********************100%%**********************]  1 of 1 completed\n",
      "[*********************100%%**********************]  1 of 1 completed\n",
      "[*********************100%%**********************]  1 of 1 completed\n",
      "[*********************100%%**********************]  1 of 1 completed\n",
      "[*********************100%%**********************]  1 of 1 completed\n",
      "[*********************100%%**********************]  1 of 1 completed\n",
      "[*********************100%%**********************]  1 of 1 completed\n",
      "[*********************100%%**********************]  1 of 1 completed\n",
      "[*********************100%%**********************]  1 of 1 completed\n",
      "[*********************100%%**********************]  1 of 1 completed\n",
      "[*********************100%%**********************]  1 of 1 completed\n",
      "[*********************100%%**********************]  1 of 1 completed\n",
      "[*********************100%%**********************]  1 of 1 completed\n",
      "[*********************100%%**********************]  1 of 1 completed\n",
      "[*********************100%%**********************]  1 of 1 completed\n",
      "[*********************100%%**********************]  1 of 1 completed\n",
      "[*********************100%%**********************]  1 of 1 completed\n",
      "[*********************100%%**********************]  1 of 1 completed\n",
      "[*********************100%%**********************]  1 of 1 completed\n",
      "[*********************100%%**********************]  1 of 1 completed\n",
      "[*********************100%%**********************]  1 of 1 completed\n",
      "[*********************100%%**********************]  1 of 1 completed\n",
      "[*********************100%%**********************]  1 of 1 completed\n",
      "[*********************100%%**********************]  1 of 1 completed\n",
      "[*********************100%%**********************]  1 of 1 completed\n",
      "[*********************100%%**********************]  1 of 1 completed\n",
      "[*********************100%%**********************]  1 of 1 completed\n",
      "[*********************100%%**********************]  1 of 1 completed\n",
      "[*********************100%%**********************]  1 of 1 completed\n",
      "[*********************100%%**********************]  1 of 1 completed\n",
      "[*********************100%%**********************]  1 of 1 completed\n",
      "[*********************100%%**********************]  1 of 1 completed\n",
      "[*********************100%%**********************]  1 of 1 completed\n",
      "[*********************100%%**********************]  1 of 1 completed\n",
      "[*********************100%%**********************]  1 of 1 completed\n",
      "[*********************100%%**********************]  1 of 1 completed\n",
      "[*********************100%%**********************]  1 of 1 completed\n",
      "[*********************100%%**********************]  1 of 1 completed\n",
      "[*********************100%%**********************]  1 of 1 completed\n",
      "[*********************100%%**********************]  1 of 1 completed\n",
      "[*********************100%%**********************]  1 of 1 completed\n",
      "[*********************100%%**********************]  1 of 1 completed\n",
      "[*********************100%%**********************]  1 of 1 completed\n",
      "[*********************100%%**********************]  1 of 1 completed\n",
      "[*********************100%%**********************]  1 of 1 completed\n",
      "[*********************100%%**********************]  1 of 1 completed\n",
      "[*********************100%%**********************]  1 of 1 completed\n",
      "[*********************100%%**********************]  1 of 1 completed\n",
      "[*********************100%%**********************]  1 of 1 completed\n",
      "[*********************100%%**********************]  1 of 1 completed\n",
      "[*********************100%%**********************]  1 of 1 completed\n",
      "[*********************100%%**********************]  1 of 1 completed\n",
      "[*********************100%%**********************]  1 of 1 completed\n",
      "[*********************100%%**********************]  1 of 1 completed\n",
      "[*********************100%%**********************]  1 of 1 completed\n",
      "[*********************100%%**********************]  1 of 1 completed\n",
      "[*********************100%%**********************]  1 of 1 completed\n",
      "[*********************100%%**********************]  1 of 1 completed\n",
      "[*********************100%%**********************]  1 of 1 completed\n",
      "[*********************100%%**********************]  1 of 1 completed\n",
      "[*********************100%%**********************]  1 of 1 completed\n",
      "[*********************100%%**********************]  1 of 1 completed\n",
      "[*********************100%%**********************]  1 of 1 completed\n",
      "[*********************100%%**********************]  1 of 1 completed\n",
      "[*********************100%%**********************]  1 of 1 completed\n",
      "[*********************100%%**********************]  1 of 1 completed\n",
      "[*********************100%%**********************]  1 of 1 completed\n",
      "[*********************100%%**********************]  1 of 1 completed\n",
      "[*********************100%%**********************]  1 of 1 completed\n",
      "[*********************100%%**********************]  1 of 1 completed\n",
      "[*********************100%%**********************]  1 of 1 completed\n",
      "[*********************100%%**********************]  1 of 1 completed\n",
      "[*********************100%%**********************]  1 of 1 completed\n",
      "[*********************100%%**********************]  1 of 1 completed\n",
      "[*********************100%%**********************]  1 of 1 completed\n",
      "[*********************100%%**********************]  1 of 1 completed\n",
      "[*********************100%%**********************]  1 of 1 completed\n",
      "[*********************100%%**********************]  1 of 1 completed\n",
      "[*********************100%%**********************]  1 of 1 completed\n",
      "[*********************100%%**********************]  1 of 1 completed\n",
      "[*********************100%%**********************]  1 of 1 completed\n",
      "[*********************100%%**********************]  1 of 1 completed\n",
      "[*********************100%%**********************]  1 of 1 completed\n",
      "[*********************100%%**********************]  1 of 1 completed\n",
      "[*********************100%%**********************]  1 of 1 completed\n",
      "[*********************100%%**********************]  1 of 1 completed\n",
      "[*********************100%%**********************]  1 of 1 completed\n",
      "[*********************100%%**********************]  1 of 1 completed\n",
      "[*********************100%%**********************]  1 of 1 completed\n",
      "[*********************100%%**********************]  1 of 1 completed\n",
      "[*********************100%%**********************]  1 of 1 completed\n",
      "[*********************100%%**********************]  1 of 1 completed\n",
      "[*********************100%%**********************]  1 of 1 completed\n",
      "[*********************100%%**********************]  1 of 1 completed\n",
      "[*********************100%%**********************]  1 of 1 completed\n",
      "[*********************100%%**********************]  1 of 1 completed\n",
      "[*********************100%%**********************]  1 of 1 completed\n",
      "[*********************100%%**********************]  1 of 1 completed\n",
      "[*********************100%%**********************]  1 of 1 completed\n",
      "[*********************100%%**********************]  1 of 1 completed\n",
      "[*********************100%%**********************]  1 of 1 completed\n",
      "[*********************100%%**********************]  1 of 1 completed\n",
      "[*********************100%%**********************]  1 of 1 completed\n",
      "[*********************100%%**********************]  1 of 1 completed\n",
      "[*********************100%%**********************]  1 of 1 completed\n",
      "[*********************100%%**********************]  1 of 1 completed\n",
      "[*********************100%%**********************]  1 of 1 completed\n",
      "[*********************100%%**********************]  1 of 1 completed\n",
      "[*********************100%%**********************]  1 of 1 completed\n",
      "[*********************100%%**********************]  1 of 1 completed\n",
      "[*********************100%%**********************]  1 of 1 completed\n",
      "[*********************100%%**********************]  1 of 1 completed\n",
      "[*********************100%%**********************]  1 of 1 completed\n",
      "[*********************100%%**********************]  1 of 1 completed\n",
      "[*********************100%%**********************]  1 of 1 completed\n",
      "[*********************100%%**********************]  1 of 1 completed\n",
      "[*********************100%%**********************]  1 of 1 completed\n",
      "[*********************100%%**********************]  1 of 1 completed\n",
      "[*********************100%%**********************]  1 of 1 completed\n",
      "[*********************100%%**********************]  1 of 1 completed\n",
      "[*********************100%%**********************]  1 of 1 completed\n",
      "[*********************100%%**********************]  1 of 1 completed\n",
      "[*********************100%%**********************]  1 of 1 completed\n",
      "[*********************100%%**********************]  1 of 1 completed\n",
      "[*********************100%%**********************]  1 of 1 completed\n",
      "[*********************100%%**********************]  1 of 1 completed\n",
      "[*********************100%%**********************]  1 of 1 completed\n",
      "[*********************100%%**********************]  1 of 1 completed\n",
      "[*********************100%%**********************]  1 of 1 completed\n",
      "[*********************100%%**********************]  1 of 1 completed\n",
      "[*********************100%%**********************]  1 of 1 completed\n",
      "[*********************100%%**********************]  1 of 1 completed\n",
      "[*********************100%%**********************]  1 of 1 completed\n",
      "[*********************100%%**********************]  1 of 1 completed\n",
      "[*********************100%%**********************]  1 of 1 completed\n",
      "[*********************100%%**********************]  1 of 1 completed\n",
      "[*********************100%%**********************]  1 of 1 completed\n",
      "[*********************100%%**********************]  1 of 1 completed\n",
      "[*********************100%%**********************]  1 of 1 completed\n",
      "[*********************100%%**********************]  1 of 1 completed\n",
      "[*********************100%%**********************]  1 of 1 completed\n",
      "[*********************100%%**********************]  1 of 1 completed\n",
      "[*********************100%%**********************]  1 of 1 completed\n",
      "[*********************100%%**********************]  1 of 1 completed\n",
      "[*********************100%%**********************]  1 of 1 completed\n",
      "[*********************100%%**********************]  1 of 1 completed\n",
      "[*********************100%%**********************]  1 of 1 completed\n",
      "[*********************100%%**********************]  1 of 1 completed\n",
      "[*********************100%%**********************]  1 of 1 completed\n",
      "[*********************100%%**********************]  1 of 1 completed\n",
      "[*********************100%%**********************]  1 of 1 completed\n",
      "[*********************100%%**********************]  1 of 1 completed\n",
      "[*********************100%%**********************]  1 of 1 completed\n",
      "[*********************100%%**********************]  1 of 1 completed\n",
      "[*********************100%%**********************]  1 of 1 completed\n",
      "[*********************100%%**********************]  1 of 1 completed\n",
      "[*********************100%%**********************]  1 of 1 completed\n",
      "[*********************100%%**********************]  1 of 1 completed\n",
      "[*********************100%%**********************]  1 of 1 completed\n",
      "[*********************100%%**********************]  1 of 1 completed\n",
      "[*********************100%%**********************]  1 of 1 completed\n",
      "[*********************100%%**********************]  1 of 1 completed\n",
      "[*********************100%%**********************]  1 of 1 completed\n",
      "[*********************100%%**********************]  1 of 1 completed\n",
      "[*********************100%%**********************]  1 of 1 completed\n",
      "[*********************100%%**********************]  1 of 1 completed\n",
      "[*********************100%%**********************]  1 of 1 completed\n",
      "[*********************100%%**********************]  1 of 1 completed\n",
      "[*********************100%%**********************]  1 of 1 completed\n",
      "[*********************100%%**********************]  1 of 1 completed\n",
      "[*********************100%%**********************]  1 of 1 completed\n",
      "[*********************100%%**********************]  1 of 1 completed\n",
      "[*********************100%%**********************]  1 of 1 completed\n",
      "[*********************100%%**********************]  1 of 1 completed\n",
      "[*********************100%%**********************]  1 of 1 completed\n",
      "[*********************100%%**********************]  1 of 1 completed\n",
      "[*********************100%%**********************]  1 of 1 completed\n",
      "[*********************100%%**********************]  1 of 1 completed\n",
      "[*********************100%%**********************]  1 of 1 completed\n",
      "[*********************100%%**********************]  1 of 1 completed\n",
      "[*********************100%%**********************]  1 of 1 completed\n",
      "[*********************100%%**********************]  1 of 1 completed\n",
      "[*********************100%%**********************]  1 of 1 completed\n",
      "[*********************100%%**********************]  1 of 1 completed\n",
      "[*********************100%%**********************]  1 of 1 completed\n",
      "[*********************100%%**********************]  1 of 1 completed\n",
      "[*********************100%%**********************]  1 of 1 completed\n",
      "[*********************100%%**********************]  1 of 1 completed\n",
      "[*********************100%%**********************]  1 of 1 completed\n",
      "[*********************100%%**********************]  1 of 1 completed\n",
      "[*********************100%%**********************]  1 of 1 completed\n",
      "[*********************100%%**********************]  1 of 1 completed\n",
      "[*********************100%%**********************]  1 of 1 completed\n",
      "[*********************100%%**********************]  1 of 1 completed\n",
      "[*********************100%%**********************]  1 of 1 completed\n",
      "[*********************100%%**********************]  1 of 1 completed\n",
      "[*********************100%%**********************]  1 of 1 completed\n",
      "[*********************100%%**********************]  1 of 1 completed\n",
      "[*********************100%%**********************]  1 of 1 completed\n",
      "[*********************100%%**********************]  1 of 1 completed\n",
      "[*********************100%%**********************]  1 of 1 completed\n",
      "[*********************100%%**********************]  1 of 1 completed\n",
      "[*********************100%%**********************]  1 of 1 completed\n",
      "[*********************100%%**********************]  1 of 1 completed\n",
      "[*********************100%%**********************]  1 of 1 completed\n",
      "[*********************100%%**********************]  1 of 1 completed\n",
      "[*********************100%%**********************]  1 of 1 completed\n",
      "[*********************100%%**********************]  1 of 1 completed\n",
      "[*********************100%%**********************]  1 of 1 completed\n",
      "[*********************100%%**********************]  1 of 1 completed\n",
      "[*********************100%%**********************]  1 of 1 completed\n",
      "[*********************100%%**********************]  1 of 1 completed\n",
      "[*********************100%%**********************]  1 of 1 completed\n",
      "[*********************100%%**********************]  1 of 1 completed\n",
      "[*********************100%%**********************]  1 of 1 completed\n",
      "[*********************100%%**********************]  1 of 1 completed\n",
      "[*********************100%%**********************]  1 of 1 completed\n",
      "[*********************100%%**********************]  1 of 1 completed\n",
      "[*********************100%%**********************]  1 of 1 completed\n",
      "[*********************100%%**********************]  1 of 1 completed\n",
      "[*********************100%%**********************]  1 of 1 completed\n",
      "[*********************100%%**********************]  1 of 1 completed\n",
      "[*********************100%%**********************]  1 of 1 completed\n",
      "[*********************100%%**********************]  1 of 1 completed\n",
      "[*********************100%%**********************]  1 of 1 completed\n",
      "[*********************100%%**********************]  1 of 1 completed\n",
      "[*********************100%%**********************]  1 of 1 completed\n",
      "[*********************100%%**********************]  1 of 1 completed\n",
      "[*********************100%%**********************]  1 of 1 completed\n",
      "[*********************100%%**********************]  1 of 1 completed\n",
      "[*********************100%%**********************]  1 of 1 completed\n",
      "[*********************100%%**********************]  1 of 1 completed\n",
      "[*********************100%%**********************]  1 of 1 completed\n",
      "[*********************100%%**********************]  1 of 1 completed\n",
      "[*********************100%%**********************]  1 of 1 completed\n",
      "[*********************100%%**********************]  1 of 1 completed\n",
      "[*********************100%%**********************]  1 of 1 completed\n",
      "[*********************100%%**********************]  1 of 1 completed\n",
      "[*********************100%%**********************]  1 of 1 completed\n",
      "[*********************100%%**********************]  1 of 1 completed\n",
      "[*********************100%%**********************]  1 of 1 completed\n",
      "[*********************100%%**********************]  1 of 1 completed\n",
      "[*********************100%%**********************]  1 of 1 completed\n",
      "[*********************100%%**********************]  1 of 1 completed\n",
      "[*********************100%%**********************]  1 of 1 completed\n",
      "[*********************100%%**********************]  1 of 1 completed\n",
      "[*********************100%%**********************]  1 of 1 completed\n",
      "[*********************100%%**********************]  1 of 1 completed\n",
      "[*********************100%%**********************]  1 of 1 completed\n",
      "[*********************100%%**********************]  1 of 1 completed\n",
      "[*********************100%%**********************]  1 of 1 completed\n",
      "[*********************100%%**********************]  1 of 1 completed\n",
      "[*********************100%%**********************]  1 of 1 completed\n",
      "[*********************100%%**********************]  1 of 1 completed\n",
      "[*********************100%%**********************]  1 of 1 completed\n",
      "[*********************100%%**********************]  1 of 1 completed\n",
      "[*********************100%%**********************]  1 of 1 completed\n",
      "[*********************100%%**********************]  1 of 1 completed\n",
      "[*********************100%%**********************]  1 of 1 completed\n",
      "[*********************100%%**********************]  1 of 1 completed\n",
      "[*********************100%%**********************]  1 of 1 completed\n",
      "[*********************100%%**********************]  1 of 1 completed\n",
      "[*********************100%%**********************]  1 of 1 completed\n",
      "[*********************100%%**********************]  1 of 1 completed\n",
      "[*********************100%%**********************]  1 of 1 completed\n",
      "[*********************100%%**********************]  1 of 1 completed\n",
      "[*********************100%%**********************]  1 of 1 completed\n",
      "[*********************100%%**********************]  1 of 1 completed\n",
      "[*********************100%%**********************]  1 of 1 completed\n",
      "[*********************100%%**********************]  1 of 1 completed\n",
      "[*********************100%%**********************]  1 of 1 completed\n",
      "[*********************100%%**********************]  1 of 1 completed\n"
     ]
    },
    {
     "name": "stderr",
     "output_type": "stream",
     "text": [
      "C:\\Users\\aviji\\AppData\\Local\\Temp\\ipykernel_8628\\317388784.py:24: PerformanceWarning: DataFrame is highly fragmented.  This is usually the result of calling `frame.insert` many times, which has poor performance.  Consider joining all columns at once using pd.concat(axis=1) instead. To get a de-fragmented frame, use `newframe = frame.copy()`\n",
      "  all_stock_returns[symbol] = df_sh[symbol]['Daily_Return']\n",
      "C:\\Users\\aviji\\AppData\\Local\\Temp\\ipykernel_8628\\317388784.py:24: PerformanceWarning: DataFrame is highly fragmented.  This is usually the result of calling `frame.insert` many times, which has poor performance.  Consider joining all columns at once using pd.concat(axis=1) instead. To get a de-fragmented frame, use `newframe = frame.copy()`\n",
      "  all_stock_returns[symbol] = df_sh[symbol]['Daily_Return']\n",
      "C:\\Users\\aviji\\AppData\\Local\\Temp\\ipykernel_8628\\317388784.py:24: PerformanceWarning: DataFrame is highly fragmented.  This is usually the result of calling `frame.insert` many times, which has poor performance.  Consider joining all columns at once using pd.concat(axis=1) instead. To get a de-fragmented frame, use `newframe = frame.copy()`\n",
      "  all_stock_returns[symbol] = df_sh[symbol]['Daily_Return']\n",
      "C:\\Users\\aviji\\AppData\\Local\\Temp\\ipykernel_8628\\317388784.py:24: PerformanceWarning: DataFrame is highly fragmented.  This is usually the result of calling `frame.insert` many times, which has poor performance.  Consider joining all columns at once using pd.concat(axis=1) instead. To get a de-fragmented frame, use `newframe = frame.copy()`\n",
      "  all_stock_returns[symbol] = df_sh[symbol]['Daily_Return']\n",
      "C:\\Users\\aviji\\AppData\\Local\\Temp\\ipykernel_8628\\317388784.py:24: PerformanceWarning: DataFrame is highly fragmented.  This is usually the result of calling `frame.insert` many times, which has poor performance.  Consider joining all columns at once using pd.concat(axis=1) instead. To get a de-fragmented frame, use `newframe = frame.copy()`\n",
      "  all_stock_returns[symbol] = df_sh[symbol]['Daily_Return']\n",
      "C:\\Users\\aviji\\AppData\\Local\\Temp\\ipykernel_8628\\317388784.py:24: PerformanceWarning: DataFrame is highly fragmented.  This is usually the result of calling `frame.insert` many times, which has poor performance.  Consider joining all columns at once using pd.concat(axis=1) instead. To get a de-fragmented frame, use `newframe = frame.copy()`\n",
      "  all_stock_returns[symbol] = df_sh[symbol]['Daily_Return']\n",
      "C:\\Users\\aviji\\AppData\\Local\\Temp\\ipykernel_8628\\317388784.py:24: PerformanceWarning: DataFrame is highly fragmented.  This is usually the result of calling `frame.insert` many times, which has poor performance.  Consider joining all columns at once using pd.concat(axis=1) instead. To get a de-fragmented frame, use `newframe = frame.copy()`\n",
      "  all_stock_returns[symbol] = df_sh[symbol]['Daily_Return']\n",
      "C:\\Users\\aviji\\AppData\\Local\\Temp\\ipykernel_8628\\317388784.py:24: PerformanceWarning: DataFrame is highly fragmented.  This is usually the result of calling `frame.insert` many times, which has poor performance.  Consider joining all columns at once using pd.concat(axis=1) instead. To get a de-fragmented frame, use `newframe = frame.copy()`\n",
      "  all_stock_returns[symbol] = df_sh[symbol]['Daily_Return']\n",
      "C:\\Users\\aviji\\AppData\\Local\\Temp\\ipykernel_8628\\317388784.py:24: PerformanceWarning: DataFrame is highly fragmented.  This is usually the result of calling `frame.insert` many times, which has poor performance.  Consider joining all columns at once using pd.concat(axis=1) instead. To get a de-fragmented frame, use `newframe = frame.copy()`\n",
      "  all_stock_returns[symbol] = df_sh[symbol]['Daily_Return']\n",
      "C:\\Users\\aviji\\AppData\\Local\\Temp\\ipykernel_8628\\317388784.py:24: PerformanceWarning: DataFrame is highly fragmented.  This is usually the result of calling `frame.insert` many times, which has poor performance.  Consider joining all columns at once using pd.concat(axis=1) instead. To get a de-fragmented frame, use `newframe = frame.copy()`\n",
      "  all_stock_returns[symbol] = df_sh[symbol]['Daily_Return']\n",
      "C:\\Users\\aviji\\AppData\\Local\\Temp\\ipykernel_8628\\317388784.py:24: PerformanceWarning: DataFrame is highly fragmented.  This is usually the result of calling `frame.insert` many times, which has poor performance.  Consider joining all columns at once using pd.concat(axis=1) instead. To get a de-fragmented frame, use `newframe = frame.copy()`\n",
      "  all_stock_returns[symbol] = df_sh[symbol]['Daily_Return']\n",
      "C:\\Users\\aviji\\AppData\\Local\\Temp\\ipykernel_8628\\317388784.py:24: PerformanceWarning: DataFrame is highly fragmented.  This is usually the result of calling `frame.insert` many times, which has poor performance.  Consider joining all columns at once using pd.concat(axis=1) instead. To get a de-fragmented frame, use `newframe = frame.copy()`\n",
      "  all_stock_returns[symbol] = df_sh[symbol]['Daily_Return']\n",
      "C:\\Users\\aviji\\AppData\\Local\\Temp\\ipykernel_8628\\317388784.py:24: PerformanceWarning: DataFrame is highly fragmented.  This is usually the result of calling `frame.insert` many times, which has poor performance.  Consider joining all columns at once using pd.concat(axis=1) instead. To get a de-fragmented frame, use `newframe = frame.copy()`\n",
      "  all_stock_returns[symbol] = df_sh[symbol]['Daily_Return']\n",
      "C:\\Users\\aviji\\AppData\\Local\\Temp\\ipykernel_8628\\317388784.py:24: PerformanceWarning: DataFrame is highly fragmented.  This is usually the result of calling `frame.insert` many times, which has poor performance.  Consider joining all columns at once using pd.concat(axis=1) instead. To get a de-fragmented frame, use `newframe = frame.copy()`\n",
      "  all_stock_returns[symbol] = df_sh[symbol]['Daily_Return']\n",
      "C:\\Users\\aviji\\AppData\\Local\\Temp\\ipykernel_8628\\317388784.py:24: PerformanceWarning: DataFrame is highly fragmented.  This is usually the result of calling `frame.insert` many times, which has poor performance.  Consider joining all columns at once using pd.concat(axis=1) instead. To get a de-fragmented frame, use `newframe = frame.copy()`\n",
      "  all_stock_returns[symbol] = df_sh[symbol]['Daily_Return']\n",
      "C:\\Users\\aviji\\AppData\\Local\\Temp\\ipykernel_8628\\317388784.py:24: PerformanceWarning: DataFrame is highly fragmented.  This is usually the result of calling `frame.insert` many times, which has poor performance.  Consider joining all columns at once using pd.concat(axis=1) instead. To get a de-fragmented frame, use `newframe = frame.copy()`\n",
      "  all_stock_returns[symbol] = df_sh[symbol]['Daily_Return']\n",
      "C:\\Users\\aviji\\AppData\\Local\\Temp\\ipykernel_8628\\317388784.py:24: PerformanceWarning: DataFrame is highly fragmented.  This is usually the result of calling `frame.insert` many times, which has poor performance.  Consider joining all columns at once using pd.concat(axis=1) instead. To get a de-fragmented frame, use `newframe = frame.copy()`\n",
      "  all_stock_returns[symbol] = df_sh[symbol]['Daily_Return']\n",
      "C:\\Users\\aviji\\AppData\\Local\\Temp\\ipykernel_8628\\317388784.py:24: PerformanceWarning: DataFrame is highly fragmented.  This is usually the result of calling `frame.insert` many times, which has poor performance.  Consider joining all columns at once using pd.concat(axis=1) instead. To get a de-fragmented frame, use `newframe = frame.copy()`\n",
      "  all_stock_returns[symbol] = df_sh[symbol]['Daily_Return']\n",
      "C:\\Users\\aviji\\AppData\\Local\\Temp\\ipykernel_8628\\317388784.py:24: PerformanceWarning: DataFrame is highly fragmented.  This is usually the result of calling `frame.insert` many times, which has poor performance.  Consider joining all columns at once using pd.concat(axis=1) instead. To get a de-fragmented frame, use `newframe = frame.copy()`\n",
      "  all_stock_returns[symbol] = df_sh[symbol]['Daily_Return']\n",
      "C:\\Users\\aviji\\AppData\\Local\\Temp\\ipykernel_8628\\317388784.py:24: PerformanceWarning: DataFrame is highly fragmented.  This is usually the result of calling `frame.insert` many times, which has poor performance.  Consider joining all columns at once using pd.concat(axis=1) instead. To get a de-fragmented frame, use `newframe = frame.copy()`\n",
      "  all_stock_returns[symbol] = df_sh[symbol]['Daily_Return']\n",
      "C:\\Users\\aviji\\AppData\\Local\\Temp\\ipykernel_8628\\317388784.py:24: PerformanceWarning: DataFrame is highly fragmented.  This is usually the result of calling `frame.insert` many times, which has poor performance.  Consider joining all columns at once using pd.concat(axis=1) instead. To get a de-fragmented frame, use `newframe = frame.copy()`\n",
      "  all_stock_returns[symbol] = df_sh[symbol]['Daily_Return']\n",
      "C:\\Users\\aviji\\AppData\\Local\\Temp\\ipykernel_8628\\317388784.py:24: PerformanceWarning: DataFrame is highly fragmented.  This is usually the result of calling `frame.insert` many times, which has poor performance.  Consider joining all columns at once using pd.concat(axis=1) instead. To get a de-fragmented frame, use `newframe = frame.copy()`\n",
      "  all_stock_returns[symbol] = df_sh[symbol]['Daily_Return']\n",
      "C:\\Users\\aviji\\AppData\\Local\\Temp\\ipykernel_8628\\317388784.py:24: PerformanceWarning: DataFrame is highly fragmented.  This is usually the result of calling `frame.insert` many times, which has poor performance.  Consider joining all columns at once using pd.concat(axis=1) instead. To get a de-fragmented frame, use `newframe = frame.copy()`\n",
      "  all_stock_returns[symbol] = df_sh[symbol]['Daily_Return']\n",
      "C:\\Users\\aviji\\AppData\\Local\\Temp\\ipykernel_8628\\317388784.py:24: PerformanceWarning: DataFrame is highly fragmented.  This is usually the result of calling `frame.insert` many times, which has poor performance.  Consider joining all columns at once using pd.concat(axis=1) instead. To get a de-fragmented frame, use `newframe = frame.copy()`\n",
      "  all_stock_returns[symbol] = df_sh[symbol]['Daily_Return']\n",
      "C:\\Users\\aviji\\AppData\\Local\\Temp\\ipykernel_8628\\317388784.py:24: PerformanceWarning: DataFrame is highly fragmented.  This is usually the result of calling `frame.insert` many times, which has poor performance.  Consider joining all columns at once using pd.concat(axis=1) instead. To get a de-fragmented frame, use `newframe = frame.copy()`\n",
      "  all_stock_returns[symbol] = df_sh[symbol]['Daily_Return']\n",
      "C:\\Users\\aviji\\AppData\\Local\\Temp\\ipykernel_8628\\317388784.py:24: PerformanceWarning: DataFrame is highly fragmented.  This is usually the result of calling `frame.insert` many times, which has poor performance.  Consider joining all columns at once using pd.concat(axis=1) instead. To get a de-fragmented frame, use `newframe = frame.copy()`\n",
      "  all_stock_returns[symbol] = df_sh[symbol]['Daily_Return']\n",
      "C:\\Users\\aviji\\AppData\\Local\\Temp\\ipykernel_8628\\317388784.py:24: PerformanceWarning: DataFrame is highly fragmented.  This is usually the result of calling `frame.insert` many times, which has poor performance.  Consider joining all columns at once using pd.concat(axis=1) instead. To get a de-fragmented frame, use `newframe = frame.copy()`\n",
      "  all_stock_returns[symbol] = df_sh[symbol]['Daily_Return']\n",
      "C:\\Users\\aviji\\AppData\\Local\\Temp\\ipykernel_8628\\317388784.py:24: PerformanceWarning: DataFrame is highly fragmented.  This is usually the result of calling `frame.insert` many times, which has poor performance.  Consider joining all columns at once using pd.concat(axis=1) instead. To get a de-fragmented frame, use `newframe = frame.copy()`\n",
      "  all_stock_returns[symbol] = df_sh[symbol]['Daily_Return']\n",
      "C:\\Users\\aviji\\AppData\\Local\\Temp\\ipykernel_8628\\317388784.py:24: PerformanceWarning: DataFrame is highly fragmented.  This is usually the result of calling `frame.insert` many times, which has poor performance.  Consider joining all columns at once using pd.concat(axis=1) instead. To get a de-fragmented frame, use `newframe = frame.copy()`\n",
      "  all_stock_returns[symbol] = df_sh[symbol]['Daily_Return']\n",
      "C:\\Users\\aviji\\AppData\\Local\\Temp\\ipykernel_8628\\317388784.py:24: PerformanceWarning: DataFrame is highly fragmented.  This is usually the result of calling `frame.insert` many times, which has poor performance.  Consider joining all columns at once using pd.concat(axis=1) instead. To get a de-fragmented frame, use `newframe = frame.copy()`\n",
      "  all_stock_returns[symbol] = df_sh[symbol]['Daily_Return']\n",
      "C:\\Users\\aviji\\AppData\\Local\\Temp\\ipykernel_8628\\317388784.py:24: PerformanceWarning: DataFrame is highly fragmented.  This is usually the result of calling `frame.insert` many times, which has poor performance.  Consider joining all columns at once using pd.concat(axis=1) instead. To get a de-fragmented frame, use `newframe = frame.copy()`\n",
      "  all_stock_returns[symbol] = df_sh[symbol]['Daily_Return']\n",
      "C:\\Users\\aviji\\AppData\\Local\\Temp\\ipykernel_8628\\317388784.py:24: PerformanceWarning: DataFrame is highly fragmented.  This is usually the result of calling `frame.insert` many times, which has poor performance.  Consider joining all columns at once using pd.concat(axis=1) instead. To get a de-fragmented frame, use `newframe = frame.copy()`\n",
      "  all_stock_returns[symbol] = df_sh[symbol]['Daily_Return']\n",
      "C:\\Users\\aviji\\AppData\\Local\\Temp\\ipykernel_8628\\317388784.py:24: PerformanceWarning: DataFrame is highly fragmented.  This is usually the result of calling `frame.insert` many times, which has poor performance.  Consider joining all columns at once using pd.concat(axis=1) instead. To get a de-fragmented frame, use `newframe = frame.copy()`\n",
      "  all_stock_returns[symbol] = df_sh[symbol]['Daily_Return']\n",
      "C:\\Users\\aviji\\AppData\\Local\\Temp\\ipykernel_8628\\317388784.py:24: PerformanceWarning: DataFrame is highly fragmented.  This is usually the result of calling `frame.insert` many times, which has poor performance.  Consider joining all columns at once using pd.concat(axis=1) instead. To get a de-fragmented frame, use `newframe = frame.copy()`\n",
      "  all_stock_returns[symbol] = df_sh[symbol]['Daily_Return']\n",
      "C:\\Users\\aviji\\AppData\\Local\\Temp\\ipykernel_8628\\317388784.py:24: PerformanceWarning: DataFrame is highly fragmented.  This is usually the result of calling `frame.insert` many times, which has poor performance.  Consider joining all columns at once using pd.concat(axis=1) instead. To get a de-fragmented frame, use `newframe = frame.copy()`\n",
      "  all_stock_returns[symbol] = df_sh[symbol]['Daily_Return']\n",
      "C:\\Users\\aviji\\AppData\\Local\\Temp\\ipykernel_8628\\317388784.py:24: PerformanceWarning: DataFrame is highly fragmented.  This is usually the result of calling `frame.insert` many times, which has poor performance.  Consider joining all columns at once using pd.concat(axis=1) instead. To get a de-fragmented frame, use `newframe = frame.copy()`\n",
      "  all_stock_returns[symbol] = df_sh[symbol]['Daily_Return']\n",
      "C:\\Users\\aviji\\AppData\\Local\\Temp\\ipykernel_8628\\317388784.py:24: PerformanceWarning: DataFrame is highly fragmented.  This is usually the result of calling `frame.insert` many times, which has poor performance.  Consider joining all columns at once using pd.concat(axis=1) instead. To get a de-fragmented frame, use `newframe = frame.copy()`\n",
      "  all_stock_returns[symbol] = df_sh[symbol]['Daily_Return']\n",
      "C:\\Users\\aviji\\AppData\\Local\\Temp\\ipykernel_8628\\317388784.py:24: PerformanceWarning: DataFrame is highly fragmented.  This is usually the result of calling `frame.insert` many times, which has poor performance.  Consider joining all columns at once using pd.concat(axis=1) instead. To get a de-fragmented frame, use `newframe = frame.copy()`\n",
      "  all_stock_returns[symbol] = df_sh[symbol]['Daily_Return']\n",
      "C:\\Users\\aviji\\AppData\\Local\\Temp\\ipykernel_8628\\317388784.py:24: PerformanceWarning: DataFrame is highly fragmented.  This is usually the result of calling `frame.insert` many times, which has poor performance.  Consider joining all columns at once using pd.concat(axis=1) instead. To get a de-fragmented frame, use `newframe = frame.copy()`\n",
      "  all_stock_returns[symbol] = df_sh[symbol]['Daily_Return']\n",
      "C:\\Users\\aviji\\AppData\\Local\\Temp\\ipykernel_8628\\317388784.py:24: PerformanceWarning: DataFrame is highly fragmented.  This is usually the result of calling `frame.insert` many times, which has poor performance.  Consider joining all columns at once using pd.concat(axis=1) instead. To get a de-fragmented frame, use `newframe = frame.copy()`\n",
      "  all_stock_returns[symbol] = df_sh[symbol]['Daily_Return']\n",
      "C:\\Users\\aviji\\AppData\\Local\\Temp\\ipykernel_8628\\317388784.py:24: PerformanceWarning: DataFrame is highly fragmented.  This is usually the result of calling `frame.insert` many times, which has poor performance.  Consider joining all columns at once using pd.concat(axis=1) instead. To get a de-fragmented frame, use `newframe = frame.copy()`\n",
      "  all_stock_returns[symbol] = df_sh[symbol]['Daily_Return']\n",
      "C:\\Users\\aviji\\AppData\\Local\\Temp\\ipykernel_8628\\317388784.py:24: PerformanceWarning: DataFrame is highly fragmented.  This is usually the result of calling `frame.insert` many times, which has poor performance.  Consider joining all columns at once using pd.concat(axis=1) instead. To get a de-fragmented frame, use `newframe = frame.copy()`\n",
      "  all_stock_returns[symbol] = df_sh[symbol]['Daily_Return']\n",
      "C:\\Users\\aviji\\AppData\\Local\\Temp\\ipykernel_8628\\317388784.py:24: PerformanceWarning: DataFrame is highly fragmented.  This is usually the result of calling `frame.insert` many times, which has poor performance.  Consider joining all columns at once using pd.concat(axis=1) instead. To get a de-fragmented frame, use `newframe = frame.copy()`\n",
      "  all_stock_returns[symbol] = df_sh[symbol]['Daily_Return']\n",
      "C:\\Users\\aviji\\AppData\\Local\\Temp\\ipykernel_8628\\317388784.py:24: PerformanceWarning: DataFrame is highly fragmented.  This is usually the result of calling `frame.insert` many times, which has poor performance.  Consider joining all columns at once using pd.concat(axis=1) instead. To get a de-fragmented frame, use `newframe = frame.copy()`\n",
      "  all_stock_returns[symbol] = df_sh[symbol]['Daily_Return']\n",
      "C:\\Users\\aviji\\AppData\\Local\\Temp\\ipykernel_8628\\317388784.py:24: PerformanceWarning: DataFrame is highly fragmented.  This is usually the result of calling `frame.insert` many times, which has poor performance.  Consider joining all columns at once using pd.concat(axis=1) instead. To get a de-fragmented frame, use `newframe = frame.copy()`\n",
      "  all_stock_returns[symbol] = df_sh[symbol]['Daily_Return']\n",
      "C:\\Users\\aviji\\AppData\\Local\\Temp\\ipykernel_8628\\317388784.py:24: PerformanceWarning: DataFrame is highly fragmented.  This is usually the result of calling `frame.insert` many times, which has poor performance.  Consider joining all columns at once using pd.concat(axis=1) instead. To get a de-fragmented frame, use `newframe = frame.copy()`\n",
      "  all_stock_returns[symbol] = df_sh[symbol]['Daily_Return']\n",
      "C:\\Users\\aviji\\AppData\\Local\\Temp\\ipykernel_8628\\317388784.py:24: PerformanceWarning: DataFrame is highly fragmented.  This is usually the result of calling `frame.insert` many times, which has poor performance.  Consider joining all columns at once using pd.concat(axis=1) instead. To get a de-fragmented frame, use `newframe = frame.copy()`\n",
      "  all_stock_returns[symbol] = df_sh[symbol]['Daily_Return']\n",
      "C:\\Users\\aviji\\AppData\\Local\\Temp\\ipykernel_8628\\317388784.py:24: PerformanceWarning: DataFrame is highly fragmented.  This is usually the result of calling `frame.insert` many times, which has poor performance.  Consider joining all columns at once using pd.concat(axis=1) instead. To get a de-fragmented frame, use `newframe = frame.copy()`\n",
      "  all_stock_returns[symbol] = df_sh[symbol]['Daily_Return']\n",
      "C:\\Users\\aviji\\AppData\\Local\\Temp\\ipykernel_8628\\317388784.py:24: PerformanceWarning: DataFrame is highly fragmented.  This is usually the result of calling `frame.insert` many times, which has poor performance.  Consider joining all columns at once using pd.concat(axis=1) instead. To get a de-fragmented frame, use `newframe = frame.copy()`\n",
      "  all_stock_returns[symbol] = df_sh[symbol]['Daily_Return']\n",
      "C:\\Users\\aviji\\AppData\\Local\\Temp\\ipykernel_8628\\317388784.py:24: PerformanceWarning: DataFrame is highly fragmented.  This is usually the result of calling `frame.insert` many times, which has poor performance.  Consider joining all columns at once using pd.concat(axis=1) instead. To get a de-fragmented frame, use `newframe = frame.copy()`\n",
      "  all_stock_returns[symbol] = df_sh[symbol]['Daily_Return']\n",
      "C:\\Users\\aviji\\AppData\\Local\\Temp\\ipykernel_8628\\317388784.py:24: PerformanceWarning: DataFrame is highly fragmented.  This is usually the result of calling `frame.insert` many times, which has poor performance.  Consider joining all columns at once using pd.concat(axis=1) instead. To get a de-fragmented frame, use `newframe = frame.copy()`\n",
      "  all_stock_returns[symbol] = df_sh[symbol]['Daily_Return']\n",
      "C:\\Users\\aviji\\AppData\\Local\\Temp\\ipykernel_8628\\317388784.py:24: PerformanceWarning: DataFrame is highly fragmented.  This is usually the result of calling `frame.insert` many times, which has poor performance.  Consider joining all columns at once using pd.concat(axis=1) instead. To get a de-fragmented frame, use `newframe = frame.copy()`\n",
      "  all_stock_returns[symbol] = df_sh[symbol]['Daily_Return']\n",
      "C:\\Users\\aviji\\AppData\\Local\\Temp\\ipykernel_8628\\317388784.py:24: PerformanceWarning: DataFrame is highly fragmented.  This is usually the result of calling `frame.insert` many times, which has poor performance.  Consider joining all columns at once using pd.concat(axis=1) instead. To get a de-fragmented frame, use `newframe = frame.copy()`\n",
      "  all_stock_returns[symbol] = df_sh[symbol]['Daily_Return']\n",
      "C:\\Users\\aviji\\AppData\\Local\\Temp\\ipykernel_8628\\317388784.py:24: PerformanceWarning: DataFrame is highly fragmented.  This is usually the result of calling `frame.insert` many times, which has poor performance.  Consider joining all columns at once using pd.concat(axis=1) instead. To get a de-fragmented frame, use `newframe = frame.copy()`\n",
      "  all_stock_returns[symbol] = df_sh[symbol]['Daily_Return']\n",
      "C:\\Users\\aviji\\AppData\\Local\\Temp\\ipykernel_8628\\317388784.py:24: PerformanceWarning: DataFrame is highly fragmented.  This is usually the result of calling `frame.insert` many times, which has poor performance.  Consider joining all columns at once using pd.concat(axis=1) instead. To get a de-fragmented frame, use `newframe = frame.copy()`\n",
      "  all_stock_returns[symbol] = df_sh[symbol]['Daily_Return']\n",
      "C:\\Users\\aviji\\AppData\\Local\\Temp\\ipykernel_8628\\317388784.py:24: PerformanceWarning: DataFrame is highly fragmented.  This is usually the result of calling `frame.insert` many times, which has poor performance.  Consider joining all columns at once using pd.concat(axis=1) instead. To get a de-fragmented frame, use `newframe = frame.copy()`\n",
      "  all_stock_returns[symbol] = df_sh[symbol]['Daily_Return']\n",
      "C:\\Users\\aviji\\AppData\\Local\\Temp\\ipykernel_8628\\317388784.py:24: PerformanceWarning: DataFrame is highly fragmented.  This is usually the result of calling `frame.insert` many times, which has poor performance.  Consider joining all columns at once using pd.concat(axis=1) instead. To get a de-fragmented frame, use `newframe = frame.copy()`\n",
      "  all_stock_returns[symbol] = df_sh[symbol]['Daily_Return']\n",
      "C:\\Users\\aviji\\AppData\\Local\\Temp\\ipykernel_8628\\317388784.py:24: PerformanceWarning: DataFrame is highly fragmented.  This is usually the result of calling `frame.insert` many times, which has poor performance.  Consider joining all columns at once using pd.concat(axis=1) instead. To get a de-fragmented frame, use `newframe = frame.copy()`\n",
      "  all_stock_returns[symbol] = df_sh[symbol]['Daily_Return']\n",
      "C:\\Users\\aviji\\AppData\\Local\\Temp\\ipykernel_8628\\317388784.py:24: PerformanceWarning: DataFrame is highly fragmented.  This is usually the result of calling `frame.insert` many times, which has poor performance.  Consider joining all columns at once using pd.concat(axis=1) instead. To get a de-fragmented frame, use `newframe = frame.copy()`\n",
      "  all_stock_returns[symbol] = df_sh[symbol]['Daily_Return']\n",
      "C:\\Users\\aviji\\AppData\\Local\\Temp\\ipykernel_8628\\317388784.py:24: PerformanceWarning: DataFrame is highly fragmented.  This is usually the result of calling `frame.insert` many times, which has poor performance.  Consider joining all columns at once using pd.concat(axis=1) instead. To get a de-fragmented frame, use `newframe = frame.copy()`\n",
      "  all_stock_returns[symbol] = df_sh[symbol]['Daily_Return']\n",
      "C:\\Users\\aviji\\AppData\\Local\\Temp\\ipykernel_8628\\317388784.py:24: PerformanceWarning: DataFrame is highly fragmented.  This is usually the result of calling `frame.insert` many times, which has poor performance.  Consider joining all columns at once using pd.concat(axis=1) instead. To get a de-fragmented frame, use `newframe = frame.copy()`\n",
      "  all_stock_returns[symbol] = df_sh[symbol]['Daily_Return']\n",
      "C:\\Users\\aviji\\AppData\\Local\\Temp\\ipykernel_8628\\317388784.py:24: PerformanceWarning: DataFrame is highly fragmented.  This is usually the result of calling `frame.insert` many times, which has poor performance.  Consider joining all columns at once using pd.concat(axis=1) instead. To get a de-fragmented frame, use `newframe = frame.copy()`\n",
      "  all_stock_returns[symbol] = df_sh[symbol]['Daily_Return']\n",
      "C:\\Users\\aviji\\AppData\\Local\\Temp\\ipykernel_8628\\317388784.py:24: PerformanceWarning: DataFrame is highly fragmented.  This is usually the result of calling `frame.insert` many times, which has poor performance.  Consider joining all columns at once using pd.concat(axis=1) instead. To get a de-fragmented frame, use `newframe = frame.copy()`\n",
      "  all_stock_returns[symbol] = df_sh[symbol]['Daily_Return']\n",
      "C:\\Users\\aviji\\AppData\\Local\\Temp\\ipykernel_8628\\317388784.py:24: PerformanceWarning: DataFrame is highly fragmented.  This is usually the result of calling `frame.insert` many times, which has poor performance.  Consider joining all columns at once using pd.concat(axis=1) instead. To get a de-fragmented frame, use `newframe = frame.copy()`\n",
      "  all_stock_returns[symbol] = df_sh[symbol]['Daily_Return']\n",
      "C:\\Users\\aviji\\AppData\\Local\\Temp\\ipykernel_8628\\317388784.py:24: PerformanceWarning: DataFrame is highly fragmented.  This is usually the result of calling `frame.insert` many times, which has poor performance.  Consider joining all columns at once using pd.concat(axis=1) instead. To get a de-fragmented frame, use `newframe = frame.copy()`\n",
      "  all_stock_returns[symbol] = df_sh[symbol]['Daily_Return']\n",
      "C:\\Users\\aviji\\AppData\\Local\\Temp\\ipykernel_8628\\317388784.py:24: PerformanceWarning: DataFrame is highly fragmented.  This is usually the result of calling `frame.insert` many times, which has poor performance.  Consider joining all columns at once using pd.concat(axis=1) instead. To get a de-fragmented frame, use `newframe = frame.copy()`\n",
      "  all_stock_returns[symbol] = df_sh[symbol]['Daily_Return']\n",
      "C:\\Users\\aviji\\AppData\\Local\\Temp\\ipykernel_8628\\317388784.py:24: PerformanceWarning: DataFrame is highly fragmented.  This is usually the result of calling `frame.insert` many times, which has poor performance.  Consider joining all columns at once using pd.concat(axis=1) instead. To get a de-fragmented frame, use `newframe = frame.copy()`\n",
      "  all_stock_returns[symbol] = df_sh[symbol]['Daily_Return']\n",
      "C:\\Users\\aviji\\AppData\\Local\\Temp\\ipykernel_8628\\317388784.py:24: PerformanceWarning: DataFrame is highly fragmented.  This is usually the result of calling `frame.insert` many times, which has poor performance.  Consider joining all columns at once using pd.concat(axis=1) instead. To get a de-fragmented frame, use `newframe = frame.copy()`\n",
      "  all_stock_returns[symbol] = df_sh[symbol]['Daily_Return']\n",
      "C:\\Users\\aviji\\AppData\\Local\\Temp\\ipykernel_8628\\317388784.py:24: PerformanceWarning: DataFrame is highly fragmented.  This is usually the result of calling `frame.insert` many times, which has poor performance.  Consider joining all columns at once using pd.concat(axis=1) instead. To get a de-fragmented frame, use `newframe = frame.copy()`\n",
      "  all_stock_returns[symbol] = df_sh[symbol]['Daily_Return']\n",
      "C:\\Users\\aviji\\AppData\\Local\\Temp\\ipykernel_8628\\317388784.py:24: PerformanceWarning: DataFrame is highly fragmented.  This is usually the result of calling `frame.insert` many times, which has poor performance.  Consider joining all columns at once using pd.concat(axis=1) instead. To get a de-fragmented frame, use `newframe = frame.copy()`\n",
      "  all_stock_returns[symbol] = df_sh[symbol]['Daily_Return']\n",
      "C:\\Users\\aviji\\AppData\\Local\\Temp\\ipykernel_8628\\317388784.py:24: PerformanceWarning: DataFrame is highly fragmented.  This is usually the result of calling `frame.insert` many times, which has poor performance.  Consider joining all columns at once using pd.concat(axis=1) instead. To get a de-fragmented frame, use `newframe = frame.copy()`\n",
      "  all_stock_returns[symbol] = df_sh[symbol]['Daily_Return']\n",
      "C:\\Users\\aviji\\AppData\\Local\\Temp\\ipykernel_8628\\317388784.py:24: PerformanceWarning: DataFrame is highly fragmented.  This is usually the result of calling `frame.insert` many times, which has poor performance.  Consider joining all columns at once using pd.concat(axis=1) instead. To get a de-fragmented frame, use `newframe = frame.copy()`\n",
      "  all_stock_returns[symbol] = df_sh[symbol]['Daily_Return']\n",
      "C:\\Users\\aviji\\AppData\\Local\\Temp\\ipykernel_8628\\317388784.py:24: PerformanceWarning: DataFrame is highly fragmented.  This is usually the result of calling `frame.insert` many times, which has poor performance.  Consider joining all columns at once using pd.concat(axis=1) instead. To get a de-fragmented frame, use `newframe = frame.copy()`\n",
      "  all_stock_returns[symbol] = df_sh[symbol]['Daily_Return']\n",
      "C:\\Users\\aviji\\AppData\\Local\\Temp\\ipykernel_8628\\317388784.py:24: PerformanceWarning: DataFrame is highly fragmented.  This is usually the result of calling `frame.insert` many times, which has poor performance.  Consider joining all columns at once using pd.concat(axis=1) instead. To get a de-fragmented frame, use `newframe = frame.copy()`\n",
      "  all_stock_returns[symbol] = df_sh[symbol]['Daily_Return']\n",
      "C:\\Users\\aviji\\AppData\\Local\\Temp\\ipykernel_8628\\317388784.py:24: PerformanceWarning: DataFrame is highly fragmented.  This is usually the result of calling `frame.insert` many times, which has poor performance.  Consider joining all columns at once using pd.concat(axis=1) instead. To get a de-fragmented frame, use `newframe = frame.copy()`\n",
      "  all_stock_returns[symbol] = df_sh[symbol]['Daily_Return']\n",
      "C:\\Users\\aviji\\AppData\\Local\\Temp\\ipykernel_8628\\317388784.py:24: PerformanceWarning: DataFrame is highly fragmented.  This is usually the result of calling `frame.insert` many times, which has poor performance.  Consider joining all columns at once using pd.concat(axis=1) instead. To get a de-fragmented frame, use `newframe = frame.copy()`\n",
      "  all_stock_returns[symbol] = df_sh[symbol]['Daily_Return']\n",
      "C:\\Users\\aviji\\AppData\\Local\\Temp\\ipykernel_8628\\317388784.py:24: PerformanceWarning: DataFrame is highly fragmented.  This is usually the result of calling `frame.insert` many times, which has poor performance.  Consider joining all columns at once using pd.concat(axis=1) instead. To get a de-fragmented frame, use `newframe = frame.copy()`\n",
      "  all_stock_returns[symbol] = df_sh[symbol]['Daily_Return']\n",
      "C:\\Users\\aviji\\AppData\\Local\\Temp\\ipykernel_8628\\317388784.py:24: PerformanceWarning: DataFrame is highly fragmented.  This is usually the result of calling `frame.insert` many times, which has poor performance.  Consider joining all columns at once using pd.concat(axis=1) instead. To get a de-fragmented frame, use `newframe = frame.copy()`\n",
      "  all_stock_returns[symbol] = df_sh[symbol]['Daily_Return']\n",
      "C:\\Users\\aviji\\AppData\\Local\\Temp\\ipykernel_8628\\317388784.py:24: PerformanceWarning: DataFrame is highly fragmented.  This is usually the result of calling `frame.insert` many times, which has poor performance.  Consider joining all columns at once using pd.concat(axis=1) instead. To get a de-fragmented frame, use `newframe = frame.copy()`\n",
      "  all_stock_returns[symbol] = df_sh[symbol]['Daily_Return']\n",
      "C:\\Users\\aviji\\AppData\\Local\\Temp\\ipykernel_8628\\317388784.py:24: PerformanceWarning: DataFrame is highly fragmented.  This is usually the result of calling `frame.insert` many times, which has poor performance.  Consider joining all columns at once using pd.concat(axis=1) instead. To get a de-fragmented frame, use `newframe = frame.copy()`\n",
      "  all_stock_returns[symbol] = df_sh[symbol]['Daily_Return']\n",
      "C:\\Users\\aviji\\AppData\\Local\\Temp\\ipykernel_8628\\317388784.py:24: PerformanceWarning: DataFrame is highly fragmented.  This is usually the result of calling `frame.insert` many times, which has poor performance.  Consider joining all columns at once using pd.concat(axis=1) instead. To get a de-fragmented frame, use `newframe = frame.copy()`\n",
      "  all_stock_returns[symbol] = df_sh[symbol]['Daily_Return']\n",
      "C:\\Users\\aviji\\AppData\\Local\\Temp\\ipykernel_8628\\317388784.py:24: PerformanceWarning: DataFrame is highly fragmented.  This is usually the result of calling `frame.insert` many times, which has poor performance.  Consider joining all columns at once using pd.concat(axis=1) instead. To get a de-fragmented frame, use `newframe = frame.copy()`\n",
      "  all_stock_returns[symbol] = df_sh[symbol]['Daily_Return']\n",
      "C:\\Users\\aviji\\AppData\\Local\\Temp\\ipykernel_8628\\317388784.py:24: PerformanceWarning: DataFrame is highly fragmented.  This is usually the result of calling `frame.insert` many times, which has poor performance.  Consider joining all columns at once using pd.concat(axis=1) instead. To get a de-fragmented frame, use `newframe = frame.copy()`\n",
      "  all_stock_returns[symbol] = df_sh[symbol]['Daily_Return']\n",
      "C:\\Users\\aviji\\AppData\\Local\\Temp\\ipykernel_8628\\317388784.py:24: PerformanceWarning: DataFrame is highly fragmented.  This is usually the result of calling `frame.insert` many times, which has poor performance.  Consider joining all columns at once using pd.concat(axis=1) instead. To get a de-fragmented frame, use `newframe = frame.copy()`\n",
      "  all_stock_returns[symbol] = df_sh[symbol]['Daily_Return']\n",
      "C:\\Users\\aviji\\AppData\\Local\\Temp\\ipykernel_8628\\317388784.py:24: PerformanceWarning: DataFrame is highly fragmented.  This is usually the result of calling `frame.insert` many times, which has poor performance.  Consider joining all columns at once using pd.concat(axis=1) instead. To get a de-fragmented frame, use `newframe = frame.copy()`\n",
      "  all_stock_returns[symbol] = df_sh[symbol]['Daily_Return']\n",
      "C:\\Users\\aviji\\AppData\\Local\\Temp\\ipykernel_8628\\317388784.py:24: PerformanceWarning: DataFrame is highly fragmented.  This is usually the result of calling `frame.insert` many times, which has poor performance.  Consider joining all columns at once using pd.concat(axis=1) instead. To get a de-fragmented frame, use `newframe = frame.copy()`\n",
      "  all_stock_returns[symbol] = df_sh[symbol]['Daily_Return']\n",
      "C:\\Users\\aviji\\AppData\\Local\\Temp\\ipykernel_8628\\317388784.py:24: PerformanceWarning: DataFrame is highly fragmented.  This is usually the result of calling `frame.insert` many times, which has poor performance.  Consider joining all columns at once using pd.concat(axis=1) instead. To get a de-fragmented frame, use `newframe = frame.copy()`\n",
      "  all_stock_returns[symbol] = df_sh[symbol]['Daily_Return']\n",
      "C:\\Users\\aviji\\AppData\\Local\\Temp\\ipykernel_8628\\317388784.py:24: PerformanceWarning: DataFrame is highly fragmented.  This is usually the result of calling `frame.insert` many times, which has poor performance.  Consider joining all columns at once using pd.concat(axis=1) instead. To get a de-fragmented frame, use `newframe = frame.copy()`\n",
      "  all_stock_returns[symbol] = df_sh[symbol]['Daily_Return']\n",
      "C:\\Users\\aviji\\AppData\\Local\\Temp\\ipykernel_8628\\317388784.py:24: PerformanceWarning: DataFrame is highly fragmented.  This is usually the result of calling `frame.insert` many times, which has poor performance.  Consider joining all columns at once using pd.concat(axis=1) instead. To get a de-fragmented frame, use `newframe = frame.copy()`\n",
      "  all_stock_returns[symbol] = df_sh[symbol]['Daily_Return']\n",
      "C:\\Users\\aviji\\AppData\\Local\\Temp\\ipykernel_8628\\317388784.py:24: PerformanceWarning: DataFrame is highly fragmented.  This is usually the result of calling `frame.insert` many times, which has poor performance.  Consider joining all columns at once using pd.concat(axis=1) instead. To get a de-fragmented frame, use `newframe = frame.copy()`\n",
      "  all_stock_returns[symbol] = df_sh[symbol]['Daily_Return']\n",
      "C:\\Users\\aviji\\AppData\\Local\\Temp\\ipykernel_8628\\317388784.py:24: PerformanceWarning: DataFrame is highly fragmented.  This is usually the result of calling `frame.insert` many times, which has poor performance.  Consider joining all columns at once using pd.concat(axis=1) instead. To get a de-fragmented frame, use `newframe = frame.copy()`\n",
      "  all_stock_returns[symbol] = df_sh[symbol]['Daily_Return']\n",
      "C:\\Users\\aviji\\AppData\\Local\\Temp\\ipykernel_8628\\317388784.py:24: PerformanceWarning: DataFrame is highly fragmented.  This is usually the result of calling `frame.insert` many times, which has poor performance.  Consider joining all columns at once using pd.concat(axis=1) instead. To get a de-fragmented frame, use `newframe = frame.copy()`\n",
      "  all_stock_returns[symbol] = df_sh[symbol]['Daily_Return']\n",
      "C:\\Users\\aviji\\AppData\\Local\\Temp\\ipykernel_8628\\317388784.py:24: PerformanceWarning: DataFrame is highly fragmented.  This is usually the result of calling `frame.insert` many times, which has poor performance.  Consider joining all columns at once using pd.concat(axis=1) instead. To get a de-fragmented frame, use `newframe = frame.copy()`\n",
      "  all_stock_returns[symbol] = df_sh[symbol]['Daily_Return']\n",
      "C:\\Users\\aviji\\AppData\\Local\\Temp\\ipykernel_8628\\317388784.py:24: PerformanceWarning: DataFrame is highly fragmented.  This is usually the result of calling `frame.insert` many times, which has poor performance.  Consider joining all columns at once using pd.concat(axis=1) instead. To get a de-fragmented frame, use `newframe = frame.copy()`\n",
      "  all_stock_returns[symbol] = df_sh[symbol]['Daily_Return']\n",
      "C:\\Users\\aviji\\AppData\\Local\\Temp\\ipykernel_8628\\317388784.py:24: PerformanceWarning: DataFrame is highly fragmented.  This is usually the result of calling `frame.insert` many times, which has poor performance.  Consider joining all columns at once using pd.concat(axis=1) instead. To get a de-fragmented frame, use `newframe = frame.copy()`\n",
      "  all_stock_returns[symbol] = df_sh[symbol]['Daily_Return']\n",
      "C:\\Users\\aviji\\AppData\\Local\\Temp\\ipykernel_8628\\317388784.py:24: PerformanceWarning: DataFrame is highly fragmented.  This is usually the result of calling `frame.insert` many times, which has poor performance.  Consider joining all columns at once using pd.concat(axis=1) instead. To get a de-fragmented frame, use `newframe = frame.copy()`\n",
      "  all_stock_returns[symbol] = df_sh[symbol]['Daily_Return']\n",
      "C:\\Users\\aviji\\AppData\\Local\\Temp\\ipykernel_8628\\317388784.py:24: PerformanceWarning: DataFrame is highly fragmented.  This is usually the result of calling `frame.insert` many times, which has poor performance.  Consider joining all columns at once using pd.concat(axis=1) instead. To get a de-fragmented frame, use `newframe = frame.copy()`\n",
      "  all_stock_returns[symbol] = df_sh[symbol]['Daily_Return']\n",
      "C:\\Users\\aviji\\AppData\\Local\\Temp\\ipykernel_8628\\317388784.py:24: PerformanceWarning: DataFrame is highly fragmented.  This is usually the result of calling `frame.insert` many times, which has poor performance.  Consider joining all columns at once using pd.concat(axis=1) instead. To get a de-fragmented frame, use `newframe = frame.copy()`\n",
      "  all_stock_returns[symbol] = df_sh[symbol]['Daily_Return']\n",
      "C:\\Users\\aviji\\AppData\\Local\\Temp\\ipykernel_8628\\317388784.py:24: PerformanceWarning: DataFrame is highly fragmented.  This is usually the result of calling `frame.insert` many times, which has poor performance.  Consider joining all columns at once using pd.concat(axis=1) instead. To get a de-fragmented frame, use `newframe = frame.copy()`\n",
      "  all_stock_returns[symbol] = df_sh[symbol]['Daily_Return']\n",
      "C:\\Users\\aviji\\AppData\\Local\\Temp\\ipykernel_8628\\317388784.py:24: PerformanceWarning: DataFrame is highly fragmented.  This is usually the result of calling `frame.insert` many times, which has poor performance.  Consider joining all columns at once using pd.concat(axis=1) instead. To get a de-fragmented frame, use `newframe = frame.copy()`\n",
      "  all_stock_returns[symbol] = df_sh[symbol]['Daily_Return']\n",
      "C:\\Users\\aviji\\AppData\\Local\\Temp\\ipykernel_8628\\317388784.py:24: PerformanceWarning: DataFrame is highly fragmented.  This is usually the result of calling `frame.insert` many times, which has poor performance.  Consider joining all columns at once using pd.concat(axis=1) instead. To get a de-fragmented frame, use `newframe = frame.copy()`\n",
      "  all_stock_returns[symbol] = df_sh[symbol]['Daily_Return']\n",
      "C:\\Users\\aviji\\AppData\\Local\\Temp\\ipykernel_8628\\317388784.py:24: PerformanceWarning: DataFrame is highly fragmented.  This is usually the result of calling `frame.insert` many times, which has poor performance.  Consider joining all columns at once using pd.concat(axis=1) instead. To get a de-fragmented frame, use `newframe = frame.copy()`\n",
      "  all_stock_returns[symbol] = df_sh[symbol]['Daily_Return']\n",
      "C:\\Users\\aviji\\AppData\\Local\\Temp\\ipykernel_8628\\317388784.py:24: PerformanceWarning: DataFrame is highly fragmented.  This is usually the result of calling `frame.insert` many times, which has poor performance.  Consider joining all columns at once using pd.concat(axis=1) instead. To get a de-fragmented frame, use `newframe = frame.copy()`\n",
      "  all_stock_returns[symbol] = df_sh[symbol]['Daily_Return']\n",
      "C:\\Users\\aviji\\AppData\\Local\\Temp\\ipykernel_8628\\317388784.py:24: PerformanceWarning: DataFrame is highly fragmented.  This is usually the result of calling `frame.insert` many times, which has poor performance.  Consider joining all columns at once using pd.concat(axis=1) instead. To get a de-fragmented frame, use `newframe = frame.copy()`\n",
      "  all_stock_returns[symbol] = df_sh[symbol]['Daily_Return']\n",
      "C:\\Users\\aviji\\AppData\\Local\\Temp\\ipykernel_8628\\317388784.py:24: PerformanceWarning: DataFrame is highly fragmented.  This is usually the result of calling `frame.insert` many times, which has poor performance.  Consider joining all columns at once using pd.concat(axis=1) instead. To get a de-fragmented frame, use `newframe = frame.copy()`\n",
      "  all_stock_returns[symbol] = df_sh[symbol]['Daily_Return']\n",
      "C:\\Users\\aviji\\AppData\\Local\\Temp\\ipykernel_8628\\317388784.py:24: PerformanceWarning: DataFrame is highly fragmented.  This is usually the result of calling `frame.insert` many times, which has poor performance.  Consider joining all columns at once using pd.concat(axis=1) instead. To get a de-fragmented frame, use `newframe = frame.copy()`\n",
      "  all_stock_returns[symbol] = df_sh[symbol]['Daily_Return']\n",
      "C:\\Users\\aviji\\AppData\\Local\\Temp\\ipykernel_8628\\317388784.py:24: PerformanceWarning: DataFrame is highly fragmented.  This is usually the result of calling `frame.insert` many times, which has poor performance.  Consider joining all columns at once using pd.concat(axis=1) instead. To get a de-fragmented frame, use `newframe = frame.copy()`\n",
      "  all_stock_returns[symbol] = df_sh[symbol]['Daily_Return']\n",
      "C:\\Users\\aviji\\AppData\\Local\\Temp\\ipykernel_8628\\317388784.py:24: PerformanceWarning: DataFrame is highly fragmented.  This is usually the result of calling `frame.insert` many times, which has poor performance.  Consider joining all columns at once using pd.concat(axis=1) instead. To get a de-fragmented frame, use `newframe = frame.copy()`\n",
      "  all_stock_returns[symbol] = df_sh[symbol]['Daily_Return']\n",
      "C:\\Users\\aviji\\AppData\\Local\\Temp\\ipykernel_8628\\317388784.py:24: PerformanceWarning: DataFrame is highly fragmented.  This is usually the result of calling `frame.insert` many times, which has poor performance.  Consider joining all columns at once using pd.concat(axis=1) instead. To get a de-fragmented frame, use `newframe = frame.copy()`\n",
      "  all_stock_returns[symbol] = df_sh[symbol]['Daily_Return']\n",
      "C:\\Users\\aviji\\AppData\\Local\\Temp\\ipykernel_8628\\317388784.py:24: PerformanceWarning: DataFrame is highly fragmented.  This is usually the result of calling `frame.insert` many times, which has poor performance.  Consider joining all columns at once using pd.concat(axis=1) instead. To get a de-fragmented frame, use `newframe = frame.copy()`\n",
      "  all_stock_returns[symbol] = df_sh[symbol]['Daily_Return']\n",
      "C:\\Users\\aviji\\AppData\\Local\\Temp\\ipykernel_8628\\317388784.py:24: PerformanceWarning: DataFrame is highly fragmented.  This is usually the result of calling `frame.insert` many times, which has poor performance.  Consider joining all columns at once using pd.concat(axis=1) instead. To get a de-fragmented frame, use `newframe = frame.copy()`\n",
      "  all_stock_returns[symbol] = df_sh[symbol]['Daily_Return']\n",
      "C:\\Users\\aviji\\AppData\\Local\\Temp\\ipykernel_8628\\317388784.py:24: PerformanceWarning: DataFrame is highly fragmented.  This is usually the result of calling `frame.insert` many times, which has poor performance.  Consider joining all columns at once using pd.concat(axis=1) instead. To get a de-fragmented frame, use `newframe = frame.copy()`\n",
      "  all_stock_returns[symbol] = df_sh[symbol]['Daily_Return']\n",
      "C:\\Users\\aviji\\AppData\\Local\\Temp\\ipykernel_8628\\317388784.py:24: PerformanceWarning: DataFrame is highly fragmented.  This is usually the result of calling `frame.insert` many times, which has poor performance.  Consider joining all columns at once using pd.concat(axis=1) instead. To get a de-fragmented frame, use `newframe = frame.copy()`\n",
      "  all_stock_returns[symbol] = df_sh[symbol]['Daily_Return']\n",
      "C:\\Users\\aviji\\AppData\\Local\\Temp\\ipykernel_8628\\317388784.py:24: PerformanceWarning: DataFrame is highly fragmented.  This is usually the result of calling `frame.insert` many times, which has poor performance.  Consider joining all columns at once using pd.concat(axis=1) instead. To get a de-fragmented frame, use `newframe = frame.copy()`\n",
      "  all_stock_returns[symbol] = df_sh[symbol]['Daily_Return']\n",
      "C:\\Users\\aviji\\AppData\\Local\\Temp\\ipykernel_8628\\317388784.py:24: PerformanceWarning: DataFrame is highly fragmented.  This is usually the result of calling `frame.insert` many times, which has poor performance.  Consider joining all columns at once using pd.concat(axis=1) instead. To get a de-fragmented frame, use `newframe = frame.copy()`\n",
      "  all_stock_returns[symbol] = df_sh[symbol]['Daily_Return']\n",
      "C:\\Users\\aviji\\AppData\\Local\\Temp\\ipykernel_8628\\317388784.py:24: PerformanceWarning: DataFrame is highly fragmented.  This is usually the result of calling `frame.insert` many times, which has poor performance.  Consider joining all columns at once using pd.concat(axis=1) instead. To get a de-fragmented frame, use `newframe = frame.copy()`\n",
      "  all_stock_returns[symbol] = df_sh[symbol]['Daily_Return']\n",
      "C:\\Users\\aviji\\AppData\\Local\\Temp\\ipykernel_8628\\317388784.py:24: PerformanceWarning: DataFrame is highly fragmented.  This is usually the result of calling `frame.insert` many times, which has poor performance.  Consider joining all columns at once using pd.concat(axis=1) instead. To get a de-fragmented frame, use `newframe = frame.copy()`\n",
      "  all_stock_returns[symbol] = df_sh[symbol]['Daily_Return']\n",
      "C:\\Users\\aviji\\AppData\\Local\\Temp\\ipykernel_8628\\317388784.py:24: PerformanceWarning: DataFrame is highly fragmented.  This is usually the result of calling `frame.insert` many times, which has poor performance.  Consider joining all columns at once using pd.concat(axis=1) instead. To get a de-fragmented frame, use `newframe = frame.copy()`\n",
      "  all_stock_returns[symbol] = df_sh[symbol]['Daily_Return']\n",
      "C:\\Users\\aviji\\AppData\\Local\\Temp\\ipykernel_8628\\317388784.py:24: PerformanceWarning: DataFrame is highly fragmented.  This is usually the result of calling `frame.insert` many times, which has poor performance.  Consider joining all columns at once using pd.concat(axis=1) instead. To get a de-fragmented frame, use `newframe = frame.copy()`\n",
      "  all_stock_returns[symbol] = df_sh[symbol]['Daily_Return']\n",
      "C:\\Users\\aviji\\AppData\\Local\\Temp\\ipykernel_8628\\317388784.py:24: PerformanceWarning: DataFrame is highly fragmented.  This is usually the result of calling `frame.insert` many times, which has poor performance.  Consider joining all columns at once using pd.concat(axis=1) instead. To get a de-fragmented frame, use `newframe = frame.copy()`\n",
      "  all_stock_returns[symbol] = df_sh[symbol]['Daily_Return']\n",
      "C:\\Users\\aviji\\AppData\\Local\\Temp\\ipykernel_8628\\317388784.py:24: PerformanceWarning: DataFrame is highly fragmented.  This is usually the result of calling `frame.insert` many times, which has poor performance.  Consider joining all columns at once using pd.concat(axis=1) instead. To get a de-fragmented frame, use `newframe = frame.copy()`\n",
      "  all_stock_returns[symbol] = df_sh[symbol]['Daily_Return']\n",
      "C:\\Users\\aviji\\AppData\\Local\\Temp\\ipykernel_8628\\317388784.py:24: PerformanceWarning: DataFrame is highly fragmented.  This is usually the result of calling `frame.insert` many times, which has poor performance.  Consider joining all columns at once using pd.concat(axis=1) instead. To get a de-fragmented frame, use `newframe = frame.copy()`\n",
      "  all_stock_returns[symbol] = df_sh[symbol]['Daily_Return']\n",
      "C:\\Users\\aviji\\AppData\\Local\\Temp\\ipykernel_8628\\317388784.py:24: PerformanceWarning: DataFrame is highly fragmented.  This is usually the result of calling `frame.insert` many times, which has poor performance.  Consider joining all columns at once using pd.concat(axis=1) instead. To get a de-fragmented frame, use `newframe = frame.copy()`\n",
      "  all_stock_returns[symbol] = df_sh[symbol]['Daily_Return']\n",
      "C:\\Users\\aviji\\AppData\\Local\\Temp\\ipykernel_8628\\317388784.py:24: PerformanceWarning: DataFrame is highly fragmented.  This is usually the result of calling `frame.insert` many times, which has poor performance.  Consider joining all columns at once using pd.concat(axis=1) instead. To get a de-fragmented frame, use `newframe = frame.copy()`\n",
      "  all_stock_returns[symbol] = df_sh[symbol]['Daily_Return']\n",
      "C:\\Users\\aviji\\AppData\\Local\\Temp\\ipykernel_8628\\317388784.py:24: PerformanceWarning: DataFrame is highly fragmented.  This is usually the result of calling `frame.insert` many times, which has poor performance.  Consider joining all columns at once using pd.concat(axis=1) instead. To get a de-fragmented frame, use `newframe = frame.copy()`\n",
      "  all_stock_returns[symbol] = df_sh[symbol]['Daily_Return']\n",
      "C:\\Users\\aviji\\AppData\\Local\\Temp\\ipykernel_8628\\317388784.py:24: PerformanceWarning: DataFrame is highly fragmented.  This is usually the result of calling `frame.insert` many times, which has poor performance.  Consider joining all columns at once using pd.concat(axis=1) instead. To get a de-fragmented frame, use `newframe = frame.copy()`\n",
      "  all_stock_returns[symbol] = df_sh[symbol]['Daily_Return']\n",
      "C:\\Users\\aviji\\AppData\\Local\\Temp\\ipykernel_8628\\317388784.py:24: PerformanceWarning: DataFrame is highly fragmented.  This is usually the result of calling `frame.insert` many times, which has poor performance.  Consider joining all columns at once using pd.concat(axis=1) instead. To get a de-fragmented frame, use `newframe = frame.copy()`\n",
      "  all_stock_returns[symbol] = df_sh[symbol]['Daily_Return']\n",
      "C:\\Users\\aviji\\AppData\\Local\\Temp\\ipykernel_8628\\317388784.py:24: PerformanceWarning: DataFrame is highly fragmented.  This is usually the result of calling `frame.insert` many times, which has poor performance.  Consider joining all columns at once using pd.concat(axis=1) instead. To get a de-fragmented frame, use `newframe = frame.copy()`\n",
      "  all_stock_returns[symbol] = df_sh[symbol]['Daily_Return']\n",
      "C:\\Users\\aviji\\AppData\\Local\\Temp\\ipykernel_8628\\317388784.py:24: PerformanceWarning: DataFrame is highly fragmented.  This is usually the result of calling `frame.insert` many times, which has poor performance.  Consider joining all columns at once using pd.concat(axis=1) instead. To get a de-fragmented frame, use `newframe = frame.copy()`\n",
      "  all_stock_returns[symbol] = df_sh[symbol]['Daily_Return']\n",
      "C:\\Users\\aviji\\AppData\\Local\\Temp\\ipykernel_8628\\317388784.py:24: PerformanceWarning: DataFrame is highly fragmented.  This is usually the result of calling `frame.insert` many times, which has poor performance.  Consider joining all columns at once using pd.concat(axis=1) instead. To get a de-fragmented frame, use `newframe = frame.copy()`\n",
      "  all_stock_returns[symbol] = df_sh[symbol]['Daily_Return']\n",
      "C:\\Users\\aviji\\AppData\\Local\\Temp\\ipykernel_8628\\317388784.py:24: PerformanceWarning: DataFrame is highly fragmented.  This is usually the result of calling `frame.insert` many times, which has poor performance.  Consider joining all columns at once using pd.concat(axis=1) instead. To get a de-fragmented frame, use `newframe = frame.copy()`\n",
      "  all_stock_returns[symbol] = df_sh[symbol]['Daily_Return']\n",
      "C:\\Users\\aviji\\AppData\\Local\\Temp\\ipykernel_8628\\317388784.py:24: PerformanceWarning: DataFrame is highly fragmented.  This is usually the result of calling `frame.insert` many times, which has poor performance.  Consider joining all columns at once using pd.concat(axis=1) instead. To get a de-fragmented frame, use `newframe = frame.copy()`\n",
      "  all_stock_returns[symbol] = df_sh[symbol]['Daily_Return']\n",
      "C:\\Users\\aviji\\AppData\\Local\\Temp\\ipykernel_8628\\317388784.py:24: PerformanceWarning: DataFrame is highly fragmented.  This is usually the result of calling `frame.insert` many times, which has poor performance.  Consider joining all columns at once using pd.concat(axis=1) instead. To get a de-fragmented frame, use `newframe = frame.copy()`\n",
      "  all_stock_returns[symbol] = df_sh[symbol]['Daily_Return']\n",
      "C:\\Users\\aviji\\AppData\\Local\\Temp\\ipykernel_8628\\317388784.py:24: PerformanceWarning: DataFrame is highly fragmented.  This is usually the result of calling `frame.insert` many times, which has poor performance.  Consider joining all columns at once using pd.concat(axis=1) instead. To get a de-fragmented frame, use `newframe = frame.copy()`\n",
      "  all_stock_returns[symbol] = df_sh[symbol]['Daily_Return']\n",
      "C:\\Users\\aviji\\AppData\\Local\\Temp\\ipykernel_8628\\317388784.py:24: PerformanceWarning: DataFrame is highly fragmented.  This is usually the result of calling `frame.insert` many times, which has poor performance.  Consider joining all columns at once using pd.concat(axis=1) instead. To get a de-fragmented frame, use `newframe = frame.copy()`\n",
      "  all_stock_returns[symbol] = df_sh[symbol]['Daily_Return']\n",
      "C:\\Users\\aviji\\AppData\\Local\\Temp\\ipykernel_8628\\317388784.py:24: PerformanceWarning: DataFrame is highly fragmented.  This is usually the result of calling `frame.insert` many times, which has poor performance.  Consider joining all columns at once using pd.concat(axis=1) instead. To get a de-fragmented frame, use `newframe = frame.copy()`\n",
      "  all_stock_returns[symbol] = df_sh[symbol]['Daily_Return']\n",
      "C:\\Users\\aviji\\AppData\\Local\\Temp\\ipykernel_8628\\317388784.py:24: PerformanceWarning: DataFrame is highly fragmented.  This is usually the result of calling `frame.insert` many times, which has poor performance.  Consider joining all columns at once using pd.concat(axis=1) instead. To get a de-fragmented frame, use `newframe = frame.copy()`\n",
      "  all_stock_returns[symbol] = df_sh[symbol]['Daily_Return']\n",
      "C:\\Users\\aviji\\AppData\\Local\\Temp\\ipykernel_8628\\317388784.py:24: PerformanceWarning: DataFrame is highly fragmented.  This is usually the result of calling `frame.insert` many times, which has poor performance.  Consider joining all columns at once using pd.concat(axis=1) instead. To get a de-fragmented frame, use `newframe = frame.copy()`\n",
      "  all_stock_returns[symbol] = df_sh[symbol]['Daily_Return']\n",
      "C:\\Users\\aviji\\AppData\\Local\\Temp\\ipykernel_8628\\317388784.py:24: PerformanceWarning: DataFrame is highly fragmented.  This is usually the result of calling `frame.insert` many times, which has poor performance.  Consider joining all columns at once using pd.concat(axis=1) instead. To get a de-fragmented frame, use `newframe = frame.copy()`\n",
      "  all_stock_returns[symbol] = df_sh[symbol]['Daily_Return']\n",
      "C:\\Users\\aviji\\AppData\\Local\\Temp\\ipykernel_8628\\317388784.py:24: PerformanceWarning: DataFrame is highly fragmented.  This is usually the result of calling `frame.insert` many times, which has poor performance.  Consider joining all columns at once using pd.concat(axis=1) instead. To get a de-fragmented frame, use `newframe = frame.copy()`\n",
      "  all_stock_returns[symbol] = df_sh[symbol]['Daily_Return']\n",
      "C:\\Users\\aviji\\AppData\\Local\\Temp\\ipykernel_8628\\317388784.py:24: PerformanceWarning: DataFrame is highly fragmented.  This is usually the result of calling `frame.insert` many times, which has poor performance.  Consider joining all columns at once using pd.concat(axis=1) instead. To get a de-fragmented frame, use `newframe = frame.copy()`\n",
      "  all_stock_returns[symbol] = df_sh[symbol]['Daily_Return']\n",
      "C:\\Users\\aviji\\AppData\\Local\\Temp\\ipykernel_8628\\317388784.py:24: PerformanceWarning: DataFrame is highly fragmented.  This is usually the result of calling `frame.insert` many times, which has poor performance.  Consider joining all columns at once using pd.concat(axis=1) instead. To get a de-fragmented frame, use `newframe = frame.copy()`\n",
      "  all_stock_returns[symbol] = df_sh[symbol]['Daily_Return']\n",
      "C:\\Users\\aviji\\AppData\\Local\\Temp\\ipykernel_8628\\317388784.py:24: PerformanceWarning: DataFrame is highly fragmented.  This is usually the result of calling `frame.insert` many times, which has poor performance.  Consider joining all columns at once using pd.concat(axis=1) instead. To get a de-fragmented frame, use `newframe = frame.copy()`\n",
      "  all_stock_returns[symbol] = df_sh[symbol]['Daily_Return']\n",
      "C:\\Users\\aviji\\AppData\\Local\\Temp\\ipykernel_8628\\317388784.py:24: PerformanceWarning: DataFrame is highly fragmented.  This is usually the result of calling `frame.insert` many times, which has poor performance.  Consider joining all columns at once using pd.concat(axis=1) instead. To get a de-fragmented frame, use `newframe = frame.copy()`\n",
      "  all_stock_returns[symbol] = df_sh[symbol]['Daily_Return']\n",
      "C:\\Users\\aviji\\AppData\\Local\\Temp\\ipykernel_8628\\317388784.py:24: PerformanceWarning: DataFrame is highly fragmented.  This is usually the result of calling `frame.insert` many times, which has poor performance.  Consider joining all columns at once using pd.concat(axis=1) instead. To get a de-fragmented frame, use `newframe = frame.copy()`\n",
      "  all_stock_returns[symbol] = df_sh[symbol]['Daily_Return']\n",
      "C:\\Users\\aviji\\AppData\\Local\\Temp\\ipykernel_8628\\317388784.py:24: PerformanceWarning: DataFrame is highly fragmented.  This is usually the result of calling `frame.insert` many times, which has poor performance.  Consider joining all columns at once using pd.concat(axis=1) instead. To get a de-fragmented frame, use `newframe = frame.copy()`\n",
      "  all_stock_returns[symbol] = df_sh[symbol]['Daily_Return']\n",
      "C:\\Users\\aviji\\AppData\\Local\\Temp\\ipykernel_8628\\317388784.py:24: PerformanceWarning: DataFrame is highly fragmented.  This is usually the result of calling `frame.insert` many times, which has poor performance.  Consider joining all columns at once using pd.concat(axis=1) instead. To get a de-fragmented frame, use `newframe = frame.copy()`\n",
      "  all_stock_returns[symbol] = df_sh[symbol]['Daily_Return']\n",
      "C:\\Users\\aviji\\AppData\\Local\\Temp\\ipykernel_8628\\317388784.py:24: PerformanceWarning: DataFrame is highly fragmented.  This is usually the result of calling `frame.insert` many times, which has poor performance.  Consider joining all columns at once using pd.concat(axis=1) instead. To get a de-fragmented frame, use `newframe = frame.copy()`\n",
      "  all_stock_returns[symbol] = df_sh[symbol]['Daily_Return']\n",
      "C:\\Users\\aviji\\AppData\\Local\\Temp\\ipykernel_8628\\317388784.py:24: PerformanceWarning: DataFrame is highly fragmented.  This is usually the result of calling `frame.insert` many times, which has poor performance.  Consider joining all columns at once using pd.concat(axis=1) instead. To get a de-fragmented frame, use `newframe = frame.copy()`\n",
      "  all_stock_returns[symbol] = df_sh[symbol]['Daily_Return']\n",
      "C:\\Users\\aviji\\AppData\\Local\\Temp\\ipykernel_8628\\317388784.py:24: PerformanceWarning: DataFrame is highly fragmented.  This is usually the result of calling `frame.insert` many times, which has poor performance.  Consider joining all columns at once using pd.concat(axis=1) instead. To get a de-fragmented frame, use `newframe = frame.copy()`\n",
      "  all_stock_returns[symbol] = df_sh[symbol]['Daily_Return']\n",
      "C:\\Users\\aviji\\AppData\\Local\\Temp\\ipykernel_8628\\317388784.py:24: PerformanceWarning: DataFrame is highly fragmented.  This is usually the result of calling `frame.insert` many times, which has poor performance.  Consider joining all columns at once using pd.concat(axis=1) instead. To get a de-fragmented frame, use `newframe = frame.copy()`\n",
      "  all_stock_returns[symbol] = df_sh[symbol]['Daily_Return']\n",
      "C:\\Users\\aviji\\AppData\\Local\\Temp\\ipykernel_8628\\317388784.py:24: PerformanceWarning: DataFrame is highly fragmented.  This is usually the result of calling `frame.insert` many times, which has poor performance.  Consider joining all columns at once using pd.concat(axis=1) instead. To get a de-fragmented frame, use `newframe = frame.copy()`\n",
      "  all_stock_returns[symbol] = df_sh[symbol]['Daily_Return']\n",
      "C:\\Users\\aviji\\AppData\\Local\\Temp\\ipykernel_8628\\317388784.py:24: PerformanceWarning: DataFrame is highly fragmented.  This is usually the result of calling `frame.insert` many times, which has poor performance.  Consider joining all columns at once using pd.concat(axis=1) instead. To get a de-fragmented frame, use `newframe = frame.copy()`\n",
      "  all_stock_returns[symbol] = df_sh[symbol]['Daily_Return']\n",
      "C:\\Users\\aviji\\AppData\\Local\\Temp\\ipykernel_8628\\317388784.py:24: PerformanceWarning: DataFrame is highly fragmented.  This is usually the result of calling `frame.insert` many times, which has poor performance.  Consider joining all columns at once using pd.concat(axis=1) instead. To get a de-fragmented frame, use `newframe = frame.copy()`\n",
      "  all_stock_returns[symbol] = df_sh[symbol]['Daily_Return']\n",
      "C:\\Users\\aviji\\AppData\\Local\\Temp\\ipykernel_8628\\317388784.py:24: PerformanceWarning: DataFrame is highly fragmented.  This is usually the result of calling `frame.insert` many times, which has poor performance.  Consider joining all columns at once using pd.concat(axis=1) instead. To get a de-fragmented frame, use `newframe = frame.copy()`\n",
      "  all_stock_returns[symbol] = df_sh[symbol]['Daily_Return']\n",
      "C:\\Users\\aviji\\AppData\\Local\\Temp\\ipykernel_8628\\317388784.py:24: PerformanceWarning: DataFrame is highly fragmented.  This is usually the result of calling `frame.insert` many times, which has poor performance.  Consider joining all columns at once using pd.concat(axis=1) instead. To get a de-fragmented frame, use `newframe = frame.copy()`\n",
      "  all_stock_returns[symbol] = df_sh[symbol]['Daily_Return']\n",
      "C:\\Users\\aviji\\AppData\\Local\\Temp\\ipykernel_8628\\317388784.py:24: PerformanceWarning: DataFrame is highly fragmented.  This is usually the result of calling `frame.insert` many times, which has poor performance.  Consider joining all columns at once using pd.concat(axis=1) instead. To get a de-fragmented frame, use `newframe = frame.copy()`\n",
      "  all_stock_returns[symbol] = df_sh[symbol]['Daily_Return']\n",
      "C:\\Users\\aviji\\AppData\\Local\\Temp\\ipykernel_8628\\317388784.py:24: PerformanceWarning: DataFrame is highly fragmented.  This is usually the result of calling `frame.insert` many times, which has poor performance.  Consider joining all columns at once using pd.concat(axis=1) instead. To get a de-fragmented frame, use `newframe = frame.copy()`\n",
      "  all_stock_returns[symbol] = df_sh[symbol]['Daily_Return']\n",
      "C:\\Users\\aviji\\AppData\\Local\\Temp\\ipykernel_8628\\317388784.py:24: PerformanceWarning: DataFrame is highly fragmented.  This is usually the result of calling `frame.insert` many times, which has poor performance.  Consider joining all columns at once using pd.concat(axis=1) instead. To get a de-fragmented frame, use `newframe = frame.copy()`\n",
      "  all_stock_returns[symbol] = df_sh[symbol]['Daily_Return']\n",
      "C:\\Users\\aviji\\AppData\\Local\\Temp\\ipykernel_8628\\317388784.py:24: PerformanceWarning: DataFrame is highly fragmented.  This is usually the result of calling `frame.insert` many times, which has poor performance.  Consider joining all columns at once using pd.concat(axis=1) instead. To get a de-fragmented frame, use `newframe = frame.copy()`\n",
      "  all_stock_returns[symbol] = df_sh[symbol]['Daily_Return']\n",
      "C:\\Users\\aviji\\AppData\\Local\\Temp\\ipykernel_8628\\317388784.py:24: PerformanceWarning: DataFrame is highly fragmented.  This is usually the result of calling `frame.insert` many times, which has poor performance.  Consider joining all columns at once using pd.concat(axis=1) instead. To get a de-fragmented frame, use `newframe = frame.copy()`\n",
      "  all_stock_returns[symbol] = df_sh[symbol]['Daily_Return']\n",
      "C:\\Users\\aviji\\AppData\\Local\\Temp\\ipykernel_8628\\317388784.py:24: PerformanceWarning: DataFrame is highly fragmented.  This is usually the result of calling `frame.insert` many times, which has poor performance.  Consider joining all columns at once using pd.concat(axis=1) instead. To get a de-fragmented frame, use `newframe = frame.copy()`\n",
      "  all_stock_returns[symbol] = df_sh[symbol]['Daily_Return']\n",
      "C:\\Users\\aviji\\AppData\\Local\\Temp\\ipykernel_8628\\317388784.py:24: PerformanceWarning: DataFrame is highly fragmented.  This is usually the result of calling `frame.insert` many times, which has poor performance.  Consider joining all columns at once using pd.concat(axis=1) instead. To get a de-fragmented frame, use `newframe = frame.copy()`\n",
      "  all_stock_returns[symbol] = df_sh[symbol]['Daily_Return']\n",
      "C:\\Users\\aviji\\AppData\\Local\\Temp\\ipykernel_8628\\317388784.py:24: PerformanceWarning: DataFrame is highly fragmented.  This is usually the result of calling `frame.insert` many times, which has poor performance.  Consider joining all columns at once using pd.concat(axis=1) instead. To get a de-fragmented frame, use `newframe = frame.copy()`\n",
      "  all_stock_returns[symbol] = df_sh[symbol]['Daily_Return']\n",
      "C:\\Users\\aviji\\AppData\\Local\\Temp\\ipykernel_8628\\317388784.py:24: PerformanceWarning: DataFrame is highly fragmented.  This is usually the result of calling `frame.insert` many times, which has poor performance.  Consider joining all columns at once using pd.concat(axis=1) instead. To get a de-fragmented frame, use `newframe = frame.copy()`\n",
      "  all_stock_returns[symbol] = df_sh[symbol]['Daily_Return']\n",
      "C:\\Users\\aviji\\AppData\\Local\\Temp\\ipykernel_8628\\317388784.py:24: PerformanceWarning: DataFrame is highly fragmented.  This is usually the result of calling `frame.insert` many times, which has poor performance.  Consider joining all columns at once using pd.concat(axis=1) instead. To get a de-fragmented frame, use `newframe = frame.copy()`\n",
      "  all_stock_returns[symbol] = df_sh[symbol]['Daily_Return']\n",
      "C:\\Users\\aviji\\AppData\\Local\\Temp\\ipykernel_8628\\317388784.py:24: PerformanceWarning: DataFrame is highly fragmented.  This is usually the result of calling `frame.insert` many times, which has poor performance.  Consider joining all columns at once using pd.concat(axis=1) instead. To get a de-fragmented frame, use `newframe = frame.copy()`\n",
      "  all_stock_returns[symbol] = df_sh[symbol]['Daily_Return']\n",
      "C:\\Users\\aviji\\AppData\\Local\\Temp\\ipykernel_8628\\317388784.py:24: PerformanceWarning: DataFrame is highly fragmented.  This is usually the result of calling `frame.insert` many times, which has poor performance.  Consider joining all columns at once using pd.concat(axis=1) instead. To get a de-fragmented frame, use `newframe = frame.copy()`\n",
      "  all_stock_returns[symbol] = df_sh[symbol]['Daily_Return']\n",
      "C:\\Users\\aviji\\AppData\\Local\\Temp\\ipykernel_8628\\317388784.py:24: PerformanceWarning: DataFrame is highly fragmented.  This is usually the result of calling `frame.insert` many times, which has poor performance.  Consider joining all columns at once using pd.concat(axis=1) instead. To get a de-fragmented frame, use `newframe = frame.copy()`\n",
      "  all_stock_returns[symbol] = df_sh[symbol]['Daily_Return']\n",
      "C:\\Users\\aviji\\AppData\\Local\\Temp\\ipykernel_8628\\317388784.py:24: PerformanceWarning: DataFrame is highly fragmented.  This is usually the result of calling `frame.insert` many times, which has poor performance.  Consider joining all columns at once using pd.concat(axis=1) instead. To get a de-fragmented frame, use `newframe = frame.copy()`\n",
      "  all_stock_returns[symbol] = df_sh[symbol]['Daily_Return']\n",
      "C:\\Users\\aviji\\AppData\\Local\\Temp\\ipykernel_8628\\317388784.py:24: PerformanceWarning: DataFrame is highly fragmented.  This is usually the result of calling `frame.insert` many times, which has poor performance.  Consider joining all columns at once using pd.concat(axis=1) instead. To get a de-fragmented frame, use `newframe = frame.copy()`\n",
      "  all_stock_returns[symbol] = df_sh[symbol]['Daily_Return']\n",
      "C:\\Users\\aviji\\AppData\\Local\\Temp\\ipykernel_8628\\317388784.py:24: PerformanceWarning: DataFrame is highly fragmented.  This is usually the result of calling `frame.insert` many times, which has poor performance.  Consider joining all columns at once using pd.concat(axis=1) instead. To get a de-fragmented frame, use `newframe = frame.copy()`\n",
      "  all_stock_returns[symbol] = df_sh[symbol]['Daily_Return']\n",
      "C:\\Users\\aviji\\AppData\\Local\\Temp\\ipykernel_8628\\317388784.py:24: PerformanceWarning: DataFrame is highly fragmented.  This is usually the result of calling `frame.insert` many times, which has poor performance.  Consider joining all columns at once using pd.concat(axis=1) instead. To get a de-fragmented frame, use `newframe = frame.copy()`\n",
      "  all_stock_returns[symbol] = df_sh[symbol]['Daily_Return']\n",
      "C:\\Users\\aviji\\AppData\\Local\\Temp\\ipykernel_8628\\317388784.py:24: PerformanceWarning: DataFrame is highly fragmented.  This is usually the result of calling `frame.insert` many times, which has poor performance.  Consider joining all columns at once using pd.concat(axis=1) instead. To get a de-fragmented frame, use `newframe = frame.copy()`\n",
      "  all_stock_returns[symbol] = df_sh[symbol]['Daily_Return']\n",
      "C:\\Users\\aviji\\AppData\\Local\\Temp\\ipykernel_8628\\317388784.py:24: PerformanceWarning: DataFrame is highly fragmented.  This is usually the result of calling `frame.insert` many times, which has poor performance.  Consider joining all columns at once using pd.concat(axis=1) instead. To get a de-fragmented frame, use `newframe = frame.copy()`\n",
      "  all_stock_returns[symbol] = df_sh[symbol]['Daily_Return']\n",
      "C:\\Users\\aviji\\AppData\\Local\\Temp\\ipykernel_8628\\317388784.py:24: PerformanceWarning: DataFrame is highly fragmented.  This is usually the result of calling `frame.insert` many times, which has poor performance.  Consider joining all columns at once using pd.concat(axis=1) instead. To get a de-fragmented frame, use `newframe = frame.copy()`\n",
      "  all_stock_returns[symbol] = df_sh[symbol]['Daily_Return']\n",
      "C:\\Users\\aviji\\AppData\\Local\\Temp\\ipykernel_8628\\317388784.py:24: PerformanceWarning: DataFrame is highly fragmented.  This is usually the result of calling `frame.insert` many times, which has poor performance.  Consider joining all columns at once using pd.concat(axis=1) instead. To get a de-fragmented frame, use `newframe = frame.copy()`\n",
      "  all_stock_returns[symbol] = df_sh[symbol]['Daily_Return']\n",
      "C:\\Users\\aviji\\AppData\\Local\\Temp\\ipykernel_8628\\317388784.py:24: PerformanceWarning: DataFrame is highly fragmented.  This is usually the result of calling `frame.insert` many times, which has poor performance.  Consider joining all columns at once using pd.concat(axis=1) instead. To get a de-fragmented frame, use `newframe = frame.copy()`\n",
      "  all_stock_returns[symbol] = df_sh[symbol]['Daily_Return']\n",
      "C:\\Users\\aviji\\AppData\\Local\\Temp\\ipykernel_8628\\317388784.py:24: PerformanceWarning: DataFrame is highly fragmented.  This is usually the result of calling `frame.insert` many times, which has poor performance.  Consider joining all columns at once using pd.concat(axis=1) instead. To get a de-fragmented frame, use `newframe = frame.copy()`\n",
      "  all_stock_returns[symbol] = df_sh[symbol]['Daily_Return']\n",
      "C:\\Users\\aviji\\AppData\\Local\\Temp\\ipykernel_8628\\317388784.py:24: PerformanceWarning: DataFrame is highly fragmented.  This is usually the result of calling `frame.insert` many times, which has poor performance.  Consider joining all columns at once using pd.concat(axis=1) instead. To get a de-fragmented frame, use `newframe = frame.copy()`\n",
      "  all_stock_returns[symbol] = df_sh[symbol]['Daily_Return']\n",
      "C:\\Users\\aviji\\AppData\\Local\\Temp\\ipykernel_8628\\317388784.py:24: PerformanceWarning: DataFrame is highly fragmented.  This is usually the result of calling `frame.insert` many times, which has poor performance.  Consider joining all columns at once using pd.concat(axis=1) instead. To get a de-fragmented frame, use `newframe = frame.copy()`\n",
      "  all_stock_returns[symbol] = df_sh[symbol]['Daily_Return']\n",
      "C:\\Users\\aviji\\AppData\\Local\\Temp\\ipykernel_8628\\317388784.py:24: PerformanceWarning: DataFrame is highly fragmented.  This is usually the result of calling `frame.insert` many times, which has poor performance.  Consider joining all columns at once using pd.concat(axis=1) instead. To get a de-fragmented frame, use `newframe = frame.copy()`\n",
      "  all_stock_returns[symbol] = df_sh[symbol]['Daily_Return']\n",
      "C:\\Users\\aviji\\AppData\\Local\\Temp\\ipykernel_8628\\317388784.py:24: PerformanceWarning: DataFrame is highly fragmented.  This is usually the result of calling `frame.insert` many times, which has poor performance.  Consider joining all columns at once using pd.concat(axis=1) instead. To get a de-fragmented frame, use `newframe = frame.copy()`\n",
      "  all_stock_returns[symbol] = df_sh[symbol]['Daily_Return']\n",
      "C:\\Users\\aviji\\AppData\\Local\\Temp\\ipykernel_8628\\317388784.py:24: PerformanceWarning: DataFrame is highly fragmented.  This is usually the result of calling `frame.insert` many times, which has poor performance.  Consider joining all columns at once using pd.concat(axis=1) instead. To get a de-fragmented frame, use `newframe = frame.copy()`\n",
      "  all_stock_returns[symbol] = df_sh[symbol]['Daily_Return']\n",
      "C:\\Users\\aviji\\AppData\\Local\\Temp\\ipykernel_8628\\317388784.py:24: PerformanceWarning: DataFrame is highly fragmented.  This is usually the result of calling `frame.insert` many times, which has poor performance.  Consider joining all columns at once using pd.concat(axis=1) instead. To get a de-fragmented frame, use `newframe = frame.copy()`\n",
      "  all_stock_returns[symbol] = df_sh[symbol]['Daily_Return']\n",
      "C:\\Users\\aviji\\AppData\\Local\\Temp\\ipykernel_8628\\317388784.py:24: PerformanceWarning: DataFrame is highly fragmented.  This is usually the result of calling `frame.insert` many times, which has poor performance.  Consider joining all columns at once using pd.concat(axis=1) instead. To get a de-fragmented frame, use `newframe = frame.copy()`\n",
      "  all_stock_returns[symbol] = df_sh[symbol]['Daily_Return']\n",
      "C:\\Users\\aviji\\AppData\\Local\\Temp\\ipykernel_8628\\317388784.py:24: PerformanceWarning: DataFrame is highly fragmented.  This is usually the result of calling `frame.insert` many times, which has poor performance.  Consider joining all columns at once using pd.concat(axis=1) instead. To get a de-fragmented frame, use `newframe = frame.copy()`\n",
      "  all_stock_returns[symbol] = df_sh[symbol]['Daily_Return']\n",
      "C:\\Users\\aviji\\AppData\\Local\\Temp\\ipykernel_8628\\317388784.py:24: PerformanceWarning: DataFrame is highly fragmented.  This is usually the result of calling `frame.insert` many times, which has poor performance.  Consider joining all columns at once using pd.concat(axis=1) instead. To get a de-fragmented frame, use `newframe = frame.copy()`\n",
      "  all_stock_returns[symbol] = df_sh[symbol]['Daily_Return']\n",
      "C:\\Users\\aviji\\AppData\\Local\\Temp\\ipykernel_8628\\317388784.py:24: PerformanceWarning: DataFrame is highly fragmented.  This is usually the result of calling `frame.insert` many times, which has poor performance.  Consider joining all columns at once using pd.concat(axis=1) instead. To get a de-fragmented frame, use `newframe = frame.copy()`\n",
      "  all_stock_returns[symbol] = df_sh[symbol]['Daily_Return']\n",
      "C:\\Users\\aviji\\AppData\\Local\\Temp\\ipykernel_8628\\317388784.py:24: PerformanceWarning: DataFrame is highly fragmented.  This is usually the result of calling `frame.insert` many times, which has poor performance.  Consider joining all columns at once using pd.concat(axis=1) instead. To get a de-fragmented frame, use `newframe = frame.copy()`\n",
      "  all_stock_returns[symbol] = df_sh[symbol]['Daily_Return']\n",
      "C:\\Users\\aviji\\AppData\\Local\\Temp\\ipykernel_8628\\317388784.py:24: PerformanceWarning: DataFrame is highly fragmented.  This is usually the result of calling `frame.insert` many times, which has poor performance.  Consider joining all columns at once using pd.concat(axis=1) instead. To get a de-fragmented frame, use `newframe = frame.copy()`\n",
      "  all_stock_returns[symbol] = df_sh[symbol]['Daily_Return']\n",
      "C:\\Users\\aviji\\AppData\\Local\\Temp\\ipykernel_8628\\317388784.py:24: PerformanceWarning: DataFrame is highly fragmented.  This is usually the result of calling `frame.insert` many times, which has poor performance.  Consider joining all columns at once using pd.concat(axis=1) instead. To get a de-fragmented frame, use `newframe = frame.copy()`\n",
      "  all_stock_returns[symbol] = df_sh[symbol]['Daily_Return']\n",
      "C:\\Users\\aviji\\AppData\\Local\\Temp\\ipykernel_8628\\317388784.py:24: PerformanceWarning: DataFrame is highly fragmented.  This is usually the result of calling `frame.insert` many times, which has poor performance.  Consider joining all columns at once using pd.concat(axis=1) instead. To get a de-fragmented frame, use `newframe = frame.copy()`\n",
      "  all_stock_returns[symbol] = df_sh[symbol]['Daily_Return']\n",
      "C:\\Users\\aviji\\AppData\\Local\\Temp\\ipykernel_8628\\317388784.py:24: PerformanceWarning: DataFrame is highly fragmented.  This is usually the result of calling `frame.insert` many times, which has poor performance.  Consider joining all columns at once using pd.concat(axis=1) instead. To get a de-fragmented frame, use `newframe = frame.copy()`\n",
      "  all_stock_returns[symbol] = df_sh[symbol]['Daily_Return']\n",
      "C:\\Users\\aviji\\AppData\\Local\\Temp\\ipykernel_8628\\317388784.py:24: PerformanceWarning: DataFrame is highly fragmented.  This is usually the result of calling `frame.insert` many times, which has poor performance.  Consider joining all columns at once using pd.concat(axis=1) instead. To get a de-fragmented frame, use `newframe = frame.copy()`\n",
      "  all_stock_returns[symbol] = df_sh[symbol]['Daily_Return']\n",
      "C:\\Users\\aviji\\AppData\\Local\\Temp\\ipykernel_8628\\317388784.py:24: PerformanceWarning: DataFrame is highly fragmented.  This is usually the result of calling `frame.insert` many times, which has poor performance.  Consider joining all columns at once using pd.concat(axis=1) instead. To get a de-fragmented frame, use `newframe = frame.copy()`\n",
      "  all_stock_returns[symbol] = df_sh[symbol]['Daily_Return']\n",
      "C:\\Users\\aviji\\AppData\\Local\\Temp\\ipykernel_8628\\317388784.py:24: PerformanceWarning: DataFrame is highly fragmented.  This is usually the result of calling `frame.insert` many times, which has poor performance.  Consider joining all columns at once using pd.concat(axis=1) instead. To get a de-fragmented frame, use `newframe = frame.copy()`\n",
      "  all_stock_returns[symbol] = df_sh[symbol]['Daily_Return']\n",
      "C:\\Users\\aviji\\AppData\\Local\\Temp\\ipykernel_8628\\317388784.py:24: PerformanceWarning: DataFrame is highly fragmented.  This is usually the result of calling `frame.insert` many times, which has poor performance.  Consider joining all columns at once using pd.concat(axis=1) instead. To get a de-fragmented frame, use `newframe = frame.copy()`\n",
      "  all_stock_returns[symbol] = df_sh[symbol]['Daily_Return']\n",
      "C:\\Users\\aviji\\AppData\\Local\\Temp\\ipykernel_8628\\317388784.py:24: PerformanceWarning: DataFrame is highly fragmented.  This is usually the result of calling `frame.insert` many times, which has poor performance.  Consider joining all columns at once using pd.concat(axis=1) instead. To get a de-fragmented frame, use `newframe = frame.copy()`\n",
      "  all_stock_returns[symbol] = df_sh[symbol]['Daily_Return']\n",
      "C:\\Users\\aviji\\AppData\\Local\\Temp\\ipykernel_8628\\317388784.py:24: PerformanceWarning: DataFrame is highly fragmented.  This is usually the result of calling `frame.insert` many times, which has poor performance.  Consider joining all columns at once using pd.concat(axis=1) instead. To get a de-fragmented frame, use `newframe = frame.copy()`\n",
      "  all_stock_returns[symbol] = df_sh[symbol]['Daily_Return']\n",
      "C:\\Users\\aviji\\AppData\\Local\\Temp\\ipykernel_8628\\317388784.py:24: PerformanceWarning: DataFrame is highly fragmented.  This is usually the result of calling `frame.insert` many times, which has poor performance.  Consider joining all columns at once using pd.concat(axis=1) instead. To get a de-fragmented frame, use `newframe = frame.copy()`\n",
      "  all_stock_returns[symbol] = df_sh[symbol]['Daily_Return']\n",
      "C:\\Users\\aviji\\AppData\\Local\\Temp\\ipykernel_8628\\317388784.py:24: PerformanceWarning: DataFrame is highly fragmented.  This is usually the result of calling `frame.insert` many times, which has poor performance.  Consider joining all columns at once using pd.concat(axis=1) instead. To get a de-fragmented frame, use `newframe = frame.copy()`\n",
      "  all_stock_returns[symbol] = df_sh[symbol]['Daily_Return']\n",
      "C:\\Users\\aviji\\AppData\\Local\\Temp\\ipykernel_8628\\317388784.py:24: PerformanceWarning: DataFrame is highly fragmented.  This is usually the result of calling `frame.insert` many times, which has poor performance.  Consider joining all columns at once using pd.concat(axis=1) instead. To get a de-fragmented frame, use `newframe = frame.copy()`\n",
      "  all_stock_returns[symbol] = df_sh[symbol]['Daily_Return']\n",
      "C:\\Users\\aviji\\AppData\\Local\\Temp\\ipykernel_8628\\317388784.py:24: PerformanceWarning: DataFrame is highly fragmented.  This is usually the result of calling `frame.insert` many times, which has poor performance.  Consider joining all columns at once using pd.concat(axis=1) instead. To get a de-fragmented frame, use `newframe = frame.copy()`\n",
      "  all_stock_returns[symbol] = df_sh[symbol]['Daily_Return']\n",
      "C:\\Users\\aviji\\AppData\\Local\\Temp\\ipykernel_8628\\317388784.py:24: PerformanceWarning: DataFrame is highly fragmented.  This is usually the result of calling `frame.insert` many times, which has poor performance.  Consider joining all columns at once using pd.concat(axis=1) instead. To get a de-fragmented frame, use `newframe = frame.copy()`\n",
      "  all_stock_returns[symbol] = df_sh[symbol]['Daily_Return']\n",
      "C:\\Users\\aviji\\AppData\\Local\\Temp\\ipykernel_8628\\317388784.py:24: PerformanceWarning: DataFrame is highly fragmented.  This is usually the result of calling `frame.insert` many times, which has poor performance.  Consider joining all columns at once using pd.concat(axis=1) instead. To get a de-fragmented frame, use `newframe = frame.copy()`\n",
      "  all_stock_returns[symbol] = df_sh[symbol]['Daily_Return']\n",
      "C:\\Users\\aviji\\AppData\\Local\\Temp\\ipykernel_8628\\317388784.py:24: PerformanceWarning: DataFrame is highly fragmented.  This is usually the result of calling `frame.insert` many times, which has poor performance.  Consider joining all columns at once using pd.concat(axis=1) instead. To get a de-fragmented frame, use `newframe = frame.copy()`\n",
      "  all_stock_returns[symbol] = df_sh[symbol]['Daily_Return']\n",
      "C:\\Users\\aviji\\AppData\\Local\\Temp\\ipykernel_8628\\317388784.py:24: PerformanceWarning: DataFrame is highly fragmented.  This is usually the result of calling `frame.insert` many times, which has poor performance.  Consider joining all columns at once using pd.concat(axis=1) instead. To get a de-fragmented frame, use `newframe = frame.copy()`\n",
      "  all_stock_returns[symbol] = df_sh[symbol]['Daily_Return']\n",
      "C:\\Users\\aviji\\AppData\\Local\\Temp\\ipykernel_8628\\317388784.py:24: PerformanceWarning: DataFrame is highly fragmented.  This is usually the result of calling `frame.insert` many times, which has poor performance.  Consider joining all columns at once using pd.concat(axis=1) instead. To get a de-fragmented frame, use `newframe = frame.copy()`\n",
      "  all_stock_returns[symbol] = df_sh[symbol]['Daily_Return']\n",
      "C:\\Users\\aviji\\AppData\\Local\\Temp\\ipykernel_8628\\317388784.py:24: PerformanceWarning: DataFrame is highly fragmented.  This is usually the result of calling `frame.insert` many times, which has poor performance.  Consider joining all columns at once using pd.concat(axis=1) instead. To get a de-fragmented frame, use `newframe = frame.copy()`\n",
      "  all_stock_returns[symbol] = df_sh[symbol]['Daily_Return']\n",
      "C:\\Users\\aviji\\AppData\\Local\\Temp\\ipykernel_8628\\317388784.py:24: PerformanceWarning: DataFrame is highly fragmented.  This is usually the result of calling `frame.insert` many times, which has poor performance.  Consider joining all columns at once using pd.concat(axis=1) instead. To get a de-fragmented frame, use `newframe = frame.copy()`\n",
      "  all_stock_returns[symbol] = df_sh[symbol]['Daily_Return']\n",
      "C:\\Users\\aviji\\AppData\\Local\\Temp\\ipykernel_8628\\317388784.py:24: PerformanceWarning: DataFrame is highly fragmented.  This is usually the result of calling `frame.insert` many times, which has poor performance.  Consider joining all columns at once using pd.concat(axis=1) instead. To get a de-fragmented frame, use `newframe = frame.copy()`\n",
      "  all_stock_returns[symbol] = df_sh[symbol]['Daily_Return']\n",
      "C:\\Users\\aviji\\AppData\\Local\\Temp\\ipykernel_8628\\317388784.py:24: PerformanceWarning: DataFrame is highly fragmented.  This is usually the result of calling `frame.insert` many times, which has poor performance.  Consider joining all columns at once using pd.concat(axis=1) instead. To get a de-fragmented frame, use `newframe = frame.copy()`\n",
      "  all_stock_returns[symbol] = df_sh[symbol]['Daily_Return']\n",
      "C:\\Users\\aviji\\AppData\\Local\\Temp\\ipykernel_8628\\317388784.py:24: PerformanceWarning: DataFrame is highly fragmented.  This is usually the result of calling `frame.insert` many times, which has poor performance.  Consider joining all columns at once using pd.concat(axis=1) instead. To get a de-fragmented frame, use `newframe = frame.copy()`\n",
      "  all_stock_returns[symbol] = df_sh[symbol]['Daily_Return']\n",
      "C:\\Users\\aviji\\AppData\\Local\\Temp\\ipykernel_8628\\317388784.py:24: PerformanceWarning: DataFrame is highly fragmented.  This is usually the result of calling `frame.insert` many times, which has poor performance.  Consider joining all columns at once using pd.concat(axis=1) instead. To get a de-fragmented frame, use `newframe = frame.copy()`\n",
      "  all_stock_returns[symbol] = df_sh[symbol]['Daily_Return']\n",
      "C:\\Users\\aviji\\AppData\\Local\\Temp\\ipykernel_8628\\317388784.py:24: PerformanceWarning: DataFrame is highly fragmented.  This is usually the result of calling `frame.insert` many times, which has poor performance.  Consider joining all columns at once using pd.concat(axis=1) instead. To get a de-fragmented frame, use `newframe = frame.copy()`\n",
      "  all_stock_returns[symbol] = df_sh[symbol]['Daily_Return']\n",
      "C:\\Users\\aviji\\AppData\\Local\\Temp\\ipykernel_8628\\317388784.py:24: PerformanceWarning: DataFrame is highly fragmented.  This is usually the result of calling `frame.insert` many times, which has poor performance.  Consider joining all columns at once using pd.concat(axis=1) instead. To get a de-fragmented frame, use `newframe = frame.copy()`\n",
      "  all_stock_returns[symbol] = df_sh[symbol]['Daily_Return']\n",
      "C:\\Users\\aviji\\AppData\\Local\\Temp\\ipykernel_8628\\317388784.py:24: PerformanceWarning: DataFrame is highly fragmented.  This is usually the result of calling `frame.insert` many times, which has poor performance.  Consider joining all columns at once using pd.concat(axis=1) instead. To get a de-fragmented frame, use `newframe = frame.copy()`\n",
      "  all_stock_returns[symbol] = df_sh[symbol]['Daily_Return']\n",
      "C:\\Users\\aviji\\AppData\\Local\\Temp\\ipykernel_8628\\317388784.py:24: PerformanceWarning: DataFrame is highly fragmented.  This is usually the result of calling `frame.insert` many times, which has poor performance.  Consider joining all columns at once using pd.concat(axis=1) instead. To get a de-fragmented frame, use `newframe = frame.copy()`\n",
      "  all_stock_returns[symbol] = df_sh[symbol]['Daily_Return']\n",
      "C:\\Users\\aviji\\AppData\\Local\\Temp\\ipykernel_8628\\317388784.py:24: PerformanceWarning: DataFrame is highly fragmented.  This is usually the result of calling `frame.insert` many times, which has poor performance.  Consider joining all columns at once using pd.concat(axis=1) instead. To get a de-fragmented frame, use `newframe = frame.copy()`\n",
      "  all_stock_returns[symbol] = df_sh[symbol]['Daily_Return']\n",
      "C:\\Users\\aviji\\AppData\\Local\\Temp\\ipykernel_8628\\317388784.py:24: PerformanceWarning: DataFrame is highly fragmented.  This is usually the result of calling `frame.insert` many times, which has poor performance.  Consider joining all columns at once using pd.concat(axis=1) instead. To get a de-fragmented frame, use `newframe = frame.copy()`\n",
      "  all_stock_returns[symbol] = df_sh[symbol]['Daily_Return']\n",
      "C:\\Users\\aviji\\AppData\\Local\\Temp\\ipykernel_8628\\317388784.py:24: PerformanceWarning: DataFrame is highly fragmented.  This is usually the result of calling `frame.insert` many times, which has poor performance.  Consider joining all columns at once using pd.concat(axis=1) instead. To get a de-fragmented frame, use `newframe = frame.copy()`\n",
      "  all_stock_returns[symbol] = df_sh[symbol]['Daily_Return']\n",
      "C:\\Users\\aviji\\AppData\\Local\\Temp\\ipykernel_8628\\317388784.py:24: PerformanceWarning: DataFrame is highly fragmented.  This is usually the result of calling `frame.insert` many times, which has poor performance.  Consider joining all columns at once using pd.concat(axis=1) instead. To get a de-fragmented frame, use `newframe = frame.copy()`\n",
      "  all_stock_returns[symbol] = df_sh[symbol]['Daily_Return']\n",
      "C:\\Users\\aviji\\AppData\\Local\\Temp\\ipykernel_8628\\317388784.py:24: PerformanceWarning: DataFrame is highly fragmented.  This is usually the result of calling `frame.insert` many times, which has poor performance.  Consider joining all columns at once using pd.concat(axis=1) instead. To get a de-fragmented frame, use `newframe = frame.copy()`\n",
      "  all_stock_returns[symbol] = df_sh[symbol]['Daily_Return']\n",
      "C:\\Users\\aviji\\AppData\\Local\\Temp\\ipykernel_8628\\317388784.py:24: PerformanceWarning: DataFrame is highly fragmented.  This is usually the result of calling `frame.insert` many times, which has poor performance.  Consider joining all columns at once using pd.concat(axis=1) instead. To get a de-fragmented frame, use `newframe = frame.copy()`\n",
      "  all_stock_returns[symbol] = df_sh[symbol]['Daily_Return']\n",
      "C:\\Users\\aviji\\AppData\\Local\\Temp\\ipykernel_8628\\317388784.py:24: PerformanceWarning: DataFrame is highly fragmented.  This is usually the result of calling `frame.insert` many times, which has poor performance.  Consider joining all columns at once using pd.concat(axis=1) instead. To get a de-fragmented frame, use `newframe = frame.copy()`\n",
      "  all_stock_returns[symbol] = df_sh[symbol]['Daily_Return']\n",
      "C:\\Users\\aviji\\AppData\\Local\\Temp\\ipykernel_8628\\317388784.py:24: PerformanceWarning: DataFrame is highly fragmented.  This is usually the result of calling `frame.insert` many times, which has poor performance.  Consider joining all columns at once using pd.concat(axis=1) instead. To get a de-fragmented frame, use `newframe = frame.copy()`\n",
      "  all_stock_returns[symbol] = df_sh[symbol]['Daily_Return']\n",
      "C:\\Users\\aviji\\AppData\\Local\\Temp\\ipykernel_8628\\317388784.py:24: PerformanceWarning: DataFrame is highly fragmented.  This is usually the result of calling `frame.insert` many times, which has poor performance.  Consider joining all columns at once using pd.concat(axis=1) instead. To get a de-fragmented frame, use `newframe = frame.copy()`\n",
      "  all_stock_returns[symbol] = df_sh[symbol]['Daily_Return']\n",
      "C:\\Users\\aviji\\AppData\\Local\\Temp\\ipykernel_8628\\317388784.py:24: PerformanceWarning: DataFrame is highly fragmented.  This is usually the result of calling `frame.insert` many times, which has poor performance.  Consider joining all columns at once using pd.concat(axis=1) instead. To get a de-fragmented frame, use `newframe = frame.copy()`\n",
      "  all_stock_returns[symbol] = df_sh[symbol]['Daily_Return']\n",
      "C:\\Users\\aviji\\AppData\\Local\\Temp\\ipykernel_8628\\317388784.py:24: PerformanceWarning: DataFrame is highly fragmented.  This is usually the result of calling `frame.insert` many times, which has poor performance.  Consider joining all columns at once using pd.concat(axis=1) instead. To get a de-fragmented frame, use `newframe = frame.copy()`\n",
      "  all_stock_returns[symbol] = df_sh[symbol]['Daily_Return']\n",
      "C:\\Users\\aviji\\AppData\\Local\\Temp\\ipykernel_8628\\317388784.py:24: PerformanceWarning: DataFrame is highly fragmented.  This is usually the result of calling `frame.insert` many times, which has poor performance.  Consider joining all columns at once using pd.concat(axis=1) instead. To get a de-fragmented frame, use `newframe = frame.copy()`\n",
      "  all_stock_returns[symbol] = df_sh[symbol]['Daily_Return']\n",
      "C:\\Users\\aviji\\AppData\\Local\\Temp\\ipykernel_8628\\317388784.py:24: PerformanceWarning: DataFrame is highly fragmented.  This is usually the result of calling `frame.insert` many times, which has poor performance.  Consider joining all columns at once using pd.concat(axis=1) instead. To get a de-fragmented frame, use `newframe = frame.copy()`\n",
      "  all_stock_returns[symbol] = df_sh[symbol]['Daily_Return']\n",
      "C:\\Users\\aviji\\AppData\\Local\\Temp\\ipykernel_8628\\317388784.py:24: PerformanceWarning: DataFrame is highly fragmented.  This is usually the result of calling `frame.insert` many times, which has poor performance.  Consider joining all columns at once using pd.concat(axis=1) instead. To get a de-fragmented frame, use `newframe = frame.copy()`\n",
      "  all_stock_returns[symbol] = df_sh[symbol]['Daily_Return']\n",
      "C:\\Users\\aviji\\AppData\\Local\\Temp\\ipykernel_8628\\317388784.py:24: PerformanceWarning: DataFrame is highly fragmented.  This is usually the result of calling `frame.insert` many times, which has poor performance.  Consider joining all columns at once using pd.concat(axis=1) instead. To get a de-fragmented frame, use `newframe = frame.copy()`\n",
      "  all_stock_returns[symbol] = df_sh[symbol]['Daily_Return']\n",
      "C:\\Users\\aviji\\AppData\\Local\\Temp\\ipykernel_8628\\317388784.py:24: PerformanceWarning: DataFrame is highly fragmented.  This is usually the result of calling `frame.insert` many times, which has poor performance.  Consider joining all columns at once using pd.concat(axis=1) instead. To get a de-fragmented frame, use `newframe = frame.copy()`\n",
      "  all_stock_returns[symbol] = df_sh[symbol]['Daily_Return']\n",
      "C:\\Users\\aviji\\AppData\\Local\\Temp\\ipykernel_8628\\317388784.py:24: PerformanceWarning: DataFrame is highly fragmented.  This is usually the result of calling `frame.insert` many times, which has poor performance.  Consider joining all columns at once using pd.concat(axis=1) instead. To get a de-fragmented frame, use `newframe = frame.copy()`\n",
      "  all_stock_returns[symbol] = df_sh[symbol]['Daily_Return']\n",
      "C:\\Users\\aviji\\AppData\\Local\\Temp\\ipykernel_8628\\317388784.py:24: PerformanceWarning: DataFrame is highly fragmented.  This is usually the result of calling `frame.insert` many times, which has poor performance.  Consider joining all columns at once using pd.concat(axis=1) instead. To get a de-fragmented frame, use `newframe = frame.copy()`\n",
      "  all_stock_returns[symbol] = df_sh[symbol]['Daily_Return']\n",
      "C:\\Users\\aviji\\AppData\\Local\\Temp\\ipykernel_8628\\317388784.py:24: PerformanceWarning: DataFrame is highly fragmented.  This is usually the result of calling `frame.insert` many times, which has poor performance.  Consider joining all columns at once using pd.concat(axis=1) instead. To get a de-fragmented frame, use `newframe = frame.copy()`\n",
      "  all_stock_returns[symbol] = df_sh[symbol]['Daily_Return']\n",
      "C:\\Users\\aviji\\AppData\\Local\\Temp\\ipykernel_8628\\317388784.py:24: PerformanceWarning: DataFrame is highly fragmented.  This is usually the result of calling `frame.insert` many times, which has poor performance.  Consider joining all columns at once using pd.concat(axis=1) instead. To get a de-fragmented frame, use `newframe = frame.copy()`\n",
      "  all_stock_returns[symbol] = df_sh[symbol]['Daily_Return']\n",
      "C:\\Users\\aviji\\AppData\\Local\\Temp\\ipykernel_8628\\317388784.py:24: PerformanceWarning: DataFrame is highly fragmented.  This is usually the result of calling `frame.insert` many times, which has poor performance.  Consider joining all columns at once using pd.concat(axis=1) instead. To get a de-fragmented frame, use `newframe = frame.copy()`\n",
      "  all_stock_returns[symbol] = df_sh[symbol]['Daily_Return']\n",
      "C:\\Users\\aviji\\AppData\\Local\\Temp\\ipykernel_8628\\317388784.py:24: PerformanceWarning: DataFrame is highly fragmented.  This is usually the result of calling `frame.insert` many times, which has poor performance.  Consider joining all columns at once using pd.concat(axis=1) instead. To get a de-fragmented frame, use `newframe = frame.copy()`\n",
      "  all_stock_returns[symbol] = df_sh[symbol]['Daily_Return']\n",
      "C:\\Users\\aviji\\AppData\\Local\\Temp\\ipykernel_8628\\317388784.py:24: PerformanceWarning: DataFrame is highly fragmented.  This is usually the result of calling `frame.insert` many times, which has poor performance.  Consider joining all columns at once using pd.concat(axis=1) instead. To get a de-fragmented frame, use `newframe = frame.copy()`\n",
      "  all_stock_returns[symbol] = df_sh[symbol]['Daily_Return']\n",
      "C:\\Users\\aviji\\AppData\\Local\\Temp\\ipykernel_8628\\317388784.py:24: PerformanceWarning: DataFrame is highly fragmented.  This is usually the result of calling `frame.insert` many times, which has poor performance.  Consider joining all columns at once using pd.concat(axis=1) instead. To get a de-fragmented frame, use `newframe = frame.copy()`\n",
      "  all_stock_returns[symbol] = df_sh[symbol]['Daily_Return']\n",
      "C:\\Users\\aviji\\AppData\\Local\\Temp\\ipykernel_8628\\317388784.py:24: PerformanceWarning: DataFrame is highly fragmented.  This is usually the result of calling `frame.insert` many times, which has poor performance.  Consider joining all columns at once using pd.concat(axis=1) instead. To get a de-fragmented frame, use `newframe = frame.copy()`\n",
      "  all_stock_returns[symbol] = df_sh[symbol]['Daily_Return']\n",
      "C:\\Users\\aviji\\AppData\\Local\\Temp\\ipykernel_8628\\317388784.py:24: PerformanceWarning: DataFrame is highly fragmented.  This is usually the result of calling `frame.insert` many times, which has poor performance.  Consider joining all columns at once using pd.concat(axis=1) instead. To get a de-fragmented frame, use `newframe = frame.copy()`\n",
      "  all_stock_returns[symbol] = df_sh[symbol]['Daily_Return']\n",
      "C:\\Users\\aviji\\AppData\\Local\\Temp\\ipykernel_8628\\317388784.py:24: PerformanceWarning: DataFrame is highly fragmented.  This is usually the result of calling `frame.insert` many times, which has poor performance.  Consider joining all columns at once using pd.concat(axis=1) instead. To get a de-fragmented frame, use `newframe = frame.copy()`\n",
      "  all_stock_returns[symbol] = df_sh[symbol]['Daily_Return']\n",
      "C:\\Users\\aviji\\AppData\\Local\\Temp\\ipykernel_8628\\317388784.py:24: PerformanceWarning: DataFrame is highly fragmented.  This is usually the result of calling `frame.insert` many times, which has poor performance.  Consider joining all columns at once using pd.concat(axis=1) instead. To get a de-fragmented frame, use `newframe = frame.copy()`\n",
      "  all_stock_returns[symbol] = df_sh[symbol]['Daily_Return']\n",
      "C:\\Users\\aviji\\AppData\\Local\\Temp\\ipykernel_8628\\317388784.py:24: PerformanceWarning: DataFrame is highly fragmented.  This is usually the result of calling `frame.insert` many times, which has poor performance.  Consider joining all columns at once using pd.concat(axis=1) instead. To get a de-fragmented frame, use `newframe = frame.copy()`\n",
      "  all_stock_returns[symbol] = df_sh[symbol]['Daily_Return']\n",
      "C:\\Users\\aviji\\AppData\\Local\\Temp\\ipykernel_8628\\317388784.py:24: PerformanceWarning: DataFrame is highly fragmented.  This is usually the result of calling `frame.insert` many times, which has poor performance.  Consider joining all columns at once using pd.concat(axis=1) instead. To get a de-fragmented frame, use `newframe = frame.copy()`\n",
      "  all_stock_returns[symbol] = df_sh[symbol]['Daily_Return']\n",
      "C:\\Users\\aviji\\AppData\\Local\\Temp\\ipykernel_8628\\317388784.py:24: PerformanceWarning: DataFrame is highly fragmented.  This is usually the result of calling `frame.insert` many times, which has poor performance.  Consider joining all columns at once using pd.concat(axis=1) instead. To get a de-fragmented frame, use `newframe = frame.copy()`\n",
      "  all_stock_returns[symbol] = df_sh[symbol]['Daily_Return']\n",
      "C:\\Users\\aviji\\AppData\\Local\\Temp\\ipykernel_8628\\317388784.py:24: PerformanceWarning: DataFrame is highly fragmented.  This is usually the result of calling `frame.insert` many times, which has poor performance.  Consider joining all columns at once using pd.concat(axis=1) instead. To get a de-fragmented frame, use `newframe = frame.copy()`\n",
      "  all_stock_returns[symbol] = df_sh[symbol]['Daily_Return']\n",
      "C:\\Users\\aviji\\AppData\\Local\\Temp\\ipykernel_8628\\317388784.py:24: PerformanceWarning: DataFrame is highly fragmented.  This is usually the result of calling `frame.insert` many times, which has poor performance.  Consider joining all columns at once using pd.concat(axis=1) instead. To get a de-fragmented frame, use `newframe = frame.copy()`\n",
      "  all_stock_returns[symbol] = df_sh[symbol]['Daily_Return']\n",
      "C:\\Users\\aviji\\AppData\\Local\\Temp\\ipykernel_8628\\317388784.py:24: PerformanceWarning: DataFrame is highly fragmented.  This is usually the result of calling `frame.insert` many times, which has poor performance.  Consider joining all columns at once using pd.concat(axis=1) instead. To get a de-fragmented frame, use `newframe = frame.copy()`\n",
      "  all_stock_returns[symbol] = df_sh[symbol]['Daily_Return']\n",
      "C:\\Users\\aviji\\AppData\\Local\\Temp\\ipykernel_8628\\317388784.py:24: PerformanceWarning: DataFrame is highly fragmented.  This is usually the result of calling `frame.insert` many times, which has poor performance.  Consider joining all columns at once using pd.concat(axis=1) instead. To get a de-fragmented frame, use `newframe = frame.copy()`\n",
      "  all_stock_returns[symbol] = df_sh[symbol]['Daily_Return']\n",
      "C:\\Users\\aviji\\AppData\\Local\\Temp\\ipykernel_8628\\317388784.py:24: PerformanceWarning: DataFrame is highly fragmented.  This is usually the result of calling `frame.insert` many times, which has poor performance.  Consider joining all columns at once using pd.concat(axis=1) instead. To get a de-fragmented frame, use `newframe = frame.copy()`\n",
      "  all_stock_returns[symbol] = df_sh[symbol]['Daily_Return']\n",
      "C:\\Users\\aviji\\AppData\\Local\\Temp\\ipykernel_8628\\317388784.py:24: PerformanceWarning: DataFrame is highly fragmented.  This is usually the result of calling `frame.insert` many times, which has poor performance.  Consider joining all columns at once using pd.concat(axis=1) instead. To get a de-fragmented frame, use `newframe = frame.copy()`\n",
      "  all_stock_returns[symbol] = df_sh[symbol]['Daily_Return']\n",
      "C:\\Users\\aviji\\AppData\\Local\\Temp\\ipykernel_8628\\317388784.py:24: PerformanceWarning: DataFrame is highly fragmented.  This is usually the result of calling `frame.insert` many times, which has poor performance.  Consider joining all columns at once using pd.concat(axis=1) instead. To get a de-fragmented frame, use `newframe = frame.copy()`\n",
      "  all_stock_returns[symbol] = df_sh[symbol]['Daily_Return']\n",
      "C:\\Users\\aviji\\AppData\\Local\\Temp\\ipykernel_8628\\317388784.py:24: PerformanceWarning: DataFrame is highly fragmented.  This is usually the result of calling `frame.insert` many times, which has poor performance.  Consider joining all columns at once using pd.concat(axis=1) instead. To get a de-fragmented frame, use `newframe = frame.copy()`\n",
      "  all_stock_returns[symbol] = df_sh[symbol]['Daily_Return']\n",
      "C:\\Users\\aviji\\AppData\\Local\\Temp\\ipykernel_8628\\317388784.py:24: PerformanceWarning: DataFrame is highly fragmented.  This is usually the result of calling `frame.insert` many times, which has poor performance.  Consider joining all columns at once using pd.concat(axis=1) instead. To get a de-fragmented frame, use `newframe = frame.copy()`\n",
      "  all_stock_returns[symbol] = df_sh[symbol]['Daily_Return']\n",
      "C:\\Users\\aviji\\AppData\\Local\\Temp\\ipykernel_8628\\317388784.py:24: PerformanceWarning: DataFrame is highly fragmented.  This is usually the result of calling `frame.insert` many times, which has poor performance.  Consider joining all columns at once using pd.concat(axis=1) instead. To get a de-fragmented frame, use `newframe = frame.copy()`\n",
      "  all_stock_returns[symbol] = df_sh[symbol]['Daily_Return']\n",
      "C:\\Users\\aviji\\AppData\\Local\\Temp\\ipykernel_8628\\317388784.py:24: PerformanceWarning: DataFrame is highly fragmented.  This is usually the result of calling `frame.insert` many times, which has poor performance.  Consider joining all columns at once using pd.concat(axis=1) instead. To get a de-fragmented frame, use `newframe = frame.copy()`\n",
      "  all_stock_returns[symbol] = df_sh[symbol]['Daily_Return']\n",
      "C:\\Users\\aviji\\AppData\\Local\\Temp\\ipykernel_8628\\317388784.py:24: PerformanceWarning: DataFrame is highly fragmented.  This is usually the result of calling `frame.insert` many times, which has poor performance.  Consider joining all columns at once using pd.concat(axis=1) instead. To get a de-fragmented frame, use `newframe = frame.copy()`\n",
      "  all_stock_returns[symbol] = df_sh[symbol]['Daily_Return']\n",
      "C:\\Users\\aviji\\AppData\\Local\\Temp\\ipykernel_8628\\317388784.py:24: PerformanceWarning: DataFrame is highly fragmented.  This is usually the result of calling `frame.insert` many times, which has poor performance.  Consider joining all columns at once using pd.concat(axis=1) instead. To get a de-fragmented frame, use `newframe = frame.copy()`\n",
      "  all_stock_returns[symbol] = df_sh[symbol]['Daily_Return']\n",
      "C:\\Users\\aviji\\AppData\\Local\\Temp\\ipykernel_8628\\317388784.py:24: PerformanceWarning: DataFrame is highly fragmented.  This is usually the result of calling `frame.insert` many times, which has poor performance.  Consider joining all columns at once using pd.concat(axis=1) instead. To get a de-fragmented frame, use `newframe = frame.copy()`\n",
      "  all_stock_returns[symbol] = df_sh[symbol]['Daily_Return']\n",
      "C:\\Users\\aviji\\AppData\\Local\\Temp\\ipykernel_8628\\317388784.py:24: PerformanceWarning: DataFrame is highly fragmented.  This is usually the result of calling `frame.insert` many times, which has poor performance.  Consider joining all columns at once using pd.concat(axis=1) instead. To get a de-fragmented frame, use `newframe = frame.copy()`\n",
      "  all_stock_returns[symbol] = df_sh[symbol]['Daily_Return']\n",
      "C:\\Users\\aviji\\AppData\\Local\\Temp\\ipykernel_8628\\317388784.py:24: PerformanceWarning: DataFrame is highly fragmented.  This is usually the result of calling `frame.insert` many times, which has poor performance.  Consider joining all columns at once using pd.concat(axis=1) instead. To get a de-fragmented frame, use `newframe = frame.copy()`\n",
      "  all_stock_returns[symbol] = df_sh[symbol]['Daily_Return']\n",
      "C:\\Users\\aviji\\AppData\\Local\\Temp\\ipykernel_8628\\317388784.py:24: PerformanceWarning: DataFrame is highly fragmented.  This is usually the result of calling `frame.insert` many times, which has poor performance.  Consider joining all columns at once using pd.concat(axis=1) instead. To get a de-fragmented frame, use `newframe = frame.copy()`\n",
      "  all_stock_returns[symbol] = df_sh[symbol]['Daily_Return']\n",
      "C:\\Users\\aviji\\AppData\\Local\\Temp\\ipykernel_8628\\317388784.py:24: PerformanceWarning: DataFrame is highly fragmented.  This is usually the result of calling `frame.insert` many times, which has poor performance.  Consider joining all columns at once using pd.concat(axis=1) instead. To get a de-fragmented frame, use `newframe = frame.copy()`\n",
      "  all_stock_returns[symbol] = df_sh[symbol]['Daily_Return']\n",
      "C:\\Users\\aviji\\AppData\\Local\\Temp\\ipykernel_8628\\317388784.py:24: PerformanceWarning: DataFrame is highly fragmented.  This is usually the result of calling `frame.insert` many times, which has poor performance.  Consider joining all columns at once using pd.concat(axis=1) instead. To get a de-fragmented frame, use `newframe = frame.copy()`\n",
      "  all_stock_returns[symbol] = df_sh[symbol]['Daily_Return']\n",
      "C:\\Users\\aviji\\AppData\\Local\\Temp\\ipykernel_8628\\317388784.py:24: PerformanceWarning: DataFrame is highly fragmented.  This is usually the result of calling `frame.insert` many times, which has poor performance.  Consider joining all columns at once using pd.concat(axis=1) instead. To get a de-fragmented frame, use `newframe = frame.copy()`\n",
      "  all_stock_returns[symbol] = df_sh[symbol]['Daily_Return']\n",
      "C:\\Users\\aviji\\AppData\\Local\\Temp\\ipykernel_8628\\317388784.py:24: PerformanceWarning: DataFrame is highly fragmented.  This is usually the result of calling `frame.insert` many times, which has poor performance.  Consider joining all columns at once using pd.concat(axis=1) instead. To get a de-fragmented frame, use `newframe = frame.copy()`\n",
      "  all_stock_returns[symbol] = df_sh[symbol]['Daily_Return']\n",
      "C:\\Users\\aviji\\AppData\\Local\\Temp\\ipykernel_8628\\317388784.py:24: PerformanceWarning: DataFrame is highly fragmented.  This is usually the result of calling `frame.insert` many times, which has poor performance.  Consider joining all columns at once using pd.concat(axis=1) instead. To get a de-fragmented frame, use `newframe = frame.copy()`\n",
      "  all_stock_returns[symbol] = df_sh[symbol]['Daily_Return']\n",
      "C:\\Users\\aviji\\AppData\\Local\\Temp\\ipykernel_8628\\317388784.py:24: PerformanceWarning: DataFrame is highly fragmented.  This is usually the result of calling `frame.insert` many times, which has poor performance.  Consider joining all columns at once using pd.concat(axis=1) instead. To get a de-fragmented frame, use `newframe = frame.copy()`\n",
      "  all_stock_returns[symbol] = df_sh[symbol]['Daily_Return']\n",
      "C:\\Users\\aviji\\AppData\\Local\\Temp\\ipykernel_8628\\317388784.py:24: PerformanceWarning: DataFrame is highly fragmented.  This is usually the result of calling `frame.insert` many times, which has poor performance.  Consider joining all columns at once using pd.concat(axis=1) instead. To get a de-fragmented frame, use `newframe = frame.copy()`\n",
      "  all_stock_returns[symbol] = df_sh[symbol]['Daily_Return']\n",
      "C:\\Users\\aviji\\AppData\\Local\\Temp\\ipykernel_8628\\317388784.py:24: PerformanceWarning: DataFrame is highly fragmented.  This is usually the result of calling `frame.insert` many times, which has poor performance.  Consider joining all columns at once using pd.concat(axis=1) instead. To get a de-fragmented frame, use `newframe = frame.copy()`\n",
      "  all_stock_returns[symbol] = df_sh[symbol]['Daily_Return']\n",
      "C:\\Users\\aviji\\AppData\\Local\\Temp\\ipykernel_8628\\317388784.py:24: PerformanceWarning: DataFrame is highly fragmented.  This is usually the result of calling `frame.insert` many times, which has poor performance.  Consider joining all columns at once using pd.concat(axis=1) instead. To get a de-fragmented frame, use `newframe = frame.copy()`\n",
      "  all_stock_returns[symbol] = df_sh[symbol]['Daily_Return']\n",
      "C:\\Users\\aviji\\AppData\\Local\\Temp\\ipykernel_8628\\317388784.py:24: PerformanceWarning: DataFrame is highly fragmented.  This is usually the result of calling `frame.insert` many times, which has poor performance.  Consider joining all columns at once using pd.concat(axis=1) instead. To get a de-fragmented frame, use `newframe = frame.copy()`\n",
      "  all_stock_returns[symbol] = df_sh[symbol]['Daily_Return']\n",
      "C:\\Users\\aviji\\AppData\\Local\\Temp\\ipykernel_8628\\317388784.py:24: PerformanceWarning: DataFrame is highly fragmented.  This is usually the result of calling `frame.insert` many times, which has poor performance.  Consider joining all columns at once using pd.concat(axis=1) instead. To get a de-fragmented frame, use `newframe = frame.copy()`\n",
      "  all_stock_returns[symbol] = df_sh[symbol]['Daily_Return']\n",
      "C:\\Users\\aviji\\AppData\\Local\\Temp\\ipykernel_8628\\317388784.py:24: PerformanceWarning: DataFrame is highly fragmented.  This is usually the result of calling `frame.insert` many times, which has poor performance.  Consider joining all columns at once using pd.concat(axis=1) instead. To get a de-fragmented frame, use `newframe = frame.copy()`\n",
      "  all_stock_returns[symbol] = df_sh[symbol]['Daily_Return']\n",
      "C:\\Users\\aviji\\AppData\\Local\\Temp\\ipykernel_8628\\317388784.py:24: PerformanceWarning: DataFrame is highly fragmented.  This is usually the result of calling `frame.insert` many times, which has poor performance.  Consider joining all columns at once using pd.concat(axis=1) instead. To get a de-fragmented frame, use `newframe = frame.copy()`\n",
      "  all_stock_returns[symbol] = df_sh[symbol]['Daily_Return']\n",
      "C:\\Users\\aviji\\AppData\\Local\\Temp\\ipykernel_8628\\317388784.py:24: PerformanceWarning: DataFrame is highly fragmented.  This is usually the result of calling `frame.insert` many times, which has poor performance.  Consider joining all columns at once using pd.concat(axis=1) instead. To get a de-fragmented frame, use `newframe = frame.copy()`\n",
      "  all_stock_returns[symbol] = df_sh[symbol]['Daily_Return']\n",
      "C:\\Users\\aviji\\AppData\\Local\\Temp\\ipykernel_8628\\317388784.py:24: PerformanceWarning: DataFrame is highly fragmented.  This is usually the result of calling `frame.insert` many times, which has poor performance.  Consider joining all columns at once using pd.concat(axis=1) instead. To get a de-fragmented frame, use `newframe = frame.copy()`\n",
      "  all_stock_returns[symbol] = df_sh[symbol]['Daily_Return']\n",
      "C:\\Users\\aviji\\AppData\\Local\\Temp\\ipykernel_8628\\317388784.py:24: PerformanceWarning: DataFrame is highly fragmented.  This is usually the result of calling `frame.insert` many times, which has poor performance.  Consider joining all columns at once using pd.concat(axis=1) instead. To get a de-fragmented frame, use `newframe = frame.copy()`\n",
      "  all_stock_returns[symbol] = df_sh[symbol]['Daily_Return']\n",
      "C:\\Users\\aviji\\AppData\\Local\\Temp\\ipykernel_8628\\317388784.py:24: PerformanceWarning: DataFrame is highly fragmented.  This is usually the result of calling `frame.insert` many times, which has poor performance.  Consider joining all columns at once using pd.concat(axis=1) instead. To get a de-fragmented frame, use `newframe = frame.copy()`\n",
      "  all_stock_returns[symbol] = df_sh[symbol]['Daily_Return']\n",
      "C:\\Users\\aviji\\AppData\\Local\\Temp\\ipykernel_8628\\317388784.py:24: PerformanceWarning: DataFrame is highly fragmented.  This is usually the result of calling `frame.insert` many times, which has poor performance.  Consider joining all columns at once using pd.concat(axis=1) instead. To get a de-fragmented frame, use `newframe = frame.copy()`\n",
      "  all_stock_returns[symbol] = df_sh[symbol]['Daily_Return']\n",
      "C:\\Users\\aviji\\AppData\\Local\\Temp\\ipykernel_8628\\317388784.py:24: PerformanceWarning: DataFrame is highly fragmented.  This is usually the result of calling `frame.insert` many times, which has poor performance.  Consider joining all columns at once using pd.concat(axis=1) instead. To get a de-fragmented frame, use `newframe = frame.copy()`\n",
      "  all_stock_returns[symbol] = df_sh[symbol]['Daily_Return']\n",
      "C:\\Users\\aviji\\AppData\\Local\\Temp\\ipykernel_8628\\317388784.py:24: PerformanceWarning: DataFrame is highly fragmented.  This is usually the result of calling `frame.insert` many times, which has poor performance.  Consider joining all columns at once using pd.concat(axis=1) instead. To get a de-fragmented frame, use `newframe = frame.copy()`\n",
      "  all_stock_returns[symbol] = df_sh[symbol]['Daily_Return']\n",
      "C:\\Users\\aviji\\AppData\\Local\\Temp\\ipykernel_8628\\317388784.py:24: PerformanceWarning: DataFrame is highly fragmented.  This is usually the result of calling `frame.insert` many times, which has poor performance.  Consider joining all columns at once using pd.concat(axis=1) instead. To get a de-fragmented frame, use `newframe = frame.copy()`\n",
      "  all_stock_returns[symbol] = df_sh[symbol]['Daily_Return']\n",
      "C:\\Users\\aviji\\AppData\\Local\\Temp\\ipykernel_8628\\317388784.py:24: PerformanceWarning: DataFrame is highly fragmented.  This is usually the result of calling `frame.insert` many times, which has poor performance.  Consider joining all columns at once using pd.concat(axis=1) instead. To get a de-fragmented frame, use `newframe = frame.copy()`\n",
      "  all_stock_returns[symbol] = df_sh[symbol]['Daily_Return']\n",
      "C:\\Users\\aviji\\AppData\\Local\\Temp\\ipykernel_8628\\317388784.py:24: PerformanceWarning: DataFrame is highly fragmented.  This is usually the result of calling `frame.insert` many times, which has poor performance.  Consider joining all columns at once using pd.concat(axis=1) instead. To get a de-fragmented frame, use `newframe = frame.copy()`\n",
      "  all_stock_returns[symbol] = df_sh[symbol]['Daily_Return']\n",
      "C:\\Users\\aviji\\AppData\\Local\\Temp\\ipykernel_8628\\317388784.py:24: PerformanceWarning: DataFrame is highly fragmented.  This is usually the result of calling `frame.insert` many times, which has poor performance.  Consider joining all columns at once using pd.concat(axis=1) instead. To get a de-fragmented frame, use `newframe = frame.copy()`\n",
      "  all_stock_returns[symbol] = df_sh[symbol]['Daily_Return']\n",
      "C:\\Users\\aviji\\AppData\\Local\\Temp\\ipykernel_8628\\317388784.py:24: PerformanceWarning: DataFrame is highly fragmented.  This is usually the result of calling `frame.insert` many times, which has poor performance.  Consider joining all columns at once using pd.concat(axis=1) instead. To get a de-fragmented frame, use `newframe = frame.copy()`\n",
      "  all_stock_returns[symbol] = df_sh[symbol]['Daily_Return']\n",
      "C:\\Users\\aviji\\AppData\\Local\\Temp\\ipykernel_8628\\317388784.py:24: PerformanceWarning: DataFrame is highly fragmented.  This is usually the result of calling `frame.insert` many times, which has poor performance.  Consider joining all columns at once using pd.concat(axis=1) instead. To get a de-fragmented frame, use `newframe = frame.copy()`\n",
      "  all_stock_returns[symbol] = df_sh[symbol]['Daily_Return']\n",
      "C:\\Users\\aviji\\AppData\\Local\\Temp\\ipykernel_8628\\317388784.py:24: PerformanceWarning: DataFrame is highly fragmented.  This is usually the result of calling `frame.insert` many times, which has poor performance.  Consider joining all columns at once using pd.concat(axis=1) instead. To get a de-fragmented frame, use `newframe = frame.copy()`\n",
      "  all_stock_returns[symbol] = df_sh[symbol]['Daily_Return']\n",
      "C:\\Users\\aviji\\AppData\\Local\\Temp\\ipykernel_8628\\317388784.py:24: PerformanceWarning: DataFrame is highly fragmented.  This is usually the result of calling `frame.insert` many times, which has poor performance.  Consider joining all columns at once using pd.concat(axis=1) instead. To get a de-fragmented frame, use `newframe = frame.copy()`\n",
      "  all_stock_returns[symbol] = df_sh[symbol]['Daily_Return']\n",
      "C:\\Users\\aviji\\AppData\\Local\\Temp\\ipykernel_8628\\317388784.py:24: PerformanceWarning: DataFrame is highly fragmented.  This is usually the result of calling `frame.insert` many times, which has poor performance.  Consider joining all columns at once using pd.concat(axis=1) instead. To get a de-fragmented frame, use `newframe = frame.copy()`\n",
      "  all_stock_returns[symbol] = df_sh[symbol]['Daily_Return']\n",
      "C:\\Users\\aviji\\AppData\\Local\\Temp\\ipykernel_8628\\317388784.py:24: PerformanceWarning: DataFrame is highly fragmented.  This is usually the result of calling `frame.insert` many times, which has poor performance.  Consider joining all columns at once using pd.concat(axis=1) instead. To get a de-fragmented frame, use `newframe = frame.copy()`\n",
      "  all_stock_returns[symbol] = df_sh[symbol]['Daily_Return']\n",
      "C:\\Users\\aviji\\AppData\\Local\\Temp\\ipykernel_8628\\317388784.py:24: PerformanceWarning: DataFrame is highly fragmented.  This is usually the result of calling `frame.insert` many times, which has poor performance.  Consider joining all columns at once using pd.concat(axis=1) instead. To get a de-fragmented frame, use `newframe = frame.copy()`\n",
      "  all_stock_returns[symbol] = df_sh[symbol]['Daily_Return']\n",
      "C:\\Users\\aviji\\AppData\\Local\\Temp\\ipykernel_8628\\317388784.py:24: PerformanceWarning: DataFrame is highly fragmented.  This is usually the result of calling `frame.insert` many times, which has poor performance.  Consider joining all columns at once using pd.concat(axis=1) instead. To get a de-fragmented frame, use `newframe = frame.copy()`\n",
      "  all_stock_returns[symbol] = df_sh[symbol]['Daily_Return']\n",
      "C:\\Users\\aviji\\AppData\\Local\\Temp\\ipykernel_8628\\317388784.py:24: PerformanceWarning: DataFrame is highly fragmented.  This is usually the result of calling `frame.insert` many times, which has poor performance.  Consider joining all columns at once using pd.concat(axis=1) instead. To get a de-fragmented frame, use `newframe = frame.copy()`\n",
      "  all_stock_returns[symbol] = df_sh[symbol]['Daily_Return']\n",
      "C:\\Users\\aviji\\AppData\\Local\\Temp\\ipykernel_8628\\317388784.py:24: PerformanceWarning: DataFrame is highly fragmented.  This is usually the result of calling `frame.insert` many times, which has poor performance.  Consider joining all columns at once using pd.concat(axis=1) instead. To get a de-fragmented frame, use `newframe = frame.copy()`\n",
      "  all_stock_returns[symbol] = df_sh[symbol]['Daily_Return']\n",
      "C:\\Users\\aviji\\AppData\\Local\\Temp\\ipykernel_8628\\317388784.py:24: PerformanceWarning: DataFrame is highly fragmented.  This is usually the result of calling `frame.insert` many times, which has poor performance.  Consider joining all columns at once using pd.concat(axis=1) instead. To get a de-fragmented frame, use `newframe = frame.copy()`\n",
      "  all_stock_returns[symbol] = df_sh[symbol]['Daily_Return']\n",
      "C:\\Users\\aviji\\AppData\\Local\\Temp\\ipykernel_8628\\317388784.py:24: PerformanceWarning: DataFrame is highly fragmented.  This is usually the result of calling `frame.insert` many times, which has poor performance.  Consider joining all columns at once using pd.concat(axis=1) instead. To get a de-fragmented frame, use `newframe = frame.copy()`\n",
      "  all_stock_returns[symbol] = df_sh[symbol]['Daily_Return']\n",
      "C:\\Users\\aviji\\AppData\\Local\\Temp\\ipykernel_8628\\317388784.py:24: PerformanceWarning: DataFrame is highly fragmented.  This is usually the result of calling `frame.insert` many times, which has poor performance.  Consider joining all columns at once using pd.concat(axis=1) instead. To get a de-fragmented frame, use `newframe = frame.copy()`\n",
      "  all_stock_returns[symbol] = df_sh[symbol]['Daily_Return']\n",
      "C:\\Users\\aviji\\AppData\\Local\\Temp\\ipykernel_8628\\317388784.py:24: PerformanceWarning: DataFrame is highly fragmented.  This is usually the result of calling `frame.insert` many times, which has poor performance.  Consider joining all columns at once using pd.concat(axis=1) instead. To get a de-fragmented frame, use `newframe = frame.copy()`\n",
      "  all_stock_returns[symbol] = df_sh[symbol]['Daily_Return']\n",
      "C:\\Users\\aviji\\AppData\\Local\\Temp\\ipykernel_8628\\317388784.py:24: PerformanceWarning: DataFrame is highly fragmented.  This is usually the result of calling `frame.insert` many times, which has poor performance.  Consider joining all columns at once using pd.concat(axis=1) instead. To get a de-fragmented frame, use `newframe = frame.copy()`\n",
      "  all_stock_returns[symbol] = df_sh[symbol]['Daily_Return']\n",
      "C:\\Users\\aviji\\AppData\\Local\\Temp\\ipykernel_8628\\317388784.py:24: PerformanceWarning: DataFrame is highly fragmented.  This is usually the result of calling `frame.insert` many times, which has poor performance.  Consider joining all columns at once using pd.concat(axis=1) instead. To get a de-fragmented frame, use `newframe = frame.copy()`\n",
      "  all_stock_returns[symbol] = df_sh[symbol]['Daily_Return']\n",
      "C:\\Users\\aviji\\AppData\\Local\\Temp\\ipykernel_8628\\317388784.py:24: PerformanceWarning: DataFrame is highly fragmented.  This is usually the result of calling `frame.insert` many times, which has poor performance.  Consider joining all columns at once using pd.concat(axis=1) instead. To get a de-fragmented frame, use `newframe = frame.copy()`\n",
      "  all_stock_returns[symbol] = df_sh[symbol]['Daily_Return']\n",
      "C:\\Users\\aviji\\AppData\\Local\\Temp\\ipykernel_8628\\317388784.py:24: PerformanceWarning: DataFrame is highly fragmented.  This is usually the result of calling `frame.insert` many times, which has poor performance.  Consider joining all columns at once using pd.concat(axis=1) instead. To get a de-fragmented frame, use `newframe = frame.copy()`\n",
      "  all_stock_returns[symbol] = df_sh[symbol]['Daily_Return']\n",
      "C:\\Users\\aviji\\AppData\\Local\\Temp\\ipykernel_8628\\317388784.py:24: PerformanceWarning: DataFrame is highly fragmented.  This is usually the result of calling `frame.insert` many times, which has poor performance.  Consider joining all columns at once using pd.concat(axis=1) instead. To get a de-fragmented frame, use `newframe = frame.copy()`\n",
      "  all_stock_returns[symbol] = df_sh[symbol]['Daily_Return']\n",
      "C:\\Users\\aviji\\AppData\\Local\\Temp\\ipykernel_8628\\317388784.py:24: PerformanceWarning: DataFrame is highly fragmented.  This is usually the result of calling `frame.insert` many times, which has poor performance.  Consider joining all columns at once using pd.concat(axis=1) instead. To get a de-fragmented frame, use `newframe = frame.copy()`\n",
      "  all_stock_returns[symbol] = df_sh[symbol]['Daily_Return']\n",
      "C:\\Users\\aviji\\AppData\\Local\\Temp\\ipykernel_8628\\317388784.py:24: PerformanceWarning: DataFrame is highly fragmented.  This is usually the result of calling `frame.insert` many times, which has poor performance.  Consider joining all columns at once using pd.concat(axis=1) instead. To get a de-fragmented frame, use `newframe = frame.copy()`\n",
      "  all_stock_returns[symbol] = df_sh[symbol]['Daily_Return']\n",
      "C:\\Users\\aviji\\AppData\\Local\\Temp\\ipykernel_8628\\317388784.py:24: PerformanceWarning: DataFrame is highly fragmented.  This is usually the result of calling `frame.insert` many times, which has poor performance.  Consider joining all columns at once using pd.concat(axis=1) instead. To get a de-fragmented frame, use `newframe = frame.copy()`\n",
      "  all_stock_returns[symbol] = df_sh[symbol]['Daily_Return']\n",
      "C:\\Users\\aviji\\AppData\\Local\\Temp\\ipykernel_8628\\317388784.py:24: PerformanceWarning: DataFrame is highly fragmented.  This is usually the result of calling `frame.insert` many times, which has poor performance.  Consider joining all columns at once using pd.concat(axis=1) instead. To get a de-fragmented frame, use `newframe = frame.copy()`\n",
      "  all_stock_returns[symbol] = df_sh[symbol]['Daily_Return']\n",
      "C:\\Users\\aviji\\AppData\\Local\\Temp\\ipykernel_8628\\317388784.py:24: PerformanceWarning: DataFrame is highly fragmented.  This is usually the result of calling `frame.insert` many times, which has poor performance.  Consider joining all columns at once using pd.concat(axis=1) instead. To get a de-fragmented frame, use `newframe = frame.copy()`\n",
      "  all_stock_returns[symbol] = df_sh[symbol]['Daily_Return']\n",
      "C:\\Users\\aviji\\AppData\\Local\\Temp\\ipykernel_8628\\317388784.py:24: PerformanceWarning: DataFrame is highly fragmented.  This is usually the result of calling `frame.insert` many times, which has poor performance.  Consider joining all columns at once using pd.concat(axis=1) instead. To get a de-fragmented frame, use `newframe = frame.copy()`\n",
      "  all_stock_returns[symbol] = df_sh[symbol]['Daily_Return']\n",
      "C:\\Users\\aviji\\AppData\\Local\\Temp\\ipykernel_8628\\317388784.py:24: PerformanceWarning: DataFrame is highly fragmented.  This is usually the result of calling `frame.insert` many times, which has poor performance.  Consider joining all columns at once using pd.concat(axis=1) instead. To get a de-fragmented frame, use `newframe = frame.copy()`\n",
      "  all_stock_returns[symbol] = df_sh[symbol]['Daily_Return']\n",
      "C:\\Users\\aviji\\AppData\\Local\\Temp\\ipykernel_8628\\317388784.py:24: PerformanceWarning: DataFrame is highly fragmented.  This is usually the result of calling `frame.insert` many times, which has poor performance.  Consider joining all columns at once using pd.concat(axis=1) instead. To get a de-fragmented frame, use `newframe = frame.copy()`\n",
      "  all_stock_returns[symbol] = df_sh[symbol]['Daily_Return']\n",
      "C:\\Users\\aviji\\AppData\\Local\\Temp\\ipykernel_8628\\317388784.py:24: PerformanceWarning: DataFrame is highly fragmented.  This is usually the result of calling `frame.insert` many times, which has poor performance.  Consider joining all columns at once using pd.concat(axis=1) instead. To get a de-fragmented frame, use `newframe = frame.copy()`\n",
      "  all_stock_returns[symbol] = df_sh[symbol]['Daily_Return']\n",
      "C:\\Users\\aviji\\AppData\\Local\\Temp\\ipykernel_8628\\317388784.py:24: PerformanceWarning: DataFrame is highly fragmented.  This is usually the result of calling `frame.insert` many times, which has poor performance.  Consider joining all columns at once using pd.concat(axis=1) instead. To get a de-fragmented frame, use `newframe = frame.copy()`\n",
      "  all_stock_returns[symbol] = df_sh[symbol]['Daily_Return']\n",
      "C:\\Users\\aviji\\AppData\\Local\\Temp\\ipykernel_8628\\317388784.py:24: PerformanceWarning: DataFrame is highly fragmented.  This is usually the result of calling `frame.insert` many times, which has poor performance.  Consider joining all columns at once using pd.concat(axis=1) instead. To get a de-fragmented frame, use `newframe = frame.copy()`\n",
      "  all_stock_returns[symbol] = df_sh[symbol]['Daily_Return']\n",
      "C:\\Users\\aviji\\AppData\\Local\\Temp\\ipykernel_8628\\317388784.py:24: PerformanceWarning: DataFrame is highly fragmented.  This is usually the result of calling `frame.insert` many times, which has poor performance.  Consider joining all columns at once using pd.concat(axis=1) instead. To get a de-fragmented frame, use `newframe = frame.copy()`\n",
      "  all_stock_returns[symbol] = df_sh[symbol]['Daily_Return']\n",
      "C:\\Users\\aviji\\AppData\\Local\\Temp\\ipykernel_8628\\317388784.py:24: PerformanceWarning: DataFrame is highly fragmented.  This is usually the result of calling `frame.insert` many times, which has poor performance.  Consider joining all columns at once using pd.concat(axis=1) instead. To get a de-fragmented frame, use `newframe = frame.copy()`\n",
      "  all_stock_returns[symbol] = df_sh[symbol]['Daily_Return']\n",
      "C:\\Users\\aviji\\AppData\\Local\\Temp\\ipykernel_8628\\317388784.py:24: PerformanceWarning: DataFrame is highly fragmented.  This is usually the result of calling `frame.insert` many times, which has poor performance.  Consider joining all columns at once using pd.concat(axis=1) instead. To get a de-fragmented frame, use `newframe = frame.copy()`\n",
      "  all_stock_returns[symbol] = df_sh[symbol]['Daily_Return']\n",
      "C:\\Users\\aviji\\AppData\\Local\\Temp\\ipykernel_8628\\317388784.py:24: PerformanceWarning: DataFrame is highly fragmented.  This is usually the result of calling `frame.insert` many times, which has poor performance.  Consider joining all columns at once using pd.concat(axis=1) instead. To get a de-fragmented frame, use `newframe = frame.copy()`\n",
      "  all_stock_returns[symbol] = df_sh[symbol]['Daily_Return']\n",
      "C:\\Users\\aviji\\AppData\\Local\\Temp\\ipykernel_8628\\317388784.py:24: PerformanceWarning: DataFrame is highly fragmented.  This is usually the result of calling `frame.insert` many times, which has poor performance.  Consider joining all columns at once using pd.concat(axis=1) instead. To get a de-fragmented frame, use `newframe = frame.copy()`\n",
      "  all_stock_returns[symbol] = df_sh[symbol]['Daily_Return']\n",
      "C:\\Users\\aviji\\AppData\\Local\\Temp\\ipykernel_8628\\317388784.py:24: PerformanceWarning: DataFrame is highly fragmented.  This is usually the result of calling `frame.insert` many times, which has poor performance.  Consider joining all columns at once using pd.concat(axis=1) instead. To get a de-fragmented frame, use `newframe = frame.copy()`\n",
      "  all_stock_returns[symbol] = df_sh[symbol]['Daily_Return']\n",
      "C:\\Users\\aviji\\AppData\\Local\\Temp\\ipykernel_8628\\317388784.py:24: PerformanceWarning: DataFrame is highly fragmented.  This is usually the result of calling `frame.insert` many times, which has poor performance.  Consider joining all columns at once using pd.concat(axis=1) instead. To get a de-fragmented frame, use `newframe = frame.copy()`\n",
      "  all_stock_returns[symbol] = df_sh[symbol]['Daily_Return']\n",
      "C:\\Users\\aviji\\AppData\\Local\\Temp\\ipykernel_8628\\317388784.py:24: PerformanceWarning: DataFrame is highly fragmented.  This is usually the result of calling `frame.insert` many times, which has poor performance.  Consider joining all columns at once using pd.concat(axis=1) instead. To get a de-fragmented frame, use `newframe = frame.copy()`\n",
      "  all_stock_returns[symbol] = df_sh[symbol]['Daily_Return']\n",
      "C:\\Users\\aviji\\AppData\\Local\\Temp\\ipykernel_8628\\317388784.py:24: PerformanceWarning: DataFrame is highly fragmented.  This is usually the result of calling `frame.insert` many times, which has poor performance.  Consider joining all columns at once using pd.concat(axis=1) instead. To get a de-fragmented frame, use `newframe = frame.copy()`\n",
      "  all_stock_returns[symbol] = df_sh[symbol]['Daily_Return']\n",
      "C:\\Users\\aviji\\AppData\\Local\\Temp\\ipykernel_8628\\317388784.py:24: PerformanceWarning: DataFrame is highly fragmented.  This is usually the result of calling `frame.insert` many times, which has poor performance.  Consider joining all columns at once using pd.concat(axis=1) instead. To get a de-fragmented frame, use `newframe = frame.copy()`\n",
      "  all_stock_returns[symbol] = df_sh[symbol]['Daily_Return']\n",
      "C:\\Users\\aviji\\AppData\\Local\\Temp\\ipykernel_8628\\317388784.py:24: PerformanceWarning: DataFrame is highly fragmented.  This is usually the result of calling `frame.insert` many times, which has poor performance.  Consider joining all columns at once using pd.concat(axis=1) instead. To get a de-fragmented frame, use `newframe = frame.copy()`\n",
      "  all_stock_returns[symbol] = df_sh[symbol]['Daily_Return']\n",
      "C:\\Users\\aviji\\AppData\\Local\\Temp\\ipykernel_8628\\317388784.py:24: PerformanceWarning: DataFrame is highly fragmented.  This is usually the result of calling `frame.insert` many times, which has poor performance.  Consider joining all columns at once using pd.concat(axis=1) instead. To get a de-fragmented frame, use `newframe = frame.copy()`\n",
      "  all_stock_returns[symbol] = df_sh[symbol]['Daily_Return']\n",
      "C:\\Users\\aviji\\AppData\\Local\\Temp\\ipykernel_8628\\317388784.py:24: PerformanceWarning: DataFrame is highly fragmented.  This is usually the result of calling `frame.insert` many times, which has poor performance.  Consider joining all columns at once using pd.concat(axis=1) instead. To get a de-fragmented frame, use `newframe = frame.copy()`\n",
      "  all_stock_returns[symbol] = df_sh[symbol]['Daily_Return']\n",
      "C:\\Users\\aviji\\AppData\\Local\\Temp\\ipykernel_8628\\317388784.py:24: PerformanceWarning: DataFrame is highly fragmented.  This is usually the result of calling `frame.insert` many times, which has poor performance.  Consider joining all columns at once using pd.concat(axis=1) instead. To get a de-fragmented frame, use `newframe = frame.copy()`\n",
      "  all_stock_returns[symbol] = df_sh[symbol]['Daily_Return']\n",
      "C:\\Users\\aviji\\AppData\\Local\\Temp\\ipykernel_8628\\317388784.py:24: PerformanceWarning: DataFrame is highly fragmented.  This is usually the result of calling `frame.insert` many times, which has poor performance.  Consider joining all columns at once using pd.concat(axis=1) instead. To get a de-fragmented frame, use `newframe = frame.copy()`\n",
      "  all_stock_returns[symbol] = df_sh[symbol]['Daily_Return']\n",
      "C:\\Users\\aviji\\AppData\\Local\\Temp\\ipykernel_8628\\317388784.py:24: PerformanceWarning: DataFrame is highly fragmented.  This is usually the result of calling `frame.insert` many times, which has poor performance.  Consider joining all columns at once using pd.concat(axis=1) instead. To get a de-fragmented frame, use `newframe = frame.copy()`\n",
      "  all_stock_returns[symbol] = df_sh[symbol]['Daily_Return']\n",
      "C:\\Users\\aviji\\AppData\\Local\\Temp\\ipykernel_8628\\317388784.py:24: PerformanceWarning: DataFrame is highly fragmented.  This is usually the result of calling `frame.insert` many times, which has poor performance.  Consider joining all columns at once using pd.concat(axis=1) instead. To get a de-fragmented frame, use `newframe = frame.copy()`\n",
      "  all_stock_returns[symbol] = df_sh[symbol]['Daily_Return']\n",
      "C:\\Users\\aviji\\AppData\\Local\\Temp\\ipykernel_8628\\317388784.py:24: PerformanceWarning: DataFrame is highly fragmented.  This is usually the result of calling `frame.insert` many times, which has poor performance.  Consider joining all columns at once using pd.concat(axis=1) instead. To get a de-fragmented frame, use `newframe = frame.copy()`\n",
      "  all_stock_returns[symbol] = df_sh[symbol]['Daily_Return']\n",
      "C:\\Users\\aviji\\AppData\\Local\\Temp\\ipykernel_8628\\317388784.py:24: PerformanceWarning: DataFrame is highly fragmented.  This is usually the result of calling `frame.insert` many times, which has poor performance.  Consider joining all columns at once using pd.concat(axis=1) instead. To get a de-fragmented frame, use `newframe = frame.copy()`\n",
      "  all_stock_returns[symbol] = df_sh[symbol]['Daily_Return']\n",
      "C:\\Users\\aviji\\AppData\\Local\\Temp\\ipykernel_8628\\317388784.py:24: PerformanceWarning: DataFrame is highly fragmented.  This is usually the result of calling `frame.insert` many times, which has poor performance.  Consider joining all columns at once using pd.concat(axis=1) instead. To get a de-fragmented frame, use `newframe = frame.copy()`\n",
      "  all_stock_returns[symbol] = df_sh[symbol]['Daily_Return']\n",
      "C:\\Users\\aviji\\AppData\\Local\\Temp\\ipykernel_8628\\317388784.py:24: PerformanceWarning: DataFrame is highly fragmented.  This is usually the result of calling `frame.insert` many times, which has poor performance.  Consider joining all columns at once using pd.concat(axis=1) instead. To get a de-fragmented frame, use `newframe = frame.copy()`\n",
      "  all_stock_returns[symbol] = df_sh[symbol]['Daily_Return']\n",
      "C:\\Users\\aviji\\AppData\\Local\\Temp\\ipykernel_8628\\317388784.py:24: PerformanceWarning: DataFrame is highly fragmented.  This is usually the result of calling `frame.insert` many times, which has poor performance.  Consider joining all columns at once using pd.concat(axis=1) instead. To get a de-fragmented frame, use `newframe = frame.copy()`\n",
      "  all_stock_returns[symbol] = df_sh[symbol]['Daily_Return']\n",
      "C:\\Users\\aviji\\AppData\\Local\\Temp\\ipykernel_8628\\317388784.py:24: PerformanceWarning: DataFrame is highly fragmented.  This is usually the result of calling `frame.insert` many times, which has poor performance.  Consider joining all columns at once using pd.concat(axis=1) instead. To get a de-fragmented frame, use `newframe = frame.copy()`\n",
      "  all_stock_returns[symbol] = df_sh[symbol]['Daily_Return']\n",
      "C:\\Users\\aviji\\AppData\\Local\\Temp\\ipykernel_8628\\317388784.py:24: PerformanceWarning: DataFrame is highly fragmented.  This is usually the result of calling `frame.insert` many times, which has poor performance.  Consider joining all columns at once using pd.concat(axis=1) instead. To get a de-fragmented frame, use `newframe = frame.copy()`\n",
      "  all_stock_returns[symbol] = df_sh[symbol]['Daily_Return']\n",
      "C:\\Users\\aviji\\AppData\\Local\\Temp\\ipykernel_8628\\317388784.py:24: PerformanceWarning: DataFrame is highly fragmented.  This is usually the result of calling `frame.insert` many times, which has poor performance.  Consider joining all columns at once using pd.concat(axis=1) instead. To get a de-fragmented frame, use `newframe = frame.copy()`\n",
      "  all_stock_returns[symbol] = df_sh[symbol]['Daily_Return']\n",
      "C:\\Users\\aviji\\AppData\\Local\\Temp\\ipykernel_8628\\317388784.py:24: PerformanceWarning: DataFrame is highly fragmented.  This is usually the result of calling `frame.insert` many times, which has poor performance.  Consider joining all columns at once using pd.concat(axis=1) instead. To get a de-fragmented frame, use `newframe = frame.copy()`\n",
      "  all_stock_returns[symbol] = df_sh[symbol]['Daily_Return']\n",
      "C:\\Users\\aviji\\AppData\\Local\\Temp\\ipykernel_8628\\317388784.py:24: PerformanceWarning: DataFrame is highly fragmented.  This is usually the result of calling `frame.insert` many times, which has poor performance.  Consider joining all columns at once using pd.concat(axis=1) instead. To get a de-fragmented frame, use `newframe = frame.copy()`\n",
      "  all_stock_returns[symbol] = df_sh[symbol]['Daily_Return']\n",
      "C:\\Users\\aviji\\AppData\\Local\\Temp\\ipykernel_8628\\317388784.py:24: PerformanceWarning: DataFrame is highly fragmented.  This is usually the result of calling `frame.insert` many times, which has poor performance.  Consider joining all columns at once using pd.concat(axis=1) instead. To get a de-fragmented frame, use `newframe = frame.copy()`\n",
      "  all_stock_returns[symbol] = df_sh[symbol]['Daily_Return']\n",
      "C:\\Users\\aviji\\AppData\\Local\\Temp\\ipykernel_8628\\317388784.py:24: PerformanceWarning: DataFrame is highly fragmented.  This is usually the result of calling `frame.insert` many times, which has poor performance.  Consider joining all columns at once using pd.concat(axis=1) instead. To get a de-fragmented frame, use `newframe = frame.copy()`\n",
      "  all_stock_returns[symbol] = df_sh[symbol]['Daily_Return']\n",
      "C:\\Users\\aviji\\AppData\\Local\\Temp\\ipykernel_8628\\317388784.py:24: PerformanceWarning: DataFrame is highly fragmented.  This is usually the result of calling `frame.insert` many times, which has poor performance.  Consider joining all columns at once using pd.concat(axis=1) instead. To get a de-fragmented frame, use `newframe = frame.copy()`\n",
      "  all_stock_returns[symbol] = df_sh[symbol]['Daily_Return']\n",
      "C:\\Users\\aviji\\AppData\\Local\\Temp\\ipykernel_8628\\317388784.py:24: PerformanceWarning: DataFrame is highly fragmented.  This is usually the result of calling `frame.insert` many times, which has poor performance.  Consider joining all columns at once using pd.concat(axis=1) instead. To get a de-fragmented frame, use `newframe = frame.copy()`\n",
      "  all_stock_returns[symbol] = df_sh[symbol]['Daily_Return']\n",
      "C:\\Users\\aviji\\AppData\\Local\\Temp\\ipykernel_8628\\317388784.py:24: PerformanceWarning: DataFrame is highly fragmented.  This is usually the result of calling `frame.insert` many times, which has poor performance.  Consider joining all columns at once using pd.concat(axis=1) instead. To get a de-fragmented frame, use `newframe = frame.copy()`\n",
      "  all_stock_returns[symbol] = df_sh[symbol]['Daily_Return']\n",
      "C:\\Users\\aviji\\AppData\\Local\\Temp\\ipykernel_8628\\317388784.py:24: PerformanceWarning: DataFrame is highly fragmented.  This is usually the result of calling `frame.insert` many times, which has poor performance.  Consider joining all columns at once using pd.concat(axis=1) instead. To get a de-fragmented frame, use `newframe = frame.copy()`\n",
      "  all_stock_returns[symbol] = df_sh[symbol]['Daily_Return']\n",
      "C:\\Users\\aviji\\AppData\\Local\\Temp\\ipykernel_8628\\317388784.py:24: PerformanceWarning: DataFrame is highly fragmented.  This is usually the result of calling `frame.insert` many times, which has poor performance.  Consider joining all columns at once using pd.concat(axis=1) instead. To get a de-fragmented frame, use `newframe = frame.copy()`\n",
      "  all_stock_returns[symbol] = df_sh[symbol]['Daily_Return']\n",
      "C:\\Users\\aviji\\AppData\\Local\\Temp\\ipykernel_8628\\317388784.py:24: PerformanceWarning: DataFrame is highly fragmented.  This is usually the result of calling `frame.insert` many times, which has poor performance.  Consider joining all columns at once using pd.concat(axis=1) instead. To get a de-fragmented frame, use `newframe = frame.copy()`\n",
      "  all_stock_returns[symbol] = df_sh[symbol]['Daily_Return']\n",
      "C:\\Users\\aviji\\AppData\\Local\\Temp\\ipykernel_8628\\317388784.py:24: PerformanceWarning: DataFrame is highly fragmented.  This is usually the result of calling `frame.insert` many times, which has poor performance.  Consider joining all columns at once using pd.concat(axis=1) instead. To get a de-fragmented frame, use `newframe = frame.copy()`\n",
      "  all_stock_returns[symbol] = df_sh[symbol]['Daily_Return']\n",
      "C:\\Users\\aviji\\AppData\\Local\\Temp\\ipykernel_8628\\317388784.py:24: PerformanceWarning: DataFrame is highly fragmented.  This is usually the result of calling `frame.insert` many times, which has poor performance.  Consider joining all columns at once using pd.concat(axis=1) instead. To get a de-fragmented frame, use `newframe = frame.copy()`\n",
      "  all_stock_returns[symbol] = df_sh[symbol]['Daily_Return']\n",
      "C:\\Users\\aviji\\AppData\\Local\\Temp\\ipykernel_8628\\317388784.py:24: PerformanceWarning: DataFrame is highly fragmented.  This is usually the result of calling `frame.insert` many times, which has poor performance.  Consider joining all columns at once using pd.concat(axis=1) instead. To get a de-fragmented frame, use `newframe = frame.copy()`\n",
      "  all_stock_returns[symbol] = df_sh[symbol]['Daily_Return']\n",
      "C:\\Users\\aviji\\AppData\\Local\\Temp\\ipykernel_8628\\317388784.py:24: PerformanceWarning: DataFrame is highly fragmented.  This is usually the result of calling `frame.insert` many times, which has poor performance.  Consider joining all columns at once using pd.concat(axis=1) instead. To get a de-fragmented frame, use `newframe = frame.copy()`\n",
      "  all_stock_returns[symbol] = df_sh[symbol]['Daily_Return']\n",
      "C:\\Users\\aviji\\AppData\\Local\\Temp\\ipykernel_8628\\317388784.py:24: PerformanceWarning: DataFrame is highly fragmented.  This is usually the result of calling `frame.insert` many times, which has poor performance.  Consider joining all columns at once using pd.concat(axis=1) instead. To get a de-fragmented frame, use `newframe = frame.copy()`\n",
      "  all_stock_returns[symbol] = df_sh[symbol]['Daily_Return']\n",
      "C:\\Users\\aviji\\AppData\\Local\\Temp\\ipykernel_8628\\317388784.py:24: PerformanceWarning: DataFrame is highly fragmented.  This is usually the result of calling `frame.insert` many times, which has poor performance.  Consider joining all columns at once using pd.concat(axis=1) instead. To get a de-fragmented frame, use `newframe = frame.copy()`\n",
      "  all_stock_returns[symbol] = df_sh[symbol]['Daily_Return']\n",
      "C:\\Users\\aviji\\AppData\\Local\\Temp\\ipykernel_8628\\317388784.py:24: PerformanceWarning: DataFrame is highly fragmented.  This is usually the result of calling `frame.insert` many times, which has poor performance.  Consider joining all columns at once using pd.concat(axis=1) instead. To get a de-fragmented frame, use `newframe = frame.copy()`\n",
      "  all_stock_returns[symbol] = df_sh[symbol]['Daily_Return']\n",
      "C:\\Users\\aviji\\AppData\\Local\\Temp\\ipykernel_8628\\317388784.py:24: PerformanceWarning: DataFrame is highly fragmented.  This is usually the result of calling `frame.insert` many times, which has poor performance.  Consider joining all columns at once using pd.concat(axis=1) instead. To get a de-fragmented frame, use `newframe = frame.copy()`\n",
      "  all_stock_returns[symbol] = df_sh[symbol]['Daily_Return']\n",
      "C:\\Users\\aviji\\AppData\\Local\\Temp\\ipykernel_8628\\317388784.py:24: PerformanceWarning: DataFrame is highly fragmented.  This is usually the result of calling `frame.insert` many times, which has poor performance.  Consider joining all columns at once using pd.concat(axis=1) instead. To get a de-fragmented frame, use `newframe = frame.copy()`\n",
      "  all_stock_returns[symbol] = df_sh[symbol]['Daily_Return']\n",
      "C:\\Users\\aviji\\AppData\\Local\\Temp\\ipykernel_8628\\317388784.py:24: PerformanceWarning: DataFrame is highly fragmented.  This is usually the result of calling `frame.insert` many times, which has poor performance.  Consider joining all columns at once using pd.concat(axis=1) instead. To get a de-fragmented frame, use `newframe = frame.copy()`\n",
      "  all_stock_returns[symbol] = df_sh[symbol]['Daily_Return']\n",
      "C:\\Users\\aviji\\AppData\\Local\\Temp\\ipykernel_8628\\317388784.py:24: PerformanceWarning: DataFrame is highly fragmented.  This is usually the result of calling `frame.insert` many times, which has poor performance.  Consider joining all columns at once using pd.concat(axis=1) instead. To get a de-fragmented frame, use `newframe = frame.copy()`\n",
      "  all_stock_returns[symbol] = df_sh[symbol]['Daily_Return']\n",
      "C:\\Users\\aviji\\AppData\\Local\\Temp\\ipykernel_8628\\317388784.py:24: PerformanceWarning: DataFrame is highly fragmented.  This is usually the result of calling `frame.insert` many times, which has poor performance.  Consider joining all columns at once using pd.concat(axis=1) instead. To get a de-fragmented frame, use `newframe = frame.copy()`\n",
      "  all_stock_returns[symbol] = df_sh[symbol]['Daily_Return']\n",
      "C:\\Users\\aviji\\AppData\\Local\\Temp\\ipykernel_8628\\317388784.py:24: PerformanceWarning: DataFrame is highly fragmented.  This is usually the result of calling `frame.insert` many times, which has poor performance.  Consider joining all columns at once using pd.concat(axis=1) instead. To get a de-fragmented frame, use `newframe = frame.copy()`\n",
      "  all_stock_returns[symbol] = df_sh[symbol]['Daily_Return']\n",
      "C:\\Users\\aviji\\AppData\\Local\\Temp\\ipykernel_8628\\317388784.py:24: PerformanceWarning: DataFrame is highly fragmented.  This is usually the result of calling `frame.insert` many times, which has poor performance.  Consider joining all columns at once using pd.concat(axis=1) instead. To get a de-fragmented frame, use `newframe = frame.copy()`\n",
      "  all_stock_returns[symbol] = df_sh[symbol]['Daily_Return']\n",
      "C:\\Users\\aviji\\AppData\\Local\\Temp\\ipykernel_8628\\317388784.py:24: PerformanceWarning: DataFrame is highly fragmented.  This is usually the result of calling `frame.insert` many times, which has poor performance.  Consider joining all columns at once using pd.concat(axis=1) instead. To get a de-fragmented frame, use `newframe = frame.copy()`\n",
      "  all_stock_returns[symbol] = df_sh[symbol]['Daily_Return']\n",
      "C:\\Users\\aviji\\AppData\\Local\\Temp\\ipykernel_8628\\317388784.py:24: PerformanceWarning: DataFrame is highly fragmented.  This is usually the result of calling `frame.insert` many times, which has poor performance.  Consider joining all columns at once using pd.concat(axis=1) instead. To get a de-fragmented frame, use `newframe = frame.copy()`\n",
      "  all_stock_returns[symbol] = df_sh[symbol]['Daily_Return']\n",
      "C:\\Users\\aviji\\AppData\\Local\\Temp\\ipykernel_8628\\317388784.py:24: PerformanceWarning: DataFrame is highly fragmented.  This is usually the result of calling `frame.insert` many times, which has poor performance.  Consider joining all columns at once using pd.concat(axis=1) instead. To get a de-fragmented frame, use `newframe = frame.copy()`\n",
      "  all_stock_returns[symbol] = df_sh[symbol]['Daily_Return']\n",
      "C:\\Users\\aviji\\AppData\\Local\\Temp\\ipykernel_8628\\317388784.py:24: PerformanceWarning: DataFrame is highly fragmented.  This is usually the result of calling `frame.insert` many times, which has poor performance.  Consider joining all columns at once using pd.concat(axis=1) instead. To get a de-fragmented frame, use `newframe = frame.copy()`\n",
      "  all_stock_returns[symbol] = df_sh[symbol]['Daily_Return']\n",
      "C:\\Users\\aviji\\AppData\\Local\\Temp\\ipykernel_8628\\317388784.py:24: PerformanceWarning: DataFrame is highly fragmented.  This is usually the result of calling `frame.insert` many times, which has poor performance.  Consider joining all columns at once using pd.concat(axis=1) instead. To get a de-fragmented frame, use `newframe = frame.copy()`\n",
      "  all_stock_returns[symbol] = df_sh[symbol]['Daily_Return']\n",
      "C:\\Users\\aviji\\AppData\\Local\\Temp\\ipykernel_8628\\317388784.py:24: PerformanceWarning: DataFrame is highly fragmented.  This is usually the result of calling `frame.insert` many times, which has poor performance.  Consider joining all columns at once using pd.concat(axis=1) instead. To get a de-fragmented frame, use `newframe = frame.copy()`\n",
      "  all_stock_returns[symbol] = df_sh[symbol]['Daily_Return']\n",
      "C:\\Users\\aviji\\AppData\\Local\\Temp\\ipykernel_8628\\317388784.py:24: PerformanceWarning: DataFrame is highly fragmented.  This is usually the result of calling `frame.insert` many times, which has poor performance.  Consider joining all columns at once using pd.concat(axis=1) instead. To get a de-fragmented frame, use `newframe = frame.copy()`\n",
      "  all_stock_returns[symbol] = df_sh[symbol]['Daily_Return']\n",
      "C:\\Users\\aviji\\AppData\\Local\\Temp\\ipykernel_8628\\317388784.py:24: PerformanceWarning: DataFrame is highly fragmented.  This is usually the result of calling `frame.insert` many times, which has poor performance.  Consider joining all columns at once using pd.concat(axis=1) instead. To get a de-fragmented frame, use `newframe = frame.copy()`\n",
      "  all_stock_returns[symbol] = df_sh[symbol]['Daily_Return']\n",
      "C:\\Users\\aviji\\AppData\\Local\\Temp\\ipykernel_8628\\317388784.py:24: PerformanceWarning: DataFrame is highly fragmented.  This is usually the result of calling `frame.insert` many times, which has poor performance.  Consider joining all columns at once using pd.concat(axis=1) instead. To get a de-fragmented frame, use `newframe = frame.copy()`\n",
      "  all_stock_returns[symbol] = df_sh[symbol]['Daily_Return']\n",
      "C:\\Users\\aviji\\AppData\\Local\\Temp\\ipykernel_8628\\317388784.py:24: PerformanceWarning: DataFrame is highly fragmented.  This is usually the result of calling `frame.insert` many times, which has poor performance.  Consider joining all columns at once using pd.concat(axis=1) instead. To get a de-fragmented frame, use `newframe = frame.copy()`\n",
      "  all_stock_returns[symbol] = df_sh[symbol]['Daily_Return']\n",
      "C:\\Users\\aviji\\AppData\\Local\\Temp\\ipykernel_8628\\317388784.py:24: PerformanceWarning: DataFrame is highly fragmented.  This is usually the result of calling `frame.insert` many times, which has poor performance.  Consider joining all columns at once using pd.concat(axis=1) instead. To get a de-fragmented frame, use `newframe = frame.copy()`\n",
      "  all_stock_returns[symbol] = df_sh[symbol]['Daily_Return']\n",
      "C:\\Users\\aviji\\AppData\\Local\\Temp\\ipykernel_8628\\317388784.py:24: PerformanceWarning: DataFrame is highly fragmented.  This is usually the result of calling `frame.insert` many times, which has poor performance.  Consider joining all columns at once using pd.concat(axis=1) instead. To get a de-fragmented frame, use `newframe = frame.copy()`\n",
      "  all_stock_returns[symbol] = df_sh[symbol]['Daily_Return']\n",
      "C:\\Users\\aviji\\AppData\\Local\\Temp\\ipykernel_8628\\317388784.py:24: PerformanceWarning: DataFrame is highly fragmented.  This is usually the result of calling `frame.insert` many times, which has poor performance.  Consider joining all columns at once using pd.concat(axis=1) instead. To get a de-fragmented frame, use `newframe = frame.copy()`\n",
      "  all_stock_returns[symbol] = df_sh[symbol]['Daily_Return']\n",
      "C:\\Users\\aviji\\AppData\\Local\\Temp\\ipykernel_8628\\317388784.py:24: PerformanceWarning: DataFrame is highly fragmented.  This is usually the result of calling `frame.insert` many times, which has poor performance.  Consider joining all columns at once using pd.concat(axis=1) instead. To get a de-fragmented frame, use `newframe = frame.copy()`\n",
      "  all_stock_returns[symbol] = df_sh[symbol]['Daily_Return']\n",
      "C:\\Users\\aviji\\AppData\\Local\\Temp\\ipykernel_8628\\317388784.py:24: PerformanceWarning: DataFrame is highly fragmented.  This is usually the result of calling `frame.insert` many times, which has poor performance.  Consider joining all columns at once using pd.concat(axis=1) instead. To get a de-fragmented frame, use `newframe = frame.copy()`\n",
      "  all_stock_returns[symbol] = df_sh[symbol]['Daily_Return']\n",
      "C:\\Users\\aviji\\AppData\\Local\\Temp\\ipykernel_8628\\317388784.py:24: PerformanceWarning: DataFrame is highly fragmented.  This is usually the result of calling `frame.insert` many times, which has poor performance.  Consider joining all columns at once using pd.concat(axis=1) instead. To get a de-fragmented frame, use `newframe = frame.copy()`\n",
      "  all_stock_returns[symbol] = df_sh[symbol]['Daily_Return']\n",
      "C:\\Users\\aviji\\AppData\\Local\\Temp\\ipykernel_8628\\317388784.py:24: PerformanceWarning: DataFrame is highly fragmented.  This is usually the result of calling `frame.insert` many times, which has poor performance.  Consider joining all columns at once using pd.concat(axis=1) instead. To get a de-fragmented frame, use `newframe = frame.copy()`\n",
      "  all_stock_returns[symbol] = df_sh[symbol]['Daily_Return']\n",
      "C:\\Users\\aviji\\AppData\\Local\\Temp\\ipykernel_8628\\317388784.py:24: PerformanceWarning: DataFrame is highly fragmented.  This is usually the result of calling `frame.insert` many times, which has poor performance.  Consider joining all columns at once using pd.concat(axis=1) instead. To get a de-fragmented frame, use `newframe = frame.copy()`\n",
      "  all_stock_returns[symbol] = df_sh[symbol]['Daily_Return']\n",
      "C:\\Users\\aviji\\AppData\\Local\\Temp\\ipykernel_8628\\317388784.py:24: PerformanceWarning: DataFrame is highly fragmented.  This is usually the result of calling `frame.insert` many times, which has poor performance.  Consider joining all columns at once using pd.concat(axis=1) instead. To get a de-fragmented frame, use `newframe = frame.copy()`\n",
      "  all_stock_returns[symbol] = df_sh[symbol]['Daily_Return']\n",
      "C:\\Users\\aviji\\AppData\\Local\\Temp\\ipykernel_8628\\317388784.py:24: PerformanceWarning: DataFrame is highly fragmented.  This is usually the result of calling `frame.insert` many times, which has poor performance.  Consider joining all columns at once using pd.concat(axis=1) instead. To get a de-fragmented frame, use `newframe = frame.copy()`\n",
      "  all_stock_returns[symbol] = df_sh[symbol]['Daily_Return']\n",
      "C:\\Users\\aviji\\AppData\\Local\\Temp\\ipykernel_8628\\317388784.py:24: PerformanceWarning: DataFrame is highly fragmented.  This is usually the result of calling `frame.insert` many times, which has poor performance.  Consider joining all columns at once using pd.concat(axis=1) instead. To get a de-fragmented frame, use `newframe = frame.copy()`\n",
      "  all_stock_returns[symbol] = df_sh[symbol]['Daily_Return']\n",
      "C:\\Users\\aviji\\AppData\\Local\\Temp\\ipykernel_8628\\317388784.py:24: PerformanceWarning: DataFrame is highly fragmented.  This is usually the result of calling `frame.insert` many times, which has poor performance.  Consider joining all columns at once using pd.concat(axis=1) instead. To get a de-fragmented frame, use `newframe = frame.copy()`\n",
      "  all_stock_returns[symbol] = df_sh[symbol]['Daily_Return']\n",
      "C:\\Users\\aviji\\AppData\\Local\\Temp\\ipykernel_8628\\317388784.py:24: PerformanceWarning: DataFrame is highly fragmented.  This is usually the result of calling `frame.insert` many times, which has poor performance.  Consider joining all columns at once using pd.concat(axis=1) instead. To get a de-fragmented frame, use `newframe = frame.copy()`\n",
      "  all_stock_returns[symbol] = df_sh[symbol]['Daily_Return']\n",
      "C:\\Users\\aviji\\AppData\\Local\\Temp\\ipykernel_8628\\317388784.py:24: PerformanceWarning: DataFrame is highly fragmented.  This is usually the result of calling `frame.insert` many times, which has poor performance.  Consider joining all columns at once using pd.concat(axis=1) instead. To get a de-fragmented frame, use `newframe = frame.copy()`\n",
      "  all_stock_returns[symbol] = df_sh[symbol]['Daily_Return']\n",
      "C:\\Users\\aviji\\AppData\\Local\\Temp\\ipykernel_8628\\317388784.py:24: PerformanceWarning: DataFrame is highly fragmented.  This is usually the result of calling `frame.insert` many times, which has poor performance.  Consider joining all columns at once using pd.concat(axis=1) instead. To get a de-fragmented frame, use `newframe = frame.copy()`\n",
      "  all_stock_returns[symbol] = df_sh[symbol]['Daily_Return']\n",
      "C:\\Users\\aviji\\AppData\\Local\\Temp\\ipykernel_8628\\317388784.py:24: PerformanceWarning: DataFrame is highly fragmented.  This is usually the result of calling `frame.insert` many times, which has poor performance.  Consider joining all columns at once using pd.concat(axis=1) instead. To get a de-fragmented frame, use `newframe = frame.copy()`\n",
      "  all_stock_returns[symbol] = df_sh[symbol]['Daily_Return']\n",
      "C:\\Users\\aviji\\AppData\\Local\\Temp\\ipykernel_8628\\317388784.py:24: PerformanceWarning: DataFrame is highly fragmented.  This is usually the result of calling `frame.insert` many times, which has poor performance.  Consider joining all columns at once using pd.concat(axis=1) instead. To get a de-fragmented frame, use `newframe = frame.copy()`\n",
      "  all_stock_returns[symbol] = df_sh[symbol]['Daily_Return']\n",
      "C:\\Users\\aviji\\AppData\\Local\\Temp\\ipykernel_8628\\317388784.py:24: PerformanceWarning: DataFrame is highly fragmented.  This is usually the result of calling `frame.insert` many times, which has poor performance.  Consider joining all columns at once using pd.concat(axis=1) instead. To get a de-fragmented frame, use `newframe = frame.copy()`\n",
      "  all_stock_returns[symbol] = df_sh[symbol]['Daily_Return']\n",
      "C:\\Users\\aviji\\AppData\\Local\\Temp\\ipykernel_8628\\317388784.py:24: PerformanceWarning: DataFrame is highly fragmented.  This is usually the result of calling `frame.insert` many times, which has poor performance.  Consider joining all columns at once using pd.concat(axis=1) instead. To get a de-fragmented frame, use `newframe = frame.copy()`\n",
      "  all_stock_returns[symbol] = df_sh[symbol]['Daily_Return']\n",
      "C:\\Users\\aviji\\AppData\\Local\\Temp\\ipykernel_8628\\317388784.py:24: PerformanceWarning: DataFrame is highly fragmented.  This is usually the result of calling `frame.insert` many times, which has poor performance.  Consider joining all columns at once using pd.concat(axis=1) instead. To get a de-fragmented frame, use `newframe = frame.copy()`\n",
      "  all_stock_returns[symbol] = df_sh[symbol]['Daily_Return']\n"
     ]
    }
   ],
   "source": [
    "df_sh = {}\n",
    "\n",
    "for symbol in tiker_name:\n",
    "    try:\n",
    "        df_sh[symbol] = yf.download(symbol,start=\"2018-01-18\",end=\"2024-01-18\",interval=\"1d\")\n",
    "\n",
    "        # Calculate daily returns\n",
    "        df_sh[symbol]['Daily_Return'] = df_sh[symbol]['Close'].pct_change()\n",
    "    except:\n",
    "        pass\n",
    "\n",
    "        # # Resample to get monthly returns\n",
    "        # df_sh[symbol] = df_sh[symbol]['Daily_Return'].resample('M').apply(lambda x: (x + 1).prod() - 1)\n",
    "    # except Exception as e:\n",
    "        # print(f\"Error fetching data for {symbol}: {e}\")\n",
    "\n",
    "# Create an empty DataFrame to store monthly returns of all stocks\n",
    "all_stock_returns = pd.DataFrame()\n",
    "\n",
    "# # Concatenate monthly returns into a single DataFrame\n",
    "# for symbol in df_sh.keys():\n",
    "#     all_stock_returns[symbol] = df_sh[symbol]\n",
    "for symbol in df_sh.keys():\n",
    "    all_stock_returns[symbol] = df_sh[symbol]['Daily_Return']\n"
   ],
   "metadata": {
    "collapsed": false,
    "pycharm": {
     "name": "#%%\n"
    }
   }
  },
  {
   "cell_type": "code",
   "execution_count": 31,
   "outputs": [
    {
     "data": {
      "text/plain": "             JBMA.NS  ALKYLAMINE.NS  CASTROLIND.NS   IDEA.NS  SPARC.NS  \\\nDate                                                                     \n2018-01-18       NaN            NaN            NaN       NaN       NaN   \n2018-01-19 -0.002445       0.011642       0.006972  0.011869  0.003940   \n2018-01-22  0.000000      -0.009206       0.000799 -0.027370  0.009762   \n2018-01-23  0.000686       0.059341       0.005056 -0.001508 -0.010664   \n2018-01-24 -0.004702       0.033623      -0.009796 -0.054857  0.007051   \n...              ...            ...            ...       ...       ...   \n2024-01-11  0.002771      -0.014637      -0.002494 -0.006192 -0.007081   \n2024-01-12 -0.029262       0.006737      -0.012500 -0.012461 -0.002982   \n2024-01-15 -0.029453      -0.016690      -0.000844  0.041009  0.026271   \n2024-01-16  0.018641      -0.007400      -0.025619 -0.045455 -0.035864   \n2024-01-17  0.031083            NaN      -0.029471 -0.041270 -0.019585   \n\n            ENGINERSIN.NS  JUBLPHARMA.NS   GNFC.NS  GUJGASLTD.NS  CIEINDIA.NS  \\\nDate                                                                            \n2018-01-18            NaN            NaN       NaN           NaN          NaN   \n2018-01-19       0.012903      -0.020754  0.005278     -0.012026     0.009219   \n2018-01-22      -0.019108       0.008523  0.033216      0.012114    -0.009965   \n2018-01-23       0.000565       0.004733  0.014266      0.009176     0.003565   \n2018-01-24      -0.016366       0.018561 -0.020809     -0.002541    -0.013790   \n...                   ...            ...       ...           ...          ...   \n2024-01-11       0.098198       0.004738  0.006345      0.050272     0.014508   \n2024-01-12      -0.011784      -0.018514 -0.017693     -0.012013     0.004903   \n2024-01-15       0.063830       0.000000 -0.009301      0.013094     0.000000   \n2024-01-16      -0.033626       0.000089 -0.007603      0.026680    -0.000813   \n2024-01-17      -0.009325       0.011922 -0.018120     -0.001618     0.001831   \n\n            ...  METROBRAND.NS  360ONE.NS  GOCOLORS.NS  CHEMPLASTS.NS  \\\nDate        ...                                                         \n2018-01-18  ...            NaN        NaN          NaN            NaN   \n2018-01-19  ...            NaN        NaN          NaN            NaN   \n2018-01-22  ...            NaN        NaN          NaN            NaN   \n2018-01-23  ...            NaN        NaN          NaN            NaN   \n2018-01-24  ...            NaN        NaN          NaN            NaN   \n...         ...            ...        ...          ...            ...   \n2024-01-11  ...      -0.003138  -0.004099    -0.012712       0.007801   \n2024-01-12  ...       0.013430  -0.015654    -0.003794       0.004926   \n2024-01-15  ...       0.000000   0.000000     0.000000       0.000000   \n2024-01-16  ...      -0.013724  -0.012095     0.010357      -0.014506   \n2024-01-17  ...      -0.021650  -0.022748    -0.014105      -0.001015   \n\n            BSOFT.NS  CHOLAFIN.NS  EICHERMOT.NS  SONATSOFTW.NS  SAFARI.NS  \\\nDate                                                                        \n2018-01-18       NaN          NaN           NaN            NaN        NaN   \n2018-01-19  0.022621     0.006162      0.001969       0.043448        NaN   \n2018-01-22  0.016781    -0.010282     -0.012840       0.024687        NaN   \n2018-01-23  0.017504     0.001375     -0.020924      -0.000161        NaN   \n2018-01-24  0.033423    -0.003776     -0.024646       0.005944        NaN   \n...              ...          ...           ...            ...        ...   \n2024-01-11  0.010074     0.012415      0.012036       0.005595   0.006259   \n2024-01-12  0.053146     0.012304     -0.004616       0.064159   0.003822   \n2024-01-15 -0.000572     0.025471     -0.010011       0.008405  -0.010503   \n2024-01-16 -0.007122     0.016585     -0.010386       0.004135  -0.011862   \n2024-01-17  0.022801    -0.008734     -0.010864      -0.006993  -0.000806   \n\n             BBTC.NS  \nDate                  \n2018-01-18       NaN  \n2018-01-19  0.013706  \n2018-01-22 -0.006589  \n2018-01-23 -0.006287  \n2018-01-24 -0.022427  \n...              ...  \n2024-01-11  0.032823  \n2024-01-12  0.016305  \n2024-01-15  0.001453  \n2024-01-16 -0.003295  \n2024-01-17 -0.038788  \n\n[1481 rows x 500 columns]",
      "text/html": "<div>\n<style scoped>\n    .dataframe tbody tr th:only-of-type {\n        vertical-align: middle;\n    }\n\n    .dataframe tbody tr th {\n        vertical-align: top;\n    }\n\n    .dataframe thead th {\n        text-align: right;\n    }\n</style>\n<table border=\"1\" class=\"dataframe\">\n  <thead>\n    <tr style=\"text-align: right;\">\n      <th></th>\n      <th>JBMA.NS</th>\n      <th>ALKYLAMINE.NS</th>\n      <th>CASTROLIND.NS</th>\n      <th>IDEA.NS</th>\n      <th>SPARC.NS</th>\n      <th>ENGINERSIN.NS</th>\n      <th>JUBLPHARMA.NS</th>\n      <th>GNFC.NS</th>\n      <th>GUJGASLTD.NS</th>\n      <th>CIEINDIA.NS</th>\n      <th>...</th>\n      <th>METROBRAND.NS</th>\n      <th>360ONE.NS</th>\n      <th>GOCOLORS.NS</th>\n      <th>CHEMPLASTS.NS</th>\n      <th>BSOFT.NS</th>\n      <th>CHOLAFIN.NS</th>\n      <th>EICHERMOT.NS</th>\n      <th>SONATSOFTW.NS</th>\n      <th>SAFARI.NS</th>\n      <th>BBTC.NS</th>\n    </tr>\n    <tr>\n      <th>Date</th>\n      <th></th>\n      <th></th>\n      <th></th>\n      <th></th>\n      <th></th>\n      <th></th>\n      <th></th>\n      <th></th>\n      <th></th>\n      <th></th>\n      <th></th>\n      <th></th>\n      <th></th>\n      <th></th>\n      <th></th>\n      <th></th>\n      <th></th>\n      <th></th>\n      <th></th>\n      <th></th>\n      <th></th>\n    </tr>\n  </thead>\n  <tbody>\n    <tr>\n      <th>2018-01-18</th>\n      <td>NaN</td>\n      <td>NaN</td>\n      <td>NaN</td>\n      <td>NaN</td>\n      <td>NaN</td>\n      <td>NaN</td>\n      <td>NaN</td>\n      <td>NaN</td>\n      <td>NaN</td>\n      <td>NaN</td>\n      <td>...</td>\n      <td>NaN</td>\n      <td>NaN</td>\n      <td>NaN</td>\n      <td>NaN</td>\n      <td>NaN</td>\n      <td>NaN</td>\n      <td>NaN</td>\n      <td>NaN</td>\n      <td>NaN</td>\n      <td>NaN</td>\n    </tr>\n    <tr>\n      <th>2018-01-19</th>\n      <td>-0.002445</td>\n      <td>0.011642</td>\n      <td>0.006972</td>\n      <td>0.011869</td>\n      <td>0.003940</td>\n      <td>0.012903</td>\n      <td>-0.020754</td>\n      <td>0.005278</td>\n      <td>-0.012026</td>\n      <td>0.009219</td>\n      <td>...</td>\n      <td>NaN</td>\n      <td>NaN</td>\n      <td>NaN</td>\n      <td>NaN</td>\n      <td>0.022621</td>\n      <td>0.006162</td>\n      <td>0.001969</td>\n      <td>0.043448</td>\n      <td>NaN</td>\n      <td>0.013706</td>\n    </tr>\n    <tr>\n      <th>2018-01-22</th>\n      <td>0.000000</td>\n      <td>-0.009206</td>\n      <td>0.000799</td>\n      <td>-0.027370</td>\n      <td>0.009762</td>\n      <td>-0.019108</td>\n      <td>0.008523</td>\n      <td>0.033216</td>\n      <td>0.012114</td>\n      <td>-0.009965</td>\n      <td>...</td>\n      <td>NaN</td>\n      <td>NaN</td>\n      <td>NaN</td>\n      <td>NaN</td>\n      <td>0.016781</td>\n      <td>-0.010282</td>\n      <td>-0.012840</td>\n      <td>0.024687</td>\n      <td>NaN</td>\n      <td>-0.006589</td>\n    </tr>\n    <tr>\n      <th>2018-01-23</th>\n      <td>0.000686</td>\n      <td>0.059341</td>\n      <td>0.005056</td>\n      <td>-0.001508</td>\n      <td>-0.010664</td>\n      <td>0.000565</td>\n      <td>0.004733</td>\n      <td>0.014266</td>\n      <td>0.009176</td>\n      <td>0.003565</td>\n      <td>...</td>\n      <td>NaN</td>\n      <td>NaN</td>\n      <td>NaN</td>\n      <td>NaN</td>\n      <td>0.017504</td>\n      <td>0.001375</td>\n      <td>-0.020924</td>\n      <td>-0.000161</td>\n      <td>NaN</td>\n      <td>-0.006287</td>\n    </tr>\n    <tr>\n      <th>2018-01-24</th>\n      <td>-0.004702</td>\n      <td>0.033623</td>\n      <td>-0.009796</td>\n      <td>-0.054857</td>\n      <td>0.007051</td>\n      <td>-0.016366</td>\n      <td>0.018561</td>\n      <td>-0.020809</td>\n      <td>-0.002541</td>\n      <td>-0.013790</td>\n      <td>...</td>\n      <td>NaN</td>\n      <td>NaN</td>\n      <td>NaN</td>\n      <td>NaN</td>\n      <td>0.033423</td>\n      <td>-0.003776</td>\n      <td>-0.024646</td>\n      <td>0.005944</td>\n      <td>NaN</td>\n      <td>-0.022427</td>\n    </tr>\n    <tr>\n      <th>...</th>\n      <td>...</td>\n      <td>...</td>\n      <td>...</td>\n      <td>...</td>\n      <td>...</td>\n      <td>...</td>\n      <td>...</td>\n      <td>...</td>\n      <td>...</td>\n      <td>...</td>\n      <td>...</td>\n      <td>...</td>\n      <td>...</td>\n      <td>...</td>\n      <td>...</td>\n      <td>...</td>\n      <td>...</td>\n      <td>...</td>\n      <td>...</td>\n      <td>...</td>\n      <td>...</td>\n    </tr>\n    <tr>\n      <th>2024-01-11</th>\n      <td>0.002771</td>\n      <td>-0.014637</td>\n      <td>-0.002494</td>\n      <td>-0.006192</td>\n      <td>-0.007081</td>\n      <td>0.098198</td>\n      <td>0.004738</td>\n      <td>0.006345</td>\n      <td>0.050272</td>\n      <td>0.014508</td>\n      <td>...</td>\n      <td>-0.003138</td>\n      <td>-0.004099</td>\n      <td>-0.012712</td>\n      <td>0.007801</td>\n      <td>0.010074</td>\n      <td>0.012415</td>\n      <td>0.012036</td>\n      <td>0.005595</td>\n      <td>0.006259</td>\n      <td>0.032823</td>\n    </tr>\n    <tr>\n      <th>2024-01-12</th>\n      <td>-0.029262</td>\n      <td>0.006737</td>\n      <td>-0.012500</td>\n      <td>-0.012461</td>\n      <td>-0.002982</td>\n      <td>-0.011784</td>\n      <td>-0.018514</td>\n      <td>-0.017693</td>\n      <td>-0.012013</td>\n      <td>0.004903</td>\n      <td>...</td>\n      <td>0.013430</td>\n      <td>-0.015654</td>\n      <td>-0.003794</td>\n      <td>0.004926</td>\n      <td>0.053146</td>\n      <td>0.012304</td>\n      <td>-0.004616</td>\n      <td>0.064159</td>\n      <td>0.003822</td>\n      <td>0.016305</td>\n    </tr>\n    <tr>\n      <th>2024-01-15</th>\n      <td>-0.029453</td>\n      <td>-0.016690</td>\n      <td>-0.000844</td>\n      <td>0.041009</td>\n      <td>0.026271</td>\n      <td>0.063830</td>\n      <td>0.000000</td>\n      <td>-0.009301</td>\n      <td>0.013094</td>\n      <td>0.000000</td>\n      <td>...</td>\n      <td>0.000000</td>\n      <td>0.000000</td>\n      <td>0.000000</td>\n      <td>0.000000</td>\n      <td>-0.000572</td>\n      <td>0.025471</td>\n      <td>-0.010011</td>\n      <td>0.008405</td>\n      <td>-0.010503</td>\n      <td>0.001453</td>\n    </tr>\n    <tr>\n      <th>2024-01-16</th>\n      <td>0.018641</td>\n      <td>-0.007400</td>\n      <td>-0.025619</td>\n      <td>-0.045455</td>\n      <td>-0.035864</td>\n      <td>-0.033626</td>\n      <td>0.000089</td>\n      <td>-0.007603</td>\n      <td>0.026680</td>\n      <td>-0.000813</td>\n      <td>...</td>\n      <td>-0.013724</td>\n      <td>-0.012095</td>\n      <td>0.010357</td>\n      <td>-0.014506</td>\n      <td>-0.007122</td>\n      <td>0.016585</td>\n      <td>-0.010386</td>\n      <td>0.004135</td>\n      <td>-0.011862</td>\n      <td>-0.003295</td>\n    </tr>\n    <tr>\n      <th>2024-01-17</th>\n      <td>0.031083</td>\n      <td>NaN</td>\n      <td>-0.029471</td>\n      <td>-0.041270</td>\n      <td>-0.019585</td>\n      <td>-0.009325</td>\n      <td>0.011922</td>\n      <td>-0.018120</td>\n      <td>-0.001618</td>\n      <td>0.001831</td>\n      <td>...</td>\n      <td>-0.021650</td>\n      <td>-0.022748</td>\n      <td>-0.014105</td>\n      <td>-0.001015</td>\n      <td>0.022801</td>\n      <td>-0.008734</td>\n      <td>-0.010864</td>\n      <td>-0.006993</td>\n      <td>-0.000806</td>\n      <td>-0.038788</td>\n    </tr>\n  </tbody>\n</table>\n<p>1481 rows × 500 columns</p>\n</div>"
     },
     "execution_count": 31,
     "metadata": {},
     "output_type": "execute_result"
    }
   ],
   "source": [
    "all_stock_returns"
   ],
   "metadata": {
    "collapsed": false,
    "pycharm": {
     "name": "#%%\n"
    }
   }
  },
  {
   "cell_type": "code",
   "execution_count": 32,
   "outputs": [
    {
     "data": {
      "text/plain": "(1481, 500)"
     },
     "execution_count": 32,
     "metadata": {},
     "output_type": "execute_result"
    }
   ],
   "source": [
    "all_stock_returns.shape"
   ],
   "metadata": {
    "collapsed": false,
    "pycharm": {
     "name": "#%%\n"
    }
   }
  },
  {
   "cell_type": "code",
   "execution_count": 33,
   "outputs": [
    {
     "data": {
      "text/plain": "     Tiker_name                                        company_url\n0          GSFC  https://www.screener.in/company/GSFC/consolida...\n1          JBMA  https://www.screener.in/company/JBMA/consolida...\n2    ALKYLAMINE  https://www.screener.in/company/ALKYLAMINE/con...\n3    CASTROLIND  https://www.screener.in/company/CASTROLIND/con...\n4          IDEA  https://www.screener.in/company/IDEA/consolida...\n..          ...                                                ...\n496    CHOLAFIN  https://www.screener.in/company/CHOLAFIN/conso...\n497   EICHERMOT  https://www.screener.in/company/EICHERMOT/cons...\n498  SONATSOFTW  https://www.screener.in/company/SONATSOFTW/con...\n499      SAFARI  https://www.screener.in/company/SAFARI/consoli...\n500        BBTC  https://www.screener.in/company/BBTC/consolida...\n\n[501 rows x 2 columns]",
      "text/html": "<div>\n<style scoped>\n    .dataframe tbody tr th:only-of-type {\n        vertical-align: middle;\n    }\n\n    .dataframe tbody tr th {\n        vertical-align: top;\n    }\n\n    .dataframe thead th {\n        text-align: right;\n    }\n</style>\n<table border=\"1\" class=\"dataframe\">\n  <thead>\n    <tr style=\"text-align: right;\">\n      <th></th>\n      <th>Tiker_name</th>\n      <th>company_url</th>\n    </tr>\n  </thead>\n  <tbody>\n    <tr>\n      <th>0</th>\n      <td>GSFC</td>\n      <td>https://www.screener.in/company/GSFC/consolida...</td>\n    </tr>\n    <tr>\n      <th>1</th>\n      <td>JBMA</td>\n      <td>https://www.screener.in/company/JBMA/consolida...</td>\n    </tr>\n    <tr>\n      <th>2</th>\n      <td>ALKYLAMINE</td>\n      <td>https://www.screener.in/company/ALKYLAMINE/con...</td>\n    </tr>\n    <tr>\n      <th>3</th>\n      <td>CASTROLIND</td>\n      <td>https://www.screener.in/company/CASTROLIND/con...</td>\n    </tr>\n    <tr>\n      <th>4</th>\n      <td>IDEA</td>\n      <td>https://www.screener.in/company/IDEA/consolida...</td>\n    </tr>\n    <tr>\n      <th>...</th>\n      <td>...</td>\n      <td>...</td>\n    </tr>\n    <tr>\n      <th>496</th>\n      <td>CHOLAFIN</td>\n      <td>https://www.screener.in/company/CHOLAFIN/conso...</td>\n    </tr>\n    <tr>\n      <th>497</th>\n      <td>EICHERMOT</td>\n      <td>https://www.screener.in/company/EICHERMOT/cons...</td>\n    </tr>\n    <tr>\n      <th>498</th>\n      <td>SONATSOFTW</td>\n      <td>https://www.screener.in/company/SONATSOFTW/con...</td>\n    </tr>\n    <tr>\n      <th>499</th>\n      <td>SAFARI</td>\n      <td>https://www.screener.in/company/SAFARI/consoli...</td>\n    </tr>\n    <tr>\n      <th>500</th>\n      <td>BBTC</td>\n      <td>https://www.screener.in/company/BBTC/consolida...</td>\n    </tr>\n  </tbody>\n</table>\n<p>501 rows × 2 columns</p>\n</div>"
     },
     "execution_count": 33,
     "metadata": {},
     "output_type": "execute_result"
    }
   ],
   "source": [
    "df"
   ],
   "metadata": {
    "collapsed": false,
    "pycharm": {
     "name": "#%%\n"
    }
   }
  },
  {
   "cell_type": "code",
   "execution_count": 34,
   "outputs": [],
   "source": [
    "all_stock_returns.to_csv(\"nifty500_stock_returns20240118.csv\")"
   ],
   "metadata": {
    "collapsed": false,
    "pycharm": {
     "name": "#%%\n"
    }
   }
  },
  {
   "cell_type": "code",
   "execution_count": 35,
   "outputs": [],
   "source": [
    "df2=all_stock_returns.copy()"
   ],
   "metadata": {
    "collapsed": false,
    "pycharm": {
     "name": "#%%\n"
    }
   }
  },
  {
   "cell_type": "code",
   "execution_count": 37,
   "outputs": [],
   "source": [
    "df2.drop(\"2018-01-18\", axis=0,inplace=True)"
   ],
   "metadata": {
    "collapsed": false,
    "pycharm": {
     "name": "#%%\n"
    }
   }
  },
  {
   "cell_type": "code",
   "execution_count": 38,
   "outputs": [
    {
     "data": {
      "text/plain": "             JBMA.NS  ALKYLAMINE.NS  CASTROLIND.NS   IDEA.NS  SPARC.NS  \\\nDate                                                                     \n2018-01-19 -0.002445       0.011642       0.006972  0.011869  0.003940   \n2018-01-22  0.000000      -0.009206       0.000799 -0.027370  0.009762   \n2018-01-23  0.000686       0.059341       0.005056 -0.001508 -0.010664   \n2018-01-24 -0.004702       0.033623      -0.009796 -0.054857  0.007051   \n2018-01-25 -0.012795      -0.013050      -0.021925  0.012780 -0.003001   \n...              ...            ...            ...       ...       ...   \n2024-01-11  0.002771      -0.014637      -0.002494 -0.006192 -0.007081   \n2024-01-12 -0.029262       0.006737      -0.012500 -0.012461 -0.002982   \n2024-01-15 -0.029453      -0.016690      -0.000844  0.041009  0.026271   \n2024-01-16  0.018641      -0.007400      -0.025619 -0.045455 -0.035864   \n2024-01-17  0.031083            NaN      -0.029471 -0.041270 -0.019585   \n\n            ENGINERSIN.NS  JUBLPHARMA.NS   GNFC.NS  GUJGASLTD.NS  CIEINDIA.NS  \\\nDate                                                                            \n2018-01-19       0.012903      -0.020754  0.005278     -0.012026     0.009219   \n2018-01-22      -0.019108       0.008523  0.033216      0.012114    -0.009965   \n2018-01-23       0.000565       0.004733  0.014266      0.009176     0.003565   \n2018-01-24      -0.016366       0.018561 -0.020809     -0.002541    -0.013790   \n2018-01-25      -0.003442      -0.006662 -0.020563     -0.017779    -0.009746   \n...                   ...            ...       ...           ...          ...   \n2024-01-11       0.098198       0.004738  0.006345      0.050272     0.014508   \n2024-01-12      -0.011784      -0.018514 -0.017693     -0.012013     0.004903   \n2024-01-15       0.063830       0.000000 -0.009301      0.013094     0.000000   \n2024-01-16      -0.033626       0.000089 -0.007603      0.026680    -0.000813   \n2024-01-17      -0.009325       0.011922 -0.018120     -0.001618     0.001831   \n\n            ...  METROBRAND.NS  360ONE.NS  GOCOLORS.NS  CHEMPLASTS.NS  \\\nDate        ...                                                         \n2018-01-19  ...            NaN        NaN          NaN            NaN   \n2018-01-22  ...            NaN        NaN          NaN            NaN   \n2018-01-23  ...            NaN        NaN          NaN            NaN   \n2018-01-24  ...            NaN        NaN          NaN            NaN   \n2018-01-25  ...            NaN        NaN          NaN            NaN   \n...         ...            ...        ...          ...            ...   \n2024-01-11  ...      -0.003138  -0.004099    -0.012712       0.007801   \n2024-01-12  ...       0.013430  -0.015654    -0.003794       0.004926   \n2024-01-15  ...       0.000000   0.000000     0.000000       0.000000   \n2024-01-16  ...      -0.013724  -0.012095     0.010357      -0.014506   \n2024-01-17  ...      -0.021650  -0.022748    -0.014105      -0.001015   \n\n            BSOFT.NS  CHOLAFIN.NS  EICHERMOT.NS  SONATSOFTW.NS  SAFARI.NS  \\\nDate                                                                        \n2018-01-19  0.022621     0.006162      0.001969       0.043448        NaN   \n2018-01-22  0.016781    -0.010282     -0.012840       0.024687        NaN   \n2018-01-23  0.017504     0.001375     -0.020924      -0.000161        NaN   \n2018-01-24  0.033423    -0.003776     -0.024646       0.005944        NaN   \n2018-01-25  0.005708     0.001187      0.004369      -0.044395        NaN   \n...              ...          ...           ...            ...        ...   \n2024-01-11  0.010074     0.012415      0.012036       0.005595   0.006259   \n2024-01-12  0.053146     0.012304     -0.004616       0.064159   0.003822   \n2024-01-15 -0.000572     0.025471     -0.010011       0.008405  -0.010503   \n2024-01-16 -0.007122     0.016585     -0.010386       0.004135  -0.011862   \n2024-01-17  0.022801    -0.008734     -0.010864      -0.006993  -0.000806   \n\n             BBTC.NS  \nDate                  \n2018-01-19  0.013706  \n2018-01-22 -0.006589  \n2018-01-23 -0.006287  \n2018-01-24 -0.022427  \n2018-01-25 -0.023394  \n...              ...  \n2024-01-11  0.032823  \n2024-01-12  0.016305  \n2024-01-15  0.001453  \n2024-01-16 -0.003295  \n2024-01-17 -0.038788  \n\n[1480 rows x 500 columns]",
      "text/html": "<div>\n<style scoped>\n    .dataframe tbody tr th:only-of-type {\n        vertical-align: middle;\n    }\n\n    .dataframe tbody tr th {\n        vertical-align: top;\n    }\n\n    .dataframe thead th {\n        text-align: right;\n    }\n</style>\n<table border=\"1\" class=\"dataframe\">\n  <thead>\n    <tr style=\"text-align: right;\">\n      <th></th>\n      <th>JBMA.NS</th>\n      <th>ALKYLAMINE.NS</th>\n      <th>CASTROLIND.NS</th>\n      <th>IDEA.NS</th>\n      <th>SPARC.NS</th>\n      <th>ENGINERSIN.NS</th>\n      <th>JUBLPHARMA.NS</th>\n      <th>GNFC.NS</th>\n      <th>GUJGASLTD.NS</th>\n      <th>CIEINDIA.NS</th>\n      <th>...</th>\n      <th>METROBRAND.NS</th>\n      <th>360ONE.NS</th>\n      <th>GOCOLORS.NS</th>\n      <th>CHEMPLASTS.NS</th>\n      <th>BSOFT.NS</th>\n      <th>CHOLAFIN.NS</th>\n      <th>EICHERMOT.NS</th>\n      <th>SONATSOFTW.NS</th>\n      <th>SAFARI.NS</th>\n      <th>BBTC.NS</th>\n    </tr>\n    <tr>\n      <th>Date</th>\n      <th></th>\n      <th></th>\n      <th></th>\n      <th></th>\n      <th></th>\n      <th></th>\n      <th></th>\n      <th></th>\n      <th></th>\n      <th></th>\n      <th></th>\n      <th></th>\n      <th></th>\n      <th></th>\n      <th></th>\n      <th></th>\n      <th></th>\n      <th></th>\n      <th></th>\n      <th></th>\n      <th></th>\n    </tr>\n  </thead>\n  <tbody>\n    <tr>\n      <th>2018-01-19</th>\n      <td>-0.002445</td>\n      <td>0.011642</td>\n      <td>0.006972</td>\n      <td>0.011869</td>\n      <td>0.003940</td>\n      <td>0.012903</td>\n      <td>-0.020754</td>\n      <td>0.005278</td>\n      <td>-0.012026</td>\n      <td>0.009219</td>\n      <td>...</td>\n      <td>NaN</td>\n      <td>NaN</td>\n      <td>NaN</td>\n      <td>NaN</td>\n      <td>0.022621</td>\n      <td>0.006162</td>\n      <td>0.001969</td>\n      <td>0.043448</td>\n      <td>NaN</td>\n      <td>0.013706</td>\n    </tr>\n    <tr>\n      <th>2018-01-22</th>\n      <td>0.000000</td>\n      <td>-0.009206</td>\n      <td>0.000799</td>\n      <td>-0.027370</td>\n      <td>0.009762</td>\n      <td>-0.019108</td>\n      <td>0.008523</td>\n      <td>0.033216</td>\n      <td>0.012114</td>\n      <td>-0.009965</td>\n      <td>...</td>\n      <td>NaN</td>\n      <td>NaN</td>\n      <td>NaN</td>\n      <td>NaN</td>\n      <td>0.016781</td>\n      <td>-0.010282</td>\n      <td>-0.012840</td>\n      <td>0.024687</td>\n      <td>NaN</td>\n      <td>-0.006589</td>\n    </tr>\n    <tr>\n      <th>2018-01-23</th>\n      <td>0.000686</td>\n      <td>0.059341</td>\n      <td>0.005056</td>\n      <td>-0.001508</td>\n      <td>-0.010664</td>\n      <td>0.000565</td>\n      <td>0.004733</td>\n      <td>0.014266</td>\n      <td>0.009176</td>\n      <td>0.003565</td>\n      <td>...</td>\n      <td>NaN</td>\n      <td>NaN</td>\n      <td>NaN</td>\n      <td>NaN</td>\n      <td>0.017504</td>\n      <td>0.001375</td>\n      <td>-0.020924</td>\n      <td>-0.000161</td>\n      <td>NaN</td>\n      <td>-0.006287</td>\n    </tr>\n    <tr>\n      <th>2018-01-24</th>\n      <td>-0.004702</td>\n      <td>0.033623</td>\n      <td>-0.009796</td>\n      <td>-0.054857</td>\n      <td>0.007051</td>\n      <td>-0.016366</td>\n      <td>0.018561</td>\n      <td>-0.020809</td>\n      <td>-0.002541</td>\n      <td>-0.013790</td>\n      <td>...</td>\n      <td>NaN</td>\n      <td>NaN</td>\n      <td>NaN</td>\n      <td>NaN</td>\n      <td>0.033423</td>\n      <td>-0.003776</td>\n      <td>-0.024646</td>\n      <td>0.005944</td>\n      <td>NaN</td>\n      <td>-0.022427</td>\n    </tr>\n    <tr>\n      <th>2018-01-25</th>\n      <td>-0.012795</td>\n      <td>-0.013050</td>\n      <td>-0.021925</td>\n      <td>0.012780</td>\n      <td>-0.003001</td>\n      <td>-0.003442</td>\n      <td>-0.006662</td>\n      <td>-0.020563</td>\n      <td>-0.017779</td>\n      <td>-0.009746</td>\n      <td>...</td>\n      <td>NaN</td>\n      <td>NaN</td>\n      <td>NaN</td>\n      <td>NaN</td>\n      <td>0.005708</td>\n      <td>0.001187</td>\n      <td>0.004369</td>\n      <td>-0.044395</td>\n      <td>NaN</td>\n      <td>-0.023394</td>\n    </tr>\n    <tr>\n      <th>...</th>\n      <td>...</td>\n      <td>...</td>\n      <td>...</td>\n      <td>...</td>\n      <td>...</td>\n      <td>...</td>\n      <td>...</td>\n      <td>...</td>\n      <td>...</td>\n      <td>...</td>\n      <td>...</td>\n      <td>...</td>\n      <td>...</td>\n      <td>...</td>\n      <td>...</td>\n      <td>...</td>\n      <td>...</td>\n      <td>...</td>\n      <td>...</td>\n      <td>...</td>\n      <td>...</td>\n    </tr>\n    <tr>\n      <th>2024-01-11</th>\n      <td>0.002771</td>\n      <td>-0.014637</td>\n      <td>-0.002494</td>\n      <td>-0.006192</td>\n      <td>-0.007081</td>\n      <td>0.098198</td>\n      <td>0.004738</td>\n      <td>0.006345</td>\n      <td>0.050272</td>\n      <td>0.014508</td>\n      <td>...</td>\n      <td>-0.003138</td>\n      <td>-0.004099</td>\n      <td>-0.012712</td>\n      <td>0.007801</td>\n      <td>0.010074</td>\n      <td>0.012415</td>\n      <td>0.012036</td>\n      <td>0.005595</td>\n      <td>0.006259</td>\n      <td>0.032823</td>\n    </tr>\n    <tr>\n      <th>2024-01-12</th>\n      <td>-0.029262</td>\n      <td>0.006737</td>\n      <td>-0.012500</td>\n      <td>-0.012461</td>\n      <td>-0.002982</td>\n      <td>-0.011784</td>\n      <td>-0.018514</td>\n      <td>-0.017693</td>\n      <td>-0.012013</td>\n      <td>0.004903</td>\n      <td>...</td>\n      <td>0.013430</td>\n      <td>-0.015654</td>\n      <td>-0.003794</td>\n      <td>0.004926</td>\n      <td>0.053146</td>\n      <td>0.012304</td>\n      <td>-0.004616</td>\n      <td>0.064159</td>\n      <td>0.003822</td>\n      <td>0.016305</td>\n    </tr>\n    <tr>\n      <th>2024-01-15</th>\n      <td>-0.029453</td>\n      <td>-0.016690</td>\n      <td>-0.000844</td>\n      <td>0.041009</td>\n      <td>0.026271</td>\n      <td>0.063830</td>\n      <td>0.000000</td>\n      <td>-0.009301</td>\n      <td>0.013094</td>\n      <td>0.000000</td>\n      <td>...</td>\n      <td>0.000000</td>\n      <td>0.000000</td>\n      <td>0.000000</td>\n      <td>0.000000</td>\n      <td>-0.000572</td>\n      <td>0.025471</td>\n      <td>-0.010011</td>\n      <td>0.008405</td>\n      <td>-0.010503</td>\n      <td>0.001453</td>\n    </tr>\n    <tr>\n      <th>2024-01-16</th>\n      <td>0.018641</td>\n      <td>-0.007400</td>\n      <td>-0.025619</td>\n      <td>-0.045455</td>\n      <td>-0.035864</td>\n      <td>-0.033626</td>\n      <td>0.000089</td>\n      <td>-0.007603</td>\n      <td>0.026680</td>\n      <td>-0.000813</td>\n      <td>...</td>\n      <td>-0.013724</td>\n      <td>-0.012095</td>\n      <td>0.010357</td>\n      <td>-0.014506</td>\n      <td>-0.007122</td>\n      <td>0.016585</td>\n      <td>-0.010386</td>\n      <td>0.004135</td>\n      <td>-0.011862</td>\n      <td>-0.003295</td>\n    </tr>\n    <tr>\n      <th>2024-01-17</th>\n      <td>0.031083</td>\n      <td>NaN</td>\n      <td>-0.029471</td>\n      <td>-0.041270</td>\n      <td>-0.019585</td>\n      <td>-0.009325</td>\n      <td>0.011922</td>\n      <td>-0.018120</td>\n      <td>-0.001618</td>\n      <td>0.001831</td>\n      <td>...</td>\n      <td>-0.021650</td>\n      <td>-0.022748</td>\n      <td>-0.014105</td>\n      <td>-0.001015</td>\n      <td>0.022801</td>\n      <td>-0.008734</td>\n      <td>-0.010864</td>\n      <td>-0.006993</td>\n      <td>-0.000806</td>\n      <td>-0.038788</td>\n    </tr>\n  </tbody>\n</table>\n<p>1480 rows × 500 columns</p>\n</div>"
     },
     "execution_count": 38,
     "metadata": {},
     "output_type": "execute_result"
    }
   ],
   "source": [
    "df2"
   ],
   "metadata": {
    "collapsed": false,
    "pycharm": {
     "name": "#%%\n"
    }
   }
  },
  {
   "cell_type": "code",
   "execution_count": 40,
   "outputs": [],
   "source": [
    "df2=df2.iloc[::-1]"
   ],
   "metadata": {
    "collapsed": false,
    "pycharm": {
     "name": "#%%\n"
    }
   }
  },
  {
   "cell_type": "code",
   "execution_count": 41,
   "outputs": [
    {
     "data": {
      "text/plain": "             JBMA.NS  ALKYLAMINE.NS  CASTROLIND.NS   IDEA.NS  SPARC.NS  \\\nDate                                                                     \n2024-01-17  0.031083            NaN      -0.029471 -0.041270 -0.019585   \n2024-01-16  0.018641      -0.007400      -0.025619 -0.045455 -0.035864   \n2024-01-15 -0.029453      -0.016690      -0.000844  0.041009  0.026271   \n2024-01-12 -0.029262       0.006737      -0.012500 -0.012461 -0.002982   \n2024-01-11  0.002771      -0.014637      -0.002494 -0.006192 -0.007081   \n...              ...            ...            ...       ...       ...   \n2018-01-25 -0.012795      -0.013050      -0.021925  0.012780 -0.003001   \n2018-01-24 -0.004702       0.033623      -0.009796 -0.054857  0.007051   \n2018-01-23  0.000686       0.059341       0.005056 -0.001508 -0.010664   \n2018-01-22  0.000000      -0.009206       0.000799 -0.027370  0.009762   \n2018-01-19 -0.002445       0.011642       0.006972  0.011869  0.003940   \n\n            ENGINERSIN.NS  JUBLPHARMA.NS   GNFC.NS  GUJGASLTD.NS  CIEINDIA.NS  \\\nDate                                                                            \n2024-01-17      -0.009325       0.011922 -0.018120     -0.001618     0.001831   \n2024-01-16      -0.033626       0.000089 -0.007603      0.026680    -0.000813   \n2024-01-15       0.063830       0.000000 -0.009301      0.013094     0.000000   \n2024-01-12      -0.011784      -0.018514 -0.017693     -0.012013     0.004903   \n2024-01-11       0.098198       0.004738  0.006345      0.050272     0.014508   \n...                   ...            ...       ...           ...          ...   \n2018-01-25      -0.003442      -0.006662 -0.020563     -0.017779    -0.009746   \n2018-01-24      -0.016366       0.018561 -0.020809     -0.002541    -0.013790   \n2018-01-23       0.000565       0.004733  0.014266      0.009176     0.003565   \n2018-01-22      -0.019108       0.008523  0.033216      0.012114    -0.009965   \n2018-01-19       0.012903      -0.020754  0.005278     -0.012026     0.009219   \n\n            ...  METROBRAND.NS  360ONE.NS  GOCOLORS.NS  CHEMPLASTS.NS  \\\nDate        ...                                                         \n2024-01-17  ...      -0.021650  -0.022748    -0.014105      -0.001015   \n2024-01-16  ...      -0.013724  -0.012095     0.010357      -0.014506   \n2024-01-15  ...       0.000000   0.000000     0.000000       0.000000   \n2024-01-12  ...       0.013430  -0.015654    -0.003794       0.004926   \n2024-01-11  ...      -0.003138  -0.004099    -0.012712       0.007801   \n...         ...            ...        ...          ...            ...   \n2018-01-25  ...            NaN        NaN          NaN            NaN   \n2018-01-24  ...            NaN        NaN          NaN            NaN   \n2018-01-23  ...            NaN        NaN          NaN            NaN   \n2018-01-22  ...            NaN        NaN          NaN            NaN   \n2018-01-19  ...            NaN        NaN          NaN            NaN   \n\n            BSOFT.NS  CHOLAFIN.NS  EICHERMOT.NS  SONATSOFTW.NS  SAFARI.NS  \\\nDate                                                                        \n2024-01-17  0.022801    -0.008734     -0.010864      -0.006993  -0.000806   \n2024-01-16 -0.007122     0.016585     -0.010386       0.004135  -0.011862   \n2024-01-15 -0.000572     0.025471     -0.010011       0.008405  -0.010503   \n2024-01-12  0.053146     0.012304     -0.004616       0.064159   0.003822   \n2024-01-11  0.010074     0.012415      0.012036       0.005595   0.006259   \n...              ...          ...           ...            ...        ...   \n2018-01-25  0.005708     0.001187      0.004369      -0.044395        NaN   \n2018-01-24  0.033423    -0.003776     -0.024646       0.005944        NaN   \n2018-01-23  0.017504     0.001375     -0.020924      -0.000161        NaN   \n2018-01-22  0.016781    -0.010282     -0.012840       0.024687        NaN   \n2018-01-19  0.022621     0.006162      0.001969       0.043448        NaN   \n\n             BBTC.NS  \nDate                  \n2024-01-17 -0.038788  \n2024-01-16 -0.003295  \n2024-01-15  0.001453  \n2024-01-12  0.016305  \n2024-01-11  0.032823  \n...              ...  \n2018-01-25 -0.023394  \n2018-01-24 -0.022427  \n2018-01-23 -0.006287  \n2018-01-22 -0.006589  \n2018-01-19  0.013706  \n\n[1480 rows x 500 columns]",
      "text/html": "<div>\n<style scoped>\n    .dataframe tbody tr th:only-of-type {\n        vertical-align: middle;\n    }\n\n    .dataframe tbody tr th {\n        vertical-align: top;\n    }\n\n    .dataframe thead th {\n        text-align: right;\n    }\n</style>\n<table border=\"1\" class=\"dataframe\">\n  <thead>\n    <tr style=\"text-align: right;\">\n      <th></th>\n      <th>JBMA.NS</th>\n      <th>ALKYLAMINE.NS</th>\n      <th>CASTROLIND.NS</th>\n      <th>IDEA.NS</th>\n      <th>SPARC.NS</th>\n      <th>ENGINERSIN.NS</th>\n      <th>JUBLPHARMA.NS</th>\n      <th>GNFC.NS</th>\n      <th>GUJGASLTD.NS</th>\n      <th>CIEINDIA.NS</th>\n      <th>...</th>\n      <th>METROBRAND.NS</th>\n      <th>360ONE.NS</th>\n      <th>GOCOLORS.NS</th>\n      <th>CHEMPLASTS.NS</th>\n      <th>BSOFT.NS</th>\n      <th>CHOLAFIN.NS</th>\n      <th>EICHERMOT.NS</th>\n      <th>SONATSOFTW.NS</th>\n      <th>SAFARI.NS</th>\n      <th>BBTC.NS</th>\n    </tr>\n    <tr>\n      <th>Date</th>\n      <th></th>\n      <th></th>\n      <th></th>\n      <th></th>\n      <th></th>\n      <th></th>\n      <th></th>\n      <th></th>\n      <th></th>\n      <th></th>\n      <th></th>\n      <th></th>\n      <th></th>\n      <th></th>\n      <th></th>\n      <th></th>\n      <th></th>\n      <th></th>\n      <th></th>\n      <th></th>\n      <th></th>\n    </tr>\n  </thead>\n  <tbody>\n    <tr>\n      <th>2024-01-17</th>\n      <td>0.031083</td>\n      <td>NaN</td>\n      <td>-0.029471</td>\n      <td>-0.041270</td>\n      <td>-0.019585</td>\n      <td>-0.009325</td>\n      <td>0.011922</td>\n      <td>-0.018120</td>\n      <td>-0.001618</td>\n      <td>0.001831</td>\n      <td>...</td>\n      <td>-0.021650</td>\n      <td>-0.022748</td>\n      <td>-0.014105</td>\n      <td>-0.001015</td>\n      <td>0.022801</td>\n      <td>-0.008734</td>\n      <td>-0.010864</td>\n      <td>-0.006993</td>\n      <td>-0.000806</td>\n      <td>-0.038788</td>\n    </tr>\n    <tr>\n      <th>2024-01-16</th>\n      <td>0.018641</td>\n      <td>-0.007400</td>\n      <td>-0.025619</td>\n      <td>-0.045455</td>\n      <td>-0.035864</td>\n      <td>-0.033626</td>\n      <td>0.000089</td>\n      <td>-0.007603</td>\n      <td>0.026680</td>\n      <td>-0.000813</td>\n      <td>...</td>\n      <td>-0.013724</td>\n      <td>-0.012095</td>\n      <td>0.010357</td>\n      <td>-0.014506</td>\n      <td>-0.007122</td>\n      <td>0.016585</td>\n      <td>-0.010386</td>\n      <td>0.004135</td>\n      <td>-0.011862</td>\n      <td>-0.003295</td>\n    </tr>\n    <tr>\n      <th>2024-01-15</th>\n      <td>-0.029453</td>\n      <td>-0.016690</td>\n      <td>-0.000844</td>\n      <td>0.041009</td>\n      <td>0.026271</td>\n      <td>0.063830</td>\n      <td>0.000000</td>\n      <td>-0.009301</td>\n      <td>0.013094</td>\n      <td>0.000000</td>\n      <td>...</td>\n      <td>0.000000</td>\n      <td>0.000000</td>\n      <td>0.000000</td>\n      <td>0.000000</td>\n      <td>-0.000572</td>\n      <td>0.025471</td>\n      <td>-0.010011</td>\n      <td>0.008405</td>\n      <td>-0.010503</td>\n      <td>0.001453</td>\n    </tr>\n    <tr>\n      <th>2024-01-12</th>\n      <td>-0.029262</td>\n      <td>0.006737</td>\n      <td>-0.012500</td>\n      <td>-0.012461</td>\n      <td>-0.002982</td>\n      <td>-0.011784</td>\n      <td>-0.018514</td>\n      <td>-0.017693</td>\n      <td>-0.012013</td>\n      <td>0.004903</td>\n      <td>...</td>\n      <td>0.013430</td>\n      <td>-0.015654</td>\n      <td>-0.003794</td>\n      <td>0.004926</td>\n      <td>0.053146</td>\n      <td>0.012304</td>\n      <td>-0.004616</td>\n      <td>0.064159</td>\n      <td>0.003822</td>\n      <td>0.016305</td>\n    </tr>\n    <tr>\n      <th>2024-01-11</th>\n      <td>0.002771</td>\n      <td>-0.014637</td>\n      <td>-0.002494</td>\n      <td>-0.006192</td>\n      <td>-0.007081</td>\n      <td>0.098198</td>\n      <td>0.004738</td>\n      <td>0.006345</td>\n      <td>0.050272</td>\n      <td>0.014508</td>\n      <td>...</td>\n      <td>-0.003138</td>\n      <td>-0.004099</td>\n      <td>-0.012712</td>\n      <td>0.007801</td>\n      <td>0.010074</td>\n      <td>0.012415</td>\n      <td>0.012036</td>\n      <td>0.005595</td>\n      <td>0.006259</td>\n      <td>0.032823</td>\n    </tr>\n    <tr>\n      <th>...</th>\n      <td>...</td>\n      <td>...</td>\n      <td>...</td>\n      <td>...</td>\n      <td>...</td>\n      <td>...</td>\n      <td>...</td>\n      <td>...</td>\n      <td>...</td>\n      <td>...</td>\n      <td>...</td>\n      <td>...</td>\n      <td>...</td>\n      <td>...</td>\n      <td>...</td>\n      <td>...</td>\n      <td>...</td>\n      <td>...</td>\n      <td>...</td>\n      <td>...</td>\n      <td>...</td>\n    </tr>\n    <tr>\n      <th>2018-01-25</th>\n      <td>-0.012795</td>\n      <td>-0.013050</td>\n      <td>-0.021925</td>\n      <td>0.012780</td>\n      <td>-0.003001</td>\n      <td>-0.003442</td>\n      <td>-0.006662</td>\n      <td>-0.020563</td>\n      <td>-0.017779</td>\n      <td>-0.009746</td>\n      <td>...</td>\n      <td>NaN</td>\n      <td>NaN</td>\n      <td>NaN</td>\n      <td>NaN</td>\n      <td>0.005708</td>\n      <td>0.001187</td>\n      <td>0.004369</td>\n      <td>-0.044395</td>\n      <td>NaN</td>\n      <td>-0.023394</td>\n    </tr>\n    <tr>\n      <th>2018-01-24</th>\n      <td>-0.004702</td>\n      <td>0.033623</td>\n      <td>-0.009796</td>\n      <td>-0.054857</td>\n      <td>0.007051</td>\n      <td>-0.016366</td>\n      <td>0.018561</td>\n      <td>-0.020809</td>\n      <td>-0.002541</td>\n      <td>-0.013790</td>\n      <td>...</td>\n      <td>NaN</td>\n      <td>NaN</td>\n      <td>NaN</td>\n      <td>NaN</td>\n      <td>0.033423</td>\n      <td>-0.003776</td>\n      <td>-0.024646</td>\n      <td>0.005944</td>\n      <td>NaN</td>\n      <td>-0.022427</td>\n    </tr>\n    <tr>\n      <th>2018-01-23</th>\n      <td>0.000686</td>\n      <td>0.059341</td>\n      <td>0.005056</td>\n      <td>-0.001508</td>\n      <td>-0.010664</td>\n      <td>0.000565</td>\n      <td>0.004733</td>\n      <td>0.014266</td>\n      <td>0.009176</td>\n      <td>0.003565</td>\n      <td>...</td>\n      <td>NaN</td>\n      <td>NaN</td>\n      <td>NaN</td>\n      <td>NaN</td>\n      <td>0.017504</td>\n      <td>0.001375</td>\n      <td>-0.020924</td>\n      <td>-0.000161</td>\n      <td>NaN</td>\n      <td>-0.006287</td>\n    </tr>\n    <tr>\n      <th>2018-01-22</th>\n      <td>0.000000</td>\n      <td>-0.009206</td>\n      <td>0.000799</td>\n      <td>-0.027370</td>\n      <td>0.009762</td>\n      <td>-0.019108</td>\n      <td>0.008523</td>\n      <td>0.033216</td>\n      <td>0.012114</td>\n      <td>-0.009965</td>\n      <td>...</td>\n      <td>NaN</td>\n      <td>NaN</td>\n      <td>NaN</td>\n      <td>NaN</td>\n      <td>0.016781</td>\n      <td>-0.010282</td>\n      <td>-0.012840</td>\n      <td>0.024687</td>\n      <td>NaN</td>\n      <td>-0.006589</td>\n    </tr>\n    <tr>\n      <th>2018-01-19</th>\n      <td>-0.002445</td>\n      <td>0.011642</td>\n      <td>0.006972</td>\n      <td>0.011869</td>\n      <td>0.003940</td>\n      <td>0.012903</td>\n      <td>-0.020754</td>\n      <td>0.005278</td>\n      <td>-0.012026</td>\n      <td>0.009219</td>\n      <td>...</td>\n      <td>NaN</td>\n      <td>NaN</td>\n      <td>NaN</td>\n      <td>NaN</td>\n      <td>0.022621</td>\n      <td>0.006162</td>\n      <td>0.001969</td>\n      <td>0.043448</td>\n      <td>NaN</td>\n      <td>0.013706</td>\n    </tr>\n  </tbody>\n</table>\n<p>1480 rows × 500 columns</p>\n</div>"
     },
     "execution_count": 41,
     "metadata": {},
     "output_type": "execute_result"
    }
   ],
   "source": [
    "df2"
   ],
   "metadata": {
    "collapsed": false,
    "pycharm": {
     "name": "#%%\n"
    }
   }
  },
  {
   "cell_type": "code",
   "execution_count": 57,
   "outputs": [
    {
     "name": "stdout",
     "output_type": "stream",
     "text": [
      "ROUTE.NS 656\n",
      "DALBHARAT.NS 227\n",
      "AWL.NS 1000\n",
      "POWERINDIA.NS 537\n",
      "FLUOROCHEM.NS 424\n",
      "APTUS.NS 885\n",
      "SWSOLAR.NS 387\n",
      "LICI.NS 1065\n",
      "ANGELONE.NS 665\n",
      "CLEAN.NS 861\n",
      "RBA.NS 715\n",
      "KAYNES.NS 1194\n",
      "IRCON.NS 171\n",
      "SHYAMMETL.NS 844\n",
      "STARHEALTH.NS 959\n",
      "LODHA.NS 798\n",
      "KALYANKJIL.NS 785\n",
      "AAVAS.NS 177\n",
      "RAINBOW.NS 1060\n",
      "CAMPUS.NS 1059\n",
      "PAYTM.NS 944\n",
      "ANURAS.NS 783\n",
      "ORIENTELEC.NS 76\n",
      "SUMICHEM.NS 494\n",
      "CONCORDBIO.NS 1378\n",
      "ATGL.NS 195\n",
      "ARE&M.NS 1419\n",
      "KPIL.NS 1335\n",
      "BDL.NS 43\n",
      "AFFLE.NS 381\n",
      "IRFC.NS 746\n",
      "EQUITASBNK.NS 685\n",
      "BANDHANBNK.NS 45\n",
      "HAPPSTMNDS.NS 654\n",
      "HAL.NS 47\n",
      "SBICARD.NS 527\n",
      "POLICYBZR.NS 941\n",
      "EASEMYTRIP.NS 780\n",
      "ADANIENSOL.NS 1376\n",
      "PRINCEPIPE.NS 474\n",
      "HDFCAMC.NS 136\n",
      "MANYAVAR.NS 1006\n",
      "MSUMI.NS 1032\n",
      "VARROC.NS 117\n",
      "UTIAMC.NS 672\n",
      "LXCHEM.NS 784\n",
      "ZOMATO.NS 864\n",
      "WESTLIFE.NS 386\n",
      "FIVESTAR.NS 1193\n",
      "IRCTC.NS 422\n",
      "MAZDOCK.NS 670\n",
      "ROSSARI.NS 614\n",
      "KFINTECH.NS 1221\n",
      "BIKAJI.NS 1190\n",
      "HOMEFIRST.NS 749\n",
      "RVNL.NS 301\n",
      "MAXHEALTH.NS 635\n",
      "GALAXYSURF.NS 14\n",
      "INDIGOPNTS.NS 748\n",
      "SONACOMS.NS 844\n",
      "NAZARA.NS 786\n",
      "UJJIVANSFB.NS 463\n",
      "PVRINOX.NS 1201\n",
      "MANKIND.NS 1307\n",
      "ADANIGREEN.NS 101\n",
      "PPLPHARMA.NS 1172\n",
      "EPIGRAL.NS 1387\n",
      "LATENTVIEW.NS 946\n",
      "CSBBANK.NS 457\n",
      "CAMS.NS 665\n",
      "GLS.NS 875\n",
      "MTARTECH.NS 776\n",
      "ACI.NS 1193\n",
      "JUBLINGREA.NS 780\n",
      "INDIAMART.NS 356\n",
      "FINEORG.NS 111\n",
      "NSLNISP.NS 1257\n",
      "HLEGLAS.NS 762\n",
      "POLYCAB.NS 304\n",
      "GRINFRA.NS 861\n",
      "AETHER.NS 1078\n",
      "METROPOLIS.NS 304\n",
      "CREDITACC.NS 147\n",
      "RITES.NS 112\n",
      "BORORENEW.NS 85\n",
      "LEMONTREE.NS 52\n",
      "MAPMYINDIA.NS 966\n",
      "GMMPFAUDLR.NS 30\n",
      "DEVYANI.NS 880\n",
      "DATAPATTNS.NS 969\n",
      "VIJAYA.NS 900\n",
      "MEDANTA.NS 1192\n",
      "ISEC.NS 49\n",
      "GLAND.NS 699\n",
      "ASTERDM.NS 25\n",
      "DELHIVERY.NS 1070\n",
      "KIMS.NS 846\n",
      "SYRMA.NS 1136\n",
      "SAPPHIRE.NS 944\n",
      "CHALET.NS 260\n",
      "SUVENPHAR.NS 524\n",
      "MEDPLUS.NS 968\n",
      "NUVOCO.NS 884\n",
      "CRAFTSMAN.NS 784\n",
      "KPITTECH.NS 306\n",
      "NYKAA.NS 938\n",
      "METROBRAND.NS 967\n",
      "360ONE.NS 407\n",
      "GOCOLORS.NS 951\n",
      "CHEMPLASTS.NS 885\n",
      "SAFARI.NS 402\n"
     ]
    }
   ],
   "source": [
    "for i in df2.columns[df2.isna().sum()>10]:\n",
    "    print(i, df2[i].isna().sum())"
   ],
   "metadata": {
    "collapsed": false,
    "pycharm": {
     "name": "#%%\n"
    }
   }
  },
  {
   "cell_type": "code",
   "execution_count": 45,
   "outputs": [
    {
     "data": {
      "text/plain": "(1480, 500)"
     },
     "execution_count": 45,
     "metadata": {},
     "output_type": "execute_result"
    }
   ],
   "source": [
    "df2.shape"
   ],
   "metadata": {
    "collapsed": false,
    "pycharm": {
     "name": "#%%\n"
    }
   }
  },
  {
   "cell_type": "code",
   "execution_count": 60,
   "outputs": [],
   "source": [
    "df3=df2.T"
   ],
   "metadata": {
    "collapsed": false,
    "pycharm": {
     "name": "#%%\n"
    }
   }
  },
  {
   "cell_type": "code",
   "execution_count": 66,
   "outputs": [],
   "source": [
    "df3=df3*100"
   ],
   "metadata": {
    "collapsed": false,
    "pycharm": {
     "name": "#%%\n"
    }
   }
  },
  {
   "cell_type": "code",
   "execution_count": 67,
   "outputs": [],
   "source": [
    "df3=df3.round(2)"
   ],
   "metadata": {
    "collapsed": false,
    "pycharm": {
     "name": "#%%\n"
    }
   }
  },
  {
   "cell_type": "code",
   "execution_count": 68,
   "outputs": [
    {
     "data": {
      "text/plain": "Date           2024-01-17  2024-01-16  2024-01-15  2024-01-12  2024-01-11  \\\nJBMA.NS              3.11        1.86       -2.95       -2.93        0.28   \nALKYLAMINE.NS         NaN       -0.74       -1.67        0.67       -1.46   \nCASTROLIND.NS       -2.95       -2.56       -0.08       -1.25       -0.25   \nIDEA.NS             -4.13       -4.55        4.10       -1.25       -0.62   \nSPARC.NS            -1.96       -3.59        2.63       -0.30       -0.71   \n...                   ...         ...         ...         ...         ...   \nCHOLAFIN.NS         -0.87        1.66        2.55        1.23        1.24   \nEICHERMOT.NS        -1.09       -1.04       -1.00       -0.46        1.20   \nSONATSOFTW.NS       -0.70        0.41        0.84        6.42        0.56   \nSAFARI.NS           -0.08       -1.19       -1.05        0.38        0.63   \nBBTC.NS             -3.88       -0.33        0.15        1.63        3.28   \n\nDate           2024-01-10  2024-01-09  2024-01-08  2024-01-05  2024-01-04  \\\nJBMA.NS              1.57        0.86       10.93        1.04        0.52   \nALKYLAMINE.NS       -1.93        0.17       -3.62       -0.78        0.52   \nCASTROLIND.NS        0.17       -0.30       -4.01       -2.59        2.09   \nIDEA.NS             -0.31       -5.54        0.29        1.79        5.99   \nSPARC.NS            -2.83        0.38       -5.33        9.26       -0.61   \n...                   ...         ...         ...         ...         ...   \nCHOLAFIN.NS         -1.23        0.02       -2.12       -3.04        4.57   \nEICHERMOT.NS        -0.72       -0.36        0.19        0.42       -0.68   \nSONATSOFTW.NS        0.21        0.55       -2.05        1.45       -0.10   \nSAFARI.NS           -1.53       -0.32       -1.24        0.63        2.73   \nBBTC.NS             -0.75        0.60       -1.12        0.06        6.81   \n\nDate           ...  2018-02-02  2018-02-01  2018-01-31  2018-01-30  \\\nJBMA.NS        ...       -4.72        0.05        0.20       -2.12   \nALKYLAMINE.NS  ...       -3.05       -1.91       -4.49       -2.11   \nCASTROLIND.NS  ...       -2.20       -0.89        0.68       -0.67   \nIDEA.NS        ...       -3.29       -1.93       -0.96        0.43   \nSPARC.NS       ...       -7.35        0.23       -2.81       -2.16   \n...            ...         ...         ...         ...         ...   \nCHOLAFIN.NS    ...       -4.51        3.79       -0.13       -1.68   \nEICHERMOT.NS   ...       -0.84        4.17        0.88       -2.78   \nSONATSOFTW.NS  ...       -7.15       -1.48       -1.13        0.58   \nSAFARI.NS      ...         NaN         NaN         NaN         NaN   \nBBTC.NS        ...       -9.45        1.41       -1.62       -4.05   \n\nDate           2018-01-29  2018-01-25  2018-01-24  2018-01-23  2018-01-22  \\\nJBMA.NS              0.17       -1.28       -0.47        0.07        0.00   \nALKYLAMINE.NS       -1.82       -1.31        3.36        5.93       -0.92   \nCASTROLIND.NS        1.37       -2.19       -0.98        0.51        0.08   \nIDEA.NS             -1.58        1.28       -5.49       -0.15       -2.74   \nSPARC.NS            -4.34       -0.30        0.71       -1.07        0.98   \n...                   ...         ...         ...         ...         ...   \nCHOLAFIN.NS          0.17        0.12       -0.38        0.14       -1.03   \nEICHERMOT.NS         3.52        0.44       -2.46       -2.09       -1.28   \nSONATSOFTW.NS        1.32       -4.44        0.59       -0.02        2.47   \nSAFARI.NS             NaN         NaN         NaN         NaN         NaN   \nBBTC.NS             -1.72       -2.34       -2.24       -0.63       -0.66   \n\nDate           2018-01-19  \nJBMA.NS             -0.24  \nALKYLAMINE.NS        1.16  \nCASTROLIND.NS        0.70  \nIDEA.NS              1.19  \nSPARC.NS             0.39  \n...                   ...  \nCHOLAFIN.NS          0.62  \nEICHERMOT.NS         0.20  \nSONATSOFTW.NS        4.34  \nSAFARI.NS             NaN  \nBBTC.NS              1.37  \n\n[500 rows x 1480 columns]",
      "text/html": "<div>\n<style scoped>\n    .dataframe tbody tr th:only-of-type {\n        vertical-align: middle;\n    }\n\n    .dataframe tbody tr th {\n        vertical-align: top;\n    }\n\n    .dataframe thead th {\n        text-align: right;\n    }\n</style>\n<table border=\"1\" class=\"dataframe\">\n  <thead>\n    <tr style=\"text-align: right;\">\n      <th>Date</th>\n      <th>2024-01-17</th>\n      <th>2024-01-16</th>\n      <th>2024-01-15</th>\n      <th>2024-01-12</th>\n      <th>2024-01-11</th>\n      <th>2024-01-10</th>\n      <th>2024-01-09</th>\n      <th>2024-01-08</th>\n      <th>2024-01-05</th>\n      <th>2024-01-04</th>\n      <th>...</th>\n      <th>2018-02-02</th>\n      <th>2018-02-01</th>\n      <th>2018-01-31</th>\n      <th>2018-01-30</th>\n      <th>2018-01-29</th>\n      <th>2018-01-25</th>\n      <th>2018-01-24</th>\n      <th>2018-01-23</th>\n      <th>2018-01-22</th>\n      <th>2018-01-19</th>\n    </tr>\n  </thead>\n  <tbody>\n    <tr>\n      <th>JBMA.NS</th>\n      <td>3.11</td>\n      <td>1.86</td>\n      <td>-2.95</td>\n      <td>-2.93</td>\n      <td>0.28</td>\n      <td>1.57</td>\n      <td>0.86</td>\n      <td>10.93</td>\n      <td>1.04</td>\n      <td>0.52</td>\n      <td>...</td>\n      <td>-4.72</td>\n      <td>0.05</td>\n      <td>0.20</td>\n      <td>-2.12</td>\n      <td>0.17</td>\n      <td>-1.28</td>\n      <td>-0.47</td>\n      <td>0.07</td>\n      <td>0.00</td>\n      <td>-0.24</td>\n    </tr>\n    <tr>\n      <th>ALKYLAMINE.NS</th>\n      <td>NaN</td>\n      <td>-0.74</td>\n      <td>-1.67</td>\n      <td>0.67</td>\n      <td>-1.46</td>\n      <td>-1.93</td>\n      <td>0.17</td>\n      <td>-3.62</td>\n      <td>-0.78</td>\n      <td>0.52</td>\n      <td>...</td>\n      <td>-3.05</td>\n      <td>-1.91</td>\n      <td>-4.49</td>\n      <td>-2.11</td>\n      <td>-1.82</td>\n      <td>-1.31</td>\n      <td>3.36</td>\n      <td>5.93</td>\n      <td>-0.92</td>\n      <td>1.16</td>\n    </tr>\n    <tr>\n      <th>CASTROLIND.NS</th>\n      <td>-2.95</td>\n      <td>-2.56</td>\n      <td>-0.08</td>\n      <td>-1.25</td>\n      <td>-0.25</td>\n      <td>0.17</td>\n      <td>-0.30</td>\n      <td>-4.01</td>\n      <td>-2.59</td>\n      <td>2.09</td>\n      <td>...</td>\n      <td>-2.20</td>\n      <td>-0.89</td>\n      <td>0.68</td>\n      <td>-0.67</td>\n      <td>1.37</td>\n      <td>-2.19</td>\n      <td>-0.98</td>\n      <td>0.51</td>\n      <td>0.08</td>\n      <td>0.70</td>\n    </tr>\n    <tr>\n      <th>IDEA.NS</th>\n      <td>-4.13</td>\n      <td>-4.55</td>\n      <td>4.10</td>\n      <td>-1.25</td>\n      <td>-0.62</td>\n      <td>-0.31</td>\n      <td>-5.54</td>\n      <td>0.29</td>\n      <td>1.79</td>\n      <td>5.99</td>\n      <td>...</td>\n      <td>-3.29</td>\n      <td>-1.93</td>\n      <td>-0.96</td>\n      <td>0.43</td>\n      <td>-1.58</td>\n      <td>1.28</td>\n      <td>-5.49</td>\n      <td>-0.15</td>\n      <td>-2.74</td>\n      <td>1.19</td>\n    </tr>\n    <tr>\n      <th>SPARC.NS</th>\n      <td>-1.96</td>\n      <td>-3.59</td>\n      <td>2.63</td>\n      <td>-0.30</td>\n      <td>-0.71</td>\n      <td>-2.83</td>\n      <td>0.38</td>\n      <td>-5.33</td>\n      <td>9.26</td>\n      <td>-0.61</td>\n      <td>...</td>\n      <td>-7.35</td>\n      <td>0.23</td>\n      <td>-2.81</td>\n      <td>-2.16</td>\n      <td>-4.34</td>\n      <td>-0.30</td>\n      <td>0.71</td>\n      <td>-1.07</td>\n      <td>0.98</td>\n      <td>0.39</td>\n    </tr>\n    <tr>\n      <th>...</th>\n      <td>...</td>\n      <td>...</td>\n      <td>...</td>\n      <td>...</td>\n      <td>...</td>\n      <td>...</td>\n      <td>...</td>\n      <td>...</td>\n      <td>...</td>\n      <td>...</td>\n      <td>...</td>\n      <td>...</td>\n      <td>...</td>\n      <td>...</td>\n      <td>...</td>\n      <td>...</td>\n      <td>...</td>\n      <td>...</td>\n      <td>...</td>\n      <td>...</td>\n      <td>...</td>\n    </tr>\n    <tr>\n      <th>CHOLAFIN.NS</th>\n      <td>-0.87</td>\n      <td>1.66</td>\n      <td>2.55</td>\n      <td>1.23</td>\n      <td>1.24</td>\n      <td>-1.23</td>\n      <td>0.02</td>\n      <td>-2.12</td>\n      <td>-3.04</td>\n      <td>4.57</td>\n      <td>...</td>\n      <td>-4.51</td>\n      <td>3.79</td>\n      <td>-0.13</td>\n      <td>-1.68</td>\n      <td>0.17</td>\n      <td>0.12</td>\n      <td>-0.38</td>\n      <td>0.14</td>\n      <td>-1.03</td>\n      <td>0.62</td>\n    </tr>\n    <tr>\n      <th>EICHERMOT.NS</th>\n      <td>-1.09</td>\n      <td>-1.04</td>\n      <td>-1.00</td>\n      <td>-0.46</td>\n      <td>1.20</td>\n      <td>-0.72</td>\n      <td>-0.36</td>\n      <td>0.19</td>\n      <td>0.42</td>\n      <td>-0.68</td>\n      <td>...</td>\n      <td>-0.84</td>\n      <td>4.17</td>\n      <td>0.88</td>\n      <td>-2.78</td>\n      <td>3.52</td>\n      <td>0.44</td>\n      <td>-2.46</td>\n      <td>-2.09</td>\n      <td>-1.28</td>\n      <td>0.20</td>\n    </tr>\n    <tr>\n      <th>SONATSOFTW.NS</th>\n      <td>-0.70</td>\n      <td>0.41</td>\n      <td>0.84</td>\n      <td>6.42</td>\n      <td>0.56</td>\n      <td>0.21</td>\n      <td>0.55</td>\n      <td>-2.05</td>\n      <td>1.45</td>\n      <td>-0.10</td>\n      <td>...</td>\n      <td>-7.15</td>\n      <td>-1.48</td>\n      <td>-1.13</td>\n      <td>0.58</td>\n      <td>1.32</td>\n      <td>-4.44</td>\n      <td>0.59</td>\n      <td>-0.02</td>\n      <td>2.47</td>\n      <td>4.34</td>\n    </tr>\n    <tr>\n      <th>SAFARI.NS</th>\n      <td>-0.08</td>\n      <td>-1.19</td>\n      <td>-1.05</td>\n      <td>0.38</td>\n      <td>0.63</td>\n      <td>-1.53</td>\n      <td>-0.32</td>\n      <td>-1.24</td>\n      <td>0.63</td>\n      <td>2.73</td>\n      <td>...</td>\n      <td>NaN</td>\n      <td>NaN</td>\n      <td>NaN</td>\n      <td>NaN</td>\n      <td>NaN</td>\n      <td>NaN</td>\n      <td>NaN</td>\n      <td>NaN</td>\n      <td>NaN</td>\n      <td>NaN</td>\n    </tr>\n    <tr>\n      <th>BBTC.NS</th>\n      <td>-3.88</td>\n      <td>-0.33</td>\n      <td>0.15</td>\n      <td>1.63</td>\n      <td>3.28</td>\n      <td>-0.75</td>\n      <td>0.60</td>\n      <td>-1.12</td>\n      <td>0.06</td>\n      <td>6.81</td>\n      <td>...</td>\n      <td>-9.45</td>\n      <td>1.41</td>\n      <td>-1.62</td>\n      <td>-4.05</td>\n      <td>-1.72</td>\n      <td>-2.34</td>\n      <td>-2.24</td>\n      <td>-0.63</td>\n      <td>-0.66</td>\n      <td>1.37</td>\n    </tr>\n  </tbody>\n</table>\n<p>500 rows × 1480 columns</p>\n</div>"
     },
     "execution_count": 68,
     "metadata": {},
     "output_type": "execute_result"
    }
   ],
   "source": [
    "df3"
   ],
   "metadata": {
    "collapsed": false,
    "pycharm": {
     "name": "#%%\n"
    }
   }
  },
  {
   "cell_type": "code",
   "execution_count": 69,
   "outputs": [
    {
     "data": {
      "text/plain": "             JBMA.NS  ALKYLAMINE.NS  CASTROLIND.NS   IDEA.NS  SPARC.NS  \\\nDate                                                                     \n2024-01-17  0.031083            NaN      -0.029471 -0.041270 -0.019585   \n2024-01-16  0.018641      -0.007400      -0.025619 -0.045455 -0.035864   \n2024-01-15 -0.029453      -0.016690      -0.000844  0.041009  0.026271   \n2024-01-12 -0.029262       0.006737      -0.012500 -0.012461 -0.002982   \n2024-01-11  0.002771      -0.014637      -0.002494 -0.006192 -0.007081   \n...              ...            ...            ...       ...       ...   \n2018-01-25 -0.012795      -0.013050      -0.021925  0.012780 -0.003001   \n2018-01-24 -0.004702       0.033623      -0.009796 -0.054857  0.007051   \n2018-01-23  0.000686       0.059341       0.005056 -0.001508 -0.010664   \n2018-01-22  0.000000      -0.009206       0.000799 -0.027370  0.009762   \n2018-01-19 -0.002445       0.011642       0.006972  0.011869  0.003940   \n\n            ENGINERSIN.NS  JUBLPHARMA.NS   GNFC.NS  GUJGASLTD.NS  CIEINDIA.NS  \\\nDate                                                                            \n2024-01-17      -0.009325       0.011922 -0.018120     -0.001618     0.001831   \n2024-01-16      -0.033626       0.000089 -0.007603      0.026680    -0.000813   \n2024-01-15       0.063830       0.000000 -0.009301      0.013094     0.000000   \n2024-01-12      -0.011784      -0.018514 -0.017693     -0.012013     0.004903   \n2024-01-11       0.098198       0.004738  0.006345      0.050272     0.014508   \n...                   ...            ...       ...           ...          ...   \n2018-01-25      -0.003442      -0.006662 -0.020563     -0.017779    -0.009746   \n2018-01-24      -0.016366       0.018561 -0.020809     -0.002541    -0.013790   \n2018-01-23       0.000565       0.004733  0.014266      0.009176     0.003565   \n2018-01-22      -0.019108       0.008523  0.033216      0.012114    -0.009965   \n2018-01-19       0.012903      -0.020754  0.005278     -0.012026     0.009219   \n\n            ...  METROBRAND.NS  360ONE.NS  GOCOLORS.NS  CHEMPLASTS.NS  \\\nDate        ...                                                         \n2024-01-17  ...      -0.021650  -0.022748    -0.014105      -0.001015   \n2024-01-16  ...      -0.013724  -0.012095     0.010357      -0.014506   \n2024-01-15  ...       0.000000   0.000000     0.000000       0.000000   \n2024-01-12  ...       0.013430  -0.015654    -0.003794       0.004926   \n2024-01-11  ...      -0.003138  -0.004099    -0.012712       0.007801   \n...         ...            ...        ...          ...            ...   \n2018-01-25  ...            NaN        NaN          NaN            NaN   \n2018-01-24  ...            NaN        NaN          NaN            NaN   \n2018-01-23  ...            NaN        NaN          NaN            NaN   \n2018-01-22  ...            NaN        NaN          NaN            NaN   \n2018-01-19  ...            NaN        NaN          NaN            NaN   \n\n            BSOFT.NS  CHOLAFIN.NS  EICHERMOT.NS  SONATSOFTW.NS  SAFARI.NS  \\\nDate                                                                        \n2024-01-17  0.022801    -0.008734     -0.010864      -0.006993  -0.000806   \n2024-01-16 -0.007122     0.016585     -0.010386       0.004135  -0.011862   \n2024-01-15 -0.000572     0.025471     -0.010011       0.008405  -0.010503   \n2024-01-12  0.053146     0.012304     -0.004616       0.064159   0.003822   \n2024-01-11  0.010074     0.012415      0.012036       0.005595   0.006259   \n...              ...          ...           ...            ...        ...   \n2018-01-25  0.005708     0.001187      0.004369      -0.044395        NaN   \n2018-01-24  0.033423    -0.003776     -0.024646       0.005944        NaN   \n2018-01-23  0.017504     0.001375     -0.020924      -0.000161        NaN   \n2018-01-22  0.016781    -0.010282     -0.012840       0.024687        NaN   \n2018-01-19  0.022621     0.006162      0.001969       0.043448        NaN   \n\n             BBTC.NS  \nDate                  \n2024-01-17 -0.038788  \n2024-01-16 -0.003295  \n2024-01-15  0.001453  \n2024-01-12  0.016305  \n2024-01-11  0.032823  \n...              ...  \n2018-01-25 -0.023394  \n2018-01-24 -0.022427  \n2018-01-23 -0.006287  \n2018-01-22 -0.006589  \n2018-01-19  0.013706  \n\n[1480 rows x 500 columns]",
      "text/html": "<div>\n<style scoped>\n    .dataframe tbody tr th:only-of-type {\n        vertical-align: middle;\n    }\n\n    .dataframe tbody tr th {\n        vertical-align: top;\n    }\n\n    .dataframe thead th {\n        text-align: right;\n    }\n</style>\n<table border=\"1\" class=\"dataframe\">\n  <thead>\n    <tr style=\"text-align: right;\">\n      <th></th>\n      <th>JBMA.NS</th>\n      <th>ALKYLAMINE.NS</th>\n      <th>CASTROLIND.NS</th>\n      <th>IDEA.NS</th>\n      <th>SPARC.NS</th>\n      <th>ENGINERSIN.NS</th>\n      <th>JUBLPHARMA.NS</th>\n      <th>GNFC.NS</th>\n      <th>GUJGASLTD.NS</th>\n      <th>CIEINDIA.NS</th>\n      <th>...</th>\n      <th>METROBRAND.NS</th>\n      <th>360ONE.NS</th>\n      <th>GOCOLORS.NS</th>\n      <th>CHEMPLASTS.NS</th>\n      <th>BSOFT.NS</th>\n      <th>CHOLAFIN.NS</th>\n      <th>EICHERMOT.NS</th>\n      <th>SONATSOFTW.NS</th>\n      <th>SAFARI.NS</th>\n      <th>BBTC.NS</th>\n    </tr>\n    <tr>\n      <th>Date</th>\n      <th></th>\n      <th></th>\n      <th></th>\n      <th></th>\n      <th></th>\n      <th></th>\n      <th></th>\n      <th></th>\n      <th></th>\n      <th></th>\n      <th></th>\n      <th></th>\n      <th></th>\n      <th></th>\n      <th></th>\n      <th></th>\n      <th></th>\n      <th></th>\n      <th></th>\n      <th></th>\n      <th></th>\n    </tr>\n  </thead>\n  <tbody>\n    <tr>\n      <th>2024-01-17</th>\n      <td>0.031083</td>\n      <td>NaN</td>\n      <td>-0.029471</td>\n      <td>-0.041270</td>\n      <td>-0.019585</td>\n      <td>-0.009325</td>\n      <td>0.011922</td>\n      <td>-0.018120</td>\n      <td>-0.001618</td>\n      <td>0.001831</td>\n      <td>...</td>\n      <td>-0.021650</td>\n      <td>-0.022748</td>\n      <td>-0.014105</td>\n      <td>-0.001015</td>\n      <td>0.022801</td>\n      <td>-0.008734</td>\n      <td>-0.010864</td>\n      <td>-0.006993</td>\n      <td>-0.000806</td>\n      <td>-0.038788</td>\n    </tr>\n    <tr>\n      <th>2024-01-16</th>\n      <td>0.018641</td>\n      <td>-0.007400</td>\n      <td>-0.025619</td>\n      <td>-0.045455</td>\n      <td>-0.035864</td>\n      <td>-0.033626</td>\n      <td>0.000089</td>\n      <td>-0.007603</td>\n      <td>0.026680</td>\n      <td>-0.000813</td>\n      <td>...</td>\n      <td>-0.013724</td>\n      <td>-0.012095</td>\n      <td>0.010357</td>\n      <td>-0.014506</td>\n      <td>-0.007122</td>\n      <td>0.016585</td>\n      <td>-0.010386</td>\n      <td>0.004135</td>\n      <td>-0.011862</td>\n      <td>-0.003295</td>\n    </tr>\n    <tr>\n      <th>2024-01-15</th>\n      <td>-0.029453</td>\n      <td>-0.016690</td>\n      <td>-0.000844</td>\n      <td>0.041009</td>\n      <td>0.026271</td>\n      <td>0.063830</td>\n      <td>0.000000</td>\n      <td>-0.009301</td>\n      <td>0.013094</td>\n      <td>0.000000</td>\n      <td>...</td>\n      <td>0.000000</td>\n      <td>0.000000</td>\n      <td>0.000000</td>\n      <td>0.000000</td>\n      <td>-0.000572</td>\n      <td>0.025471</td>\n      <td>-0.010011</td>\n      <td>0.008405</td>\n      <td>-0.010503</td>\n      <td>0.001453</td>\n    </tr>\n    <tr>\n      <th>2024-01-12</th>\n      <td>-0.029262</td>\n      <td>0.006737</td>\n      <td>-0.012500</td>\n      <td>-0.012461</td>\n      <td>-0.002982</td>\n      <td>-0.011784</td>\n      <td>-0.018514</td>\n      <td>-0.017693</td>\n      <td>-0.012013</td>\n      <td>0.004903</td>\n      <td>...</td>\n      <td>0.013430</td>\n      <td>-0.015654</td>\n      <td>-0.003794</td>\n      <td>0.004926</td>\n      <td>0.053146</td>\n      <td>0.012304</td>\n      <td>-0.004616</td>\n      <td>0.064159</td>\n      <td>0.003822</td>\n      <td>0.016305</td>\n    </tr>\n    <tr>\n      <th>2024-01-11</th>\n      <td>0.002771</td>\n      <td>-0.014637</td>\n      <td>-0.002494</td>\n      <td>-0.006192</td>\n      <td>-0.007081</td>\n      <td>0.098198</td>\n      <td>0.004738</td>\n      <td>0.006345</td>\n      <td>0.050272</td>\n      <td>0.014508</td>\n      <td>...</td>\n      <td>-0.003138</td>\n      <td>-0.004099</td>\n      <td>-0.012712</td>\n      <td>0.007801</td>\n      <td>0.010074</td>\n      <td>0.012415</td>\n      <td>0.012036</td>\n      <td>0.005595</td>\n      <td>0.006259</td>\n      <td>0.032823</td>\n    </tr>\n    <tr>\n      <th>...</th>\n      <td>...</td>\n      <td>...</td>\n      <td>...</td>\n      <td>...</td>\n      <td>...</td>\n      <td>...</td>\n      <td>...</td>\n      <td>...</td>\n      <td>...</td>\n      <td>...</td>\n      <td>...</td>\n      <td>...</td>\n      <td>...</td>\n      <td>...</td>\n      <td>...</td>\n      <td>...</td>\n      <td>...</td>\n      <td>...</td>\n      <td>...</td>\n      <td>...</td>\n      <td>...</td>\n    </tr>\n    <tr>\n      <th>2018-01-25</th>\n      <td>-0.012795</td>\n      <td>-0.013050</td>\n      <td>-0.021925</td>\n      <td>0.012780</td>\n      <td>-0.003001</td>\n      <td>-0.003442</td>\n      <td>-0.006662</td>\n      <td>-0.020563</td>\n      <td>-0.017779</td>\n      <td>-0.009746</td>\n      <td>...</td>\n      <td>NaN</td>\n      <td>NaN</td>\n      <td>NaN</td>\n      <td>NaN</td>\n      <td>0.005708</td>\n      <td>0.001187</td>\n      <td>0.004369</td>\n      <td>-0.044395</td>\n      <td>NaN</td>\n      <td>-0.023394</td>\n    </tr>\n    <tr>\n      <th>2018-01-24</th>\n      <td>-0.004702</td>\n      <td>0.033623</td>\n      <td>-0.009796</td>\n      <td>-0.054857</td>\n      <td>0.007051</td>\n      <td>-0.016366</td>\n      <td>0.018561</td>\n      <td>-0.020809</td>\n      <td>-0.002541</td>\n      <td>-0.013790</td>\n      <td>...</td>\n      <td>NaN</td>\n      <td>NaN</td>\n      <td>NaN</td>\n      <td>NaN</td>\n      <td>0.033423</td>\n      <td>-0.003776</td>\n      <td>-0.024646</td>\n      <td>0.005944</td>\n      <td>NaN</td>\n      <td>-0.022427</td>\n    </tr>\n    <tr>\n      <th>2018-01-23</th>\n      <td>0.000686</td>\n      <td>0.059341</td>\n      <td>0.005056</td>\n      <td>-0.001508</td>\n      <td>-0.010664</td>\n      <td>0.000565</td>\n      <td>0.004733</td>\n      <td>0.014266</td>\n      <td>0.009176</td>\n      <td>0.003565</td>\n      <td>...</td>\n      <td>NaN</td>\n      <td>NaN</td>\n      <td>NaN</td>\n      <td>NaN</td>\n      <td>0.017504</td>\n      <td>0.001375</td>\n      <td>-0.020924</td>\n      <td>-0.000161</td>\n      <td>NaN</td>\n      <td>-0.006287</td>\n    </tr>\n    <tr>\n      <th>2018-01-22</th>\n      <td>0.000000</td>\n      <td>-0.009206</td>\n      <td>0.000799</td>\n      <td>-0.027370</td>\n      <td>0.009762</td>\n      <td>-0.019108</td>\n      <td>0.008523</td>\n      <td>0.033216</td>\n      <td>0.012114</td>\n      <td>-0.009965</td>\n      <td>...</td>\n      <td>NaN</td>\n      <td>NaN</td>\n      <td>NaN</td>\n      <td>NaN</td>\n      <td>0.016781</td>\n      <td>-0.010282</td>\n      <td>-0.012840</td>\n      <td>0.024687</td>\n      <td>NaN</td>\n      <td>-0.006589</td>\n    </tr>\n    <tr>\n      <th>2018-01-19</th>\n      <td>-0.002445</td>\n      <td>0.011642</td>\n      <td>0.006972</td>\n      <td>0.011869</td>\n      <td>0.003940</td>\n      <td>0.012903</td>\n      <td>-0.020754</td>\n      <td>0.005278</td>\n      <td>-0.012026</td>\n      <td>0.009219</td>\n      <td>...</td>\n      <td>NaN</td>\n      <td>NaN</td>\n      <td>NaN</td>\n      <td>NaN</td>\n      <td>0.022621</td>\n      <td>0.006162</td>\n      <td>0.001969</td>\n      <td>0.043448</td>\n      <td>NaN</td>\n      <td>0.013706</td>\n    </tr>\n  </tbody>\n</table>\n<p>1480 rows × 500 columns</p>\n</div>"
     },
     "execution_count": 69,
     "metadata": {},
     "output_type": "execute_result"
    }
   ],
   "source": [
    "df2"
   ],
   "metadata": {
    "collapsed": false,
    "pycharm": {
     "name": "#%%\n"
    }
   }
  },
  {
   "cell_type": "code",
   "execution_count": 77,
   "outputs": [
    {
     "data": {
      "text/plain": "Date           2024-01-17  2024-01-16  2024-01-15  2024-01-12  2024-01-11  \\\nIRCON.NS             1.46        1.43        3.79        0.15        0.99   \nTTKPRESTIG.NS        0.63        1.20        0.51        0.52        1.04   \nIOC.NS               0.35        4.32        1.74        1.54        2.07   \nINDIANB.NS           0.27        1.40        0.13        1.56        0.93   \nRVNL.NS              7.54        1.31        8.56        1.73        1.22   \nPNCINFRA.NS          2.15        4.72        2.35        0.39        2.31   \nWHIRLPOOL.NS         0.08        1.33        0.24        0.09        0.22   \n\nDate           2024-01-10  2024-01-09  2024-01-08  2024-01-05  2024-01-04  \\\nIRCON.NS             6.31        1.06       -2.53       -0.94       -0.64   \nTTKPRESTIG.NS        1.17       -0.11       -0.24        1.79       -1.14   \nIOC.NS              -1.02       -0.57       -0.04        1.14       -1.13   \nINDIANB.NS           0.42       -1.20       -1.84        0.46        2.63   \nRVNL.NS              6.53        1.76       -1.38       -0.46        0.11   \nPNCINFRA.NS          5.94        0.54       -1.52       -0.41        0.99   \nWHIRLPOOL.NS        -1.04        0.48       -0.30        0.58       -0.56   \n\nDate           ...  2018-02-02  2018-02-01  2018-01-31  2018-01-30  \\\nIRCON.NS       ...         NaN         NaN         NaN         NaN   \nTTKPRESTIG.NS  ...       -3.59        0.34       -1.07       -4.60   \nIOC.NS         ...       -2.21        0.07        0.32        4.15   \nINDIANB.NS     ...       -3.76       -2.48       -1.61       -0.16   \nRVNL.NS        ...         NaN         NaN         NaN         NaN   \nPNCINFRA.NS    ...       -5.24        2.32       -1.90        0.00   \nWHIRLPOOL.NS   ...       -3.74        1.71        0.02       -1.13   \n\nDate           2018-01-29  2018-01-25  2018-01-24  2018-01-23  2018-01-22  \\\nIRCON.NS              NaN         NaN         NaN         NaN         NaN   \nTTKPRESTIG.NS       -1.83       -3.77       -4.71       -0.84        0.29   \nIOC.NS               1.87        0.51        0.23        1.80       -0.89   \nINDIANB.NS          -2.28       -6.29        1.38        4.07        0.21   \nRVNL.NS               NaN         NaN         NaN         NaN         NaN   \nPNCINFRA.NS         -3.61       -1.47        0.62        0.29        0.68   \nWHIRLPOOL.NS         0.11        0.71       -0.73       -0.46        1.18   \n\nDate           2018-01-19  \nIRCON.NS              NaN  \nTTKPRESTIG.NS        1.63  \nIOC.NS               2.09  \nINDIANB.NS           1.23  \nRVNL.NS               NaN  \nPNCINFRA.NS         -0.78  \nWHIRLPOOL.NS         0.23  \n\n[7 rows x 1480 columns]",
      "text/html": "<div>\n<style scoped>\n    .dataframe tbody tr th:only-of-type {\n        vertical-align: middle;\n    }\n\n    .dataframe tbody tr th {\n        vertical-align: top;\n    }\n\n    .dataframe thead th {\n        text-align: right;\n    }\n</style>\n<table border=\"1\" class=\"dataframe\">\n  <thead>\n    <tr style=\"text-align: right;\">\n      <th>Date</th>\n      <th>2024-01-17</th>\n      <th>2024-01-16</th>\n      <th>2024-01-15</th>\n      <th>2024-01-12</th>\n      <th>2024-01-11</th>\n      <th>2024-01-10</th>\n      <th>2024-01-09</th>\n      <th>2024-01-08</th>\n      <th>2024-01-05</th>\n      <th>2024-01-04</th>\n      <th>...</th>\n      <th>2018-02-02</th>\n      <th>2018-02-01</th>\n      <th>2018-01-31</th>\n      <th>2018-01-30</th>\n      <th>2018-01-29</th>\n      <th>2018-01-25</th>\n      <th>2018-01-24</th>\n      <th>2018-01-23</th>\n      <th>2018-01-22</th>\n      <th>2018-01-19</th>\n    </tr>\n  </thead>\n  <tbody>\n    <tr>\n      <th>IRCON.NS</th>\n      <td>1.46</td>\n      <td>1.43</td>\n      <td>3.79</td>\n      <td>0.15</td>\n      <td>0.99</td>\n      <td>6.31</td>\n      <td>1.06</td>\n      <td>-2.53</td>\n      <td>-0.94</td>\n      <td>-0.64</td>\n      <td>...</td>\n      <td>NaN</td>\n      <td>NaN</td>\n      <td>NaN</td>\n      <td>NaN</td>\n      <td>NaN</td>\n      <td>NaN</td>\n      <td>NaN</td>\n      <td>NaN</td>\n      <td>NaN</td>\n      <td>NaN</td>\n    </tr>\n    <tr>\n      <th>TTKPRESTIG.NS</th>\n      <td>0.63</td>\n      <td>1.20</td>\n      <td>0.51</td>\n      <td>0.52</td>\n      <td>1.04</td>\n      <td>1.17</td>\n      <td>-0.11</td>\n      <td>-0.24</td>\n      <td>1.79</td>\n      <td>-1.14</td>\n      <td>...</td>\n      <td>-3.59</td>\n      <td>0.34</td>\n      <td>-1.07</td>\n      <td>-4.60</td>\n      <td>-1.83</td>\n      <td>-3.77</td>\n      <td>-4.71</td>\n      <td>-0.84</td>\n      <td>0.29</td>\n      <td>1.63</td>\n    </tr>\n    <tr>\n      <th>IOC.NS</th>\n      <td>0.35</td>\n      <td>4.32</td>\n      <td>1.74</td>\n      <td>1.54</td>\n      <td>2.07</td>\n      <td>-1.02</td>\n      <td>-0.57</td>\n      <td>-0.04</td>\n      <td>1.14</td>\n      <td>-1.13</td>\n      <td>...</td>\n      <td>-2.21</td>\n      <td>0.07</td>\n      <td>0.32</td>\n      <td>4.15</td>\n      <td>1.87</td>\n      <td>0.51</td>\n      <td>0.23</td>\n      <td>1.80</td>\n      <td>-0.89</td>\n      <td>2.09</td>\n    </tr>\n    <tr>\n      <th>INDIANB.NS</th>\n      <td>0.27</td>\n      <td>1.40</td>\n      <td>0.13</td>\n      <td>1.56</td>\n      <td>0.93</td>\n      <td>0.42</td>\n      <td>-1.20</td>\n      <td>-1.84</td>\n      <td>0.46</td>\n      <td>2.63</td>\n      <td>...</td>\n      <td>-3.76</td>\n      <td>-2.48</td>\n      <td>-1.61</td>\n      <td>-0.16</td>\n      <td>-2.28</td>\n      <td>-6.29</td>\n      <td>1.38</td>\n      <td>4.07</td>\n      <td>0.21</td>\n      <td>1.23</td>\n    </tr>\n    <tr>\n      <th>RVNL.NS</th>\n      <td>7.54</td>\n      <td>1.31</td>\n      <td>8.56</td>\n      <td>1.73</td>\n      <td>1.22</td>\n      <td>6.53</td>\n      <td>1.76</td>\n      <td>-1.38</td>\n      <td>-0.46</td>\n      <td>0.11</td>\n      <td>...</td>\n      <td>NaN</td>\n      <td>NaN</td>\n      <td>NaN</td>\n      <td>NaN</td>\n      <td>NaN</td>\n      <td>NaN</td>\n      <td>NaN</td>\n      <td>NaN</td>\n      <td>NaN</td>\n      <td>NaN</td>\n    </tr>\n    <tr>\n      <th>PNCINFRA.NS</th>\n      <td>2.15</td>\n      <td>4.72</td>\n      <td>2.35</td>\n      <td>0.39</td>\n      <td>2.31</td>\n      <td>5.94</td>\n      <td>0.54</td>\n      <td>-1.52</td>\n      <td>-0.41</td>\n      <td>0.99</td>\n      <td>...</td>\n      <td>-5.24</td>\n      <td>2.32</td>\n      <td>-1.90</td>\n      <td>0.00</td>\n      <td>-3.61</td>\n      <td>-1.47</td>\n      <td>0.62</td>\n      <td>0.29</td>\n      <td>0.68</td>\n      <td>-0.78</td>\n    </tr>\n    <tr>\n      <th>WHIRLPOOL.NS</th>\n      <td>0.08</td>\n      <td>1.33</td>\n      <td>0.24</td>\n      <td>0.09</td>\n      <td>0.22</td>\n      <td>-1.04</td>\n      <td>0.48</td>\n      <td>-0.30</td>\n      <td>0.58</td>\n      <td>-0.56</td>\n      <td>...</td>\n      <td>-3.74</td>\n      <td>1.71</td>\n      <td>0.02</td>\n      <td>-1.13</td>\n      <td>0.11</td>\n      <td>0.71</td>\n      <td>-0.73</td>\n      <td>-0.46</td>\n      <td>1.18</td>\n      <td>0.23</td>\n    </tr>\n  </tbody>\n</table>\n<p>7 rows × 1480 columns</p>\n</div>"
     },
     "execution_count": 77,
     "metadata": {},
     "output_type": "execute_result"
    }
   ],
   "source": [
    "df3[(df3[\"2024-01-17\"]>0) & (df3[\"2024-01-16\"]>0) & (df3[\"2024-01-15\"]>0) & (df3[\"2024-01-12\"]>0) & (df3[\"2024-01-11\"]>0)]"
   ],
   "metadata": {
    "collapsed": false,
    "pycharm": {
     "name": "#%%\n"
    }
   }
  },
  {
   "cell_type": "code",
   "execution_count": 78,
   "outputs": [],
   "source": [
    "from bs4 import BeautifulSoup as bs\n",
    "import requests as re"
   ],
   "metadata": {
    "collapsed": false,
    "pycharm": {
     "name": "#%%\n"
    }
   }
  },
  {
   "cell_type": "code",
   "execution_count": 79,
   "outputs": [],
   "source": [
    "web=re.get(\"https://www.google.com/finance/markets/most-active?authuser=0\").text"
   ],
   "metadata": {
    "collapsed": false,
    "pycharm": {
     "name": "#%%\n"
    }
   }
  },
  {
   "cell_type": "code",
   "execution_count": 80,
   "outputs": [],
   "source": [
    "soup=bs(web,\"lxml\")"
   ],
   "metadata": {
    "collapsed": false,
    "pycharm": {
     "name": "#%%\n"
    }
   }
  },
  {
   "cell_type": "code",
   "execution_count": 87,
   "outputs": [],
   "source": [
    "box=soup.find_all(\"div\",class_=\"uPT9Ec eYHKkf\")"
   ],
   "metadata": {
    "collapsed": false,
    "pycharm": {
     "name": "#%%\n"
    }
   }
  },
  {
   "cell_type": "code",
   "execution_count": 89,
   "outputs": [
    {
     "name": "stdout",
     "output_type": "stream",
     "text": [
      "['YESBANK.NS', 'IDEA.NS', 'SOUTHBANK.NS', 'IRFC.NS', 'NHPC.NS', 'ZOMATO.NS', 'VIKASLIFE.NS', 'GTLINFRA.NS', 'RVNL.NS', 'MAHABANK.NS', 'INFIBEAM.NS', 'HDFCBANK.NS', 'SUZLON.NS', 'BHEL.NS', 'RPOWER.NS', 'PNB.NS', 'JPPOWER.NS', 'ZEEL.NS', 'IREDA.NS', 'DISHTV.NS', 'IEX.NS', 'TV18BRDCST.NS', 'IRB.NS', 'TATASTEEL.NS', 'ALOKINDS.NS', 'RTNPOWER.NS', 'CENTRALBK.NS', 'SAIL.NS', 'HCC.NS', 'IFCI.NS', 'PCBL.NS', 'URJA.NS', 'TRIDENT.NS', 'IRCON.NS', 'NFL.NS', 'IDFCFIRSTB.NS', 'NTPC.NS', 'UCOBANK.NS', 'SJVN.NS', 'HUDCO.NS', 'FCSSOFT.NS', 'IOB.NS', 'BANKINDIA.NS', 'VAKRANGEE.NS', 'EASEMYTRIP.NS', 'NATIONALUM.NS', 'IOC.NS', 'POWERGRID.NS', 'BEL.NS', 'JIOFIN.NS']\n"
     ]
    }
   ],
   "source": [
    "tike=[]\n",
    "for i in box:\n",
    "    j=i.text\n",
    "    tike.append(j+\".NS\")\n",
    "print(tike)"
   ],
   "metadata": {
    "collapsed": false,
    "pycharm": {
     "name": "#%%\n"
    }
   }
  },
  {
   "cell_type": "code",
   "execution_count": 92,
   "outputs": [
    {
     "name": "stdout",
     "output_type": "stream",
     "text": [
      "[]\n"
     ]
    }
   ],
   "source": [
    "# from bs4 import BeautifulSoup as bs\n",
    "# import requests as re\n",
    "web=re.get(\"https://www.google.com/finance/markets/gainers?authuser=0\").text\n",
    "soup=bs(web,\"lxml\")\n",
    "box=soup.find_all(\"div\",class_=\"COaKTb\")"
   ],
   "metadata": {
    "collapsed": false,
    "pycharm": {
     "name": "#%%\n"
    }
   }
  },
  {
   "cell_type": "code",
   "execution_count": 93,
   "outputs": [
    {
     "data": {
      "text/plain": "[<div class=\"COaKTb\">OFSS</div>,\n <div class=\"COaKTb bMPZw\">TARMAT</div>,\n <div class=\"COaKTb bMPZw\">AJMERA</div>,\n <div class=\"COaKTb bMPZw wnjT2c\">CAREERP</div>,\n <div class=\"COaKTb bMPZw wnjT2c DbU0ze\">INDOTHAI</div>,\n <div class=\"COaKTb\">PAKKA</div>,\n <div class=\"COaKTb bMPZw wnjT2c DbU0ze k6Xspc\">DIAMONDYD</div>,\n <div class=\"COaKTb\">CREST</div>,\n <div class=\"COaKTb\">PCBL</div>,\n <div class=\"COaKTb bMPZw wnjT2c DbU0ze k6Xspc\">QUICKHEAL</div>,\n <div class=\"COaKTb\">ISFT</div>,\n <div class=\"COaKTb\">SOBHA</div>,\n <div class=\"COaKTb bMPZw wnjT2c\">AHLEAST</div>,\n <div class=\"COaKTb bMPZw wnjT2c DbU0ze\">KAMDHENU</div>,\n <div class=\"COaKTb bMPZw\">VERTOZ</div>,\n <div class=\"COaKTb bMPZw wnjT2c DbU0ze k6Xspc bOwdwe\">RANEENGINE</div>,\n <div class=\"COaKTb bMPZw wnjT2c DbU0ze k6Xspc\">ORIENTLTD</div>,\n <div class=\"COaKTb\">MKPL</div>,\n <div class=\"COaKTb bMPZw wnjT2c DbU0ze\">KHAICHEM</div>,\n <div class=\"COaKTb bMPZw\">SASKEN</div>,\n <div class=\"COaKTb bMPZw wnjT2c\">AMNPLST</div>,\n <div class=\"COaKTb bMPZw wnjT2c DbU0ze k6Xspc bOwdwe\">DYNAMATECH</div>,\n <div class=\"COaKTb bMPZw wnjT2c DbU0ze k6Xspc bOwdwe\">VAIBHAVGBL</div>,\n <div class=\"COaKTb bMPZw wnjT2c\">AGARIND</div>,\n <div class=\"COaKTb bMPZw wnjT2c DbU0ze k6Xspc bOwdwe\">EIHAHOTELS</div>,\n <div class=\"COaKTb bMPZw wnjT2c DbU0ze k6Xspc bOwdwe\">GILLANDERS</div>,\n <div class=\"COaKTb bMPZw wnjT2c DbU0ze\">VASCONEQ</div>,\n <div class=\"COaKTb bMPZw wnjT2c DbU0ze k6Xspc\">SOUTHBANK</div>,\n <div class=\"COaKTb bMPZw wnjT2c DbU0ze k6Xspc bOwdwe\">SHREDIGCEM</div>,\n <div class=\"COaKTb\">BAJEL</div>,\n <div class=\"COaKTb bMPZw wnjT2c DbU0ze k6Xspc\">PEARLPOLY</div>,\n <div class=\"COaKTb bMPZw wnjT2c DbU0ze k6Xspc bOwdwe\">INDTERRAIN</div>,\n <div class=\"COaKTb\">RGL</div>,\n <div class=\"COaKTb bMPZw\">ITDCEM</div>,\n <div class=\"COaKTb bMPZw wnjT2c DbU0ze k6Xspc bOwdwe\">WOCKPHARMA</div>,\n <div class=\"COaKTb bMPZw wnjT2c DbU0ze\">PROZONER</div>,\n <div class=\"COaKTb bMPZw wnjT2c DbU0ze k6Xspc bOwdwe\">PRITIKAUTO</div>,\n <div class=\"COaKTb\">AURUM</div>,\n <div class=\"COaKTb bMPZw wnjT2c DbU0ze k6Xspc bOwdwe\">MUNJALSHOW</div>,\n <div class=\"COaKTb bMPZw wnjT2c\">BAIDFIN</div>,\n <div class=\"COaKTb\">APTUS</div>,\n <div class=\"COaKTb bMPZw\">SHANTI</div>,\n <div class=\"COaKTb\">POCL</div>,\n <div class=\"COaKTb bMPZw wnjT2c DbU0ze k6Xspc bOwdwe\">NAVKARCORP</div>,\n <div class=\"COaKTb bMPZw wnjT2c\">SALASAR</div>,\n <div class=\"COaKTb bMPZw\">JKTYRE</div>,\n <div class=\"COaKTb bMPZw wnjT2c DbU0ze k6Xspc bOwdwe\">APOLLOTYRE</div>,\n <div class=\"COaKTb bMPZw wnjT2c DbU0ze\">INDOAMIN</div>,\n <div class=\"COaKTb bMPZw wnjT2c DbU0ze k6Xspc bOwdwe\">CASTROLIND</div>,\n <div class=\"COaKTb bMPZw wnjT2c DbU0ze\">TATACOMM</div>,\n <div class=\"COaKTb\">Index</div>,\n <div class=\"COaKTb\">Index</div>,\n <div class=\"COaKTb\">Index</div>,\n <div class=\"COaKTb\">Index</div>,\n <div class=\"COaKTb\">BSE</div>,\n <div class=\"COaKTb bMPZw wnjT2c DbU0ze\">RELIANCE</div>,\n <div class=\"COaKTb\">SBIN</div>,\n <div class=\"COaKTb bMPZw wnjT2c\">YESBANK</div>,\n <div class=\"COaKTb\">ITC</div>,\n <div class=\"COaKTb\">M&amp;M</div>,\n <div class=\"COaKTb\">NS</div>,\n <div class=\"COaKTb bMPZw wnjT2c\">TRIDENT</div>,\n <div class=\"COaKTb\">Index</div>,\n <div class=\"COaKTb\">IDEA</div>,\n <div class=\"COaKTb bMPZw wnjT2c\">FRETAIL</div>,\n <div class=\"COaKTb\">Index</div>,\n <div class=\"COaKTb\">BLS</div>,\n <div class=\"COaKTb bMPZw wnjT2c DbU0ze\">HDFCBANK</div>]"
     },
     "execution_count": 93,
     "metadata": {},
     "output_type": "execute_result"
    }
   ],
   "source": [
    "box"
   ],
   "metadata": {
    "collapsed": false,
    "pycharm": {
     "name": "#%%\n"
    }
   }
  },
  {
   "cell_type": "code",
   "execution_count": 97,
   "outputs": [],
   "source": [
    "gain=[]\n",
    "for i in box:\n",
    "    j=i.text\n",
    "    gain.append(j+\".NS\")"
   ],
   "metadata": {
    "collapsed": false,
    "pycharm": {
     "name": "#%%\n"
    }
   }
  },
  {
   "cell_type": "code",
   "execution_count": 98,
   "outputs": [
    {
     "data": {
      "text/plain": "['OFSS.NS',\n 'TARMAT.NS',\n 'AJMERA.NS',\n 'CAREERP.NS',\n 'INDOTHAI.NS',\n 'PAKKA.NS',\n 'DIAMONDYD.NS',\n 'CREST.NS',\n 'PCBL.NS',\n 'QUICKHEAL.NS',\n 'ISFT.NS',\n 'SOBHA.NS',\n 'AHLEAST.NS',\n 'KAMDHENU.NS',\n 'VERTOZ.NS',\n 'RANEENGINE.NS',\n 'ORIENTLTD.NS',\n 'MKPL.NS',\n 'KHAICHEM.NS',\n 'SASKEN.NS',\n 'AMNPLST.NS',\n 'DYNAMATECH.NS',\n 'VAIBHAVGBL.NS',\n 'AGARIND.NS',\n 'EIHAHOTELS.NS',\n 'GILLANDERS.NS',\n 'VASCONEQ.NS',\n 'SOUTHBANK.NS',\n 'SHREDIGCEM.NS',\n 'BAJEL.NS',\n 'PEARLPOLY.NS',\n 'INDTERRAIN.NS',\n 'RGL.NS',\n 'ITDCEM.NS',\n 'WOCKPHARMA.NS',\n 'PROZONER.NS',\n 'PRITIKAUTO.NS',\n 'AURUM.NS',\n 'MUNJALSHOW.NS',\n 'BAIDFIN.NS',\n 'APTUS.NS',\n 'SHANTI.NS',\n 'POCL.NS',\n 'NAVKARCORP.NS',\n 'SALASAR.NS',\n 'JKTYRE.NS',\n 'APOLLOTYRE.NS',\n 'INDOAMIN.NS',\n 'CASTROLIND.NS',\n 'TATACOMM.NS',\n 'Index.NS',\n 'Index.NS',\n 'Index.NS',\n 'Index.NS',\n 'BSE.NS',\n 'RELIANCE.NS',\n 'SBIN.NS',\n 'YESBANK.NS',\n 'ITC.NS',\n 'M&M.NS',\n 'NS.NS',\n 'TRIDENT.NS',\n 'Index.NS',\n 'IDEA.NS',\n 'FRETAIL.NS',\n 'Index.NS',\n 'BLS.NS',\n 'HDFCBANK.NS']"
     },
     "execution_count": 98,
     "metadata": {},
     "output_type": "execute_result"
    }
   ],
   "source": [
    "gain"
   ],
   "metadata": {
    "collapsed": false,
    "pycharm": {
     "name": "#%%\n"
    }
   }
  },
  {
   "cell_type": "code",
   "execution_count": 99,
   "outputs": [
    {
     "name": "stdout",
     "output_type": "stream",
     "text": [
      "[*********************100%%**********************]  1 of 1 completed\n",
      "[*********************100%%**********************]  1 of 1 completed\n",
      "[*********************100%%**********************]  1 of 1 completed\n",
      "[*********************100%%**********************]  1 of 1 completed\n",
      "[*********************100%%**********************]  1 of 1 completed\n",
      "[*********************100%%**********************]  1 of 1 completed\n",
      "[*********************100%%**********************]  1 of 1 completed\n",
      "[*********************100%%**********************]  1 of 1 completed\n",
      "[*********************100%%**********************]  1 of 1 completed\n",
      "[*********************100%%**********************]  1 of 1 completed\n",
      "[*********************100%%**********************]  1 of 1 completed\n",
      "[*********************100%%**********************]  1 of 1 completed\n",
      "[*********************100%%**********************]  1 of 1 completed\n",
      "[*********************100%%**********************]  1 of 1 completed\n",
      "[*********************100%%**********************]  1 of 1 completed\n",
      "[*********************100%%**********************]  1 of 1 completed\n",
      "[*********************100%%**********************]  1 of 1 completed\n",
      "[*********************100%%**********************]  1 of 1 completed\n",
      "[*********************100%%**********************]  1 of 1 completed\n",
      "[*********************100%%**********************]  1 of 1 completed\n",
      "[*********************100%%**********************]  1 of 1 completed\n",
      "[*********************100%%**********************]  1 of 1 completed\n",
      "[*********************100%%**********************]  1 of 1 completed\n",
      "[*********************100%%**********************]  1 of 1 completed\n",
      "[*********************100%%**********************]  1 of 1 completed\n",
      "[*********************100%%**********************]  1 of 1 completed\n",
      "[*********************100%%**********************]  1 of 1 completed\n",
      "[*********************100%%**********************]  1 of 1 completed\n",
      "[*********************100%%**********************]  1 of 1 completed\n",
      "[*********************100%%**********************]  1 of 1 completed\n",
      "[*********************100%%**********************]  1 of 1 completed\n",
      "[*********************100%%**********************]  1 of 1 completed\n",
      "[*********************100%%**********************]  1 of 1 completed\n",
      "[*********************100%%**********************]  1 of 1 completed\n",
      "[*********************100%%**********************]  1 of 1 completed\n",
      "[*********************100%%**********************]  1 of 1 completed\n",
      "[*********************100%%**********************]  1 of 1 completed\n",
      "[*********************100%%**********************]  1 of 1 completed\n",
      "[*********************100%%**********************]  1 of 1 completed\n",
      "[*********************100%%**********************]  1 of 1 completed\n",
      "[*********************100%%**********************]  1 of 1 completed\n",
      "[*********************100%%**********************]  1 of 1 completed\n",
      "[*********************100%%**********************]  1 of 1 completed\n",
      "[*********************100%%**********************]  1 of 1 completed\n",
      "[*********************100%%**********************]  1 of 1 completed\n",
      "[*********************100%%**********************]  1 of 1 completed\n",
      "[*********************100%%**********************]  1 of 1 completed\n",
      "[*********************100%%**********************]  1 of 1 completed\n",
      "[*********************100%%**********************]  1 of 1 completed\n",
      "[*********************100%%**********************]  1 of 1 completed\n",
      "[*********************100%%**********************]  1 of 1 completed"
     ]
    },
    {
     "name": "stderr",
     "output_type": "stream",
     "text": [
      "\n",
      "1 Failed download:\n",
      "['INDEX.NS']: Exception('%ticker%: No timezone found, symbol may be delisted')\n"
     ]
    },
    {
     "name": "stdout",
     "output_type": "stream",
     "text": [
      "\n",
      "[*********************100%%**********************]  1 of 1 completed"
     ]
    },
    {
     "name": "stderr",
     "output_type": "stream",
     "text": [
      "\n",
      "1 Failed download:\n",
      "['INDEX.NS']: Exception('%ticker%: No timezone found, symbol may be delisted')\n"
     ]
    },
    {
     "name": "stdout",
     "output_type": "stream",
     "text": [
      "\n",
      "[*********************100%%**********************]  1 of 1 completed"
     ]
    },
    {
     "name": "stderr",
     "output_type": "stream",
     "text": [
      "\n",
      "1 Failed download:\n",
      "['INDEX.NS']: Exception('%ticker%: No timezone found, symbol may be delisted')\n"
     ]
    },
    {
     "name": "stdout",
     "output_type": "stream",
     "text": [
      "\n",
      "[*********************100%%**********************]  1 of 1 completed"
     ]
    },
    {
     "name": "stderr",
     "output_type": "stream",
     "text": [
      "\n",
      "1 Failed download:\n",
      "['INDEX.NS']: Exception('%ticker%: No timezone found, symbol may be delisted')\n"
     ]
    },
    {
     "name": "stdout",
     "output_type": "stream",
     "text": [
      "\n",
      "[*********************100%%**********************]  1 of 1 completed\n",
      "[*********************100%%**********************]  1 of 1 completed\n",
      "[*********************100%%**********************]  1 of 1 completed\n",
      "[*********************100%%**********************]  1 of 1 completed\n",
      "[*********************100%%**********************]  1 of 1 completed\n",
      "[*********************100%%**********************]  1 of 1 completed\n",
      "[*********************100%%**********************]  1 of 1 completed"
     ]
    },
    {
     "name": "stderr",
     "output_type": "stream",
     "text": [
      "\n",
      "1 Failed download:\n",
      "['NS.NS']: Exception('%ticker%: No timezone found, symbol may be delisted')\n"
     ]
    },
    {
     "name": "stdout",
     "output_type": "stream",
     "text": [
      "\n",
      "[*********************100%%**********************]  1 of 1 completed\n",
      "[*********************100%%**********************]  1 of 1 completed"
     ]
    },
    {
     "name": "stderr",
     "output_type": "stream",
     "text": [
      "\n",
      "1 Failed download:\n",
      "['INDEX.NS']: Exception('%ticker%: No timezone found, symbol may be delisted')\n"
     ]
    },
    {
     "name": "stdout",
     "output_type": "stream",
     "text": [
      "\n",
      "[*********************100%%**********************]  1 of 1 completed\n",
      "[*********************100%%**********************]  1 of 1 completed\n",
      "[*********************100%%**********************]  1 of 1 completed"
     ]
    },
    {
     "name": "stderr",
     "output_type": "stream",
     "text": [
      "\n",
      "1 Failed download:\n",
      "['INDEX.NS']: Exception('%ticker%: No timezone found, symbol may be delisted')\n"
     ]
    },
    {
     "name": "stdout",
     "output_type": "stream",
     "text": [
      "\n",
      "[*********************100%%**********************]  1 of 1 completed\n",
      "[*********************100%%**********************]  1 of 1 completed\n"
     ]
    }
   ],
   "source": [
    "df_sh = {}\n",
    "\n",
    "for symbol in gain:\n",
    "    try:\n",
    "        df_sh[symbol] = yf.download(symbol,start=\"2018-01-18\",end=\"2024-01-18\",interval=\"1d\")\n",
    "\n",
    "        # Calculate daily returns\n",
    "        df_sh[symbol]['Daily_Return'] = df_sh[symbol]['Close'].pct_change()\n",
    "    except:\n",
    "        pass\n",
    "\n",
    "        # # Resample to get monthly returns\n",
    "        # df_sh[symbol] = df_sh[symbol]['Daily_Return'].resample('M').apply(lambda x: (x + 1).prod() - 1)\n",
    "    # except Exception as e:\n",
    "        # print(f\"Error fetching data for {symbol}: {e}\")\n",
    "\n",
    "# Create an empty DataFrame to store monthly returns of all stocks\n",
    "gain_returns = pd.DataFrame()\n",
    "\n",
    "# # Concatenate monthly returns into a single DataFrame\n",
    "# for symbol in df_sh.keys():\n",
    "#     all_stock_returns[symbol] = df_sh[symbol]\n",
    "for symbol in df_sh.keys():\n",
    "    gain_returns[symbol] = df_sh[symbol]['Daily_Return']"
   ],
   "metadata": {
    "collapsed": false,
    "pycharm": {
     "name": "#%%\n"
    }
   }
  },
  {
   "cell_type": "code",
   "execution_count": 100,
   "outputs": [
    {
     "data": {
      "text/plain": "             OFSS.NS  TARMAT.NS  AJMERA.NS  CAREERP.NS  INDOTHAI.NS  PAKKA.NS  \\\nDate                                                                            \n2018-01-18       NaN        NaN        NaN         NaN          NaN       NaN   \n2018-01-19  0.016739  -0.011826   0.000000    0.025689    -0.078601       NaN   \n2018-01-22  0.027833  -0.017203  -0.002088   -0.014365    -0.019231       NaN   \n2018-01-23  0.009019   0.003805   0.014483   -0.018685    -0.059829       NaN   \n2018-01-24  0.009762  -0.013647   0.006028   -0.038842    -0.049198       NaN   \n...              ...        ...        ...         ...          ...       ...   \n2024-01-11 -0.001627  -0.006974   0.067512   -0.019852    -0.014237  0.014225   \n2024-01-12  0.076183  -0.013506   0.008017    0.014652     0.031903 -0.012560   \n2024-01-15  0.088860   0.004381   0.004713   -0.002548     0.055149  0.000000   \n2024-01-16 -0.031091  -0.003817  -0.008893   -0.031510    -0.036626  0.073352   \n2024-01-17  0.035275  -0.000547  -0.003845    0.008793     0.199959  0.133715   \n\n            DIAMONDYD.NS  CREST.NS   PCBL.NS  QUICKHEAL.NS  ...   SBIN.NS  \\\nDate                                                        ...             \n2018-01-18           NaN       NaN       NaN           NaN  ...       NaN   \n2018-01-19      0.002723 -0.005174  0.025491      0.017493  ...  0.019786   \n2018-01-22     -0.004095  0.067818 -0.010373      0.006962  ... -0.008892   \n2018-01-23     -0.004761 -0.032340 -0.010637      0.028644  ...  0.037847   \n2018-01-24     -0.000913 -0.017314 -0.054032     -0.003292  ...  0.037095   \n...                  ...       ...       ...           ...  ...       ...   \n2024-01-11     -0.012790  0.008760 -0.000942      0.106583  ... -0.002493   \n2024-01-12     -0.023716 -0.011189  0.004149      0.012317  ...  0.021606   \n2024-01-15      0.016489  0.033778  0.000000     -0.023604  ...  0.010259   \n2024-01-16      0.092601 -0.010783  0.057653      0.049097  ... -0.004999   \n2024-01-17     -0.013021  0.024938 -0.009943      0.047036  ... -0.017114   \n\n            YESBANK.NS    ITC.NS    M&M.NS  NS.NS  TRIDENT.NS   IDEA.NS  \\\nDate                                                                      \n2018-01-18         NaN       NaN       NaN    NaN         NaN       NaN   \n2018-01-19    0.023886  0.004206  0.008100    NaN   -0.002350  0.011869   \n2018-01-22    0.017175 -0.003278 -0.007578    NaN    0.030624 -0.027370   \n2018-01-23    0.011819  0.010780  0.012441    NaN    0.002857 -0.001508   \n2018-01-24    0.014602  0.017534 -0.017749    NaN   -0.027350 -0.054857   \n...                ...       ...       ...    ...         ...       ...   \n2024-01-11    0.001961 -0.001403 -0.002542    NaN   -0.019210 -0.006192   \n2024-01-12   -0.025440  0.008754 -0.002579    NaN    0.033732 -0.012461   \n2024-01-15   -0.006024  0.001928  0.006833    NaN   -0.021053  0.041009   \n2024-01-16    0.036364  0.010051 -0.009294    NaN   -0.020430 -0.045455   \n2024-01-17   -0.035088 -0.012069 -0.013978    NaN   -0.027442 -0.041270   \n\n            FRETAIL.NS    BLS.NS  HDFCBANK.NS  \nDate                                           \n2018-01-18         NaN       NaN          NaN  \n2018-01-19    0.002546 -0.005330     0.009254  \n2018-01-22    0.013638  0.025723     0.005712  \n2018-01-23    0.050849  0.007524    -0.006137  \n2018-01-24   -0.003709 -0.007052     0.003254  \n...                ...       ...          ...  \n2024-01-11    0.000000  0.016565    -0.004197  \n2024-01-12    0.000000  0.016160    -0.004730  \n2024-01-15   -0.041667  0.046773     0.019254  \n2024-01-16    0.000000 -0.010979     0.003796  \n2024-01-17    0.000000  0.014844    -0.084358  \n\n[1480 rows x 63 columns]",
      "text/html": "<div>\n<style scoped>\n    .dataframe tbody tr th:only-of-type {\n        vertical-align: middle;\n    }\n\n    .dataframe tbody tr th {\n        vertical-align: top;\n    }\n\n    .dataframe thead th {\n        text-align: right;\n    }\n</style>\n<table border=\"1\" class=\"dataframe\">\n  <thead>\n    <tr style=\"text-align: right;\">\n      <th></th>\n      <th>OFSS.NS</th>\n      <th>TARMAT.NS</th>\n      <th>AJMERA.NS</th>\n      <th>CAREERP.NS</th>\n      <th>INDOTHAI.NS</th>\n      <th>PAKKA.NS</th>\n      <th>DIAMONDYD.NS</th>\n      <th>CREST.NS</th>\n      <th>PCBL.NS</th>\n      <th>QUICKHEAL.NS</th>\n      <th>...</th>\n      <th>SBIN.NS</th>\n      <th>YESBANK.NS</th>\n      <th>ITC.NS</th>\n      <th>M&amp;M.NS</th>\n      <th>NS.NS</th>\n      <th>TRIDENT.NS</th>\n      <th>IDEA.NS</th>\n      <th>FRETAIL.NS</th>\n      <th>BLS.NS</th>\n      <th>HDFCBANK.NS</th>\n    </tr>\n    <tr>\n      <th>Date</th>\n      <th></th>\n      <th></th>\n      <th></th>\n      <th></th>\n      <th></th>\n      <th></th>\n      <th></th>\n      <th></th>\n      <th></th>\n      <th></th>\n      <th></th>\n      <th></th>\n      <th></th>\n      <th></th>\n      <th></th>\n      <th></th>\n      <th></th>\n      <th></th>\n      <th></th>\n      <th></th>\n      <th></th>\n    </tr>\n  </thead>\n  <tbody>\n    <tr>\n      <th>2018-01-18</th>\n      <td>NaN</td>\n      <td>NaN</td>\n      <td>NaN</td>\n      <td>NaN</td>\n      <td>NaN</td>\n      <td>NaN</td>\n      <td>NaN</td>\n      <td>NaN</td>\n      <td>NaN</td>\n      <td>NaN</td>\n      <td>...</td>\n      <td>NaN</td>\n      <td>NaN</td>\n      <td>NaN</td>\n      <td>NaN</td>\n      <td>NaN</td>\n      <td>NaN</td>\n      <td>NaN</td>\n      <td>NaN</td>\n      <td>NaN</td>\n      <td>NaN</td>\n    </tr>\n    <tr>\n      <th>2018-01-19</th>\n      <td>0.016739</td>\n      <td>-0.011826</td>\n      <td>0.000000</td>\n      <td>0.025689</td>\n      <td>-0.078601</td>\n      <td>NaN</td>\n      <td>0.002723</td>\n      <td>-0.005174</td>\n      <td>0.025491</td>\n      <td>0.017493</td>\n      <td>...</td>\n      <td>0.019786</td>\n      <td>0.023886</td>\n      <td>0.004206</td>\n      <td>0.008100</td>\n      <td>NaN</td>\n      <td>-0.002350</td>\n      <td>0.011869</td>\n      <td>0.002546</td>\n      <td>-0.005330</td>\n      <td>0.009254</td>\n    </tr>\n    <tr>\n      <th>2018-01-22</th>\n      <td>0.027833</td>\n      <td>-0.017203</td>\n      <td>-0.002088</td>\n      <td>-0.014365</td>\n      <td>-0.019231</td>\n      <td>NaN</td>\n      <td>-0.004095</td>\n      <td>0.067818</td>\n      <td>-0.010373</td>\n      <td>0.006962</td>\n      <td>...</td>\n      <td>-0.008892</td>\n      <td>0.017175</td>\n      <td>-0.003278</td>\n      <td>-0.007578</td>\n      <td>NaN</td>\n      <td>0.030624</td>\n      <td>-0.027370</td>\n      <td>0.013638</td>\n      <td>0.025723</td>\n      <td>0.005712</td>\n    </tr>\n    <tr>\n      <th>2018-01-23</th>\n      <td>0.009019</td>\n      <td>0.003805</td>\n      <td>0.014483</td>\n      <td>-0.018685</td>\n      <td>-0.059829</td>\n      <td>NaN</td>\n      <td>-0.004761</td>\n      <td>-0.032340</td>\n      <td>-0.010637</td>\n      <td>0.028644</td>\n      <td>...</td>\n      <td>0.037847</td>\n      <td>0.011819</td>\n      <td>0.010780</td>\n      <td>0.012441</td>\n      <td>NaN</td>\n      <td>0.002857</td>\n      <td>-0.001508</td>\n      <td>0.050849</td>\n      <td>0.007524</td>\n      <td>-0.006137</td>\n    </tr>\n    <tr>\n      <th>2018-01-24</th>\n      <td>0.009762</td>\n      <td>-0.013647</td>\n      <td>0.006028</td>\n      <td>-0.038842</td>\n      <td>-0.049198</td>\n      <td>NaN</td>\n      <td>-0.000913</td>\n      <td>-0.017314</td>\n      <td>-0.054032</td>\n      <td>-0.003292</td>\n      <td>...</td>\n      <td>0.037095</td>\n      <td>0.014602</td>\n      <td>0.017534</td>\n      <td>-0.017749</td>\n      <td>NaN</td>\n      <td>-0.027350</td>\n      <td>-0.054857</td>\n      <td>-0.003709</td>\n      <td>-0.007052</td>\n      <td>0.003254</td>\n    </tr>\n    <tr>\n      <th>...</th>\n      <td>...</td>\n      <td>...</td>\n      <td>...</td>\n      <td>...</td>\n      <td>...</td>\n      <td>...</td>\n      <td>...</td>\n      <td>...</td>\n      <td>...</td>\n      <td>...</td>\n      <td>...</td>\n      <td>...</td>\n      <td>...</td>\n      <td>...</td>\n      <td>...</td>\n      <td>...</td>\n      <td>...</td>\n      <td>...</td>\n      <td>...</td>\n      <td>...</td>\n      <td>...</td>\n    </tr>\n    <tr>\n      <th>2024-01-11</th>\n      <td>-0.001627</td>\n      <td>-0.006974</td>\n      <td>0.067512</td>\n      <td>-0.019852</td>\n      <td>-0.014237</td>\n      <td>0.014225</td>\n      <td>-0.012790</td>\n      <td>0.008760</td>\n      <td>-0.000942</td>\n      <td>0.106583</td>\n      <td>...</td>\n      <td>-0.002493</td>\n      <td>0.001961</td>\n      <td>-0.001403</td>\n      <td>-0.002542</td>\n      <td>NaN</td>\n      <td>-0.019210</td>\n      <td>-0.006192</td>\n      <td>0.000000</td>\n      <td>0.016565</td>\n      <td>-0.004197</td>\n    </tr>\n    <tr>\n      <th>2024-01-12</th>\n      <td>0.076183</td>\n      <td>-0.013506</td>\n      <td>0.008017</td>\n      <td>0.014652</td>\n      <td>0.031903</td>\n      <td>-0.012560</td>\n      <td>-0.023716</td>\n      <td>-0.011189</td>\n      <td>0.004149</td>\n      <td>0.012317</td>\n      <td>...</td>\n      <td>0.021606</td>\n      <td>-0.025440</td>\n      <td>0.008754</td>\n      <td>-0.002579</td>\n      <td>NaN</td>\n      <td>0.033732</td>\n      <td>-0.012461</td>\n      <td>0.000000</td>\n      <td>0.016160</td>\n      <td>-0.004730</td>\n    </tr>\n    <tr>\n      <th>2024-01-15</th>\n      <td>0.088860</td>\n      <td>0.004381</td>\n      <td>0.004713</td>\n      <td>-0.002548</td>\n      <td>0.055149</td>\n      <td>0.000000</td>\n      <td>0.016489</td>\n      <td>0.033778</td>\n      <td>0.000000</td>\n      <td>-0.023604</td>\n      <td>...</td>\n      <td>0.010259</td>\n      <td>-0.006024</td>\n      <td>0.001928</td>\n      <td>0.006833</td>\n      <td>NaN</td>\n      <td>-0.021053</td>\n      <td>0.041009</td>\n      <td>-0.041667</td>\n      <td>0.046773</td>\n      <td>0.019254</td>\n    </tr>\n    <tr>\n      <th>2024-01-16</th>\n      <td>-0.031091</td>\n      <td>-0.003817</td>\n      <td>-0.008893</td>\n      <td>-0.031510</td>\n      <td>-0.036626</td>\n      <td>0.073352</td>\n      <td>0.092601</td>\n      <td>-0.010783</td>\n      <td>0.057653</td>\n      <td>0.049097</td>\n      <td>...</td>\n      <td>-0.004999</td>\n      <td>0.036364</td>\n      <td>0.010051</td>\n      <td>-0.009294</td>\n      <td>NaN</td>\n      <td>-0.020430</td>\n      <td>-0.045455</td>\n      <td>0.000000</td>\n      <td>-0.010979</td>\n      <td>0.003796</td>\n    </tr>\n    <tr>\n      <th>2024-01-17</th>\n      <td>0.035275</td>\n      <td>-0.000547</td>\n      <td>-0.003845</td>\n      <td>0.008793</td>\n      <td>0.199959</td>\n      <td>0.133715</td>\n      <td>-0.013021</td>\n      <td>0.024938</td>\n      <td>-0.009943</td>\n      <td>0.047036</td>\n      <td>...</td>\n      <td>-0.017114</td>\n      <td>-0.035088</td>\n      <td>-0.012069</td>\n      <td>-0.013978</td>\n      <td>NaN</td>\n      <td>-0.027442</td>\n      <td>-0.041270</td>\n      <td>0.000000</td>\n      <td>0.014844</td>\n      <td>-0.084358</td>\n    </tr>\n  </tbody>\n</table>\n<p>1480 rows × 63 columns</p>\n</div>"
     },
     "execution_count": 100,
     "metadata": {},
     "output_type": "execute_result"
    }
   ],
   "source": [
    "gain_returns"
   ],
   "metadata": {
    "collapsed": false,
    "pycharm": {
     "name": "#%%\n"
    }
   }
  },
  {
   "cell_type": "markdown",
   "source": [],
   "metadata": {
    "collapsed": false,
    "pycharm": {
     "name": "#%% md\n"
    }
   }
  },
  {
   "cell_type": "code",
   "execution_count": 107,
   "outputs": [],
   "source": [
    "gain_returns.drop(\"2018-01-18\",axis=0,inplace=True)"
   ],
   "metadata": {
    "collapsed": false,
    "pycharm": {
     "name": "#%%\n"
    }
   }
  },
  {
   "cell_type": "code",
   "execution_count": 111,
   "outputs": [],
   "source": [
    "g_returns=gain_returns.iloc[::-1].T"
   ],
   "metadata": {
    "collapsed": false,
    "pycharm": {
     "name": "#%%\n"
    }
   }
  },
  {
   "cell_type": "code",
   "execution_count": 112,
   "outputs": [
    {
     "data": {
      "text/plain": "Date         2024-01-17  2024-01-16  2024-01-15  2024-01-12  2024-01-11  \\\nOFSS.NS        0.035275   -0.031091    0.088860    0.076183   -0.001627   \nTARMAT.NS     -0.000547   -0.003817    0.004381   -0.013506   -0.006974   \nAJMERA.NS     -0.003845   -0.008893    0.004713    0.008017    0.067512   \nCAREERP.NS     0.008793   -0.031510   -0.002548    0.014652   -0.019852   \nINDOTHAI.NS    0.199959   -0.036626    0.055149    0.031903   -0.014237   \n...                 ...         ...         ...         ...         ...   \nTRIDENT.NS    -0.027442   -0.020430   -0.021053    0.033732   -0.019210   \nIDEA.NS       -0.041270   -0.045455    0.041009   -0.012461   -0.006192   \nFRETAIL.NS     0.000000    0.000000   -0.041667    0.000000    0.000000   \nBLS.NS         0.014844   -0.010979    0.046773    0.016160    0.016565   \nHDFCBANK.NS   -0.084358    0.003796    0.019254   -0.004730   -0.004197   \n\nDate         2024-01-10  2024-01-09  2024-01-08  2024-01-05  2024-01-04  ...  \\\nOFSS.NS       -0.003380   -0.000643   -0.023779    0.027653    0.000069  ...   \nTARMAT.NS     -0.014278    0.009610   -0.023971   -0.016906    0.040512  ...   \nAJMERA.NS      0.005417   -0.000319    0.024589   -0.006808    0.044470  ...   \nCAREERP.NS     0.016967    0.070099    0.109666    0.011871    0.026762  ...   \nINDOTHAI.NS   -0.003388    0.008328   -0.004041   -0.015906   -0.016063  ...   \n...                 ...         ...         ...         ...         ...  ...   \nTRIDENT.NS    -0.056395    0.030083    0.178484    0.067885    0.010554  ...   \nIDEA.NS       -0.003086   -0.055394    0.002924    0.017857    0.059937  ...   \nFRETAIL.NS     0.000000    0.000000   -0.040000    0.000000    0.000000  ...   \nBLS.NS         0.001244    0.031656    0.042825   -0.004883    0.033966  ...   \nHDFCBANK.NS    0.003302   -0.007785   -0.011146   -0.005116    0.010730  ...   \n\nDate         2018-02-02  2018-02-01  2018-01-31  2018-01-30  2018-01-29  \\\nOFSS.NS       -0.003600    0.006049    0.014874   -0.020161   -0.005826   \nTARMAT.NS     -0.086925    0.045837    0.016304   -0.076040    0.092476   \nAJMERA.NS     -0.082154    0.046025    0.000000   -0.022187    0.012910   \nCAREERP.NS    -0.048603    0.004884    0.007380   -0.028674   -0.027498   \nINDOTHAI.NS   -0.129983   -0.020928    0.027310   -0.024376   -0.047516   \n...                 ...         ...         ...         ...         ...   \nTRIDENT.NS    -0.051034   -0.016518    0.003826   -0.027898   -0.049499   \nIDEA.NS       -0.032859   -0.019334   -0.009575    0.004274   -0.015773   \nFRETAIL.NS    -0.055755   -0.027427   -0.000806    0.017774   -0.014286   \nBLS.NS        -0.071616    0.053306   -0.056017   -0.045537   -0.067399   \nHDFCBANK.NS   -0.021671   -0.007254    0.005111   -0.002075    0.012507   \n\nDate         2018-01-25  2018-01-24  2018-01-23  2018-01-22  2018-01-19  \nOFSS.NS       -0.013201    0.009762    0.009019    0.027833    0.016739  \nTARMAT.NS     -0.019216   -0.013647    0.003805   -0.017203   -0.011826  \nAJMERA.NS     -0.010722    0.006028    0.014483   -0.002088    0.000000  \nCAREERP.NS     0.022979   -0.038842   -0.018685   -0.014365    0.025689  \nINDOTHAI.NS    0.041620   -0.049198   -0.059829   -0.019231   -0.078601  \n...                 ...         ...         ...         ...         ...  \nTRIDENT.NS    -0.005858   -0.027350    0.002857    0.030624   -0.002350  \nIDEA.NS        0.012780   -0.054857   -0.001508   -0.027370    0.011869  \nFRETAIL.NS    -0.013560   -0.003709    0.050849    0.013638    0.002546  \nBLS.NS        -0.011281   -0.007052    0.007524    0.025723   -0.005330  \nHDFCBANK.NS    0.008837    0.003254   -0.006137    0.005712    0.009254  \n\n[63 rows x 1479 columns]",
      "text/html": "<div>\n<style scoped>\n    .dataframe tbody tr th:only-of-type {\n        vertical-align: middle;\n    }\n\n    .dataframe tbody tr th {\n        vertical-align: top;\n    }\n\n    .dataframe thead th {\n        text-align: right;\n    }\n</style>\n<table border=\"1\" class=\"dataframe\">\n  <thead>\n    <tr style=\"text-align: right;\">\n      <th>Date</th>\n      <th>2024-01-17</th>\n      <th>2024-01-16</th>\n      <th>2024-01-15</th>\n      <th>2024-01-12</th>\n      <th>2024-01-11</th>\n      <th>2024-01-10</th>\n      <th>2024-01-09</th>\n      <th>2024-01-08</th>\n      <th>2024-01-05</th>\n      <th>2024-01-04</th>\n      <th>...</th>\n      <th>2018-02-02</th>\n      <th>2018-02-01</th>\n      <th>2018-01-31</th>\n      <th>2018-01-30</th>\n      <th>2018-01-29</th>\n      <th>2018-01-25</th>\n      <th>2018-01-24</th>\n      <th>2018-01-23</th>\n      <th>2018-01-22</th>\n      <th>2018-01-19</th>\n    </tr>\n  </thead>\n  <tbody>\n    <tr>\n      <th>OFSS.NS</th>\n      <td>0.035275</td>\n      <td>-0.031091</td>\n      <td>0.088860</td>\n      <td>0.076183</td>\n      <td>-0.001627</td>\n      <td>-0.003380</td>\n      <td>-0.000643</td>\n      <td>-0.023779</td>\n      <td>0.027653</td>\n      <td>0.000069</td>\n      <td>...</td>\n      <td>-0.003600</td>\n      <td>0.006049</td>\n      <td>0.014874</td>\n      <td>-0.020161</td>\n      <td>-0.005826</td>\n      <td>-0.013201</td>\n      <td>0.009762</td>\n      <td>0.009019</td>\n      <td>0.027833</td>\n      <td>0.016739</td>\n    </tr>\n    <tr>\n      <th>TARMAT.NS</th>\n      <td>-0.000547</td>\n      <td>-0.003817</td>\n      <td>0.004381</td>\n      <td>-0.013506</td>\n      <td>-0.006974</td>\n      <td>-0.014278</td>\n      <td>0.009610</td>\n      <td>-0.023971</td>\n      <td>-0.016906</td>\n      <td>0.040512</td>\n      <td>...</td>\n      <td>-0.086925</td>\n      <td>0.045837</td>\n      <td>0.016304</td>\n      <td>-0.076040</td>\n      <td>0.092476</td>\n      <td>-0.019216</td>\n      <td>-0.013647</td>\n      <td>0.003805</td>\n      <td>-0.017203</td>\n      <td>-0.011826</td>\n    </tr>\n    <tr>\n      <th>AJMERA.NS</th>\n      <td>-0.003845</td>\n      <td>-0.008893</td>\n      <td>0.004713</td>\n      <td>0.008017</td>\n      <td>0.067512</td>\n      <td>0.005417</td>\n      <td>-0.000319</td>\n      <td>0.024589</td>\n      <td>-0.006808</td>\n      <td>0.044470</td>\n      <td>...</td>\n      <td>-0.082154</td>\n      <td>0.046025</td>\n      <td>0.000000</td>\n      <td>-0.022187</td>\n      <td>0.012910</td>\n      <td>-0.010722</td>\n      <td>0.006028</td>\n      <td>0.014483</td>\n      <td>-0.002088</td>\n      <td>0.000000</td>\n    </tr>\n    <tr>\n      <th>CAREERP.NS</th>\n      <td>0.008793</td>\n      <td>-0.031510</td>\n      <td>-0.002548</td>\n      <td>0.014652</td>\n      <td>-0.019852</td>\n      <td>0.016967</td>\n      <td>0.070099</td>\n      <td>0.109666</td>\n      <td>0.011871</td>\n      <td>0.026762</td>\n      <td>...</td>\n      <td>-0.048603</td>\n      <td>0.004884</td>\n      <td>0.007380</td>\n      <td>-0.028674</td>\n      <td>-0.027498</td>\n      <td>0.022979</td>\n      <td>-0.038842</td>\n      <td>-0.018685</td>\n      <td>-0.014365</td>\n      <td>0.025689</td>\n    </tr>\n    <tr>\n      <th>INDOTHAI.NS</th>\n      <td>0.199959</td>\n      <td>-0.036626</td>\n      <td>0.055149</td>\n      <td>0.031903</td>\n      <td>-0.014237</td>\n      <td>-0.003388</td>\n      <td>0.008328</td>\n      <td>-0.004041</td>\n      <td>-0.015906</td>\n      <td>-0.016063</td>\n      <td>...</td>\n      <td>-0.129983</td>\n      <td>-0.020928</td>\n      <td>0.027310</td>\n      <td>-0.024376</td>\n      <td>-0.047516</td>\n      <td>0.041620</td>\n      <td>-0.049198</td>\n      <td>-0.059829</td>\n      <td>-0.019231</td>\n      <td>-0.078601</td>\n    </tr>\n    <tr>\n      <th>...</th>\n      <td>...</td>\n      <td>...</td>\n      <td>...</td>\n      <td>...</td>\n      <td>...</td>\n      <td>...</td>\n      <td>...</td>\n      <td>...</td>\n      <td>...</td>\n      <td>...</td>\n      <td>...</td>\n      <td>...</td>\n      <td>...</td>\n      <td>...</td>\n      <td>...</td>\n      <td>...</td>\n      <td>...</td>\n      <td>...</td>\n      <td>...</td>\n      <td>...</td>\n      <td>...</td>\n    </tr>\n    <tr>\n      <th>TRIDENT.NS</th>\n      <td>-0.027442</td>\n      <td>-0.020430</td>\n      <td>-0.021053</td>\n      <td>0.033732</td>\n      <td>-0.019210</td>\n      <td>-0.056395</td>\n      <td>0.030083</td>\n      <td>0.178484</td>\n      <td>0.067885</td>\n      <td>0.010554</td>\n      <td>...</td>\n      <td>-0.051034</td>\n      <td>-0.016518</td>\n      <td>0.003826</td>\n      <td>-0.027898</td>\n      <td>-0.049499</td>\n      <td>-0.005858</td>\n      <td>-0.027350</td>\n      <td>0.002857</td>\n      <td>0.030624</td>\n      <td>-0.002350</td>\n    </tr>\n    <tr>\n      <th>IDEA.NS</th>\n      <td>-0.041270</td>\n      <td>-0.045455</td>\n      <td>0.041009</td>\n      <td>-0.012461</td>\n      <td>-0.006192</td>\n      <td>-0.003086</td>\n      <td>-0.055394</td>\n      <td>0.002924</td>\n      <td>0.017857</td>\n      <td>0.059937</td>\n      <td>...</td>\n      <td>-0.032859</td>\n      <td>-0.019334</td>\n      <td>-0.009575</td>\n      <td>0.004274</td>\n      <td>-0.015773</td>\n      <td>0.012780</td>\n      <td>-0.054857</td>\n      <td>-0.001508</td>\n      <td>-0.027370</td>\n      <td>0.011869</td>\n    </tr>\n    <tr>\n      <th>FRETAIL.NS</th>\n      <td>0.000000</td>\n      <td>0.000000</td>\n      <td>-0.041667</td>\n      <td>0.000000</td>\n      <td>0.000000</td>\n      <td>0.000000</td>\n      <td>0.000000</td>\n      <td>-0.040000</td>\n      <td>0.000000</td>\n      <td>0.000000</td>\n      <td>...</td>\n      <td>-0.055755</td>\n      <td>-0.027427</td>\n      <td>-0.000806</td>\n      <td>0.017774</td>\n      <td>-0.014286</td>\n      <td>-0.013560</td>\n      <td>-0.003709</td>\n      <td>0.050849</td>\n      <td>0.013638</td>\n      <td>0.002546</td>\n    </tr>\n    <tr>\n      <th>BLS.NS</th>\n      <td>0.014844</td>\n      <td>-0.010979</td>\n      <td>0.046773</td>\n      <td>0.016160</td>\n      <td>0.016565</td>\n      <td>0.001244</td>\n      <td>0.031656</td>\n      <td>0.042825</td>\n      <td>-0.004883</td>\n      <td>0.033966</td>\n      <td>...</td>\n      <td>-0.071616</td>\n      <td>0.053306</td>\n      <td>-0.056017</td>\n      <td>-0.045537</td>\n      <td>-0.067399</td>\n      <td>-0.011281</td>\n      <td>-0.007052</td>\n      <td>0.007524</td>\n      <td>0.025723</td>\n      <td>-0.005330</td>\n    </tr>\n    <tr>\n      <th>HDFCBANK.NS</th>\n      <td>-0.084358</td>\n      <td>0.003796</td>\n      <td>0.019254</td>\n      <td>-0.004730</td>\n      <td>-0.004197</td>\n      <td>0.003302</td>\n      <td>-0.007785</td>\n      <td>-0.011146</td>\n      <td>-0.005116</td>\n      <td>0.010730</td>\n      <td>...</td>\n      <td>-0.021671</td>\n      <td>-0.007254</td>\n      <td>0.005111</td>\n      <td>-0.002075</td>\n      <td>0.012507</td>\n      <td>0.008837</td>\n      <td>0.003254</td>\n      <td>-0.006137</td>\n      <td>0.005712</td>\n      <td>0.009254</td>\n    </tr>\n  </tbody>\n</table>\n<p>63 rows × 1479 columns</p>\n</div>"
     },
     "execution_count": 112,
     "metadata": {},
     "output_type": "execute_result"
    }
   ],
   "source": [
    "g_returns"
   ],
   "metadata": {
    "collapsed": false,
    "pycharm": {
     "name": "#%%\n"
    }
   }
  },
  {
   "cell_type": "code",
   "execution_count": 117,
   "outputs": [
    {
     "data": {
      "text/plain": "Date           2024-01-17  2024-01-16  2024-01-15  2024-01-12  2024-01-11  \\\nPAKKA.NS         0.133715    0.073352    0.000000   -0.012560    0.014225   \nQUICKHEAL.NS     0.047036    0.049097   -0.023604    0.012317    0.106583   \nRANEENGINE.NS    0.099925    0.099972   -0.006857   -0.001506    0.022686   \nBAJEL.NS         0.001537    0.058919    0.000000    0.061874    0.009773   \n\nDate           2024-01-10  2024-01-09  2024-01-08  2024-01-05  2024-01-04  \\\nPAKKA.NS        -0.010296    0.035916   -0.026489   -0.010899   -0.008726   \nQUICKHEAL.NS    -0.007977   -0.002966    0.006240   -0.012061    0.030378   \nRANEENGINE.NS    0.010757   -0.016428   -0.007462   -0.010392   -0.000410   \nBAJEL.NS        -0.079074   -0.001605    0.199846    0.127660    0.052559   \n\nDate           ...  2018-02-02  2018-02-01  2018-01-31  2018-01-30  \\\nPAKKA.NS       ...         NaN         NaN         NaN         NaN   \nQUICKHEAL.NS   ...   -0.073623   -0.002517   -0.014302   -0.032750   \nRANEENGINE.NS  ...   -0.035711    0.010385   -0.027557   -0.038667   \nBAJEL.NS       ...         NaN         NaN         NaN         NaN   \n\nDate           2018-01-29  2018-01-25  2018-01-24  2018-01-23  2018-01-22  \\\nPAKKA.NS              NaN         NaN         NaN         NaN         NaN   \nQUICKHEAL.NS    -0.023166   -0.001927   -0.003292    0.028644    0.006962   \nRANEENGINE.NS   -0.051280    0.000156   -0.031600    0.107224    0.025318   \nBAJEL.NS              NaN         NaN         NaN         NaN         NaN   \n\nDate           2018-01-19  \nPAKKA.NS              NaN  \nQUICKHEAL.NS     0.017493  \nRANEENGINE.NS   -0.049049  \nBAJEL.NS              NaN  \n\n[4 rows x 1479 columns]",
      "text/html": "<div>\n<style scoped>\n    .dataframe tbody tr th:only-of-type {\n        vertical-align: middle;\n    }\n\n    .dataframe tbody tr th {\n        vertical-align: top;\n    }\n\n    .dataframe thead th {\n        text-align: right;\n    }\n</style>\n<table border=\"1\" class=\"dataframe\">\n  <thead>\n    <tr style=\"text-align: right;\">\n      <th>Date</th>\n      <th>2024-01-17</th>\n      <th>2024-01-16</th>\n      <th>2024-01-15</th>\n      <th>2024-01-12</th>\n      <th>2024-01-11</th>\n      <th>2024-01-10</th>\n      <th>2024-01-09</th>\n      <th>2024-01-08</th>\n      <th>2024-01-05</th>\n      <th>2024-01-04</th>\n      <th>...</th>\n      <th>2018-02-02</th>\n      <th>2018-02-01</th>\n      <th>2018-01-31</th>\n      <th>2018-01-30</th>\n      <th>2018-01-29</th>\n      <th>2018-01-25</th>\n      <th>2018-01-24</th>\n      <th>2018-01-23</th>\n      <th>2018-01-22</th>\n      <th>2018-01-19</th>\n    </tr>\n  </thead>\n  <tbody>\n    <tr>\n      <th>PAKKA.NS</th>\n      <td>0.133715</td>\n      <td>0.073352</td>\n      <td>0.000000</td>\n      <td>-0.012560</td>\n      <td>0.014225</td>\n      <td>-0.010296</td>\n      <td>0.035916</td>\n      <td>-0.026489</td>\n      <td>-0.010899</td>\n      <td>-0.008726</td>\n      <td>...</td>\n      <td>NaN</td>\n      <td>NaN</td>\n      <td>NaN</td>\n      <td>NaN</td>\n      <td>NaN</td>\n      <td>NaN</td>\n      <td>NaN</td>\n      <td>NaN</td>\n      <td>NaN</td>\n      <td>NaN</td>\n    </tr>\n    <tr>\n      <th>QUICKHEAL.NS</th>\n      <td>0.047036</td>\n      <td>0.049097</td>\n      <td>-0.023604</td>\n      <td>0.012317</td>\n      <td>0.106583</td>\n      <td>-0.007977</td>\n      <td>-0.002966</td>\n      <td>0.006240</td>\n      <td>-0.012061</td>\n      <td>0.030378</td>\n      <td>...</td>\n      <td>-0.073623</td>\n      <td>-0.002517</td>\n      <td>-0.014302</td>\n      <td>-0.032750</td>\n      <td>-0.023166</td>\n      <td>-0.001927</td>\n      <td>-0.003292</td>\n      <td>0.028644</td>\n      <td>0.006962</td>\n      <td>0.017493</td>\n    </tr>\n    <tr>\n      <th>RANEENGINE.NS</th>\n      <td>0.099925</td>\n      <td>0.099972</td>\n      <td>-0.006857</td>\n      <td>-0.001506</td>\n      <td>0.022686</td>\n      <td>0.010757</td>\n      <td>-0.016428</td>\n      <td>-0.007462</td>\n      <td>-0.010392</td>\n      <td>-0.000410</td>\n      <td>...</td>\n      <td>-0.035711</td>\n      <td>0.010385</td>\n      <td>-0.027557</td>\n      <td>-0.038667</td>\n      <td>-0.051280</td>\n      <td>0.000156</td>\n      <td>-0.031600</td>\n      <td>0.107224</td>\n      <td>0.025318</td>\n      <td>-0.049049</td>\n    </tr>\n    <tr>\n      <th>BAJEL.NS</th>\n      <td>0.001537</td>\n      <td>0.058919</td>\n      <td>0.000000</td>\n      <td>0.061874</td>\n      <td>0.009773</td>\n      <td>-0.079074</td>\n      <td>-0.001605</td>\n      <td>0.199846</td>\n      <td>0.127660</td>\n      <td>0.052559</td>\n      <td>...</td>\n      <td>NaN</td>\n      <td>NaN</td>\n      <td>NaN</td>\n      <td>NaN</td>\n      <td>NaN</td>\n      <td>NaN</td>\n      <td>NaN</td>\n      <td>NaN</td>\n      <td>NaN</td>\n      <td>NaN</td>\n    </tr>\n  </tbody>\n</table>\n<p>4 rows × 1479 columns</p>\n</div>"
     },
     "execution_count": 117,
     "metadata": {},
     "output_type": "execute_result"
    }
   ],
   "source": [
    "g_returns[(g_returns[\"2024-01-17\"]>0) & (g_returns[\"2024-01-16\"]>0)]"
   ],
   "metadata": {
    "collapsed": false,
    "pycharm": {
     "name": "#%%\n"
    }
   }
  },
  {
   "cell_type": "code",
   "execution_count": 119,
   "outputs": [],
   "source": [
    "g_returns=g_returns*100\n",
    "g_returns=g_returns.round(2)"
   ],
   "metadata": {
    "collapsed": false,
    "pycharm": {
     "name": "#%%\n"
    }
   }
  },
  {
   "cell_type": "code",
   "execution_count": 120,
   "outputs": [
    {
     "data": {
      "text/plain": "Date         2024-01-17  2024-01-16  2024-01-15  2024-01-12  2024-01-11  \\\nOFSS.NS            3.53       -3.11        8.89        7.62       -0.16   \nTARMAT.NS         -0.05       -0.38        0.44       -1.35       -0.70   \nAJMERA.NS         -0.38       -0.89        0.47        0.80        6.75   \nCAREERP.NS         0.88       -3.15       -0.25        1.47       -1.99   \nINDOTHAI.NS       20.00       -3.66        5.51        3.19       -1.42   \n...                 ...         ...         ...         ...         ...   \nTRIDENT.NS        -2.74       -2.04       -2.11        3.37       -1.92   \nIDEA.NS           -4.13       -4.55        4.10       -1.25       -0.62   \nFRETAIL.NS         0.00        0.00       -4.17        0.00        0.00   \nBLS.NS             1.48       -1.10        4.68        1.62        1.66   \nHDFCBANK.NS       -8.44        0.38        1.93       -0.47       -0.42   \n\nDate         2024-01-10  2024-01-09  2024-01-08  2024-01-05  2024-01-04  ...  \\\nOFSS.NS           -0.34       -0.06       -2.38        2.77        0.01  ...   \nTARMAT.NS         -1.43        0.96       -2.40       -1.69        4.05  ...   \nAJMERA.NS          0.54       -0.03        2.46       -0.68        4.45  ...   \nCAREERP.NS         1.70        7.01       10.97        1.19        2.68  ...   \nINDOTHAI.NS       -0.34        0.83       -0.40       -1.59       -1.61  ...   \n...                 ...         ...         ...         ...         ...  ...   \nTRIDENT.NS        -5.64        3.01       17.85        6.79        1.06  ...   \nIDEA.NS           -0.31       -5.54        0.29        1.79        5.99  ...   \nFRETAIL.NS         0.00        0.00       -4.00        0.00        0.00  ...   \nBLS.NS             0.12        3.17        4.28       -0.49        3.40  ...   \nHDFCBANK.NS        0.33       -0.78       -1.11       -0.51        1.07  ...   \n\nDate         2018-02-02  2018-02-01  2018-01-31  2018-01-30  2018-01-29  \\\nOFSS.NS           -0.36        0.60        1.49       -2.02       -0.58   \nTARMAT.NS         -8.69        4.58        1.63       -7.60        9.25   \nAJMERA.NS         -8.22        4.60        0.00       -2.22        1.29   \nCAREERP.NS        -4.86        0.49        0.74       -2.87       -2.75   \nINDOTHAI.NS      -13.00       -2.09        2.73       -2.44       -4.75   \n...                 ...         ...         ...         ...         ...   \nTRIDENT.NS        -5.10       -1.65        0.38       -2.79       -4.95   \nIDEA.NS           -3.29       -1.93       -0.96        0.43       -1.58   \nFRETAIL.NS        -5.58       -2.74       -0.08        1.78       -1.43   \nBLS.NS            -7.16        5.33       -5.60       -4.55       -6.74   \nHDFCBANK.NS       -2.17       -0.73        0.51       -0.21        1.25   \n\nDate         2018-01-25  2018-01-24  2018-01-23  2018-01-22  2018-01-19  \nOFSS.NS           -1.32        0.98        0.90        2.78        1.67  \nTARMAT.NS         -1.92       -1.36        0.38       -1.72       -1.18  \nAJMERA.NS         -1.07        0.60        1.45       -0.21        0.00  \nCAREERP.NS         2.30       -3.88       -1.87       -1.44        2.57  \nINDOTHAI.NS        4.16       -4.92       -5.98       -1.92       -7.86  \n...                 ...         ...         ...         ...         ...  \nTRIDENT.NS        -0.59       -2.74        0.29        3.06       -0.24  \nIDEA.NS            1.28       -5.49       -0.15       -2.74        1.19  \nFRETAIL.NS        -1.36       -0.37        5.08        1.36        0.25  \nBLS.NS            -1.13       -0.71        0.75        2.57       -0.53  \nHDFCBANK.NS        0.88        0.33       -0.61        0.57        0.93  \n\n[63 rows x 1479 columns]",
      "text/html": "<div>\n<style scoped>\n    .dataframe tbody tr th:only-of-type {\n        vertical-align: middle;\n    }\n\n    .dataframe tbody tr th {\n        vertical-align: top;\n    }\n\n    .dataframe thead th {\n        text-align: right;\n    }\n</style>\n<table border=\"1\" class=\"dataframe\">\n  <thead>\n    <tr style=\"text-align: right;\">\n      <th>Date</th>\n      <th>2024-01-17</th>\n      <th>2024-01-16</th>\n      <th>2024-01-15</th>\n      <th>2024-01-12</th>\n      <th>2024-01-11</th>\n      <th>2024-01-10</th>\n      <th>2024-01-09</th>\n      <th>2024-01-08</th>\n      <th>2024-01-05</th>\n      <th>2024-01-04</th>\n      <th>...</th>\n      <th>2018-02-02</th>\n      <th>2018-02-01</th>\n      <th>2018-01-31</th>\n      <th>2018-01-30</th>\n      <th>2018-01-29</th>\n      <th>2018-01-25</th>\n      <th>2018-01-24</th>\n      <th>2018-01-23</th>\n      <th>2018-01-22</th>\n      <th>2018-01-19</th>\n    </tr>\n  </thead>\n  <tbody>\n    <tr>\n      <th>OFSS.NS</th>\n      <td>3.53</td>\n      <td>-3.11</td>\n      <td>8.89</td>\n      <td>7.62</td>\n      <td>-0.16</td>\n      <td>-0.34</td>\n      <td>-0.06</td>\n      <td>-2.38</td>\n      <td>2.77</td>\n      <td>0.01</td>\n      <td>...</td>\n      <td>-0.36</td>\n      <td>0.60</td>\n      <td>1.49</td>\n      <td>-2.02</td>\n      <td>-0.58</td>\n      <td>-1.32</td>\n      <td>0.98</td>\n      <td>0.90</td>\n      <td>2.78</td>\n      <td>1.67</td>\n    </tr>\n    <tr>\n      <th>TARMAT.NS</th>\n      <td>-0.05</td>\n      <td>-0.38</td>\n      <td>0.44</td>\n      <td>-1.35</td>\n      <td>-0.70</td>\n      <td>-1.43</td>\n      <td>0.96</td>\n      <td>-2.40</td>\n      <td>-1.69</td>\n      <td>4.05</td>\n      <td>...</td>\n      <td>-8.69</td>\n      <td>4.58</td>\n      <td>1.63</td>\n      <td>-7.60</td>\n      <td>9.25</td>\n      <td>-1.92</td>\n      <td>-1.36</td>\n      <td>0.38</td>\n      <td>-1.72</td>\n      <td>-1.18</td>\n    </tr>\n    <tr>\n      <th>AJMERA.NS</th>\n      <td>-0.38</td>\n      <td>-0.89</td>\n      <td>0.47</td>\n      <td>0.80</td>\n      <td>6.75</td>\n      <td>0.54</td>\n      <td>-0.03</td>\n      <td>2.46</td>\n      <td>-0.68</td>\n      <td>4.45</td>\n      <td>...</td>\n      <td>-8.22</td>\n      <td>4.60</td>\n      <td>0.00</td>\n      <td>-2.22</td>\n      <td>1.29</td>\n      <td>-1.07</td>\n      <td>0.60</td>\n      <td>1.45</td>\n      <td>-0.21</td>\n      <td>0.00</td>\n    </tr>\n    <tr>\n      <th>CAREERP.NS</th>\n      <td>0.88</td>\n      <td>-3.15</td>\n      <td>-0.25</td>\n      <td>1.47</td>\n      <td>-1.99</td>\n      <td>1.70</td>\n      <td>7.01</td>\n      <td>10.97</td>\n      <td>1.19</td>\n      <td>2.68</td>\n      <td>...</td>\n      <td>-4.86</td>\n      <td>0.49</td>\n      <td>0.74</td>\n      <td>-2.87</td>\n      <td>-2.75</td>\n      <td>2.30</td>\n      <td>-3.88</td>\n      <td>-1.87</td>\n      <td>-1.44</td>\n      <td>2.57</td>\n    </tr>\n    <tr>\n      <th>INDOTHAI.NS</th>\n      <td>20.00</td>\n      <td>-3.66</td>\n      <td>5.51</td>\n      <td>3.19</td>\n      <td>-1.42</td>\n      <td>-0.34</td>\n      <td>0.83</td>\n      <td>-0.40</td>\n      <td>-1.59</td>\n      <td>-1.61</td>\n      <td>...</td>\n      <td>-13.00</td>\n      <td>-2.09</td>\n      <td>2.73</td>\n      <td>-2.44</td>\n      <td>-4.75</td>\n      <td>4.16</td>\n      <td>-4.92</td>\n      <td>-5.98</td>\n      <td>-1.92</td>\n      <td>-7.86</td>\n    </tr>\n    <tr>\n      <th>...</th>\n      <td>...</td>\n      <td>...</td>\n      <td>...</td>\n      <td>...</td>\n      <td>...</td>\n      <td>...</td>\n      <td>...</td>\n      <td>...</td>\n      <td>...</td>\n      <td>...</td>\n      <td>...</td>\n      <td>...</td>\n      <td>...</td>\n      <td>...</td>\n      <td>...</td>\n      <td>...</td>\n      <td>...</td>\n      <td>...</td>\n      <td>...</td>\n      <td>...</td>\n      <td>...</td>\n    </tr>\n    <tr>\n      <th>TRIDENT.NS</th>\n      <td>-2.74</td>\n      <td>-2.04</td>\n      <td>-2.11</td>\n      <td>3.37</td>\n      <td>-1.92</td>\n      <td>-5.64</td>\n      <td>3.01</td>\n      <td>17.85</td>\n      <td>6.79</td>\n      <td>1.06</td>\n      <td>...</td>\n      <td>-5.10</td>\n      <td>-1.65</td>\n      <td>0.38</td>\n      <td>-2.79</td>\n      <td>-4.95</td>\n      <td>-0.59</td>\n      <td>-2.74</td>\n      <td>0.29</td>\n      <td>3.06</td>\n      <td>-0.24</td>\n    </tr>\n    <tr>\n      <th>IDEA.NS</th>\n      <td>-4.13</td>\n      <td>-4.55</td>\n      <td>4.10</td>\n      <td>-1.25</td>\n      <td>-0.62</td>\n      <td>-0.31</td>\n      <td>-5.54</td>\n      <td>0.29</td>\n      <td>1.79</td>\n      <td>5.99</td>\n      <td>...</td>\n      <td>-3.29</td>\n      <td>-1.93</td>\n      <td>-0.96</td>\n      <td>0.43</td>\n      <td>-1.58</td>\n      <td>1.28</td>\n      <td>-5.49</td>\n      <td>-0.15</td>\n      <td>-2.74</td>\n      <td>1.19</td>\n    </tr>\n    <tr>\n      <th>FRETAIL.NS</th>\n      <td>0.00</td>\n      <td>0.00</td>\n      <td>-4.17</td>\n      <td>0.00</td>\n      <td>0.00</td>\n      <td>0.00</td>\n      <td>0.00</td>\n      <td>-4.00</td>\n      <td>0.00</td>\n      <td>0.00</td>\n      <td>...</td>\n      <td>-5.58</td>\n      <td>-2.74</td>\n      <td>-0.08</td>\n      <td>1.78</td>\n      <td>-1.43</td>\n      <td>-1.36</td>\n      <td>-0.37</td>\n      <td>5.08</td>\n      <td>1.36</td>\n      <td>0.25</td>\n    </tr>\n    <tr>\n      <th>BLS.NS</th>\n      <td>1.48</td>\n      <td>-1.10</td>\n      <td>4.68</td>\n      <td>1.62</td>\n      <td>1.66</td>\n      <td>0.12</td>\n      <td>3.17</td>\n      <td>4.28</td>\n      <td>-0.49</td>\n      <td>3.40</td>\n      <td>...</td>\n      <td>-7.16</td>\n      <td>5.33</td>\n      <td>-5.60</td>\n      <td>-4.55</td>\n      <td>-6.74</td>\n      <td>-1.13</td>\n      <td>-0.71</td>\n      <td>0.75</td>\n      <td>2.57</td>\n      <td>-0.53</td>\n    </tr>\n    <tr>\n      <th>HDFCBANK.NS</th>\n      <td>-8.44</td>\n      <td>0.38</td>\n      <td>1.93</td>\n      <td>-0.47</td>\n      <td>-0.42</td>\n      <td>0.33</td>\n      <td>-0.78</td>\n      <td>-1.11</td>\n      <td>-0.51</td>\n      <td>1.07</td>\n      <td>...</td>\n      <td>-2.17</td>\n      <td>-0.73</td>\n      <td>0.51</td>\n      <td>-0.21</td>\n      <td>1.25</td>\n      <td>0.88</td>\n      <td>0.33</td>\n      <td>-0.61</td>\n      <td>0.57</td>\n      <td>0.93</td>\n    </tr>\n  </tbody>\n</table>\n<p>63 rows × 1479 columns</p>\n</div>"
     },
     "execution_count": 120,
     "metadata": {},
     "output_type": "execute_result"
    }
   ],
   "source": [
    "g_returns"
   ],
   "metadata": {
    "collapsed": false,
    "pycharm": {
     "name": "#%%\n"
    }
   }
  },
  {
   "cell_type": "code",
   "execution_count": 121,
   "outputs": [
    {
     "data": {
      "text/plain": "Date           2024-01-17  2024-01-16  2024-01-15  2024-01-12  2024-01-11  \\\nPAKKA.NS            13.37        7.34        0.00       -1.26        1.42   \nQUICKHEAL.NS         4.70        4.91       -2.36        1.23       10.66   \nRANEENGINE.NS        9.99       10.00       -0.69       -0.15        2.27   \nBAJEL.NS             0.15        5.89        0.00        6.19        0.98   \n\nDate           2024-01-10  2024-01-09  2024-01-08  2024-01-05  2024-01-04  \\\nPAKKA.NS            -1.03        3.59       -2.65       -1.09       -0.87   \nQUICKHEAL.NS        -0.80       -0.30        0.62       -1.21        3.04   \nRANEENGINE.NS        1.08       -1.64       -0.75       -1.04       -0.04   \nBAJEL.NS            -7.91       -0.16       19.98       12.77        5.26   \n\nDate           ...  2018-02-02  2018-02-01  2018-01-31  2018-01-30  \\\nPAKKA.NS       ...         NaN         NaN         NaN         NaN   \nQUICKHEAL.NS   ...       -7.36       -0.25       -1.43       -3.27   \nRANEENGINE.NS  ...       -3.57        1.04       -2.76       -3.87   \nBAJEL.NS       ...         NaN         NaN         NaN         NaN   \n\nDate           2018-01-29  2018-01-25  2018-01-24  2018-01-23  2018-01-22  \\\nPAKKA.NS              NaN         NaN         NaN         NaN         NaN   \nQUICKHEAL.NS        -2.32       -0.19       -0.33        2.86        0.70   \nRANEENGINE.NS       -5.13        0.02       -3.16       10.72        2.53   \nBAJEL.NS              NaN         NaN         NaN         NaN         NaN   \n\nDate           2018-01-19  \nPAKKA.NS              NaN  \nQUICKHEAL.NS         1.75  \nRANEENGINE.NS       -4.90  \nBAJEL.NS              NaN  \n\n[4 rows x 1479 columns]",
      "text/html": "<div>\n<style scoped>\n    .dataframe tbody tr th:only-of-type {\n        vertical-align: middle;\n    }\n\n    .dataframe tbody tr th {\n        vertical-align: top;\n    }\n\n    .dataframe thead th {\n        text-align: right;\n    }\n</style>\n<table border=\"1\" class=\"dataframe\">\n  <thead>\n    <tr style=\"text-align: right;\">\n      <th>Date</th>\n      <th>2024-01-17</th>\n      <th>2024-01-16</th>\n      <th>2024-01-15</th>\n      <th>2024-01-12</th>\n      <th>2024-01-11</th>\n      <th>2024-01-10</th>\n      <th>2024-01-09</th>\n      <th>2024-01-08</th>\n      <th>2024-01-05</th>\n      <th>2024-01-04</th>\n      <th>...</th>\n      <th>2018-02-02</th>\n      <th>2018-02-01</th>\n      <th>2018-01-31</th>\n      <th>2018-01-30</th>\n      <th>2018-01-29</th>\n      <th>2018-01-25</th>\n      <th>2018-01-24</th>\n      <th>2018-01-23</th>\n      <th>2018-01-22</th>\n      <th>2018-01-19</th>\n    </tr>\n  </thead>\n  <tbody>\n    <tr>\n      <th>PAKKA.NS</th>\n      <td>13.37</td>\n      <td>7.34</td>\n      <td>0.00</td>\n      <td>-1.26</td>\n      <td>1.42</td>\n      <td>-1.03</td>\n      <td>3.59</td>\n      <td>-2.65</td>\n      <td>-1.09</td>\n      <td>-0.87</td>\n      <td>...</td>\n      <td>NaN</td>\n      <td>NaN</td>\n      <td>NaN</td>\n      <td>NaN</td>\n      <td>NaN</td>\n      <td>NaN</td>\n      <td>NaN</td>\n      <td>NaN</td>\n      <td>NaN</td>\n      <td>NaN</td>\n    </tr>\n    <tr>\n      <th>QUICKHEAL.NS</th>\n      <td>4.70</td>\n      <td>4.91</td>\n      <td>-2.36</td>\n      <td>1.23</td>\n      <td>10.66</td>\n      <td>-0.80</td>\n      <td>-0.30</td>\n      <td>0.62</td>\n      <td>-1.21</td>\n      <td>3.04</td>\n      <td>...</td>\n      <td>-7.36</td>\n      <td>-0.25</td>\n      <td>-1.43</td>\n      <td>-3.27</td>\n      <td>-2.32</td>\n      <td>-0.19</td>\n      <td>-0.33</td>\n      <td>2.86</td>\n      <td>0.70</td>\n      <td>1.75</td>\n    </tr>\n    <tr>\n      <th>RANEENGINE.NS</th>\n      <td>9.99</td>\n      <td>10.00</td>\n      <td>-0.69</td>\n      <td>-0.15</td>\n      <td>2.27</td>\n      <td>1.08</td>\n      <td>-1.64</td>\n      <td>-0.75</td>\n      <td>-1.04</td>\n      <td>-0.04</td>\n      <td>...</td>\n      <td>-3.57</td>\n      <td>1.04</td>\n      <td>-2.76</td>\n      <td>-3.87</td>\n      <td>-5.13</td>\n      <td>0.02</td>\n      <td>-3.16</td>\n      <td>10.72</td>\n      <td>2.53</td>\n      <td>-4.90</td>\n    </tr>\n    <tr>\n      <th>BAJEL.NS</th>\n      <td>0.15</td>\n      <td>5.89</td>\n      <td>0.00</td>\n      <td>6.19</td>\n      <td>0.98</td>\n      <td>-7.91</td>\n      <td>-0.16</td>\n      <td>19.98</td>\n      <td>12.77</td>\n      <td>5.26</td>\n      <td>...</td>\n      <td>NaN</td>\n      <td>NaN</td>\n      <td>NaN</td>\n      <td>NaN</td>\n      <td>NaN</td>\n      <td>NaN</td>\n      <td>NaN</td>\n      <td>NaN</td>\n      <td>NaN</td>\n      <td>NaN</td>\n    </tr>\n  </tbody>\n</table>\n<p>4 rows × 1479 columns</p>\n</div>"
     },
     "execution_count": 121,
     "metadata": {},
     "output_type": "execute_result"
    }
   ],
   "source": [
    "g_returns[(g_returns[\"2024-01-17\"]>0) & (g_returns[\"2024-01-16\"]>0)]"
   ],
   "metadata": {
    "collapsed": false,
    "pycharm": {
     "name": "#%%\n"
    }
   }
  },
  {
   "cell_type": "code",
   "execution_count": 123,
   "outputs": [],
   "source": [
    "da=g_returns[(g_returns[\"2024-01-17\"]>0)]"
   ],
   "metadata": {
    "collapsed": false,
    "pycharm": {
     "name": "#%%\n"
    }
   }
  },
  {
   "cell_type": "code",
   "execution_count": 124,
   "outputs": [
    {
     "data": {
      "text/plain": "Date           2024-01-17  2024-01-16  2024-01-15  2024-01-12  2024-01-11  \\\nOFSS.NS              3.53       -3.11        8.89        7.62       -0.16   \nCAREERP.NS           0.88       -3.15       -0.25        1.47       -1.99   \nINDOTHAI.NS         20.00       -3.66        5.51        3.19       -1.42   \nPAKKA.NS            13.37        7.34        0.00       -1.26        1.42   \nCREST.NS             2.49       -1.08        3.38       -1.12        0.88   \nQUICKHEAL.NS         4.70        4.91       -2.36        1.23       10.66   \nISFT.NS              8.86       -3.12       -1.73        7.90        6.11   \nKAMDHENU.NS          1.78       -3.13       -0.37        5.32        2.37   \nVERTOZ.NS            9.99       -1.70        9.99       -2.72       -3.10   \nRANEENGINE.NS        9.99       10.00       -0.69       -0.15        2.27   \nVAIBHAVGBL.NS        5.07       -2.28        1.70        5.55        2.92   \nGILLANDERS.NS        5.65       -2.65        9.98        2.92       -0.91   \nBAJEL.NS             0.15        5.89        0.00        6.19        0.98   \nAURUM.NS            10.39       -7.00        0.00        3.86       -1.40   \nMUNJALSHOW.NS        5.46       -3.44        0.94       -2.76        2.19   \nBLS.NS               1.48       -1.10        4.68        1.62        1.66   \n\nDate           2024-01-10  2024-01-09  2024-01-08  2024-01-05  2024-01-04  \\\nOFSS.NS             -0.34       -0.06       -2.38        2.77        0.01   \nCAREERP.NS           1.70        7.01       10.97        1.19        2.68   \nINDOTHAI.NS         -0.34        0.83       -0.40       -1.59       -1.61   \nPAKKA.NS            -1.03        3.59       -2.65       -1.09       -0.87   \nCREST.NS            -0.50        0.64       -4.19        2.21        1.53   \nQUICKHEAL.NS        -0.80       -0.30        0.62       -1.21        3.04   \nISFT.NS              0.17       -0.29       -0.29        1.38        0.42   \nKAMDHENU.NS          6.12       16.82        0.51       -0.13        1.67   \nVERTOZ.NS            0.87        4.27       19.90        4.99        2.32   \nRANEENGINE.NS        1.08       -1.64       -0.75       -1.04       -0.04   \nVAIBHAVGBL.NS       -0.51       -2.63       -0.81       -1.21       -3.15   \nGILLANDERS.NS       -2.48        3.21        3.69        0.00       -1.24   \nBAJEL.NS            -7.91       -0.16       19.98       12.77        5.26   \nAURUM.NS             8.54       -5.31       18.73        0.23        1.02   \nMUNJALSHOW.NS       12.24        3.92       -1.31       -0.17       -0.62   \nBLS.NS               0.12        3.17        4.28       -0.49        3.40   \n\nDate           ...  2018-02-02  2018-02-01  2018-01-31  2018-01-30  \\\nOFSS.NS        ...       -0.36        0.60        1.49       -2.02   \nCAREERP.NS     ...       -4.86        0.49        0.74       -2.87   \nINDOTHAI.NS    ...      -13.00       -2.09        2.73       -2.44   \nPAKKA.NS       ...         NaN         NaN         NaN         NaN   \nCREST.NS       ...       -7.77        2.59        2.35       -2.48   \nQUICKHEAL.NS   ...       -7.36       -0.25       -1.43       -3.27   \nISFT.NS        ...       -3.62       -0.71       -0.38       -3.08   \nKAMDHENU.NS    ...       -4.98        0.02       -0.68        0.56   \nVERTOZ.NS      ...       -4.88       -4.27       -0.99       -4.99   \nRANEENGINE.NS  ...       -3.57        1.04       -2.76       -3.87   \nVAIBHAVGBL.NS  ...       -6.05       -0.55       -3.02       -3.88   \nGILLANDERS.NS  ...        0.34       -3.83        3.49       -3.31   \nBAJEL.NS       ...         NaN         NaN         NaN         NaN   \nAURUM.NS       ...       -6.85       -0.03       -2.21       -2.58   \nMUNJALSHOW.NS  ...       -5.57       -5.71       -1.86        0.73   \nBLS.NS         ...       -7.16        5.33       -5.60       -4.55   \n\nDate           2018-01-29  2018-01-25  2018-01-24  2018-01-23  2018-01-22  \\\nOFSS.NS             -0.58       -1.32        0.98        0.90        2.78   \nCAREERP.NS          -2.75        2.30       -3.88       -1.87       -1.44   \nINDOTHAI.NS         -4.75        4.16       -4.92       -5.98       -1.92   \nPAKKA.NS              NaN         NaN         NaN         NaN         NaN   \nCREST.NS            -1.31       -2.93       -1.73       -3.23        6.78   \nQUICKHEAL.NS        -2.32       -0.19       -0.33        2.86        0.70   \nISFT.NS             -0.45       -3.09        3.97        0.46       -0.15   \nKAMDHENU.NS         -0.64       -1.39       -2.87        0.50        1.41   \nVERTOZ.NS           -0.31        0.00        0.00        2.27        0.00   \nRANEENGINE.NS       -5.13        0.02       -3.16       10.72        2.53   \nVAIBHAVGBL.NS        4.77        1.93       -0.32        2.28        3.08   \nGILLANDERS.NS        0.07        1.18       -3.43       -0.51        1.35   \nBAJEL.NS              NaN         NaN         NaN         NaN         NaN   \nAURUM.NS             1.02       -2.50        2.41        1.36        4.88   \nMUNJALSHOW.NS       -1.70       -0.04       -1.72       -0.07        0.51   \nBLS.NS              -6.74       -1.13       -0.71        0.75        2.57   \n\nDate           2018-01-19  \nOFSS.NS              1.67  \nCAREERP.NS           2.57  \nINDOTHAI.NS         -7.86  \nPAKKA.NS              NaN  \nCREST.NS            -0.52  \nQUICKHEAL.NS         1.75  \nISFT.NS              0.29  \nKAMDHENU.NS          1.33  \nVERTOZ.NS           -3.87  \nRANEENGINE.NS       -4.90  \nVAIBHAVGBL.NS       -3.30  \nGILLANDERS.NS        1.36  \nBAJEL.NS              NaN  \nAURUM.NS             3.59  \nMUNJALSHOW.NS        0.66  \nBLS.NS              -0.53  \n\n[16 rows x 1479 columns]",
      "text/html": "<div>\n<style scoped>\n    .dataframe tbody tr th:only-of-type {\n        vertical-align: middle;\n    }\n\n    .dataframe tbody tr th {\n        vertical-align: top;\n    }\n\n    .dataframe thead th {\n        text-align: right;\n    }\n</style>\n<table border=\"1\" class=\"dataframe\">\n  <thead>\n    <tr style=\"text-align: right;\">\n      <th>Date</th>\n      <th>2024-01-17</th>\n      <th>2024-01-16</th>\n      <th>2024-01-15</th>\n      <th>2024-01-12</th>\n      <th>2024-01-11</th>\n      <th>2024-01-10</th>\n      <th>2024-01-09</th>\n      <th>2024-01-08</th>\n      <th>2024-01-05</th>\n      <th>2024-01-04</th>\n      <th>...</th>\n      <th>2018-02-02</th>\n      <th>2018-02-01</th>\n      <th>2018-01-31</th>\n      <th>2018-01-30</th>\n      <th>2018-01-29</th>\n      <th>2018-01-25</th>\n      <th>2018-01-24</th>\n      <th>2018-01-23</th>\n      <th>2018-01-22</th>\n      <th>2018-01-19</th>\n    </tr>\n  </thead>\n  <tbody>\n    <tr>\n      <th>OFSS.NS</th>\n      <td>3.53</td>\n      <td>-3.11</td>\n      <td>8.89</td>\n      <td>7.62</td>\n      <td>-0.16</td>\n      <td>-0.34</td>\n      <td>-0.06</td>\n      <td>-2.38</td>\n      <td>2.77</td>\n      <td>0.01</td>\n      <td>...</td>\n      <td>-0.36</td>\n      <td>0.60</td>\n      <td>1.49</td>\n      <td>-2.02</td>\n      <td>-0.58</td>\n      <td>-1.32</td>\n      <td>0.98</td>\n      <td>0.90</td>\n      <td>2.78</td>\n      <td>1.67</td>\n    </tr>\n    <tr>\n      <th>CAREERP.NS</th>\n      <td>0.88</td>\n      <td>-3.15</td>\n      <td>-0.25</td>\n      <td>1.47</td>\n      <td>-1.99</td>\n      <td>1.70</td>\n      <td>7.01</td>\n      <td>10.97</td>\n      <td>1.19</td>\n      <td>2.68</td>\n      <td>...</td>\n      <td>-4.86</td>\n      <td>0.49</td>\n      <td>0.74</td>\n      <td>-2.87</td>\n      <td>-2.75</td>\n      <td>2.30</td>\n      <td>-3.88</td>\n      <td>-1.87</td>\n      <td>-1.44</td>\n      <td>2.57</td>\n    </tr>\n    <tr>\n      <th>INDOTHAI.NS</th>\n      <td>20.00</td>\n      <td>-3.66</td>\n      <td>5.51</td>\n      <td>3.19</td>\n      <td>-1.42</td>\n      <td>-0.34</td>\n      <td>0.83</td>\n      <td>-0.40</td>\n      <td>-1.59</td>\n      <td>-1.61</td>\n      <td>...</td>\n      <td>-13.00</td>\n      <td>-2.09</td>\n      <td>2.73</td>\n      <td>-2.44</td>\n      <td>-4.75</td>\n      <td>4.16</td>\n      <td>-4.92</td>\n      <td>-5.98</td>\n      <td>-1.92</td>\n      <td>-7.86</td>\n    </tr>\n    <tr>\n      <th>PAKKA.NS</th>\n      <td>13.37</td>\n      <td>7.34</td>\n      <td>0.00</td>\n      <td>-1.26</td>\n      <td>1.42</td>\n      <td>-1.03</td>\n      <td>3.59</td>\n      <td>-2.65</td>\n      <td>-1.09</td>\n      <td>-0.87</td>\n      <td>...</td>\n      <td>NaN</td>\n      <td>NaN</td>\n      <td>NaN</td>\n      <td>NaN</td>\n      <td>NaN</td>\n      <td>NaN</td>\n      <td>NaN</td>\n      <td>NaN</td>\n      <td>NaN</td>\n      <td>NaN</td>\n    </tr>\n    <tr>\n      <th>CREST.NS</th>\n      <td>2.49</td>\n      <td>-1.08</td>\n      <td>3.38</td>\n      <td>-1.12</td>\n      <td>0.88</td>\n      <td>-0.50</td>\n      <td>0.64</td>\n      <td>-4.19</td>\n      <td>2.21</td>\n      <td>1.53</td>\n      <td>...</td>\n      <td>-7.77</td>\n      <td>2.59</td>\n      <td>2.35</td>\n      <td>-2.48</td>\n      <td>-1.31</td>\n      <td>-2.93</td>\n      <td>-1.73</td>\n      <td>-3.23</td>\n      <td>6.78</td>\n      <td>-0.52</td>\n    </tr>\n    <tr>\n      <th>QUICKHEAL.NS</th>\n      <td>4.70</td>\n      <td>4.91</td>\n      <td>-2.36</td>\n      <td>1.23</td>\n      <td>10.66</td>\n      <td>-0.80</td>\n      <td>-0.30</td>\n      <td>0.62</td>\n      <td>-1.21</td>\n      <td>3.04</td>\n      <td>...</td>\n      <td>-7.36</td>\n      <td>-0.25</td>\n      <td>-1.43</td>\n      <td>-3.27</td>\n      <td>-2.32</td>\n      <td>-0.19</td>\n      <td>-0.33</td>\n      <td>2.86</td>\n      <td>0.70</td>\n      <td>1.75</td>\n    </tr>\n    <tr>\n      <th>ISFT.NS</th>\n      <td>8.86</td>\n      <td>-3.12</td>\n      <td>-1.73</td>\n      <td>7.90</td>\n      <td>6.11</td>\n      <td>0.17</td>\n      <td>-0.29</td>\n      <td>-0.29</td>\n      <td>1.38</td>\n      <td>0.42</td>\n      <td>...</td>\n      <td>-3.62</td>\n      <td>-0.71</td>\n      <td>-0.38</td>\n      <td>-3.08</td>\n      <td>-0.45</td>\n      <td>-3.09</td>\n      <td>3.97</td>\n      <td>0.46</td>\n      <td>-0.15</td>\n      <td>0.29</td>\n    </tr>\n    <tr>\n      <th>KAMDHENU.NS</th>\n      <td>1.78</td>\n      <td>-3.13</td>\n      <td>-0.37</td>\n      <td>5.32</td>\n      <td>2.37</td>\n      <td>6.12</td>\n      <td>16.82</td>\n      <td>0.51</td>\n      <td>-0.13</td>\n      <td>1.67</td>\n      <td>...</td>\n      <td>-4.98</td>\n      <td>0.02</td>\n      <td>-0.68</td>\n      <td>0.56</td>\n      <td>-0.64</td>\n      <td>-1.39</td>\n      <td>-2.87</td>\n      <td>0.50</td>\n      <td>1.41</td>\n      <td>1.33</td>\n    </tr>\n    <tr>\n      <th>VERTOZ.NS</th>\n      <td>9.99</td>\n      <td>-1.70</td>\n      <td>9.99</td>\n      <td>-2.72</td>\n      <td>-3.10</td>\n      <td>0.87</td>\n      <td>4.27</td>\n      <td>19.90</td>\n      <td>4.99</td>\n      <td>2.32</td>\n      <td>...</td>\n      <td>-4.88</td>\n      <td>-4.27</td>\n      <td>-0.99</td>\n      <td>-4.99</td>\n      <td>-0.31</td>\n      <td>0.00</td>\n      <td>0.00</td>\n      <td>2.27</td>\n      <td>0.00</td>\n      <td>-3.87</td>\n    </tr>\n    <tr>\n      <th>RANEENGINE.NS</th>\n      <td>9.99</td>\n      <td>10.00</td>\n      <td>-0.69</td>\n      <td>-0.15</td>\n      <td>2.27</td>\n      <td>1.08</td>\n      <td>-1.64</td>\n      <td>-0.75</td>\n      <td>-1.04</td>\n      <td>-0.04</td>\n      <td>...</td>\n      <td>-3.57</td>\n      <td>1.04</td>\n      <td>-2.76</td>\n      <td>-3.87</td>\n      <td>-5.13</td>\n      <td>0.02</td>\n      <td>-3.16</td>\n      <td>10.72</td>\n      <td>2.53</td>\n      <td>-4.90</td>\n    </tr>\n    <tr>\n      <th>VAIBHAVGBL.NS</th>\n      <td>5.07</td>\n      <td>-2.28</td>\n      <td>1.70</td>\n      <td>5.55</td>\n      <td>2.92</td>\n      <td>-0.51</td>\n      <td>-2.63</td>\n      <td>-0.81</td>\n      <td>-1.21</td>\n      <td>-3.15</td>\n      <td>...</td>\n      <td>-6.05</td>\n      <td>-0.55</td>\n      <td>-3.02</td>\n      <td>-3.88</td>\n      <td>4.77</td>\n      <td>1.93</td>\n      <td>-0.32</td>\n      <td>2.28</td>\n      <td>3.08</td>\n      <td>-3.30</td>\n    </tr>\n    <tr>\n      <th>GILLANDERS.NS</th>\n      <td>5.65</td>\n      <td>-2.65</td>\n      <td>9.98</td>\n      <td>2.92</td>\n      <td>-0.91</td>\n      <td>-2.48</td>\n      <td>3.21</td>\n      <td>3.69</td>\n      <td>0.00</td>\n      <td>-1.24</td>\n      <td>...</td>\n      <td>0.34</td>\n      <td>-3.83</td>\n      <td>3.49</td>\n      <td>-3.31</td>\n      <td>0.07</td>\n      <td>1.18</td>\n      <td>-3.43</td>\n      <td>-0.51</td>\n      <td>1.35</td>\n      <td>1.36</td>\n    </tr>\n    <tr>\n      <th>BAJEL.NS</th>\n      <td>0.15</td>\n      <td>5.89</td>\n      <td>0.00</td>\n      <td>6.19</td>\n      <td>0.98</td>\n      <td>-7.91</td>\n      <td>-0.16</td>\n      <td>19.98</td>\n      <td>12.77</td>\n      <td>5.26</td>\n      <td>...</td>\n      <td>NaN</td>\n      <td>NaN</td>\n      <td>NaN</td>\n      <td>NaN</td>\n      <td>NaN</td>\n      <td>NaN</td>\n      <td>NaN</td>\n      <td>NaN</td>\n      <td>NaN</td>\n      <td>NaN</td>\n    </tr>\n    <tr>\n      <th>AURUM.NS</th>\n      <td>10.39</td>\n      <td>-7.00</td>\n      <td>0.00</td>\n      <td>3.86</td>\n      <td>-1.40</td>\n      <td>8.54</td>\n      <td>-5.31</td>\n      <td>18.73</td>\n      <td>0.23</td>\n      <td>1.02</td>\n      <td>...</td>\n      <td>-6.85</td>\n      <td>-0.03</td>\n      <td>-2.21</td>\n      <td>-2.58</td>\n      <td>1.02</td>\n      <td>-2.50</td>\n      <td>2.41</td>\n      <td>1.36</td>\n      <td>4.88</td>\n      <td>3.59</td>\n    </tr>\n    <tr>\n      <th>MUNJALSHOW.NS</th>\n      <td>5.46</td>\n      <td>-3.44</td>\n      <td>0.94</td>\n      <td>-2.76</td>\n      <td>2.19</td>\n      <td>12.24</td>\n      <td>3.92</td>\n      <td>-1.31</td>\n      <td>-0.17</td>\n      <td>-0.62</td>\n      <td>...</td>\n      <td>-5.57</td>\n      <td>-5.71</td>\n      <td>-1.86</td>\n      <td>0.73</td>\n      <td>-1.70</td>\n      <td>-0.04</td>\n      <td>-1.72</td>\n      <td>-0.07</td>\n      <td>0.51</td>\n      <td>0.66</td>\n    </tr>\n    <tr>\n      <th>BLS.NS</th>\n      <td>1.48</td>\n      <td>-1.10</td>\n      <td>4.68</td>\n      <td>1.62</td>\n      <td>1.66</td>\n      <td>0.12</td>\n      <td>3.17</td>\n      <td>4.28</td>\n      <td>-0.49</td>\n      <td>3.40</td>\n      <td>...</td>\n      <td>-7.16</td>\n      <td>5.33</td>\n      <td>-5.60</td>\n      <td>-4.55</td>\n      <td>-6.74</td>\n      <td>-1.13</td>\n      <td>-0.71</td>\n      <td>0.75</td>\n      <td>2.57</td>\n      <td>-0.53</td>\n    </tr>\n  </tbody>\n</table>\n<p>16 rows × 1479 columns</p>\n</div>"
     },
     "execution_count": 124,
     "metadata": {},
     "output_type": "execute_result"
    }
   ],
   "source": [
    "da"
   ],
   "metadata": {
    "collapsed": false,
    "pycharm": {
     "name": "#%%\n"
    }
   }
  },
  {
   "cell_type": "code",
   "execution_count": 127,
   "outputs": [],
   "source": [
    "neti=[]\n",
    "for i in da.index:\n",
    "    neti.append(i.split(\".\")[0])"
   ],
   "metadata": {
    "collapsed": false,
    "pycharm": {
     "name": "#%%\n"
    }
   }
  },
  {
   "cell_type": "code",
   "execution_count": 128,
   "outputs": [
    {
     "data": {
      "text/plain": "['OFSS',\n 'CAREERP',\n 'INDOTHAI',\n 'PAKKA',\n 'CREST',\n 'QUICKHEAL',\n 'ISFT',\n 'KAMDHENU',\n 'VERTOZ',\n 'RANEENGINE',\n 'VAIBHAVGBL',\n 'GILLANDERS',\n 'BAJEL',\n 'AURUM',\n 'MUNJALSHOW',\n 'BLS']"
     },
     "execution_count": 128,
     "metadata": {},
     "output_type": "execute_result"
    }
   ],
   "source": [
    "neti"
   ],
   "metadata": {
    "collapsed": false,
    "pycharm": {
     "name": "#%%\n"
    }
   }
  },
  {
   "cell_type": "code",
   "execution_count": 129,
   "outputs": [],
   "source": [
    "from selenium import webdriver\n",
    "import pandas as pd\n",
    "from selenium.webdriver.edge.options import Options\n",
    "import time"
   ],
   "metadata": {
    "collapsed": false,
    "pycharm": {
     "name": "#%%\n"
    }
   }
  },
  {
   "cell_type": "code",
   "execution_count": 130,
   "outputs": [],
   "source": [
    "company_url=[]\n",
    "for i in neti:\n",
    "    company_url.append(f\"https://www.screener.in/company/{i}/consolidated/\")"
   ],
   "metadata": {
    "collapsed": false,
    "pycharm": {
     "name": "#%%\n"
    }
   }
  },
  {
   "cell_type": "code",
   "execution_count": 131,
   "outputs": [
    {
     "data": {
      "text/plain": "['https://www.screener.in/company/OFSS/consolidated/',\n 'https://www.screener.in/company/CAREERP/consolidated/',\n 'https://www.screener.in/company/INDOTHAI/consolidated/',\n 'https://www.screener.in/company/PAKKA/consolidated/',\n 'https://www.screener.in/company/CREST/consolidated/',\n 'https://www.screener.in/company/QUICKHEAL/consolidated/',\n 'https://www.screener.in/company/ISFT/consolidated/',\n 'https://www.screener.in/company/KAMDHENU/consolidated/',\n 'https://www.screener.in/company/VERTOZ/consolidated/',\n 'https://www.screener.in/company/RANEENGINE/consolidated/',\n 'https://www.screener.in/company/VAIBHAVGBL/consolidated/',\n 'https://www.screener.in/company/GILLANDERS/consolidated/',\n 'https://www.screener.in/company/BAJEL/consolidated/',\n 'https://www.screener.in/company/AURUM/consolidated/',\n 'https://www.screener.in/company/MUNJALSHOW/consolidated/',\n 'https://www.screener.in/company/BLS/consolidated/']"
     },
     "execution_count": 131,
     "metadata": {},
     "output_type": "execute_result"
    }
   ],
   "source": [
    "company_url"
   ],
   "metadata": {
    "collapsed": false,
    "pycharm": {
     "name": "#%%\n"
    }
   }
  },
  {
   "cell_type": "code",
   "execution_count": 132,
   "outputs": [],
   "source": [
    "test_data=pd.DataFrame({\"company_url\":company_url})\n",
    "test_data.to_csv(\"gaindata.csv\")"
   ],
   "metadata": {
    "collapsed": false,
    "pycharm": {
     "name": "#%%\n"
    }
   }
  },
  {
   "cell_type": "code",
   "execution_count": 133,
   "outputs": [],
   "source": [
    "df10=pd.read_csv(\"D:\\Pyn\\online learning\\FINAL_DATA\\SCRNER_DATA\\gaindata20240118.csv\")"
   ],
   "metadata": {
    "collapsed": false,
    "pycharm": {
     "name": "#%%\n"
    }
   }
  },
  {
   "cell_type": "code",
   "execution_count": 135,
   "outputs": [
    {
     "data": {
      "text/plain": "                                          company_url Market_cap  \\\n0   https://www.screener.in/company/OFSS/consolida...     56,694   \n1   https://www.screener.in/company/CAREERP/consol...        479   \n2   https://www.screener.in/company/INDOTHAI/conso...        337   \n3   https://www.screener.in/company/PAKKA/consolid...      1,265   \n4   https://www.screener.in/company/CREST/consolid...        977   \n5   https://www.screener.in/company/QUICKHEAL/cons...      2,598   \n6   https://www.screener.in/company/ISFT/consolida...        230   \n7   https://www.screener.in/company/KAMDHENU/conso...      1,369   \n8   https://www.screener.in/company/VERTOZ/consoli...      1,204   \n9   https://www.screener.in/company/RANEENGINE/con...        NaN   \n10  https://www.screener.in/company/VAIBHAVGBL/con...      8,105   \n11  https://www.screener.in/company/GILLANDERS/con...        310   \n12  https://www.screener.in/company/BAJEL/consolid...        NaN   \n13  https://www.screener.in/company/AURUM/consolid...        922   \n14  https://www.screener.in/company/MUNJALSHOW/con...        NaN   \n15  https://www.screener.in/company/BLS/consolidated/     16,031   \n\n   Current_Price   High    Low   P_E  Book_Value  Dividend_Yield   ROCE  \\\n0          6,546  6,623  2,987  26.5       750.0            3.44  35.10   \n1            262    264    118  21.5       278.0            0.76   3.05   \n2            336    487    189   NaN        65.7            0.18 -13.20   \n3            323    335   88.0  24.6        61.7            0.74  27.20   \n4            341    349    142  16.4       370.0            0.29  58.60   \n5            489    502    125   NaN        74.6            0.51   0.17   \n6            157    178   94.0  24.5       125.0            0.00   6.31   \n7            509    511    260  45.0        81.1            0.29  16.90   \n8            758    758    185  81.7        91.1            0.00  19.00   \n9            NaN    NaN    NaN   NaN         NaN             NaN    NaN   \n10           488    493    269  67.1        73.9            1.23  11.10   \n11           146    147   56.6   NaN       128.0            0.00   4.38   \n12           NaN    NaN    NaN   NaN         NaN             NaN    NaN   \n13           173    185   99.8   NaN        27.5            0.00 -16.20   \n14           NaN    NaN    NaN   NaN         NaN             NaN    NaN   \n15           390    413    150  60.0        23.1            0.19  31.60   \n\n      ROE  ...  Sales_growth  Up_from_52w_low  Industry_PE  No_Eq_Shares  \\\n0   24.80  ...         12.60            119.0        39.30          8.66   \n1    2.43  ...         45.10            121.0        66.90          1.82   \n2  -10.60  ...         19.20             77.7        20.60          1.00   \n3   25.00  ...         27.60            267.0         7.33          3.92   \n4   50.50  ...        -76.10            140.0        22.10          2.84   \n5    0.16  ...        -28.80            291.0        39.30          5.33   \n6    4.84  ...         11.30             66.7        38.70          1.47   \n7   14.70  ...         34.50             95.8        21.90          2.69   \n8   14.90  ...        159.00            310.0        39.30          1.59   \n9     NaN  ...          0.00              0.0         0.00          0.00   \n10   9.02  ...          2.56             81.5        37.10         16.60   \n11   1.37  ...        -21.10            157.0        31.70          2.13   \n12    NaN  ...          0.00              0.0         0.00          0.00   \n13 -14.90  ...        123.00             73.0        39.30          7.16   \n14    NaN  ...          0.00              0.0         0.00          0.00   \n15  29.50  ...         51.10            160.0        39.30         41.20   \n\n    Sales_growth_3Years  Down_from_52w_high   RSI  EPS_latest_quarter  \\\n0                  5.44                1.17  87.0               85.50   \n1                 -6.55                0.80  78.0                6.33   \n2                 -6.78               31.00  81.9                4.34   \n3                   NaN                3.54  80.0                2.83   \n4                114.00                2.18  70.6               11.30   \n5                 -0.95                2.52  81.4                2.43   \n6                 -8.20               11.70  76.9                1.66   \n7                   NaN                0.44  82.4                2.01   \n8                 26.90                0.00  82.8                2.83   \n9                  0.00                0.00   0.0                0.00   \n10                10.60                1.11  73.0                1.78   \n11               -12.00                1.15  74.8                1.71   \n12                 0.00                0.00   0.0                0.00   \n13               131.00                6.65  70.9               -2.59   \n14                 0.00                0.00   0.0                0.00   \n15                24.50                5.67  78.1                1.91   \n\n    From_52w_high  Debt_to_equity  \n0            0.99            0.01  \n1            0.99            0.03  \n2            0.69            0.04  \n3            0.96            0.45  \n4            0.98            0.20  \n5            0.97            0.00  \n6            0.88            0.80  \n7            1.00            0.43  \n8            1.00            0.07  \n9            0.00            0.00  \n10           0.99            0.15  \n11           0.99            0.53  \n12           0.00            0.00  \n13           0.93            1.18  \n14           0.00            0.00  \n15           0.94            0.02  \n\n[16 rows x 21 columns]",
      "text/html": "<div>\n<style scoped>\n    .dataframe tbody tr th:only-of-type {\n        vertical-align: middle;\n    }\n\n    .dataframe tbody tr th {\n        vertical-align: top;\n    }\n\n    .dataframe thead th {\n        text-align: right;\n    }\n</style>\n<table border=\"1\" class=\"dataframe\">\n  <thead>\n    <tr style=\"text-align: right;\">\n      <th></th>\n      <th>company_url</th>\n      <th>Market_cap</th>\n      <th>Current_Price</th>\n      <th>High</th>\n      <th>Low</th>\n      <th>P_E</th>\n      <th>Book_Value</th>\n      <th>Dividend_Yield</th>\n      <th>ROCE</th>\n      <th>ROE</th>\n      <th>...</th>\n      <th>Sales_growth</th>\n      <th>Up_from_52w_low</th>\n      <th>Industry_PE</th>\n      <th>No_Eq_Shares</th>\n      <th>Sales_growth_3Years</th>\n      <th>Down_from_52w_high</th>\n      <th>RSI</th>\n      <th>EPS_latest_quarter</th>\n      <th>From_52w_high</th>\n      <th>Debt_to_equity</th>\n    </tr>\n  </thead>\n  <tbody>\n    <tr>\n      <th>0</th>\n      <td>https://www.screener.in/company/OFSS/consolida...</td>\n      <td>56,694</td>\n      <td>6,546</td>\n      <td>6,623</td>\n      <td>2,987</td>\n      <td>26.5</td>\n      <td>750.0</td>\n      <td>3.44</td>\n      <td>35.10</td>\n      <td>24.80</td>\n      <td>...</td>\n      <td>12.60</td>\n      <td>119.0</td>\n      <td>39.30</td>\n      <td>8.66</td>\n      <td>5.44</td>\n      <td>1.17</td>\n      <td>87.0</td>\n      <td>85.50</td>\n      <td>0.99</td>\n      <td>0.01</td>\n    </tr>\n    <tr>\n      <th>1</th>\n      <td>https://www.screener.in/company/CAREERP/consol...</td>\n      <td>479</td>\n      <td>262</td>\n      <td>264</td>\n      <td>118</td>\n      <td>21.5</td>\n      <td>278.0</td>\n      <td>0.76</td>\n      <td>3.05</td>\n      <td>2.43</td>\n      <td>...</td>\n      <td>45.10</td>\n      <td>121.0</td>\n      <td>66.90</td>\n      <td>1.82</td>\n      <td>-6.55</td>\n      <td>0.80</td>\n      <td>78.0</td>\n      <td>6.33</td>\n      <td>0.99</td>\n      <td>0.03</td>\n    </tr>\n    <tr>\n      <th>2</th>\n      <td>https://www.screener.in/company/INDOTHAI/conso...</td>\n      <td>337</td>\n      <td>336</td>\n      <td>487</td>\n      <td>189</td>\n      <td>NaN</td>\n      <td>65.7</td>\n      <td>0.18</td>\n      <td>-13.20</td>\n      <td>-10.60</td>\n      <td>...</td>\n      <td>19.20</td>\n      <td>77.7</td>\n      <td>20.60</td>\n      <td>1.00</td>\n      <td>-6.78</td>\n      <td>31.00</td>\n      <td>81.9</td>\n      <td>4.34</td>\n      <td>0.69</td>\n      <td>0.04</td>\n    </tr>\n    <tr>\n      <th>3</th>\n      <td>https://www.screener.in/company/PAKKA/consolid...</td>\n      <td>1,265</td>\n      <td>323</td>\n      <td>335</td>\n      <td>88.0</td>\n      <td>24.6</td>\n      <td>61.7</td>\n      <td>0.74</td>\n      <td>27.20</td>\n      <td>25.00</td>\n      <td>...</td>\n      <td>27.60</td>\n      <td>267.0</td>\n      <td>7.33</td>\n      <td>3.92</td>\n      <td>NaN</td>\n      <td>3.54</td>\n      <td>80.0</td>\n      <td>2.83</td>\n      <td>0.96</td>\n      <td>0.45</td>\n    </tr>\n    <tr>\n      <th>4</th>\n      <td>https://www.screener.in/company/CREST/consolid...</td>\n      <td>977</td>\n      <td>341</td>\n      <td>349</td>\n      <td>142</td>\n      <td>16.4</td>\n      <td>370.0</td>\n      <td>0.29</td>\n      <td>58.60</td>\n      <td>50.50</td>\n      <td>...</td>\n      <td>-76.10</td>\n      <td>140.0</td>\n      <td>22.10</td>\n      <td>2.84</td>\n      <td>114.00</td>\n      <td>2.18</td>\n      <td>70.6</td>\n      <td>11.30</td>\n      <td>0.98</td>\n      <td>0.20</td>\n    </tr>\n    <tr>\n      <th>5</th>\n      <td>https://www.screener.in/company/QUICKHEAL/cons...</td>\n      <td>2,598</td>\n      <td>489</td>\n      <td>502</td>\n      <td>125</td>\n      <td>NaN</td>\n      <td>74.6</td>\n      <td>0.51</td>\n      <td>0.17</td>\n      <td>0.16</td>\n      <td>...</td>\n      <td>-28.80</td>\n      <td>291.0</td>\n      <td>39.30</td>\n      <td>5.33</td>\n      <td>-0.95</td>\n      <td>2.52</td>\n      <td>81.4</td>\n      <td>2.43</td>\n      <td>0.97</td>\n      <td>0.00</td>\n    </tr>\n    <tr>\n      <th>6</th>\n      <td>https://www.screener.in/company/ISFT/consolida...</td>\n      <td>230</td>\n      <td>157</td>\n      <td>178</td>\n      <td>94.0</td>\n      <td>24.5</td>\n      <td>125.0</td>\n      <td>0.00</td>\n      <td>6.31</td>\n      <td>4.84</td>\n      <td>...</td>\n      <td>11.30</td>\n      <td>66.7</td>\n      <td>38.70</td>\n      <td>1.47</td>\n      <td>-8.20</td>\n      <td>11.70</td>\n      <td>76.9</td>\n      <td>1.66</td>\n      <td>0.88</td>\n      <td>0.80</td>\n    </tr>\n    <tr>\n      <th>7</th>\n      <td>https://www.screener.in/company/KAMDHENU/conso...</td>\n      <td>1,369</td>\n      <td>509</td>\n      <td>511</td>\n      <td>260</td>\n      <td>45.0</td>\n      <td>81.1</td>\n      <td>0.29</td>\n      <td>16.90</td>\n      <td>14.70</td>\n      <td>...</td>\n      <td>34.50</td>\n      <td>95.8</td>\n      <td>21.90</td>\n      <td>2.69</td>\n      <td>NaN</td>\n      <td>0.44</td>\n      <td>82.4</td>\n      <td>2.01</td>\n      <td>1.00</td>\n      <td>0.43</td>\n    </tr>\n    <tr>\n      <th>8</th>\n      <td>https://www.screener.in/company/VERTOZ/consoli...</td>\n      <td>1,204</td>\n      <td>758</td>\n      <td>758</td>\n      <td>185</td>\n      <td>81.7</td>\n      <td>91.1</td>\n      <td>0.00</td>\n      <td>19.00</td>\n      <td>14.90</td>\n      <td>...</td>\n      <td>159.00</td>\n      <td>310.0</td>\n      <td>39.30</td>\n      <td>1.59</td>\n      <td>26.90</td>\n      <td>0.00</td>\n      <td>82.8</td>\n      <td>2.83</td>\n      <td>1.00</td>\n      <td>0.07</td>\n    </tr>\n    <tr>\n      <th>9</th>\n      <td>https://www.screener.in/company/RANEENGINE/con...</td>\n      <td>NaN</td>\n      <td>NaN</td>\n      <td>NaN</td>\n      <td>NaN</td>\n      <td>NaN</td>\n      <td>NaN</td>\n      <td>NaN</td>\n      <td>NaN</td>\n      <td>NaN</td>\n      <td>...</td>\n      <td>0.00</td>\n      <td>0.0</td>\n      <td>0.00</td>\n      <td>0.00</td>\n      <td>0.00</td>\n      <td>0.00</td>\n      <td>0.0</td>\n      <td>0.00</td>\n      <td>0.00</td>\n      <td>0.00</td>\n    </tr>\n    <tr>\n      <th>10</th>\n      <td>https://www.screener.in/company/VAIBHAVGBL/con...</td>\n      <td>8,105</td>\n      <td>488</td>\n      <td>493</td>\n      <td>269</td>\n      <td>67.1</td>\n      <td>73.9</td>\n      <td>1.23</td>\n      <td>11.10</td>\n      <td>9.02</td>\n      <td>...</td>\n      <td>2.56</td>\n      <td>81.5</td>\n      <td>37.10</td>\n      <td>16.60</td>\n      <td>10.60</td>\n      <td>1.11</td>\n      <td>73.0</td>\n      <td>1.78</td>\n      <td>0.99</td>\n      <td>0.15</td>\n    </tr>\n    <tr>\n      <th>11</th>\n      <td>https://www.screener.in/company/GILLANDERS/con...</td>\n      <td>310</td>\n      <td>146</td>\n      <td>147</td>\n      <td>56.6</td>\n      <td>NaN</td>\n      <td>128.0</td>\n      <td>0.00</td>\n      <td>4.38</td>\n      <td>1.37</td>\n      <td>...</td>\n      <td>-21.10</td>\n      <td>157.0</td>\n      <td>31.70</td>\n      <td>2.13</td>\n      <td>-12.00</td>\n      <td>1.15</td>\n      <td>74.8</td>\n      <td>1.71</td>\n      <td>0.99</td>\n      <td>0.53</td>\n    </tr>\n    <tr>\n      <th>12</th>\n      <td>https://www.screener.in/company/BAJEL/consolid...</td>\n      <td>NaN</td>\n      <td>NaN</td>\n      <td>NaN</td>\n      <td>NaN</td>\n      <td>NaN</td>\n      <td>NaN</td>\n      <td>NaN</td>\n      <td>NaN</td>\n      <td>NaN</td>\n      <td>...</td>\n      <td>0.00</td>\n      <td>0.0</td>\n      <td>0.00</td>\n      <td>0.00</td>\n      <td>0.00</td>\n      <td>0.00</td>\n      <td>0.0</td>\n      <td>0.00</td>\n      <td>0.00</td>\n      <td>0.00</td>\n    </tr>\n    <tr>\n      <th>13</th>\n      <td>https://www.screener.in/company/AURUM/consolid...</td>\n      <td>922</td>\n      <td>173</td>\n      <td>185</td>\n      <td>99.8</td>\n      <td>NaN</td>\n      <td>27.5</td>\n      <td>0.00</td>\n      <td>-16.20</td>\n      <td>-14.90</td>\n      <td>...</td>\n      <td>123.00</td>\n      <td>73.0</td>\n      <td>39.30</td>\n      <td>7.16</td>\n      <td>131.00</td>\n      <td>6.65</td>\n      <td>70.9</td>\n      <td>-2.59</td>\n      <td>0.93</td>\n      <td>1.18</td>\n    </tr>\n    <tr>\n      <th>14</th>\n      <td>https://www.screener.in/company/MUNJALSHOW/con...</td>\n      <td>NaN</td>\n      <td>NaN</td>\n      <td>NaN</td>\n      <td>NaN</td>\n      <td>NaN</td>\n      <td>NaN</td>\n      <td>NaN</td>\n      <td>NaN</td>\n      <td>NaN</td>\n      <td>...</td>\n      <td>0.00</td>\n      <td>0.0</td>\n      <td>0.00</td>\n      <td>0.00</td>\n      <td>0.00</td>\n      <td>0.00</td>\n      <td>0.0</td>\n      <td>0.00</td>\n      <td>0.00</td>\n      <td>0.00</td>\n    </tr>\n    <tr>\n      <th>15</th>\n      <td>https://www.screener.in/company/BLS/consolidated/</td>\n      <td>16,031</td>\n      <td>390</td>\n      <td>413</td>\n      <td>150</td>\n      <td>60.0</td>\n      <td>23.1</td>\n      <td>0.19</td>\n      <td>31.60</td>\n      <td>29.50</td>\n      <td>...</td>\n      <td>51.10</td>\n      <td>160.0</td>\n      <td>39.30</td>\n      <td>41.20</td>\n      <td>24.50</td>\n      <td>5.67</td>\n      <td>78.1</td>\n      <td>1.91</td>\n      <td>0.94</td>\n      <td>0.02</td>\n    </tr>\n  </tbody>\n</table>\n<p>16 rows × 21 columns</p>\n</div>"
     },
     "execution_count": 135,
     "metadata": {},
     "output_type": "execute_result"
    }
   ],
   "source": [
    "df10"
   ],
   "metadata": {
    "collapsed": false,
    "pycharm": {
     "name": "#%%\n"
    }
   }
  },
  {
   "cell_type": "code",
   "execution_count": 141,
   "outputs": [
    {
     "data": {
      "text/plain": "                                          company_url Market_cap  \\\n0   https://www.screener.in/company/OFSS/consolida...     56,694   \n1   https://www.screener.in/company/CAREERP/consol...        479   \n2   https://www.screener.in/company/INDOTHAI/conso...        337   \n3   https://www.screener.in/company/PAKKA/consolid...      1,265   \n4   https://www.screener.in/company/CREST/consolid...        977   \n5   https://www.screener.in/company/QUICKHEAL/cons...      2,598   \n6   https://www.screener.in/company/ISFT/consolida...        230   \n7   https://www.screener.in/company/KAMDHENU/conso...      1,369   \n8   https://www.screener.in/company/VERTOZ/consoli...      1,204   \n9   https://www.screener.in/company/RANEENGINE/con...        NaN   \n10  https://www.screener.in/company/VAIBHAVGBL/con...      8,105   \n11  https://www.screener.in/company/GILLANDERS/con...        310   \n12  https://www.screener.in/company/BAJEL/consolid...        NaN   \n13  https://www.screener.in/company/AURUM/consolid...        922   \n14  https://www.screener.in/company/MUNJALSHOW/con...        NaN   \n15  https://www.screener.in/company/BLS/consolidated/     16,031   \n\n   Current_Price   High    Low   P_E  Book_Value  Dividend_Yield   ROCE  \\\n0          6,546  6,623  2,987  26.5       750.0            3.44  35.10   \n1            262    264    118  21.5       278.0            0.76   3.05   \n2            336    487    189   NaN        65.7            0.18 -13.20   \n3            323    335   88.0  24.6        61.7            0.74  27.20   \n4            341    349    142  16.4       370.0            0.29  58.60   \n5            489    502    125   NaN        74.6            0.51   0.17   \n6            157    178   94.0  24.5       125.0            0.00   6.31   \n7            509    511    260  45.0        81.1            0.29  16.90   \n8            758    758    185  81.7        91.1            0.00  19.00   \n9            NaN    NaN    NaN   NaN         NaN             NaN    NaN   \n10           488    493    269  67.1        73.9            1.23  11.10   \n11           146    147   56.6   NaN       128.0            0.00   4.38   \n12           NaN    NaN    NaN   NaN         NaN             NaN    NaN   \n13           173    185   99.8   NaN        27.5            0.00 -16.20   \n14           NaN    NaN    NaN   NaN         NaN             NaN    NaN   \n15           390    413    150  60.0        23.1            0.19  31.60   \n\n      ROE  ...  Sales_growth  Up_from_52w_low  Industry_PE  No_Eq_Shares  \\\n0   24.80  ...         12.60            119.0        39.30          8.66   \n1    2.43  ...         45.10            121.0        66.90          1.82   \n2  -10.60  ...         19.20             77.7        20.60          1.00   \n3   25.00  ...         27.60            267.0         7.33          3.92   \n4   50.50  ...        -76.10            140.0        22.10          2.84   \n5    0.16  ...        -28.80            291.0        39.30          5.33   \n6    4.84  ...         11.30             66.7        38.70          1.47   \n7   14.70  ...         34.50             95.8        21.90          2.69   \n8   14.90  ...        159.00            310.0        39.30          1.59   \n9     NaN  ...          0.00              0.0         0.00          0.00   \n10   9.02  ...          2.56             81.5        37.10         16.60   \n11   1.37  ...        -21.10            157.0        31.70          2.13   \n12    NaN  ...          0.00              0.0         0.00          0.00   \n13 -14.90  ...        123.00             73.0        39.30          7.16   \n14    NaN  ...          0.00              0.0         0.00          0.00   \n15  29.50  ...         51.10            160.0        39.30         41.20   \n\n    Sales_growth_3Years  Down_from_52w_high   RSI  EPS_latest_quarter  \\\n0                  5.44                1.17  87.0               85.50   \n1                 -6.55                0.80  78.0                6.33   \n2                 -6.78               31.00  81.9                4.34   \n3                   NaN                3.54  80.0                2.83   \n4                114.00                2.18  70.6               11.30   \n5                 -0.95                2.52  81.4                2.43   \n6                 -8.20               11.70  76.9                1.66   \n7                   NaN                0.44  82.4                2.01   \n8                 26.90                0.00  82.8                2.83   \n9                  0.00                0.00   0.0                0.00   \n10                10.60                1.11  73.0                1.78   \n11               -12.00                1.15  74.8                1.71   \n12                 0.00                0.00   0.0                0.00   \n13               131.00                6.65  70.9               -2.59   \n14                 0.00                0.00   0.0                0.00   \n15                24.50                5.67  78.1                1.91   \n\n    From_52w_high  Debt_to_equity  \n0            0.99            0.01  \n1            0.99            0.03  \n2            0.69            0.04  \n3            0.96            0.45  \n4            0.98            0.20  \n5            0.97            0.00  \n6            0.88            0.80  \n7            1.00            0.43  \n8            1.00            0.07  \n9            0.00            0.00  \n10           0.99            0.15  \n11           0.99            0.53  \n12           0.00            0.00  \n13           0.93            1.18  \n14           0.00            0.00  \n15           0.94            0.02  \n\n[16 rows x 21 columns]",
      "text/html": "<div>\n<style scoped>\n    .dataframe tbody tr th:only-of-type {\n        vertical-align: middle;\n    }\n\n    .dataframe tbody tr th {\n        vertical-align: top;\n    }\n\n    .dataframe thead th {\n        text-align: right;\n    }\n</style>\n<table border=\"1\" class=\"dataframe\">\n  <thead>\n    <tr style=\"text-align: right;\">\n      <th></th>\n      <th>company_url</th>\n      <th>Market_cap</th>\n      <th>Current_Price</th>\n      <th>High</th>\n      <th>Low</th>\n      <th>P_E</th>\n      <th>Book_Value</th>\n      <th>Dividend_Yield</th>\n      <th>ROCE</th>\n      <th>ROE</th>\n      <th>...</th>\n      <th>Sales_growth</th>\n      <th>Up_from_52w_low</th>\n      <th>Industry_PE</th>\n      <th>No_Eq_Shares</th>\n      <th>Sales_growth_3Years</th>\n      <th>Down_from_52w_high</th>\n      <th>RSI</th>\n      <th>EPS_latest_quarter</th>\n      <th>From_52w_high</th>\n      <th>Debt_to_equity</th>\n    </tr>\n  </thead>\n  <tbody>\n    <tr>\n      <th>0</th>\n      <td>https://www.screener.in/company/OFSS/consolida...</td>\n      <td>56,694</td>\n      <td>6,546</td>\n      <td>6,623</td>\n      <td>2,987</td>\n      <td>26.5</td>\n      <td>750.0</td>\n      <td>3.44</td>\n      <td>35.10</td>\n      <td>24.80</td>\n      <td>...</td>\n      <td>12.60</td>\n      <td>119.0</td>\n      <td>39.30</td>\n      <td>8.66</td>\n      <td>5.44</td>\n      <td>1.17</td>\n      <td>87.0</td>\n      <td>85.50</td>\n      <td>0.99</td>\n      <td>0.01</td>\n    </tr>\n    <tr>\n      <th>1</th>\n      <td>https://www.screener.in/company/CAREERP/consol...</td>\n      <td>479</td>\n      <td>262</td>\n      <td>264</td>\n      <td>118</td>\n      <td>21.5</td>\n      <td>278.0</td>\n      <td>0.76</td>\n      <td>3.05</td>\n      <td>2.43</td>\n      <td>...</td>\n      <td>45.10</td>\n      <td>121.0</td>\n      <td>66.90</td>\n      <td>1.82</td>\n      <td>-6.55</td>\n      <td>0.80</td>\n      <td>78.0</td>\n      <td>6.33</td>\n      <td>0.99</td>\n      <td>0.03</td>\n    </tr>\n    <tr>\n      <th>2</th>\n      <td>https://www.screener.in/company/INDOTHAI/conso...</td>\n      <td>337</td>\n      <td>336</td>\n      <td>487</td>\n      <td>189</td>\n      <td>NaN</td>\n      <td>65.7</td>\n      <td>0.18</td>\n      <td>-13.20</td>\n      <td>-10.60</td>\n      <td>...</td>\n      <td>19.20</td>\n      <td>77.7</td>\n      <td>20.60</td>\n      <td>1.00</td>\n      <td>-6.78</td>\n      <td>31.00</td>\n      <td>81.9</td>\n      <td>4.34</td>\n      <td>0.69</td>\n      <td>0.04</td>\n    </tr>\n    <tr>\n      <th>3</th>\n      <td>https://www.screener.in/company/PAKKA/consolid...</td>\n      <td>1,265</td>\n      <td>323</td>\n      <td>335</td>\n      <td>88.0</td>\n      <td>24.6</td>\n      <td>61.7</td>\n      <td>0.74</td>\n      <td>27.20</td>\n      <td>25.00</td>\n      <td>...</td>\n      <td>27.60</td>\n      <td>267.0</td>\n      <td>7.33</td>\n      <td>3.92</td>\n      <td>NaN</td>\n      <td>3.54</td>\n      <td>80.0</td>\n      <td>2.83</td>\n      <td>0.96</td>\n      <td>0.45</td>\n    </tr>\n    <tr>\n      <th>4</th>\n      <td>https://www.screener.in/company/CREST/consolid...</td>\n      <td>977</td>\n      <td>341</td>\n      <td>349</td>\n      <td>142</td>\n      <td>16.4</td>\n      <td>370.0</td>\n      <td>0.29</td>\n      <td>58.60</td>\n      <td>50.50</td>\n      <td>...</td>\n      <td>-76.10</td>\n      <td>140.0</td>\n      <td>22.10</td>\n      <td>2.84</td>\n      <td>114.00</td>\n      <td>2.18</td>\n      <td>70.6</td>\n      <td>11.30</td>\n      <td>0.98</td>\n      <td>0.20</td>\n    </tr>\n    <tr>\n      <th>5</th>\n      <td>https://www.screener.in/company/QUICKHEAL/cons...</td>\n      <td>2,598</td>\n      <td>489</td>\n      <td>502</td>\n      <td>125</td>\n      <td>NaN</td>\n      <td>74.6</td>\n      <td>0.51</td>\n      <td>0.17</td>\n      <td>0.16</td>\n      <td>...</td>\n      <td>-28.80</td>\n      <td>291.0</td>\n      <td>39.30</td>\n      <td>5.33</td>\n      <td>-0.95</td>\n      <td>2.52</td>\n      <td>81.4</td>\n      <td>2.43</td>\n      <td>0.97</td>\n      <td>0.00</td>\n    </tr>\n    <tr>\n      <th>6</th>\n      <td>https://www.screener.in/company/ISFT/consolida...</td>\n      <td>230</td>\n      <td>157</td>\n      <td>178</td>\n      <td>94.0</td>\n      <td>24.5</td>\n      <td>125.0</td>\n      <td>0.00</td>\n      <td>6.31</td>\n      <td>4.84</td>\n      <td>...</td>\n      <td>11.30</td>\n      <td>66.7</td>\n      <td>38.70</td>\n      <td>1.47</td>\n      <td>-8.20</td>\n      <td>11.70</td>\n      <td>76.9</td>\n      <td>1.66</td>\n      <td>0.88</td>\n      <td>0.80</td>\n    </tr>\n    <tr>\n      <th>7</th>\n      <td>https://www.screener.in/company/KAMDHENU/conso...</td>\n      <td>1,369</td>\n      <td>509</td>\n      <td>511</td>\n      <td>260</td>\n      <td>45.0</td>\n      <td>81.1</td>\n      <td>0.29</td>\n      <td>16.90</td>\n      <td>14.70</td>\n      <td>...</td>\n      <td>34.50</td>\n      <td>95.8</td>\n      <td>21.90</td>\n      <td>2.69</td>\n      <td>NaN</td>\n      <td>0.44</td>\n      <td>82.4</td>\n      <td>2.01</td>\n      <td>1.00</td>\n      <td>0.43</td>\n    </tr>\n    <tr>\n      <th>8</th>\n      <td>https://www.screener.in/company/VERTOZ/consoli...</td>\n      <td>1,204</td>\n      <td>758</td>\n      <td>758</td>\n      <td>185</td>\n      <td>81.7</td>\n      <td>91.1</td>\n      <td>0.00</td>\n      <td>19.00</td>\n      <td>14.90</td>\n      <td>...</td>\n      <td>159.00</td>\n      <td>310.0</td>\n      <td>39.30</td>\n      <td>1.59</td>\n      <td>26.90</td>\n      <td>0.00</td>\n      <td>82.8</td>\n      <td>2.83</td>\n      <td>1.00</td>\n      <td>0.07</td>\n    </tr>\n    <tr>\n      <th>9</th>\n      <td>https://www.screener.in/company/RANEENGINE/con...</td>\n      <td>NaN</td>\n      <td>NaN</td>\n      <td>NaN</td>\n      <td>NaN</td>\n      <td>NaN</td>\n      <td>NaN</td>\n      <td>NaN</td>\n      <td>NaN</td>\n      <td>NaN</td>\n      <td>...</td>\n      <td>0.00</td>\n      <td>0.0</td>\n      <td>0.00</td>\n      <td>0.00</td>\n      <td>0.00</td>\n      <td>0.00</td>\n      <td>0.0</td>\n      <td>0.00</td>\n      <td>0.00</td>\n      <td>0.00</td>\n    </tr>\n    <tr>\n      <th>10</th>\n      <td>https://www.screener.in/company/VAIBHAVGBL/con...</td>\n      <td>8,105</td>\n      <td>488</td>\n      <td>493</td>\n      <td>269</td>\n      <td>67.1</td>\n      <td>73.9</td>\n      <td>1.23</td>\n      <td>11.10</td>\n      <td>9.02</td>\n      <td>...</td>\n      <td>2.56</td>\n      <td>81.5</td>\n      <td>37.10</td>\n      <td>16.60</td>\n      <td>10.60</td>\n      <td>1.11</td>\n      <td>73.0</td>\n      <td>1.78</td>\n      <td>0.99</td>\n      <td>0.15</td>\n    </tr>\n    <tr>\n      <th>11</th>\n      <td>https://www.screener.in/company/GILLANDERS/con...</td>\n      <td>310</td>\n      <td>146</td>\n      <td>147</td>\n      <td>56.6</td>\n      <td>NaN</td>\n      <td>128.0</td>\n      <td>0.00</td>\n      <td>4.38</td>\n      <td>1.37</td>\n      <td>...</td>\n      <td>-21.10</td>\n      <td>157.0</td>\n      <td>31.70</td>\n      <td>2.13</td>\n      <td>-12.00</td>\n      <td>1.15</td>\n      <td>74.8</td>\n      <td>1.71</td>\n      <td>0.99</td>\n      <td>0.53</td>\n    </tr>\n    <tr>\n      <th>12</th>\n      <td>https://www.screener.in/company/BAJEL/consolid...</td>\n      <td>NaN</td>\n      <td>NaN</td>\n      <td>NaN</td>\n      <td>NaN</td>\n      <td>NaN</td>\n      <td>NaN</td>\n      <td>NaN</td>\n      <td>NaN</td>\n      <td>NaN</td>\n      <td>...</td>\n      <td>0.00</td>\n      <td>0.0</td>\n      <td>0.00</td>\n      <td>0.00</td>\n      <td>0.00</td>\n      <td>0.00</td>\n      <td>0.0</td>\n      <td>0.00</td>\n      <td>0.00</td>\n      <td>0.00</td>\n    </tr>\n    <tr>\n      <th>13</th>\n      <td>https://www.screener.in/company/AURUM/consolid...</td>\n      <td>922</td>\n      <td>173</td>\n      <td>185</td>\n      <td>99.8</td>\n      <td>NaN</td>\n      <td>27.5</td>\n      <td>0.00</td>\n      <td>-16.20</td>\n      <td>-14.90</td>\n      <td>...</td>\n      <td>123.00</td>\n      <td>73.0</td>\n      <td>39.30</td>\n      <td>7.16</td>\n      <td>131.00</td>\n      <td>6.65</td>\n      <td>70.9</td>\n      <td>-2.59</td>\n      <td>0.93</td>\n      <td>1.18</td>\n    </tr>\n    <tr>\n      <th>14</th>\n      <td>https://www.screener.in/company/MUNJALSHOW/con...</td>\n      <td>NaN</td>\n      <td>NaN</td>\n      <td>NaN</td>\n      <td>NaN</td>\n      <td>NaN</td>\n      <td>NaN</td>\n      <td>NaN</td>\n      <td>NaN</td>\n      <td>NaN</td>\n      <td>...</td>\n      <td>0.00</td>\n      <td>0.0</td>\n      <td>0.00</td>\n      <td>0.00</td>\n      <td>0.00</td>\n      <td>0.00</td>\n      <td>0.0</td>\n      <td>0.00</td>\n      <td>0.00</td>\n      <td>0.00</td>\n    </tr>\n    <tr>\n      <th>15</th>\n      <td>https://www.screener.in/company/BLS/consolidated/</td>\n      <td>16,031</td>\n      <td>390</td>\n      <td>413</td>\n      <td>150</td>\n      <td>60.0</td>\n      <td>23.1</td>\n      <td>0.19</td>\n      <td>31.60</td>\n      <td>29.50</td>\n      <td>...</td>\n      <td>51.10</td>\n      <td>160.0</td>\n      <td>39.30</td>\n      <td>41.20</td>\n      <td>24.50</td>\n      <td>5.67</td>\n      <td>78.1</td>\n      <td>1.91</td>\n      <td>0.94</td>\n      <td>0.02</td>\n    </tr>\n  </tbody>\n</table>\n<p>16 rows × 21 columns</p>\n</div>"
     },
     "execution_count": 141,
     "metadata": {},
     "output_type": "execute_result"
    }
   ],
   "source": [
    "df10[]"
   ],
   "metadata": {
    "collapsed": false,
    "pycharm": {
     "name": "#%%\n"
    }
   }
  },
  {
   "cell_type": "code",
   "execution_count": 140,
   "outputs": [
    {
     "data": {
      "text/plain": "company_url            0\nMarket_cap             3\nCurrent_Price          3\nHigh                   3\nLow                    3\nP_E                    7\nBook_Value             3\nDividend_Yield         3\nROCE                   3\nROE                    3\nFace_Value             3\nSales_growth           0\nUp_from_52w_low        0\nIndustry_PE            0\nNo_Eq_Shares           0\nSales_growth_3Years    2\nDown_from_52w_high     0\nRSI                    0\nEPS_latest_quarter     0\nFrom_52w_high          0\nDebt_to_equity         0\ndtype: int64"
     },
     "execution_count": 140,
     "metadata": {},
     "output_type": "execute_result"
    }
   ],
   "source": [
    "df10.isna().sum()"
   ],
   "metadata": {
    "collapsed": false,
    "pycharm": {
     "name": "#%%\n"
    }
   }
  },
  {
   "cell_type": "code",
   "execution_count": 143,
   "outputs": [],
   "source": [
    "df11=df10.T"
   ],
   "metadata": {
    "collapsed": false,
    "pycharm": {
     "name": "#%%\n"
    }
   }
  },
  {
   "cell_type": "code",
   "execution_count": 145,
   "outputs": [
    {
     "data": {
      "text/plain": "0      0\n1      0\n2      1\n3      1\n4      0\n5      1\n6      0\n7      1\n8      0\n9     10\n10     0\n11     1\n12    10\n13     1\n14    10\n15     0\ndtype: int64"
     },
     "execution_count": 145,
     "metadata": {},
     "output_type": "execute_result"
    }
   ],
   "source": [
    "df11.isna().sum()"
   ],
   "metadata": {
    "collapsed": false,
    "pycharm": {
     "name": "#%%\n"
    }
   }
  },
  {
   "cell_type": "code",
   "execution_count": 151,
   "outputs": [],
   "source": [
    "df11.drop([9,12,14],axis=1,inplace=True)"
   ],
   "metadata": {
    "collapsed": false,
    "pycharm": {
     "name": "#%%\n"
    }
   }
  },
  {
   "cell_type": "code",
   "execution_count": 154,
   "outputs": [],
   "source": [
    "df11=df11.T"
   ],
   "metadata": {
    "collapsed": false,
    "pycharm": {
     "name": "#%%\n"
    }
   }
  },
  {
   "cell_type": "code",
   "execution_count": 156,
   "outputs": [
    {
     "data": {
      "text/plain": "company_url            0\nMarket_cap             0\nCurrent_Price          0\nHigh                   0\nLow                    0\nP_E                    4\nBook_Value             0\nDividend_Yield         0\nROCE                   0\nROE                    0\nFace_Value             0\nSales_growth           0\nUp_from_52w_low        0\nIndustry_PE            0\nNo_Eq_Shares           0\nSales_growth_3Years    2\nDown_from_52w_high     0\nRSI                    0\nEPS_latest_quarter     0\nFrom_52w_high          0\nDebt_to_equity         0\ndtype: int64"
     },
     "execution_count": 156,
     "metadata": {},
     "output_type": "execute_result"
    }
   ],
   "source": [
    "df11.isna().sum()"
   ],
   "metadata": {
    "collapsed": false,
    "pycharm": {
     "name": "#%%\n"
    }
   }
  },
  {
   "cell_type": "code",
   "execution_count": 158,
   "outputs": [
    {
     "data": {
      "text/plain": "                                          company_url Market_cap  \\\n0   https://www.screener.in/company/OFSS/consolida...     56,694   \n1   https://www.screener.in/company/CAREERP/consol...        479   \n2   https://www.screener.in/company/INDOTHAI/conso...        337   \n3   https://www.screener.in/company/PAKKA/consolid...      1,265   \n4   https://www.screener.in/company/CREST/consolid...        977   \n5   https://www.screener.in/company/QUICKHEAL/cons...      2,598   \n6   https://www.screener.in/company/ISFT/consolida...        230   \n7   https://www.screener.in/company/KAMDHENU/conso...      1,369   \n8   https://www.screener.in/company/VERTOZ/consoli...      1,204   \n10  https://www.screener.in/company/VAIBHAVGBL/con...      8,105   \n11  https://www.screener.in/company/GILLANDERS/con...        310   \n13  https://www.screener.in/company/AURUM/consolid...        922   \n15  https://www.screener.in/company/BLS/consolidated/     16,031   \n\n   Current_Price   High    Low   P_E  Book_Value  Dividend_Yield   ROCE  \\\n0          6,546  6,623  2,987  26.5       750.0            3.44  35.10   \n1            262    264    118  21.5       278.0            0.76   3.05   \n2            336    487    189   0.0        65.7            0.18 -13.20   \n3            323    335   88.0  24.6        61.7            0.74  27.20   \n4            341    349    142  16.4       370.0            0.29  58.60   \n5            489    502    125   0.0        74.6            0.51   0.17   \n6            157    178   94.0  24.5       125.0            0.00   6.31   \n7            509    511    260  45.0        81.1            0.29  16.90   \n8            758    758    185  81.7        91.1            0.00  19.00   \n10           488    493    269  67.1        73.9            1.23  11.10   \n11           146    147   56.6   0.0       128.0            0.00   4.38   \n13           173    185   99.8   0.0        27.5            0.00 -16.20   \n15           390    413    150  60.0        23.1            0.19  31.60   \n\n      ROE  ...  Sales_growth  Up_from_52w_low  Industry_PE  No_Eq_Shares  \\\n0   24.80  ...         12.60            119.0        39.30          8.66   \n1    2.43  ...         45.10            121.0        66.90          1.82   \n2  -10.60  ...         19.20             77.7        20.60          1.00   \n3   25.00  ...         27.60            267.0         7.33          3.92   \n4   50.50  ...        -76.10            140.0        22.10          2.84   \n5    0.16  ...        -28.80            291.0        39.30          5.33   \n6    4.84  ...         11.30             66.7        38.70          1.47   \n7   14.70  ...         34.50             95.8        21.90          2.69   \n8   14.90  ...        159.00            310.0        39.30          1.59   \n10   9.02  ...          2.56             81.5        37.10         16.60   \n11   1.37  ...        -21.10            157.0        31.70          2.13   \n13 -14.90  ...        123.00             73.0        39.30          7.16   \n15  29.50  ...         51.10            160.0        39.30         41.20   \n\n    Sales_growth_3Years  Down_from_52w_high   RSI  EPS_latest_quarter  \\\n0                  5.44                1.17  87.0               85.50   \n1                 -6.55                0.80  78.0                6.33   \n2                 -6.78               31.00  81.9                4.34   \n3                  0.00                3.54  80.0                2.83   \n4                114.00                2.18  70.6               11.30   \n5                 -0.95                2.52  81.4                2.43   \n6                 -8.20               11.70  76.9                1.66   \n7                  0.00                0.44  82.4                2.01   \n8                 26.90                0.00  82.8                2.83   \n10                10.60                1.11  73.0                1.78   \n11               -12.00                1.15  74.8                1.71   \n13               131.00                6.65  70.9               -2.59   \n15                24.50                5.67  78.1                1.91   \n\n    From_52w_high  Debt_to_equity  \n0            0.99            0.01  \n1            0.99            0.03  \n2            0.69            0.04  \n3            0.96            0.45  \n4            0.98            0.20  \n5            0.97            0.00  \n6            0.88            0.80  \n7            1.00            0.43  \n8            1.00            0.07  \n10           0.99            0.15  \n11           0.99            0.53  \n13           0.93            1.18  \n15           0.94            0.02  \n\n[13 rows x 21 columns]",
      "text/html": "<div>\n<style scoped>\n    .dataframe tbody tr th:only-of-type {\n        vertical-align: middle;\n    }\n\n    .dataframe tbody tr th {\n        vertical-align: top;\n    }\n\n    .dataframe thead th {\n        text-align: right;\n    }\n</style>\n<table border=\"1\" class=\"dataframe\">\n  <thead>\n    <tr style=\"text-align: right;\">\n      <th></th>\n      <th>company_url</th>\n      <th>Market_cap</th>\n      <th>Current_Price</th>\n      <th>High</th>\n      <th>Low</th>\n      <th>P_E</th>\n      <th>Book_Value</th>\n      <th>Dividend_Yield</th>\n      <th>ROCE</th>\n      <th>ROE</th>\n      <th>...</th>\n      <th>Sales_growth</th>\n      <th>Up_from_52w_low</th>\n      <th>Industry_PE</th>\n      <th>No_Eq_Shares</th>\n      <th>Sales_growth_3Years</th>\n      <th>Down_from_52w_high</th>\n      <th>RSI</th>\n      <th>EPS_latest_quarter</th>\n      <th>From_52w_high</th>\n      <th>Debt_to_equity</th>\n    </tr>\n  </thead>\n  <tbody>\n    <tr>\n      <th>0</th>\n      <td>https://www.screener.in/company/OFSS/consolida...</td>\n      <td>56,694</td>\n      <td>6,546</td>\n      <td>6,623</td>\n      <td>2,987</td>\n      <td>26.5</td>\n      <td>750.0</td>\n      <td>3.44</td>\n      <td>35.10</td>\n      <td>24.80</td>\n      <td>...</td>\n      <td>12.60</td>\n      <td>119.0</td>\n      <td>39.30</td>\n      <td>8.66</td>\n      <td>5.44</td>\n      <td>1.17</td>\n      <td>87.0</td>\n      <td>85.50</td>\n      <td>0.99</td>\n      <td>0.01</td>\n    </tr>\n    <tr>\n      <th>1</th>\n      <td>https://www.screener.in/company/CAREERP/consol...</td>\n      <td>479</td>\n      <td>262</td>\n      <td>264</td>\n      <td>118</td>\n      <td>21.5</td>\n      <td>278.0</td>\n      <td>0.76</td>\n      <td>3.05</td>\n      <td>2.43</td>\n      <td>...</td>\n      <td>45.10</td>\n      <td>121.0</td>\n      <td>66.90</td>\n      <td>1.82</td>\n      <td>-6.55</td>\n      <td>0.80</td>\n      <td>78.0</td>\n      <td>6.33</td>\n      <td>0.99</td>\n      <td>0.03</td>\n    </tr>\n    <tr>\n      <th>2</th>\n      <td>https://www.screener.in/company/INDOTHAI/conso...</td>\n      <td>337</td>\n      <td>336</td>\n      <td>487</td>\n      <td>189</td>\n      <td>0.0</td>\n      <td>65.7</td>\n      <td>0.18</td>\n      <td>-13.20</td>\n      <td>-10.60</td>\n      <td>...</td>\n      <td>19.20</td>\n      <td>77.7</td>\n      <td>20.60</td>\n      <td>1.00</td>\n      <td>-6.78</td>\n      <td>31.00</td>\n      <td>81.9</td>\n      <td>4.34</td>\n      <td>0.69</td>\n      <td>0.04</td>\n    </tr>\n    <tr>\n      <th>3</th>\n      <td>https://www.screener.in/company/PAKKA/consolid...</td>\n      <td>1,265</td>\n      <td>323</td>\n      <td>335</td>\n      <td>88.0</td>\n      <td>24.6</td>\n      <td>61.7</td>\n      <td>0.74</td>\n      <td>27.20</td>\n      <td>25.00</td>\n      <td>...</td>\n      <td>27.60</td>\n      <td>267.0</td>\n      <td>7.33</td>\n      <td>3.92</td>\n      <td>0.00</td>\n      <td>3.54</td>\n      <td>80.0</td>\n      <td>2.83</td>\n      <td>0.96</td>\n      <td>0.45</td>\n    </tr>\n    <tr>\n      <th>4</th>\n      <td>https://www.screener.in/company/CREST/consolid...</td>\n      <td>977</td>\n      <td>341</td>\n      <td>349</td>\n      <td>142</td>\n      <td>16.4</td>\n      <td>370.0</td>\n      <td>0.29</td>\n      <td>58.60</td>\n      <td>50.50</td>\n      <td>...</td>\n      <td>-76.10</td>\n      <td>140.0</td>\n      <td>22.10</td>\n      <td>2.84</td>\n      <td>114.00</td>\n      <td>2.18</td>\n      <td>70.6</td>\n      <td>11.30</td>\n      <td>0.98</td>\n      <td>0.20</td>\n    </tr>\n    <tr>\n      <th>5</th>\n      <td>https://www.screener.in/company/QUICKHEAL/cons...</td>\n      <td>2,598</td>\n      <td>489</td>\n      <td>502</td>\n      <td>125</td>\n      <td>0.0</td>\n      <td>74.6</td>\n      <td>0.51</td>\n      <td>0.17</td>\n      <td>0.16</td>\n      <td>...</td>\n      <td>-28.80</td>\n      <td>291.0</td>\n      <td>39.30</td>\n      <td>5.33</td>\n      <td>-0.95</td>\n      <td>2.52</td>\n      <td>81.4</td>\n      <td>2.43</td>\n      <td>0.97</td>\n      <td>0.00</td>\n    </tr>\n    <tr>\n      <th>6</th>\n      <td>https://www.screener.in/company/ISFT/consolida...</td>\n      <td>230</td>\n      <td>157</td>\n      <td>178</td>\n      <td>94.0</td>\n      <td>24.5</td>\n      <td>125.0</td>\n      <td>0.00</td>\n      <td>6.31</td>\n      <td>4.84</td>\n      <td>...</td>\n      <td>11.30</td>\n      <td>66.7</td>\n      <td>38.70</td>\n      <td>1.47</td>\n      <td>-8.20</td>\n      <td>11.70</td>\n      <td>76.9</td>\n      <td>1.66</td>\n      <td>0.88</td>\n      <td>0.80</td>\n    </tr>\n    <tr>\n      <th>7</th>\n      <td>https://www.screener.in/company/KAMDHENU/conso...</td>\n      <td>1,369</td>\n      <td>509</td>\n      <td>511</td>\n      <td>260</td>\n      <td>45.0</td>\n      <td>81.1</td>\n      <td>0.29</td>\n      <td>16.90</td>\n      <td>14.70</td>\n      <td>...</td>\n      <td>34.50</td>\n      <td>95.8</td>\n      <td>21.90</td>\n      <td>2.69</td>\n      <td>0.00</td>\n      <td>0.44</td>\n      <td>82.4</td>\n      <td>2.01</td>\n      <td>1.00</td>\n      <td>0.43</td>\n    </tr>\n    <tr>\n      <th>8</th>\n      <td>https://www.screener.in/company/VERTOZ/consoli...</td>\n      <td>1,204</td>\n      <td>758</td>\n      <td>758</td>\n      <td>185</td>\n      <td>81.7</td>\n      <td>91.1</td>\n      <td>0.00</td>\n      <td>19.00</td>\n      <td>14.90</td>\n      <td>...</td>\n      <td>159.00</td>\n      <td>310.0</td>\n      <td>39.30</td>\n      <td>1.59</td>\n      <td>26.90</td>\n      <td>0.00</td>\n      <td>82.8</td>\n      <td>2.83</td>\n      <td>1.00</td>\n      <td>0.07</td>\n    </tr>\n    <tr>\n      <th>10</th>\n      <td>https://www.screener.in/company/VAIBHAVGBL/con...</td>\n      <td>8,105</td>\n      <td>488</td>\n      <td>493</td>\n      <td>269</td>\n      <td>67.1</td>\n      <td>73.9</td>\n      <td>1.23</td>\n      <td>11.10</td>\n      <td>9.02</td>\n      <td>...</td>\n      <td>2.56</td>\n      <td>81.5</td>\n      <td>37.10</td>\n      <td>16.60</td>\n      <td>10.60</td>\n      <td>1.11</td>\n      <td>73.0</td>\n      <td>1.78</td>\n      <td>0.99</td>\n      <td>0.15</td>\n    </tr>\n    <tr>\n      <th>11</th>\n      <td>https://www.screener.in/company/GILLANDERS/con...</td>\n      <td>310</td>\n      <td>146</td>\n      <td>147</td>\n      <td>56.6</td>\n      <td>0.0</td>\n      <td>128.0</td>\n      <td>0.00</td>\n      <td>4.38</td>\n      <td>1.37</td>\n      <td>...</td>\n      <td>-21.10</td>\n      <td>157.0</td>\n      <td>31.70</td>\n      <td>2.13</td>\n      <td>-12.00</td>\n      <td>1.15</td>\n      <td>74.8</td>\n      <td>1.71</td>\n      <td>0.99</td>\n      <td>0.53</td>\n    </tr>\n    <tr>\n      <th>13</th>\n      <td>https://www.screener.in/company/AURUM/consolid...</td>\n      <td>922</td>\n      <td>173</td>\n      <td>185</td>\n      <td>99.8</td>\n      <td>0.0</td>\n      <td>27.5</td>\n      <td>0.00</td>\n      <td>-16.20</td>\n      <td>-14.90</td>\n      <td>...</td>\n      <td>123.00</td>\n      <td>73.0</td>\n      <td>39.30</td>\n      <td>7.16</td>\n      <td>131.00</td>\n      <td>6.65</td>\n      <td>70.9</td>\n      <td>-2.59</td>\n      <td>0.93</td>\n      <td>1.18</td>\n    </tr>\n    <tr>\n      <th>15</th>\n      <td>https://www.screener.in/company/BLS/consolidated/</td>\n      <td>16,031</td>\n      <td>390</td>\n      <td>413</td>\n      <td>150</td>\n      <td>60.0</td>\n      <td>23.1</td>\n      <td>0.19</td>\n      <td>31.60</td>\n      <td>29.50</td>\n      <td>...</td>\n      <td>51.10</td>\n      <td>160.0</td>\n      <td>39.30</td>\n      <td>41.20</td>\n      <td>24.50</td>\n      <td>5.67</td>\n      <td>78.1</td>\n      <td>1.91</td>\n      <td>0.94</td>\n      <td>0.02</td>\n    </tr>\n  </tbody>\n</table>\n<p>13 rows × 21 columns</p>\n</div>"
     },
     "execution_count": 158,
     "metadata": {},
     "output_type": "execute_result"
    }
   ],
   "source": [
    "df11.fillna(0)"
   ],
   "metadata": {
    "collapsed": false,
    "pycharm": {
     "name": "#%%\n"
    }
   }
  },
  {
   "cell_type": "code",
   "execution_count": 187,
   "outputs": [],
   "source": [
    "for i in df11.columns[5:]:\n",
    "    # print(i)\n",
    "    try:\n",
    "        df11[i]=df11[i].str.replace(\",\",\"\").astype(float)\n",
    "    except:\n",
    "        pass"
   ],
   "metadata": {
    "collapsed": false,
    "pycharm": {
     "name": "#%%\n"
    }
   }
  },
  {
   "cell_type": "code",
   "execution_count": 170,
   "outputs": [],
   "source": [
    "df11[\"Market_cap\"]=df11[\"Market_cap\"].str.replace(\",\",\"\").astype(float)"
   ],
   "metadata": {
    "collapsed": false,
    "pycharm": {
     "name": "#%%\n"
    }
   }
  },
  {
   "cell_type": "code",
   "execution_count": 168,
   "outputs": [
    {
     "data": {
      "text/plain": "company_url            object\nMarket_cap             object\nCurrent_Price          object\nHigh                   object\nLow                    object\nP_E                    object\nBook_Value             object\nDividend_Yield         object\nROCE                   object\nROE                    object\nFace_Value             object\nSales_growth           object\nUp_from_52w_low        object\nIndustry_PE            object\nNo_Eq_Shares           object\nSales_growth_3Years    object\nDown_from_52w_high     object\nRSI                    object\nEPS_latest_quarter     object\nFrom_52w_high          object\nDebt_to_equity         object\ndtype: object"
     },
     "execution_count": 168,
     "metadata": {},
     "output_type": "execute_result"
    }
   ],
   "source": [
    "df11.dtypes"
   ],
   "metadata": {
    "collapsed": false,
    "pycharm": {
     "name": "#%%\n"
    }
   }
  },
  {
   "cell_type": "code",
   "execution_count": 171,
   "outputs": [
    {
     "data": {
      "text/plain": "0     56694.0\n1       479.0\n2       337.0\n3      1265.0\n4       977.0\n5      2598.0\n6       230.0\n7      1369.0\n8      1204.0\n10     8105.0\n11      310.0\n13      922.0\n15    16031.0\nName: Market_cap, dtype: float64"
     },
     "execution_count": 171,
     "metadata": {},
     "output_type": "execute_result"
    }
   ],
   "source": [
    "df11[\"Market_cap\"]"
   ],
   "metadata": {
    "collapsed": false,
    "pycharm": {
     "name": "#%%\n"
    }
   }
  },
  {
   "cell_type": "code",
   "execution_count": 188,
   "outputs": [
    {
     "data": {
      "text/plain": "company_url             object\nMarket_cap             float64\nCurrent_Price          float64\nHigh                   float64\nLow                    float64\nP_E                    float64\nBook_Value             float64\nDividend_Yield         float64\nROCE                   float64\nROE                    float64\nFace_Value             float64\nSales_growth           float64\nUp_from_52w_low        float64\nIndustry_PE            float64\nNo_Eq_Shares           float64\nSales_growth_3Years    float64\nDown_from_52w_high     float64\nRSI                    float64\nEPS_latest_quarter     float64\nFrom_52w_high          float64\nDebt_to_equity         float64\ndtype: object"
     },
     "execution_count": 188,
     "metadata": {},
     "output_type": "execute_result"
    }
   ],
   "source": [
    "df11.dtypes"
   ],
   "metadata": {
    "collapsed": false,
    "pycharm": {
     "name": "#%%\n"
    }
   }
  },
  {
   "cell_type": "code",
   "execution_count": 177,
   "outputs": [
    {
     "data": {
      "text/plain": "company_url            0\nMarket_cap             0\nCurrent_Price          0\nHigh                   0\nLow                    0\nP_E                    4\nBook_Value             0\nDividend_Yield         0\nROCE                   0\nROE                    0\nFace_Value             0\nSales_growth           0\nUp_from_52w_low        0\nIndustry_PE            0\nNo_Eq_Shares           0\nSales_growth_3Years    2\nDown_from_52w_high     0\nRSI                    0\nEPS_latest_quarter     0\nFrom_52w_high          0\nDebt_to_equity         0\ndtype: int64"
     },
     "execution_count": 177,
     "metadata": {},
     "output_type": "execute_result"
    }
   ],
   "source": [
    "df11.isnull().sum()"
   ],
   "metadata": {
    "collapsed": false,
    "pycharm": {
     "name": "#%%\n"
    }
   }
  },
  {
   "cell_type": "code",
   "execution_count": 179,
   "outputs": [],
   "source": [
    "df11.fillna(0,inplace=True)"
   ],
   "metadata": {
    "collapsed": false,
    "pycharm": {
     "name": "#%%\n"
    }
   }
  },
  {
   "cell_type": "code",
   "execution_count": 181,
   "outputs": [
    {
     "data": {
      "text/plain": "company_url            0\nMarket_cap             0\nCurrent_Price          0\nHigh                   0\nLow                    0\nP_E                    0\nBook_Value             0\nDividend_Yield         0\nROCE                   0\nROE                    0\nFace_Value             0\nSales_growth           0\nUp_from_52w_low        0\nIndustry_PE            0\nNo_Eq_Shares           0\nSales_growth_3Years    0\nDown_from_52w_high     0\nRSI                    0\nEPS_latest_quarter     0\nFrom_52w_high          0\nDebt_to_equity         0\ndtype: int64"
     },
     "execution_count": 181,
     "metadata": {},
     "output_type": "execute_result"
    }
   ],
   "source": [
    "df11.isna().sum()"
   ],
   "metadata": {
    "collapsed": false,
    "pycharm": {
     "name": "#%%\n"
    }
   }
  },
  {
   "cell_type": "code",
   "execution_count": 202,
   "outputs": [
    {
     "data": {
      "text/plain": "                                          company_url  Market_cap  \\\n0   https://www.screener.in/company/OFSS/consolida...     56694.0   \n10  https://www.screener.in/company/VAIBHAVGBL/con...      8105.0   \n15  https://www.screener.in/company/BLS/consolidated/     16031.0   \n\n    Current_Price    High     Low   P_E  Book_Value  Dividend_Yield  ROCE  \\\n0          6546.0  6623.0  2987.0  26.5       750.0            3.44  35.1   \n10          488.0   493.0   269.0  67.1        73.9            1.23  11.1   \n15          390.0   413.0   150.0  60.0        23.1            0.19  31.6   \n\n      ROE  ...  Sales_growth  Up_from_52w_low  Industry_PE  No_Eq_Shares  \\\n0   24.80  ...         12.60            119.0         39.3          8.66   \n10   9.02  ...          2.56             81.5         37.1         16.60   \n15  29.50  ...         51.10            160.0         39.3         41.20   \n\n    Sales_growth_3Years  Down_from_52w_high   RSI  EPS_latest_quarter  \\\n0                  5.44                1.17  87.0               85.50   \n10                10.60                1.11  73.0                1.78   \n15                24.50                5.67  78.1                1.91   \n\n    From_52w_high  Debt_to_equity  \n0            0.99            0.01  \n10           0.99            0.15  \n15           0.94            0.02  \n\n[3 rows x 21 columns]",
      "text/html": "<div>\n<style scoped>\n    .dataframe tbody tr th:only-of-type {\n        vertical-align: middle;\n    }\n\n    .dataframe tbody tr th {\n        vertical-align: top;\n    }\n\n    .dataframe thead th {\n        text-align: right;\n    }\n</style>\n<table border=\"1\" class=\"dataframe\">\n  <thead>\n    <tr style=\"text-align: right;\">\n      <th></th>\n      <th>company_url</th>\n      <th>Market_cap</th>\n      <th>Current_Price</th>\n      <th>High</th>\n      <th>Low</th>\n      <th>P_E</th>\n      <th>Book_Value</th>\n      <th>Dividend_Yield</th>\n      <th>ROCE</th>\n      <th>ROE</th>\n      <th>...</th>\n      <th>Sales_growth</th>\n      <th>Up_from_52w_low</th>\n      <th>Industry_PE</th>\n      <th>No_Eq_Shares</th>\n      <th>Sales_growth_3Years</th>\n      <th>Down_from_52w_high</th>\n      <th>RSI</th>\n      <th>EPS_latest_quarter</th>\n      <th>From_52w_high</th>\n      <th>Debt_to_equity</th>\n    </tr>\n  </thead>\n  <tbody>\n    <tr>\n      <th>0</th>\n      <td>https://www.screener.in/company/OFSS/consolida...</td>\n      <td>56694.0</td>\n      <td>6546.0</td>\n      <td>6623.0</td>\n      <td>2987.0</td>\n      <td>26.5</td>\n      <td>750.0</td>\n      <td>3.44</td>\n      <td>35.1</td>\n      <td>24.80</td>\n      <td>...</td>\n      <td>12.60</td>\n      <td>119.0</td>\n      <td>39.3</td>\n      <td>8.66</td>\n      <td>5.44</td>\n      <td>1.17</td>\n      <td>87.0</td>\n      <td>85.50</td>\n      <td>0.99</td>\n      <td>0.01</td>\n    </tr>\n    <tr>\n      <th>10</th>\n      <td>https://www.screener.in/company/VAIBHAVGBL/con...</td>\n      <td>8105.0</td>\n      <td>488.0</td>\n      <td>493.0</td>\n      <td>269.0</td>\n      <td>67.1</td>\n      <td>73.9</td>\n      <td>1.23</td>\n      <td>11.1</td>\n      <td>9.02</td>\n      <td>...</td>\n      <td>2.56</td>\n      <td>81.5</td>\n      <td>37.1</td>\n      <td>16.60</td>\n      <td>10.60</td>\n      <td>1.11</td>\n      <td>73.0</td>\n      <td>1.78</td>\n      <td>0.99</td>\n      <td>0.15</td>\n    </tr>\n    <tr>\n      <th>15</th>\n      <td>https://www.screener.in/company/BLS/consolidated/</td>\n      <td>16031.0</td>\n      <td>390.0</td>\n      <td>413.0</td>\n      <td>150.0</td>\n      <td>60.0</td>\n      <td>23.1</td>\n      <td>0.19</td>\n      <td>31.6</td>\n      <td>29.50</td>\n      <td>...</td>\n      <td>51.10</td>\n      <td>160.0</td>\n      <td>39.3</td>\n      <td>41.20</td>\n      <td>24.50</td>\n      <td>5.67</td>\n      <td>78.1</td>\n      <td>1.91</td>\n      <td>0.94</td>\n      <td>0.02</td>\n    </tr>\n  </tbody>\n</table>\n<p>3 rows × 21 columns</p>\n</div>"
     },
     "execution_count": 202,
     "metadata": {},
     "output_type": "execute_result"
    }
   ],
   "source": [
    "df11[(df11[\"RSI\"]>70) & (df11[\"Market_cap\"]>5000)]"
   ],
   "metadata": {
    "collapsed": false,
    "pycharm": {
     "name": "#%%\n"
    }
   }
  },
  {
   "cell_type": "code",
   "execution_count": 204,
   "outputs": [],
   "source": [
    "df12=pd.read_csv(r\"D:\\Pyn\\online learning\\FINAL_DATA\\SCRNER_DATA\\allcomapydata20240118.csv\")"
   ],
   "metadata": {
    "collapsed": false,
    "pycharm": {
     "name": "#%%\n"
    }
   }
  },
  {
   "cell_type": "code",
   "execution_count": 205,
   "outputs": [
    {
     "data": {
      "text/plain": "                                         company_url Market_cap Current_Price  \\\n0  https://www.screener.in/company/GSFC/consolida...     11,297           284   \n1  https://www.screener.in/company/JBMA/consolida...     22,355         1,890   \n2  https://www.screener.in/company/ALKYLAMINE/con...     12,072         2,360   \n3  https://www.screener.in/company/CASTROLIND/con...        NaN           NaN   \n4  https://www.screener.in/company/IDEA/consolida...     73,555          15.1   \n\n    High    Low   P_E Book_Value  Dividend_Yield  ROCE   ROE  ...  \\\n0    306    116  10.7        310            3.52  13.1  10.6  ...   \n1  2,007    482   163       90.1            0.07  11.8  12.9  ...   \n2  2,798  2,119  63.7        105            0.42  41.3  41.4  ...   \n3    NaN    NaN   NaN        NaN             NaN   NaN   NaN  ...   \n4   18.4   5.70   NaN      -18.7            0.00   NaN   NaN  ...   \n\n   Sales_growth  Up_from_52w_low  Industry_PE  No_Eq_Shares  \\\n0          8.20            145.0         26.6          39.8   \n1          9.31            292.0         33.2          11.8   \n2         17.30             11.4         34.3          5.11   \n3          0.00              0.0          0.0             0   \n4          3.76            165.0         57.1         4,868   \n\n  Sales_growth_3Years  Down_from_52w_high   RSI  EPS_latest_quarter  \\\n0               13.40                7.27  65.3                7.75   \n1               25.60                5.84  70.7                3.74   \n2               25.60               15.60  43.0                9.65   \n3                0.00                0.00   0.0                   0   \n4               -2.11               18.00  49.4               -1.79   \n\n  From_52w_high  Debt_to_equity  \n0          0.93            0.00  \n1          0.94            1.93  \n2          0.84            0.16  \n3          0.00            0.00  \n4          0.82             NaN  \n\n[5 rows x 21 columns]",
      "text/html": "<div>\n<style scoped>\n    .dataframe tbody tr th:only-of-type {\n        vertical-align: middle;\n    }\n\n    .dataframe tbody tr th {\n        vertical-align: top;\n    }\n\n    .dataframe thead th {\n        text-align: right;\n    }\n</style>\n<table border=\"1\" class=\"dataframe\">\n  <thead>\n    <tr style=\"text-align: right;\">\n      <th></th>\n      <th>company_url</th>\n      <th>Market_cap</th>\n      <th>Current_Price</th>\n      <th>High</th>\n      <th>Low</th>\n      <th>P_E</th>\n      <th>Book_Value</th>\n      <th>Dividend_Yield</th>\n      <th>ROCE</th>\n      <th>ROE</th>\n      <th>...</th>\n      <th>Sales_growth</th>\n      <th>Up_from_52w_low</th>\n      <th>Industry_PE</th>\n      <th>No_Eq_Shares</th>\n      <th>Sales_growth_3Years</th>\n      <th>Down_from_52w_high</th>\n      <th>RSI</th>\n      <th>EPS_latest_quarter</th>\n      <th>From_52w_high</th>\n      <th>Debt_to_equity</th>\n    </tr>\n  </thead>\n  <tbody>\n    <tr>\n      <th>0</th>\n      <td>https://www.screener.in/company/GSFC/consolida...</td>\n      <td>11,297</td>\n      <td>284</td>\n      <td>306</td>\n      <td>116</td>\n      <td>10.7</td>\n      <td>310</td>\n      <td>3.52</td>\n      <td>13.1</td>\n      <td>10.6</td>\n      <td>...</td>\n      <td>8.20</td>\n      <td>145.0</td>\n      <td>26.6</td>\n      <td>39.8</td>\n      <td>13.40</td>\n      <td>7.27</td>\n      <td>65.3</td>\n      <td>7.75</td>\n      <td>0.93</td>\n      <td>0.00</td>\n    </tr>\n    <tr>\n      <th>1</th>\n      <td>https://www.screener.in/company/JBMA/consolida...</td>\n      <td>22,355</td>\n      <td>1,890</td>\n      <td>2,007</td>\n      <td>482</td>\n      <td>163</td>\n      <td>90.1</td>\n      <td>0.07</td>\n      <td>11.8</td>\n      <td>12.9</td>\n      <td>...</td>\n      <td>9.31</td>\n      <td>292.0</td>\n      <td>33.2</td>\n      <td>11.8</td>\n      <td>25.60</td>\n      <td>5.84</td>\n      <td>70.7</td>\n      <td>3.74</td>\n      <td>0.94</td>\n      <td>1.93</td>\n    </tr>\n    <tr>\n      <th>2</th>\n      <td>https://www.screener.in/company/ALKYLAMINE/con...</td>\n      <td>12,072</td>\n      <td>2,360</td>\n      <td>2,798</td>\n      <td>2,119</td>\n      <td>63.7</td>\n      <td>105</td>\n      <td>0.42</td>\n      <td>41.3</td>\n      <td>41.4</td>\n      <td>...</td>\n      <td>17.30</td>\n      <td>11.4</td>\n      <td>34.3</td>\n      <td>5.11</td>\n      <td>25.60</td>\n      <td>15.60</td>\n      <td>43.0</td>\n      <td>9.65</td>\n      <td>0.84</td>\n      <td>0.16</td>\n    </tr>\n    <tr>\n      <th>3</th>\n      <td>https://www.screener.in/company/CASTROLIND/con...</td>\n      <td>NaN</td>\n      <td>NaN</td>\n      <td>NaN</td>\n      <td>NaN</td>\n      <td>NaN</td>\n      <td>NaN</td>\n      <td>NaN</td>\n      <td>NaN</td>\n      <td>NaN</td>\n      <td>...</td>\n      <td>0.00</td>\n      <td>0.0</td>\n      <td>0.0</td>\n      <td>0</td>\n      <td>0.00</td>\n      <td>0.00</td>\n      <td>0.0</td>\n      <td>0</td>\n      <td>0.00</td>\n      <td>0.00</td>\n    </tr>\n    <tr>\n      <th>4</th>\n      <td>https://www.screener.in/company/IDEA/consolida...</td>\n      <td>73,555</td>\n      <td>15.1</td>\n      <td>18.4</td>\n      <td>5.70</td>\n      <td>NaN</td>\n      <td>-18.7</td>\n      <td>0.00</td>\n      <td>NaN</td>\n      <td>NaN</td>\n      <td>...</td>\n      <td>3.76</td>\n      <td>165.0</td>\n      <td>57.1</td>\n      <td>4,868</td>\n      <td>-2.11</td>\n      <td>18.00</td>\n      <td>49.4</td>\n      <td>-1.79</td>\n      <td>0.82</td>\n      <td>NaN</td>\n    </tr>\n  </tbody>\n</table>\n<p>5 rows × 21 columns</p>\n</div>"
     },
     "execution_count": 205,
     "metadata": {},
     "output_type": "execute_result"
    }
   ],
   "source": [
    "df12.head()"
   ],
   "metadata": {
    "collapsed": false,
    "pycharm": {
     "name": "#%%\n"
    }
   }
  },
  {
   "cell_type": "code",
   "execution_count": 207,
   "outputs": [
    {
     "data": {
      "text/plain": "company_url             0\nMarket_cap             34\nCurrent_Price          34\nHigh                   34\nLow                    34\nP_E                    60\nBook_Value             40\nDividend_Yield         34\nROCE                   43\nROE                    49\nFace_Value             34\nSales_growth            6\nUp_from_52w_low         0\nIndustry_PE             0\nNo_Eq_Shares            0\nSales_growth_3Years    24\nDown_from_52w_high      0\nRSI                     0\nEPS_latest_quarter      6\nFrom_52w_high           0\nDebt_to_equity         10\ndtype: int64"
     },
     "execution_count": 207,
     "metadata": {},
     "output_type": "execute_result"
    }
   ],
   "source": [
    "df12.isna().sum()"
   ],
   "metadata": {
    "collapsed": false,
    "pycharm": {
     "name": "#%%\n"
    }
   }
  },
  {
   "cell_type": "code",
   "execution_count": 210,
   "outputs": [],
   "source": [
    "df13=df12.T"
   ],
   "metadata": {
    "collapsed": false,
    "pycharm": {
     "name": "#%%\n"
    }
   }
  },
  {
   "cell_type": "code",
   "execution_count": 225,
   "outputs": [],
   "source": [
    "remove=df13.isna().sum()[df13.isna().sum()>6].index"
   ],
   "metadata": {
    "collapsed": false,
    "pycharm": {
     "name": "#%%\n"
    }
   }
  },
  {
   "cell_type": "code",
   "execution_count": 227,
   "outputs": [],
   "source": [
    "for i in remove:\n",
    "    df13.drop(i,axis=1,inplace=True)"
   ],
   "metadata": {
    "collapsed": false,
    "pycharm": {
     "name": "#%%\n"
    }
   }
  },
  {
   "cell_type": "code",
   "execution_count": 224,
   "outputs": [
    {
     "data": {
      "text/plain": "3      10\n28     10\n40     10\n62     10\n63     10\n95     10\n103    10\n104    10\n121    10\n124    10\n125    10\n132    10\n135    10\n140    10\n145    10\n164    10\n180    10\n190    10\n216    10\n223    10\n239    10\n250    10\n269    10\n280    10\n286    10\n291    10\n298    10\n299    10\n311    10\n327    10\n328    10\n340    10\n358    10\n435    10\ndtype: int64"
     },
     "execution_count": 224,
     "metadata": {},
     "output_type": "execute_result"
    }
   ],
   "source": [
    "df13.isna().sum()[df13.isna().sum()>6]"
   ],
   "metadata": {
    "collapsed": false,
    "pycharm": {
     "name": "#%%\n"
    }
   }
  },
  {
   "cell_type": "code",
   "execution_count": 229,
   "outputs": [
    {
     "data": {
      "text/plain": "0      0\n1      0\n2      0\n4      4\n5      5\n      ..\n496    0\n497    0\n498    0\n499    0\n500    0\nLength: 467, dtype: int64"
     },
     "execution_count": 229,
     "metadata": {},
     "output_type": "execute_result"
    }
   ],
   "source": [
    "df13.isna().sum()"
   ],
   "metadata": {
    "collapsed": false,
    "pycharm": {
     "name": "#%%\n"
    }
   }
  },
  {
   "cell_type": "code",
   "execution_count": 231,
   "outputs": [],
   "source": [
    "df13=df13.T"
   ],
   "metadata": {
    "collapsed": false,
    "pycharm": {
     "name": "#%%\n"
    }
   }
  },
  {
   "cell_type": "code",
   "execution_count": 232,
   "outputs": [
    {
     "data": {
      "text/plain": "                                           company_url Market_cap  \\\n0    https://www.screener.in/company/GSFC/consolida...     11,297   \n1    https://www.screener.in/company/JBMA/consolida...     22,355   \n2    https://www.screener.in/company/ALKYLAMINE/con...     12,072   \n4    https://www.screener.in/company/IDEA/consolida...     73,555   \n5    https://www.screener.in/company/SPARC/consolid...     12,299   \n..                                                 ...        ...   \n496  https://www.screener.in/company/CHOLAFIN/conso...   1,08,540   \n497  https://www.screener.in/company/EICHERMOT/cons...   1,01,037   \n498  https://www.screener.in/company/SONATSOFTW/con...     21,465   \n499  https://www.screener.in/company/SAFARI/consoli...      9,042   \n500  https://www.screener.in/company/BBTC/consolida...     11,091   \n\n    Current_Price   High    Low   P_E Book_Value Dividend_Yield  ROCE   ROE  \\\n0             284    306    116  10.7        310           3.52  13.1  10.6   \n1           1,890  2,007    482   163       90.1           0.07  11.8  12.9   \n2           2,360  2,798  2,119  63.7        105           0.42  41.3  41.4   \n4            15.1   18.4   5.70   NaN      -18.7            0.0   NaN   NaN   \n5             379    424    160   NaN       10.2            0.0   NaN   NaN   \n..            ...    ...    ...   ...        ...            ...   ...   ...   \n496         1,292  1,310    688  35.9        192           0.15  9.72  20.4   \n497         3,691  4,202  2,836  28.2        582            1.0  27.4  21.1   \n498           766    804    286  45.1       51.4           1.03  39.1  37.7   \n499         1,900  2,315    850  55.7        108           0.09  37.5  34.4   \n500         1,591  1,702    781  41.6        572           0.08  15.5 -70.0   \n\n     ... Sales_growth Up_from_52w_low Industry_PE No_Eq_Shares  \\\n0    ...          8.2           145.0        26.6         39.8   \n1    ...         9.31           292.0        33.2         11.8   \n2    ...         17.3            11.4        34.3         5.11   \n4    ...         3.76           165.0        57.1        4,868   \n5    ...          NaN           136.0        38.7         32.4   \n..   ...          ...             ...         ...          ...   \n496  ...         44.3            87.9        22.1         84.0   \n497  ...         20.3            30.2        46.9         27.4   \n498  ...         22.8           168.0        39.3         28.0   \n499  ...         39.8           123.0        57.0         4.76   \n500  ...         8.91           104.0        33.2         6.98   \n\n    Sales_growth_3Years Down_from_52w_high   RSI EPS_latest_quarter  \\\n0                  13.4               7.27  65.3               7.75   \n1                  25.6               5.84  70.7               3.74   \n2                  25.6               15.6  43.0               9.65   \n4                 -2.11               18.0  49.4              -1.79   \n5                   NaN               10.5  64.0              -2.66   \n..                  ...                ...   ...                ...   \n496                13.9                1.4  61.5               9.40   \n497                16.4               12.2  33.6               37.1   \n498                25.8               4.75  63.6               4.43   \n499                20.9               17.9  40.8               8.35   \n500                11.8                6.5  58.2               17.5   \n\n    From_52w_high Debt_to_equity  \n0            0.93            0.0  \n1            0.94           1.93  \n2            0.84           0.16  \n4            0.82            NaN  \n5            0.89           0.04  \n..            ...            ...  \n496          0.99           7.56  \n497          0.88           0.03  \n498          0.95           0.35  \n499          0.82           0.26  \n500          0.94           1.39  \n\n[467 rows x 21 columns]",
      "text/html": "<div>\n<style scoped>\n    .dataframe tbody tr th:only-of-type {\n        vertical-align: middle;\n    }\n\n    .dataframe tbody tr th {\n        vertical-align: top;\n    }\n\n    .dataframe thead th {\n        text-align: right;\n    }\n</style>\n<table border=\"1\" class=\"dataframe\">\n  <thead>\n    <tr style=\"text-align: right;\">\n      <th></th>\n      <th>company_url</th>\n      <th>Market_cap</th>\n      <th>Current_Price</th>\n      <th>High</th>\n      <th>Low</th>\n      <th>P_E</th>\n      <th>Book_Value</th>\n      <th>Dividend_Yield</th>\n      <th>ROCE</th>\n      <th>ROE</th>\n      <th>...</th>\n      <th>Sales_growth</th>\n      <th>Up_from_52w_low</th>\n      <th>Industry_PE</th>\n      <th>No_Eq_Shares</th>\n      <th>Sales_growth_3Years</th>\n      <th>Down_from_52w_high</th>\n      <th>RSI</th>\n      <th>EPS_latest_quarter</th>\n      <th>From_52w_high</th>\n      <th>Debt_to_equity</th>\n    </tr>\n  </thead>\n  <tbody>\n    <tr>\n      <th>0</th>\n      <td>https://www.screener.in/company/GSFC/consolida...</td>\n      <td>11,297</td>\n      <td>284</td>\n      <td>306</td>\n      <td>116</td>\n      <td>10.7</td>\n      <td>310</td>\n      <td>3.52</td>\n      <td>13.1</td>\n      <td>10.6</td>\n      <td>...</td>\n      <td>8.2</td>\n      <td>145.0</td>\n      <td>26.6</td>\n      <td>39.8</td>\n      <td>13.4</td>\n      <td>7.27</td>\n      <td>65.3</td>\n      <td>7.75</td>\n      <td>0.93</td>\n      <td>0.0</td>\n    </tr>\n    <tr>\n      <th>1</th>\n      <td>https://www.screener.in/company/JBMA/consolida...</td>\n      <td>22,355</td>\n      <td>1,890</td>\n      <td>2,007</td>\n      <td>482</td>\n      <td>163</td>\n      <td>90.1</td>\n      <td>0.07</td>\n      <td>11.8</td>\n      <td>12.9</td>\n      <td>...</td>\n      <td>9.31</td>\n      <td>292.0</td>\n      <td>33.2</td>\n      <td>11.8</td>\n      <td>25.6</td>\n      <td>5.84</td>\n      <td>70.7</td>\n      <td>3.74</td>\n      <td>0.94</td>\n      <td>1.93</td>\n    </tr>\n    <tr>\n      <th>2</th>\n      <td>https://www.screener.in/company/ALKYLAMINE/con...</td>\n      <td>12,072</td>\n      <td>2,360</td>\n      <td>2,798</td>\n      <td>2,119</td>\n      <td>63.7</td>\n      <td>105</td>\n      <td>0.42</td>\n      <td>41.3</td>\n      <td>41.4</td>\n      <td>...</td>\n      <td>17.3</td>\n      <td>11.4</td>\n      <td>34.3</td>\n      <td>5.11</td>\n      <td>25.6</td>\n      <td>15.6</td>\n      <td>43.0</td>\n      <td>9.65</td>\n      <td>0.84</td>\n      <td>0.16</td>\n    </tr>\n    <tr>\n      <th>4</th>\n      <td>https://www.screener.in/company/IDEA/consolida...</td>\n      <td>73,555</td>\n      <td>15.1</td>\n      <td>18.4</td>\n      <td>5.70</td>\n      <td>NaN</td>\n      <td>-18.7</td>\n      <td>0.0</td>\n      <td>NaN</td>\n      <td>NaN</td>\n      <td>...</td>\n      <td>3.76</td>\n      <td>165.0</td>\n      <td>57.1</td>\n      <td>4,868</td>\n      <td>-2.11</td>\n      <td>18.0</td>\n      <td>49.4</td>\n      <td>-1.79</td>\n      <td>0.82</td>\n      <td>NaN</td>\n    </tr>\n    <tr>\n      <th>5</th>\n      <td>https://www.screener.in/company/SPARC/consolid...</td>\n      <td>12,299</td>\n      <td>379</td>\n      <td>424</td>\n      <td>160</td>\n      <td>NaN</td>\n      <td>10.2</td>\n      <td>0.0</td>\n      <td>NaN</td>\n      <td>NaN</td>\n      <td>...</td>\n      <td>NaN</td>\n      <td>136.0</td>\n      <td>38.7</td>\n      <td>32.4</td>\n      <td>NaN</td>\n      <td>10.5</td>\n      <td>64.0</td>\n      <td>-2.66</td>\n      <td>0.89</td>\n      <td>0.04</td>\n    </tr>\n    <tr>\n      <th>...</th>\n      <td>...</td>\n      <td>...</td>\n      <td>...</td>\n      <td>...</td>\n      <td>...</td>\n      <td>...</td>\n      <td>...</td>\n      <td>...</td>\n      <td>...</td>\n      <td>...</td>\n      <td>...</td>\n      <td>...</td>\n      <td>...</td>\n      <td>...</td>\n      <td>...</td>\n      <td>...</td>\n      <td>...</td>\n      <td>...</td>\n      <td>...</td>\n      <td>...</td>\n      <td>...</td>\n    </tr>\n    <tr>\n      <th>496</th>\n      <td>https://www.screener.in/company/CHOLAFIN/conso...</td>\n      <td>1,08,540</td>\n      <td>1,292</td>\n      <td>1,310</td>\n      <td>688</td>\n      <td>35.9</td>\n      <td>192</td>\n      <td>0.15</td>\n      <td>9.72</td>\n      <td>20.4</td>\n      <td>...</td>\n      <td>44.3</td>\n      <td>87.9</td>\n      <td>22.1</td>\n      <td>84.0</td>\n      <td>13.9</td>\n      <td>1.4</td>\n      <td>61.5</td>\n      <td>9.40</td>\n      <td>0.99</td>\n      <td>7.56</td>\n    </tr>\n    <tr>\n      <th>497</th>\n      <td>https://www.screener.in/company/EICHERMOT/cons...</td>\n      <td>1,01,037</td>\n      <td>3,691</td>\n      <td>4,202</td>\n      <td>2,836</td>\n      <td>28.2</td>\n      <td>582</td>\n      <td>1.0</td>\n      <td>27.4</td>\n      <td>21.1</td>\n      <td>...</td>\n      <td>20.3</td>\n      <td>30.2</td>\n      <td>46.9</td>\n      <td>27.4</td>\n      <td>16.4</td>\n      <td>12.2</td>\n      <td>33.6</td>\n      <td>37.1</td>\n      <td>0.88</td>\n      <td>0.03</td>\n    </tr>\n    <tr>\n      <th>498</th>\n      <td>https://www.screener.in/company/SONATSOFTW/con...</td>\n      <td>21,465</td>\n      <td>766</td>\n      <td>804</td>\n      <td>286</td>\n      <td>45.1</td>\n      <td>51.4</td>\n      <td>1.03</td>\n      <td>39.1</td>\n      <td>37.7</td>\n      <td>...</td>\n      <td>22.8</td>\n      <td>168.0</td>\n      <td>39.3</td>\n      <td>28.0</td>\n      <td>25.8</td>\n      <td>4.75</td>\n      <td>63.6</td>\n      <td>4.43</td>\n      <td>0.95</td>\n      <td>0.35</td>\n    </tr>\n    <tr>\n      <th>499</th>\n      <td>https://www.screener.in/company/SAFARI/consoli...</td>\n      <td>9,042</td>\n      <td>1,900</td>\n      <td>2,315</td>\n      <td>850</td>\n      <td>55.7</td>\n      <td>108</td>\n      <td>0.09</td>\n      <td>37.5</td>\n      <td>34.4</td>\n      <td>...</td>\n      <td>39.8</td>\n      <td>123.0</td>\n      <td>57.0</td>\n      <td>4.76</td>\n      <td>20.9</td>\n      <td>17.9</td>\n      <td>40.8</td>\n      <td>8.35</td>\n      <td>0.82</td>\n      <td>0.26</td>\n    </tr>\n    <tr>\n      <th>500</th>\n      <td>https://www.screener.in/company/BBTC/consolida...</td>\n      <td>11,091</td>\n      <td>1,591</td>\n      <td>1,702</td>\n      <td>781</td>\n      <td>41.6</td>\n      <td>572</td>\n      <td>0.08</td>\n      <td>15.5</td>\n      <td>-70.0</td>\n      <td>...</td>\n      <td>8.91</td>\n      <td>104.0</td>\n      <td>33.2</td>\n      <td>6.98</td>\n      <td>11.8</td>\n      <td>6.5</td>\n      <td>58.2</td>\n      <td>17.5</td>\n      <td>0.94</td>\n      <td>1.39</td>\n    </tr>\n  </tbody>\n</table>\n<p>467 rows × 21 columns</p>\n</div>"
     },
     "execution_count": 232,
     "metadata": {},
     "output_type": "execute_result"
    }
   ],
   "source": [
    "df13"
   ],
   "metadata": {
    "collapsed": false,
    "pycharm": {
     "name": "#%%\n"
    }
   }
  },
  {
   "cell_type": "code",
   "execution_count": 233,
   "outputs": [
    {
     "data": {
      "text/plain": "company_url             0\nMarket_cap              0\nCurrent_Price           0\nHigh                    0\nLow                     0\nP_E                    26\nBook_Value              6\nDividend_Yield          0\nROCE                    9\nROE                    15\nFace_Value              0\nSales_growth            6\nUp_from_52w_low         0\nIndustry_PE             0\nNo_Eq_Shares            0\nSales_growth_3Years    24\nDown_from_52w_high      0\nRSI                     0\nEPS_latest_quarter      6\nFrom_52w_high           0\nDebt_to_equity         10\ndtype: int64"
     },
     "execution_count": 233,
     "metadata": {},
     "output_type": "execute_result"
    }
   ],
   "source": [
    "df13.isna().sum()"
   ],
   "metadata": {
    "collapsed": false,
    "pycharm": {
     "name": "#%%\n"
    }
   }
  },
  {
   "cell_type": "code",
   "execution_count": 234,
   "outputs": [],
   "source": [
    "df13.fillna(0,inplace=True)"
   ],
   "metadata": {
    "collapsed": false,
    "pycharm": {
     "name": "#%%\n"
    }
   }
  },
  {
   "cell_type": "code",
   "execution_count": 236,
   "outputs": [
    {
     "data": {
      "text/plain": "company_url            0\nMarket_cap             0\nCurrent_Price          0\nHigh                   0\nLow                    0\nP_E                    0\nBook_Value             0\nDividend_Yield         0\nROCE                   0\nROE                    0\nFace_Value             0\nSales_growth           0\nUp_from_52w_low        0\nIndustry_PE            0\nNo_Eq_Shares           0\nSales_growth_3Years    0\nDown_from_52w_high     0\nRSI                    0\nEPS_latest_quarter     0\nFrom_52w_high          0\nDebt_to_equity         0\ndtype: int64"
     },
     "execution_count": 236,
     "metadata": {},
     "output_type": "execute_result"
    }
   ],
   "source": [
    "df13.isna().sum()"
   ],
   "metadata": {
    "collapsed": false,
    "pycharm": {
     "name": "#%%\n"
    }
   }
  },
  {
   "cell_type": "code",
   "execution_count": 237,
   "outputs": [
    {
     "data": {
      "text/plain": "                                           company_url Market_cap  \\\n0    https://www.screener.in/company/GSFC/consolida...     11,297   \n1    https://www.screener.in/company/JBMA/consolida...     22,355   \n2    https://www.screener.in/company/ALKYLAMINE/con...     12,072   \n4    https://www.screener.in/company/IDEA/consolida...     73,555   \n5    https://www.screener.in/company/SPARC/consolid...     12,299   \n..                                                 ...        ...   \n496  https://www.screener.in/company/CHOLAFIN/conso...   1,08,540   \n497  https://www.screener.in/company/EICHERMOT/cons...   1,01,037   \n498  https://www.screener.in/company/SONATSOFTW/con...     21,465   \n499  https://www.screener.in/company/SAFARI/consoli...      9,042   \n500  https://www.screener.in/company/BBTC/consolida...     11,091   \n\n    Current_Price   High    Low   P_E Book_Value  Dividend_Yield   ROCE   ROE  \\\n0             284    306    116  10.7        310            3.52  13.10  10.6   \n1           1,890  2,007    482   163       90.1            0.07  11.80  12.9   \n2           2,360  2,798  2,119  63.7        105            0.42  41.30  41.4   \n4            15.1   18.4   5.70     0      -18.7            0.00   0.00   0.0   \n5             379    424    160     0       10.2            0.00   0.00   0.0   \n..            ...    ...    ...   ...        ...             ...    ...   ...   \n496         1,292  1,310    688  35.9        192            0.15   9.72  20.4   \n497         3,691  4,202  2,836  28.2        582            1.00  27.40  21.1   \n498           766    804    286  45.1       51.4            1.03  39.10  37.7   \n499         1,900  2,315    850  55.7        108            0.09  37.50  34.4   \n500         1,591  1,702    781  41.6        572            0.08  15.50 -70.0   \n\n     ...  Sales_growth  Up_from_52w_low  Industry_PE  No_Eq_Shares  \\\n0    ...          8.20            145.0         26.6          39.8   \n1    ...          9.31            292.0         33.2          11.8   \n2    ...         17.30             11.4         34.3          5.11   \n4    ...          3.76            165.0         57.1         4,868   \n5    ...          0.00            136.0         38.7          32.4   \n..   ...           ...              ...          ...           ...   \n496  ...         44.30             87.9         22.1          84.0   \n497  ...         20.30             30.2         46.9          27.4   \n498  ...         22.80            168.0         39.3          28.0   \n499  ...         39.80            123.0         57.0          4.76   \n500  ...          8.91            104.0         33.2          6.98   \n\n    Sales_growth_3Years  Down_from_52w_high   RSI  EPS_latest_quarter  \\\n0                 13.40                7.27  65.3                7.75   \n1                 25.60                5.84  70.7                3.74   \n2                 25.60               15.60  43.0                9.65   \n4                 -2.11               18.00  49.4               -1.79   \n5                  0.00               10.50  64.0               -2.66   \n..                  ...                 ...   ...                 ...   \n496               13.90                1.40  61.5                9.40   \n497               16.40               12.20  33.6                37.1   \n498               25.80                4.75  63.6                4.43   \n499               20.90               17.90  40.8                8.35   \n500               11.80                6.50  58.2                17.5   \n\n    From_52w_high  Debt_to_equity  \n0            0.93            0.00  \n1            0.94            1.93  \n2            0.84            0.16  \n4            0.82            0.00  \n5            0.89            0.04  \n..            ...             ...  \n496          0.99            7.56  \n497          0.88            0.03  \n498          0.95            0.35  \n499          0.82            0.26  \n500          0.94            1.39  \n\n[467 rows x 21 columns]",
      "text/html": "<div>\n<style scoped>\n    .dataframe tbody tr th:only-of-type {\n        vertical-align: middle;\n    }\n\n    .dataframe tbody tr th {\n        vertical-align: top;\n    }\n\n    .dataframe thead th {\n        text-align: right;\n    }\n</style>\n<table border=\"1\" class=\"dataframe\">\n  <thead>\n    <tr style=\"text-align: right;\">\n      <th></th>\n      <th>company_url</th>\n      <th>Market_cap</th>\n      <th>Current_Price</th>\n      <th>High</th>\n      <th>Low</th>\n      <th>P_E</th>\n      <th>Book_Value</th>\n      <th>Dividend_Yield</th>\n      <th>ROCE</th>\n      <th>ROE</th>\n      <th>...</th>\n      <th>Sales_growth</th>\n      <th>Up_from_52w_low</th>\n      <th>Industry_PE</th>\n      <th>No_Eq_Shares</th>\n      <th>Sales_growth_3Years</th>\n      <th>Down_from_52w_high</th>\n      <th>RSI</th>\n      <th>EPS_latest_quarter</th>\n      <th>From_52w_high</th>\n      <th>Debt_to_equity</th>\n    </tr>\n  </thead>\n  <tbody>\n    <tr>\n      <th>0</th>\n      <td>https://www.screener.in/company/GSFC/consolida...</td>\n      <td>11,297</td>\n      <td>284</td>\n      <td>306</td>\n      <td>116</td>\n      <td>10.7</td>\n      <td>310</td>\n      <td>3.52</td>\n      <td>13.10</td>\n      <td>10.6</td>\n      <td>...</td>\n      <td>8.20</td>\n      <td>145.0</td>\n      <td>26.6</td>\n      <td>39.8</td>\n      <td>13.40</td>\n      <td>7.27</td>\n      <td>65.3</td>\n      <td>7.75</td>\n      <td>0.93</td>\n      <td>0.00</td>\n    </tr>\n    <tr>\n      <th>1</th>\n      <td>https://www.screener.in/company/JBMA/consolida...</td>\n      <td>22,355</td>\n      <td>1,890</td>\n      <td>2,007</td>\n      <td>482</td>\n      <td>163</td>\n      <td>90.1</td>\n      <td>0.07</td>\n      <td>11.80</td>\n      <td>12.9</td>\n      <td>...</td>\n      <td>9.31</td>\n      <td>292.0</td>\n      <td>33.2</td>\n      <td>11.8</td>\n      <td>25.60</td>\n      <td>5.84</td>\n      <td>70.7</td>\n      <td>3.74</td>\n      <td>0.94</td>\n      <td>1.93</td>\n    </tr>\n    <tr>\n      <th>2</th>\n      <td>https://www.screener.in/company/ALKYLAMINE/con...</td>\n      <td>12,072</td>\n      <td>2,360</td>\n      <td>2,798</td>\n      <td>2,119</td>\n      <td>63.7</td>\n      <td>105</td>\n      <td>0.42</td>\n      <td>41.30</td>\n      <td>41.4</td>\n      <td>...</td>\n      <td>17.30</td>\n      <td>11.4</td>\n      <td>34.3</td>\n      <td>5.11</td>\n      <td>25.60</td>\n      <td>15.60</td>\n      <td>43.0</td>\n      <td>9.65</td>\n      <td>0.84</td>\n      <td>0.16</td>\n    </tr>\n    <tr>\n      <th>4</th>\n      <td>https://www.screener.in/company/IDEA/consolida...</td>\n      <td>73,555</td>\n      <td>15.1</td>\n      <td>18.4</td>\n      <td>5.70</td>\n      <td>0</td>\n      <td>-18.7</td>\n      <td>0.00</td>\n      <td>0.00</td>\n      <td>0.0</td>\n      <td>...</td>\n      <td>3.76</td>\n      <td>165.0</td>\n      <td>57.1</td>\n      <td>4,868</td>\n      <td>-2.11</td>\n      <td>18.00</td>\n      <td>49.4</td>\n      <td>-1.79</td>\n      <td>0.82</td>\n      <td>0.00</td>\n    </tr>\n    <tr>\n      <th>5</th>\n      <td>https://www.screener.in/company/SPARC/consolid...</td>\n      <td>12,299</td>\n      <td>379</td>\n      <td>424</td>\n      <td>160</td>\n      <td>0</td>\n      <td>10.2</td>\n      <td>0.00</td>\n      <td>0.00</td>\n      <td>0.0</td>\n      <td>...</td>\n      <td>0.00</td>\n      <td>136.0</td>\n      <td>38.7</td>\n      <td>32.4</td>\n      <td>0.00</td>\n      <td>10.50</td>\n      <td>64.0</td>\n      <td>-2.66</td>\n      <td>0.89</td>\n      <td>0.04</td>\n    </tr>\n    <tr>\n      <th>...</th>\n      <td>...</td>\n      <td>...</td>\n      <td>...</td>\n      <td>...</td>\n      <td>...</td>\n      <td>...</td>\n      <td>...</td>\n      <td>...</td>\n      <td>...</td>\n      <td>...</td>\n      <td>...</td>\n      <td>...</td>\n      <td>...</td>\n      <td>...</td>\n      <td>...</td>\n      <td>...</td>\n      <td>...</td>\n      <td>...</td>\n      <td>...</td>\n      <td>...</td>\n      <td>...</td>\n    </tr>\n    <tr>\n      <th>496</th>\n      <td>https://www.screener.in/company/CHOLAFIN/conso...</td>\n      <td>1,08,540</td>\n      <td>1,292</td>\n      <td>1,310</td>\n      <td>688</td>\n      <td>35.9</td>\n      <td>192</td>\n      <td>0.15</td>\n      <td>9.72</td>\n      <td>20.4</td>\n      <td>...</td>\n      <td>44.30</td>\n      <td>87.9</td>\n      <td>22.1</td>\n      <td>84.0</td>\n      <td>13.90</td>\n      <td>1.40</td>\n      <td>61.5</td>\n      <td>9.40</td>\n      <td>0.99</td>\n      <td>7.56</td>\n    </tr>\n    <tr>\n      <th>497</th>\n      <td>https://www.screener.in/company/EICHERMOT/cons...</td>\n      <td>1,01,037</td>\n      <td>3,691</td>\n      <td>4,202</td>\n      <td>2,836</td>\n      <td>28.2</td>\n      <td>582</td>\n      <td>1.00</td>\n      <td>27.40</td>\n      <td>21.1</td>\n      <td>...</td>\n      <td>20.30</td>\n      <td>30.2</td>\n      <td>46.9</td>\n      <td>27.4</td>\n      <td>16.40</td>\n      <td>12.20</td>\n      <td>33.6</td>\n      <td>37.1</td>\n      <td>0.88</td>\n      <td>0.03</td>\n    </tr>\n    <tr>\n      <th>498</th>\n      <td>https://www.screener.in/company/SONATSOFTW/con...</td>\n      <td>21,465</td>\n      <td>766</td>\n      <td>804</td>\n      <td>286</td>\n      <td>45.1</td>\n      <td>51.4</td>\n      <td>1.03</td>\n      <td>39.10</td>\n      <td>37.7</td>\n      <td>...</td>\n      <td>22.80</td>\n      <td>168.0</td>\n      <td>39.3</td>\n      <td>28.0</td>\n      <td>25.80</td>\n      <td>4.75</td>\n      <td>63.6</td>\n      <td>4.43</td>\n      <td>0.95</td>\n      <td>0.35</td>\n    </tr>\n    <tr>\n      <th>499</th>\n      <td>https://www.screener.in/company/SAFARI/consoli...</td>\n      <td>9,042</td>\n      <td>1,900</td>\n      <td>2,315</td>\n      <td>850</td>\n      <td>55.7</td>\n      <td>108</td>\n      <td>0.09</td>\n      <td>37.50</td>\n      <td>34.4</td>\n      <td>...</td>\n      <td>39.80</td>\n      <td>123.0</td>\n      <td>57.0</td>\n      <td>4.76</td>\n      <td>20.90</td>\n      <td>17.90</td>\n      <td>40.8</td>\n      <td>8.35</td>\n      <td>0.82</td>\n      <td>0.26</td>\n    </tr>\n    <tr>\n      <th>500</th>\n      <td>https://www.screener.in/company/BBTC/consolida...</td>\n      <td>11,091</td>\n      <td>1,591</td>\n      <td>1,702</td>\n      <td>781</td>\n      <td>41.6</td>\n      <td>572</td>\n      <td>0.08</td>\n      <td>15.50</td>\n      <td>-70.0</td>\n      <td>...</td>\n      <td>8.91</td>\n      <td>104.0</td>\n      <td>33.2</td>\n      <td>6.98</td>\n      <td>11.80</td>\n      <td>6.50</td>\n      <td>58.2</td>\n      <td>17.5</td>\n      <td>0.94</td>\n      <td>1.39</td>\n    </tr>\n  </tbody>\n</table>\n<p>467 rows × 21 columns</p>\n</div>"
     },
     "execution_count": 237,
     "metadata": {},
     "output_type": "execute_result"
    }
   ],
   "source": [
    "df13"
   ],
   "metadata": {
    "collapsed": false,
    "pycharm": {
     "name": "#%%\n"
    }
   }
  },
  {
   "cell_type": "code",
   "execution_count": 245,
   "outputs": [],
   "source": [
    "for i in df13.columns[1:]:\n",
    "    # print(i)\n",
    "    try:\n",
    "        df13[i]=df13[i].str.replace(\",\",\"\").astype(float)\n",
    "    except:\n",
    "        pass"
   ],
   "metadata": {
    "collapsed": false,
    "pycharm": {
     "name": "#%%\n"
    }
   }
  },
  {
   "cell_type": "code",
   "execution_count": 247,
   "outputs": [
    {
     "data": {
      "text/plain": "company_url             object\nMarket_cap             float64\nCurrent_Price          float64\nHigh                   float64\nLow                    float64\nP_E                    float64\nBook_Value             float64\nDividend_Yield         float64\nROCE                   float64\nROE                    float64\nFace_Value             float64\nSales_growth           float64\nUp_from_52w_low        float64\nIndustry_PE            float64\nNo_Eq_Shares           float64\nSales_growth_3Years    float64\nDown_from_52w_high     float64\nRSI                    float64\nEPS_latest_quarter     float64\nFrom_52w_high          float64\nDebt_to_equity         float64\ndtype: object"
     },
     "execution_count": 247,
     "metadata": {},
     "output_type": "execute_result"
    }
   ],
   "source": [
    "df13.dtypes"
   ],
   "metadata": {
    "collapsed": false,
    "pycharm": {
     "name": "#%%\n"
    }
   }
  },
  {
   "cell_type": "code",
   "execution_count": 248,
   "outputs": [
    {
     "data": {
      "text/plain": "company_url             object\nMarket_cap             float64\nCurrent_Price          float64\nHigh                   float64\nLow                    float64\nP_E                    float64\nBook_Value             float64\nDividend_Yield         float64\nROCE                   float64\nROE                    float64\nFace_Value             float64\nSales_growth           float64\nUp_from_52w_low        float64\nIndustry_PE            float64\nNo_Eq_Shares           float64\nSales_growth_3Years    float64\nDown_from_52w_high     float64\nRSI                    float64\nEPS_latest_quarter     float64\nFrom_52w_high          float64\nDebt_to_equity         float64\ndtype: object"
     },
     "execution_count": 248,
     "metadata": {},
     "output_type": "execute_result"
    }
   ],
   "source": [
    "df13.dtypes"
   ],
   "metadata": {
    "collapsed": false,
    "pycharm": {
     "name": "#%%\n"
    }
   }
  },
  {
   "cell_type": "code",
   "execution_count": 243,
   "outputs": [
    {
     "data": {
      "text/plain": "company_url            0\nMarket_cap             0\nCurrent_Price          0\nHigh                   0\nLow                    0\nP_E                    0\nBook_Value             0\nDividend_Yield         0\nROCE                   0\nROE                    0\nFace_Value             0\nSales_growth           0\nUp_from_52w_low        0\nIndustry_PE            0\nNo_Eq_Shares           0\nSales_growth_3Years    0\nDown_from_52w_high     0\nRSI                    0\nEPS_latest_quarter     0\nFrom_52w_high          0\nDebt_to_equity         0\ndtype: int64"
     },
     "execution_count": 243,
     "metadata": {},
     "output_type": "execute_result"
    }
   ],
   "source": [
    "df13.isna().sum()"
   ],
   "metadata": {
    "collapsed": false,
    "pycharm": {
     "name": "#%%\n"
    }
   }
  },
  {
   "cell_type": "code",
   "execution_count": 249,
   "outputs": [
    {
     "data": {
      "text/plain": "                                           company_url  Market_cap  \\\n0    https://www.screener.in/company/GSFC/consolida...     11297.0   \n1    https://www.screener.in/company/JBMA/consolida...     22355.0   \n2    https://www.screener.in/company/ALKYLAMINE/con...     12072.0   \n4    https://www.screener.in/company/IDEA/consolida...     73555.0   \n5    https://www.screener.in/company/SPARC/consolid...     12299.0   \n..                                                 ...         ...   \n496  https://www.screener.in/company/CHOLAFIN/conso...    108540.0   \n497  https://www.screener.in/company/EICHERMOT/cons...    101037.0   \n498  https://www.screener.in/company/SONATSOFTW/con...     21465.0   \n499  https://www.screener.in/company/SAFARI/consoli...      9042.0   \n500  https://www.screener.in/company/BBTC/consolida...     11091.0   \n\n     Current_Price    High     Low    P_E  Book_Value  Dividend_Yield   ROCE  \\\n0            284.0   306.0   116.0   10.7       310.0            3.52  13.10   \n1           1890.0  2007.0   482.0  163.0        90.1            0.07  11.80   \n2           2360.0  2798.0  2119.0   63.7       105.0            0.42  41.30   \n4             15.1    18.4     5.7    NaN       -18.7            0.00   0.00   \n5            379.0   424.0   160.0    NaN        10.2            0.00   0.00   \n..             ...     ...     ...    ...         ...             ...    ...   \n496         1292.0  1310.0   688.0   35.9       192.0            0.15   9.72   \n497         3691.0  4202.0  2836.0   28.2       582.0            1.00  27.40   \n498          766.0   804.0   286.0   45.1        51.4            1.03  39.10   \n499         1900.0  2315.0   850.0   55.7       108.0            0.09  37.50   \n500         1591.0  1702.0   781.0   41.6       572.0            0.08  15.50   \n\n      ROE  ...  Sales_growth  Up_from_52w_low  Industry_PE  No_Eq_Shares  \\\n0    10.6  ...          8.20            145.0         26.6         39.80   \n1    12.9  ...          9.31            292.0         33.2         11.80   \n2    41.4  ...         17.30             11.4         34.3          5.11   \n4     0.0  ...          3.76            165.0         57.1       4868.00   \n5     0.0  ...          0.00            136.0         38.7         32.40   \n..    ...  ...           ...              ...          ...           ...   \n496  20.4  ...         44.30             87.9         22.1         84.00   \n497  21.1  ...         20.30             30.2         46.9         27.40   \n498  37.7  ...         22.80            168.0         39.3         28.00   \n499  34.4  ...         39.80            123.0         57.0          4.76   \n500 -70.0  ...          8.91            104.0         33.2          6.98   \n\n     Sales_growth_3Years  Down_from_52w_high   RSI  EPS_latest_quarter  \\\n0                  13.40                7.27  65.3                7.75   \n1                  25.60                5.84  70.7                3.74   \n2                  25.60               15.60  43.0                9.65   \n4                  -2.11               18.00  49.4               -1.79   \n5                   0.00               10.50  64.0               -2.66   \n..                   ...                 ...   ...                 ...   \n496                13.90                1.40  61.5                9.40   \n497                16.40               12.20  33.6               37.10   \n498                25.80                4.75  63.6                4.43   \n499                20.90               17.90  40.8                8.35   \n500                11.80                6.50  58.2               17.50   \n\n     From_52w_high  Debt_to_equity  \n0             0.93            0.00  \n1             0.94            1.93  \n2             0.84            0.16  \n4             0.82            0.00  \n5             0.89            0.04  \n..             ...             ...  \n496           0.99            7.56  \n497           0.88            0.03  \n498           0.95            0.35  \n499           0.82            0.26  \n500           0.94            1.39  \n\n[467 rows x 21 columns]",
      "text/html": "<div>\n<style scoped>\n    .dataframe tbody tr th:only-of-type {\n        vertical-align: middle;\n    }\n\n    .dataframe tbody tr th {\n        vertical-align: top;\n    }\n\n    .dataframe thead th {\n        text-align: right;\n    }\n</style>\n<table border=\"1\" class=\"dataframe\">\n  <thead>\n    <tr style=\"text-align: right;\">\n      <th></th>\n      <th>company_url</th>\n      <th>Market_cap</th>\n      <th>Current_Price</th>\n      <th>High</th>\n      <th>Low</th>\n      <th>P_E</th>\n      <th>Book_Value</th>\n      <th>Dividend_Yield</th>\n      <th>ROCE</th>\n      <th>ROE</th>\n      <th>...</th>\n      <th>Sales_growth</th>\n      <th>Up_from_52w_low</th>\n      <th>Industry_PE</th>\n      <th>No_Eq_Shares</th>\n      <th>Sales_growth_3Years</th>\n      <th>Down_from_52w_high</th>\n      <th>RSI</th>\n      <th>EPS_latest_quarter</th>\n      <th>From_52w_high</th>\n      <th>Debt_to_equity</th>\n    </tr>\n  </thead>\n  <tbody>\n    <tr>\n      <th>0</th>\n      <td>https://www.screener.in/company/GSFC/consolida...</td>\n      <td>11297.0</td>\n      <td>284.0</td>\n      <td>306.0</td>\n      <td>116.0</td>\n      <td>10.7</td>\n      <td>310.0</td>\n      <td>3.52</td>\n      <td>13.10</td>\n      <td>10.6</td>\n      <td>...</td>\n      <td>8.20</td>\n      <td>145.0</td>\n      <td>26.6</td>\n      <td>39.80</td>\n      <td>13.40</td>\n      <td>7.27</td>\n      <td>65.3</td>\n      <td>7.75</td>\n      <td>0.93</td>\n      <td>0.00</td>\n    </tr>\n    <tr>\n      <th>1</th>\n      <td>https://www.screener.in/company/JBMA/consolida...</td>\n      <td>22355.0</td>\n      <td>1890.0</td>\n      <td>2007.0</td>\n      <td>482.0</td>\n      <td>163.0</td>\n      <td>90.1</td>\n      <td>0.07</td>\n      <td>11.80</td>\n      <td>12.9</td>\n      <td>...</td>\n      <td>9.31</td>\n      <td>292.0</td>\n      <td>33.2</td>\n      <td>11.80</td>\n      <td>25.60</td>\n      <td>5.84</td>\n      <td>70.7</td>\n      <td>3.74</td>\n      <td>0.94</td>\n      <td>1.93</td>\n    </tr>\n    <tr>\n      <th>2</th>\n      <td>https://www.screener.in/company/ALKYLAMINE/con...</td>\n      <td>12072.0</td>\n      <td>2360.0</td>\n      <td>2798.0</td>\n      <td>2119.0</td>\n      <td>63.7</td>\n      <td>105.0</td>\n      <td>0.42</td>\n      <td>41.30</td>\n      <td>41.4</td>\n      <td>...</td>\n      <td>17.30</td>\n      <td>11.4</td>\n      <td>34.3</td>\n      <td>5.11</td>\n      <td>25.60</td>\n      <td>15.60</td>\n      <td>43.0</td>\n      <td>9.65</td>\n      <td>0.84</td>\n      <td>0.16</td>\n    </tr>\n    <tr>\n      <th>4</th>\n      <td>https://www.screener.in/company/IDEA/consolida...</td>\n      <td>73555.0</td>\n      <td>15.1</td>\n      <td>18.4</td>\n      <td>5.7</td>\n      <td>NaN</td>\n      <td>-18.7</td>\n      <td>0.00</td>\n      <td>0.00</td>\n      <td>0.0</td>\n      <td>...</td>\n      <td>3.76</td>\n      <td>165.0</td>\n      <td>57.1</td>\n      <td>4868.00</td>\n      <td>-2.11</td>\n      <td>18.00</td>\n      <td>49.4</td>\n      <td>-1.79</td>\n      <td>0.82</td>\n      <td>0.00</td>\n    </tr>\n    <tr>\n      <th>5</th>\n      <td>https://www.screener.in/company/SPARC/consolid...</td>\n      <td>12299.0</td>\n      <td>379.0</td>\n      <td>424.0</td>\n      <td>160.0</td>\n      <td>NaN</td>\n      <td>10.2</td>\n      <td>0.00</td>\n      <td>0.00</td>\n      <td>0.0</td>\n      <td>...</td>\n      <td>0.00</td>\n      <td>136.0</td>\n      <td>38.7</td>\n      <td>32.40</td>\n      <td>0.00</td>\n      <td>10.50</td>\n      <td>64.0</td>\n      <td>-2.66</td>\n      <td>0.89</td>\n      <td>0.04</td>\n    </tr>\n    <tr>\n      <th>...</th>\n      <td>...</td>\n      <td>...</td>\n      <td>...</td>\n      <td>...</td>\n      <td>...</td>\n      <td>...</td>\n      <td>...</td>\n      <td>...</td>\n      <td>...</td>\n      <td>...</td>\n      <td>...</td>\n      <td>...</td>\n      <td>...</td>\n      <td>...</td>\n      <td>...</td>\n      <td>...</td>\n      <td>...</td>\n      <td>...</td>\n      <td>...</td>\n      <td>...</td>\n      <td>...</td>\n    </tr>\n    <tr>\n      <th>496</th>\n      <td>https://www.screener.in/company/CHOLAFIN/conso...</td>\n      <td>108540.0</td>\n      <td>1292.0</td>\n      <td>1310.0</td>\n      <td>688.0</td>\n      <td>35.9</td>\n      <td>192.0</td>\n      <td>0.15</td>\n      <td>9.72</td>\n      <td>20.4</td>\n      <td>...</td>\n      <td>44.30</td>\n      <td>87.9</td>\n      <td>22.1</td>\n      <td>84.00</td>\n      <td>13.90</td>\n      <td>1.40</td>\n      <td>61.5</td>\n      <td>9.40</td>\n      <td>0.99</td>\n      <td>7.56</td>\n    </tr>\n    <tr>\n      <th>497</th>\n      <td>https://www.screener.in/company/EICHERMOT/cons...</td>\n      <td>101037.0</td>\n      <td>3691.0</td>\n      <td>4202.0</td>\n      <td>2836.0</td>\n      <td>28.2</td>\n      <td>582.0</td>\n      <td>1.00</td>\n      <td>27.40</td>\n      <td>21.1</td>\n      <td>...</td>\n      <td>20.30</td>\n      <td>30.2</td>\n      <td>46.9</td>\n      <td>27.40</td>\n      <td>16.40</td>\n      <td>12.20</td>\n      <td>33.6</td>\n      <td>37.10</td>\n      <td>0.88</td>\n      <td>0.03</td>\n    </tr>\n    <tr>\n      <th>498</th>\n      <td>https://www.screener.in/company/SONATSOFTW/con...</td>\n      <td>21465.0</td>\n      <td>766.0</td>\n      <td>804.0</td>\n      <td>286.0</td>\n      <td>45.1</td>\n      <td>51.4</td>\n      <td>1.03</td>\n      <td>39.10</td>\n      <td>37.7</td>\n      <td>...</td>\n      <td>22.80</td>\n      <td>168.0</td>\n      <td>39.3</td>\n      <td>28.00</td>\n      <td>25.80</td>\n      <td>4.75</td>\n      <td>63.6</td>\n      <td>4.43</td>\n      <td>0.95</td>\n      <td>0.35</td>\n    </tr>\n    <tr>\n      <th>499</th>\n      <td>https://www.screener.in/company/SAFARI/consoli...</td>\n      <td>9042.0</td>\n      <td>1900.0</td>\n      <td>2315.0</td>\n      <td>850.0</td>\n      <td>55.7</td>\n      <td>108.0</td>\n      <td>0.09</td>\n      <td>37.50</td>\n      <td>34.4</td>\n      <td>...</td>\n      <td>39.80</td>\n      <td>123.0</td>\n      <td>57.0</td>\n      <td>4.76</td>\n      <td>20.90</td>\n      <td>17.90</td>\n      <td>40.8</td>\n      <td>8.35</td>\n      <td>0.82</td>\n      <td>0.26</td>\n    </tr>\n    <tr>\n      <th>500</th>\n      <td>https://www.screener.in/company/BBTC/consolida...</td>\n      <td>11091.0</td>\n      <td>1591.0</td>\n      <td>1702.0</td>\n      <td>781.0</td>\n      <td>41.6</td>\n      <td>572.0</td>\n      <td>0.08</td>\n      <td>15.50</td>\n      <td>-70.0</td>\n      <td>...</td>\n      <td>8.91</td>\n      <td>104.0</td>\n      <td>33.2</td>\n      <td>6.98</td>\n      <td>11.80</td>\n      <td>6.50</td>\n      <td>58.2</td>\n      <td>17.50</td>\n      <td>0.94</td>\n      <td>1.39</td>\n    </tr>\n  </tbody>\n</table>\n<p>467 rows × 21 columns</p>\n</div>"
     },
     "execution_count": 249,
     "metadata": {},
     "output_type": "execute_result"
    }
   ],
   "source": [
    "df13"
   ],
   "metadata": {
    "collapsed": false,
    "pycharm": {
     "name": "#%%\n"
    }
   }
  },
  {
   "cell_type": "code",
   "execution_count": 250,
   "outputs": [],
   "source": [
    "df13.to_csv(\"clean.csv\")"
   ],
   "metadata": {
    "collapsed": false,
    "pycharm": {
     "name": "#%%\n"
    }
   }
  },
  {
   "cell_type": "code",
   "execution_count": 256,
   "outputs": [
    {
     "data": {
      "text/plain": "                                           company_url  Market_cap  \\\n0    https://www.screener.in/company/GSFC/consolida...     11297.0   \n5    https://www.screener.in/company/SPARC/consolid...     12299.0   \n11   https://www.screener.in/company/GODREJIND/cons...     27444.0   \n13   https://www.screener.in/company/YESBANK/consol...     71731.0   \n16   https://www.screener.in/company/RCF/consolidated/      9492.0   \n..                                                 ...         ...   \n482  https://www.screener.in/company/COLPAL/consoli...     67903.0   \n488  https://www.screener.in/company/BHARTIARTL/con...    638530.0   \n495  https://www.screener.in/company/BSOFT/consolid...     21384.0   \n496  https://www.screener.in/company/CHOLAFIN/conso...    108540.0   \n498  https://www.screener.in/company/SONATSOFTW/con...     21465.0   \n\n     Current_Price    High     Low    P_E  Book_Value  Dividend_Yield    ROCE  \\\n0            284.0   306.0   116.0   10.7       310.0            3.52   13.10   \n5            379.0   424.0   160.0    NaN        10.2            0.00    0.00   \n11           816.0   904.0   395.0   31.2       244.0            0.00    7.81   \n13            25.0    26.2    14.1   85.7        13.8            0.00    4.94   \n16           172.0   177.0    89.5   22.1        85.3            3.08   21.20   \n..             ...     ...     ...    ...         ...             ...     ...   \n482         2495.0  2546.0  1435.0  157.0        12.1            1.56  179.00   \n488         1087.0  1117.0   736.0   59.3       138.0            0.37   12.30   \n495          778.0   806.0   250.0   56.5        98.9            0.45   17.20   \n496         1292.0  1310.0   688.0   35.9       192.0            0.15    9.72   \n498          766.0   804.0   286.0   45.1        51.4            1.03   39.10   \n\n        ROE  ...  Sales_growth  Up_from_52w_low  Industry_PE  No_Eq_Shares  \\\n0     10.60  ...          8.20            145.0         26.6          39.8   \n5      0.00  ...          0.00            136.0         38.7          32.4   \n11    11.20  ...          7.08            106.0         34.3          33.7   \n13     1.99  ...         23.50             77.0         14.4        2876.0   \n16    21.20  ...          4.23             92.1         26.6          55.2   \n..      ...  ...           ...              ...          ...           ...   \n482  158.00  ...         15.40             73.9         58.5          27.2   \n488   12.00  ...         13.70             47.7         57.1         562.0   \n495   12.90  ...         11.10            211.0         39.3          27.6   \n496   20.40  ...         44.30             87.9         22.1          84.0   \n498   37.70  ...         22.80            168.0         39.3          28.0   \n\n     Sales_growth_3Years  Down_from_52w_high   RSI  EPS_latest_quarter  \\\n0                  13.40                7.27  65.3                7.75   \n5                   0.00               10.50  64.0               -2.66   \n11                 14.00                9.74  60.6                2.59   \n13                 -4.48                4.95  64.7                0.08   \n16                 30.30                2.69  65.8                0.92   \n..                   ...                 ...   ...                 ...   \n482                14.90                2.01  60.3                 NaN   \n488                18.00                2.68  69.1                2.39   \n495                13.40                3.49  67.6                5.27   \n496                13.90                1.40  61.5                9.40   \n498                25.80                4.75  63.6                4.43   \n\n     From_52w_high  Debt_to_equity  \n0             0.93            0.00  \n5             0.89            0.04  \n11            0.90            3.07  \n13            0.95            7.42  \n16            0.97            0.49  \n..             ...             ...  \n482           0.98            0.01  \n488           0.97            2.81  \n495           0.97            0.03  \n496           0.99            7.56  \n498           0.95            0.35  \n\n[101 rows x 21 columns]",
      "text/html": "<div>\n<style scoped>\n    .dataframe tbody tr th:only-of-type {\n        vertical-align: middle;\n    }\n\n    .dataframe tbody tr th {\n        vertical-align: top;\n    }\n\n    .dataframe thead th {\n        text-align: right;\n    }\n</style>\n<table border=\"1\" class=\"dataframe\">\n  <thead>\n    <tr style=\"text-align: right;\">\n      <th></th>\n      <th>company_url</th>\n      <th>Market_cap</th>\n      <th>Current_Price</th>\n      <th>High</th>\n      <th>Low</th>\n      <th>P_E</th>\n      <th>Book_Value</th>\n      <th>Dividend_Yield</th>\n      <th>ROCE</th>\n      <th>ROE</th>\n      <th>...</th>\n      <th>Sales_growth</th>\n      <th>Up_from_52w_low</th>\n      <th>Industry_PE</th>\n      <th>No_Eq_Shares</th>\n      <th>Sales_growth_3Years</th>\n      <th>Down_from_52w_high</th>\n      <th>RSI</th>\n      <th>EPS_latest_quarter</th>\n      <th>From_52w_high</th>\n      <th>Debt_to_equity</th>\n    </tr>\n  </thead>\n  <tbody>\n    <tr>\n      <th>0</th>\n      <td>https://www.screener.in/company/GSFC/consolida...</td>\n      <td>11297.0</td>\n      <td>284.0</td>\n      <td>306.0</td>\n      <td>116.0</td>\n      <td>10.7</td>\n      <td>310.0</td>\n      <td>3.52</td>\n      <td>13.10</td>\n      <td>10.60</td>\n      <td>...</td>\n      <td>8.20</td>\n      <td>145.0</td>\n      <td>26.6</td>\n      <td>39.8</td>\n      <td>13.40</td>\n      <td>7.27</td>\n      <td>65.3</td>\n      <td>7.75</td>\n      <td>0.93</td>\n      <td>0.00</td>\n    </tr>\n    <tr>\n      <th>5</th>\n      <td>https://www.screener.in/company/SPARC/consolid...</td>\n      <td>12299.0</td>\n      <td>379.0</td>\n      <td>424.0</td>\n      <td>160.0</td>\n      <td>NaN</td>\n      <td>10.2</td>\n      <td>0.00</td>\n      <td>0.00</td>\n      <td>0.00</td>\n      <td>...</td>\n      <td>0.00</td>\n      <td>136.0</td>\n      <td>38.7</td>\n      <td>32.4</td>\n      <td>0.00</td>\n      <td>10.50</td>\n      <td>64.0</td>\n      <td>-2.66</td>\n      <td>0.89</td>\n      <td>0.04</td>\n    </tr>\n    <tr>\n      <th>11</th>\n      <td>https://www.screener.in/company/GODREJIND/cons...</td>\n      <td>27444.0</td>\n      <td>816.0</td>\n      <td>904.0</td>\n      <td>395.0</td>\n      <td>31.2</td>\n      <td>244.0</td>\n      <td>0.00</td>\n      <td>7.81</td>\n      <td>11.20</td>\n      <td>...</td>\n      <td>7.08</td>\n      <td>106.0</td>\n      <td>34.3</td>\n      <td>33.7</td>\n      <td>14.00</td>\n      <td>9.74</td>\n      <td>60.6</td>\n      <td>2.59</td>\n      <td>0.90</td>\n      <td>3.07</td>\n    </tr>\n    <tr>\n      <th>13</th>\n      <td>https://www.screener.in/company/YESBANK/consol...</td>\n      <td>71731.0</td>\n      <td>25.0</td>\n      <td>26.2</td>\n      <td>14.1</td>\n      <td>85.7</td>\n      <td>13.8</td>\n      <td>0.00</td>\n      <td>4.94</td>\n      <td>1.99</td>\n      <td>...</td>\n      <td>23.50</td>\n      <td>77.0</td>\n      <td>14.4</td>\n      <td>2876.0</td>\n      <td>-4.48</td>\n      <td>4.95</td>\n      <td>64.7</td>\n      <td>0.08</td>\n      <td>0.95</td>\n      <td>7.42</td>\n    </tr>\n    <tr>\n      <th>16</th>\n      <td>https://www.screener.in/company/RCF/consolidated/</td>\n      <td>9492.0</td>\n      <td>172.0</td>\n      <td>177.0</td>\n      <td>89.5</td>\n      <td>22.1</td>\n      <td>85.3</td>\n      <td>3.08</td>\n      <td>21.20</td>\n      <td>21.20</td>\n      <td>...</td>\n      <td>4.23</td>\n      <td>92.1</td>\n      <td>26.6</td>\n      <td>55.2</td>\n      <td>30.30</td>\n      <td>2.69</td>\n      <td>65.8</td>\n      <td>0.92</td>\n      <td>0.97</td>\n      <td>0.49</td>\n    </tr>\n    <tr>\n      <th>...</th>\n      <td>...</td>\n      <td>...</td>\n      <td>...</td>\n      <td>...</td>\n      <td>...</td>\n      <td>...</td>\n      <td>...</td>\n      <td>...</td>\n      <td>...</td>\n      <td>...</td>\n      <td>...</td>\n      <td>...</td>\n      <td>...</td>\n      <td>...</td>\n      <td>...</td>\n      <td>...</td>\n      <td>...</td>\n      <td>...</td>\n      <td>...</td>\n      <td>...</td>\n      <td>...</td>\n    </tr>\n    <tr>\n      <th>482</th>\n      <td>https://www.screener.in/company/COLPAL/consoli...</td>\n      <td>67903.0</td>\n      <td>2495.0</td>\n      <td>2546.0</td>\n      <td>1435.0</td>\n      <td>157.0</td>\n      <td>12.1</td>\n      <td>1.56</td>\n      <td>179.00</td>\n      <td>158.00</td>\n      <td>...</td>\n      <td>15.40</td>\n      <td>73.9</td>\n      <td>58.5</td>\n      <td>27.2</td>\n      <td>14.90</td>\n      <td>2.01</td>\n      <td>60.3</td>\n      <td>NaN</td>\n      <td>0.98</td>\n      <td>0.01</td>\n    </tr>\n    <tr>\n      <th>488</th>\n      <td>https://www.screener.in/company/BHARTIARTL/con...</td>\n      <td>638530.0</td>\n      <td>1087.0</td>\n      <td>1117.0</td>\n      <td>736.0</td>\n      <td>59.3</td>\n      <td>138.0</td>\n      <td>0.37</td>\n      <td>12.30</td>\n      <td>12.00</td>\n      <td>...</td>\n      <td>13.70</td>\n      <td>47.7</td>\n      <td>57.1</td>\n      <td>562.0</td>\n      <td>18.00</td>\n      <td>2.68</td>\n      <td>69.1</td>\n      <td>2.39</td>\n      <td>0.97</td>\n      <td>2.81</td>\n    </tr>\n    <tr>\n      <th>495</th>\n      <td>https://www.screener.in/company/BSOFT/consolid...</td>\n      <td>21384.0</td>\n      <td>778.0</td>\n      <td>806.0</td>\n      <td>250.0</td>\n      <td>56.5</td>\n      <td>98.9</td>\n      <td>0.45</td>\n      <td>17.20</td>\n      <td>12.90</td>\n      <td>...</td>\n      <td>11.10</td>\n      <td>211.0</td>\n      <td>39.3</td>\n      <td>27.6</td>\n      <td>13.40</td>\n      <td>3.49</td>\n      <td>67.6</td>\n      <td>5.27</td>\n      <td>0.97</td>\n      <td>0.03</td>\n    </tr>\n    <tr>\n      <th>496</th>\n      <td>https://www.screener.in/company/CHOLAFIN/conso...</td>\n      <td>108540.0</td>\n      <td>1292.0</td>\n      <td>1310.0</td>\n      <td>688.0</td>\n      <td>35.9</td>\n      <td>192.0</td>\n      <td>0.15</td>\n      <td>9.72</td>\n      <td>20.40</td>\n      <td>...</td>\n      <td>44.30</td>\n      <td>87.9</td>\n      <td>22.1</td>\n      <td>84.0</td>\n      <td>13.90</td>\n      <td>1.40</td>\n      <td>61.5</td>\n      <td>9.40</td>\n      <td>0.99</td>\n      <td>7.56</td>\n    </tr>\n    <tr>\n      <th>498</th>\n      <td>https://www.screener.in/company/SONATSOFTW/con...</td>\n      <td>21465.0</td>\n      <td>766.0</td>\n      <td>804.0</td>\n      <td>286.0</td>\n      <td>45.1</td>\n      <td>51.4</td>\n      <td>1.03</td>\n      <td>39.10</td>\n      <td>37.70</td>\n      <td>...</td>\n      <td>22.80</td>\n      <td>168.0</td>\n      <td>39.3</td>\n      <td>28.0</td>\n      <td>25.80</td>\n      <td>4.75</td>\n      <td>63.6</td>\n      <td>4.43</td>\n      <td>0.95</td>\n      <td>0.35</td>\n    </tr>\n  </tbody>\n</table>\n<p>101 rows × 21 columns</p>\n</div>"
     },
     "execution_count": 256,
     "metadata": {},
     "output_type": "execute_result"
    }
   ],
   "source": [
    "df13[(df13[\"RSI\"]>60) & (df13[\"RSI\"]<70)]"
   ],
   "metadata": {
    "collapsed": false,
    "pycharm": {
     "name": "#%%\n"
    }
   }
  },
  {
   "cell_type": "code",
   "execution_count": 254,
   "outputs": [
    {
     "data": {
      "text/plain": "Index(['company_url', 'Market_cap', 'Current_Price', 'High', 'Low', 'P_E',\n       'Book_Value', 'Dividend_Yield', 'ROCE', 'ROE', 'Face_Value',\n       'Sales_growth', 'Up_from_52w_low', 'Industry_PE', 'No_Eq_Shares',\n       'Sales_growth_3Years', 'Down_from_52w_high', 'RSI',\n       'EPS_latest_quarter', 'From_52w_high', 'Debt_to_equity'],\n      dtype='object')"
     },
     "execution_count": 254,
     "metadata": {},
     "output_type": "execute_result"
    }
   ],
   "source": [
    "df13.columns"
   ],
   "metadata": {
    "collapsed": false,
    "pycharm": {
     "name": "#%%\n"
    }
   }
  },
  {
   "cell_type": "code",
   "execution_count": 257,
   "outputs": [],
   "source": [
    "df14=pd.read_csv(r\"D:\\Pyn\\online learning\\INURAN_DATA\\FSDS_September\\TEST_WORK\\STOCKS\\data_analysis\\nifty500_stock_returns20240118.csv\")"
   ],
   "metadata": {
    "collapsed": false,
    "pycharm": {
     "name": "#%%\n"
    }
   }
  },
  {
   "cell_type": "code",
   "execution_count": 260,
   "outputs": [],
   "source": [
    "df14.drop(0,axis=0,inplace=True)"
   ],
   "metadata": {
    "collapsed": false,
    "pycharm": {
     "name": "#%%\n"
    }
   }
  },
  {
   "cell_type": "code",
   "execution_count": 264,
   "outputs": [],
   "source": [
    "df14.set_index(\"Date\",inplace=True)"
   ],
   "metadata": {
    "collapsed": false,
    "pycharm": {
     "name": "#%%\n"
    }
   }
  },
  {
   "cell_type": "code",
   "execution_count": 267,
   "outputs": [],
   "source": [
    "df14=df14[::-1]"
   ],
   "metadata": {
    "collapsed": false,
    "pycharm": {
     "name": "#%%\n"
    }
   }
  },
  {
   "cell_type": "code",
   "execution_count": 268,
   "outputs": [
    {
     "data": {
      "text/plain": "             JBMA.NS  ALKYLAMINE.NS  CASTROLIND.NS   IDEA.NS  SPARC.NS  \\\nDate                                                                     \n2024-01-17  0.031083            NaN      -0.029471 -0.041270 -0.019585   \n2024-01-16  0.018641      -0.007400      -0.025619 -0.045455 -0.035864   \n2024-01-15 -0.029453      -0.016690      -0.000844  0.041009  0.026271   \n2024-01-12 -0.029262       0.006737      -0.012500 -0.012461 -0.002982   \n2024-01-11  0.002771      -0.014637      -0.002494 -0.006192 -0.007081   \n...              ...            ...            ...       ...       ...   \n2018-01-25 -0.012795      -0.013050      -0.021925  0.012780 -0.003001   \n2018-01-24 -0.004702       0.033623      -0.009796 -0.054857  0.007051   \n2018-01-23  0.000686       0.059341       0.005056 -0.001508 -0.010664   \n2018-01-22  0.000000      -0.009206       0.000799 -0.027370  0.009762   \n2018-01-19 -0.002445       0.011642       0.006972  0.011869  0.003940   \n\n            ENGINERSIN.NS  JUBLPHARMA.NS   GNFC.NS  GUJGASLTD.NS  CIEINDIA.NS  \\\nDate                                                                            \n2024-01-17      -0.009325       0.011922 -0.018120     -0.001618     0.001831   \n2024-01-16      -0.033626       0.000089 -0.007603      0.026680    -0.000813   \n2024-01-15       0.063830       0.000000 -0.009301      0.013094     0.000000   \n2024-01-12      -0.011784      -0.018514 -0.017693     -0.012013     0.004903   \n2024-01-11       0.098198       0.004738  0.006345      0.050272     0.014508   \n...                   ...            ...       ...           ...          ...   \n2018-01-25      -0.003442      -0.006662 -0.020563     -0.017779    -0.009746   \n2018-01-24      -0.016366       0.018561 -0.020809     -0.002541    -0.013790   \n2018-01-23       0.000565       0.004733  0.014266      0.009176     0.003565   \n2018-01-22      -0.019108       0.008523  0.033216      0.012114    -0.009965   \n2018-01-19       0.012903      -0.020754  0.005278     -0.012026     0.009219   \n\n            ...  METROBRAND.NS  360ONE.NS  GOCOLORS.NS  CHEMPLASTS.NS  \\\nDate        ...                                                         \n2024-01-17  ...      -0.021650  -0.022748    -0.014105      -0.001015   \n2024-01-16  ...      -0.013724  -0.012095     0.010357      -0.014506   \n2024-01-15  ...       0.000000   0.000000     0.000000       0.000000   \n2024-01-12  ...       0.013430  -0.015654    -0.003794       0.004926   \n2024-01-11  ...      -0.003138  -0.004099    -0.012712       0.007801   \n...         ...            ...        ...          ...            ...   \n2018-01-25  ...            NaN        NaN          NaN            NaN   \n2018-01-24  ...            NaN        NaN          NaN            NaN   \n2018-01-23  ...            NaN        NaN          NaN            NaN   \n2018-01-22  ...            NaN        NaN          NaN            NaN   \n2018-01-19  ...            NaN        NaN          NaN            NaN   \n\n            BSOFT.NS  CHOLAFIN.NS  EICHERMOT.NS  SONATSOFTW.NS  SAFARI.NS  \\\nDate                                                                        \n2024-01-17  0.022801    -0.008734     -0.010864      -0.006993  -0.000806   \n2024-01-16 -0.007122     0.016585     -0.010386       0.004135  -0.011862   \n2024-01-15 -0.000572     0.025471     -0.010011       0.008405  -0.010503   \n2024-01-12  0.053146     0.012304     -0.004616       0.064159   0.003822   \n2024-01-11  0.010074     0.012415      0.012036       0.005595   0.006259   \n...              ...          ...           ...            ...        ...   \n2018-01-25  0.005708     0.001187      0.004369      -0.044395        NaN   \n2018-01-24  0.033423    -0.003776     -0.024646       0.005944        NaN   \n2018-01-23  0.017504     0.001375     -0.020924      -0.000161        NaN   \n2018-01-22  0.016781    -0.010282     -0.012840       0.024687        NaN   \n2018-01-19  0.022621     0.006162      0.001969       0.043448        NaN   \n\n             BBTC.NS  \nDate                  \n2024-01-17 -0.038788  \n2024-01-16 -0.003295  \n2024-01-15  0.001453  \n2024-01-12  0.016305  \n2024-01-11  0.032823  \n...              ...  \n2018-01-25 -0.023394  \n2018-01-24 -0.022427  \n2018-01-23 -0.006287  \n2018-01-22 -0.006589  \n2018-01-19  0.013706  \n\n[1480 rows x 500 columns]",
      "text/html": "<div>\n<style scoped>\n    .dataframe tbody tr th:only-of-type {\n        vertical-align: middle;\n    }\n\n    .dataframe tbody tr th {\n        vertical-align: top;\n    }\n\n    .dataframe thead th {\n        text-align: right;\n    }\n</style>\n<table border=\"1\" class=\"dataframe\">\n  <thead>\n    <tr style=\"text-align: right;\">\n      <th></th>\n      <th>JBMA.NS</th>\n      <th>ALKYLAMINE.NS</th>\n      <th>CASTROLIND.NS</th>\n      <th>IDEA.NS</th>\n      <th>SPARC.NS</th>\n      <th>ENGINERSIN.NS</th>\n      <th>JUBLPHARMA.NS</th>\n      <th>GNFC.NS</th>\n      <th>GUJGASLTD.NS</th>\n      <th>CIEINDIA.NS</th>\n      <th>...</th>\n      <th>METROBRAND.NS</th>\n      <th>360ONE.NS</th>\n      <th>GOCOLORS.NS</th>\n      <th>CHEMPLASTS.NS</th>\n      <th>BSOFT.NS</th>\n      <th>CHOLAFIN.NS</th>\n      <th>EICHERMOT.NS</th>\n      <th>SONATSOFTW.NS</th>\n      <th>SAFARI.NS</th>\n      <th>BBTC.NS</th>\n    </tr>\n    <tr>\n      <th>Date</th>\n      <th></th>\n      <th></th>\n      <th></th>\n      <th></th>\n      <th></th>\n      <th></th>\n      <th></th>\n      <th></th>\n      <th></th>\n      <th></th>\n      <th></th>\n      <th></th>\n      <th></th>\n      <th></th>\n      <th></th>\n      <th></th>\n      <th></th>\n      <th></th>\n      <th></th>\n      <th></th>\n      <th></th>\n    </tr>\n  </thead>\n  <tbody>\n    <tr>\n      <th>2024-01-17</th>\n      <td>0.031083</td>\n      <td>NaN</td>\n      <td>-0.029471</td>\n      <td>-0.041270</td>\n      <td>-0.019585</td>\n      <td>-0.009325</td>\n      <td>0.011922</td>\n      <td>-0.018120</td>\n      <td>-0.001618</td>\n      <td>0.001831</td>\n      <td>...</td>\n      <td>-0.021650</td>\n      <td>-0.022748</td>\n      <td>-0.014105</td>\n      <td>-0.001015</td>\n      <td>0.022801</td>\n      <td>-0.008734</td>\n      <td>-0.010864</td>\n      <td>-0.006993</td>\n      <td>-0.000806</td>\n      <td>-0.038788</td>\n    </tr>\n    <tr>\n      <th>2024-01-16</th>\n      <td>0.018641</td>\n      <td>-0.007400</td>\n      <td>-0.025619</td>\n      <td>-0.045455</td>\n      <td>-0.035864</td>\n      <td>-0.033626</td>\n      <td>0.000089</td>\n      <td>-0.007603</td>\n      <td>0.026680</td>\n      <td>-0.000813</td>\n      <td>...</td>\n      <td>-0.013724</td>\n      <td>-0.012095</td>\n      <td>0.010357</td>\n      <td>-0.014506</td>\n      <td>-0.007122</td>\n      <td>0.016585</td>\n      <td>-0.010386</td>\n      <td>0.004135</td>\n      <td>-0.011862</td>\n      <td>-0.003295</td>\n    </tr>\n    <tr>\n      <th>2024-01-15</th>\n      <td>-0.029453</td>\n      <td>-0.016690</td>\n      <td>-0.000844</td>\n      <td>0.041009</td>\n      <td>0.026271</td>\n      <td>0.063830</td>\n      <td>0.000000</td>\n      <td>-0.009301</td>\n      <td>0.013094</td>\n      <td>0.000000</td>\n      <td>...</td>\n      <td>0.000000</td>\n      <td>0.000000</td>\n      <td>0.000000</td>\n      <td>0.000000</td>\n      <td>-0.000572</td>\n      <td>0.025471</td>\n      <td>-0.010011</td>\n      <td>0.008405</td>\n      <td>-0.010503</td>\n      <td>0.001453</td>\n    </tr>\n    <tr>\n      <th>2024-01-12</th>\n      <td>-0.029262</td>\n      <td>0.006737</td>\n      <td>-0.012500</td>\n      <td>-0.012461</td>\n      <td>-0.002982</td>\n      <td>-0.011784</td>\n      <td>-0.018514</td>\n      <td>-0.017693</td>\n      <td>-0.012013</td>\n      <td>0.004903</td>\n      <td>...</td>\n      <td>0.013430</td>\n      <td>-0.015654</td>\n      <td>-0.003794</td>\n      <td>0.004926</td>\n      <td>0.053146</td>\n      <td>0.012304</td>\n      <td>-0.004616</td>\n      <td>0.064159</td>\n      <td>0.003822</td>\n      <td>0.016305</td>\n    </tr>\n    <tr>\n      <th>2024-01-11</th>\n      <td>0.002771</td>\n      <td>-0.014637</td>\n      <td>-0.002494</td>\n      <td>-0.006192</td>\n      <td>-0.007081</td>\n      <td>0.098198</td>\n      <td>0.004738</td>\n      <td>0.006345</td>\n      <td>0.050272</td>\n      <td>0.014508</td>\n      <td>...</td>\n      <td>-0.003138</td>\n      <td>-0.004099</td>\n      <td>-0.012712</td>\n      <td>0.007801</td>\n      <td>0.010074</td>\n      <td>0.012415</td>\n      <td>0.012036</td>\n      <td>0.005595</td>\n      <td>0.006259</td>\n      <td>0.032823</td>\n    </tr>\n    <tr>\n      <th>...</th>\n      <td>...</td>\n      <td>...</td>\n      <td>...</td>\n      <td>...</td>\n      <td>...</td>\n      <td>...</td>\n      <td>...</td>\n      <td>...</td>\n      <td>...</td>\n      <td>...</td>\n      <td>...</td>\n      <td>...</td>\n      <td>...</td>\n      <td>...</td>\n      <td>...</td>\n      <td>...</td>\n      <td>...</td>\n      <td>...</td>\n      <td>...</td>\n      <td>...</td>\n      <td>...</td>\n    </tr>\n    <tr>\n      <th>2018-01-25</th>\n      <td>-0.012795</td>\n      <td>-0.013050</td>\n      <td>-0.021925</td>\n      <td>0.012780</td>\n      <td>-0.003001</td>\n      <td>-0.003442</td>\n      <td>-0.006662</td>\n      <td>-0.020563</td>\n      <td>-0.017779</td>\n      <td>-0.009746</td>\n      <td>...</td>\n      <td>NaN</td>\n      <td>NaN</td>\n      <td>NaN</td>\n      <td>NaN</td>\n      <td>0.005708</td>\n      <td>0.001187</td>\n      <td>0.004369</td>\n      <td>-0.044395</td>\n      <td>NaN</td>\n      <td>-0.023394</td>\n    </tr>\n    <tr>\n      <th>2018-01-24</th>\n      <td>-0.004702</td>\n      <td>0.033623</td>\n      <td>-0.009796</td>\n      <td>-0.054857</td>\n      <td>0.007051</td>\n      <td>-0.016366</td>\n      <td>0.018561</td>\n      <td>-0.020809</td>\n      <td>-0.002541</td>\n      <td>-0.013790</td>\n      <td>...</td>\n      <td>NaN</td>\n      <td>NaN</td>\n      <td>NaN</td>\n      <td>NaN</td>\n      <td>0.033423</td>\n      <td>-0.003776</td>\n      <td>-0.024646</td>\n      <td>0.005944</td>\n      <td>NaN</td>\n      <td>-0.022427</td>\n    </tr>\n    <tr>\n      <th>2018-01-23</th>\n      <td>0.000686</td>\n      <td>0.059341</td>\n      <td>0.005056</td>\n      <td>-0.001508</td>\n      <td>-0.010664</td>\n      <td>0.000565</td>\n      <td>0.004733</td>\n      <td>0.014266</td>\n      <td>0.009176</td>\n      <td>0.003565</td>\n      <td>...</td>\n      <td>NaN</td>\n      <td>NaN</td>\n      <td>NaN</td>\n      <td>NaN</td>\n      <td>0.017504</td>\n      <td>0.001375</td>\n      <td>-0.020924</td>\n      <td>-0.000161</td>\n      <td>NaN</td>\n      <td>-0.006287</td>\n    </tr>\n    <tr>\n      <th>2018-01-22</th>\n      <td>0.000000</td>\n      <td>-0.009206</td>\n      <td>0.000799</td>\n      <td>-0.027370</td>\n      <td>0.009762</td>\n      <td>-0.019108</td>\n      <td>0.008523</td>\n      <td>0.033216</td>\n      <td>0.012114</td>\n      <td>-0.009965</td>\n      <td>...</td>\n      <td>NaN</td>\n      <td>NaN</td>\n      <td>NaN</td>\n      <td>NaN</td>\n      <td>0.016781</td>\n      <td>-0.010282</td>\n      <td>-0.012840</td>\n      <td>0.024687</td>\n      <td>NaN</td>\n      <td>-0.006589</td>\n    </tr>\n    <tr>\n      <th>2018-01-19</th>\n      <td>-0.002445</td>\n      <td>0.011642</td>\n      <td>0.006972</td>\n      <td>0.011869</td>\n      <td>0.003940</td>\n      <td>0.012903</td>\n      <td>-0.020754</td>\n      <td>0.005278</td>\n      <td>-0.012026</td>\n      <td>0.009219</td>\n      <td>...</td>\n      <td>NaN</td>\n      <td>NaN</td>\n      <td>NaN</td>\n      <td>NaN</td>\n      <td>0.022621</td>\n      <td>0.006162</td>\n      <td>0.001969</td>\n      <td>0.043448</td>\n      <td>NaN</td>\n      <td>0.013706</td>\n    </tr>\n  </tbody>\n</table>\n<p>1480 rows × 500 columns</p>\n</div>"
     },
     "execution_count": 268,
     "metadata": {},
     "output_type": "execute_result"
    }
   ],
   "source": [
    "df14"
   ],
   "metadata": {
    "collapsed": false,
    "pycharm": {
     "name": "#%%\n"
    }
   }
  },
  {
   "cell_type": "code",
   "execution_count": 269,
   "outputs": [],
   "source": [
    "df15=df14.T"
   ],
   "metadata": {
    "collapsed": false,
    "pycharm": {
     "name": "#%%\n"
    }
   }
  },
  {
   "cell_type": "code",
   "execution_count": 270,
   "outputs": [
    {
     "data": {
      "text/plain": "Date           2024-01-17  2024-01-16  2024-01-15  2024-01-12  2024-01-11  \\\nJBMA.NS          0.031083    0.018641   -0.029453   -0.029262    0.002771   \nALKYLAMINE.NS         NaN   -0.007400   -0.016690    0.006737   -0.014637   \nCASTROLIND.NS   -0.029471   -0.025619   -0.000844   -0.012500   -0.002494   \nIDEA.NS         -0.041270   -0.045455    0.041009   -0.012461   -0.006192   \nSPARC.NS        -0.019585   -0.035864    0.026271   -0.002982   -0.007081   \n...                   ...         ...         ...         ...         ...   \nCHOLAFIN.NS     -0.008734    0.016585    0.025471    0.012304    0.012415   \nEICHERMOT.NS    -0.010864   -0.010386   -0.010011   -0.004616    0.012036   \nSONATSOFTW.NS   -0.006993    0.004135    0.008405    0.064159    0.005595   \nSAFARI.NS       -0.000806   -0.011862   -0.010503    0.003822    0.006259   \nBBTC.NS         -0.038788   -0.003295    0.001453    0.016305    0.032823   \n\nDate           2024-01-10  2024-01-09  2024-01-08  2024-01-05  2024-01-04  \\\nJBMA.NS          0.015731    0.008570    0.109277    0.010378    0.005171   \nALKYLAMINE.NS   -0.019296    0.001670   -0.036178   -0.007758    0.005250   \nCASTROLIND.NS    0.001665   -0.003044   -0.040106   -0.025873    0.020866   \nIDEA.NS         -0.003086   -0.055394    0.002924    0.017857    0.059937   \nSPARC.NS        -0.028275    0.003767   -0.053264    0.092621   -0.006068   \n...                   ...         ...         ...         ...         ...   \nCHOLAFIN.NS     -0.012343    0.000244   -0.021227   -0.030372    0.045748   \nEICHERMOT.NS    -0.007208   -0.003553    0.001857    0.004157   -0.006842   \nSONATSOFTW.NS    0.002058    0.005494   -0.020479    0.014465   -0.000992   \nSAFARI.NS       -0.015279   -0.003150   -0.012368    0.006314    0.027273   \nBBTC.NS         -0.007537    0.006028   -0.011168    0.000565    0.068126   \n\nDate           ...  2018-02-02  2018-02-01  2018-01-31  2018-01-30  \\\nJBMA.NS        ...   -0.047165    0.000507    0.002034   -0.021200   \nALKYLAMINE.NS  ...   -0.030459   -0.019090   -0.044937   -0.021099   \nCASTROLIND.NS  ...   -0.022041   -0.008900    0.006788   -0.006742   \nIDEA.NS        ...   -0.032859   -0.019334   -0.009575    0.004274   \nSPARC.NS       ...   -0.073512    0.002316   -0.028087   -0.021607   \n...            ...         ...         ...         ...         ...   \nCHOLAFIN.NS    ...   -0.045138    0.037907   -0.001281   -0.016798   \nEICHERMOT.NS   ...   -0.008400    0.041738    0.008775   -0.027838   \nSONATSOFTW.NS  ...   -0.071549   -0.014762   -0.011315    0.005773   \nSAFARI.NS      ...         NaN         NaN         NaN         NaN   \nBBTC.NS        ...   -0.094530    0.014072   -0.016233   -0.040522   \n\nDate           2018-01-29  2018-01-25  2018-01-24  2018-01-23  2018-01-22  \\\nJBMA.NS          0.001695   -0.012795   -0.004702    0.000686    0.000000   \nALKYLAMINE.NS   -0.018239   -0.013050    0.033623    0.059341   -0.009206   \nCASTROLIND.NS    0.013669   -0.021925   -0.009796    0.005056    0.000799   \nIDEA.NS         -0.015773    0.012780   -0.054857   -0.001508   -0.027370   \nSPARC.NS        -0.043443   -0.003001    0.007051   -0.010664    0.009762   \n...                   ...         ...         ...         ...         ...   \nCHOLAFIN.NS      0.001683    0.001187   -0.003776    0.001375   -0.010282   \nEICHERMOT.NS     0.035229    0.004369   -0.024646   -0.020924   -0.012840   \nSONATSOFTW.NS    0.013202   -0.044395    0.005944   -0.000161    0.024687   \nSAFARI.NS             NaN         NaN         NaN         NaN         NaN   \nBBTC.NS         -0.017196   -0.023394   -0.022427   -0.006287   -0.006589   \n\nDate           2018-01-19  \nJBMA.NS         -0.002445  \nALKYLAMINE.NS    0.011642  \nCASTROLIND.NS    0.006972  \nIDEA.NS          0.011869  \nSPARC.NS         0.003940  \n...                   ...  \nCHOLAFIN.NS      0.006162  \nEICHERMOT.NS     0.001969  \nSONATSOFTW.NS    0.043448  \nSAFARI.NS             NaN  \nBBTC.NS          0.013706  \n\n[500 rows x 1480 columns]",
      "text/html": "<div>\n<style scoped>\n    .dataframe tbody tr th:only-of-type {\n        vertical-align: middle;\n    }\n\n    .dataframe tbody tr th {\n        vertical-align: top;\n    }\n\n    .dataframe thead th {\n        text-align: right;\n    }\n</style>\n<table border=\"1\" class=\"dataframe\">\n  <thead>\n    <tr style=\"text-align: right;\">\n      <th>Date</th>\n      <th>2024-01-17</th>\n      <th>2024-01-16</th>\n      <th>2024-01-15</th>\n      <th>2024-01-12</th>\n      <th>2024-01-11</th>\n      <th>2024-01-10</th>\n      <th>2024-01-09</th>\n      <th>2024-01-08</th>\n      <th>2024-01-05</th>\n      <th>2024-01-04</th>\n      <th>...</th>\n      <th>2018-02-02</th>\n      <th>2018-02-01</th>\n      <th>2018-01-31</th>\n      <th>2018-01-30</th>\n      <th>2018-01-29</th>\n      <th>2018-01-25</th>\n      <th>2018-01-24</th>\n      <th>2018-01-23</th>\n      <th>2018-01-22</th>\n      <th>2018-01-19</th>\n    </tr>\n  </thead>\n  <tbody>\n    <tr>\n      <th>JBMA.NS</th>\n      <td>0.031083</td>\n      <td>0.018641</td>\n      <td>-0.029453</td>\n      <td>-0.029262</td>\n      <td>0.002771</td>\n      <td>0.015731</td>\n      <td>0.008570</td>\n      <td>0.109277</td>\n      <td>0.010378</td>\n      <td>0.005171</td>\n      <td>...</td>\n      <td>-0.047165</td>\n      <td>0.000507</td>\n      <td>0.002034</td>\n      <td>-0.021200</td>\n      <td>0.001695</td>\n      <td>-0.012795</td>\n      <td>-0.004702</td>\n      <td>0.000686</td>\n      <td>0.000000</td>\n      <td>-0.002445</td>\n    </tr>\n    <tr>\n      <th>ALKYLAMINE.NS</th>\n      <td>NaN</td>\n      <td>-0.007400</td>\n      <td>-0.016690</td>\n      <td>0.006737</td>\n      <td>-0.014637</td>\n      <td>-0.019296</td>\n      <td>0.001670</td>\n      <td>-0.036178</td>\n      <td>-0.007758</td>\n      <td>0.005250</td>\n      <td>...</td>\n      <td>-0.030459</td>\n      <td>-0.019090</td>\n      <td>-0.044937</td>\n      <td>-0.021099</td>\n      <td>-0.018239</td>\n      <td>-0.013050</td>\n      <td>0.033623</td>\n      <td>0.059341</td>\n      <td>-0.009206</td>\n      <td>0.011642</td>\n    </tr>\n    <tr>\n      <th>CASTROLIND.NS</th>\n      <td>-0.029471</td>\n      <td>-0.025619</td>\n      <td>-0.000844</td>\n      <td>-0.012500</td>\n      <td>-0.002494</td>\n      <td>0.001665</td>\n      <td>-0.003044</td>\n      <td>-0.040106</td>\n      <td>-0.025873</td>\n      <td>0.020866</td>\n      <td>...</td>\n      <td>-0.022041</td>\n      <td>-0.008900</td>\n      <td>0.006788</td>\n      <td>-0.006742</td>\n      <td>0.013669</td>\n      <td>-0.021925</td>\n      <td>-0.009796</td>\n      <td>0.005056</td>\n      <td>0.000799</td>\n      <td>0.006972</td>\n    </tr>\n    <tr>\n      <th>IDEA.NS</th>\n      <td>-0.041270</td>\n      <td>-0.045455</td>\n      <td>0.041009</td>\n      <td>-0.012461</td>\n      <td>-0.006192</td>\n      <td>-0.003086</td>\n      <td>-0.055394</td>\n      <td>0.002924</td>\n      <td>0.017857</td>\n      <td>0.059937</td>\n      <td>...</td>\n      <td>-0.032859</td>\n      <td>-0.019334</td>\n      <td>-0.009575</td>\n      <td>0.004274</td>\n      <td>-0.015773</td>\n      <td>0.012780</td>\n      <td>-0.054857</td>\n      <td>-0.001508</td>\n      <td>-0.027370</td>\n      <td>0.011869</td>\n    </tr>\n    <tr>\n      <th>SPARC.NS</th>\n      <td>-0.019585</td>\n      <td>-0.035864</td>\n      <td>0.026271</td>\n      <td>-0.002982</td>\n      <td>-0.007081</td>\n      <td>-0.028275</td>\n      <td>0.003767</td>\n      <td>-0.053264</td>\n      <td>0.092621</td>\n      <td>-0.006068</td>\n      <td>...</td>\n      <td>-0.073512</td>\n      <td>0.002316</td>\n      <td>-0.028087</td>\n      <td>-0.021607</td>\n      <td>-0.043443</td>\n      <td>-0.003001</td>\n      <td>0.007051</td>\n      <td>-0.010664</td>\n      <td>0.009762</td>\n      <td>0.003940</td>\n    </tr>\n    <tr>\n      <th>...</th>\n      <td>...</td>\n      <td>...</td>\n      <td>...</td>\n      <td>...</td>\n      <td>...</td>\n      <td>...</td>\n      <td>...</td>\n      <td>...</td>\n      <td>...</td>\n      <td>...</td>\n      <td>...</td>\n      <td>...</td>\n      <td>...</td>\n      <td>...</td>\n      <td>...</td>\n      <td>...</td>\n      <td>...</td>\n      <td>...</td>\n      <td>...</td>\n      <td>...</td>\n      <td>...</td>\n    </tr>\n    <tr>\n      <th>CHOLAFIN.NS</th>\n      <td>-0.008734</td>\n      <td>0.016585</td>\n      <td>0.025471</td>\n      <td>0.012304</td>\n      <td>0.012415</td>\n      <td>-0.012343</td>\n      <td>0.000244</td>\n      <td>-0.021227</td>\n      <td>-0.030372</td>\n      <td>0.045748</td>\n      <td>...</td>\n      <td>-0.045138</td>\n      <td>0.037907</td>\n      <td>-0.001281</td>\n      <td>-0.016798</td>\n      <td>0.001683</td>\n      <td>0.001187</td>\n      <td>-0.003776</td>\n      <td>0.001375</td>\n      <td>-0.010282</td>\n      <td>0.006162</td>\n    </tr>\n    <tr>\n      <th>EICHERMOT.NS</th>\n      <td>-0.010864</td>\n      <td>-0.010386</td>\n      <td>-0.010011</td>\n      <td>-0.004616</td>\n      <td>0.012036</td>\n      <td>-0.007208</td>\n      <td>-0.003553</td>\n      <td>0.001857</td>\n      <td>0.004157</td>\n      <td>-0.006842</td>\n      <td>...</td>\n      <td>-0.008400</td>\n      <td>0.041738</td>\n      <td>0.008775</td>\n      <td>-0.027838</td>\n      <td>0.035229</td>\n      <td>0.004369</td>\n      <td>-0.024646</td>\n      <td>-0.020924</td>\n      <td>-0.012840</td>\n      <td>0.001969</td>\n    </tr>\n    <tr>\n      <th>SONATSOFTW.NS</th>\n      <td>-0.006993</td>\n      <td>0.004135</td>\n      <td>0.008405</td>\n      <td>0.064159</td>\n      <td>0.005595</td>\n      <td>0.002058</td>\n      <td>0.005494</td>\n      <td>-0.020479</td>\n      <td>0.014465</td>\n      <td>-0.000992</td>\n      <td>...</td>\n      <td>-0.071549</td>\n      <td>-0.014762</td>\n      <td>-0.011315</td>\n      <td>0.005773</td>\n      <td>0.013202</td>\n      <td>-0.044395</td>\n      <td>0.005944</td>\n      <td>-0.000161</td>\n      <td>0.024687</td>\n      <td>0.043448</td>\n    </tr>\n    <tr>\n      <th>SAFARI.NS</th>\n      <td>-0.000806</td>\n      <td>-0.011862</td>\n      <td>-0.010503</td>\n      <td>0.003822</td>\n      <td>0.006259</td>\n      <td>-0.015279</td>\n      <td>-0.003150</td>\n      <td>-0.012368</td>\n      <td>0.006314</td>\n      <td>0.027273</td>\n      <td>...</td>\n      <td>NaN</td>\n      <td>NaN</td>\n      <td>NaN</td>\n      <td>NaN</td>\n      <td>NaN</td>\n      <td>NaN</td>\n      <td>NaN</td>\n      <td>NaN</td>\n      <td>NaN</td>\n      <td>NaN</td>\n    </tr>\n    <tr>\n      <th>BBTC.NS</th>\n      <td>-0.038788</td>\n      <td>-0.003295</td>\n      <td>0.001453</td>\n      <td>0.016305</td>\n      <td>0.032823</td>\n      <td>-0.007537</td>\n      <td>0.006028</td>\n      <td>-0.011168</td>\n      <td>0.000565</td>\n      <td>0.068126</td>\n      <td>...</td>\n      <td>-0.094530</td>\n      <td>0.014072</td>\n      <td>-0.016233</td>\n      <td>-0.040522</td>\n      <td>-0.017196</td>\n      <td>-0.023394</td>\n      <td>-0.022427</td>\n      <td>-0.006287</td>\n      <td>-0.006589</td>\n      <td>0.013706</td>\n    </tr>\n  </tbody>\n</table>\n<p>500 rows × 1480 columns</p>\n</div>"
     },
     "execution_count": 270,
     "metadata": {},
     "output_type": "execute_result"
    }
   ],
   "source": [
    "df15"
   ],
   "metadata": {
    "collapsed": false,
    "pycharm": {
     "name": "#%%\n"
    }
   }
  },
  {
   "cell_type": "code",
   "execution_count": 273,
   "outputs": [],
   "source": [
    "df13[\"company_url\"]=df13[\"company_url\"].str.split(\"/\").str[4]"
   ],
   "metadata": {
    "collapsed": false,
    "pycharm": {
     "name": "#%%\n"
    }
   }
  },
  {
   "cell_type": "code",
   "execution_count": 274,
   "outputs": [
    {
     "data": {
      "text/plain": "    company_url  Market_cap  Current_Price    High     Low    P_E  Book_Value  \\\n0          GSFC     11297.0          284.0   306.0   116.0   10.7       310.0   \n1          JBMA     22355.0         1890.0  2007.0   482.0  163.0        90.1   \n2    ALKYLAMINE     12072.0         2360.0  2798.0  2119.0   63.7       105.0   \n4          IDEA     73555.0           15.1    18.4     5.7    NaN       -18.7   \n5         SPARC     12299.0          379.0   424.0   160.0    NaN        10.2   \n..          ...         ...            ...     ...     ...    ...         ...   \n496    CHOLAFIN    108540.0         1292.0  1310.0   688.0   35.9       192.0   \n497   EICHERMOT    101037.0         3691.0  4202.0  2836.0   28.2       582.0   \n498  SONATSOFTW     21465.0          766.0   804.0   286.0   45.1        51.4   \n499      SAFARI      9042.0         1900.0  2315.0   850.0   55.7       108.0   \n500        BBTC     11091.0         1591.0  1702.0   781.0   41.6       572.0   \n\n     Dividend_Yield   ROCE   ROE  ...  Sales_growth  Up_from_52w_low  \\\n0              3.52  13.10  10.6  ...          8.20            145.0   \n1              0.07  11.80  12.9  ...          9.31            292.0   \n2              0.42  41.30  41.4  ...         17.30             11.4   \n4              0.00   0.00   0.0  ...          3.76            165.0   \n5              0.00   0.00   0.0  ...          0.00            136.0   \n..              ...    ...   ...  ...           ...              ...   \n496            0.15   9.72  20.4  ...         44.30             87.9   \n497            1.00  27.40  21.1  ...         20.30             30.2   \n498            1.03  39.10  37.7  ...         22.80            168.0   \n499            0.09  37.50  34.4  ...         39.80            123.0   \n500            0.08  15.50 -70.0  ...          8.91            104.0   \n\n     Industry_PE  No_Eq_Shares  Sales_growth_3Years  Down_from_52w_high   RSI  \\\n0           26.6         39.80                13.40                7.27  65.3   \n1           33.2         11.80                25.60                5.84  70.7   \n2           34.3          5.11                25.60               15.60  43.0   \n4           57.1       4868.00                -2.11               18.00  49.4   \n5           38.7         32.40                 0.00               10.50  64.0   \n..           ...           ...                  ...                 ...   ...   \n496         22.1         84.00                13.90                1.40  61.5   \n497         46.9         27.40                16.40               12.20  33.6   \n498         39.3         28.00                25.80                4.75  63.6   \n499         57.0          4.76                20.90               17.90  40.8   \n500         33.2          6.98                11.80                6.50  58.2   \n\n     EPS_latest_quarter  From_52w_high  Debt_to_equity  \n0                  7.75           0.93            0.00  \n1                  3.74           0.94            1.93  \n2                  9.65           0.84            0.16  \n4                 -1.79           0.82            0.00  \n5                 -2.66           0.89            0.04  \n..                  ...            ...             ...  \n496                9.40           0.99            7.56  \n497               37.10           0.88            0.03  \n498                4.43           0.95            0.35  \n499                8.35           0.82            0.26  \n500               17.50           0.94            1.39  \n\n[467 rows x 21 columns]",
      "text/html": "<div>\n<style scoped>\n    .dataframe tbody tr th:only-of-type {\n        vertical-align: middle;\n    }\n\n    .dataframe tbody tr th {\n        vertical-align: top;\n    }\n\n    .dataframe thead th {\n        text-align: right;\n    }\n</style>\n<table border=\"1\" class=\"dataframe\">\n  <thead>\n    <tr style=\"text-align: right;\">\n      <th></th>\n      <th>company_url</th>\n      <th>Market_cap</th>\n      <th>Current_Price</th>\n      <th>High</th>\n      <th>Low</th>\n      <th>P_E</th>\n      <th>Book_Value</th>\n      <th>Dividend_Yield</th>\n      <th>ROCE</th>\n      <th>ROE</th>\n      <th>...</th>\n      <th>Sales_growth</th>\n      <th>Up_from_52w_low</th>\n      <th>Industry_PE</th>\n      <th>No_Eq_Shares</th>\n      <th>Sales_growth_3Years</th>\n      <th>Down_from_52w_high</th>\n      <th>RSI</th>\n      <th>EPS_latest_quarter</th>\n      <th>From_52w_high</th>\n      <th>Debt_to_equity</th>\n    </tr>\n  </thead>\n  <tbody>\n    <tr>\n      <th>0</th>\n      <td>GSFC</td>\n      <td>11297.0</td>\n      <td>284.0</td>\n      <td>306.0</td>\n      <td>116.0</td>\n      <td>10.7</td>\n      <td>310.0</td>\n      <td>3.52</td>\n      <td>13.10</td>\n      <td>10.6</td>\n      <td>...</td>\n      <td>8.20</td>\n      <td>145.0</td>\n      <td>26.6</td>\n      <td>39.80</td>\n      <td>13.40</td>\n      <td>7.27</td>\n      <td>65.3</td>\n      <td>7.75</td>\n      <td>0.93</td>\n      <td>0.00</td>\n    </tr>\n    <tr>\n      <th>1</th>\n      <td>JBMA</td>\n      <td>22355.0</td>\n      <td>1890.0</td>\n      <td>2007.0</td>\n      <td>482.0</td>\n      <td>163.0</td>\n      <td>90.1</td>\n      <td>0.07</td>\n      <td>11.80</td>\n      <td>12.9</td>\n      <td>...</td>\n      <td>9.31</td>\n      <td>292.0</td>\n      <td>33.2</td>\n      <td>11.80</td>\n      <td>25.60</td>\n      <td>5.84</td>\n      <td>70.7</td>\n      <td>3.74</td>\n      <td>0.94</td>\n      <td>1.93</td>\n    </tr>\n    <tr>\n      <th>2</th>\n      <td>ALKYLAMINE</td>\n      <td>12072.0</td>\n      <td>2360.0</td>\n      <td>2798.0</td>\n      <td>2119.0</td>\n      <td>63.7</td>\n      <td>105.0</td>\n      <td>0.42</td>\n      <td>41.30</td>\n      <td>41.4</td>\n      <td>...</td>\n      <td>17.30</td>\n      <td>11.4</td>\n      <td>34.3</td>\n      <td>5.11</td>\n      <td>25.60</td>\n      <td>15.60</td>\n      <td>43.0</td>\n      <td>9.65</td>\n      <td>0.84</td>\n      <td>0.16</td>\n    </tr>\n    <tr>\n      <th>4</th>\n      <td>IDEA</td>\n      <td>73555.0</td>\n      <td>15.1</td>\n      <td>18.4</td>\n      <td>5.7</td>\n      <td>NaN</td>\n      <td>-18.7</td>\n      <td>0.00</td>\n      <td>0.00</td>\n      <td>0.0</td>\n      <td>...</td>\n      <td>3.76</td>\n      <td>165.0</td>\n      <td>57.1</td>\n      <td>4868.00</td>\n      <td>-2.11</td>\n      <td>18.00</td>\n      <td>49.4</td>\n      <td>-1.79</td>\n      <td>0.82</td>\n      <td>0.00</td>\n    </tr>\n    <tr>\n      <th>5</th>\n      <td>SPARC</td>\n      <td>12299.0</td>\n      <td>379.0</td>\n      <td>424.0</td>\n      <td>160.0</td>\n      <td>NaN</td>\n      <td>10.2</td>\n      <td>0.00</td>\n      <td>0.00</td>\n      <td>0.0</td>\n      <td>...</td>\n      <td>0.00</td>\n      <td>136.0</td>\n      <td>38.7</td>\n      <td>32.40</td>\n      <td>0.00</td>\n      <td>10.50</td>\n      <td>64.0</td>\n      <td>-2.66</td>\n      <td>0.89</td>\n      <td>0.04</td>\n    </tr>\n    <tr>\n      <th>...</th>\n      <td>...</td>\n      <td>...</td>\n      <td>...</td>\n      <td>...</td>\n      <td>...</td>\n      <td>...</td>\n      <td>...</td>\n      <td>...</td>\n      <td>...</td>\n      <td>...</td>\n      <td>...</td>\n      <td>...</td>\n      <td>...</td>\n      <td>...</td>\n      <td>...</td>\n      <td>...</td>\n      <td>...</td>\n      <td>...</td>\n      <td>...</td>\n      <td>...</td>\n      <td>...</td>\n    </tr>\n    <tr>\n      <th>496</th>\n      <td>CHOLAFIN</td>\n      <td>108540.0</td>\n      <td>1292.0</td>\n      <td>1310.0</td>\n      <td>688.0</td>\n      <td>35.9</td>\n      <td>192.0</td>\n      <td>0.15</td>\n      <td>9.72</td>\n      <td>20.4</td>\n      <td>...</td>\n      <td>44.30</td>\n      <td>87.9</td>\n      <td>22.1</td>\n      <td>84.00</td>\n      <td>13.90</td>\n      <td>1.40</td>\n      <td>61.5</td>\n      <td>9.40</td>\n      <td>0.99</td>\n      <td>7.56</td>\n    </tr>\n    <tr>\n      <th>497</th>\n      <td>EICHERMOT</td>\n      <td>101037.0</td>\n      <td>3691.0</td>\n      <td>4202.0</td>\n      <td>2836.0</td>\n      <td>28.2</td>\n      <td>582.0</td>\n      <td>1.00</td>\n      <td>27.40</td>\n      <td>21.1</td>\n      <td>...</td>\n      <td>20.30</td>\n      <td>30.2</td>\n      <td>46.9</td>\n      <td>27.40</td>\n      <td>16.40</td>\n      <td>12.20</td>\n      <td>33.6</td>\n      <td>37.10</td>\n      <td>0.88</td>\n      <td>0.03</td>\n    </tr>\n    <tr>\n      <th>498</th>\n      <td>SONATSOFTW</td>\n      <td>21465.0</td>\n      <td>766.0</td>\n      <td>804.0</td>\n      <td>286.0</td>\n      <td>45.1</td>\n      <td>51.4</td>\n      <td>1.03</td>\n      <td>39.10</td>\n      <td>37.7</td>\n      <td>...</td>\n      <td>22.80</td>\n      <td>168.0</td>\n      <td>39.3</td>\n      <td>28.00</td>\n      <td>25.80</td>\n      <td>4.75</td>\n      <td>63.6</td>\n      <td>4.43</td>\n      <td>0.95</td>\n      <td>0.35</td>\n    </tr>\n    <tr>\n      <th>499</th>\n      <td>SAFARI</td>\n      <td>9042.0</td>\n      <td>1900.0</td>\n      <td>2315.0</td>\n      <td>850.0</td>\n      <td>55.7</td>\n      <td>108.0</td>\n      <td>0.09</td>\n      <td>37.50</td>\n      <td>34.4</td>\n      <td>...</td>\n      <td>39.80</td>\n      <td>123.0</td>\n      <td>57.0</td>\n      <td>4.76</td>\n      <td>20.90</td>\n      <td>17.90</td>\n      <td>40.8</td>\n      <td>8.35</td>\n      <td>0.82</td>\n      <td>0.26</td>\n    </tr>\n    <tr>\n      <th>500</th>\n      <td>BBTC</td>\n      <td>11091.0</td>\n      <td>1591.0</td>\n      <td>1702.0</td>\n      <td>781.0</td>\n      <td>41.6</td>\n      <td>572.0</td>\n      <td>0.08</td>\n      <td>15.50</td>\n      <td>-70.0</td>\n      <td>...</td>\n      <td>8.91</td>\n      <td>104.0</td>\n      <td>33.2</td>\n      <td>6.98</td>\n      <td>11.80</td>\n      <td>6.50</td>\n      <td>58.2</td>\n      <td>17.50</td>\n      <td>0.94</td>\n      <td>1.39</td>\n    </tr>\n  </tbody>\n</table>\n<p>467 rows × 21 columns</p>\n</div>"
     },
     "execution_count": 274,
     "metadata": {},
     "output_type": "execute_result"
    }
   ],
   "source": [
    "df13"
   ],
   "metadata": {
    "collapsed": false,
    "pycharm": {
     "name": "#%%\n"
    }
   }
  },
  {
   "cell_type": "code",
   "execution_count": 277,
   "outputs": [],
   "source": [
    "df15.reset_index(inplace=True)"
   ],
   "metadata": {
    "collapsed": false,
    "pycharm": {
     "name": "#%%\n"
    }
   }
  },
  {
   "cell_type": "code",
   "execution_count": 280,
   "outputs": [],
   "source": [
    "df15[\"index\"]=df15[\"index\"].str.split('.').str[0]"
   ],
   "metadata": {
    "collapsed": false,
    "pycharm": {
     "name": "#%%\n"
    }
   }
  },
  {
   "cell_type": "code",
   "execution_count": 283,
   "outputs": [],
   "source": [
    "df15.set_index(\"index\",inplace=True)"
   ],
   "metadata": {
    "collapsed": false,
    "pycharm": {
     "name": "#%%\n"
    }
   }
  },
  {
   "cell_type": "code",
   "execution_count": 286,
   "outputs": [],
   "source": [
    "df15.reset_index(inplace=True)"
   ],
   "metadata": {
    "collapsed": false,
    "pycharm": {
     "name": "#%%\n"
    }
   }
  },
  {
   "cell_type": "code",
   "execution_count": 287,
   "outputs": [
    {
     "data": {
      "text/plain": "Date       index  2024-01-17  2024-01-16  2024-01-15  2024-01-12  2024-01-11  \\\n0           JBMA    0.031083    0.018641   -0.029453   -0.029262    0.002771   \n1     ALKYLAMINE         NaN   -0.007400   -0.016690    0.006737   -0.014637   \n2     CASTROLIND   -0.029471   -0.025619   -0.000844   -0.012500   -0.002494   \n3           IDEA   -0.041270   -0.045455    0.041009   -0.012461   -0.006192   \n4          SPARC   -0.019585   -0.035864    0.026271   -0.002982   -0.007081   \n..           ...         ...         ...         ...         ...         ...   \n495     CHOLAFIN   -0.008734    0.016585    0.025471    0.012304    0.012415   \n496    EICHERMOT   -0.010864   -0.010386   -0.010011   -0.004616    0.012036   \n497   SONATSOFTW   -0.006993    0.004135    0.008405    0.064159    0.005595   \n498       SAFARI   -0.000806   -0.011862   -0.010503    0.003822    0.006259   \n499         BBTC   -0.038788   -0.003295    0.001453    0.016305    0.032823   \n\nDate  2024-01-10  2024-01-09  2024-01-08  2024-01-05  ...  2018-02-02  \\\n0       0.015731    0.008570    0.109277    0.010378  ...   -0.047165   \n1      -0.019296    0.001670   -0.036178   -0.007758  ...   -0.030459   \n2       0.001665   -0.003044   -0.040106   -0.025873  ...   -0.022041   \n3      -0.003086   -0.055394    0.002924    0.017857  ...   -0.032859   \n4      -0.028275    0.003767   -0.053264    0.092621  ...   -0.073512   \n..           ...         ...         ...         ...  ...         ...   \n495    -0.012343    0.000244   -0.021227   -0.030372  ...   -0.045138   \n496    -0.007208   -0.003553    0.001857    0.004157  ...   -0.008400   \n497     0.002058    0.005494   -0.020479    0.014465  ...   -0.071549   \n498    -0.015279   -0.003150   -0.012368    0.006314  ...         NaN   \n499    -0.007537    0.006028   -0.011168    0.000565  ...   -0.094530   \n\nDate  2018-02-01  2018-01-31  2018-01-30  2018-01-29  2018-01-25  2018-01-24  \\\n0       0.000507    0.002034   -0.021200    0.001695   -0.012795   -0.004702   \n1      -0.019090   -0.044937   -0.021099   -0.018239   -0.013050    0.033623   \n2      -0.008900    0.006788   -0.006742    0.013669   -0.021925   -0.009796   \n3      -0.019334   -0.009575    0.004274   -0.015773    0.012780   -0.054857   \n4       0.002316   -0.028087   -0.021607   -0.043443   -0.003001    0.007051   \n..           ...         ...         ...         ...         ...         ...   \n495     0.037907   -0.001281   -0.016798    0.001683    0.001187   -0.003776   \n496     0.041738    0.008775   -0.027838    0.035229    0.004369   -0.024646   \n497    -0.014762   -0.011315    0.005773    0.013202   -0.044395    0.005944   \n498          NaN         NaN         NaN         NaN         NaN         NaN   \n499     0.014072   -0.016233   -0.040522   -0.017196   -0.023394   -0.022427   \n\nDate  2018-01-23  2018-01-22  2018-01-19  \n0       0.000686    0.000000   -0.002445  \n1       0.059341   -0.009206    0.011642  \n2       0.005056    0.000799    0.006972  \n3      -0.001508   -0.027370    0.011869  \n4      -0.010664    0.009762    0.003940  \n..           ...         ...         ...  \n495     0.001375   -0.010282    0.006162  \n496    -0.020924   -0.012840    0.001969  \n497    -0.000161    0.024687    0.043448  \n498          NaN         NaN         NaN  \n499    -0.006287   -0.006589    0.013706  \n\n[500 rows x 1481 columns]",
      "text/html": "<div>\n<style scoped>\n    .dataframe tbody tr th:only-of-type {\n        vertical-align: middle;\n    }\n\n    .dataframe tbody tr th {\n        vertical-align: top;\n    }\n\n    .dataframe thead th {\n        text-align: right;\n    }\n</style>\n<table border=\"1\" class=\"dataframe\">\n  <thead>\n    <tr style=\"text-align: right;\">\n      <th>Date</th>\n      <th>index</th>\n      <th>2024-01-17</th>\n      <th>2024-01-16</th>\n      <th>2024-01-15</th>\n      <th>2024-01-12</th>\n      <th>2024-01-11</th>\n      <th>2024-01-10</th>\n      <th>2024-01-09</th>\n      <th>2024-01-08</th>\n      <th>2024-01-05</th>\n      <th>...</th>\n      <th>2018-02-02</th>\n      <th>2018-02-01</th>\n      <th>2018-01-31</th>\n      <th>2018-01-30</th>\n      <th>2018-01-29</th>\n      <th>2018-01-25</th>\n      <th>2018-01-24</th>\n      <th>2018-01-23</th>\n      <th>2018-01-22</th>\n      <th>2018-01-19</th>\n    </tr>\n  </thead>\n  <tbody>\n    <tr>\n      <th>0</th>\n      <td>JBMA</td>\n      <td>0.031083</td>\n      <td>0.018641</td>\n      <td>-0.029453</td>\n      <td>-0.029262</td>\n      <td>0.002771</td>\n      <td>0.015731</td>\n      <td>0.008570</td>\n      <td>0.109277</td>\n      <td>0.010378</td>\n      <td>...</td>\n      <td>-0.047165</td>\n      <td>0.000507</td>\n      <td>0.002034</td>\n      <td>-0.021200</td>\n      <td>0.001695</td>\n      <td>-0.012795</td>\n      <td>-0.004702</td>\n      <td>0.000686</td>\n      <td>0.000000</td>\n      <td>-0.002445</td>\n    </tr>\n    <tr>\n      <th>1</th>\n      <td>ALKYLAMINE</td>\n      <td>NaN</td>\n      <td>-0.007400</td>\n      <td>-0.016690</td>\n      <td>0.006737</td>\n      <td>-0.014637</td>\n      <td>-0.019296</td>\n      <td>0.001670</td>\n      <td>-0.036178</td>\n      <td>-0.007758</td>\n      <td>...</td>\n      <td>-0.030459</td>\n      <td>-0.019090</td>\n      <td>-0.044937</td>\n      <td>-0.021099</td>\n      <td>-0.018239</td>\n      <td>-0.013050</td>\n      <td>0.033623</td>\n      <td>0.059341</td>\n      <td>-0.009206</td>\n      <td>0.011642</td>\n    </tr>\n    <tr>\n      <th>2</th>\n      <td>CASTROLIND</td>\n      <td>-0.029471</td>\n      <td>-0.025619</td>\n      <td>-0.000844</td>\n      <td>-0.012500</td>\n      <td>-0.002494</td>\n      <td>0.001665</td>\n      <td>-0.003044</td>\n      <td>-0.040106</td>\n      <td>-0.025873</td>\n      <td>...</td>\n      <td>-0.022041</td>\n      <td>-0.008900</td>\n      <td>0.006788</td>\n      <td>-0.006742</td>\n      <td>0.013669</td>\n      <td>-0.021925</td>\n      <td>-0.009796</td>\n      <td>0.005056</td>\n      <td>0.000799</td>\n      <td>0.006972</td>\n    </tr>\n    <tr>\n      <th>3</th>\n      <td>IDEA</td>\n      <td>-0.041270</td>\n      <td>-0.045455</td>\n      <td>0.041009</td>\n      <td>-0.012461</td>\n      <td>-0.006192</td>\n      <td>-0.003086</td>\n      <td>-0.055394</td>\n      <td>0.002924</td>\n      <td>0.017857</td>\n      <td>...</td>\n      <td>-0.032859</td>\n      <td>-0.019334</td>\n      <td>-0.009575</td>\n      <td>0.004274</td>\n      <td>-0.015773</td>\n      <td>0.012780</td>\n      <td>-0.054857</td>\n      <td>-0.001508</td>\n      <td>-0.027370</td>\n      <td>0.011869</td>\n    </tr>\n    <tr>\n      <th>4</th>\n      <td>SPARC</td>\n      <td>-0.019585</td>\n      <td>-0.035864</td>\n      <td>0.026271</td>\n      <td>-0.002982</td>\n      <td>-0.007081</td>\n      <td>-0.028275</td>\n      <td>0.003767</td>\n      <td>-0.053264</td>\n      <td>0.092621</td>\n      <td>...</td>\n      <td>-0.073512</td>\n      <td>0.002316</td>\n      <td>-0.028087</td>\n      <td>-0.021607</td>\n      <td>-0.043443</td>\n      <td>-0.003001</td>\n      <td>0.007051</td>\n      <td>-0.010664</td>\n      <td>0.009762</td>\n      <td>0.003940</td>\n    </tr>\n    <tr>\n      <th>...</th>\n      <td>...</td>\n      <td>...</td>\n      <td>...</td>\n      <td>...</td>\n      <td>...</td>\n      <td>...</td>\n      <td>...</td>\n      <td>...</td>\n      <td>...</td>\n      <td>...</td>\n      <td>...</td>\n      <td>...</td>\n      <td>...</td>\n      <td>...</td>\n      <td>...</td>\n      <td>...</td>\n      <td>...</td>\n      <td>...</td>\n      <td>...</td>\n      <td>...</td>\n      <td>...</td>\n    </tr>\n    <tr>\n      <th>495</th>\n      <td>CHOLAFIN</td>\n      <td>-0.008734</td>\n      <td>0.016585</td>\n      <td>0.025471</td>\n      <td>0.012304</td>\n      <td>0.012415</td>\n      <td>-0.012343</td>\n      <td>0.000244</td>\n      <td>-0.021227</td>\n      <td>-0.030372</td>\n      <td>...</td>\n      <td>-0.045138</td>\n      <td>0.037907</td>\n      <td>-0.001281</td>\n      <td>-0.016798</td>\n      <td>0.001683</td>\n      <td>0.001187</td>\n      <td>-0.003776</td>\n      <td>0.001375</td>\n      <td>-0.010282</td>\n      <td>0.006162</td>\n    </tr>\n    <tr>\n      <th>496</th>\n      <td>EICHERMOT</td>\n      <td>-0.010864</td>\n      <td>-0.010386</td>\n      <td>-0.010011</td>\n      <td>-0.004616</td>\n      <td>0.012036</td>\n      <td>-0.007208</td>\n      <td>-0.003553</td>\n      <td>0.001857</td>\n      <td>0.004157</td>\n      <td>...</td>\n      <td>-0.008400</td>\n      <td>0.041738</td>\n      <td>0.008775</td>\n      <td>-0.027838</td>\n      <td>0.035229</td>\n      <td>0.004369</td>\n      <td>-0.024646</td>\n      <td>-0.020924</td>\n      <td>-0.012840</td>\n      <td>0.001969</td>\n    </tr>\n    <tr>\n      <th>497</th>\n      <td>SONATSOFTW</td>\n      <td>-0.006993</td>\n      <td>0.004135</td>\n      <td>0.008405</td>\n      <td>0.064159</td>\n      <td>0.005595</td>\n      <td>0.002058</td>\n      <td>0.005494</td>\n      <td>-0.020479</td>\n      <td>0.014465</td>\n      <td>...</td>\n      <td>-0.071549</td>\n      <td>-0.014762</td>\n      <td>-0.011315</td>\n      <td>0.005773</td>\n      <td>0.013202</td>\n      <td>-0.044395</td>\n      <td>0.005944</td>\n      <td>-0.000161</td>\n      <td>0.024687</td>\n      <td>0.043448</td>\n    </tr>\n    <tr>\n      <th>498</th>\n      <td>SAFARI</td>\n      <td>-0.000806</td>\n      <td>-0.011862</td>\n      <td>-0.010503</td>\n      <td>0.003822</td>\n      <td>0.006259</td>\n      <td>-0.015279</td>\n      <td>-0.003150</td>\n      <td>-0.012368</td>\n      <td>0.006314</td>\n      <td>...</td>\n      <td>NaN</td>\n      <td>NaN</td>\n      <td>NaN</td>\n      <td>NaN</td>\n      <td>NaN</td>\n      <td>NaN</td>\n      <td>NaN</td>\n      <td>NaN</td>\n      <td>NaN</td>\n      <td>NaN</td>\n    </tr>\n    <tr>\n      <th>499</th>\n      <td>BBTC</td>\n      <td>-0.038788</td>\n      <td>-0.003295</td>\n      <td>0.001453</td>\n      <td>0.016305</td>\n      <td>0.032823</td>\n      <td>-0.007537</td>\n      <td>0.006028</td>\n      <td>-0.011168</td>\n      <td>0.000565</td>\n      <td>...</td>\n      <td>-0.094530</td>\n      <td>0.014072</td>\n      <td>-0.016233</td>\n      <td>-0.040522</td>\n      <td>-0.017196</td>\n      <td>-0.023394</td>\n      <td>-0.022427</td>\n      <td>-0.006287</td>\n      <td>-0.006589</td>\n      <td>0.013706</td>\n    </tr>\n  </tbody>\n</table>\n<p>500 rows × 1481 columns</p>\n</div>"
     },
     "execution_count": 287,
     "metadata": {},
     "output_type": "execute_result"
    }
   ],
   "source": [
    "df15"
   ],
   "metadata": {
    "collapsed": false,
    "pycharm": {
     "name": "#%%\n"
    }
   }
  },
  {
   "cell_type": "code",
   "execution_count": 295,
   "outputs": [],
   "source": [
    "link=[]\n",
    "for i in df15[\"index\"]:\n",
    "    for j in df13[\"company_url\"]:\n",
    "        if i==j:\n",
    "            link.append(i)"
   ],
   "metadata": {
    "collapsed": false,
    "pycharm": {
     "name": "#%%\n"
    }
   }
  },
  {
   "cell_type": "code",
   "execution_count": 296,
   "outputs": [
    {
     "data": {
      "text/plain": "466"
     },
     "execution_count": 296,
     "metadata": {},
     "output_type": "execute_result"
    }
   ],
   "source": [
    "len(link)"
   ],
   "metadata": {
    "collapsed": false,
    "pycharm": {
     "name": "#%%\n"
    }
   }
  },
  {
   "cell_type": "code",
   "execution_count": 293,
   "outputs": [
    {
     "name": "stdout",
     "output_type": "stream",
     "text": [
      "JBMA\n",
      "ALKYLAMINE\n",
      "CASTROLIND\n",
      "IDEA\n",
      "SPARC\n",
      "ENGINERSIN\n",
      "JUBLPHARMA\n",
      "GNFC\n",
      "GUJGASLTD\n",
      "CIEINDIA\n",
      "GODREJIND\n",
      "GSPL\n",
      "YESBANK\n",
      "CENTURYTEX\n",
      "FORTIS\n",
      "RCF\n",
      "GUJALKALI\n",
      "ROUTE\n",
      "LICHSGFIN\n",
      "BIRLACORPN\n",
      "AVANTIFEED\n",
      "WELCORP\n",
      "MOTHERSON\n",
      "STLTECH\n",
      "DELTACORP\n",
      "DALBHARAT\n",
      "AWL\n",
      "POWERINDIA\n",
      "TV18BRDCST\n",
      "FLUOROCHEM\n",
      "APTUS\n",
      "GPPL\n",
      "SWSOLAR\n",
      "GLAXO\n",
      "CENTURYPLY\n",
      "SOBHA\n",
      "NIACL\n",
      "PFC\n",
      "INFIBEAM\n",
      "NESTLEIND\n",
      "LICI\n",
      "ANGELONE\n",
      "CESC\n",
      "GAIL\n",
      "ZEEL\n",
      "JINDALSAW\n",
      "CLEAN\n",
      "RECLTD\n",
      "HUDCO\n",
      "NATIONALUM\n",
      "KEC\n",
      "RAJESHEXPO\n",
      "RBA\n",
      "AJANTPHARM\n",
      "OFSS\n",
      "KAYNES\n",
      "ASHOKLEY\n",
      "IRCON\n",
      "BIOCON\n",
      "POLYPLEX\n",
      "SHYAMMETL\n",
      "CUB\n",
      "STARHEALTH\n",
      "BHEL\n",
      "LODHA\n",
      "VIPIND\n",
      "NHPC\n",
      "ZFCVINDIA\n",
      "KALYANKJIL\n",
      "SJVN\n",
      "AAVAS\n",
      "RAINBOW\n",
      "ADANIENT\n",
      "CAMPUS\n",
      "MHRIL\n",
      "AMBUJACEM\n",
      "ALLCARGO\n",
      "GPIL\n",
      "OLECTRA\n",
      "RADICO\n",
      "PNB\n",
      "PAYTM\n",
      "PCBL\n",
      "ADANIPORTS\n",
      "JMFINANCIL\n",
      "MOTILALOFS\n",
      "ANURAS\n",
      "BLS\n",
      "NAM-INDIA\n",
      "COALINDIA\n",
      "CHAMBLFERT\n",
      "TECHM\n",
      "OIL\n",
      "FACT\n",
      "ORIENTELEC\n",
      "TATAMOTORS\n",
      "SUMICHEM\n",
      "ACC\n",
      "VTL\n",
      "TIINDIA\n",
      "PETRONET\n",
      "TATAMTRDVR\n",
      "ICICIGI\n",
      "HONAUT\n",
      "EMAMILTD\n",
      "GRANULES\n",
      "CONCORDBIO\n",
      "RALLIS\n",
      "SYNGENE\n",
      "GICRE\n",
      "ZYDUSLIFE\n",
      "NETWORK18\n",
      "AARTIDRUGS\n",
      "UNIONBANK\n",
      "ALOKINDS\n",
      "ATGL\n",
      "IIFL\n",
      "GODREJCP\n",
      "ARE&M\n",
      "KPIL\n",
      "KARURVYSYA\n",
      "EXIDEIND\n",
      "NMDC\n",
      "BDL\n",
      "VMART\n",
      "MAHABANK\n",
      "AFFLE\n",
      "RBLBANK\n",
      "SUPRAJIT\n",
      "BAJAJHLDNG\n",
      "DEEPAKFERT\n",
      "IRFC\n",
      "TANLA\n",
      "HCLTECH\n",
      "EQUITASBNK\n",
      "BHARATFORG\n",
      "IOB\n",
      "NATCOPHARM\n",
      "EIDPARRY\n",
      "BANDHANBNK\n",
      "HAPPSTMNDS\n",
      "HAL\n",
      "INDIACEM\n",
      "APLLTD\n",
      "SBICARD\n",
      "BALRAMCHIN\n",
      "CROMPTON\n",
      "INDUSTOWER\n",
      "TRIDENT\n",
      "BANKBARODA\n",
      "UPL\n",
      "BALAMINES\n",
      "IGL\n",
      "ITC\n",
      "POLICYBZR\n",
      "HEG\n",
      "CANBK\n",
      "TTKPRESTIG\n",
      "EASEMYTRIP\n",
      "WIPRO\n",
      "ADANIENSOL\n",
      "WELSPUNLIV\n",
      "PNBHOUSING\n",
      "PRINCEPIPE\n",
      "TORNTPOWER\n",
      "CGCL\n",
      "HDFCAMC\n",
      "MANYAVAR\n",
      "BOSCHLTD\n",
      "TATACHEM\n",
      "VINATIORGA\n",
      "SFL\n",
      "CERA\n",
      "JYOTHYLAB\n",
      "KNRCON\n",
      "ABFRL\n",
      "COCHINSHIP\n",
      "POONAWALLA\n",
      "GRINDWELL\n",
      "MSUMI\n",
      "KAJARIACER\n",
      "BEML\n",
      "RENUKA\n",
      "APOLLOHOSP\n",
      "VARROC\n",
      "EIHOTEL\n",
      "UTIAMC\n",
      "RAYMOND\n",
      "ATUL\n",
      "PAGEIND\n",
      "IRB\n",
      "THERMAX\n",
      "OBEROIRLTY\n",
      "LXCHEM\n",
      "ZOMATO\n",
      "NBCC\n",
      "ITI\n",
      "IOC\n",
      "LAURUSLABS\n",
      "MMTC\n",
      "WESTLIFE\n",
      "SAIL\n",
      "SOLARINDS\n",
      "SANOFI\n",
      "NH\n",
      "SUZLON\n",
      "UCOBANK\n",
      "TRIVENI\n",
      "KRBL\n",
      "SCHAEFFLER\n",
      "JUSTDIAL\n",
      "SUNTECK\n",
      "SYMPHONY\n",
      "VBL\n",
      "INFY\n",
      "GILLETTE\n",
      "TEJASNET\n",
      "CIPLA\n",
      "CYIENT\n",
      "DRREDDY\n",
      "FIVESTAR\n",
      "MAHLIFE\n",
      "IRCTC\n",
      "AARTIIND\n",
      "MAZDOCK\n",
      "RAIN\n",
      "TCS\n",
      "PRSMJOHNSN\n",
      "PHOENIXLTD\n",
      "ROSSARI\n",
      "INDIANB\n",
      "FEDERALBNK\n",
      "TEAMLEASE\n",
      "JKCEMENT\n",
      "KFINTECH\n",
      "BALKRISIND\n",
      "BIKAJI\n",
      "BEL\n",
      "HOMEFIRST\n",
      "DCMSHRIRAM\n",
      "UBL\n",
      "IDBI\n",
      "AMBER\n",
      "CARBORUNIV\n",
      "INDIGO\n",
      "RVNL\n",
      "RELIANCE\n",
      "JSWENERGY\n",
      "JAMNAAUTO\n",
      "MGL\n",
      "MAXHEALTH\n",
      "HDFCLIFE\n",
      "KSB\n",
      "BPCL\n",
      "NCC\n",
      "TITAN\n",
      "HFCL\n",
      "GALAXYSURF\n",
      "PEL\n",
      "INDIGOPNTS\n",
      "HINDPETRO\n",
      "CENTRALBK\n",
      "DABUR\n",
      "LINDEINDIA\n",
      "NAVINFLUOR\n",
      "TATASTEEL\n",
      "VOLTAS\n",
      "RTNINDIA\n",
      "RELAXO\n",
      "SUNPHARMA\n",
      "SONACOMS\n",
      "CEATLTD\n",
      "CONCOR\n",
      "GRAPHITE\n",
      "DIVISLAB\n",
      "PFIZER\n",
      "NAZARA\n",
      "AIAENG\n",
      "SKFINDIA\n",
      "UJJIVANSFB\n",
      "IPCALAB\n",
      "PRAJIND\n",
      "FINPIPE\n",
      "HINDZINC\n",
      "BLUESTARCO\n",
      "CANFINHOME\n",
      "LUXIND\n",
      "POWERGRID\n",
      "BANKINDIA\n",
      "ONGC\n",
      "PGHH\n",
      "TATAELXSI\n",
      "PVRINOX\n",
      "MANKIND\n",
      "BRIGADE\n",
      "ADANIGREEN\n",
      "FSL\n",
      "PGHL\n",
      "TIMKEN\n",
      "PPLPHARMA\n",
      "ABB\n",
      "SUNDRMFAST\n",
      "VGUARD\n",
      "EPIGRAL\n",
      "MPHASIS\n",
      "LATENTVIEW\n",
      "IEX\n",
      "APARINDS\n",
      "SIEMENS\n",
      "KANSAINER\n",
      "CSBBANK\n",
      "SAREGAMA\n",
      "GLENMARK\n",
      "MRF\n",
      "INDUSINDBK\n",
      "APOLLOTYRE\n",
      "ICICIBANK\n",
      "GODREJPROP\n",
      "CAMS\n",
      "AUBANK\n",
      "CDSL\n",
      "BRITANNIA\n",
      "AUROPHARMA\n",
      "GLS\n",
      "MARUTI\n",
      "MTARTECH\n",
      "ABBOTINDIA\n",
      "SBILIFE\n",
      "MFSL\n",
      "ACI\n",
      "JUBLINGREA\n",
      "INDIAMART\n",
      "ERIS\n",
      "ASIANPAINT\n",
      "ADANIPOWER\n",
      "MINDACORP\n",
      "MRPL\n",
      "APLAPOLLO\n",
      "FINEORG\n",
      "NSLNISP\n",
      "NAUKRI\n",
      "ASTRAL\n",
      "SHRIRAMFIN\n",
      "LALPATHLAB\n",
      "PNCINFRA\n",
      "BERGEPAINT\n",
      "TORNTPHARM\n",
      "ULTRACEMCO\n",
      "JSL\n",
      "WHIRLPOOL\n",
      "DMART\n",
      "GMRINFRA\n",
      "BLUEDART\n",
      "SUNTV\n",
      "HLEGLAS\n",
      "ABCAPITAL\n",
      "POLYCAB\n",
      "INGERRAND\n",
      "GRINFRA\n",
      "AETHER\n",
      "METROPOLIS\n",
      "HEROMOTOCO\n",
      "CREDITACC\n",
      "LT\n",
      "JKPAPER\n",
      "JKLAKSHMI\n",
      "SWANENERGY\n",
      "TTML\n",
      "MANAPPURAM\n",
      "RITES\n",
      "RHIM\n",
      "TATACOMM\n",
      "NTPC\n",
      "JBCHEPHARM\n",
      "TATAINVEST\n",
      "BAJFINANCE\n",
      "HINDUNILVR\n",
      "M&MFIN\n",
      "KOTAKBANK\n",
      "FDC\n",
      "PIDILITIND\n",
      "JSWSTEEL\n",
      "ZENSARTECH\n",
      "ICICIPRULI\n",
      "IBULHSGFIN\n",
      "DLF\n",
      "ELGIEQUIP\n",
      "SBIN\n",
      "SHARDACROP\n",
      "LTIM\n",
      "JUBLFOOD\n",
      "LAXMIMACH\n",
      "BORORENEW\n",
      "TATACONSUM\n",
      "INDHOTEL\n",
      "AXISBANK\n",
      "TVSMOTOR\n",
      "SRF\n",
      "GESHIP\n",
      "COROMANDEL\n",
      "PATANJALI\n",
      "JINDALSTEL\n",
      "CUMMINSIND\n",
      "TATAPOWER\n",
      "DEEPAKNTR\n",
      "GRASIM\n",
      "VEDL\n",
      "PRESTIGE\n",
      "ESCORTS\n",
      "ZYDUSWELL\n",
      "AEGISCHEM\n",
      "ENDURANCE\n",
      "ASAHIINDIA\n",
      "BAJAJFINSV\n",
      "INTELLECT\n",
      "SUNDARMFIN\n",
      "HAVELLS\n",
      "LEMONTREE\n",
      "LUPIN\n",
      "RAMCOCEM\n",
      "MAPMYINDIA\n",
      "BSE\n",
      "VAIBHAVGBL\n",
      "PERSISTENT\n",
      "EPL\n",
      "HDFCBANK\n",
      "MUTHOOTFIN\n",
      "BATAINDIA\n",
      "GMMPFAUDLR\n",
      "SHREECEM\n",
      "REDINGTON\n",
      "DEVYANI\n",
      "POLYMED\n",
      "IDFC\n",
      "DATAPATTNS\n",
      "VIJAYA\n",
      "MEDANTA\n",
      "HINDCOPPER\n",
      "LTTS\n",
      "MCX\n",
      "ISEC\n",
      "MARICO\n",
      "GODFRYPHLP\n",
      "GLAND\n",
      "ASTERDM\n",
      "CGPOWER\n",
      "HINDALCO\n",
      "L&TFH\n",
      "PIIND\n",
      "DELHIVERY\n",
      "KIMS\n",
      "RATNAMANI\n",
      "MCDOWELL-N\n",
      "IDFCFIRSTB\n",
      "SYRMA\n",
      "SAPPHIRE\n",
      "COFORGE\n",
      "CHALET\n",
      "SUVENPHAR\n",
      "NLCINDIA\n",
      "SHOPERSTOP\n",
      "FINCABLES\n",
      "CRISIL\n",
      "MEDPLUS\n",
      "ECLERX\n",
      "NUVOCO\n",
      "BAJAJ-AUTO\n",
      "TRITURBINE\n",
      "CRAFTSMAN\n",
      "KPITTECH\n",
      "BCG\n",
      "BAYERCROP\n",
      "M&M\n",
      "ALKEM\n",
      "UNOMINDA\n",
      "QUESS\n",
      "TRENT\n",
      "NYKAA\n",
      "CCL\n",
      "USHAMART\n",
      "MASTEK\n",
      "COLPAL\n",
      "SUPREMEIND\n",
      "CHOLAHLDNG\n",
      "KPRMILL\n",
      "DIXON\n",
      "GAEL\n",
      "BHARTIARTL\n",
      "3MINDIA\n",
      "KEI\n",
      "METROBRAND\n",
      "360ONE\n",
      "GOCOLORS\n",
      "CHEMPLASTS\n",
      "BSOFT\n",
      "CHOLAFIN\n",
      "EICHERMOT\n",
      "SONATSOFTW\n",
      "SAFARI\n",
      "BBTC\n"
     ]
    }
   ],
   "source": [
    "for i in df15[\"index\"]:\n",
    "    print(i)"
   ],
   "metadata": {
    "collapsed": false,
    "pycharm": {
     "name": "#%%\n"
    }
   }
  },
  {
   "cell_type": "code",
   "execution_count": 294,
   "outputs": [
    {
     "name": "stdout",
     "output_type": "stream",
     "text": [
      "GSFC\n",
      "JBMA\n",
      "ALKYLAMINE\n",
      "IDEA\n",
      "SPARC\n",
      "ENGINERSIN\n",
      "JUBLPHARMA\n",
      "GNFC\n",
      "GUJGASLTD\n",
      "CIEINDIA\n",
      "GODREJIND\n",
      "GSPL\n",
      "YESBANK\n",
      "CENTURYTEX\n",
      "FORTIS\n",
      "RCF\n",
      "GUJALKALI\n",
      "ROUTE\n",
      "LICHSGFIN\n",
      "BIRLACORPN\n",
      "AVANTIFEED\n",
      "WELCORP\n",
      "MOTHERSON\n",
      "STLTECH\n",
      "DELTACORP\n",
      "DALBHARAT\n",
      "AWL\n",
      "TV18BRDCST\n",
      "FLUOROCHEM\n",
      "APTUS\n",
      "GPPL\n",
      "SWSOLAR\n",
      "GLAXO\n",
      "CENTURYPLY\n",
      "SOBHA\n",
      "NIACL\n",
      "PFC\n",
      "INFIBEAM\n",
      "LICI\n",
      "ANGELONE\n",
      "CESC\n",
      "GAIL\n",
      "ZEEL\n",
      "JINDALSAW\n",
      "CLEAN\n",
      "RECLTD\n",
      "HUDCO\n",
      "NATIONALUM\n",
      "KEC\n",
      "RAJESHEXPO\n",
      "RBA\n",
      "AJANTPHARM\n",
      "OFSS\n",
      "KAYNES\n",
      "ASHOKLEY\n",
      "IRCON\n",
      "BIOCON\n",
      "POLYPLEX\n",
      "SHYAMMETL\n",
      "BHEL\n",
      "LODHA\n",
      "VIPIND\n",
      "NHPC\n",
      "ZFCVINDIA\n",
      "KALYANKJIL\n",
      "SJVN\n",
      "AAVAS\n",
      "RAINBOW\n",
      "ADANIENT\n",
      "CAMPUS\n",
      "MHRIL\n",
      "AMBUJACEM\n",
      "ALLCARGO\n",
      "GPIL\n",
      "OLECTRA\n",
      "RADICO\n",
      "PNB\n",
      "PAYTM\n",
      "PCBL\n",
      "ADANIPORTS\n",
      "JMFINANCIL\n",
      "MOTILALOFS\n",
      "ANURAS\n",
      "BLS\n",
      "NAM-INDIA\n",
      "COALINDIA\n",
      "CHAMBLFERT\n",
      "TECHM\n",
      "OIL\n",
      "FACT\n",
      "TATAMOTORS\n",
      "SUMICHEM\n",
      "ACC\n",
      "VTL\n",
      "TIINDIA\n",
      "PETRONET\n",
      "TATAMTRDVR\n",
      "EMAMILTD\n",
      "GRANULES\n",
      "CONCORDBIO\n",
      "RALLIS\n",
      "SYNGENE\n",
      "GICRE\n",
      "ZYDUSLIFE\n",
      "NETWORK18\n",
      "AARTIDRUGS\n",
      "UNIONBANK\n",
      "ALOKINDS\n",
      "ATGL\n",
      "IIFL\n",
      "GODREJCP\n",
      "ARE&M\n",
      "KPIL\n",
      "EXIDEIND\n",
      "NMDC\n",
      "MAHABANK\n",
      "AFFLE\n",
      "RBLBANK\n",
      "SUPRAJIT\n",
      "BAJAJHLDNG\n",
      "DEEPAKFERT\n",
      "TANLA\n",
      "HCLTECH\n",
      "BHARATFORG\n",
      "IOB\n",
      "NATCOPHARM\n",
      "EIDPARRY\n",
      "HAPPSTMNDS\n",
      "HAL\n",
      "INDIACEM\n",
      "APLLTD\n",
      "BALRAMCHIN\n",
      "CROMPTON\n",
      "INDUSTOWER\n",
      "TRIDENT\n",
      "BANKBARODA\n",
      "UPL\n",
      "BALAMINES\n",
      "IGL\n",
      "ITC\n",
      "POLICYBZR\n",
      "HEG\n",
      "CANBK\n",
      "TTKPRESTIG\n",
      "EASEMYTRIP\n",
      "WIPRO\n",
      "ADANIENSOL\n",
      "WELSPUNLIV\n",
      "PNBHOUSING\n",
      "TORNTPOWER\n",
      "CGCL\n",
      "HDFCAMC\n",
      "MANYAVAR\n",
      "BOSCHLTD\n",
      "TATACHEM\n",
      "VINATIORGA\n",
      "SFL\n",
      "CERA\n",
      "JYOTHYLAB\n",
      "KNRCON\n",
      "ABFRL\n",
      "COCHINSHIP\n",
      "POONAWALLA\n",
      "GRINDWELL\n",
      "KAJARIACER\n",
      "BEML\n",
      "RENUKA\n",
      "APOLLOHOSP\n",
      "VARROC\n",
      "EIHOTEL\n",
      "UTIAMC\n",
      "RAYMOND\n",
      "ATUL\n",
      "IRB\n",
      "THERMAX\n",
      "OBEROIRLTY\n",
      "LXCHEM\n",
      "ZOMATO\n",
      "NBCC\n",
      "ITI\n",
      "IOC\n",
      "LAURUSLABS\n",
      "MMTC\n",
      "WESTLIFE\n",
      "SAIL\n",
      "SOLARINDS\n",
      "SANOFI\n",
      "NH\n",
      "SUZLON\n",
      "UCOBANK\n",
      "TRIVENI\n",
      "KRBL\n",
      "SCHAEFFLER\n",
      "JUSTDIAL\n",
      "SUNTECK\n",
      "SYMPHONY\n",
      "VBL\n",
      "INFY\n",
      "TEJASNET\n",
      "CIPLA\n",
      "CYIENT\n",
      "DRREDDY\n",
      "FIVESTAR\n",
      "MAHLIFE\n",
      "AARTIIND\n",
      "MAZDOCK\n",
      "RAIN\n",
      "TCS\n",
      "PRSMJOHNSN\n",
      "PHOENIXLTD\n",
      "ROSSARI\n",
      "INDIANB\n",
      "FEDERALBNK\n",
      "TEAMLEASE\n",
      "JKCEMENT\n",
      "KFINTECH\n",
      "BALKRISIND\n",
      "BIKAJI\n",
      "BEL\n",
      "DCMSHRIRAM\n",
      "UBL\n",
      "IDBI\n",
      "AMBER\n",
      "CARBORUNIV\n",
      "INDIGO\n",
      "RVNL\n",
      "RELIANCE\n",
      "JSWENERGY\n",
      "JAMNAAUTO\n",
      "MAXHEALTH\n",
      "HDFCLIFE\n",
      "KSB\n",
      "BPCL\n",
      "NCC\n",
      "TITAN\n",
      "HFCL\n",
      "GALAXYSURF\n",
      "PEL\n",
      "INDIGOPNTS\n",
      "HINDPETRO\n",
      "CENTRALBK\n",
      "DABUR\n",
      "LINDEINDIA\n",
      "NAVINFLUOR\n",
      "TATASTEEL\n",
      "VOLTAS\n",
      "RTNINDIA\n",
      "SUNPHARMA\n",
      "SONACOMS\n",
      "CEATLTD\n",
      "CONCOR\n",
      "GRAPHITE\n",
      "DIVISLAB\n",
      "PFIZER\n",
      "NAZARA\n",
      "AIAENG\n",
      "SKFINDIA\n",
      "IPCALAB\n",
      "PRAJIND\n",
      "FINPIPE\n",
      "HINDZINC\n",
      "BLUESTARCO\n",
      "LUXIND\n",
      "POWERGRID\n",
      "BANKINDIA\n",
      "ONGC\n",
      "TATAELXSI\n",
      "PVRINOX\n",
      "MANKIND\n",
      "BRIGADE\n",
      "ADANIGREEN\n",
      "FSL\n",
      "PPLPHARMA\n",
      "ABB\n",
      "SUNDRMFAST\n",
      "VGUARD\n",
      "EPIGRAL\n",
      "MPHASIS\n",
      "LATENTVIEW\n",
      "IEX\n",
      "APARINDS\n",
      "SIEMENS\n",
      "KANSAINER\n",
      "SAREGAMA\n",
      "GLENMARK\n",
      "MRF\n",
      "INDUSINDBK\n",
      "APOLLOTYRE\n",
      "ICICIBANK\n",
      "GODREJPROP\n",
      "CAMS\n",
      "AUBANK\n",
      "CDSL\n",
      "BRITANNIA\n",
      "AUROPHARMA\n",
      "GLS\n",
      "MARUTI\n",
      "MTARTECH\n",
      "MFSL\n",
      "ACI\n",
      "JUBLINGREA\n",
      "INDIAMART\n",
      "ERIS\n",
      "ASIANPAINT\n",
      "ADANIPOWER\n",
      "MINDACORP\n",
      "MRPL\n",
      "APLAPOLLO\n",
      "FINEORG\n",
      "NAUKRI\n",
      "ASTRAL\n",
      "SHRIRAMFIN\n",
      "LALPATHLAB\n",
      "PNCINFRA\n",
      "BERGEPAINT\n",
      "TORNTPHARM\n",
      "ULTRACEMCO\n",
      "JSL\n",
      "WHIRLPOOL\n",
      "DMART\n",
      "GMRINFRA\n",
      "BLUEDART\n",
      "SUNTV\n",
      "HLEGLAS\n",
      "ABCAPITAL\n",
      "POLYCAB\n",
      "GRINFRA\n",
      "AETHER\n",
      "METROPOLIS\n",
      "HEROMOTOCO\n",
      "CREDITACC\n",
      "LT\n",
      "JKPAPER\n",
      "JKLAKSHMI\n",
      "SWANENERGY\n",
      "TTML\n",
      "MANAPPURAM\n",
      "RITES\n",
      "RHIM\n",
      "TATACOMM\n",
      "NTPC\n",
      "JBCHEPHARM\n",
      "TATAINVEST\n",
      "BAJFINANCE\n",
      "HINDUNILVR\n",
      "M&MFIN\n",
      "KOTAKBANK\n",
      "FDC\n",
      "PIDILITIND\n",
      "JSWSTEEL\n",
      "ZENSARTECH\n",
      "ICICIPRULI\n",
      "IBULHSGFIN\n",
      "DLF\n",
      "ELGIEQUIP\n",
      "SBIN\n",
      "SHARDACROP\n",
      "LTIM\n",
      "JUBLFOOD\n",
      "LAXMIMACH\n",
      "BORORENEW\n",
      "TATACONSUM\n",
      "INDHOTEL\n",
      "AXISBANK\n",
      "TVSMOTOR\n",
      "SRF\n",
      "GESHIP\n",
      "COROMANDEL\n",
      "PATANJALI\n",
      "JINDALSTEL\n",
      "CUMMINSIND\n",
      "TATAPOWER\n",
      "DEEPAKNTR\n",
      "GRASIM\n",
      "VEDL\n",
      "PRESTIGE\n",
      "ESCORTS\n",
      "ZYDUSWELL\n",
      "AEGISCHEM\n",
      "ENDURANCE\n",
      "ASAHIINDIA\n",
      "BAJAJFINSV\n",
      "INTELLECT\n",
      "SUNDARMFIN\n",
      "HAVELLS\n",
      "LEMONTREE\n",
      "LUPIN\n",
      "RAMCOCEM\n",
      "MAPMYINDIA\n",
      "BSE\n",
      "VAIBHAVGBL\n",
      "PERSISTENT\n",
      "EPL\n",
      "HDFCBANK\n",
      "MUTHOOTFIN\n",
      "BATAINDIA\n",
      "GMMPFAUDLR\n",
      "SHREECEM\n",
      "REDINGTON\n",
      "DEVYANI\n",
      "POLYMED\n",
      "IDFC\n",
      "VIJAYA\n",
      "MEDANTA\n",
      "HINDCOPPER\n",
      "LTTS\n",
      "MCX\n",
      "ISEC\n",
      "MARICO\n",
      "GODFRYPHLP\n",
      "GLAND\n",
      "ASTERDM\n",
      "CGPOWER\n",
      "HINDALCO\n",
      "L&TFH\n",
      "PIIND\n",
      "DELHIVERY\n",
      "KIMS\n",
      "RATNAMANI\n",
      "MCDOWELL-N\n",
      "IDFCFIRSTB\n",
      "SYRMA\n",
      "SAPPHIRE\n",
      "COFORGE\n",
      "CHALET\n",
      "SUVENPHAR\n",
      "NLCINDIA\n",
      "SHOPERSTOP\n",
      "FINCABLES\n",
      "CRISIL\n",
      "MEDPLUS\n",
      "ECLERX\n",
      "NUVOCO\n",
      "BAJAJ-AUTO\n",
      "TRITURBINE\n",
      "CRAFTSMAN\n",
      "KPITTECH\n",
      "BCG\n",
      "BAYERCROP\n",
      "M&M\n",
      "ALKEM\n",
      "UNOMINDA\n",
      "QUESS\n",
      "TRENT\n",
      "NYKAA\n",
      "CCL\n",
      "USHAMART\n",
      "MASTEK\n",
      "COLPAL\n",
      "SUPREMEIND\n",
      "CHOLAHLDNG\n",
      "KPRMILL\n",
      "DIXON\n",
      "GAEL\n",
      "BHARTIARTL\n",
      "3MINDIA\n",
      "KEI\n",
      "METROBRAND\n",
      "360ONE\n",
      "GOCOLORS\n",
      "CHEMPLASTS\n",
      "BSOFT\n",
      "CHOLAFIN\n",
      "EICHERMOT\n",
      "SONATSOFTW\n",
      "SAFARI\n",
      "BBTC\n"
     ]
    }
   ],
   "source": [
    "for j in df13[\"company_url\"]:\n",
    "    print(j)"
   ],
   "metadata": {
    "collapsed": false,
    "pycharm": {
     "name": "#%%\n"
    }
   }
  },
  {
   "cell_type": "code",
   "execution_count": 305,
   "outputs": [],
   "source": [
    "df15.iloc[:,1:]=df15.iloc[:,1:].fillna(0)"
   ],
   "metadata": {
    "collapsed": false,
    "pycharm": {
     "name": "#%%\n"
    }
   }
  },
  {
   "cell_type": "code",
   "execution_count": 310,
   "outputs": [],
   "source": [
    "df15.iloc[:,1:]=df15.iloc[:,1:]*100"
   ],
   "metadata": {
    "collapsed": false,
    "pycharm": {
     "name": "#%%\n"
    }
   }
  },
  {
   "cell_type": "code",
   "execution_count": 313,
   "outputs": [],
   "source": [
    "df15.iloc[:,1:]=df15.iloc[:,1:].round(2)"
   ],
   "metadata": {
    "collapsed": false,
    "pycharm": {
     "name": "#%%\n"
    }
   }
  },
  {
   "cell_type": "code",
   "execution_count": 314,
   "outputs": [
    {
     "data": {
      "text/plain": "Date       index  2024-01-17  2024-01-16  2024-01-15  2024-01-12  2024-01-11  \\\n0           JBMA        3.11        1.86       -2.95       -2.93        0.28   \n1     ALKYLAMINE        0.00       -0.74       -1.67        0.67       -1.46   \n2     CASTROLIND       -2.95       -2.56       -0.08       -1.25       -0.25   \n3           IDEA       -4.13       -4.55        4.10       -1.25       -0.62   \n4          SPARC       -1.96       -3.59        2.63       -0.30       -0.71   \n..           ...         ...         ...         ...         ...         ...   \n495     CHOLAFIN       -0.87        1.66        2.55        1.23        1.24   \n496    EICHERMOT       -1.09       -1.04       -1.00       -0.46        1.20   \n497   SONATSOFTW       -0.70        0.41        0.84        6.42        0.56   \n498       SAFARI       -0.08       -1.19       -1.05        0.38        0.63   \n499         BBTC       -3.88       -0.33        0.15        1.63        3.28   \n\nDate  2024-01-10  2024-01-09  2024-01-08  2024-01-05  ...  2018-02-02  \\\n0           1.57        0.86       10.93        1.04  ...       -4.72   \n1          -1.93        0.17       -3.62       -0.78  ...       -3.05   \n2           0.17       -0.30       -4.01       -2.59  ...       -2.20   \n3          -0.31       -5.54        0.29        1.79  ...       -3.29   \n4          -2.83        0.38       -5.33        9.26  ...       -7.35   \n..           ...         ...         ...         ...  ...         ...   \n495        -1.23        0.02       -2.12       -3.04  ...       -4.51   \n496        -0.72       -0.36        0.19        0.42  ...       -0.84   \n497         0.21        0.55       -2.05        1.45  ...       -7.15   \n498        -1.53       -0.32       -1.24        0.63  ...        0.00   \n499        -0.75        0.60       -1.12        0.06  ...       -9.45   \n\nDate  2018-02-01  2018-01-31  2018-01-30  2018-01-29  2018-01-25  2018-01-24  \\\n0           0.05        0.20       -2.12        0.17       -1.28       -0.47   \n1          -1.91       -4.49       -2.11       -1.82       -1.31        3.36   \n2          -0.89        0.68       -0.67        1.37       -2.19       -0.98   \n3          -1.93       -0.96        0.43       -1.58        1.28       -5.49   \n4           0.23       -2.81       -2.16       -4.34       -0.30        0.71   \n..           ...         ...         ...         ...         ...         ...   \n495         3.79       -0.13       -1.68        0.17        0.12       -0.38   \n496         4.17        0.88       -2.78        3.52        0.44       -2.46   \n497        -1.48       -1.13        0.58        1.32       -4.44        0.59   \n498         0.00        0.00        0.00        0.00        0.00        0.00   \n499         1.41       -1.62       -4.05       -1.72       -2.34       -2.24   \n\nDate  2018-01-23  2018-01-22  2018-01-19  \n0           0.07        0.00       -0.24  \n1           5.93       -0.92        1.16  \n2           0.51        0.08        0.70  \n3          -0.15       -2.74        1.19  \n4          -1.07        0.98        0.39  \n..           ...         ...         ...  \n495         0.14       -1.03        0.62  \n496        -2.09       -1.28        0.20  \n497        -0.02        2.47        4.34  \n498         0.00        0.00        0.00  \n499        -0.63       -0.66        1.37  \n\n[500 rows x 1481 columns]",
      "text/html": "<div>\n<style scoped>\n    .dataframe tbody tr th:only-of-type {\n        vertical-align: middle;\n    }\n\n    .dataframe tbody tr th {\n        vertical-align: top;\n    }\n\n    .dataframe thead th {\n        text-align: right;\n    }\n</style>\n<table border=\"1\" class=\"dataframe\">\n  <thead>\n    <tr style=\"text-align: right;\">\n      <th>Date</th>\n      <th>index</th>\n      <th>2024-01-17</th>\n      <th>2024-01-16</th>\n      <th>2024-01-15</th>\n      <th>2024-01-12</th>\n      <th>2024-01-11</th>\n      <th>2024-01-10</th>\n      <th>2024-01-09</th>\n      <th>2024-01-08</th>\n      <th>2024-01-05</th>\n      <th>...</th>\n      <th>2018-02-02</th>\n      <th>2018-02-01</th>\n      <th>2018-01-31</th>\n      <th>2018-01-30</th>\n      <th>2018-01-29</th>\n      <th>2018-01-25</th>\n      <th>2018-01-24</th>\n      <th>2018-01-23</th>\n      <th>2018-01-22</th>\n      <th>2018-01-19</th>\n    </tr>\n  </thead>\n  <tbody>\n    <tr>\n      <th>0</th>\n      <td>JBMA</td>\n      <td>3.11</td>\n      <td>1.86</td>\n      <td>-2.95</td>\n      <td>-2.93</td>\n      <td>0.28</td>\n      <td>1.57</td>\n      <td>0.86</td>\n      <td>10.93</td>\n      <td>1.04</td>\n      <td>...</td>\n      <td>-4.72</td>\n      <td>0.05</td>\n      <td>0.20</td>\n      <td>-2.12</td>\n      <td>0.17</td>\n      <td>-1.28</td>\n      <td>-0.47</td>\n      <td>0.07</td>\n      <td>0.00</td>\n      <td>-0.24</td>\n    </tr>\n    <tr>\n      <th>1</th>\n      <td>ALKYLAMINE</td>\n      <td>0.00</td>\n      <td>-0.74</td>\n      <td>-1.67</td>\n      <td>0.67</td>\n      <td>-1.46</td>\n      <td>-1.93</td>\n      <td>0.17</td>\n      <td>-3.62</td>\n      <td>-0.78</td>\n      <td>...</td>\n      <td>-3.05</td>\n      <td>-1.91</td>\n      <td>-4.49</td>\n      <td>-2.11</td>\n      <td>-1.82</td>\n      <td>-1.31</td>\n      <td>3.36</td>\n      <td>5.93</td>\n      <td>-0.92</td>\n      <td>1.16</td>\n    </tr>\n    <tr>\n      <th>2</th>\n      <td>CASTROLIND</td>\n      <td>-2.95</td>\n      <td>-2.56</td>\n      <td>-0.08</td>\n      <td>-1.25</td>\n      <td>-0.25</td>\n      <td>0.17</td>\n      <td>-0.30</td>\n      <td>-4.01</td>\n      <td>-2.59</td>\n      <td>...</td>\n      <td>-2.20</td>\n      <td>-0.89</td>\n      <td>0.68</td>\n      <td>-0.67</td>\n      <td>1.37</td>\n      <td>-2.19</td>\n      <td>-0.98</td>\n      <td>0.51</td>\n      <td>0.08</td>\n      <td>0.70</td>\n    </tr>\n    <tr>\n      <th>3</th>\n      <td>IDEA</td>\n      <td>-4.13</td>\n      <td>-4.55</td>\n      <td>4.10</td>\n      <td>-1.25</td>\n      <td>-0.62</td>\n      <td>-0.31</td>\n      <td>-5.54</td>\n      <td>0.29</td>\n      <td>1.79</td>\n      <td>...</td>\n      <td>-3.29</td>\n      <td>-1.93</td>\n      <td>-0.96</td>\n      <td>0.43</td>\n      <td>-1.58</td>\n      <td>1.28</td>\n      <td>-5.49</td>\n      <td>-0.15</td>\n      <td>-2.74</td>\n      <td>1.19</td>\n    </tr>\n    <tr>\n      <th>4</th>\n      <td>SPARC</td>\n      <td>-1.96</td>\n      <td>-3.59</td>\n      <td>2.63</td>\n      <td>-0.30</td>\n      <td>-0.71</td>\n      <td>-2.83</td>\n      <td>0.38</td>\n      <td>-5.33</td>\n      <td>9.26</td>\n      <td>...</td>\n      <td>-7.35</td>\n      <td>0.23</td>\n      <td>-2.81</td>\n      <td>-2.16</td>\n      <td>-4.34</td>\n      <td>-0.30</td>\n      <td>0.71</td>\n      <td>-1.07</td>\n      <td>0.98</td>\n      <td>0.39</td>\n    </tr>\n    <tr>\n      <th>...</th>\n      <td>...</td>\n      <td>...</td>\n      <td>...</td>\n      <td>...</td>\n      <td>...</td>\n      <td>...</td>\n      <td>...</td>\n      <td>...</td>\n      <td>...</td>\n      <td>...</td>\n      <td>...</td>\n      <td>...</td>\n      <td>...</td>\n      <td>...</td>\n      <td>...</td>\n      <td>...</td>\n      <td>...</td>\n      <td>...</td>\n      <td>...</td>\n      <td>...</td>\n      <td>...</td>\n    </tr>\n    <tr>\n      <th>495</th>\n      <td>CHOLAFIN</td>\n      <td>-0.87</td>\n      <td>1.66</td>\n      <td>2.55</td>\n      <td>1.23</td>\n      <td>1.24</td>\n      <td>-1.23</td>\n      <td>0.02</td>\n      <td>-2.12</td>\n      <td>-3.04</td>\n      <td>...</td>\n      <td>-4.51</td>\n      <td>3.79</td>\n      <td>-0.13</td>\n      <td>-1.68</td>\n      <td>0.17</td>\n      <td>0.12</td>\n      <td>-0.38</td>\n      <td>0.14</td>\n      <td>-1.03</td>\n      <td>0.62</td>\n    </tr>\n    <tr>\n      <th>496</th>\n      <td>EICHERMOT</td>\n      <td>-1.09</td>\n      <td>-1.04</td>\n      <td>-1.00</td>\n      <td>-0.46</td>\n      <td>1.20</td>\n      <td>-0.72</td>\n      <td>-0.36</td>\n      <td>0.19</td>\n      <td>0.42</td>\n      <td>...</td>\n      <td>-0.84</td>\n      <td>4.17</td>\n      <td>0.88</td>\n      <td>-2.78</td>\n      <td>3.52</td>\n      <td>0.44</td>\n      <td>-2.46</td>\n      <td>-2.09</td>\n      <td>-1.28</td>\n      <td>0.20</td>\n    </tr>\n    <tr>\n      <th>497</th>\n      <td>SONATSOFTW</td>\n      <td>-0.70</td>\n      <td>0.41</td>\n      <td>0.84</td>\n      <td>6.42</td>\n      <td>0.56</td>\n      <td>0.21</td>\n      <td>0.55</td>\n      <td>-2.05</td>\n      <td>1.45</td>\n      <td>...</td>\n      <td>-7.15</td>\n      <td>-1.48</td>\n      <td>-1.13</td>\n      <td>0.58</td>\n      <td>1.32</td>\n      <td>-4.44</td>\n      <td>0.59</td>\n      <td>-0.02</td>\n      <td>2.47</td>\n      <td>4.34</td>\n    </tr>\n    <tr>\n      <th>498</th>\n      <td>SAFARI</td>\n      <td>-0.08</td>\n      <td>-1.19</td>\n      <td>-1.05</td>\n      <td>0.38</td>\n      <td>0.63</td>\n      <td>-1.53</td>\n      <td>-0.32</td>\n      <td>-1.24</td>\n      <td>0.63</td>\n      <td>...</td>\n      <td>0.00</td>\n      <td>0.00</td>\n      <td>0.00</td>\n      <td>0.00</td>\n      <td>0.00</td>\n      <td>0.00</td>\n      <td>0.00</td>\n      <td>0.00</td>\n      <td>0.00</td>\n      <td>0.00</td>\n    </tr>\n    <tr>\n      <th>499</th>\n      <td>BBTC</td>\n      <td>-3.88</td>\n      <td>-0.33</td>\n      <td>0.15</td>\n      <td>1.63</td>\n      <td>3.28</td>\n      <td>-0.75</td>\n      <td>0.60</td>\n      <td>-1.12</td>\n      <td>0.06</td>\n      <td>...</td>\n      <td>-9.45</td>\n      <td>1.41</td>\n      <td>-1.62</td>\n      <td>-4.05</td>\n      <td>-1.72</td>\n      <td>-2.34</td>\n      <td>-2.24</td>\n      <td>-0.63</td>\n      <td>-0.66</td>\n      <td>1.37</td>\n    </tr>\n  </tbody>\n</table>\n<p>500 rows × 1481 columns</p>\n</div>"
     },
     "execution_count": 314,
     "metadata": {},
     "output_type": "execute_result"
    }
   ],
   "source": [
    "df15"
   ],
   "metadata": {
    "collapsed": false,
    "pycharm": {
     "name": "#%%\n"
    }
   }
  },
  {
   "cell_type": "code",
   "execution_count": 315,
   "outputs": [
    {
     "data": {
      "text/plain": "    company_url  Market_cap  Current_Price    High     Low    P_E  Book_Value  \\\n0          GSFC     11297.0          284.0   306.0   116.0   10.7       310.0   \n1          JBMA     22355.0         1890.0  2007.0   482.0  163.0        90.1   \n2    ALKYLAMINE     12072.0         2360.0  2798.0  2119.0   63.7       105.0   \n4          IDEA     73555.0           15.1    18.4     5.7    NaN       -18.7   \n5         SPARC     12299.0          379.0   424.0   160.0    NaN        10.2   \n..          ...         ...            ...     ...     ...    ...         ...   \n496    CHOLAFIN    108540.0         1292.0  1310.0   688.0   35.9       192.0   \n497   EICHERMOT    101037.0         3691.0  4202.0  2836.0   28.2       582.0   \n498  SONATSOFTW     21465.0          766.0   804.0   286.0   45.1        51.4   \n499      SAFARI      9042.0         1900.0  2315.0   850.0   55.7       108.0   \n500        BBTC     11091.0         1591.0  1702.0   781.0   41.6       572.0   \n\n     Dividend_Yield   ROCE   ROE  ...  Sales_growth  Up_from_52w_low  \\\n0              3.52  13.10  10.6  ...          8.20            145.0   \n1              0.07  11.80  12.9  ...          9.31            292.0   \n2              0.42  41.30  41.4  ...         17.30             11.4   \n4              0.00   0.00   0.0  ...          3.76            165.0   \n5              0.00   0.00   0.0  ...          0.00            136.0   \n..              ...    ...   ...  ...           ...              ...   \n496            0.15   9.72  20.4  ...         44.30             87.9   \n497            1.00  27.40  21.1  ...         20.30             30.2   \n498            1.03  39.10  37.7  ...         22.80            168.0   \n499            0.09  37.50  34.4  ...         39.80            123.0   \n500            0.08  15.50 -70.0  ...          8.91            104.0   \n\n     Industry_PE  No_Eq_Shares  Sales_growth_3Years  Down_from_52w_high   RSI  \\\n0           26.6         39.80                13.40                7.27  65.3   \n1           33.2         11.80                25.60                5.84  70.7   \n2           34.3          5.11                25.60               15.60  43.0   \n4           57.1       4868.00                -2.11               18.00  49.4   \n5           38.7         32.40                 0.00               10.50  64.0   \n..           ...           ...                  ...                 ...   ...   \n496         22.1         84.00                13.90                1.40  61.5   \n497         46.9         27.40                16.40               12.20  33.6   \n498         39.3         28.00                25.80                4.75  63.6   \n499         57.0          4.76                20.90               17.90  40.8   \n500         33.2          6.98                11.80                6.50  58.2   \n\n     EPS_latest_quarter  From_52w_high  Debt_to_equity  \n0                  7.75           0.93            0.00  \n1                  3.74           0.94            1.93  \n2                  9.65           0.84            0.16  \n4                 -1.79           0.82            0.00  \n5                 -2.66           0.89            0.04  \n..                  ...            ...             ...  \n496                9.40           0.99            7.56  \n497               37.10           0.88            0.03  \n498                4.43           0.95            0.35  \n499                8.35           0.82            0.26  \n500               17.50           0.94            1.39  \n\n[467 rows x 21 columns]",
      "text/html": "<div>\n<style scoped>\n    .dataframe tbody tr th:only-of-type {\n        vertical-align: middle;\n    }\n\n    .dataframe tbody tr th {\n        vertical-align: top;\n    }\n\n    .dataframe thead th {\n        text-align: right;\n    }\n</style>\n<table border=\"1\" class=\"dataframe\">\n  <thead>\n    <tr style=\"text-align: right;\">\n      <th></th>\n      <th>company_url</th>\n      <th>Market_cap</th>\n      <th>Current_Price</th>\n      <th>High</th>\n      <th>Low</th>\n      <th>P_E</th>\n      <th>Book_Value</th>\n      <th>Dividend_Yield</th>\n      <th>ROCE</th>\n      <th>ROE</th>\n      <th>...</th>\n      <th>Sales_growth</th>\n      <th>Up_from_52w_low</th>\n      <th>Industry_PE</th>\n      <th>No_Eq_Shares</th>\n      <th>Sales_growth_3Years</th>\n      <th>Down_from_52w_high</th>\n      <th>RSI</th>\n      <th>EPS_latest_quarter</th>\n      <th>From_52w_high</th>\n      <th>Debt_to_equity</th>\n    </tr>\n  </thead>\n  <tbody>\n    <tr>\n      <th>0</th>\n      <td>GSFC</td>\n      <td>11297.0</td>\n      <td>284.0</td>\n      <td>306.0</td>\n      <td>116.0</td>\n      <td>10.7</td>\n      <td>310.0</td>\n      <td>3.52</td>\n      <td>13.10</td>\n      <td>10.6</td>\n      <td>...</td>\n      <td>8.20</td>\n      <td>145.0</td>\n      <td>26.6</td>\n      <td>39.80</td>\n      <td>13.40</td>\n      <td>7.27</td>\n      <td>65.3</td>\n      <td>7.75</td>\n      <td>0.93</td>\n      <td>0.00</td>\n    </tr>\n    <tr>\n      <th>1</th>\n      <td>JBMA</td>\n      <td>22355.0</td>\n      <td>1890.0</td>\n      <td>2007.0</td>\n      <td>482.0</td>\n      <td>163.0</td>\n      <td>90.1</td>\n      <td>0.07</td>\n      <td>11.80</td>\n      <td>12.9</td>\n      <td>...</td>\n      <td>9.31</td>\n      <td>292.0</td>\n      <td>33.2</td>\n      <td>11.80</td>\n      <td>25.60</td>\n      <td>5.84</td>\n      <td>70.7</td>\n      <td>3.74</td>\n      <td>0.94</td>\n      <td>1.93</td>\n    </tr>\n    <tr>\n      <th>2</th>\n      <td>ALKYLAMINE</td>\n      <td>12072.0</td>\n      <td>2360.0</td>\n      <td>2798.0</td>\n      <td>2119.0</td>\n      <td>63.7</td>\n      <td>105.0</td>\n      <td>0.42</td>\n      <td>41.30</td>\n      <td>41.4</td>\n      <td>...</td>\n      <td>17.30</td>\n      <td>11.4</td>\n      <td>34.3</td>\n      <td>5.11</td>\n      <td>25.60</td>\n      <td>15.60</td>\n      <td>43.0</td>\n      <td>9.65</td>\n      <td>0.84</td>\n      <td>0.16</td>\n    </tr>\n    <tr>\n      <th>4</th>\n      <td>IDEA</td>\n      <td>73555.0</td>\n      <td>15.1</td>\n      <td>18.4</td>\n      <td>5.7</td>\n      <td>NaN</td>\n      <td>-18.7</td>\n      <td>0.00</td>\n      <td>0.00</td>\n      <td>0.0</td>\n      <td>...</td>\n      <td>3.76</td>\n      <td>165.0</td>\n      <td>57.1</td>\n      <td>4868.00</td>\n      <td>-2.11</td>\n      <td>18.00</td>\n      <td>49.4</td>\n      <td>-1.79</td>\n      <td>0.82</td>\n      <td>0.00</td>\n    </tr>\n    <tr>\n      <th>5</th>\n      <td>SPARC</td>\n      <td>12299.0</td>\n      <td>379.0</td>\n      <td>424.0</td>\n      <td>160.0</td>\n      <td>NaN</td>\n      <td>10.2</td>\n      <td>0.00</td>\n      <td>0.00</td>\n      <td>0.0</td>\n      <td>...</td>\n      <td>0.00</td>\n      <td>136.0</td>\n      <td>38.7</td>\n      <td>32.40</td>\n      <td>0.00</td>\n      <td>10.50</td>\n      <td>64.0</td>\n      <td>-2.66</td>\n      <td>0.89</td>\n      <td>0.04</td>\n    </tr>\n    <tr>\n      <th>...</th>\n      <td>...</td>\n      <td>...</td>\n      <td>...</td>\n      <td>...</td>\n      <td>...</td>\n      <td>...</td>\n      <td>...</td>\n      <td>...</td>\n      <td>...</td>\n      <td>...</td>\n      <td>...</td>\n      <td>...</td>\n      <td>...</td>\n      <td>...</td>\n      <td>...</td>\n      <td>...</td>\n      <td>...</td>\n      <td>...</td>\n      <td>...</td>\n      <td>...</td>\n      <td>...</td>\n    </tr>\n    <tr>\n      <th>496</th>\n      <td>CHOLAFIN</td>\n      <td>108540.0</td>\n      <td>1292.0</td>\n      <td>1310.0</td>\n      <td>688.0</td>\n      <td>35.9</td>\n      <td>192.0</td>\n      <td>0.15</td>\n      <td>9.72</td>\n      <td>20.4</td>\n      <td>...</td>\n      <td>44.30</td>\n      <td>87.9</td>\n      <td>22.1</td>\n      <td>84.00</td>\n      <td>13.90</td>\n      <td>1.40</td>\n      <td>61.5</td>\n      <td>9.40</td>\n      <td>0.99</td>\n      <td>7.56</td>\n    </tr>\n    <tr>\n      <th>497</th>\n      <td>EICHERMOT</td>\n      <td>101037.0</td>\n      <td>3691.0</td>\n      <td>4202.0</td>\n      <td>2836.0</td>\n      <td>28.2</td>\n      <td>582.0</td>\n      <td>1.00</td>\n      <td>27.40</td>\n      <td>21.1</td>\n      <td>...</td>\n      <td>20.30</td>\n      <td>30.2</td>\n      <td>46.9</td>\n      <td>27.40</td>\n      <td>16.40</td>\n      <td>12.20</td>\n      <td>33.6</td>\n      <td>37.10</td>\n      <td>0.88</td>\n      <td>0.03</td>\n    </tr>\n    <tr>\n      <th>498</th>\n      <td>SONATSOFTW</td>\n      <td>21465.0</td>\n      <td>766.0</td>\n      <td>804.0</td>\n      <td>286.0</td>\n      <td>45.1</td>\n      <td>51.4</td>\n      <td>1.03</td>\n      <td>39.10</td>\n      <td>37.7</td>\n      <td>...</td>\n      <td>22.80</td>\n      <td>168.0</td>\n      <td>39.3</td>\n      <td>28.00</td>\n      <td>25.80</td>\n      <td>4.75</td>\n      <td>63.6</td>\n      <td>4.43</td>\n      <td>0.95</td>\n      <td>0.35</td>\n    </tr>\n    <tr>\n      <th>499</th>\n      <td>SAFARI</td>\n      <td>9042.0</td>\n      <td>1900.0</td>\n      <td>2315.0</td>\n      <td>850.0</td>\n      <td>55.7</td>\n      <td>108.0</td>\n      <td>0.09</td>\n      <td>37.50</td>\n      <td>34.4</td>\n      <td>...</td>\n      <td>39.80</td>\n      <td>123.0</td>\n      <td>57.0</td>\n      <td>4.76</td>\n      <td>20.90</td>\n      <td>17.90</td>\n      <td>40.8</td>\n      <td>8.35</td>\n      <td>0.82</td>\n      <td>0.26</td>\n    </tr>\n    <tr>\n      <th>500</th>\n      <td>BBTC</td>\n      <td>11091.0</td>\n      <td>1591.0</td>\n      <td>1702.0</td>\n      <td>781.0</td>\n      <td>41.6</td>\n      <td>572.0</td>\n      <td>0.08</td>\n      <td>15.50</td>\n      <td>-70.0</td>\n      <td>...</td>\n      <td>8.91</td>\n      <td>104.0</td>\n      <td>33.2</td>\n      <td>6.98</td>\n      <td>11.80</td>\n      <td>6.50</td>\n      <td>58.2</td>\n      <td>17.50</td>\n      <td>0.94</td>\n      <td>1.39</td>\n    </tr>\n  </tbody>\n</table>\n<p>467 rows × 21 columns</p>\n</div>"
     },
     "execution_count": 315,
     "metadata": {},
     "output_type": "execute_result"
    }
   ],
   "source": [
    "df13"
   ],
   "metadata": {
    "collapsed": false,
    "pycharm": {
     "name": "#%%\n"
    }
   }
  },
  {
   "cell_type": "code",
   "execution_count": 316,
   "outputs": [],
   "source": [
    "df15.rename(columns={\"index\":\"company_url\"}, inplace=True)"
   ],
   "metadata": {
    "collapsed": false,
    "pycharm": {
     "name": "#%%\n"
    }
   }
  },
  {
   "cell_type": "code",
   "execution_count": 317,
   "outputs": [
    {
     "data": {
      "text/plain": "Date company_url  2024-01-17  2024-01-16  2024-01-15  2024-01-12  2024-01-11  \\\n0           JBMA        3.11        1.86       -2.95       -2.93        0.28   \n1     ALKYLAMINE        0.00       -0.74       -1.67        0.67       -1.46   \n2     CASTROLIND       -2.95       -2.56       -0.08       -1.25       -0.25   \n3           IDEA       -4.13       -4.55        4.10       -1.25       -0.62   \n4          SPARC       -1.96       -3.59        2.63       -0.30       -0.71   \n..           ...         ...         ...         ...         ...         ...   \n495     CHOLAFIN       -0.87        1.66        2.55        1.23        1.24   \n496    EICHERMOT       -1.09       -1.04       -1.00       -0.46        1.20   \n497   SONATSOFTW       -0.70        0.41        0.84        6.42        0.56   \n498       SAFARI       -0.08       -1.19       -1.05        0.38        0.63   \n499         BBTC       -3.88       -0.33        0.15        1.63        3.28   \n\nDate  2024-01-10  2024-01-09  2024-01-08  2024-01-05  ...  2018-02-02  \\\n0           1.57        0.86       10.93        1.04  ...       -4.72   \n1          -1.93        0.17       -3.62       -0.78  ...       -3.05   \n2           0.17       -0.30       -4.01       -2.59  ...       -2.20   \n3          -0.31       -5.54        0.29        1.79  ...       -3.29   \n4          -2.83        0.38       -5.33        9.26  ...       -7.35   \n..           ...         ...         ...         ...  ...         ...   \n495        -1.23        0.02       -2.12       -3.04  ...       -4.51   \n496        -0.72       -0.36        0.19        0.42  ...       -0.84   \n497         0.21        0.55       -2.05        1.45  ...       -7.15   \n498        -1.53       -0.32       -1.24        0.63  ...        0.00   \n499        -0.75        0.60       -1.12        0.06  ...       -9.45   \n\nDate  2018-02-01  2018-01-31  2018-01-30  2018-01-29  2018-01-25  2018-01-24  \\\n0           0.05        0.20       -2.12        0.17       -1.28       -0.47   \n1          -1.91       -4.49       -2.11       -1.82       -1.31        3.36   \n2          -0.89        0.68       -0.67        1.37       -2.19       -0.98   \n3          -1.93       -0.96        0.43       -1.58        1.28       -5.49   \n4           0.23       -2.81       -2.16       -4.34       -0.30        0.71   \n..           ...         ...         ...         ...         ...         ...   \n495         3.79       -0.13       -1.68        0.17        0.12       -0.38   \n496         4.17        0.88       -2.78        3.52        0.44       -2.46   \n497        -1.48       -1.13        0.58        1.32       -4.44        0.59   \n498         0.00        0.00        0.00        0.00        0.00        0.00   \n499         1.41       -1.62       -4.05       -1.72       -2.34       -2.24   \n\nDate  2018-01-23  2018-01-22  2018-01-19  \n0           0.07        0.00       -0.24  \n1           5.93       -0.92        1.16  \n2           0.51        0.08        0.70  \n3          -0.15       -2.74        1.19  \n4          -1.07        0.98        0.39  \n..           ...         ...         ...  \n495         0.14       -1.03        0.62  \n496        -2.09       -1.28        0.20  \n497        -0.02        2.47        4.34  \n498         0.00        0.00        0.00  \n499        -0.63       -0.66        1.37  \n\n[500 rows x 1481 columns]",
      "text/html": "<div>\n<style scoped>\n    .dataframe tbody tr th:only-of-type {\n        vertical-align: middle;\n    }\n\n    .dataframe tbody tr th {\n        vertical-align: top;\n    }\n\n    .dataframe thead th {\n        text-align: right;\n    }\n</style>\n<table border=\"1\" class=\"dataframe\">\n  <thead>\n    <tr style=\"text-align: right;\">\n      <th>Date</th>\n      <th>company_url</th>\n      <th>2024-01-17</th>\n      <th>2024-01-16</th>\n      <th>2024-01-15</th>\n      <th>2024-01-12</th>\n      <th>2024-01-11</th>\n      <th>2024-01-10</th>\n      <th>2024-01-09</th>\n      <th>2024-01-08</th>\n      <th>2024-01-05</th>\n      <th>...</th>\n      <th>2018-02-02</th>\n      <th>2018-02-01</th>\n      <th>2018-01-31</th>\n      <th>2018-01-30</th>\n      <th>2018-01-29</th>\n      <th>2018-01-25</th>\n      <th>2018-01-24</th>\n      <th>2018-01-23</th>\n      <th>2018-01-22</th>\n      <th>2018-01-19</th>\n    </tr>\n  </thead>\n  <tbody>\n    <tr>\n      <th>0</th>\n      <td>JBMA</td>\n      <td>3.11</td>\n      <td>1.86</td>\n      <td>-2.95</td>\n      <td>-2.93</td>\n      <td>0.28</td>\n      <td>1.57</td>\n      <td>0.86</td>\n      <td>10.93</td>\n      <td>1.04</td>\n      <td>...</td>\n      <td>-4.72</td>\n      <td>0.05</td>\n      <td>0.20</td>\n      <td>-2.12</td>\n      <td>0.17</td>\n      <td>-1.28</td>\n      <td>-0.47</td>\n      <td>0.07</td>\n      <td>0.00</td>\n      <td>-0.24</td>\n    </tr>\n    <tr>\n      <th>1</th>\n      <td>ALKYLAMINE</td>\n      <td>0.00</td>\n      <td>-0.74</td>\n      <td>-1.67</td>\n      <td>0.67</td>\n      <td>-1.46</td>\n      <td>-1.93</td>\n      <td>0.17</td>\n      <td>-3.62</td>\n      <td>-0.78</td>\n      <td>...</td>\n      <td>-3.05</td>\n      <td>-1.91</td>\n      <td>-4.49</td>\n      <td>-2.11</td>\n      <td>-1.82</td>\n      <td>-1.31</td>\n      <td>3.36</td>\n      <td>5.93</td>\n      <td>-0.92</td>\n      <td>1.16</td>\n    </tr>\n    <tr>\n      <th>2</th>\n      <td>CASTROLIND</td>\n      <td>-2.95</td>\n      <td>-2.56</td>\n      <td>-0.08</td>\n      <td>-1.25</td>\n      <td>-0.25</td>\n      <td>0.17</td>\n      <td>-0.30</td>\n      <td>-4.01</td>\n      <td>-2.59</td>\n      <td>...</td>\n      <td>-2.20</td>\n      <td>-0.89</td>\n      <td>0.68</td>\n      <td>-0.67</td>\n      <td>1.37</td>\n      <td>-2.19</td>\n      <td>-0.98</td>\n      <td>0.51</td>\n      <td>0.08</td>\n      <td>0.70</td>\n    </tr>\n    <tr>\n      <th>3</th>\n      <td>IDEA</td>\n      <td>-4.13</td>\n      <td>-4.55</td>\n      <td>4.10</td>\n      <td>-1.25</td>\n      <td>-0.62</td>\n      <td>-0.31</td>\n      <td>-5.54</td>\n      <td>0.29</td>\n      <td>1.79</td>\n      <td>...</td>\n      <td>-3.29</td>\n      <td>-1.93</td>\n      <td>-0.96</td>\n      <td>0.43</td>\n      <td>-1.58</td>\n      <td>1.28</td>\n      <td>-5.49</td>\n      <td>-0.15</td>\n      <td>-2.74</td>\n      <td>1.19</td>\n    </tr>\n    <tr>\n      <th>4</th>\n      <td>SPARC</td>\n      <td>-1.96</td>\n      <td>-3.59</td>\n      <td>2.63</td>\n      <td>-0.30</td>\n      <td>-0.71</td>\n      <td>-2.83</td>\n      <td>0.38</td>\n      <td>-5.33</td>\n      <td>9.26</td>\n      <td>...</td>\n      <td>-7.35</td>\n      <td>0.23</td>\n      <td>-2.81</td>\n      <td>-2.16</td>\n      <td>-4.34</td>\n      <td>-0.30</td>\n      <td>0.71</td>\n      <td>-1.07</td>\n      <td>0.98</td>\n      <td>0.39</td>\n    </tr>\n    <tr>\n      <th>...</th>\n      <td>...</td>\n      <td>...</td>\n      <td>...</td>\n      <td>...</td>\n      <td>...</td>\n      <td>...</td>\n      <td>...</td>\n      <td>...</td>\n      <td>...</td>\n      <td>...</td>\n      <td>...</td>\n      <td>...</td>\n      <td>...</td>\n      <td>...</td>\n      <td>...</td>\n      <td>...</td>\n      <td>...</td>\n      <td>...</td>\n      <td>...</td>\n      <td>...</td>\n      <td>...</td>\n    </tr>\n    <tr>\n      <th>495</th>\n      <td>CHOLAFIN</td>\n      <td>-0.87</td>\n      <td>1.66</td>\n      <td>2.55</td>\n      <td>1.23</td>\n      <td>1.24</td>\n      <td>-1.23</td>\n      <td>0.02</td>\n      <td>-2.12</td>\n      <td>-3.04</td>\n      <td>...</td>\n      <td>-4.51</td>\n      <td>3.79</td>\n      <td>-0.13</td>\n      <td>-1.68</td>\n      <td>0.17</td>\n      <td>0.12</td>\n      <td>-0.38</td>\n      <td>0.14</td>\n      <td>-1.03</td>\n      <td>0.62</td>\n    </tr>\n    <tr>\n      <th>496</th>\n      <td>EICHERMOT</td>\n      <td>-1.09</td>\n      <td>-1.04</td>\n      <td>-1.00</td>\n      <td>-0.46</td>\n      <td>1.20</td>\n      <td>-0.72</td>\n      <td>-0.36</td>\n      <td>0.19</td>\n      <td>0.42</td>\n      <td>...</td>\n      <td>-0.84</td>\n      <td>4.17</td>\n      <td>0.88</td>\n      <td>-2.78</td>\n      <td>3.52</td>\n      <td>0.44</td>\n      <td>-2.46</td>\n      <td>-2.09</td>\n      <td>-1.28</td>\n      <td>0.20</td>\n    </tr>\n    <tr>\n      <th>497</th>\n      <td>SONATSOFTW</td>\n      <td>-0.70</td>\n      <td>0.41</td>\n      <td>0.84</td>\n      <td>6.42</td>\n      <td>0.56</td>\n      <td>0.21</td>\n      <td>0.55</td>\n      <td>-2.05</td>\n      <td>1.45</td>\n      <td>...</td>\n      <td>-7.15</td>\n      <td>-1.48</td>\n      <td>-1.13</td>\n      <td>0.58</td>\n      <td>1.32</td>\n      <td>-4.44</td>\n      <td>0.59</td>\n      <td>-0.02</td>\n      <td>2.47</td>\n      <td>4.34</td>\n    </tr>\n    <tr>\n      <th>498</th>\n      <td>SAFARI</td>\n      <td>-0.08</td>\n      <td>-1.19</td>\n      <td>-1.05</td>\n      <td>0.38</td>\n      <td>0.63</td>\n      <td>-1.53</td>\n      <td>-0.32</td>\n      <td>-1.24</td>\n      <td>0.63</td>\n      <td>...</td>\n      <td>0.00</td>\n      <td>0.00</td>\n      <td>0.00</td>\n      <td>0.00</td>\n      <td>0.00</td>\n      <td>0.00</td>\n      <td>0.00</td>\n      <td>0.00</td>\n      <td>0.00</td>\n      <td>0.00</td>\n    </tr>\n    <tr>\n      <th>499</th>\n      <td>BBTC</td>\n      <td>-3.88</td>\n      <td>-0.33</td>\n      <td>0.15</td>\n      <td>1.63</td>\n      <td>3.28</td>\n      <td>-0.75</td>\n      <td>0.60</td>\n      <td>-1.12</td>\n      <td>0.06</td>\n      <td>...</td>\n      <td>-9.45</td>\n      <td>1.41</td>\n      <td>-1.62</td>\n      <td>-4.05</td>\n      <td>-1.72</td>\n      <td>-2.34</td>\n      <td>-2.24</td>\n      <td>-0.63</td>\n      <td>-0.66</td>\n      <td>1.37</td>\n    </tr>\n  </tbody>\n</table>\n<p>500 rows × 1481 columns</p>\n</div>"
     },
     "execution_count": 317,
     "metadata": {},
     "output_type": "execute_result"
    }
   ],
   "source": [
    "df15"
   ],
   "metadata": {
    "collapsed": false,
    "pycharm": {
     "name": "#%%\n"
    }
   }
  },
  {
   "cell_type": "code",
   "execution_count": 318,
   "outputs": [
    {
     "data": {
      "text/plain": "467"
     },
     "execution_count": 318,
     "metadata": {},
     "output_type": "execute_result"
    }
   ],
   "source": [
    "df15[\"company_url\"]"
   ],
   "metadata": {
    "collapsed": false,
    "pycharm": {
     "name": "#%%\n"
    }
   }
  },
  {
   "cell_type": "code",
   "execution_count": 328,
   "outputs": [],
   "source": [
    "merged_df = pd.merge(df15, df13, on='company_url', how='inner')"
   ],
   "metadata": {
    "collapsed": false,
    "pycharm": {
     "name": "#%%\n"
    }
   }
  },
  {
   "cell_type": "code",
   "execution_count": 329,
   "outputs": [
    {
     "data": {
      "text/plain": "    company_url  2024-01-17  2024-01-16  2024-01-15  2024-01-12  2024-01-11  \\\n0          JBMA        3.11        1.86       -2.95       -2.93        0.28   \n1    ALKYLAMINE        0.00       -0.74       -1.67        0.67       -1.46   \n2          IDEA       -4.13       -4.55        4.10       -1.25       -0.62   \n3         SPARC       -1.96       -3.59        2.63       -0.30       -0.71   \n4    ENGINERSIN       -0.93       -3.36        6.38       -1.18        9.82   \n..          ...         ...         ...         ...         ...         ...   \n461    CHOLAFIN       -0.87        1.66        2.55        1.23        1.24   \n462   EICHERMOT       -1.09       -1.04       -1.00       -0.46        1.20   \n463  SONATSOFTW       -0.70        0.41        0.84        6.42        0.56   \n464      SAFARI       -0.08       -1.19       -1.05        0.38        0.63   \n465        BBTC       -3.88       -0.33        0.15        1.63        3.28   \n\n     2024-01-10  2024-01-09  2024-01-08  2024-01-05  ...  Sales_growth  \\\n0          1.57        0.86       10.93        1.04  ...          9.31   \n1         -1.93        0.17       -3.62       -0.78  ...         17.30   \n2         -0.31       -5.54        0.29        1.79  ...          3.76   \n3         -2.83        0.38       -5.33        9.26  ...          0.00   \n4         -1.28        0.23       -0.15       -0.82  ...          6.82   \n..          ...         ...         ...         ...  ...           ...   \n461       -1.23        0.02       -2.12       -3.04  ...         44.30   \n462       -0.72       -0.36        0.19        0.42  ...         20.30   \n463        0.21        0.55       -2.05        1.45  ...         22.80   \n464       -1.53       -0.32       -1.24        0.63  ...         39.80   \n465       -0.75        0.60       -1.12        0.06  ...          8.91   \n\n     Up_from_52w_low  Industry_PE  No_Eq_Shares  Sales_growth_3Years  \\\n0              292.0         33.2         11.80                25.60   \n1               11.4         34.3          5.11                25.60   \n2              165.0         57.1       4868.00                -2.11   \n3              136.0         38.7         32.40                 0.00   \n4              219.0         38.3         56.20                 0.95   \n..               ...          ...           ...                  ...   \n461             87.9         22.1         84.00                13.90   \n462             30.2         46.9         27.40                16.40   \n463            168.0         39.3         28.00                25.80   \n464            123.0         57.0          4.76                20.90   \n465            104.0         33.2          6.98                11.80   \n\n     Down_from_52w_high   RSI  EPS_latest_quarter  From_52w_high  \\\n0                  5.84  70.7                3.74           0.94   \n1                 15.60  43.0                9.65           0.84   \n2                 18.00  49.4               -1.79           0.82   \n3                 10.50  64.0               -2.66           0.89   \n4                  3.85  72.6                2.27           0.96   \n..                  ...   ...                 ...            ...   \n461                1.40  61.5                9.40           0.99   \n462               12.20  33.6               37.10           0.88   \n463                4.75  63.6                4.43           0.95   \n464               17.90  40.8                8.35           0.82   \n465                6.50  58.2               17.50           0.94   \n\n     Debt_to_equity  \n0              1.93  \n1              0.16  \n2              0.00  \n3              0.04  \n4              0.01  \n..              ...  \n461            7.56  \n462            0.03  \n463            0.35  \n464            0.26  \n465            1.39  \n\n[466 rows x 1501 columns]",
      "text/html": "<div>\n<style scoped>\n    .dataframe tbody tr th:only-of-type {\n        vertical-align: middle;\n    }\n\n    .dataframe tbody tr th {\n        vertical-align: top;\n    }\n\n    .dataframe thead th {\n        text-align: right;\n    }\n</style>\n<table border=\"1\" class=\"dataframe\">\n  <thead>\n    <tr style=\"text-align: right;\">\n      <th></th>\n      <th>company_url</th>\n      <th>2024-01-17</th>\n      <th>2024-01-16</th>\n      <th>2024-01-15</th>\n      <th>2024-01-12</th>\n      <th>2024-01-11</th>\n      <th>2024-01-10</th>\n      <th>2024-01-09</th>\n      <th>2024-01-08</th>\n      <th>2024-01-05</th>\n      <th>...</th>\n      <th>Sales_growth</th>\n      <th>Up_from_52w_low</th>\n      <th>Industry_PE</th>\n      <th>No_Eq_Shares</th>\n      <th>Sales_growth_3Years</th>\n      <th>Down_from_52w_high</th>\n      <th>RSI</th>\n      <th>EPS_latest_quarter</th>\n      <th>From_52w_high</th>\n      <th>Debt_to_equity</th>\n    </tr>\n  </thead>\n  <tbody>\n    <tr>\n      <th>0</th>\n      <td>JBMA</td>\n      <td>3.11</td>\n      <td>1.86</td>\n      <td>-2.95</td>\n      <td>-2.93</td>\n      <td>0.28</td>\n      <td>1.57</td>\n      <td>0.86</td>\n      <td>10.93</td>\n      <td>1.04</td>\n      <td>...</td>\n      <td>9.31</td>\n      <td>292.0</td>\n      <td>33.2</td>\n      <td>11.80</td>\n      <td>25.60</td>\n      <td>5.84</td>\n      <td>70.7</td>\n      <td>3.74</td>\n      <td>0.94</td>\n      <td>1.93</td>\n    </tr>\n    <tr>\n      <th>1</th>\n      <td>ALKYLAMINE</td>\n      <td>0.00</td>\n      <td>-0.74</td>\n      <td>-1.67</td>\n      <td>0.67</td>\n      <td>-1.46</td>\n      <td>-1.93</td>\n      <td>0.17</td>\n      <td>-3.62</td>\n      <td>-0.78</td>\n      <td>...</td>\n      <td>17.30</td>\n      <td>11.4</td>\n      <td>34.3</td>\n      <td>5.11</td>\n      <td>25.60</td>\n      <td>15.60</td>\n      <td>43.0</td>\n      <td>9.65</td>\n      <td>0.84</td>\n      <td>0.16</td>\n    </tr>\n    <tr>\n      <th>2</th>\n      <td>IDEA</td>\n      <td>-4.13</td>\n      <td>-4.55</td>\n      <td>4.10</td>\n      <td>-1.25</td>\n      <td>-0.62</td>\n      <td>-0.31</td>\n      <td>-5.54</td>\n      <td>0.29</td>\n      <td>1.79</td>\n      <td>...</td>\n      <td>3.76</td>\n      <td>165.0</td>\n      <td>57.1</td>\n      <td>4868.00</td>\n      <td>-2.11</td>\n      <td>18.00</td>\n      <td>49.4</td>\n      <td>-1.79</td>\n      <td>0.82</td>\n      <td>0.00</td>\n    </tr>\n    <tr>\n      <th>3</th>\n      <td>SPARC</td>\n      <td>-1.96</td>\n      <td>-3.59</td>\n      <td>2.63</td>\n      <td>-0.30</td>\n      <td>-0.71</td>\n      <td>-2.83</td>\n      <td>0.38</td>\n      <td>-5.33</td>\n      <td>9.26</td>\n      <td>...</td>\n      <td>0.00</td>\n      <td>136.0</td>\n      <td>38.7</td>\n      <td>32.40</td>\n      <td>0.00</td>\n      <td>10.50</td>\n      <td>64.0</td>\n      <td>-2.66</td>\n      <td>0.89</td>\n      <td>0.04</td>\n    </tr>\n    <tr>\n      <th>4</th>\n      <td>ENGINERSIN</td>\n      <td>-0.93</td>\n      <td>-3.36</td>\n      <td>6.38</td>\n      <td>-1.18</td>\n      <td>9.82</td>\n      <td>-1.28</td>\n      <td>0.23</td>\n      <td>-0.15</td>\n      <td>-0.82</td>\n      <td>...</td>\n      <td>6.82</td>\n      <td>219.0</td>\n      <td>38.3</td>\n      <td>56.20</td>\n      <td>0.95</td>\n      <td>3.85</td>\n      <td>72.6</td>\n      <td>2.27</td>\n      <td>0.96</td>\n      <td>0.01</td>\n    </tr>\n    <tr>\n      <th>...</th>\n      <td>...</td>\n      <td>...</td>\n      <td>...</td>\n      <td>...</td>\n      <td>...</td>\n      <td>...</td>\n      <td>...</td>\n      <td>...</td>\n      <td>...</td>\n      <td>...</td>\n      <td>...</td>\n      <td>...</td>\n      <td>...</td>\n      <td>...</td>\n      <td>...</td>\n      <td>...</td>\n      <td>...</td>\n      <td>...</td>\n      <td>...</td>\n      <td>...</td>\n      <td>...</td>\n    </tr>\n    <tr>\n      <th>461</th>\n      <td>CHOLAFIN</td>\n      <td>-0.87</td>\n      <td>1.66</td>\n      <td>2.55</td>\n      <td>1.23</td>\n      <td>1.24</td>\n      <td>-1.23</td>\n      <td>0.02</td>\n      <td>-2.12</td>\n      <td>-3.04</td>\n      <td>...</td>\n      <td>44.30</td>\n      <td>87.9</td>\n      <td>22.1</td>\n      <td>84.00</td>\n      <td>13.90</td>\n      <td>1.40</td>\n      <td>61.5</td>\n      <td>9.40</td>\n      <td>0.99</td>\n      <td>7.56</td>\n    </tr>\n    <tr>\n      <th>462</th>\n      <td>EICHERMOT</td>\n      <td>-1.09</td>\n      <td>-1.04</td>\n      <td>-1.00</td>\n      <td>-0.46</td>\n      <td>1.20</td>\n      <td>-0.72</td>\n      <td>-0.36</td>\n      <td>0.19</td>\n      <td>0.42</td>\n      <td>...</td>\n      <td>20.30</td>\n      <td>30.2</td>\n      <td>46.9</td>\n      <td>27.40</td>\n      <td>16.40</td>\n      <td>12.20</td>\n      <td>33.6</td>\n      <td>37.10</td>\n      <td>0.88</td>\n      <td>0.03</td>\n    </tr>\n    <tr>\n      <th>463</th>\n      <td>SONATSOFTW</td>\n      <td>-0.70</td>\n      <td>0.41</td>\n      <td>0.84</td>\n      <td>6.42</td>\n      <td>0.56</td>\n      <td>0.21</td>\n      <td>0.55</td>\n      <td>-2.05</td>\n      <td>1.45</td>\n      <td>...</td>\n      <td>22.80</td>\n      <td>168.0</td>\n      <td>39.3</td>\n      <td>28.00</td>\n      <td>25.80</td>\n      <td>4.75</td>\n      <td>63.6</td>\n      <td>4.43</td>\n      <td>0.95</td>\n      <td>0.35</td>\n    </tr>\n    <tr>\n      <th>464</th>\n      <td>SAFARI</td>\n      <td>-0.08</td>\n      <td>-1.19</td>\n      <td>-1.05</td>\n      <td>0.38</td>\n      <td>0.63</td>\n      <td>-1.53</td>\n      <td>-0.32</td>\n      <td>-1.24</td>\n      <td>0.63</td>\n      <td>...</td>\n      <td>39.80</td>\n      <td>123.0</td>\n      <td>57.0</td>\n      <td>4.76</td>\n      <td>20.90</td>\n      <td>17.90</td>\n      <td>40.8</td>\n      <td>8.35</td>\n      <td>0.82</td>\n      <td>0.26</td>\n    </tr>\n    <tr>\n      <th>465</th>\n      <td>BBTC</td>\n      <td>-3.88</td>\n      <td>-0.33</td>\n      <td>0.15</td>\n      <td>1.63</td>\n      <td>3.28</td>\n      <td>-0.75</td>\n      <td>0.60</td>\n      <td>-1.12</td>\n      <td>0.06</td>\n      <td>...</td>\n      <td>8.91</td>\n      <td>104.0</td>\n      <td>33.2</td>\n      <td>6.98</td>\n      <td>11.80</td>\n      <td>6.50</td>\n      <td>58.2</td>\n      <td>17.50</td>\n      <td>0.94</td>\n      <td>1.39</td>\n    </tr>\n  </tbody>\n</table>\n<p>466 rows × 1501 columns</p>\n</div>"
     },
     "execution_count": 329,
     "metadata": {},
     "output_type": "execute_result"
    }
   ],
   "source": [
    "merged_df"
   ],
   "metadata": {
    "collapsed": false,
    "pycharm": {
     "name": "#%%\n"
    }
   }
  },
  {
   "cell_type": "code",
   "execution_count": 321,
   "outputs": [],
   "source": [
    "merged_df = merged_df.drop('company_url', axis=1)"
   ],
   "metadata": {
    "collapsed": false,
    "pycharm": {
     "name": "#%%\n"
    }
   }
  },
  {
   "cell_type": "code",
   "execution_count": 322,
   "outputs": [
    {
     "data": {
      "text/plain": "     2024-01-17  2024-01-16  2024-01-15  2024-01-12  2024-01-11  2024-01-10  \\\n0          3.11        1.86       -2.95       -2.93        0.28        1.57   \n1          0.00       -0.74       -1.67        0.67       -1.46       -1.93   \n2         -4.13       -4.55        4.10       -1.25       -0.62       -0.31   \n3         -1.96       -3.59        2.63       -0.30       -0.71       -2.83   \n4         -0.93       -3.36        6.38       -1.18        9.82       -1.28   \n..          ...         ...         ...         ...         ...         ...   \n461       -0.87        1.66        2.55        1.23        1.24       -1.23   \n462       -1.09       -1.04       -1.00       -0.46        1.20       -0.72   \n463       -0.70        0.41        0.84        6.42        0.56        0.21   \n464       -0.08       -1.19       -1.05        0.38        0.63       -1.53   \n465       -3.88       -0.33        0.15        1.63        3.28       -0.75   \n\n     2024-01-09  2024-01-08  2024-01-05  2024-01-04  ...  Sales_growth  \\\n0          0.86       10.93        1.04        0.52  ...          9.31   \n1          0.17       -3.62       -0.78        0.52  ...         17.30   \n2         -5.54        0.29        1.79        5.99  ...          3.76   \n3          0.38       -5.33        9.26       -0.61  ...          0.00   \n4          0.23       -0.15       -0.82       -1.35  ...          6.82   \n..          ...         ...         ...         ...  ...           ...   \n461        0.02       -2.12       -3.04        4.57  ...         44.30   \n462       -0.36        0.19        0.42       -0.68  ...         20.30   \n463        0.55       -2.05        1.45       -0.10  ...         22.80   \n464       -0.32       -1.24        0.63        2.73  ...         39.80   \n465        0.60       -1.12        0.06        6.81  ...          8.91   \n\n     Up_from_52w_low  Industry_PE  No_Eq_Shares  Sales_growth_3Years  \\\n0              292.0         33.2         11.80                25.60   \n1               11.4         34.3          5.11                25.60   \n2              165.0         57.1       4868.00                -2.11   \n3              136.0         38.7         32.40                 0.00   \n4              219.0         38.3         56.20                 0.95   \n..               ...          ...           ...                  ...   \n461             87.9         22.1         84.00                13.90   \n462             30.2         46.9         27.40                16.40   \n463            168.0         39.3         28.00                25.80   \n464            123.0         57.0          4.76                20.90   \n465            104.0         33.2          6.98                11.80   \n\n     Down_from_52w_high   RSI  EPS_latest_quarter  From_52w_high  \\\n0                  5.84  70.7                3.74           0.94   \n1                 15.60  43.0                9.65           0.84   \n2                 18.00  49.4               -1.79           0.82   \n3                 10.50  64.0               -2.66           0.89   \n4                  3.85  72.6                2.27           0.96   \n..                  ...   ...                 ...            ...   \n461                1.40  61.5                9.40           0.99   \n462               12.20  33.6               37.10           0.88   \n463                4.75  63.6                4.43           0.95   \n464               17.90  40.8                8.35           0.82   \n465                6.50  58.2               17.50           0.94   \n\n     Debt_to_equity  \n0              1.93  \n1              0.16  \n2              0.00  \n3              0.04  \n4              0.01  \n..              ...  \n461            7.56  \n462            0.03  \n463            0.35  \n464            0.26  \n465            1.39  \n\n[466 rows x 1500 columns]",
      "text/html": "<div>\n<style scoped>\n    .dataframe tbody tr th:only-of-type {\n        vertical-align: middle;\n    }\n\n    .dataframe tbody tr th {\n        vertical-align: top;\n    }\n\n    .dataframe thead th {\n        text-align: right;\n    }\n</style>\n<table border=\"1\" class=\"dataframe\">\n  <thead>\n    <tr style=\"text-align: right;\">\n      <th></th>\n      <th>2024-01-17</th>\n      <th>2024-01-16</th>\n      <th>2024-01-15</th>\n      <th>2024-01-12</th>\n      <th>2024-01-11</th>\n      <th>2024-01-10</th>\n      <th>2024-01-09</th>\n      <th>2024-01-08</th>\n      <th>2024-01-05</th>\n      <th>2024-01-04</th>\n      <th>...</th>\n      <th>Sales_growth</th>\n      <th>Up_from_52w_low</th>\n      <th>Industry_PE</th>\n      <th>No_Eq_Shares</th>\n      <th>Sales_growth_3Years</th>\n      <th>Down_from_52w_high</th>\n      <th>RSI</th>\n      <th>EPS_latest_quarter</th>\n      <th>From_52w_high</th>\n      <th>Debt_to_equity</th>\n    </tr>\n  </thead>\n  <tbody>\n    <tr>\n      <th>0</th>\n      <td>3.11</td>\n      <td>1.86</td>\n      <td>-2.95</td>\n      <td>-2.93</td>\n      <td>0.28</td>\n      <td>1.57</td>\n      <td>0.86</td>\n      <td>10.93</td>\n      <td>1.04</td>\n      <td>0.52</td>\n      <td>...</td>\n      <td>9.31</td>\n      <td>292.0</td>\n      <td>33.2</td>\n      <td>11.80</td>\n      <td>25.60</td>\n      <td>5.84</td>\n      <td>70.7</td>\n      <td>3.74</td>\n      <td>0.94</td>\n      <td>1.93</td>\n    </tr>\n    <tr>\n      <th>1</th>\n      <td>0.00</td>\n      <td>-0.74</td>\n      <td>-1.67</td>\n      <td>0.67</td>\n      <td>-1.46</td>\n      <td>-1.93</td>\n      <td>0.17</td>\n      <td>-3.62</td>\n      <td>-0.78</td>\n      <td>0.52</td>\n      <td>...</td>\n      <td>17.30</td>\n      <td>11.4</td>\n      <td>34.3</td>\n      <td>5.11</td>\n      <td>25.60</td>\n      <td>15.60</td>\n      <td>43.0</td>\n      <td>9.65</td>\n      <td>0.84</td>\n      <td>0.16</td>\n    </tr>\n    <tr>\n      <th>2</th>\n      <td>-4.13</td>\n      <td>-4.55</td>\n      <td>4.10</td>\n      <td>-1.25</td>\n      <td>-0.62</td>\n      <td>-0.31</td>\n      <td>-5.54</td>\n      <td>0.29</td>\n      <td>1.79</td>\n      <td>5.99</td>\n      <td>...</td>\n      <td>3.76</td>\n      <td>165.0</td>\n      <td>57.1</td>\n      <td>4868.00</td>\n      <td>-2.11</td>\n      <td>18.00</td>\n      <td>49.4</td>\n      <td>-1.79</td>\n      <td>0.82</td>\n      <td>0.00</td>\n    </tr>\n    <tr>\n      <th>3</th>\n      <td>-1.96</td>\n      <td>-3.59</td>\n      <td>2.63</td>\n      <td>-0.30</td>\n      <td>-0.71</td>\n      <td>-2.83</td>\n      <td>0.38</td>\n      <td>-5.33</td>\n      <td>9.26</td>\n      <td>-0.61</td>\n      <td>...</td>\n      <td>0.00</td>\n      <td>136.0</td>\n      <td>38.7</td>\n      <td>32.40</td>\n      <td>0.00</td>\n      <td>10.50</td>\n      <td>64.0</td>\n      <td>-2.66</td>\n      <td>0.89</td>\n      <td>0.04</td>\n    </tr>\n    <tr>\n      <th>4</th>\n      <td>-0.93</td>\n      <td>-3.36</td>\n      <td>6.38</td>\n      <td>-1.18</td>\n      <td>9.82</td>\n      <td>-1.28</td>\n      <td>0.23</td>\n      <td>-0.15</td>\n      <td>-0.82</td>\n      <td>-1.35</td>\n      <td>...</td>\n      <td>6.82</td>\n      <td>219.0</td>\n      <td>38.3</td>\n      <td>56.20</td>\n      <td>0.95</td>\n      <td>3.85</td>\n      <td>72.6</td>\n      <td>2.27</td>\n      <td>0.96</td>\n      <td>0.01</td>\n    </tr>\n    <tr>\n      <th>...</th>\n      <td>...</td>\n      <td>...</td>\n      <td>...</td>\n      <td>...</td>\n      <td>...</td>\n      <td>...</td>\n      <td>...</td>\n      <td>...</td>\n      <td>...</td>\n      <td>...</td>\n      <td>...</td>\n      <td>...</td>\n      <td>...</td>\n      <td>...</td>\n      <td>...</td>\n      <td>...</td>\n      <td>...</td>\n      <td>...</td>\n      <td>...</td>\n      <td>...</td>\n      <td>...</td>\n    </tr>\n    <tr>\n      <th>461</th>\n      <td>-0.87</td>\n      <td>1.66</td>\n      <td>2.55</td>\n      <td>1.23</td>\n      <td>1.24</td>\n      <td>-1.23</td>\n      <td>0.02</td>\n      <td>-2.12</td>\n      <td>-3.04</td>\n      <td>4.57</td>\n      <td>...</td>\n      <td>44.30</td>\n      <td>87.9</td>\n      <td>22.1</td>\n      <td>84.00</td>\n      <td>13.90</td>\n      <td>1.40</td>\n      <td>61.5</td>\n      <td>9.40</td>\n      <td>0.99</td>\n      <td>7.56</td>\n    </tr>\n    <tr>\n      <th>462</th>\n      <td>-1.09</td>\n      <td>-1.04</td>\n      <td>-1.00</td>\n      <td>-0.46</td>\n      <td>1.20</td>\n      <td>-0.72</td>\n      <td>-0.36</td>\n      <td>0.19</td>\n      <td>0.42</td>\n      <td>-0.68</td>\n      <td>...</td>\n      <td>20.30</td>\n      <td>30.2</td>\n      <td>46.9</td>\n      <td>27.40</td>\n      <td>16.40</td>\n      <td>12.20</td>\n      <td>33.6</td>\n      <td>37.10</td>\n      <td>0.88</td>\n      <td>0.03</td>\n    </tr>\n    <tr>\n      <th>463</th>\n      <td>-0.70</td>\n      <td>0.41</td>\n      <td>0.84</td>\n      <td>6.42</td>\n      <td>0.56</td>\n      <td>0.21</td>\n      <td>0.55</td>\n      <td>-2.05</td>\n      <td>1.45</td>\n      <td>-0.10</td>\n      <td>...</td>\n      <td>22.80</td>\n      <td>168.0</td>\n      <td>39.3</td>\n      <td>28.00</td>\n      <td>25.80</td>\n      <td>4.75</td>\n      <td>63.6</td>\n      <td>4.43</td>\n      <td>0.95</td>\n      <td>0.35</td>\n    </tr>\n    <tr>\n      <th>464</th>\n      <td>-0.08</td>\n      <td>-1.19</td>\n      <td>-1.05</td>\n      <td>0.38</td>\n      <td>0.63</td>\n      <td>-1.53</td>\n      <td>-0.32</td>\n      <td>-1.24</td>\n      <td>0.63</td>\n      <td>2.73</td>\n      <td>...</td>\n      <td>39.80</td>\n      <td>123.0</td>\n      <td>57.0</td>\n      <td>4.76</td>\n      <td>20.90</td>\n      <td>17.90</td>\n      <td>40.8</td>\n      <td>8.35</td>\n      <td>0.82</td>\n      <td>0.26</td>\n    </tr>\n    <tr>\n      <th>465</th>\n      <td>-3.88</td>\n      <td>-0.33</td>\n      <td>0.15</td>\n      <td>1.63</td>\n      <td>3.28</td>\n      <td>-0.75</td>\n      <td>0.60</td>\n      <td>-1.12</td>\n      <td>0.06</td>\n      <td>6.81</td>\n      <td>...</td>\n      <td>8.91</td>\n      <td>104.0</td>\n      <td>33.2</td>\n      <td>6.98</td>\n      <td>11.80</td>\n      <td>6.50</td>\n      <td>58.2</td>\n      <td>17.50</td>\n      <td>0.94</td>\n      <td>1.39</td>\n    </tr>\n  </tbody>\n</table>\n<p>466 rows × 1500 columns</p>\n</div>"
     },
     "execution_count": 322,
     "metadata": {},
     "output_type": "execute_result"
    }
   ],
   "source": [
    "merged_df"
   ],
   "metadata": {
    "collapsed": false,
    "pycharm": {
     "name": "#%%\n"
    }
   }
  },
  {
   "cell_type": "code",
   "execution_count": 324,
   "outputs": [],
   "source": [
    "result_df_1 = pd.concat([merged_df, df13], axis=1)"
   ],
   "metadata": {
    "collapsed": false,
    "pycharm": {
     "name": "#%%\n"
    }
   }
  },
  {
   "cell_type": "code",
   "execution_count": 325,
   "outputs": [
    {
     "data": {
      "text/plain": "     2024-01-17  2024-01-16  2024-01-15  2024-01-12  2024-01-11  2024-01-10  \\\n0          3.11        1.86       -2.95       -2.93        0.28        1.57   \n1          0.00       -0.74       -1.67        0.67       -1.46       -1.93   \n2         -4.13       -4.55        4.10       -1.25       -0.62       -0.31   \n3         -1.96       -3.59        2.63       -0.30       -0.71       -2.83   \n4         -0.93       -3.36        6.38       -1.18        9.82       -1.28   \n..          ...         ...         ...         ...         ...         ...   \n496         NaN         NaN         NaN         NaN         NaN         NaN   \n497         NaN         NaN         NaN         NaN         NaN         NaN   \n498         NaN         NaN         NaN         NaN         NaN         NaN   \n499         NaN         NaN         NaN         NaN         NaN         NaN   \n500         NaN         NaN         NaN         NaN         NaN         NaN   \n\n     2024-01-09  2024-01-08  2024-01-05  2024-01-04  ...  Sales_growth  \\\n0          0.86       10.93        1.04        0.52  ...          8.20   \n1          0.17       -3.62       -0.78        0.52  ...          9.31   \n2         -5.54        0.29        1.79        5.99  ...         17.30   \n3          0.38       -5.33        9.26       -0.61  ...           NaN   \n4          0.23       -0.15       -0.82       -1.35  ...          3.76   \n..          ...         ...         ...         ...  ...           ...   \n496         NaN         NaN         NaN         NaN  ...         44.30   \n497         NaN         NaN         NaN         NaN  ...         20.30   \n498         NaN         NaN         NaN         NaN  ...         22.80   \n499         NaN         NaN         NaN         NaN  ...         39.80   \n500         NaN         NaN         NaN         NaN  ...          8.91   \n\n     Up_from_52w_low  Industry_PE  No_Eq_Shares  Sales_growth_3Years  \\\n0              145.0         26.6         39.80                13.40   \n1              292.0         33.2         11.80                25.60   \n2               11.4         34.3          5.11                25.60   \n3                NaN          NaN           NaN                  NaN   \n4              165.0         57.1       4868.00                -2.11   \n..               ...          ...           ...                  ...   \n496             87.9         22.1         84.00                13.90   \n497             30.2         46.9         27.40                16.40   \n498            168.0         39.3         28.00                25.80   \n499            123.0         57.0          4.76                20.90   \n500            104.0         33.2          6.98                11.80   \n\n     Down_from_52w_high   RSI  EPS_latest_quarter  From_52w_high  \\\n0                  7.27  65.3                7.75           0.93   \n1                  5.84  70.7                3.74           0.94   \n2                 15.60  43.0                9.65           0.84   \n3                   NaN   NaN                 NaN            NaN   \n4                 18.00  49.4               -1.79           0.82   \n..                  ...   ...                 ...            ...   \n496                1.40  61.5                9.40           0.99   \n497               12.20  33.6               37.10           0.88   \n498                4.75  63.6                4.43           0.95   \n499               17.90  40.8                8.35           0.82   \n500                6.50  58.2               17.50           0.94   \n\n     Debt_to_equity  \n0              0.00  \n1              1.93  \n2              0.16  \n3               NaN  \n4              0.00  \n..              ...  \n496            7.56  \n497            0.03  \n498            0.35  \n499            0.26  \n500            1.39  \n\n[501 rows x 1521 columns]",
      "text/html": "<div>\n<style scoped>\n    .dataframe tbody tr th:only-of-type {\n        vertical-align: middle;\n    }\n\n    .dataframe tbody tr th {\n        vertical-align: top;\n    }\n\n    .dataframe thead th {\n        text-align: right;\n    }\n</style>\n<table border=\"1\" class=\"dataframe\">\n  <thead>\n    <tr style=\"text-align: right;\">\n      <th></th>\n      <th>2024-01-17</th>\n      <th>2024-01-16</th>\n      <th>2024-01-15</th>\n      <th>2024-01-12</th>\n      <th>2024-01-11</th>\n      <th>2024-01-10</th>\n      <th>2024-01-09</th>\n      <th>2024-01-08</th>\n      <th>2024-01-05</th>\n      <th>2024-01-04</th>\n      <th>...</th>\n      <th>Sales_growth</th>\n      <th>Up_from_52w_low</th>\n      <th>Industry_PE</th>\n      <th>No_Eq_Shares</th>\n      <th>Sales_growth_3Years</th>\n      <th>Down_from_52w_high</th>\n      <th>RSI</th>\n      <th>EPS_latest_quarter</th>\n      <th>From_52w_high</th>\n      <th>Debt_to_equity</th>\n    </tr>\n  </thead>\n  <tbody>\n    <tr>\n      <th>0</th>\n      <td>3.11</td>\n      <td>1.86</td>\n      <td>-2.95</td>\n      <td>-2.93</td>\n      <td>0.28</td>\n      <td>1.57</td>\n      <td>0.86</td>\n      <td>10.93</td>\n      <td>1.04</td>\n      <td>0.52</td>\n      <td>...</td>\n      <td>8.20</td>\n      <td>145.0</td>\n      <td>26.6</td>\n      <td>39.80</td>\n      <td>13.40</td>\n      <td>7.27</td>\n      <td>65.3</td>\n      <td>7.75</td>\n      <td>0.93</td>\n      <td>0.00</td>\n    </tr>\n    <tr>\n      <th>1</th>\n      <td>0.00</td>\n      <td>-0.74</td>\n      <td>-1.67</td>\n      <td>0.67</td>\n      <td>-1.46</td>\n      <td>-1.93</td>\n      <td>0.17</td>\n      <td>-3.62</td>\n      <td>-0.78</td>\n      <td>0.52</td>\n      <td>...</td>\n      <td>9.31</td>\n      <td>292.0</td>\n      <td>33.2</td>\n      <td>11.80</td>\n      <td>25.60</td>\n      <td>5.84</td>\n      <td>70.7</td>\n      <td>3.74</td>\n      <td>0.94</td>\n      <td>1.93</td>\n    </tr>\n    <tr>\n      <th>2</th>\n      <td>-4.13</td>\n      <td>-4.55</td>\n      <td>4.10</td>\n      <td>-1.25</td>\n      <td>-0.62</td>\n      <td>-0.31</td>\n      <td>-5.54</td>\n      <td>0.29</td>\n      <td>1.79</td>\n      <td>5.99</td>\n      <td>...</td>\n      <td>17.30</td>\n      <td>11.4</td>\n      <td>34.3</td>\n      <td>5.11</td>\n      <td>25.60</td>\n      <td>15.60</td>\n      <td>43.0</td>\n      <td>9.65</td>\n      <td>0.84</td>\n      <td>0.16</td>\n    </tr>\n    <tr>\n      <th>3</th>\n      <td>-1.96</td>\n      <td>-3.59</td>\n      <td>2.63</td>\n      <td>-0.30</td>\n      <td>-0.71</td>\n      <td>-2.83</td>\n      <td>0.38</td>\n      <td>-5.33</td>\n      <td>9.26</td>\n      <td>-0.61</td>\n      <td>...</td>\n      <td>NaN</td>\n      <td>NaN</td>\n      <td>NaN</td>\n      <td>NaN</td>\n      <td>NaN</td>\n      <td>NaN</td>\n      <td>NaN</td>\n      <td>NaN</td>\n      <td>NaN</td>\n      <td>NaN</td>\n    </tr>\n    <tr>\n      <th>4</th>\n      <td>-0.93</td>\n      <td>-3.36</td>\n      <td>6.38</td>\n      <td>-1.18</td>\n      <td>9.82</td>\n      <td>-1.28</td>\n      <td>0.23</td>\n      <td>-0.15</td>\n      <td>-0.82</td>\n      <td>-1.35</td>\n      <td>...</td>\n      <td>3.76</td>\n      <td>165.0</td>\n      <td>57.1</td>\n      <td>4868.00</td>\n      <td>-2.11</td>\n      <td>18.00</td>\n      <td>49.4</td>\n      <td>-1.79</td>\n      <td>0.82</td>\n      <td>0.00</td>\n    </tr>\n    <tr>\n      <th>...</th>\n      <td>...</td>\n      <td>...</td>\n      <td>...</td>\n      <td>...</td>\n      <td>...</td>\n      <td>...</td>\n      <td>...</td>\n      <td>...</td>\n      <td>...</td>\n      <td>...</td>\n      <td>...</td>\n      <td>...</td>\n      <td>...</td>\n      <td>...</td>\n      <td>...</td>\n      <td>...</td>\n      <td>...</td>\n      <td>...</td>\n      <td>...</td>\n      <td>...</td>\n      <td>...</td>\n    </tr>\n    <tr>\n      <th>496</th>\n      <td>NaN</td>\n      <td>NaN</td>\n      <td>NaN</td>\n      <td>NaN</td>\n      <td>NaN</td>\n      <td>NaN</td>\n      <td>NaN</td>\n      <td>NaN</td>\n      <td>NaN</td>\n      <td>NaN</td>\n      <td>...</td>\n      <td>44.30</td>\n      <td>87.9</td>\n      <td>22.1</td>\n      <td>84.00</td>\n      <td>13.90</td>\n      <td>1.40</td>\n      <td>61.5</td>\n      <td>9.40</td>\n      <td>0.99</td>\n      <td>7.56</td>\n    </tr>\n    <tr>\n      <th>497</th>\n      <td>NaN</td>\n      <td>NaN</td>\n      <td>NaN</td>\n      <td>NaN</td>\n      <td>NaN</td>\n      <td>NaN</td>\n      <td>NaN</td>\n      <td>NaN</td>\n      <td>NaN</td>\n      <td>NaN</td>\n      <td>...</td>\n      <td>20.30</td>\n      <td>30.2</td>\n      <td>46.9</td>\n      <td>27.40</td>\n      <td>16.40</td>\n      <td>12.20</td>\n      <td>33.6</td>\n      <td>37.10</td>\n      <td>0.88</td>\n      <td>0.03</td>\n    </tr>\n    <tr>\n      <th>498</th>\n      <td>NaN</td>\n      <td>NaN</td>\n      <td>NaN</td>\n      <td>NaN</td>\n      <td>NaN</td>\n      <td>NaN</td>\n      <td>NaN</td>\n      <td>NaN</td>\n      <td>NaN</td>\n      <td>NaN</td>\n      <td>...</td>\n      <td>22.80</td>\n      <td>168.0</td>\n      <td>39.3</td>\n      <td>28.00</td>\n      <td>25.80</td>\n      <td>4.75</td>\n      <td>63.6</td>\n      <td>4.43</td>\n      <td>0.95</td>\n      <td>0.35</td>\n    </tr>\n    <tr>\n      <th>499</th>\n      <td>NaN</td>\n      <td>NaN</td>\n      <td>NaN</td>\n      <td>NaN</td>\n      <td>NaN</td>\n      <td>NaN</td>\n      <td>NaN</td>\n      <td>NaN</td>\n      <td>NaN</td>\n      <td>NaN</td>\n      <td>...</td>\n      <td>39.80</td>\n      <td>123.0</td>\n      <td>57.0</td>\n      <td>4.76</td>\n      <td>20.90</td>\n      <td>17.90</td>\n      <td>40.8</td>\n      <td>8.35</td>\n      <td>0.82</td>\n      <td>0.26</td>\n    </tr>\n    <tr>\n      <th>500</th>\n      <td>NaN</td>\n      <td>NaN</td>\n      <td>NaN</td>\n      <td>NaN</td>\n      <td>NaN</td>\n      <td>NaN</td>\n      <td>NaN</td>\n      <td>NaN</td>\n      <td>NaN</td>\n      <td>NaN</td>\n      <td>...</td>\n      <td>8.91</td>\n      <td>104.0</td>\n      <td>33.2</td>\n      <td>6.98</td>\n      <td>11.80</td>\n      <td>6.50</td>\n      <td>58.2</td>\n      <td>17.50</td>\n      <td>0.94</td>\n      <td>1.39</td>\n    </tr>\n  </tbody>\n</table>\n<p>501 rows × 1521 columns</p>\n</div>"
     },
     "execution_count": 325,
     "metadata": {},
     "output_type": "execute_result"
    }
   ],
   "source": [
    "result_df"
   ],
   "metadata": {
    "collapsed": false,
    "pycharm": {
     "name": "#%%\n"
    }
   }
  },
  {
   "cell_type": "code",
   "execution_count": 327,
   "outputs": [
    {
     "data": {
      "text/plain": "2024-01-17            0\n2024-01-16            0\n2024-01-15            0\n2024-01-12            0\n2024-01-11            0\n                     ..\nDown_from_52w_high    0\nRSI                   0\nEPS_latest_quarter    6\nFrom_52w_high         0\nDebt_to_equity        0\nLength: 1500, dtype: int64"
     },
     "execution_count": 327,
     "metadata": {},
     "output_type": "execute_result"
    }
   ],
   "source": [
    "merged_df.isna().sum()"
   ],
   "metadata": {
    "collapsed": false,
    "pycharm": {
     "name": "#%%\n"
    }
   }
  },
  {
   "cell_type": "code",
   "execution_count": 338,
   "outputs": [],
   "source": [
    "merged_df[(merged_df[\"RSI\"]>50) & (merged_df[\"2024-01-17\"]>0) & (merged_df[\"2024-01-16\"]>0)  & (merged_df[\"2024-01-15\"]>0)].to_csv(\"text.csv\")"
   ],
   "metadata": {
    "collapsed": false,
    "pycharm": {
     "name": "#%%\n"
    }
   }
  },
  {
   "cell_type": "code",
   "execution_count": 339,
   "outputs": [
    {
     "data": {
      "text/plain": "    company_url  2024-01-17  2024-01-16  2024-01-15  2024-01-12  2024-01-11  \\\n20      WELCORP        5.43        1.33        0.66       -1.81       -2.09   \n42    JINDALSAW        0.19        0.81        5.39       -0.24       -0.65   \n54        IRCON        1.46        1.43        3.79        0.15        0.99   \n58         BHEL        2.02        0.87        2.44       -0.66       -0.95   \n142  TTKPRESTIG        0.63        1.20        0.51        0.52        1.04   \n160  COCHINSHIP        7.19        2.81        2.21       -2.45       -3.74   \n166  APOLLOHOSP        0.36        0.14        1.74       -1.26        1.19   \n179         IOC        0.35        4.32        1.74        1.54        2.07   \n210     INDIANB        0.27        1.40        0.13        1.56        0.93   \n224        RVNL        7.54        1.31        8.56        1.73        1.22   \n233       TITAN        0.26        1.63        0.88        0.74       -0.43   \n312    PNCINFRA        2.15        4.72        2.35        0.39        2.31   \n317   WHIRLPOOL        0.08        1.33        0.24        0.09        0.22   \n381   INTELLECT        0.43        2.70        1.79        1.00       -0.38   \n455         KEI        2.85        1.65        0.83        0.24       -5.31   \n\n     2024-01-10  2024-01-09  2024-01-08  2024-01-05  ...  Sales_growth  \\\n20         2.67       -3.95        0.31       -0.06  ...        117.00   \n42         2.95        2.18        4.25        0.42  ...         24.40   \n54         6.31        1.06       -2.53       -0.94  ...         32.10   \n58         2.07        0.23       -0.33        0.38  ...          2.37   \n142        1.17       -0.11       -0.24        1.79  ...        -10.60   \n160       20.00        3.43       -5.07       -0.04  ...        -17.00   \n166        0.06        2.04       -1.26       -0.14  ...         17.10   \n179       -1.02       -0.57       -0.04        1.14  ...          1.89   \n210        0.42       -1.20       -1.84        0.46  ...         25.20   \n224        6.53        1.76       -1.38       -0.46  ...          0.86   \n233        0.55       -0.33       -0.18       -0.19  ...         27.30   \n312        5.94        0.54       -1.52       -0.41  ...          4.05   \n317       -1.04        0.48       -0.30        0.58  ...         -5.85   \n381       -1.44        1.98       -1.82        0.48  ...         16.00   \n455       -2.26       -2.82       -1.95        1.03  ...         14.40   \n\n     Up_from_52w_low  Industry_PE  No_Eq_Shares  Sales_growth_3Years  \\\n20             237.0        21.90         26.20                -0.67   \n42             369.0        16.50         32.00                15.40   \n54             307.0        16.60         94.00                24.40   \n58             220.0        42.10        348.00                 2.87   \n142             18.5        56.10         13.90                10.20   \n160            322.0        45.50         26.30               -11.60   \n166             46.9        48.10         14.40                13.90   \n179             90.8         6.75       1412.00                20.30   \n210             75.9         9.46        135.00                28.10   \n224            335.0        27.80        208.00                11.80   \n233             64.6        37.10         88.80                24.40   \n312             57.6        27.80         25.60                12.40   \n317             13.4        56.10         12.70                 3.62   \n381            123.0        39.30         13.70                18.30   \n455            114.0        40.10          9.02                12.20   \n\n     Down_from_52w_high   RSI  EPS_latest_quarter  From_52w_high  \\\n20                 1.41  67.6               14.70           0.99   \n42                 6.12  66.9               16.60           0.94   \n54                 4.18  70.2                2.67           0.96   \n58                 0.49  74.8               -0.68           1.00   \n142                7.17  56.8                4.28           0.93   \n160                3.46  75.6                6.90           0.97   \n166                0.63  69.5               16.20           0.99   \n179                0.79  78.4                9.29           0.99   \n210                4.20  60.8               16.60           0.96   \n224                3.10  88.9                1.89           0.97   \n233                3.20  58.1               10.30           0.97   \n312                3.90  79.4                5.77           0.96   \n317               20.30  50.5                2.88           0.80   \n381                0.35  71.1                5.16           1.00   \n455                8.18  53.7               15.50           0.92   \n\n     Debt_to_equity  \n20             0.39  \n42             0.68  \n54             0.30  \n58             0.35  \n142            0.08  \n160            0.13  \n166            0.75  \n179            0.69  \n210           13.00  \n224            0.76  \n233            1.15  \n312            1.54  \n317            0.01  \n381            0.02  \n455            0.07  \n\n[15 rows x 1501 columns]",
      "text/html": "<div>\n<style scoped>\n    .dataframe tbody tr th:only-of-type {\n        vertical-align: middle;\n    }\n\n    .dataframe tbody tr th {\n        vertical-align: top;\n    }\n\n    .dataframe thead th {\n        text-align: right;\n    }\n</style>\n<table border=\"1\" class=\"dataframe\">\n  <thead>\n    <tr style=\"text-align: right;\">\n      <th></th>\n      <th>company_url</th>\n      <th>2024-01-17</th>\n      <th>2024-01-16</th>\n      <th>2024-01-15</th>\n      <th>2024-01-12</th>\n      <th>2024-01-11</th>\n      <th>2024-01-10</th>\n      <th>2024-01-09</th>\n      <th>2024-01-08</th>\n      <th>2024-01-05</th>\n      <th>...</th>\n      <th>Sales_growth</th>\n      <th>Up_from_52w_low</th>\n      <th>Industry_PE</th>\n      <th>No_Eq_Shares</th>\n      <th>Sales_growth_3Years</th>\n      <th>Down_from_52w_high</th>\n      <th>RSI</th>\n      <th>EPS_latest_quarter</th>\n      <th>From_52w_high</th>\n      <th>Debt_to_equity</th>\n    </tr>\n  </thead>\n  <tbody>\n    <tr>\n      <th>20</th>\n      <td>WELCORP</td>\n      <td>5.43</td>\n      <td>1.33</td>\n      <td>0.66</td>\n      <td>-1.81</td>\n      <td>-2.09</td>\n      <td>2.67</td>\n      <td>-3.95</td>\n      <td>0.31</td>\n      <td>-0.06</td>\n      <td>...</td>\n      <td>117.00</td>\n      <td>237.0</td>\n      <td>21.90</td>\n      <td>26.20</td>\n      <td>-0.67</td>\n      <td>1.41</td>\n      <td>67.6</td>\n      <td>14.70</td>\n      <td>0.99</td>\n      <td>0.39</td>\n    </tr>\n    <tr>\n      <th>42</th>\n      <td>JINDALSAW</td>\n      <td>0.19</td>\n      <td>0.81</td>\n      <td>5.39</td>\n      <td>-0.24</td>\n      <td>-0.65</td>\n      <td>2.95</td>\n      <td>2.18</td>\n      <td>4.25</td>\n      <td>0.42</td>\n      <td>...</td>\n      <td>24.40</td>\n      <td>369.0</td>\n      <td>16.50</td>\n      <td>32.00</td>\n      <td>15.40</td>\n      <td>6.12</td>\n      <td>66.9</td>\n      <td>16.60</td>\n      <td>0.94</td>\n      <td>0.68</td>\n    </tr>\n    <tr>\n      <th>54</th>\n      <td>IRCON</td>\n      <td>1.46</td>\n      <td>1.43</td>\n      <td>3.79</td>\n      <td>0.15</td>\n      <td>0.99</td>\n      <td>6.31</td>\n      <td>1.06</td>\n      <td>-2.53</td>\n      <td>-0.94</td>\n      <td>...</td>\n      <td>32.10</td>\n      <td>307.0</td>\n      <td>16.60</td>\n      <td>94.00</td>\n      <td>24.40</td>\n      <td>4.18</td>\n      <td>70.2</td>\n      <td>2.67</td>\n      <td>0.96</td>\n      <td>0.30</td>\n    </tr>\n    <tr>\n      <th>58</th>\n      <td>BHEL</td>\n      <td>2.02</td>\n      <td>0.87</td>\n      <td>2.44</td>\n      <td>-0.66</td>\n      <td>-0.95</td>\n      <td>2.07</td>\n      <td>0.23</td>\n      <td>-0.33</td>\n      <td>0.38</td>\n      <td>...</td>\n      <td>2.37</td>\n      <td>220.0</td>\n      <td>42.10</td>\n      <td>348.00</td>\n      <td>2.87</td>\n      <td>0.49</td>\n      <td>74.8</td>\n      <td>-0.68</td>\n      <td>1.00</td>\n      <td>0.35</td>\n    </tr>\n    <tr>\n      <th>142</th>\n      <td>TTKPRESTIG</td>\n      <td>0.63</td>\n      <td>1.20</td>\n      <td>0.51</td>\n      <td>0.52</td>\n      <td>1.04</td>\n      <td>1.17</td>\n      <td>-0.11</td>\n      <td>-0.24</td>\n      <td>1.79</td>\n      <td>...</td>\n      <td>-10.60</td>\n      <td>18.5</td>\n      <td>56.10</td>\n      <td>13.90</td>\n      <td>10.20</td>\n      <td>7.17</td>\n      <td>56.8</td>\n      <td>4.28</td>\n      <td>0.93</td>\n      <td>0.08</td>\n    </tr>\n    <tr>\n      <th>160</th>\n      <td>COCHINSHIP</td>\n      <td>7.19</td>\n      <td>2.81</td>\n      <td>2.21</td>\n      <td>-2.45</td>\n      <td>-3.74</td>\n      <td>20.00</td>\n      <td>3.43</td>\n      <td>-5.07</td>\n      <td>-0.04</td>\n      <td>...</td>\n      <td>-17.00</td>\n      <td>322.0</td>\n      <td>45.50</td>\n      <td>26.30</td>\n      <td>-11.60</td>\n      <td>3.46</td>\n      <td>75.6</td>\n      <td>6.90</td>\n      <td>0.97</td>\n      <td>0.13</td>\n    </tr>\n    <tr>\n      <th>166</th>\n      <td>APOLLOHOSP</td>\n      <td>0.36</td>\n      <td>0.14</td>\n      <td>1.74</td>\n      <td>-1.26</td>\n      <td>1.19</td>\n      <td>0.06</td>\n      <td>2.04</td>\n      <td>-1.26</td>\n      <td>-0.14</td>\n      <td>...</td>\n      <td>17.10</td>\n      <td>46.9</td>\n      <td>48.10</td>\n      <td>14.40</td>\n      <td>13.90</td>\n      <td>0.63</td>\n      <td>69.5</td>\n      <td>16.20</td>\n      <td>0.99</td>\n      <td>0.75</td>\n    </tr>\n    <tr>\n      <th>179</th>\n      <td>IOC</td>\n      <td>0.35</td>\n      <td>4.32</td>\n      <td>1.74</td>\n      <td>1.54</td>\n      <td>2.07</td>\n      <td>-1.02</td>\n      <td>-0.57</td>\n      <td>-0.04</td>\n      <td>1.14</td>\n      <td>...</td>\n      <td>1.89</td>\n      <td>90.8</td>\n      <td>6.75</td>\n      <td>1412.00</td>\n      <td>20.30</td>\n      <td>0.79</td>\n      <td>78.4</td>\n      <td>9.29</td>\n      <td>0.99</td>\n      <td>0.69</td>\n    </tr>\n    <tr>\n      <th>210</th>\n      <td>INDIANB</td>\n      <td>0.27</td>\n      <td>1.40</td>\n      <td>0.13</td>\n      <td>1.56</td>\n      <td>0.93</td>\n      <td>0.42</td>\n      <td>-1.20</td>\n      <td>-1.84</td>\n      <td>0.46</td>\n      <td>...</td>\n      <td>25.20</td>\n      <td>75.9</td>\n      <td>9.46</td>\n      <td>135.00</td>\n      <td>28.10</td>\n      <td>4.20</td>\n      <td>60.8</td>\n      <td>16.60</td>\n      <td>0.96</td>\n      <td>13.00</td>\n    </tr>\n    <tr>\n      <th>224</th>\n      <td>RVNL</td>\n      <td>7.54</td>\n      <td>1.31</td>\n      <td>8.56</td>\n      <td>1.73</td>\n      <td>1.22</td>\n      <td>6.53</td>\n      <td>1.76</td>\n      <td>-1.38</td>\n      <td>-0.46</td>\n      <td>...</td>\n      <td>0.86</td>\n      <td>335.0</td>\n      <td>27.80</td>\n      <td>208.00</td>\n      <td>11.80</td>\n      <td>3.10</td>\n      <td>88.9</td>\n      <td>1.89</td>\n      <td>0.97</td>\n      <td>0.76</td>\n    </tr>\n    <tr>\n      <th>233</th>\n      <td>TITAN</td>\n      <td>0.26</td>\n      <td>1.63</td>\n      <td>0.88</td>\n      <td>0.74</td>\n      <td>-0.43</td>\n      <td>0.55</td>\n      <td>-0.33</td>\n      <td>-0.18</td>\n      <td>-0.19</td>\n      <td>...</td>\n      <td>27.30</td>\n      <td>64.6</td>\n      <td>37.10</td>\n      <td>88.80</td>\n      <td>24.40</td>\n      <td>3.20</td>\n      <td>58.1</td>\n      <td>10.30</td>\n      <td>0.97</td>\n      <td>1.15</td>\n    </tr>\n    <tr>\n      <th>312</th>\n      <td>PNCINFRA</td>\n      <td>2.15</td>\n      <td>4.72</td>\n      <td>2.35</td>\n      <td>0.39</td>\n      <td>2.31</td>\n      <td>5.94</td>\n      <td>0.54</td>\n      <td>-1.52</td>\n      <td>-0.41</td>\n      <td>...</td>\n      <td>4.05</td>\n      <td>57.6</td>\n      <td>27.80</td>\n      <td>25.60</td>\n      <td>12.40</td>\n      <td>3.90</td>\n      <td>79.4</td>\n      <td>5.77</td>\n      <td>0.96</td>\n      <td>1.54</td>\n    </tr>\n    <tr>\n      <th>317</th>\n      <td>WHIRLPOOL</td>\n      <td>0.08</td>\n      <td>1.33</td>\n      <td>0.24</td>\n      <td>0.09</td>\n      <td>0.22</td>\n      <td>-1.04</td>\n      <td>0.48</td>\n      <td>-0.30</td>\n      <td>0.58</td>\n      <td>...</td>\n      <td>-5.85</td>\n      <td>13.4</td>\n      <td>56.10</td>\n      <td>12.70</td>\n      <td>3.62</td>\n      <td>20.30</td>\n      <td>50.5</td>\n      <td>2.88</td>\n      <td>0.80</td>\n      <td>0.01</td>\n    </tr>\n    <tr>\n      <th>381</th>\n      <td>INTELLECT</td>\n      <td>0.43</td>\n      <td>2.70</td>\n      <td>1.79</td>\n      <td>1.00</td>\n      <td>-0.38</td>\n      <td>-1.44</td>\n      <td>1.98</td>\n      <td>-1.82</td>\n      <td>0.48</td>\n      <td>...</td>\n      <td>16.00</td>\n      <td>123.0</td>\n      <td>39.30</td>\n      <td>13.70</td>\n      <td>18.30</td>\n      <td>0.35</td>\n      <td>71.1</td>\n      <td>5.16</td>\n      <td>1.00</td>\n      <td>0.02</td>\n    </tr>\n    <tr>\n      <th>455</th>\n      <td>KEI</td>\n      <td>2.85</td>\n      <td>1.65</td>\n      <td>0.83</td>\n      <td>0.24</td>\n      <td>-5.31</td>\n      <td>-2.26</td>\n      <td>-2.82</td>\n      <td>-1.95</td>\n      <td>1.03</td>\n      <td>...</td>\n      <td>14.40</td>\n      <td>114.0</td>\n      <td>40.10</td>\n      <td>9.02</td>\n      <td>12.20</td>\n      <td>8.18</td>\n      <td>53.7</td>\n      <td>15.50</td>\n      <td>0.92</td>\n      <td>0.07</td>\n    </tr>\n  </tbody>\n</table>\n<p>15 rows × 1501 columns</p>\n</div>"
     },
     "execution_count": 339,
     "metadata": {},
     "output_type": "execute_result"
    }
   ],
   "source": [
    "merged_df[(merged_df[\"RSI\"]>50) & (merged_df[\"2024-01-17\"]>0) & (merged_df[\"2024-01-16\"]>0)  & (merged_df[\"2024-01-15\"]>0)]"
   ],
   "metadata": {
    "collapsed": false,
    "pycharm": {
     "name": "#%%\n"
    }
   }
  },
  {
   "cell_type": "code",
   "execution_count": 341,
   "outputs": [],
   "source": [
    "df13.to_csv(\"df13.csv\")"
   ],
   "metadata": {
    "collapsed": false,
    "pycharm": {
     "name": "#%%\n"
    }
   }
  },
  {
   "cell_type": "code",
   "execution_count": 342,
   "outputs": [],
   "source": [
    "df15.to_csv(\"df15.csv\")"
   ],
   "metadata": {
    "collapsed": false,
    "pycharm": {
     "name": "#%%\n"
    }
   }
  },
  {
   "cell_type": "code",
   "execution_count": 343,
   "outputs": [
    {
     "data": {
      "text/plain": "    company_url  2024-01-17  2024-01-16  2024-01-15  2024-01-12  2024-01-11  \\\n0          JBMA        3.11        1.86       -2.95       -2.93        0.28   \n3         SPARC       -1.96       -3.59        2.63       -0.30       -0.71   \n4    ENGINERSIN       -0.93       -3.36        6.38       -1.18        9.82   \n5    JUBLPHARMA        1.19        0.01        0.00       -1.85        0.47   \n7     GUJGASLTD       -0.16        2.67        1.31       -1.20        5.03   \n..          ...         ...         ...         ...         ...         ...   \n455         KEI        2.85        1.65        0.83        0.24       -5.31   \n460       BSOFT        2.28       -0.71       -0.06        5.31        1.01   \n461    CHOLAFIN       -0.87        1.66        2.55        1.23        1.24   \n463  SONATSOFTW       -0.70        0.41        0.84        6.42        0.56   \n465        BBTC       -3.88       -0.33        0.15        1.63        3.28   \n\n     2024-01-10  2024-01-09  2024-01-08  2024-01-05  ...  Sales_growth  \\\n0          1.57        0.86       10.93        1.04  ...          9.31   \n3         -2.83        0.38       -5.33        9.26  ...          0.00   \n4         -1.28        0.23       -0.15       -0.82  ...          6.82   \n5          0.64        1.47       -4.58        1.10  ...         10.30   \n7          0.22        1.11        0.33        0.11  ...        -19.60   \n..          ...         ...         ...         ...  ...           ...   \n455       -2.26       -2.82       -1.95        1.03  ...         14.40   \n460        2.75        1.33       -0.57        3.91  ...         11.10   \n461       -1.23        0.02       -2.12       -3.04  ...         44.30   \n463        0.21        0.55       -2.05        1.45  ...         22.80   \n465       -0.75        0.60       -1.12        0.06  ...          8.91   \n\n     Up_from_52w_low  Industry_PE  No_Eq_Shares  Sales_growth_3Years  \\\n0              292.0         33.2         11.80                25.60   \n3              136.0         38.7         32.40                 0.00   \n4              219.0         38.3         56.20                 0.95   \n5              106.0         39.6         15.90                 1.68   \n7               40.5         19.4         68.80                17.60   \n..               ...          ...           ...                  ...   \n455            114.0         40.1          9.02                12.20   \n460            211.0         39.3         27.60                13.40   \n461             87.9         22.1         84.00                13.90   \n463            168.0         39.3         28.00                25.80   \n465            104.0         33.2          6.98                11.80   \n\n     Down_from_52w_high   RSI  EPS_latest_quarter  From_52w_high  \\\n0                  5.84  70.7                3.74           0.94   \n3                 10.50  64.0               -2.66           0.89   \n4                  3.85  72.6                2.27           0.96   \n5                  7.27  56.5                3.92           0.93   \n7                  1.55  86.9                4.30           0.98   \n..                  ...   ...                 ...            ...   \n455                8.18  53.7               15.50           0.92   \n460                3.49  67.6                5.27           0.97   \n461                1.40  61.5                9.40           0.99   \n463                4.75  63.6                4.43           0.95   \n465                6.50  58.2               17.50           0.94   \n\n     Debt_to_equity  \n0              1.93  \n3              0.04  \n4              0.01  \n5              0.68  \n7              0.02  \n..              ...  \n455            0.07  \n460            0.03  \n461            7.56  \n463            0.35  \n465            1.39  \n\n[277 rows x 1501 columns]",
      "text/html": "<div>\n<style scoped>\n    .dataframe tbody tr th:only-of-type {\n        vertical-align: middle;\n    }\n\n    .dataframe tbody tr th {\n        vertical-align: top;\n    }\n\n    .dataframe thead th {\n        text-align: right;\n    }\n</style>\n<table border=\"1\" class=\"dataframe\">\n  <thead>\n    <tr style=\"text-align: right;\">\n      <th></th>\n      <th>company_url</th>\n      <th>2024-01-17</th>\n      <th>2024-01-16</th>\n      <th>2024-01-15</th>\n      <th>2024-01-12</th>\n      <th>2024-01-11</th>\n      <th>2024-01-10</th>\n      <th>2024-01-09</th>\n      <th>2024-01-08</th>\n      <th>2024-01-05</th>\n      <th>...</th>\n      <th>Sales_growth</th>\n      <th>Up_from_52w_low</th>\n      <th>Industry_PE</th>\n      <th>No_Eq_Shares</th>\n      <th>Sales_growth_3Years</th>\n      <th>Down_from_52w_high</th>\n      <th>RSI</th>\n      <th>EPS_latest_quarter</th>\n      <th>From_52w_high</th>\n      <th>Debt_to_equity</th>\n    </tr>\n  </thead>\n  <tbody>\n    <tr>\n      <th>0</th>\n      <td>JBMA</td>\n      <td>3.11</td>\n      <td>1.86</td>\n      <td>-2.95</td>\n      <td>-2.93</td>\n      <td>0.28</td>\n      <td>1.57</td>\n      <td>0.86</td>\n      <td>10.93</td>\n      <td>1.04</td>\n      <td>...</td>\n      <td>9.31</td>\n      <td>292.0</td>\n      <td>33.2</td>\n      <td>11.80</td>\n      <td>25.60</td>\n      <td>5.84</td>\n      <td>70.7</td>\n      <td>3.74</td>\n      <td>0.94</td>\n      <td>1.93</td>\n    </tr>\n    <tr>\n      <th>3</th>\n      <td>SPARC</td>\n      <td>-1.96</td>\n      <td>-3.59</td>\n      <td>2.63</td>\n      <td>-0.30</td>\n      <td>-0.71</td>\n      <td>-2.83</td>\n      <td>0.38</td>\n      <td>-5.33</td>\n      <td>9.26</td>\n      <td>...</td>\n      <td>0.00</td>\n      <td>136.0</td>\n      <td>38.7</td>\n      <td>32.40</td>\n      <td>0.00</td>\n      <td>10.50</td>\n      <td>64.0</td>\n      <td>-2.66</td>\n      <td>0.89</td>\n      <td>0.04</td>\n    </tr>\n    <tr>\n      <th>4</th>\n      <td>ENGINERSIN</td>\n      <td>-0.93</td>\n      <td>-3.36</td>\n      <td>6.38</td>\n      <td>-1.18</td>\n      <td>9.82</td>\n      <td>-1.28</td>\n      <td>0.23</td>\n      <td>-0.15</td>\n      <td>-0.82</td>\n      <td>...</td>\n      <td>6.82</td>\n      <td>219.0</td>\n      <td>38.3</td>\n      <td>56.20</td>\n      <td>0.95</td>\n      <td>3.85</td>\n      <td>72.6</td>\n      <td>2.27</td>\n      <td>0.96</td>\n      <td>0.01</td>\n    </tr>\n    <tr>\n      <th>5</th>\n      <td>JUBLPHARMA</td>\n      <td>1.19</td>\n      <td>0.01</td>\n      <td>0.00</td>\n      <td>-1.85</td>\n      <td>0.47</td>\n      <td>0.64</td>\n      <td>1.47</td>\n      <td>-4.58</td>\n      <td>1.10</td>\n      <td>...</td>\n      <td>10.30</td>\n      <td>106.0</td>\n      <td>39.6</td>\n      <td>15.90</td>\n      <td>1.68</td>\n      <td>7.27</td>\n      <td>56.5</td>\n      <td>3.92</td>\n      <td>0.93</td>\n      <td>0.68</td>\n    </tr>\n    <tr>\n      <th>7</th>\n      <td>GUJGASLTD</td>\n      <td>-0.16</td>\n      <td>2.67</td>\n      <td>1.31</td>\n      <td>-1.20</td>\n      <td>5.03</td>\n      <td>0.22</td>\n      <td>1.11</td>\n      <td>0.33</td>\n      <td>0.11</td>\n      <td>...</td>\n      <td>-19.60</td>\n      <td>40.5</td>\n      <td>19.4</td>\n      <td>68.80</td>\n      <td>17.60</td>\n      <td>1.55</td>\n      <td>86.9</td>\n      <td>4.30</td>\n      <td>0.98</td>\n      <td>0.02</td>\n    </tr>\n    <tr>\n      <th>...</th>\n      <td>...</td>\n      <td>...</td>\n      <td>...</td>\n      <td>...</td>\n      <td>...</td>\n      <td>...</td>\n      <td>...</td>\n      <td>...</td>\n      <td>...</td>\n      <td>...</td>\n      <td>...</td>\n      <td>...</td>\n      <td>...</td>\n      <td>...</td>\n      <td>...</td>\n      <td>...</td>\n      <td>...</td>\n      <td>...</td>\n      <td>...</td>\n      <td>...</td>\n      <td>...</td>\n    </tr>\n    <tr>\n      <th>455</th>\n      <td>KEI</td>\n      <td>2.85</td>\n      <td>1.65</td>\n      <td>0.83</td>\n      <td>0.24</td>\n      <td>-5.31</td>\n      <td>-2.26</td>\n      <td>-2.82</td>\n      <td>-1.95</td>\n      <td>1.03</td>\n      <td>...</td>\n      <td>14.40</td>\n      <td>114.0</td>\n      <td>40.1</td>\n      <td>9.02</td>\n      <td>12.20</td>\n      <td>8.18</td>\n      <td>53.7</td>\n      <td>15.50</td>\n      <td>0.92</td>\n      <td>0.07</td>\n    </tr>\n    <tr>\n      <th>460</th>\n      <td>BSOFT</td>\n      <td>2.28</td>\n      <td>-0.71</td>\n      <td>-0.06</td>\n      <td>5.31</td>\n      <td>1.01</td>\n      <td>2.75</td>\n      <td>1.33</td>\n      <td>-0.57</td>\n      <td>3.91</td>\n      <td>...</td>\n      <td>11.10</td>\n      <td>211.0</td>\n      <td>39.3</td>\n      <td>27.60</td>\n      <td>13.40</td>\n      <td>3.49</td>\n      <td>67.6</td>\n      <td>5.27</td>\n      <td>0.97</td>\n      <td>0.03</td>\n    </tr>\n    <tr>\n      <th>461</th>\n      <td>CHOLAFIN</td>\n      <td>-0.87</td>\n      <td>1.66</td>\n      <td>2.55</td>\n      <td>1.23</td>\n      <td>1.24</td>\n      <td>-1.23</td>\n      <td>0.02</td>\n      <td>-2.12</td>\n      <td>-3.04</td>\n      <td>...</td>\n      <td>44.30</td>\n      <td>87.9</td>\n      <td>22.1</td>\n      <td>84.00</td>\n      <td>13.90</td>\n      <td>1.40</td>\n      <td>61.5</td>\n      <td>9.40</td>\n      <td>0.99</td>\n      <td>7.56</td>\n    </tr>\n    <tr>\n      <th>463</th>\n      <td>SONATSOFTW</td>\n      <td>-0.70</td>\n      <td>0.41</td>\n      <td>0.84</td>\n      <td>6.42</td>\n      <td>0.56</td>\n      <td>0.21</td>\n      <td>0.55</td>\n      <td>-2.05</td>\n      <td>1.45</td>\n      <td>...</td>\n      <td>22.80</td>\n      <td>168.0</td>\n      <td>39.3</td>\n      <td>28.00</td>\n      <td>25.80</td>\n      <td>4.75</td>\n      <td>63.6</td>\n      <td>4.43</td>\n      <td>0.95</td>\n      <td>0.35</td>\n    </tr>\n    <tr>\n      <th>465</th>\n      <td>BBTC</td>\n      <td>-3.88</td>\n      <td>-0.33</td>\n      <td>0.15</td>\n      <td>1.63</td>\n      <td>3.28</td>\n      <td>-0.75</td>\n      <td>0.60</td>\n      <td>-1.12</td>\n      <td>0.06</td>\n      <td>...</td>\n      <td>8.91</td>\n      <td>104.0</td>\n      <td>33.2</td>\n      <td>6.98</td>\n      <td>11.80</td>\n      <td>6.50</td>\n      <td>58.2</td>\n      <td>17.50</td>\n      <td>0.94</td>\n      <td>1.39</td>\n    </tr>\n  </tbody>\n</table>\n<p>277 rows × 1501 columns</p>\n</div>"
     },
     "execution_count": 343,
     "metadata": {},
     "output_type": "execute_result"
    }
   ],
   "source": [
    "merged_df[(merged_df[\"RSI\"]>50) ]"
   ],
   "metadata": {
    "collapsed": false,
    "pycharm": {
     "name": "#%%\n"
    }
   }
  },
  {
   "cell_type": "code",
   "execution_count": 344,
   "outputs": [],
   "source": [
    "merged_df.to_csv(\"merge.csv\")"
   ],
   "metadata": {
    "collapsed": false,
    "pycharm": {
     "name": "#%%\n"
    }
   }
  },
  {
   "cell_type": "code",
   "execution_count": 345,
   "outputs": [
    {
     "data": {
      "text/plain": "    company_url  2024-01-17  2024-01-16  2024-01-15  2024-01-12  2024-01-11  \\\n0          JBMA        3.11        1.86       -2.95       -2.93        0.28   \n1    ALKYLAMINE        0.00       -0.74       -1.67        0.67       -1.46   \n2          IDEA       -4.13       -4.55        4.10       -1.25       -0.62   \n3         SPARC       -1.96       -3.59        2.63       -0.30       -0.71   \n4    ENGINERSIN       -0.93       -3.36        6.38       -1.18        9.82   \n..          ...         ...         ...         ...         ...         ...   \n461    CHOLAFIN       -0.87        1.66        2.55        1.23        1.24   \n462   EICHERMOT       -1.09       -1.04       -1.00       -0.46        1.20   \n463  SONATSOFTW       -0.70        0.41        0.84        6.42        0.56   \n464      SAFARI       -0.08       -1.19       -1.05        0.38        0.63   \n465        BBTC       -3.88       -0.33        0.15        1.63        3.28   \n\n     2024-01-10  2024-01-09  2024-01-08  2024-01-05  ...  Sales_growth  \\\n0          1.57        0.86       10.93        1.04  ...          9.31   \n1         -1.93        0.17       -3.62       -0.78  ...         17.30   \n2         -0.31       -5.54        0.29        1.79  ...          3.76   \n3         -2.83        0.38       -5.33        9.26  ...          0.00   \n4         -1.28        0.23       -0.15       -0.82  ...          6.82   \n..          ...         ...         ...         ...  ...           ...   \n461       -1.23        0.02       -2.12       -3.04  ...         44.30   \n462       -0.72       -0.36        0.19        0.42  ...         20.30   \n463        0.21        0.55       -2.05        1.45  ...         22.80   \n464       -1.53       -0.32       -1.24        0.63  ...         39.80   \n465       -0.75        0.60       -1.12        0.06  ...          8.91   \n\n     Up_from_52w_low  Industry_PE  No_Eq_Shares  Sales_growth_3Years  \\\n0              292.0         33.2         11.80                25.60   \n1               11.4         34.3          5.11                25.60   \n2              165.0         57.1       4868.00                -2.11   \n3              136.0         38.7         32.40                 0.00   \n4              219.0         38.3         56.20                 0.95   \n..               ...          ...           ...                  ...   \n461             87.9         22.1         84.00                13.90   \n462             30.2         46.9         27.40                16.40   \n463            168.0         39.3         28.00                25.80   \n464            123.0         57.0          4.76                20.90   \n465            104.0         33.2          6.98                11.80   \n\n     Down_from_52w_high   RSI  EPS_latest_quarter  From_52w_high  \\\n0                  5.84  70.7                3.74           0.94   \n1                 15.60  43.0                9.65           0.84   \n2                 18.00  49.4               -1.79           0.82   \n3                 10.50  64.0               -2.66           0.89   \n4                  3.85  72.6                2.27           0.96   \n..                  ...   ...                 ...            ...   \n461                1.40  61.5                9.40           0.99   \n462               12.20  33.6               37.10           0.88   \n463                4.75  63.6                4.43           0.95   \n464               17.90  40.8                8.35           0.82   \n465                6.50  58.2               17.50           0.94   \n\n     Debt_to_equity  \n0              1.93  \n1              0.16  \n2              0.00  \n3              0.04  \n4              0.01  \n..              ...  \n461            7.56  \n462            0.03  \n463            0.35  \n464            0.26  \n465            1.39  \n\n[466 rows x 1501 columns]",
      "text/html": "<div>\n<style scoped>\n    .dataframe tbody tr th:only-of-type {\n        vertical-align: middle;\n    }\n\n    .dataframe tbody tr th {\n        vertical-align: top;\n    }\n\n    .dataframe thead th {\n        text-align: right;\n    }\n</style>\n<table border=\"1\" class=\"dataframe\">\n  <thead>\n    <tr style=\"text-align: right;\">\n      <th></th>\n      <th>company_url</th>\n      <th>2024-01-17</th>\n      <th>2024-01-16</th>\n      <th>2024-01-15</th>\n      <th>2024-01-12</th>\n      <th>2024-01-11</th>\n      <th>2024-01-10</th>\n      <th>2024-01-09</th>\n      <th>2024-01-08</th>\n      <th>2024-01-05</th>\n      <th>...</th>\n      <th>Sales_growth</th>\n      <th>Up_from_52w_low</th>\n      <th>Industry_PE</th>\n      <th>No_Eq_Shares</th>\n      <th>Sales_growth_3Years</th>\n      <th>Down_from_52w_high</th>\n      <th>RSI</th>\n      <th>EPS_latest_quarter</th>\n      <th>From_52w_high</th>\n      <th>Debt_to_equity</th>\n    </tr>\n  </thead>\n  <tbody>\n    <tr>\n      <th>0</th>\n      <td>JBMA</td>\n      <td>3.11</td>\n      <td>1.86</td>\n      <td>-2.95</td>\n      <td>-2.93</td>\n      <td>0.28</td>\n      <td>1.57</td>\n      <td>0.86</td>\n      <td>10.93</td>\n      <td>1.04</td>\n      <td>...</td>\n      <td>9.31</td>\n      <td>292.0</td>\n      <td>33.2</td>\n      <td>11.80</td>\n      <td>25.60</td>\n      <td>5.84</td>\n      <td>70.7</td>\n      <td>3.74</td>\n      <td>0.94</td>\n      <td>1.93</td>\n    </tr>\n    <tr>\n      <th>1</th>\n      <td>ALKYLAMINE</td>\n      <td>0.00</td>\n      <td>-0.74</td>\n      <td>-1.67</td>\n      <td>0.67</td>\n      <td>-1.46</td>\n      <td>-1.93</td>\n      <td>0.17</td>\n      <td>-3.62</td>\n      <td>-0.78</td>\n      <td>...</td>\n      <td>17.30</td>\n      <td>11.4</td>\n      <td>34.3</td>\n      <td>5.11</td>\n      <td>25.60</td>\n      <td>15.60</td>\n      <td>43.0</td>\n      <td>9.65</td>\n      <td>0.84</td>\n      <td>0.16</td>\n    </tr>\n    <tr>\n      <th>2</th>\n      <td>IDEA</td>\n      <td>-4.13</td>\n      <td>-4.55</td>\n      <td>4.10</td>\n      <td>-1.25</td>\n      <td>-0.62</td>\n      <td>-0.31</td>\n      <td>-5.54</td>\n      <td>0.29</td>\n      <td>1.79</td>\n      <td>...</td>\n      <td>3.76</td>\n      <td>165.0</td>\n      <td>57.1</td>\n      <td>4868.00</td>\n      <td>-2.11</td>\n      <td>18.00</td>\n      <td>49.4</td>\n      <td>-1.79</td>\n      <td>0.82</td>\n      <td>0.00</td>\n    </tr>\n    <tr>\n      <th>3</th>\n      <td>SPARC</td>\n      <td>-1.96</td>\n      <td>-3.59</td>\n      <td>2.63</td>\n      <td>-0.30</td>\n      <td>-0.71</td>\n      <td>-2.83</td>\n      <td>0.38</td>\n      <td>-5.33</td>\n      <td>9.26</td>\n      <td>...</td>\n      <td>0.00</td>\n      <td>136.0</td>\n      <td>38.7</td>\n      <td>32.40</td>\n      <td>0.00</td>\n      <td>10.50</td>\n      <td>64.0</td>\n      <td>-2.66</td>\n      <td>0.89</td>\n      <td>0.04</td>\n    </tr>\n    <tr>\n      <th>4</th>\n      <td>ENGINERSIN</td>\n      <td>-0.93</td>\n      <td>-3.36</td>\n      <td>6.38</td>\n      <td>-1.18</td>\n      <td>9.82</td>\n      <td>-1.28</td>\n      <td>0.23</td>\n      <td>-0.15</td>\n      <td>-0.82</td>\n      <td>...</td>\n      <td>6.82</td>\n      <td>219.0</td>\n      <td>38.3</td>\n      <td>56.20</td>\n      <td>0.95</td>\n      <td>3.85</td>\n      <td>72.6</td>\n      <td>2.27</td>\n      <td>0.96</td>\n      <td>0.01</td>\n    </tr>\n    <tr>\n      <th>...</th>\n      <td>...</td>\n      <td>...</td>\n      <td>...</td>\n      <td>...</td>\n      <td>...</td>\n      <td>...</td>\n      <td>...</td>\n      <td>...</td>\n      <td>...</td>\n      <td>...</td>\n      <td>...</td>\n      <td>...</td>\n      <td>...</td>\n      <td>...</td>\n      <td>...</td>\n      <td>...</td>\n      <td>...</td>\n      <td>...</td>\n      <td>...</td>\n      <td>...</td>\n      <td>...</td>\n    </tr>\n    <tr>\n      <th>461</th>\n      <td>CHOLAFIN</td>\n      <td>-0.87</td>\n      <td>1.66</td>\n      <td>2.55</td>\n      <td>1.23</td>\n      <td>1.24</td>\n      <td>-1.23</td>\n      <td>0.02</td>\n      <td>-2.12</td>\n      <td>-3.04</td>\n      <td>...</td>\n      <td>44.30</td>\n      <td>87.9</td>\n      <td>22.1</td>\n      <td>84.00</td>\n      <td>13.90</td>\n      <td>1.40</td>\n      <td>61.5</td>\n      <td>9.40</td>\n      <td>0.99</td>\n      <td>7.56</td>\n    </tr>\n    <tr>\n      <th>462</th>\n      <td>EICHERMOT</td>\n      <td>-1.09</td>\n      <td>-1.04</td>\n      <td>-1.00</td>\n      <td>-0.46</td>\n      <td>1.20</td>\n      <td>-0.72</td>\n      <td>-0.36</td>\n      <td>0.19</td>\n      <td>0.42</td>\n      <td>...</td>\n      <td>20.30</td>\n      <td>30.2</td>\n      <td>46.9</td>\n      <td>27.40</td>\n      <td>16.40</td>\n      <td>12.20</td>\n      <td>33.6</td>\n      <td>37.10</td>\n      <td>0.88</td>\n      <td>0.03</td>\n    </tr>\n    <tr>\n      <th>463</th>\n      <td>SONATSOFTW</td>\n      <td>-0.70</td>\n      <td>0.41</td>\n      <td>0.84</td>\n      <td>6.42</td>\n      <td>0.56</td>\n      <td>0.21</td>\n      <td>0.55</td>\n      <td>-2.05</td>\n      <td>1.45</td>\n      <td>...</td>\n      <td>22.80</td>\n      <td>168.0</td>\n      <td>39.3</td>\n      <td>28.00</td>\n      <td>25.80</td>\n      <td>4.75</td>\n      <td>63.6</td>\n      <td>4.43</td>\n      <td>0.95</td>\n      <td>0.35</td>\n    </tr>\n    <tr>\n      <th>464</th>\n      <td>SAFARI</td>\n      <td>-0.08</td>\n      <td>-1.19</td>\n      <td>-1.05</td>\n      <td>0.38</td>\n      <td>0.63</td>\n      <td>-1.53</td>\n      <td>-0.32</td>\n      <td>-1.24</td>\n      <td>0.63</td>\n      <td>...</td>\n      <td>39.80</td>\n      <td>123.0</td>\n      <td>57.0</td>\n      <td>4.76</td>\n      <td>20.90</td>\n      <td>17.90</td>\n      <td>40.8</td>\n      <td>8.35</td>\n      <td>0.82</td>\n      <td>0.26</td>\n    </tr>\n    <tr>\n      <th>465</th>\n      <td>BBTC</td>\n      <td>-3.88</td>\n      <td>-0.33</td>\n      <td>0.15</td>\n      <td>1.63</td>\n      <td>3.28</td>\n      <td>-0.75</td>\n      <td>0.60</td>\n      <td>-1.12</td>\n      <td>0.06</td>\n      <td>...</td>\n      <td>8.91</td>\n      <td>104.0</td>\n      <td>33.2</td>\n      <td>6.98</td>\n      <td>11.80</td>\n      <td>6.50</td>\n      <td>58.2</td>\n      <td>17.50</td>\n      <td>0.94</td>\n      <td>1.39</td>\n    </tr>\n  </tbody>\n</table>\n<p>466 rows × 1501 columns</p>\n</div>"
     },
     "execution_count": 345,
     "metadata": {},
     "output_type": "execute_result"
    }
   ],
   "source": [
    "merged_df"
   ],
   "metadata": {
    "collapsed": false,
    "pycharm": {
     "name": "#%%\n"
    }
   }
  },
  {
   "cell_type": "code",
   "execution_count": 351,
   "outputs": [
    {
     "data": {
      "text/plain": "    company_url  Market_cap  Current_Price    High     Low    P_E  Book_Value  \\\n0          GSFC     11297.0          284.0   306.0   116.0   10.7       310.0   \n1          JBMA     22355.0         1890.0  2007.0   482.0  163.0        90.1   \n6    ENGINERSIN     12576.0          224.0   232.0    70.0   26.6        38.5   \n7    JUBLPHARMA      8842.0          555.0   598.0   269.0    NaN       340.0   \n10     CIEINDIA     18769.0          494.0   580.0   332.0   24.5       134.0   \n..          ...         ...            ...     ...     ...    ...         ...   \n490         KEI     28344.0         3140.0  3420.0  1466.0   53.6       317.0   \n495       BSOFT     21384.0          778.0   806.0   250.0   56.5        98.9   \n496    CHOLAFIN    108540.0         1292.0  1310.0   688.0   35.9       192.0   \n498  SONATSOFTW     21465.0          766.0   804.0   286.0   45.1        51.4   \n500        BBTC     11091.0         1591.0  1702.0   781.0   41.6       572.0   \n\n     Dividend_Yield   ROCE    ROE  ...  Sales_growth  Up_from_52w_low  \\\n0              3.52  13.10  10.60  ...          8.20            145.0   \n1              0.07  11.80  12.90  ...          9.31            292.0   \n6              1.34  23.70  18.40  ...          6.82            219.0   \n7              0.90   3.13  -6.89  ...         10.30            106.0   \n10             0.00  14.60  -1.65  ...         13.60             48.9   \n..              ...    ...    ...  ...           ...              ...   \n490            0.10  25.80  20.20  ...         14.40            114.0   \n495            0.45  17.20  12.90  ...         11.10            211.0   \n496            0.15   9.72  20.40  ...         44.30             87.9   \n498            1.03  39.10  37.70  ...         22.80            168.0   \n500            0.08  15.50 -70.00  ...          8.91            104.0   \n\n     Industry_PE  No_Eq_Shares  Sales_growth_3Years  Down_from_52w_high   RSI  \\\n0           26.6         39.80                13.40                7.27  65.3   \n1           33.2         11.80                25.60                5.84  70.7   \n6           38.3         56.20                 0.95                3.85  72.6   \n7           39.6         15.90                 1.68                7.27  56.5   \n10          28.4         37.90                 3.44               14.80  57.7   \n..           ...           ...                  ...                 ...   ...   \n490         40.1          9.02                12.20                8.18  53.7   \n495         39.3         27.60                13.40                3.49  67.6   \n496         22.1         84.00                13.90                1.40  61.5   \n498         39.3         28.00                25.80                4.75  63.6   \n500         33.2          6.98                11.80                6.50  58.2   \n\n     EPS_latest_quarter  From_52w_high  Debt_to_equity  \n0                  7.75           0.93            0.00  \n1                  3.74           0.94            1.93  \n6                  2.27           0.96            0.01  \n7                  3.92           0.93            0.68  \n10                 9.90           0.85            0.19  \n..                  ...            ...             ...  \n490               15.50           0.92            0.07  \n495                5.27           0.97            0.03  \n496                9.40           0.99            7.56  \n498                4.43           0.95            0.35  \n500               17.50           0.94            1.39  \n\n[231 rows x 21 columns]",
      "text/html": "<div>\n<style scoped>\n    .dataframe tbody tr th:only-of-type {\n        vertical-align: middle;\n    }\n\n    .dataframe tbody tr th {\n        vertical-align: top;\n    }\n\n    .dataframe thead th {\n        text-align: right;\n    }\n</style>\n<table border=\"1\" class=\"dataframe\">\n  <thead>\n    <tr style=\"text-align: right;\">\n      <th></th>\n      <th>company_url</th>\n      <th>Market_cap</th>\n      <th>Current_Price</th>\n      <th>High</th>\n      <th>Low</th>\n      <th>P_E</th>\n      <th>Book_Value</th>\n      <th>Dividend_Yield</th>\n      <th>ROCE</th>\n      <th>ROE</th>\n      <th>...</th>\n      <th>Sales_growth</th>\n      <th>Up_from_52w_low</th>\n      <th>Industry_PE</th>\n      <th>No_Eq_Shares</th>\n      <th>Sales_growth_3Years</th>\n      <th>Down_from_52w_high</th>\n      <th>RSI</th>\n      <th>EPS_latest_quarter</th>\n      <th>From_52w_high</th>\n      <th>Debt_to_equity</th>\n    </tr>\n  </thead>\n  <tbody>\n    <tr>\n      <th>0</th>\n      <td>GSFC</td>\n      <td>11297.0</td>\n      <td>284.0</td>\n      <td>306.0</td>\n      <td>116.0</td>\n      <td>10.7</td>\n      <td>310.0</td>\n      <td>3.52</td>\n      <td>13.10</td>\n      <td>10.60</td>\n      <td>...</td>\n      <td>8.20</td>\n      <td>145.0</td>\n      <td>26.6</td>\n      <td>39.80</td>\n      <td>13.40</td>\n      <td>7.27</td>\n      <td>65.3</td>\n      <td>7.75</td>\n      <td>0.93</td>\n      <td>0.00</td>\n    </tr>\n    <tr>\n      <th>1</th>\n      <td>JBMA</td>\n      <td>22355.0</td>\n      <td>1890.0</td>\n      <td>2007.0</td>\n      <td>482.0</td>\n      <td>163.0</td>\n      <td>90.1</td>\n      <td>0.07</td>\n      <td>11.80</td>\n      <td>12.90</td>\n      <td>...</td>\n      <td>9.31</td>\n      <td>292.0</td>\n      <td>33.2</td>\n      <td>11.80</td>\n      <td>25.60</td>\n      <td>5.84</td>\n      <td>70.7</td>\n      <td>3.74</td>\n      <td>0.94</td>\n      <td>1.93</td>\n    </tr>\n    <tr>\n      <th>6</th>\n      <td>ENGINERSIN</td>\n      <td>12576.0</td>\n      <td>224.0</td>\n      <td>232.0</td>\n      <td>70.0</td>\n      <td>26.6</td>\n      <td>38.5</td>\n      <td>1.34</td>\n      <td>23.70</td>\n      <td>18.40</td>\n      <td>...</td>\n      <td>6.82</td>\n      <td>219.0</td>\n      <td>38.3</td>\n      <td>56.20</td>\n      <td>0.95</td>\n      <td>3.85</td>\n      <td>72.6</td>\n      <td>2.27</td>\n      <td>0.96</td>\n      <td>0.01</td>\n    </tr>\n    <tr>\n      <th>7</th>\n      <td>JUBLPHARMA</td>\n      <td>8842.0</td>\n      <td>555.0</td>\n      <td>598.0</td>\n      <td>269.0</td>\n      <td>NaN</td>\n      <td>340.0</td>\n      <td>0.90</td>\n      <td>3.13</td>\n      <td>-6.89</td>\n      <td>...</td>\n      <td>10.30</td>\n      <td>106.0</td>\n      <td>39.6</td>\n      <td>15.90</td>\n      <td>1.68</td>\n      <td>7.27</td>\n      <td>56.5</td>\n      <td>3.92</td>\n      <td>0.93</td>\n      <td>0.68</td>\n    </tr>\n    <tr>\n      <th>10</th>\n      <td>CIEINDIA</td>\n      <td>18769.0</td>\n      <td>494.0</td>\n      <td>580.0</td>\n      <td>332.0</td>\n      <td>24.5</td>\n      <td>134.0</td>\n      <td>0.00</td>\n      <td>14.60</td>\n      <td>-1.65</td>\n      <td>...</td>\n      <td>13.60</td>\n      <td>48.9</td>\n      <td>28.4</td>\n      <td>37.90</td>\n      <td>3.44</td>\n      <td>14.80</td>\n      <td>57.7</td>\n      <td>9.90</td>\n      <td>0.85</td>\n      <td>0.19</td>\n    </tr>\n    <tr>\n      <th>...</th>\n      <td>...</td>\n      <td>...</td>\n      <td>...</td>\n      <td>...</td>\n      <td>...</td>\n      <td>...</td>\n      <td>...</td>\n      <td>...</td>\n      <td>...</td>\n      <td>...</td>\n      <td>...</td>\n      <td>...</td>\n      <td>...</td>\n      <td>...</td>\n      <td>...</td>\n      <td>...</td>\n      <td>...</td>\n      <td>...</td>\n      <td>...</td>\n      <td>...</td>\n      <td>...</td>\n    </tr>\n    <tr>\n      <th>490</th>\n      <td>KEI</td>\n      <td>28344.0</td>\n      <td>3140.0</td>\n      <td>3420.0</td>\n      <td>1466.0</td>\n      <td>53.6</td>\n      <td>317.0</td>\n      <td>0.10</td>\n      <td>25.80</td>\n      <td>20.20</td>\n      <td>...</td>\n      <td>14.40</td>\n      <td>114.0</td>\n      <td>40.1</td>\n      <td>9.02</td>\n      <td>12.20</td>\n      <td>8.18</td>\n      <td>53.7</td>\n      <td>15.50</td>\n      <td>0.92</td>\n      <td>0.07</td>\n    </tr>\n    <tr>\n      <th>495</th>\n      <td>BSOFT</td>\n      <td>21384.0</td>\n      <td>778.0</td>\n      <td>806.0</td>\n      <td>250.0</td>\n      <td>56.5</td>\n      <td>98.9</td>\n      <td>0.45</td>\n      <td>17.20</td>\n      <td>12.90</td>\n      <td>...</td>\n      <td>11.10</td>\n      <td>211.0</td>\n      <td>39.3</td>\n      <td>27.60</td>\n      <td>13.40</td>\n      <td>3.49</td>\n      <td>67.6</td>\n      <td>5.27</td>\n      <td>0.97</td>\n      <td>0.03</td>\n    </tr>\n    <tr>\n      <th>496</th>\n      <td>CHOLAFIN</td>\n      <td>108540.0</td>\n      <td>1292.0</td>\n      <td>1310.0</td>\n      <td>688.0</td>\n      <td>35.9</td>\n      <td>192.0</td>\n      <td>0.15</td>\n      <td>9.72</td>\n      <td>20.40</td>\n      <td>...</td>\n      <td>44.30</td>\n      <td>87.9</td>\n      <td>22.1</td>\n      <td>84.00</td>\n      <td>13.90</td>\n      <td>1.40</td>\n      <td>61.5</td>\n      <td>9.40</td>\n      <td>0.99</td>\n      <td>7.56</td>\n    </tr>\n    <tr>\n      <th>498</th>\n      <td>SONATSOFTW</td>\n      <td>21465.0</td>\n      <td>766.0</td>\n      <td>804.0</td>\n      <td>286.0</td>\n      <td>45.1</td>\n      <td>51.4</td>\n      <td>1.03</td>\n      <td>39.10</td>\n      <td>37.70</td>\n      <td>...</td>\n      <td>22.80</td>\n      <td>168.0</td>\n      <td>39.3</td>\n      <td>28.00</td>\n      <td>25.80</td>\n      <td>4.75</td>\n      <td>63.6</td>\n      <td>4.43</td>\n      <td>0.95</td>\n      <td>0.35</td>\n    </tr>\n    <tr>\n      <th>500</th>\n      <td>BBTC</td>\n      <td>11091.0</td>\n      <td>1591.0</td>\n      <td>1702.0</td>\n      <td>781.0</td>\n      <td>41.6</td>\n      <td>572.0</td>\n      <td>0.08</td>\n      <td>15.50</td>\n      <td>-70.00</td>\n      <td>...</td>\n      <td>8.91</td>\n      <td>104.0</td>\n      <td>33.2</td>\n      <td>6.98</td>\n      <td>11.80</td>\n      <td>6.50</td>\n      <td>58.2</td>\n      <td>17.50</td>\n      <td>0.94</td>\n      <td>1.39</td>\n    </tr>\n  </tbody>\n</table>\n<p>231 rows × 21 columns</p>\n</div>"
     },
     "execution_count": 351,
     "metadata": {},
     "output_type": "execute_result"
    }
   ],
   "source": [
    "df13[(df13[\"Sales_growth\"]>0) & (df13[\"RSI\"]>50)]"
   ],
   "metadata": {
    "collapsed": false,
    "pycharm": {
     "name": "#%%\n"
    }
   }
  },
  {
   "cell_type": "code",
   "execution_count": 1,
   "outputs": [
    {
     "name": "stdout",
     "output_type": "stream",
     "text": [
      "avijit\n"
     ]
    }
   ],
   "source": [
    "print('avijit')"
   ],
   "metadata": {
    "collapsed": false,
    "pycharm": {
     "name": "#%%\n"
    }
   }
  },
  {
   "cell_type": "code",
   "execution_count": null,
   "outputs": [],
   "source": [
    "Given an array of integers, rotate array to right k steps, where k is non-negative integer\n",
    "Input: nums = [1,2,3,4,5,6,7], k = 3\n",
    "Output: [5,6,7,1,2,3,4]"
   ],
   "metadata": {
    "collapsed": false,
    "pycharm": {
     "name": "#%%\n"
    }
   }
  },
  {
   "cell_type": "code",
   "execution_count": 14,
   "outputs": [
    {
     "name": "stdout",
     "output_type": "stream",
     "text": [
      "[4, 5, 6, 7, 1, 2, 3]\n"
     ]
    }
   ],
   "source": [
    "nums = [1,2,3,4,5,6,7]\n",
    "k=4\n",
    "n=len(nums)\n",
    "output=[]\n",
    "\n",
    "for i in range(n-k,n):\n",
    "    output.append(nums[i])\n",
    "for i in range(0,n-k):\n",
    "    output.append(nums[i])\n",
    "print(output)"
   ],
   "metadata": {
    "collapsed": false,
    "pycharm": {
     "name": "#%%\n"
    }
   }
  },
  {
   "cell_type": "code",
   "execution_count": null,
   "outputs": [],
   "source": [],
   "metadata": {
    "collapsed": false,
    "pycharm": {
     "name": "#%%\n"
    }
   }
  }
 ],
 "metadata": {
  "kernelspec": {
   "display_name": "Python 3",
   "language": "python",
   "name": "python3"
  },
  "language_info": {
   "codemirror_mode": {
    "name": "ipython",
    "version": 2
   },
   "file_extension": ".py",
   "mimetype": "text/x-python",
   "name": "python",
   "nbconvert_exporter": "python",
   "pygments_lexer": "ipython2",
   "version": "2.7.6"
  }
 },
 "nbformat": 4,
 "nbformat_minor": 0
}