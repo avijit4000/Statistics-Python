{
 "cells": [
  {
   "cell_type": "code",
   "execution_count": 1,
   "metadata": {
    "collapsed": true,
    "pycharm": {
     "name": "#%%\n"
    }
   },
   "outputs": [],
   "source": [
    "import pandas as pd"
   ]
  },
  {
   "cell_type": "code",
   "execution_count": 2,
   "outputs": [],
   "source": [
    "df=pd.read_csv(r\"D:\\Pyn\\online learning\\INURAN_DATA\\FSDS_September\\TEST_WORK\\STOCKS\\scrneer\\comalltest20240216.csv\")"
   ],
   "metadata": {
    "collapsed": false,
    "pycharm": {
     "name": "#%%\n"
    }
   }
  },
  {
   "cell_type": "code",
   "execution_count": 3,
   "outputs": [
    {
     "data": {
      "text/plain": "                                         company_url Market_cap Current_Price  \\\n0  https://www.screener.in/company/GSFC/consolida...      9,687           243   \n1  https://www.screener.in/company/JBMA/consolida...     24,143         2,042   \n2  https://www.screener.in/company/ALKYLAMINE/con...     11,410         2,232   \n3  https://www.screener.in/company/CASTROLIND/con...        NaN           NaN   \n4  https://www.screener.in/company/IDEA/consolida...     78,764          16.2   \n\n    High    Low   P_E Book_Value  Dividend_Yield  ROCE   ROE  ...  \\\n0    322    116  12.7        310            4.11  13.1  10.6  ...   \n1  2,208    520   160       90.1            0.06  11.8  12.9  ...   \n2  2,798  2,119  60.2        105            0.46  41.3  41.4  ...   \n3    NaN    NaN   NaN        NaN             NaN   NaN   NaN  ...   \n4   18.4   5.70   NaN      -18.7            0.00   NaN   NaN  ...   \n\n   Up_from_52w_low  Industry_PE  No_Eq_Shares  Sales_growth_3Years  \\\n0           110.00         27.3          39.8                13.40   \n1           293.00         30.0          11.8                25.60   \n2             5.33         34.0          5.11                25.60   \n3             0.00          0.0             0                 0.00   \n4           184.00         54.4         4,868                -2.11   \n\n  Down_from_52w_high   RSI  EPS_latest_quarter  From_52w_high Debt_to_equity  \\\n0              24.60  38.6                2.96           0.75           0.00   \n1               7.53  63.1                4.12           0.92           1.93   \n2              20.20  38.9                9.65           0.80           0.16   \n3               0.00   0.0                   0           0.00           0.00   \n4              12.20  59.1               -1.44           0.88            NaN   \n\n   Intrinsic_Value  \n0              429  \n1              239  \n2              622  \n3                0  \n4              NaN  \n\n[5 rows x 22 columns]",
      "text/html": "<div>\n<style scoped>\n    .dataframe tbody tr th:only-of-type {\n        vertical-align: middle;\n    }\n\n    .dataframe tbody tr th {\n        vertical-align: top;\n    }\n\n    .dataframe thead th {\n        text-align: right;\n    }\n</style>\n<table border=\"1\" class=\"dataframe\">\n  <thead>\n    <tr style=\"text-align: right;\">\n      <th></th>\n      <th>company_url</th>\n      <th>Market_cap</th>\n      <th>Current_Price</th>\n      <th>High</th>\n      <th>Low</th>\n      <th>P_E</th>\n      <th>Book_Value</th>\n      <th>Dividend_Yield</th>\n      <th>ROCE</th>\n      <th>ROE</th>\n      <th>...</th>\n      <th>Up_from_52w_low</th>\n      <th>Industry_PE</th>\n      <th>No_Eq_Shares</th>\n      <th>Sales_growth_3Years</th>\n      <th>Down_from_52w_high</th>\n      <th>RSI</th>\n      <th>EPS_latest_quarter</th>\n      <th>From_52w_high</th>\n      <th>Debt_to_equity</th>\n      <th>Intrinsic_Value</th>\n    </tr>\n  </thead>\n  <tbody>\n    <tr>\n      <th>0</th>\n      <td>https://www.screener.in/company/GSFC/consolida...</td>\n      <td>9,687</td>\n      <td>243</td>\n      <td>322</td>\n      <td>116</td>\n      <td>12.7</td>\n      <td>310</td>\n      <td>4.11</td>\n      <td>13.1</td>\n      <td>10.6</td>\n      <td>...</td>\n      <td>110.00</td>\n      <td>27.3</td>\n      <td>39.8</td>\n      <td>13.40</td>\n      <td>24.60</td>\n      <td>38.6</td>\n      <td>2.96</td>\n      <td>0.75</td>\n      <td>0.00</td>\n      <td>429</td>\n    </tr>\n    <tr>\n      <th>1</th>\n      <td>https://www.screener.in/company/JBMA/consolida...</td>\n      <td>24,143</td>\n      <td>2,042</td>\n      <td>2,208</td>\n      <td>520</td>\n      <td>160</td>\n      <td>90.1</td>\n      <td>0.06</td>\n      <td>11.8</td>\n      <td>12.9</td>\n      <td>...</td>\n      <td>293.00</td>\n      <td>30.0</td>\n      <td>11.8</td>\n      <td>25.60</td>\n      <td>7.53</td>\n      <td>63.1</td>\n      <td>4.12</td>\n      <td>0.92</td>\n      <td>1.93</td>\n      <td>239</td>\n    </tr>\n    <tr>\n      <th>2</th>\n      <td>https://www.screener.in/company/ALKYLAMINE/con...</td>\n      <td>11,410</td>\n      <td>2,232</td>\n      <td>2,798</td>\n      <td>2,119</td>\n      <td>60.2</td>\n      <td>105</td>\n      <td>0.46</td>\n      <td>41.3</td>\n      <td>41.4</td>\n      <td>...</td>\n      <td>5.33</td>\n      <td>34.0</td>\n      <td>5.11</td>\n      <td>25.60</td>\n      <td>20.20</td>\n      <td>38.9</td>\n      <td>9.65</td>\n      <td>0.80</td>\n      <td>0.16</td>\n      <td>622</td>\n    </tr>\n    <tr>\n      <th>3</th>\n      <td>https://www.screener.in/company/CASTROLIND/con...</td>\n      <td>NaN</td>\n      <td>NaN</td>\n      <td>NaN</td>\n      <td>NaN</td>\n      <td>NaN</td>\n      <td>NaN</td>\n      <td>NaN</td>\n      <td>NaN</td>\n      <td>NaN</td>\n      <td>...</td>\n      <td>0.00</td>\n      <td>0.0</td>\n      <td>0</td>\n      <td>0.00</td>\n      <td>0.00</td>\n      <td>0.0</td>\n      <td>0</td>\n      <td>0.00</td>\n      <td>0.00</td>\n      <td>0</td>\n    </tr>\n    <tr>\n      <th>4</th>\n      <td>https://www.screener.in/company/IDEA/consolida...</td>\n      <td>78,764</td>\n      <td>16.2</td>\n      <td>18.4</td>\n      <td>5.70</td>\n      <td>NaN</td>\n      <td>-18.7</td>\n      <td>0.00</td>\n      <td>NaN</td>\n      <td>NaN</td>\n      <td>...</td>\n      <td>184.00</td>\n      <td>54.4</td>\n      <td>4,868</td>\n      <td>-2.11</td>\n      <td>12.20</td>\n      <td>59.1</td>\n      <td>-1.44</td>\n      <td>0.88</td>\n      <td>NaN</td>\n      <td>NaN</td>\n    </tr>\n  </tbody>\n</table>\n<p>5 rows × 22 columns</p>\n</div>"
     },
     "execution_count": 3,
     "metadata": {},
     "output_type": "execute_result"
    }
   ],
   "source": [
    "df.head(5)"
   ],
   "metadata": {
    "collapsed": false,
    "pycharm": {
     "name": "#%%\n"
    }
   }
  },
  {
   "cell_type": "code",
   "execution_count": 4,
   "outputs": [],
   "source": [
    "newdata=pd.read_csv(r\"D:\\Pyn\\online learning\\INURAN_DATA\\FSDS_September\\TEST_WORK\\STOCKS\\data_analysis\\allcompaneyalldata.csv\")"
   ],
   "metadata": {
    "collapsed": false,
    "pycharm": {
     "name": "#%%\n"
    }
   }
  },
  {
   "cell_type": "code",
   "execution_count": 5,
   "outputs": [
    {
     "data": {
      "text/plain": "   Unnamed: 0                   Company_Type      Company_name  \\\n0           0  Alcoholic Beverages companies    United Spirits   \n1           1  Alcoholic Beverages companies  United Breweries   \n2           2  Alcoholic Beverages companies    Radico Khaitan   \n3           3  Alcoholic Beverages companies  Tilaknagar Inds.   \n4           4  Alcoholic Beverages companies    Sula Vineyards   \n\n                                        Company_link Market_cap Current_Price  \\\n0  https://www.screener.in/company/MCDOWELL-N/con...     81,300         1,118   \n1  https://www.screener.in/company/UBL/consolidated/     47,199         1,785   \n2            https://www.screener.in/company/RADICO/     22,172         1,658   \n3   https://www.screener.in/company/TI/consolidated/      4,635           241   \n4              https://www.screener.in/company/SULA/      4,207           498   \n\n    High    Low   P_E Book_Value  ... Up_from_52w_low Industry_PE  \\\n0  1,124    731  63.3       93.6  ...            53.0        31.6   \n1  1,790  1,342   166        152  ...            33.0        31.6   \n2  1,885  1,008   101        168  ...            64.5        31.6   \n3    291   95.5  40.3       29.7  ...             152        31.6   \n4    535    316  44.0       65.5  ...            58.0        31.6   \n\n  No_Eq_Shares Sales_growth_3Years Down_from_52w_high   RSI  \\\n0         72.7                4.40               0.55  65.8   \n1         26.4                4.84               0.26  70.9   \n2         13.4                9.38              12.00  61.2   \n3         19.2                21.3              17.30  42.0   \n4         8.44                8.39               6.82  65.6   \n\n  EPS_latest_quarter From_52w_high Debt_to_equity  Tiker_name  \n0               4.66          0.99           0.03  MCDOWELL-N  \n1               4.06          1.00           0.00         UBL  \n2               4.63          0.88           0.39      RADICO  \n3               1.93          0.83           0.33          TI  \n4               2.79          0.93           0.47        SULA  \n\n[5 rows x 25 columns]",
      "text/html": "<div>\n<style scoped>\n    .dataframe tbody tr th:only-of-type {\n        vertical-align: middle;\n    }\n\n    .dataframe tbody tr th {\n        vertical-align: top;\n    }\n\n    .dataframe thead th {\n        text-align: right;\n    }\n</style>\n<table border=\"1\" class=\"dataframe\">\n  <thead>\n    <tr style=\"text-align: right;\">\n      <th></th>\n      <th>Unnamed: 0</th>\n      <th>Company_Type</th>\n      <th>Company_name</th>\n      <th>Company_link</th>\n      <th>Market_cap</th>\n      <th>Current_Price</th>\n      <th>High</th>\n      <th>Low</th>\n      <th>P_E</th>\n      <th>Book_Value</th>\n      <th>...</th>\n      <th>Up_from_52w_low</th>\n      <th>Industry_PE</th>\n      <th>No_Eq_Shares</th>\n      <th>Sales_growth_3Years</th>\n      <th>Down_from_52w_high</th>\n      <th>RSI</th>\n      <th>EPS_latest_quarter</th>\n      <th>From_52w_high</th>\n      <th>Debt_to_equity</th>\n      <th>Tiker_name</th>\n    </tr>\n  </thead>\n  <tbody>\n    <tr>\n      <th>0</th>\n      <td>0</td>\n      <td>Alcoholic Beverages companies</td>\n      <td>United Spirits</td>\n      <td>https://www.screener.in/company/MCDOWELL-N/con...</td>\n      <td>81,300</td>\n      <td>1,118</td>\n      <td>1,124</td>\n      <td>731</td>\n      <td>63.3</td>\n      <td>93.6</td>\n      <td>...</td>\n      <td>53.0</td>\n      <td>31.6</td>\n      <td>72.7</td>\n      <td>4.40</td>\n      <td>0.55</td>\n      <td>65.8</td>\n      <td>4.66</td>\n      <td>0.99</td>\n      <td>0.03</td>\n      <td>MCDOWELL-N</td>\n    </tr>\n    <tr>\n      <th>1</th>\n      <td>1</td>\n      <td>Alcoholic Beverages companies</td>\n      <td>United Breweries</td>\n      <td>https://www.screener.in/company/UBL/consolidated/</td>\n      <td>47,199</td>\n      <td>1,785</td>\n      <td>1,790</td>\n      <td>1,342</td>\n      <td>166</td>\n      <td>152</td>\n      <td>...</td>\n      <td>33.0</td>\n      <td>31.6</td>\n      <td>26.4</td>\n      <td>4.84</td>\n      <td>0.26</td>\n      <td>70.9</td>\n      <td>4.06</td>\n      <td>1.00</td>\n      <td>0.00</td>\n      <td>UBL</td>\n    </tr>\n    <tr>\n      <th>2</th>\n      <td>2</td>\n      <td>Alcoholic Beverages companies</td>\n      <td>Radico Khaitan</td>\n      <td>https://www.screener.in/company/RADICO/</td>\n      <td>22,172</td>\n      <td>1,658</td>\n      <td>1,885</td>\n      <td>1,008</td>\n      <td>101</td>\n      <td>168</td>\n      <td>...</td>\n      <td>64.5</td>\n      <td>31.6</td>\n      <td>13.4</td>\n      <td>9.38</td>\n      <td>12.00</td>\n      <td>61.2</td>\n      <td>4.63</td>\n      <td>0.88</td>\n      <td>0.39</td>\n      <td>RADICO</td>\n    </tr>\n    <tr>\n      <th>3</th>\n      <td>3</td>\n      <td>Alcoholic Beverages companies</td>\n      <td>Tilaknagar Inds.</td>\n      <td>https://www.screener.in/company/TI/consolidated/</td>\n      <td>4,635</td>\n      <td>241</td>\n      <td>291</td>\n      <td>95.5</td>\n      <td>40.3</td>\n      <td>29.7</td>\n      <td>...</td>\n      <td>152</td>\n      <td>31.6</td>\n      <td>19.2</td>\n      <td>21.3</td>\n      <td>17.30</td>\n      <td>42.0</td>\n      <td>1.93</td>\n      <td>0.83</td>\n      <td>0.33</td>\n      <td>TI</td>\n    </tr>\n    <tr>\n      <th>4</th>\n      <td>4</td>\n      <td>Alcoholic Beverages companies</td>\n      <td>Sula Vineyards</td>\n      <td>https://www.screener.in/company/SULA/</td>\n      <td>4,207</td>\n      <td>498</td>\n      <td>535</td>\n      <td>316</td>\n      <td>44.0</td>\n      <td>65.5</td>\n      <td>...</td>\n      <td>58.0</td>\n      <td>31.6</td>\n      <td>8.44</td>\n      <td>8.39</td>\n      <td>6.82</td>\n      <td>65.6</td>\n      <td>2.79</td>\n      <td>0.93</td>\n      <td>0.47</td>\n      <td>SULA</td>\n    </tr>\n  </tbody>\n</table>\n<p>5 rows × 25 columns</p>\n</div>"
     },
     "execution_count": 5,
     "metadata": {},
     "output_type": "execute_result"
    }
   ],
   "source": [
    "newdata.head()"
   ],
   "metadata": {
    "collapsed": false,
    "pycharm": {
     "name": "#%%\n"
    }
   }
  },
  {
   "cell_type": "code",
   "execution_count": 6,
   "outputs": [],
   "source": [
    "name=pd.read_csv(\"D:\\Pyn\\online learning\\INURAN_DATA\\FSDS_September\\TEST_WORK\\STOCKS\\scrneer\\companynamewithlist.csv\")"
   ],
   "metadata": {
    "collapsed": false,
    "pycharm": {
     "name": "#%%\n"
    }
   }
  },
  {
   "cell_type": "code",
   "execution_count": 7,
   "outputs": [
    {
     "data": {
      "text/plain": "                    type_of_company      company_name  \\\n0     Alcoholic Beverages companies    United Spirits   \n1     Alcoholic Beverages companies  United Breweries   \n2     Alcoholic Beverages companies    Radico Khaitan   \n3     Alcoholic Beverages companies  Tilaknagar Inds.   \n4     Alcoholic Beverages companies    Sula Vineyards   \n...                             ...               ...   \n3587                Tyres companies     TVS Srichakra   \n3588                Tyres companies    Goodyear India   \n3589                Tyres companies    Dolfin Rubbers   \n3590                Tyres companies  Krypton Industri   \n3591                Tyres companies  Innovative Tyres   \n\n                                           company_link  \n0     https://www.screener.in/company/MCDOWELL-N/con...  \n1     https://www.screener.in/company/UBL/consolidated/  \n2               https://www.screener.in/company/RADICO/  \n3      https://www.screener.in/company/TI/consolidated/  \n4                 https://www.screener.in/company/SULA/  \n...                                                 ...  \n3587  https://www.screener.in/company/TVSSRICHAK/con...  \n3588          https://www.screener.in/company/GOODYEAR/  \n3589            https://www.screener.in/company/542013/  \n3590  https://www.screener.in/company/523550/consoli...  \n3591        https://www.screener.in/company/INNOVATIVE/  \n\n[3592 rows x 3 columns]",
      "text/html": "<div>\n<style scoped>\n    .dataframe tbody tr th:only-of-type {\n        vertical-align: middle;\n    }\n\n    .dataframe tbody tr th {\n        vertical-align: top;\n    }\n\n    .dataframe thead th {\n        text-align: right;\n    }\n</style>\n<table border=\"1\" class=\"dataframe\">\n  <thead>\n    <tr style=\"text-align: right;\">\n      <th></th>\n      <th>type_of_company</th>\n      <th>company_name</th>\n      <th>company_link</th>\n    </tr>\n  </thead>\n  <tbody>\n    <tr>\n      <th>0</th>\n      <td>Alcoholic Beverages companies</td>\n      <td>United Spirits</td>\n      <td>https://www.screener.in/company/MCDOWELL-N/con...</td>\n    </tr>\n    <tr>\n      <th>1</th>\n      <td>Alcoholic Beverages companies</td>\n      <td>United Breweries</td>\n      <td>https://www.screener.in/company/UBL/consolidated/</td>\n    </tr>\n    <tr>\n      <th>2</th>\n      <td>Alcoholic Beverages companies</td>\n      <td>Radico Khaitan</td>\n      <td>https://www.screener.in/company/RADICO/</td>\n    </tr>\n    <tr>\n      <th>3</th>\n      <td>Alcoholic Beverages companies</td>\n      <td>Tilaknagar Inds.</td>\n      <td>https://www.screener.in/company/TI/consolidated/</td>\n    </tr>\n    <tr>\n      <th>4</th>\n      <td>Alcoholic Beverages companies</td>\n      <td>Sula Vineyards</td>\n      <td>https://www.screener.in/company/SULA/</td>\n    </tr>\n    <tr>\n      <th>...</th>\n      <td>...</td>\n      <td>...</td>\n      <td>...</td>\n    </tr>\n    <tr>\n      <th>3587</th>\n      <td>Tyres companies</td>\n      <td>TVS Srichakra</td>\n      <td>https://www.screener.in/company/TVSSRICHAK/con...</td>\n    </tr>\n    <tr>\n      <th>3588</th>\n      <td>Tyres companies</td>\n      <td>Goodyear India</td>\n      <td>https://www.screener.in/company/GOODYEAR/</td>\n    </tr>\n    <tr>\n      <th>3589</th>\n      <td>Tyres companies</td>\n      <td>Dolfin Rubbers</td>\n      <td>https://www.screener.in/company/542013/</td>\n    </tr>\n    <tr>\n      <th>3590</th>\n      <td>Tyres companies</td>\n      <td>Krypton Industri</td>\n      <td>https://www.screener.in/company/523550/consoli...</td>\n    </tr>\n    <tr>\n      <th>3591</th>\n      <td>Tyres companies</td>\n      <td>Innovative Tyres</td>\n      <td>https://www.screener.in/company/INNOVATIVE/</td>\n    </tr>\n  </tbody>\n</table>\n<p>3592 rows × 3 columns</p>\n</div>"
     },
     "execution_count": 7,
     "metadata": {},
     "output_type": "execute_result"
    }
   ],
   "source": [
    "name"
   ],
   "metadata": {
    "collapsed": false,
    "pycharm": {
     "name": "#%%\n"
    }
   }
  },
  {
   "cell_type": "code",
   "execution_count": 9,
   "outputs": [],
   "source": [
    "import yfinance as yf"
   ],
   "metadata": {
    "collapsed": false,
    "pycharm": {
     "name": "#%%\n"
    }
   }
  },
  {
   "cell_type": "code",
   "execution_count": 8,
   "outputs": [],
   "source": [
    "df_sh = {}\n",
    "for symbol in tiker_name:\n",
    "    try:\n",
    "        df_sh[symbol] = yf.download(symbol,start=\"2018-01-18\",end=\"2024-01-18\",interval=\"1d\")\n",
    "        df_sh[symbol]['Daily_Return'] = df_sh[symbol]['Close'].pct_change()\n",
    "    except:\n",
    "        pass\n",
    "        # df_sh[symbol] = df_sh[symbol]['Daily_Return'].resample('M').apply(lambda x: (x + 1).prod() - 1)\n",
    "    # except Exception as e:\n",
    "        # print(f\"Error fetching data for {symbol}: {e}\")\n",
    "all_stock_returns = pd.DataFrame()\n",
    "# for symbol in df_sh.keys():\n",
    "#     all_stock_returns[symbol] = df_sh[symbol]\n",
    "for symbol in df_sh.keys():\n",
    "    all_stock_returns[symbol] = df_sh[symbol]['Daily_Return']"
   ],
   "metadata": {
    "collapsed": false,
    "pycharm": {
     "name": "#%%\n"
    }
   }
  },
  {
   "cell_type": "code",
   "execution_count": 10,
   "outputs": [],
   "source": [
    "company=pd.read_csv(\"D:\\Pyn\\online learning\\FINAL_DATA\\SCRNER_DATA\\companynamewithlist.csv\")"
   ],
   "metadata": {
    "collapsed": false,
    "pycharm": {
     "name": "#%%\n"
    }
   }
  },
  {
   "cell_type": "code",
   "execution_count": 11,
   "outputs": [
    {
     "data": {
      "text/plain": "                    type_of_company      company_name  \\\n0     Alcoholic Beverages companies    United Spirits   \n1     Alcoholic Beverages companies  United Breweries   \n2     Alcoholic Beverages companies    Radico Khaitan   \n3     Alcoholic Beverages companies  Tilaknagar Inds.   \n4     Alcoholic Beverages companies    Sula Vineyards   \n...                             ...               ...   \n3587                Tyres companies     TVS Srichakra   \n3588                Tyres companies    Goodyear India   \n3589                Tyres companies    Dolfin Rubbers   \n3590                Tyres companies  Krypton Industri   \n3591                Tyres companies  Innovative Tyres   \n\n                                           company_link  \n0     https://www.screener.in/company/MCDOWELL-N/con...  \n1     https://www.screener.in/company/UBL/consolidated/  \n2               https://www.screener.in/company/RADICO/  \n3      https://www.screener.in/company/TI/consolidated/  \n4                 https://www.screener.in/company/SULA/  \n...                                                 ...  \n3587  https://www.screener.in/company/TVSSRICHAK/con...  \n3588          https://www.screener.in/company/GOODYEAR/  \n3589            https://www.screener.in/company/542013/  \n3590  https://www.screener.in/company/523550/consoli...  \n3591        https://www.screener.in/company/INNOVATIVE/  \n\n[3592 rows x 3 columns]",
      "text/html": "<div>\n<style scoped>\n    .dataframe tbody tr th:only-of-type {\n        vertical-align: middle;\n    }\n\n    .dataframe tbody tr th {\n        vertical-align: top;\n    }\n\n    .dataframe thead th {\n        text-align: right;\n    }\n</style>\n<table border=\"1\" class=\"dataframe\">\n  <thead>\n    <tr style=\"text-align: right;\">\n      <th></th>\n      <th>type_of_company</th>\n      <th>company_name</th>\n      <th>company_link</th>\n    </tr>\n  </thead>\n  <tbody>\n    <tr>\n      <th>0</th>\n      <td>Alcoholic Beverages companies</td>\n      <td>United Spirits</td>\n      <td>https://www.screener.in/company/MCDOWELL-N/con...</td>\n    </tr>\n    <tr>\n      <th>1</th>\n      <td>Alcoholic Beverages companies</td>\n      <td>United Breweries</td>\n      <td>https://www.screener.in/company/UBL/consolidated/</td>\n    </tr>\n    <tr>\n      <th>2</th>\n      <td>Alcoholic Beverages companies</td>\n      <td>Radico Khaitan</td>\n      <td>https://www.screener.in/company/RADICO/</td>\n    </tr>\n    <tr>\n      <th>3</th>\n      <td>Alcoholic Beverages companies</td>\n      <td>Tilaknagar Inds.</td>\n      <td>https://www.screener.in/company/TI/consolidated/</td>\n    </tr>\n    <tr>\n      <th>4</th>\n      <td>Alcoholic Beverages companies</td>\n      <td>Sula Vineyards</td>\n      <td>https://www.screener.in/company/SULA/</td>\n    </tr>\n    <tr>\n      <th>...</th>\n      <td>...</td>\n      <td>...</td>\n      <td>...</td>\n    </tr>\n    <tr>\n      <th>3587</th>\n      <td>Tyres companies</td>\n      <td>TVS Srichakra</td>\n      <td>https://www.screener.in/company/TVSSRICHAK/con...</td>\n    </tr>\n    <tr>\n      <th>3588</th>\n      <td>Tyres companies</td>\n      <td>Goodyear India</td>\n      <td>https://www.screener.in/company/GOODYEAR/</td>\n    </tr>\n    <tr>\n      <th>3589</th>\n      <td>Tyres companies</td>\n      <td>Dolfin Rubbers</td>\n      <td>https://www.screener.in/company/542013/</td>\n    </tr>\n    <tr>\n      <th>3590</th>\n      <td>Tyres companies</td>\n      <td>Krypton Industri</td>\n      <td>https://www.screener.in/company/523550/consoli...</td>\n    </tr>\n    <tr>\n      <th>3591</th>\n      <td>Tyres companies</td>\n      <td>Innovative Tyres</td>\n      <td>https://www.screener.in/company/INNOVATIVE/</td>\n    </tr>\n  </tbody>\n</table>\n<p>3592 rows × 3 columns</p>\n</div>"
     },
     "execution_count": 11,
     "metadata": {},
     "output_type": "execute_result"
    }
   ],
   "source": [
    "company"
   ],
   "metadata": {
    "collapsed": false,
    "pycharm": {
     "name": "#%%\n"
    }
   }
  },
  {
   "cell_type": "code",
   "execution_count": 12,
   "outputs": [
    {
     "data": {
      "text/plain": "                 type_of_company      company_name  \\\n0  Alcoholic Beverages companies    United Spirits   \n1  Alcoholic Beverages companies  United Breweries   \n2  Alcoholic Beverages companies    Radico Khaitan   \n3  Alcoholic Beverages companies  Tilaknagar Inds.   \n4  Alcoholic Beverages companies    Sula Vineyards   \n\n                                        company_link  \n0  https://www.screener.in/company/MCDOWELL-N/con...  \n1  https://www.screener.in/company/UBL/consolidated/  \n2            https://www.screener.in/company/RADICO/  \n3   https://www.screener.in/company/TI/consolidated/  \n4              https://www.screener.in/company/SULA/  ",
      "text/html": "<div>\n<style scoped>\n    .dataframe tbody tr th:only-of-type {\n        vertical-align: middle;\n    }\n\n    .dataframe tbody tr th {\n        vertical-align: top;\n    }\n\n    .dataframe thead th {\n        text-align: right;\n    }\n</style>\n<table border=\"1\" class=\"dataframe\">\n  <thead>\n    <tr style=\"text-align: right;\">\n      <th></th>\n      <th>type_of_company</th>\n      <th>company_name</th>\n      <th>company_link</th>\n    </tr>\n  </thead>\n  <tbody>\n    <tr>\n      <th>0</th>\n      <td>Alcoholic Beverages companies</td>\n      <td>United Spirits</td>\n      <td>https://www.screener.in/company/MCDOWELL-N/con...</td>\n    </tr>\n    <tr>\n      <th>1</th>\n      <td>Alcoholic Beverages companies</td>\n      <td>United Breweries</td>\n      <td>https://www.screener.in/company/UBL/consolidated/</td>\n    </tr>\n    <tr>\n      <th>2</th>\n      <td>Alcoholic Beverages companies</td>\n      <td>Radico Khaitan</td>\n      <td>https://www.screener.in/company/RADICO/</td>\n    </tr>\n    <tr>\n      <th>3</th>\n      <td>Alcoholic Beverages companies</td>\n      <td>Tilaknagar Inds.</td>\n      <td>https://www.screener.in/company/TI/consolidated/</td>\n    </tr>\n    <tr>\n      <th>4</th>\n      <td>Alcoholic Beverages companies</td>\n      <td>Sula Vineyards</td>\n      <td>https://www.screener.in/company/SULA/</td>\n    </tr>\n  </tbody>\n</table>\n</div>"
     },
     "execution_count": 12,
     "metadata": {},
     "output_type": "execute_result"
    }
   ],
   "source": [
    "company.head()"
   ],
   "metadata": {
    "collapsed": false,
    "pycharm": {
     "name": "#%%\n"
    }
   }
  },
  {
   "cell_type": "code",
   "execution_count": 17,
   "outputs": [],
   "source": [
    "tiker_name=company[\"company_link\"].str.split(\"/\").str[4]"
   ],
   "metadata": {
    "collapsed": false,
    "pycharm": {
     "name": "#%%\n"
    }
   }
  },
  {
   "cell_type": "code",
   "execution_count": 20,
   "outputs": [
    {
     "data": {
      "text/plain": "0    MCDOWELL-N\n1           UBL\n2        RADICO\n3            TI\n4          SULA\n5        530305\n6     GLOBUSSPR\n7    INDIAGLYCO\n8          SDBL\n9        GMBREW\nName: company_link, dtype: object"
     },
     "execution_count": 20,
     "metadata": {},
     "output_type": "execute_result"
    }
   ],
   "source": [
    "tiker_name[0:10]"
   ],
   "metadata": {
    "collapsed": false,
    "pycharm": {
     "name": "#%%\n"
    }
   }
  },
  {
   "cell_type": "code",
   "execution_count": 21,
   "outputs": [
    {
     "data": {
      "text/plain": "(3592,)"
     },
     "execution_count": 21,
     "metadata": {},
     "output_type": "execute_result"
    }
   ],
   "source": [
    "tiker_name.shape"
   ],
   "metadata": {
    "collapsed": false,
    "pycharm": {
     "name": "#%%\n"
    }
   }
  },
  {
   "cell_type": "code",
   "execution_count": 22,
   "outputs": [
    {
     "name": "stdout",
     "output_type": "stream",
     "text": [
      "[*********************100%%**********************]  1 of 1 completed"
     ]
    },
    {
     "name": "stderr",
     "output_type": "stream",
     "text": [
      "\n",
      "1 Failed download:\n",
      "['MCDOWELL-N']: Exception('%ticker%: No timezone found, symbol may be delisted')\n"
     ]
    },
    {
     "name": "stdout",
     "output_type": "stream",
     "text": [
      "\n",
      "[*********************100%%**********************]  1 of 1 completed\n",
      "[*********************100%%**********************]  1 of 1 completed"
     ]
    },
    {
     "name": "stderr",
     "output_type": "stream",
     "text": [
      "\n",
      "1 Failed download:\n",
      "['RADICO']: Exception('%ticker%: No timezone found, symbol may be delisted')\n"
     ]
    },
    {
     "name": "stdout",
     "output_type": "stream",
     "text": [
      "\n",
      "[*********************100%%**********************]  1 of 1 completed"
     ]
    },
    {
     "name": "stderr",
     "output_type": "stream",
     "text": [
      "\n",
      "1 Failed download:\n",
      "['TI']: Exception('%ticker%: No timezone found, symbol may be delisted')\n"
     ]
    },
    {
     "name": "stdout",
     "output_type": "stream",
     "text": [
      "\n",
      "[*********************100%%**********************]  1 of 1 completed"
     ]
    },
    {
     "name": "stderr",
     "output_type": "stream",
     "text": [
      "\n",
      "1 Failed download:\n",
      "['SULA']: Exception('%ticker%: No timezone found, symbol may be delisted')\n"
     ]
    },
    {
     "name": "stdout",
     "output_type": "stream",
     "text": [
      "\n",
      "[*********************100%%**********************]  1 of 1 completed"
     ]
    },
    {
     "name": "stderr",
     "output_type": "stream",
     "text": [
      "\n",
      "1 Failed download:\n",
      "['530305']: Exception('%ticker%: No timezone found, symbol may be delisted')\n"
     ]
    },
    {
     "name": "stdout",
     "output_type": "stream",
     "text": [
      "\n",
      "[*********************100%%**********************]  1 of 1 completed"
     ]
    },
    {
     "name": "stderr",
     "output_type": "stream",
     "text": [
      "\n",
      "1 Failed download:\n",
      "['GLOBUSSPR']: Exception('%ticker%: No timezone found, symbol may be delisted')\n"
     ]
    },
    {
     "name": "stdout",
     "output_type": "stream",
     "text": [
      "\n",
      "[*********************100%%**********************]  1 of 1 completed"
     ]
    },
    {
     "name": "stderr",
     "output_type": "stream",
     "text": [
      "\n",
      "1 Failed download:\n",
      "['INDIAGLYCO']: Exception('%ticker%: No timezone found, symbol may be delisted')\n"
     ]
    },
    {
     "name": "stdout",
     "output_type": "stream",
     "text": [
      "\n",
      "[*********************100%%**********************]  1 of 1 completed"
     ]
    },
    {
     "name": "stderr",
     "output_type": "stream",
     "text": [
      "\n",
      "1 Failed download:\n",
      "['SDBL']: Exception('%ticker%: No timezone found, symbol may be delisted')\n"
     ]
    },
    {
     "name": "stdout",
     "output_type": "stream",
     "text": [
      "\n",
      "[*********************100%%**********************]  1 of 1 completed"
     ]
    },
    {
     "name": "stderr",
     "output_type": "stream",
     "text": [
      "\n",
      "1 Failed download:\n",
      "['GMBREW']: Exception('%ticker%: No timezone found, symbol may be delisted')\n"
     ]
    },
    {
     "name": "stdout",
     "output_type": "stream",
     "text": [
      "\n"
     ]
    }
   ],
   "source": [
    "df_sh = {}\n",
    "for symbol in tiker_name[0:10]:\n",
    "    try:\n",
    "        df_sh[symbol] = yf.download(symbol,start=\"2018-01-18\",end=\"2024-02-16\",interval=\"1d\")\n",
    "        df_sh[symbol]['Daily_Return'] = df_sh[symbol]['Close'].pct_change()\n",
    "    except:\n",
    "        pass\n",
    "        # df_sh[symbol] = df_sh[symbol]['Daily_Return'].resample('M').apply(lambda x: (x + 1).prod() - 1)\n",
    "    # except Exception as e:\n",
    "        # print(f\"Error fetching data for {symbol}: {e}\")\n",
    "all_stock_returns = pd.DataFrame()\n",
    "# for symbol in df_sh.keys():\n",
    "#     all_stock_returns[symbol] = df_sh[symbol]\n",
    "for symbol in df_sh.keys():\n",
    "    all_stock_returns[symbol] = df_sh[symbol]['Daily_Return']"
   ],
   "metadata": {
    "collapsed": false,
    "pycharm": {
     "name": "#%%\n"
    }
   }
  },
  {
   "cell_type": "code",
   "execution_count": 23,
   "outputs": [
    {
     "data": {
      "text/plain": "                                         company_url Market_cap Current_Price  \\\n0  https://www.screener.in/company/GSFC/consolida...      9,687           243   \n1  https://www.screener.in/company/JBMA/consolida...     24,143         2,042   \n2  https://www.screener.in/company/ALKYLAMINE/con...     11,410         2,232   \n3  https://www.screener.in/company/CASTROLIND/con...        NaN           NaN   \n4  https://www.screener.in/company/IDEA/consolida...     78,764          16.2   \n\n    High    Low   P_E Book_Value  Dividend_Yield  ROCE   ROE  ...  \\\n0    322    116  12.7        310            4.11  13.1  10.6  ...   \n1  2,208    520   160       90.1            0.06  11.8  12.9  ...   \n2  2,798  2,119  60.2        105            0.46  41.3  41.4  ...   \n3    NaN    NaN   NaN        NaN             NaN   NaN   NaN  ...   \n4   18.4   5.70   NaN      -18.7            0.00   NaN   NaN  ...   \n\n   Up_from_52w_low  Industry_PE  No_Eq_Shares  Sales_growth_3Years  \\\n0           110.00         27.3          39.8                13.40   \n1           293.00         30.0          11.8                25.60   \n2             5.33         34.0          5.11                25.60   \n3             0.00          0.0             0                 0.00   \n4           184.00         54.4         4,868                -2.11   \n\n  Down_from_52w_high   RSI  EPS_latest_quarter  From_52w_high Debt_to_equity  \\\n0              24.60  38.6                2.96           0.75           0.00   \n1               7.53  63.1                4.12           0.92           1.93   \n2              20.20  38.9                9.65           0.80           0.16   \n3               0.00   0.0                   0           0.00           0.00   \n4              12.20  59.1               -1.44           0.88            NaN   \n\n   Intrinsic_Value  \n0              429  \n1              239  \n2              622  \n3                0  \n4              NaN  \n\n[5 rows x 22 columns]",
      "text/html": "<div>\n<style scoped>\n    .dataframe tbody tr th:only-of-type {\n        vertical-align: middle;\n    }\n\n    .dataframe tbody tr th {\n        vertical-align: top;\n    }\n\n    .dataframe thead th {\n        text-align: right;\n    }\n</style>\n<table border=\"1\" class=\"dataframe\">\n  <thead>\n    <tr style=\"text-align: right;\">\n      <th></th>\n      <th>company_url</th>\n      <th>Market_cap</th>\n      <th>Current_Price</th>\n      <th>High</th>\n      <th>Low</th>\n      <th>P_E</th>\n      <th>Book_Value</th>\n      <th>Dividend_Yield</th>\n      <th>ROCE</th>\n      <th>ROE</th>\n      <th>...</th>\n      <th>Up_from_52w_low</th>\n      <th>Industry_PE</th>\n      <th>No_Eq_Shares</th>\n      <th>Sales_growth_3Years</th>\n      <th>Down_from_52w_high</th>\n      <th>RSI</th>\n      <th>EPS_latest_quarter</th>\n      <th>From_52w_high</th>\n      <th>Debt_to_equity</th>\n      <th>Intrinsic_Value</th>\n    </tr>\n  </thead>\n  <tbody>\n    <tr>\n      <th>0</th>\n      <td>https://www.screener.in/company/GSFC/consolida...</td>\n      <td>9,687</td>\n      <td>243</td>\n      <td>322</td>\n      <td>116</td>\n      <td>12.7</td>\n      <td>310</td>\n      <td>4.11</td>\n      <td>13.1</td>\n      <td>10.6</td>\n      <td>...</td>\n      <td>110.00</td>\n      <td>27.3</td>\n      <td>39.8</td>\n      <td>13.40</td>\n      <td>24.60</td>\n      <td>38.6</td>\n      <td>2.96</td>\n      <td>0.75</td>\n      <td>0.00</td>\n      <td>429</td>\n    </tr>\n    <tr>\n      <th>1</th>\n      <td>https://www.screener.in/company/JBMA/consolida...</td>\n      <td>24,143</td>\n      <td>2,042</td>\n      <td>2,208</td>\n      <td>520</td>\n      <td>160</td>\n      <td>90.1</td>\n      <td>0.06</td>\n      <td>11.8</td>\n      <td>12.9</td>\n      <td>...</td>\n      <td>293.00</td>\n      <td>30.0</td>\n      <td>11.8</td>\n      <td>25.60</td>\n      <td>7.53</td>\n      <td>63.1</td>\n      <td>4.12</td>\n      <td>0.92</td>\n      <td>1.93</td>\n      <td>239</td>\n    </tr>\n    <tr>\n      <th>2</th>\n      <td>https://www.screener.in/company/ALKYLAMINE/con...</td>\n      <td>11,410</td>\n      <td>2,232</td>\n      <td>2,798</td>\n      <td>2,119</td>\n      <td>60.2</td>\n      <td>105</td>\n      <td>0.46</td>\n      <td>41.3</td>\n      <td>41.4</td>\n      <td>...</td>\n      <td>5.33</td>\n      <td>34.0</td>\n      <td>5.11</td>\n      <td>25.60</td>\n      <td>20.20</td>\n      <td>38.9</td>\n      <td>9.65</td>\n      <td>0.80</td>\n      <td>0.16</td>\n      <td>622</td>\n    </tr>\n    <tr>\n      <th>3</th>\n      <td>https://www.screener.in/company/CASTROLIND/con...</td>\n      <td>NaN</td>\n      <td>NaN</td>\n      <td>NaN</td>\n      <td>NaN</td>\n      <td>NaN</td>\n      <td>NaN</td>\n      <td>NaN</td>\n      <td>NaN</td>\n      <td>NaN</td>\n      <td>...</td>\n      <td>0.00</td>\n      <td>0.0</td>\n      <td>0</td>\n      <td>0.00</td>\n      <td>0.00</td>\n      <td>0.0</td>\n      <td>0</td>\n      <td>0.00</td>\n      <td>0.00</td>\n      <td>0</td>\n    </tr>\n    <tr>\n      <th>4</th>\n      <td>https://www.screener.in/company/IDEA/consolida...</td>\n      <td>78,764</td>\n      <td>16.2</td>\n      <td>18.4</td>\n      <td>5.70</td>\n      <td>NaN</td>\n      <td>-18.7</td>\n      <td>0.00</td>\n      <td>NaN</td>\n      <td>NaN</td>\n      <td>...</td>\n      <td>184.00</td>\n      <td>54.4</td>\n      <td>4,868</td>\n      <td>-2.11</td>\n      <td>12.20</td>\n      <td>59.1</td>\n      <td>-1.44</td>\n      <td>0.88</td>\n      <td>NaN</td>\n      <td>NaN</td>\n    </tr>\n  </tbody>\n</table>\n<p>5 rows × 22 columns</p>\n</div>"
     },
     "execution_count": 23,
     "metadata": {},
     "output_type": "execute_result"
    }
   ],
   "source": [
    "df.head()"
   ],
   "metadata": {
    "collapsed": false,
    "pycharm": {
     "name": "#%%\n"
    }
   }
  },
  {
   "cell_type": "code",
   "execution_count": 28,
   "outputs": [],
   "source": [
    "tiker=df[\"company_url\"].str.split(\"/\").str[4]"
   ],
   "metadata": {
    "collapsed": false,
    "pycharm": {
     "name": "#%%\n"
    }
   }
  },
  {
   "cell_type": "code",
   "execution_count": 29,
   "outputs": [
    {
     "data": {
      "text/plain": "0            GSFC\n1            JBMA\n2      ALKYLAMINE\n3      CASTROLIND\n4            IDEA\n          ...    \n496      CHOLAFIN\n497     EICHERMOT\n498    SONATSOFTW\n499        SAFARI\n500          BBTC\nName: company_url, Length: 501, dtype: object"
     },
     "execution_count": 29,
     "metadata": {},
     "output_type": "execute_result"
    }
   ],
   "source": [
    "tiker"
   ],
   "metadata": {
    "collapsed": false,
    "pycharm": {
     "name": "#%%\n"
    }
   }
  },
  {
   "cell_type": "code",
   "execution_count": 36,
   "outputs": [
    {
     "name": "stdout",
     "output_type": "stream",
     "text": [
      "[*********************100%%**********************]  1 of 1 completed"
     ]
    },
    {
     "name": "stderr",
     "output_type": "stream",
     "text": [
      "\n",
      "1 Failed download:\n",
      "['CIEINDIA']: Exception('%ticker%: No timezone found, symbol may be delisted')\n"
     ]
    },
    {
     "name": "stdout",
     "output_type": "stream",
     "text": [
      "\n",
      "[*********************100%%**********************]  1 of 1 completed"
     ]
    },
    {
     "name": "stderr",
     "output_type": "stream",
     "text": [
      "\n",
      "1 Failed download:\n",
      "['GODREJIND']: Exception('%ticker%: No timezone found, symbol may be delisted')\n"
     ]
    },
    {
     "name": "stdout",
     "output_type": "stream",
     "text": [
      "\n",
      "[*********************100%%**********************]  1 of 1 completed"
     ]
    },
    {
     "name": "stderr",
     "output_type": "stream",
     "text": [
      "\n",
      "1 Failed download:\n",
      "['GSPL']: Exception('%ticker%: No timezone found, symbol may be delisted')\n"
     ]
    },
    {
     "name": "stdout",
     "output_type": "stream",
     "text": [
      "\n",
      "[*********************100%%**********************]  1 of 1 completed"
     ]
    },
    {
     "name": "stderr",
     "output_type": "stream",
     "text": [
      "\n",
      "1 Failed download:\n",
      "['YESBANK']: Exception('%ticker%: No timezone found, symbol may be delisted')\n"
     ]
    },
    {
     "name": "stdout",
     "output_type": "stream",
     "text": [
      "\n",
      "[*********************100%%**********************]  1 of 1 completed"
     ]
    },
    {
     "name": "stderr",
     "output_type": "stream",
     "text": [
      "\n",
      "1 Failed download:\n",
      "['CENTURYTEX']: Exception('%ticker%: No timezone found, symbol may be delisted')\n"
     ]
    },
    {
     "name": "stdout",
     "output_type": "stream",
     "text": [
      "\n",
      "[*********************100%%**********************]  1 of 1 completed"
     ]
    },
    {
     "name": "stderr",
     "output_type": "stream",
     "text": [
      "\n",
      "1 Failed download:\n",
      "['FORTIS']: Exception('%ticker%: No timezone found, symbol may be delisted')\n"
     ]
    },
    {
     "name": "stdout",
     "output_type": "stream",
     "text": [
      "\n",
      "[*********************100%%**********************]  1 of 1 completed"
     ]
    },
    {
     "name": "stderr",
     "output_type": "stream",
     "text": [
      "\n",
      "1 Failed download:\n",
      "['RCF']: Exception('%ticker%: No price data found, symbol may be delisted (1d 2019-01-18 -> 2024-02-16)')\n"
     ]
    },
    {
     "name": "stdout",
     "output_type": "stream",
     "text": [
      "\n",
      "[*********************100%%**********************]  1 of 1 completed"
     ]
    },
    {
     "name": "stderr",
     "output_type": "stream",
     "text": [
      "\n",
      "1 Failed download:\n",
      "['GUJALKALI']: Exception('%ticker%: No timezone found, symbol may be delisted')\n"
     ]
    },
    {
     "name": "stdout",
     "output_type": "stream",
     "text": [
      "\n",
      "[*********************100%%**********************]  1 of 1 completed"
     ]
    },
    {
     "name": "stderr",
     "output_type": "stream",
     "text": [
      "\n",
      "1 Failed download:\n",
      "['ROUTE']: Exception('%ticker%: No timezone found, symbol may be delisted')\n"
     ]
    },
    {
     "name": "stdout",
     "output_type": "stream",
     "text": [
      "\n",
      "[*********************100%%**********************]  1 of 1 completed"
     ]
    },
    {
     "name": "stderr",
     "output_type": "stream",
     "text": [
      "\n",
      "1 Failed download:\n",
      "['LICHSGFIN']: Exception('%ticker%: No timezone found, symbol may be delisted')\n"
     ]
    },
    {
     "name": "stdout",
     "output_type": "stream",
     "text": [
      "\n",
      "[*********************100%%**********************]  1 of 1 completed"
     ]
    },
    {
     "name": "stderr",
     "output_type": "stream",
     "text": [
      "\n",
      "1 Failed download:\n",
      "['BIRLACORPN']: Exception('%ticker%: No timezone found, symbol may be delisted')\n"
     ]
    },
    {
     "name": "stdout",
     "output_type": "stream",
     "text": [
      "\n",
      "[*********************100%%**********************]  1 of 1 completed"
     ]
    },
    {
     "name": "stderr",
     "output_type": "stream",
     "text": [
      "\n",
      "1 Failed download:\n",
      "['AVANTIFEED']: Exception('%ticker%: No timezone found, symbol may be delisted')\n"
     ]
    },
    {
     "name": "stdout",
     "output_type": "stream",
     "text": [
      "\n",
      "[*********************100%%**********************]  1 of 1 completed"
     ]
    },
    {
     "name": "stderr",
     "output_type": "stream",
     "text": [
      "\n",
      "1 Failed download:\n",
      "['WELCORP']: Exception('%ticker%: No timezone found, symbol may be delisted')\n"
     ]
    },
    {
     "name": "stdout",
     "output_type": "stream",
     "text": [
      "\n",
      "[*********************100%%**********************]  1 of 1 completed"
     ]
    },
    {
     "name": "stderr",
     "output_type": "stream",
     "text": [
      "\n",
      "1 Failed download:\n",
      "['MOTHERSON']: Exception('%ticker%: No timezone found, symbol may be delisted')\n"
     ]
    },
    {
     "name": "stdout",
     "output_type": "stream",
     "text": [
      "\n",
      "[*********************100%%**********************]  1 of 1 completed"
     ]
    },
    {
     "name": "stderr",
     "output_type": "stream",
     "text": [
      "\n",
      "1 Failed download:\n",
      "['STLTECH']: Exception('%ticker%: No timezone found, symbol may be delisted')\n"
     ]
    },
    {
     "name": "stdout",
     "output_type": "stream",
     "text": [
      "\n"
     ]
    }
   ],
   "source": [
    "df_sh = {}\n",
    "for symbol in tiker[10:25]:\n",
    "    try:\n",
    "        df_sh[symbol] = yf.download(symbol,start=\"2019-01-18\",end=\"2024-02-16\",interval=\"1d\")\n",
    "        df_sh[symbol]['Daily_Return'] = df_sh[symbol]['Close'].pct_change()\n",
    "    except:\n",
    "        pass\n",
    "        # df_sh[symbol] = df_sh[symbol]['Daily_Return'].resample('M').apply(lambda x: (x + 1).prod() - 1)\n",
    "    # except Exception as e:\n",
    "        # print(f\"Error fetching data for {symbol}: {e}\")\n",
    "all_stock_returns = pd.DataFrame()\n",
    "# for symbol in df_sh.keys():\n",
    "#     all_stock_returns[symbol] = df_sh[symbol]\n",
    "for symbol in df_sh.keys():\n",
    "    all_stock_returns[symbol] = df_sh[symbol]['Daily_Return']"
   ],
   "metadata": {
    "collapsed": false,
    "pycharm": {
     "name": "#%%\n"
    }
   }
  },
  {
   "cell_type": "code",
   "execution_count": 31,
   "outputs": [
    {
     "name": "stdout",
     "output_type": "stream",
     "text": [
      "GSFC\n",
      "JBMA\n",
      "ALKYLAMINE\n",
      "CASTROLIND\n",
      "IDEA\n",
      "SPARC\n",
      "ENGINERSIN\n",
      "JUBLPHARMA\n",
      "GNFC\n",
      "GUJGASLTD\n"
     ]
    }
   ],
   "source": [
    "for symbol in tiker[10:25]:\n",
    "    print(symbol)"
   ],
   "metadata": {
    "collapsed": false,
    "pycharm": {
     "name": "#%%\n"
    }
   }
  },
  {
   "cell_type": "code",
   "execution_count": 34,
   "outputs": [
    {
     "ename": "KeyError",
     "evalue": "'key of type tuple not found and not a MultiIndex'",
     "output_type": "error",
     "traceback": [
      "\u001B[1;31m---------------------------------------------------------------------------\u001B[0m",
      "\u001B[1;31mKeyError\u001B[0m                                  Traceback (most recent call last)",
      "Cell \u001B[1;32mIn[34], line 2\u001B[0m\n\u001B[0;32m      1\u001B[0m df_sh \u001B[38;5;241m=\u001B[39m {}\n\u001B[1;32m----> 2\u001B[0m \u001B[38;5;28;01mfor\u001B[39;00m symbol \u001B[38;5;129;01min\u001B[39;00m \u001B[43mtiker\u001B[49m\u001B[43m[\u001B[49m\u001B[38;5;241;43m10\u001B[39;49m\u001B[43m,\u001B[49m\u001B[38;5;241;43m25\u001B[39;49m\u001B[43m]\u001B[49m:\n\u001B[0;32m      3\u001B[0m     \u001B[38;5;28;01mtry\u001B[39;00m:\n\u001B[0;32m      4\u001B[0m         df_sh[symbol] \u001B[38;5;241m=\u001B[39m yf\u001B[38;5;241m.\u001B[39mdownload(symbol,start\u001B[38;5;241m=\u001B[39m\u001B[38;5;124m\"\u001B[39m\u001B[38;5;124m2019-01-18\u001B[39m\u001B[38;5;124m\"\u001B[39m,end\u001B[38;5;241m=\u001B[39m\u001B[38;5;124m\"\u001B[39m\u001B[38;5;124m2024-02-15\u001B[39m\u001B[38;5;124m\"\u001B[39m,interval\u001B[38;5;241m=\u001B[39m\u001B[38;5;124m\"\u001B[39m\u001B[38;5;124m1d\u001B[39m\u001B[38;5;124m\"\u001B[39m)\n",
      "File \u001B[1;32m~\\AppData\\Roaming\\Python\\Python310\\site-packages\\pandas\\core\\series.py:1033\u001B[0m, in \u001B[0;36mSeries.__getitem__\u001B[1;34m(self, key)\u001B[0m\n\u001B[0;32m   1030\u001B[0m     key \u001B[38;5;241m=\u001B[39m np\u001B[38;5;241m.\u001B[39masarray(key, dtype\u001B[38;5;241m=\u001B[39m\u001B[38;5;28mbool\u001B[39m)\n\u001B[0;32m   1031\u001B[0m     \u001B[38;5;28;01mreturn\u001B[39;00m \u001B[38;5;28mself\u001B[39m\u001B[38;5;241m.\u001B[39m_get_values(key)\n\u001B[1;32m-> 1033\u001B[0m \u001B[38;5;28;01mreturn\u001B[39;00m \u001B[38;5;28;43mself\u001B[39;49m\u001B[38;5;241;43m.\u001B[39;49m\u001B[43m_get_with\u001B[49m\u001B[43m(\u001B[49m\u001B[43mkey\u001B[49m\u001B[43m)\u001B[49m\n",
      "File \u001B[1;32m~\\AppData\\Roaming\\Python\\Python310\\site-packages\\pandas\\core\\series.py:1048\u001B[0m, in \u001B[0;36mSeries._get_with\u001B[1;34m(self, key)\u001B[0m\n\u001B[0;32m   1043\u001B[0m     \u001B[38;5;28;01mraise\u001B[39;00m \u001B[38;5;167;01mTypeError\u001B[39;00m(\n\u001B[0;32m   1044\u001B[0m         \u001B[38;5;124m\"\u001B[39m\u001B[38;5;124mIndexing a Series with DataFrame is not \u001B[39m\u001B[38;5;124m\"\u001B[39m\n\u001B[0;32m   1045\u001B[0m         \u001B[38;5;124m\"\u001B[39m\u001B[38;5;124msupported, use the appropriate DataFrame column\u001B[39m\u001B[38;5;124m\"\u001B[39m\n\u001B[0;32m   1046\u001B[0m     )\n\u001B[0;32m   1047\u001B[0m \u001B[38;5;28;01melif\u001B[39;00m \u001B[38;5;28misinstance\u001B[39m(key, \u001B[38;5;28mtuple\u001B[39m):\n\u001B[1;32m-> 1048\u001B[0m     \u001B[38;5;28;01mreturn\u001B[39;00m \u001B[38;5;28;43mself\u001B[39;49m\u001B[38;5;241;43m.\u001B[39;49m\u001B[43m_get_values_tuple\u001B[49m\u001B[43m(\u001B[49m\u001B[43mkey\u001B[49m\u001B[43m)\u001B[49m\n\u001B[0;32m   1050\u001B[0m \u001B[38;5;28;01melif\u001B[39;00m \u001B[38;5;129;01mnot\u001B[39;00m is_list_like(key):\n\u001B[0;32m   1051\u001B[0m     \u001B[38;5;66;03m# e.g. scalars that aren't recognized by lib.is_scalar, GH#32684\u001B[39;00m\n\u001B[0;32m   1052\u001B[0m     \u001B[38;5;28;01mreturn\u001B[39;00m \u001B[38;5;28mself\u001B[39m\u001B[38;5;241m.\u001B[39mloc[key]\n",
      "File \u001B[1;32m~\\AppData\\Roaming\\Python\\Python310\\site-packages\\pandas\\core\\series.py:1086\u001B[0m, in \u001B[0;36mSeries._get_values_tuple\u001B[1;34m(self, key)\u001B[0m\n\u001B[0;32m   1083\u001B[0m     \u001B[38;5;28;01mreturn\u001B[39;00m result\n\u001B[0;32m   1085\u001B[0m \u001B[38;5;28;01mif\u001B[39;00m \u001B[38;5;129;01mnot\u001B[39;00m \u001B[38;5;28misinstance\u001B[39m(\u001B[38;5;28mself\u001B[39m\u001B[38;5;241m.\u001B[39mindex, MultiIndex):\n\u001B[1;32m-> 1086\u001B[0m     \u001B[38;5;28;01mraise\u001B[39;00m \u001B[38;5;167;01mKeyError\u001B[39;00m(\u001B[38;5;124m\"\u001B[39m\u001B[38;5;124mkey of type tuple not found and not a MultiIndex\u001B[39m\u001B[38;5;124m\"\u001B[39m)\n\u001B[0;32m   1088\u001B[0m \u001B[38;5;66;03m# If key is contained, would have returned by now\u001B[39;00m\n\u001B[0;32m   1089\u001B[0m indexer, new_index \u001B[38;5;241m=\u001B[39m \u001B[38;5;28mself\u001B[39m\u001B[38;5;241m.\u001B[39mindex\u001B[38;5;241m.\u001B[39mget_loc_level(key)\n",
      "\u001B[1;31mKeyError\u001B[0m: 'key of type tuple not found and not a MultiIndex'"
     ]
    }
   ],
   "source": [
    "df_sh = {}\n",
    "for symbol in tiker[10,25]:\n",
    "    try:\n",
    "        df_sh[symbol] = yf.download(symbol,start=\"2019-01-18\",end=\"2024-02-15\",interval=\"1d\")\n",
    "        # Calculate daily returns\n",
    "        df_sh[symbol]['Daily_Return'] = df_sh[symbol]['Close'].pct_change()\n",
    "    except:\n",
    "        pass\n",
    "        # df_sh[symbol] = df_sh[symbol]['Daily_Return'].resample('M').apply(lambda x: (x + 1).prod() - 1)\n",
    "    # except Exception as e:\n",
    "        # print(f\"Error fetching data for {symbol}: {e}\")\n",
    "gain_returns = pd.DataFrame()\n",
    "# for symbol in df_sh.keys():\n",
    "#     all_stock_returns[symbol] = df_sh[symbol]\n",
    "for symbol in df_sh.keys():\n",
    "    gain_returns[symbol] = df_sh[symbol]['Daily_Return']"
   ],
   "metadata": {
    "collapsed": false,
    "pycharm": {
     "name": "#%%\n"
    }
   }
  },
  {
   "cell_type": "code",
   "execution_count": null,
   "outputs": [],
   "source": [
    "df_sh = {}\n",
    "for symbol in tiker[10:25]:\n",
    "    try:\n",
    "        df_sh[symbol] = yf.download(symbol,start=\"2019-01-18\",end=\"2024-02-16\",interval=\"1d\")\n",
    "        df_sh[symbol]['Daily_Return'] = df_sh[symbol]['Close'].pct_change()\n",
    "    except:\n",
    "        pass"
   ],
   "metadata": {
    "collapsed": false,
    "pycharm": {
     "name": "#%%\n"
    }
   }
  },
  {
   "cell_type": "code",
   "execution_count": 37,
   "outputs": [
    {
     "data": {
      "text/plain": "0            GSFC\n1            JBMA\n2      ALKYLAMINE\n3      CASTROLIND\n4            IDEA\n          ...    \n496      CHOLAFIN\n497     EICHERMOT\n498    SONATSOFTW\n499        SAFARI\n500          BBTC\nName: company_url, Length: 501, dtype: object"
     },
     "execution_count": 37,
     "metadata": {},
     "output_type": "execute_result"
    }
   ],
   "source": [
    "tiker"
   ],
   "metadata": {
    "collapsed": false,
    "pycharm": {
     "name": "#%%\n"
    }
   }
  },
  {
   "cell_type": "code",
   "execution_count": 38,
   "outputs": [],
   "source": [
    "a=[]\n",
    "for i in tiker:\n",
    "    a.append(i)"
   ],
   "metadata": {
    "collapsed": false,
    "pycharm": {
     "name": "#%%\n"
    }
   }
  },
  {
   "cell_type": "code",
   "execution_count": 39,
   "outputs": [
    {
     "name": "stdout",
     "output_type": "stream",
     "text": [
      "['GSFC', 'JBMA', 'ALKYLAMINE', 'CASTROLIND', 'IDEA', 'SPARC', 'ENGINERSIN', 'JUBLPHARMA', 'GNFC', 'GUJGASLTD', 'CIEINDIA', 'GODREJIND', 'GSPL', 'YESBANK', 'CENTURYTEX', 'FORTIS', 'RCF', 'GUJALKALI', 'ROUTE', 'LICHSGFIN', 'BIRLACORPN', 'AVANTIFEED', 'WELCORP', 'MOTHERSON', 'STLTECH', 'DELTACORP', 'DALBHARAT', 'AWL', 'POWERINDIA', 'TV18BRDCST', 'FLUOROCHEM', 'APTUS', 'GPPL', 'SWSOLAR', 'GLAXO', 'CENTURYPLY', 'SOBHA', 'NIACL', 'PFC', 'INFIBEAM', 'NESTLEIND', 'LICI', 'ANGELONE', 'CESC', 'GAIL', 'ZEEL', 'JINDALSAW', 'CLEAN', 'RECLTD', 'HUDCO', 'NATIONALUM', 'KEC', 'RAJESHEXPO', 'RBA', 'AJANTPHARM', 'OFSS', 'KAYNES', 'ASHOKLEY', 'IRCON', 'BIOCON', 'POLYPLEX', 'SHYAMMETL', 'CUB', 'STARHEALTH', 'BHEL', 'LODHA', 'VIPIND', 'NHPC', 'ZFCVINDIA', 'KALYANKJIL', 'SJVN', 'AAVAS', 'RAINBOW', 'ADANIENT', 'CAMPUS', 'MHRIL', 'AMBUJACEM', 'ALLCARGO', 'GPIL', 'OLECTRA', 'RADICO', 'PNB', 'PAYTM', 'PCBL', 'ADANIPORTS', 'JMFINANCIL', 'MOTILALOFS', 'ANURAS', 'BLS', 'NAM-INDIA', 'COALINDIA', 'CHAMBLFERT', 'TECHM', 'OIL', 'FACT', 'ORIENTELEC', 'TATAMOTORS', 'SUMICHEM', 'ACC', 'VTL', 'TIINDIA', 'PETRONET', 'TATAMTRDVR', 'ICICIGI', 'HONAUT', 'EMAMILTD', 'GRANULES', 'CONCORDBIO', 'RALLIS', 'SYNGENE', 'GICRE', 'ZYDUSLIFE', 'NETWORK18', 'AARTIDRUGS', 'UNIONBANK', 'ALOKINDS', 'ATGL', 'IIFL', 'GODREJCP', 'ARE&M', 'KPIL', 'KARURVYSYA', 'EXIDEIND', 'NMDC', 'BDL', 'VMART', 'MAHABANK', 'AFFLE', 'RBLBANK', 'SUPRAJIT', 'BAJAJHLDNG', 'DEEPAKFERT', 'IRFC', 'TANLA', 'HCLTECH', 'EQUITASBNK', 'BHARATFORG', 'IOB', 'NATCOPHARM', 'EIDPARRY', 'BANDHANBNK', 'HAPPSTMNDS', 'HAL', 'INDIACEM', 'APLLTD', 'SBICARD', 'BALRAMCHIN', 'CROMPTON', 'INDUSTOWER', 'TRIDENT', 'BANKBARODA', 'UPL', 'BALAMINES', 'IGL', 'ITC', 'POLICYBZR', 'HEG', 'CANBK', 'TTKPRESTIG', 'EASEMYTRIP', 'WIPRO', 'ADANIENSOL', 'WELSPUNLIV', 'PNBHOUSING', 'PRINCEPIPE', 'TORNTPOWER', 'CGCL', 'HDFCAMC', 'MANYAVAR', 'BOSCHLTD', 'TATACHEM', 'VINATIORGA', 'SFL', 'CERA', 'JYOTHYLAB', 'KNRCON', 'ABFRL', 'COCHINSHIP', 'POONAWALLA', 'GRINDWELL', 'MSUMI', 'KAJARIACER', 'BEML', 'RENUKA', 'APOLLOHOSP', 'VARROC', 'EIHOTEL', 'UTIAMC', 'RAYMOND', 'ATUL', 'PAGEIND', 'IRB', 'THERMAX', 'OBEROIRLTY', 'LXCHEM', 'ZOMATO', 'NBCC', 'ITI', 'IOC', 'LAURUSLABS', 'MMTC', 'WESTLIFE', 'SAIL', 'SOLARINDS', 'SANOFI', 'NH', 'SUZLON', 'UCOBANK', 'TRIVENI', 'KRBL', 'SCHAEFFLER', 'JUSTDIAL', 'SUNTECK', 'SYMPHONY', 'VBL', 'INFY', 'GILLETTE', 'TEJASNET', 'CIPLA', 'CYIENT', 'DRREDDY', 'FIVESTAR', 'MAHLIFE', 'IRCTC', 'AARTIIND', 'MAZDOCK', 'RAIN', 'TCS', 'PRSMJOHNSN', 'PHOENIXLTD', 'ROSSARI', 'INDIANB', 'FEDERALBNK', 'TEAMLEASE', 'JKCEMENT', 'KFINTECH', 'BALKRISIND', 'BIKAJI', 'BEL', 'HOMEFIRST', 'DCMSHRIRAM', 'UBL', 'IDBI', 'AMBER', 'CARBORUNIV', 'INDIGO', 'RVNL', 'RELIANCE', 'JSWENERGY', 'JAMNAAUTO', 'MGL', 'MAXHEALTH', 'HDFCLIFE', 'KSB', 'BPCL', 'NCC', 'TITAN', 'HFCL', 'GALAXYSURF', 'PEL', 'INDIGOPNTS', 'HINDPETRO', 'CENTRALBK', 'DABUR', 'LINDEINDIA', 'NAVINFLUOR', 'TATASTEEL', 'VOLTAS', 'RTNINDIA', 'RELAXO', 'SUNPHARMA', 'SONACOMS', 'CEATLTD', 'CONCOR', 'GRAPHITE', 'DIVISLAB', 'PFIZER', 'NAZARA', 'AIAENG', 'SKFINDIA', 'UJJIVANSFB', 'IPCALAB', 'PRAJIND', 'FINPIPE', 'HINDZINC', 'BLUESTARCO', 'CANFINHOME', 'LUXIND', 'POWERGRID', 'BANKINDIA', 'ONGC', 'PGHH', 'TATAELXSI', 'PVRINOX', 'MANKIND', 'BRIGADE', 'ADANIGREEN', 'FSL', 'PGHL', 'TIMKEN', 'PPLPHARMA', 'ABB', 'SUNDRMFAST', 'VGUARD', 'EPIGRAL', 'MPHASIS', 'LATENTVIEW', 'IEX', 'APARINDS', 'SIEMENS', 'KANSAINER', 'CSBBANK', 'SAREGAMA', 'GLENMARK', 'MRF', 'INDUSINDBK', 'APOLLOTYRE', 'ICICIBANK', 'GODREJPROP', 'CAMS', 'AUBANK', 'CDSL', 'BRITANNIA', 'AUROPHARMA', 'GLS', 'MARUTI', 'MTARTECH', 'ABBOTINDIA', 'SBILIFE', 'MFSL', 'ACI', 'JUBLINGREA', 'INDIAMART', 'ERIS', 'ASIANPAINT', 'ADANIPOWER', 'MINDACORP', 'MRPL', 'APLAPOLLO', 'FINEORG', 'NSLNISP', 'NAUKRI', 'ASTRAL', 'SHRIRAMFIN', 'LALPATHLAB', 'PNCINFRA', 'BERGEPAINT', 'TORNTPHARM', 'ULTRACEMCO', 'JSL', 'WHIRLPOOL', 'DMART', 'GMRINFRA', 'BLUEDART', 'SUNTV', 'HLEGLAS', 'ABCAPITAL', 'POLYCAB', 'INGERRAND', 'GRINFRA', 'AETHER', 'METROPOLIS', 'HEROMOTOCO', 'CREDITACC', 'LT', 'JKPAPER', 'JKLAKSHMI', 'SWANENERGY', 'TTML', 'MANAPPURAM', 'RITES', 'RHIM', 'TATACOMM', 'NTPC', 'JBCHEPHARM', 'TATAINVEST', 'BAJFINANCE', 'HINDUNILVR', 'M&MFIN', 'KOTAKBANK', 'FDC', 'PIDILITIND', 'JSWSTEEL', 'ZENSARTECH', 'ICICIPRULI', 'IBULHSGFIN', 'DLF', 'ELGIEQUIP', 'SBIN', 'SHARDACROP', 'LTIM', 'JUBLFOOD', 'LAXMIMACH', 'BORORENEW', 'TATACONSUM', 'INDHOTEL', 'AXISBANK', 'TVSMOTOR', 'SRF', 'GESHIP', 'COROMANDEL', 'PATANJALI', 'JINDALSTEL', 'CUMMINSIND', 'TATAPOWER', 'DEEPAKNTR', 'GRASIM', 'VEDL', 'PRESTIGE', 'ESCORTS', 'ZYDUSWELL', 'AEGISCHEM', 'ENDURANCE', 'ASAHIINDIA', 'BAJAJFINSV', 'INTELLECT', 'SUNDARMFIN', 'HAVELLS', 'LEMONTREE', 'LUPIN', 'RAMCOCEM', 'MAPMYINDIA', 'BSE', 'VAIBHAVGBL', 'PERSISTENT', 'EPL', 'HDFCBANK', 'MUTHOOTFIN', 'BATAINDIA', 'GMMPFAUDLR', 'SHREECEM', 'REDINGTON', 'DEVYANI', 'POLYMED', 'IDFC', 'DATAPATTNS', 'VIJAYA', 'MEDANTA', 'HINDCOPPER', 'LTTS', 'MCX', 'ISEC', 'MARICO', 'GODFRYPHLP', 'GLAND', 'ASTERDM', 'CGPOWER', 'HINDALCO', 'L&TFH', 'PIIND', 'DELHIVERY', 'KIMS', 'RATNAMANI', 'MCDOWELL-N', 'IDFCFIRSTB', 'SYRMA', 'SAPPHIRE', 'COFORGE', 'CHALET', 'SUVENPHAR', 'NLCINDIA', 'SHOPERSTOP', 'FINCABLES', 'CRISIL', 'MEDPLUS', 'ECLERX', 'NUVOCO', 'BAJAJ-AUTO', 'TRITURBINE', 'CRAFTSMAN', 'KPITTECH', 'BCG', 'BAYERCROP', 'M&M', 'ALKEM', 'UNOMINDA', 'QUESS', 'TRENT', 'NYKAA', 'CCL', 'USHAMART', 'MASTEK', 'COLPAL', 'SUPREMEIND', 'CHOLAHLDNG', 'KPRMILL', 'DIXON', 'GAEL', 'BHARTIARTL', '3MINDIA', 'KEI', 'METROBRAND', '360ONE', 'GOCOLORS', 'CHEMPLASTS', 'BSOFT', 'CHOLAFIN', 'EICHERMOT', 'SONATSOFTW', 'SAFARI', 'BBTC']\n"
     ]
    }
   ],
   "source": [
    "print(a)"
   ],
   "metadata": {
    "collapsed": false,
    "pycharm": {
     "name": "#%%\n"
    }
   }
  },
  {
   "cell_type": "code",
   "execution_count": 40,
   "outputs": [
    {
     "data": {
      "text/plain": "'CIEINDIA'"
     },
     "execution_count": 40,
     "metadata": {},
     "output_type": "execute_result"
    }
   ],
   "source": [
    "a[10]"
   ],
   "metadata": {
    "collapsed": false,
    "pycharm": {
     "name": "#%%\n"
    }
   }
  },
  {
   "cell_type": "code",
   "execution_count": 41,
   "outputs": [
    {
     "name": "stdout",
     "output_type": "stream",
     "text": [
      "[*********************100%%**********************]  1 of 1 completed"
     ]
    },
    {
     "name": "stderr",
     "output_type": "stream",
     "text": [
      "\n",
      "1 Failed download:\n",
      "['CIEINDIA']: Exception('%ticker%: No timezone found, symbol may be delisted')\n"
     ]
    },
    {
     "name": "stdout",
     "output_type": "stream",
     "text": [
      "\n"
     ]
    }
   ],
   "source": [
    "m= yf.download(a[10],start=\"2019-01-18\",end=\"2024-02-16\",interval=\"1d\")"
   ],
   "metadata": {
    "collapsed": false,
    "pycharm": {
     "name": "#%%\n"
    }
   }
  },
  {
   "cell_type": "code",
   "execution_count": null,
   "outputs": [],
   "source": [
    "df_sh = {}\n",
    "for symbol in tiker:\n",
    "    try:\n",
    "        df_sh[symbol] = yf.download(symbol,start=\"2019-01-18\",end=\"2024-02-16\",interval=\"1d\")\n",
    "        df_sh[symbol]['Daily_Return'] = df_sh[symbol]['Close'].pct_change()\n",
    "    except:\n",
    "        pass\n",
    "all_stock_returns = pd.DataFrame()\n",
    "for symbol in df_sh.keys():\n",
    "    all_stock_returns[symbol] = df_sh[symbol]['Daily_Return']"
   ],
   "metadata": {
    "collapsed": false,
    "pycharm": {
     "name": "#%%\n"
    }
   }
  },
  {
   "cell_type": "code",
   "execution_count": 46,
   "outputs": [
    {
     "name": "stdout",
     "output_type": "stream",
     "text": [
      "[*********************100%%**********************]  1 of 1 completed\n",
      "[*********************100%%**********************]  1 of 1 completed\n",
      "[*********************100%%**********************]  1 of 1 completed\n"
     ]
    }
   ],
   "source": [
    "import pandas as pd\n",
    "import yfinance as yf\n",
    "\n",
    "tiker = ['AAPL', 'MSFT', 'GOOGL']  # Example list of ticker symbols\n",
    "\n",
    "df_sh = {}\n",
    "for symbol in tiker:\n",
    "    try:\n",
    "        df_sh[symbol] = yf.download(symbol, start=\"2019-01-18\", end=\"2024-02-16\", interval=\"1d\")\n",
    "        df_sh[symbol]['Daily_Return'] = df_sh[symbol]['Close'].pct_change()\n",
    "    except Exception as e:\n",
    "        print(f\"Error occurred for symbol {symbol}: {e}\")\n",
    "\n",
    "if df_sh:  # Check if df_sh is not empty\n",
    "    all_stock_returns = pd.DataFrame()\n",
    "    for symbol in df_sh.keys():\n",
    "        all_stock_returns[symbol] = df_sh[symbol]['Daily_Return']\n",
    "else:\n",
    "    print(\"No data downloaded for any ticker.\")"
   ],
   "metadata": {
    "collapsed": false,
    "pycharm": {
     "name": "#%%\n"
    }
   }
  },
  {
   "cell_type": "code",
   "execution_count": 50,
   "outputs": [
    {
     "name": "stdout",
     "output_type": "stream",
     "text": [
      "['AAPL.NS', 'MSFT.NS', 'GOOGL.NS']\n"
     ]
    }
   ],
   "source": [
    "d=[]\n",
    "for i in tiker:\n",
    "    d.append(i+\".NS\")\n",
    "print(d)"
   ],
   "metadata": {
    "collapsed": false,
    "pycharm": {
     "name": "#%%\n"
    }
   }
  },
  {
   "cell_type": "code",
   "execution_count": 47,
   "outputs": [
    {
     "data": {
      "text/plain": "                AAPL      MSFT     GOOGL\nDate                                    \n2019-01-18       NaN       NaN       NaN\n2019-01-22 -0.022446 -0.018847 -0.025892\n2019-01-23  0.004044  0.009746  0.005359\n2019-01-24 -0.007926 -0.004779 -0.000378\n2019-01-25  0.033137  0.009134  0.016153\n...              ...       ...       ...\n2024-02-09  0.002814  0.015551  0.021177\n2024-02-12 -0.009002 -0.012579 -0.009866\n2024-02-13 -0.011274 -0.021529 -0.016200\n2024-02-14 -0.004810  0.007802  0.005512\n2024-02-15 -0.001575 -0.007155 -0.021721\n\n[1278 rows x 3 columns]",
      "text/html": "<div>\n<style scoped>\n    .dataframe tbody tr th:only-of-type {\n        vertical-align: middle;\n    }\n\n    .dataframe tbody tr th {\n        vertical-align: top;\n    }\n\n    .dataframe thead th {\n        text-align: right;\n    }\n</style>\n<table border=\"1\" class=\"dataframe\">\n  <thead>\n    <tr style=\"text-align: right;\">\n      <th></th>\n      <th>AAPL</th>\n      <th>MSFT</th>\n      <th>GOOGL</th>\n    </tr>\n    <tr>\n      <th>Date</th>\n      <th></th>\n      <th></th>\n      <th></th>\n    </tr>\n  </thead>\n  <tbody>\n    <tr>\n      <th>2019-01-18</th>\n      <td>NaN</td>\n      <td>NaN</td>\n      <td>NaN</td>\n    </tr>\n    <tr>\n      <th>2019-01-22</th>\n      <td>-0.022446</td>\n      <td>-0.018847</td>\n      <td>-0.025892</td>\n    </tr>\n    <tr>\n      <th>2019-01-23</th>\n      <td>0.004044</td>\n      <td>0.009746</td>\n      <td>0.005359</td>\n    </tr>\n    <tr>\n      <th>2019-01-24</th>\n      <td>-0.007926</td>\n      <td>-0.004779</td>\n      <td>-0.000378</td>\n    </tr>\n    <tr>\n      <th>2019-01-25</th>\n      <td>0.033137</td>\n      <td>0.009134</td>\n      <td>0.016153</td>\n    </tr>\n    <tr>\n      <th>...</th>\n      <td>...</td>\n      <td>...</td>\n      <td>...</td>\n    </tr>\n    <tr>\n      <th>2024-02-09</th>\n      <td>0.002814</td>\n      <td>0.015551</td>\n      <td>0.021177</td>\n    </tr>\n    <tr>\n      <th>2024-02-12</th>\n      <td>-0.009002</td>\n      <td>-0.012579</td>\n      <td>-0.009866</td>\n    </tr>\n    <tr>\n      <th>2024-02-13</th>\n      <td>-0.011274</td>\n      <td>-0.021529</td>\n      <td>-0.016200</td>\n    </tr>\n    <tr>\n      <th>2024-02-14</th>\n      <td>-0.004810</td>\n      <td>0.007802</td>\n      <td>0.005512</td>\n    </tr>\n    <tr>\n      <th>2024-02-15</th>\n      <td>-0.001575</td>\n      <td>-0.007155</td>\n      <td>-0.021721</td>\n    </tr>\n  </tbody>\n</table>\n<p>1278 rows × 3 columns</p>\n</div>"
     },
     "execution_count": 47,
     "metadata": {},
     "output_type": "execute_result"
    }
   ],
   "source": [
    "all_stock_returns"
   ],
   "metadata": {
    "collapsed": false,
    "pycharm": {
     "name": "#%%\n"
    }
   }
  },
  {
   "cell_type": "code",
   "execution_count": 49,
   "outputs": [
    {
     "data": {
      "text/plain": "                                           company_url Market_cap  \\\n0    https://www.screener.in/company/GSFC/consolida...      9,687   \n1    https://www.screener.in/company/JBMA/consolida...     24,143   \n2    https://www.screener.in/company/ALKYLAMINE/con...     11,410   \n3    https://www.screener.in/company/CASTROLIND/con...        NaN   \n4    https://www.screener.in/company/IDEA/consolida...     78,764   \n..                                                 ...        ...   \n496  https://www.screener.in/company/CHOLAFIN/conso...     94,900   \n497  https://www.screener.in/company/EICHERMOT/cons...   1,08,816   \n498  https://www.screener.in/company/SONATSOFTW/con...     22,612   \n499  https://www.screener.in/company/SAFARI/consoli...      9,782   \n500  https://www.screener.in/company/BBTC/consolida...     12,302   \n\n    Current_Price   High    Low   P_E Book_Value  Dividend_Yield   ROCE   ROE  \\\n0             243    322    116  12.7        310            4.11  13.10  10.6   \n1           2,042  2,208    520   160       90.1            0.06  11.80  12.9   \n2           2,232  2,798  2,119  60.2        105            0.46  41.30  41.4   \n3             NaN    NaN    NaN   NaN        NaN             NaN    NaN   NaN   \n4            16.2   18.4   5.70   NaN      -18.7            0.00    NaN   NaN   \n..            ...    ...    ...   ...        ...             ...    ...   ...   \n496         1,130  1,310    710  29.6        188            0.18   9.72  20.4   \n497         3,975  4,202  2,836  28.4        582            0.92  27.40  21.1   \n498           806    838    334  52.4       51.4            0.96  39.10  37.7   \n499         2,056  2,315    922  57.3        108            0.08  37.50  34.4   \n500         1,763  1,840    781  19.3        572            0.07  15.50 -70.0   \n\n     ...  Up_from_52w_low  Industry_PE  No_Eq_Shares  Sales_growth_3Years  \\\n0    ...           110.00         27.3          39.8                13.40   \n1    ...           293.00         30.0          11.8                25.60   \n2    ...             5.33         34.0          5.11                25.60   \n3    ...             0.00          0.0             0                 0.00   \n4    ...           184.00         54.4         4,868                -2.11   \n..   ...              ...          ...           ...                  ...   \n496  ...            59.20         21.1          84.0                13.90   \n497  ...            40.20         44.4          27.4                16.40   \n498  ...           142.00         36.5          28.0                25.80   \n499  ...           123.00         67.3          4.76                20.90   \n500  ...           126.00         30.0          6.98                11.80   \n\n    Down_from_52w_high   RSI  EPS_latest_quarter  From_52w_high  \\\n0                24.60  38.6                2.96           0.75   \n1                 7.53  63.1                4.12           0.92   \n2                20.20  38.9                9.65           0.80   \n3                 0.00   0.0                   0           0.00   \n4                12.20  59.1               -1.44           0.88   \n..                 ...   ...                 ...            ...   \n496              13.70  38.8                10.4           0.86   \n497               5.40  55.7                36.4           0.95   \n498               3.79  63.2               -1.65           0.96   \n499              11.20  60.8                9.02           0.89   \n500               4.17  56.8                65.5           0.96   \n\n    Debt_to_equity  Intrinsic_Value  \n0             0.00              429  \n1             1.93              239  \n2             0.16              622  \n3             0.00                0  \n4              NaN              NaN  \n..             ...              ...  \n496           7.56              556  \n497           0.03            1,902  \n498           0.35              353  \n499           0.26              650  \n500           1.39              NaN  \n\n[501 rows x 22 columns]",
      "text/html": "<div>\n<style scoped>\n    .dataframe tbody tr th:only-of-type {\n        vertical-align: middle;\n    }\n\n    .dataframe tbody tr th {\n        vertical-align: top;\n    }\n\n    .dataframe thead th {\n        text-align: right;\n    }\n</style>\n<table border=\"1\" class=\"dataframe\">\n  <thead>\n    <tr style=\"text-align: right;\">\n      <th></th>\n      <th>company_url</th>\n      <th>Market_cap</th>\n      <th>Current_Price</th>\n      <th>High</th>\n      <th>Low</th>\n      <th>P_E</th>\n      <th>Book_Value</th>\n      <th>Dividend_Yield</th>\n      <th>ROCE</th>\n      <th>ROE</th>\n      <th>...</th>\n      <th>Up_from_52w_low</th>\n      <th>Industry_PE</th>\n      <th>No_Eq_Shares</th>\n      <th>Sales_growth_3Years</th>\n      <th>Down_from_52w_high</th>\n      <th>RSI</th>\n      <th>EPS_latest_quarter</th>\n      <th>From_52w_high</th>\n      <th>Debt_to_equity</th>\n      <th>Intrinsic_Value</th>\n    </tr>\n  </thead>\n  <tbody>\n    <tr>\n      <th>0</th>\n      <td>https://www.screener.in/company/GSFC/consolida...</td>\n      <td>9,687</td>\n      <td>243</td>\n      <td>322</td>\n      <td>116</td>\n      <td>12.7</td>\n      <td>310</td>\n      <td>4.11</td>\n      <td>13.10</td>\n      <td>10.6</td>\n      <td>...</td>\n      <td>110.00</td>\n      <td>27.3</td>\n      <td>39.8</td>\n      <td>13.40</td>\n      <td>24.60</td>\n      <td>38.6</td>\n      <td>2.96</td>\n      <td>0.75</td>\n      <td>0.00</td>\n      <td>429</td>\n    </tr>\n    <tr>\n      <th>1</th>\n      <td>https://www.screener.in/company/JBMA/consolida...</td>\n      <td>24,143</td>\n      <td>2,042</td>\n      <td>2,208</td>\n      <td>520</td>\n      <td>160</td>\n      <td>90.1</td>\n      <td>0.06</td>\n      <td>11.80</td>\n      <td>12.9</td>\n      <td>...</td>\n      <td>293.00</td>\n      <td>30.0</td>\n      <td>11.8</td>\n      <td>25.60</td>\n      <td>7.53</td>\n      <td>63.1</td>\n      <td>4.12</td>\n      <td>0.92</td>\n      <td>1.93</td>\n      <td>239</td>\n    </tr>\n    <tr>\n      <th>2</th>\n      <td>https://www.screener.in/company/ALKYLAMINE/con...</td>\n      <td>11,410</td>\n      <td>2,232</td>\n      <td>2,798</td>\n      <td>2,119</td>\n      <td>60.2</td>\n      <td>105</td>\n      <td>0.46</td>\n      <td>41.30</td>\n      <td>41.4</td>\n      <td>...</td>\n      <td>5.33</td>\n      <td>34.0</td>\n      <td>5.11</td>\n      <td>25.60</td>\n      <td>20.20</td>\n      <td>38.9</td>\n      <td>9.65</td>\n      <td>0.80</td>\n      <td>0.16</td>\n      <td>622</td>\n    </tr>\n    <tr>\n      <th>3</th>\n      <td>https://www.screener.in/company/CASTROLIND/con...</td>\n      <td>NaN</td>\n      <td>NaN</td>\n      <td>NaN</td>\n      <td>NaN</td>\n      <td>NaN</td>\n      <td>NaN</td>\n      <td>NaN</td>\n      <td>NaN</td>\n      <td>NaN</td>\n      <td>...</td>\n      <td>0.00</td>\n      <td>0.0</td>\n      <td>0</td>\n      <td>0.00</td>\n      <td>0.00</td>\n      <td>0.0</td>\n      <td>0</td>\n      <td>0.00</td>\n      <td>0.00</td>\n      <td>0</td>\n    </tr>\n    <tr>\n      <th>4</th>\n      <td>https://www.screener.in/company/IDEA/consolida...</td>\n      <td>78,764</td>\n      <td>16.2</td>\n      <td>18.4</td>\n      <td>5.70</td>\n      <td>NaN</td>\n      <td>-18.7</td>\n      <td>0.00</td>\n      <td>NaN</td>\n      <td>NaN</td>\n      <td>...</td>\n      <td>184.00</td>\n      <td>54.4</td>\n      <td>4,868</td>\n      <td>-2.11</td>\n      <td>12.20</td>\n      <td>59.1</td>\n      <td>-1.44</td>\n      <td>0.88</td>\n      <td>NaN</td>\n      <td>NaN</td>\n    </tr>\n    <tr>\n      <th>...</th>\n      <td>...</td>\n      <td>...</td>\n      <td>...</td>\n      <td>...</td>\n      <td>...</td>\n      <td>...</td>\n      <td>...</td>\n      <td>...</td>\n      <td>...</td>\n      <td>...</td>\n      <td>...</td>\n      <td>...</td>\n      <td>...</td>\n      <td>...</td>\n      <td>...</td>\n      <td>...</td>\n      <td>...</td>\n      <td>...</td>\n      <td>...</td>\n      <td>...</td>\n      <td>...</td>\n    </tr>\n    <tr>\n      <th>496</th>\n      <td>https://www.screener.in/company/CHOLAFIN/conso...</td>\n      <td>94,900</td>\n      <td>1,130</td>\n      <td>1,310</td>\n      <td>710</td>\n      <td>29.6</td>\n      <td>188</td>\n      <td>0.18</td>\n      <td>9.72</td>\n      <td>20.4</td>\n      <td>...</td>\n      <td>59.20</td>\n      <td>21.1</td>\n      <td>84.0</td>\n      <td>13.90</td>\n      <td>13.70</td>\n      <td>38.8</td>\n      <td>10.4</td>\n      <td>0.86</td>\n      <td>7.56</td>\n      <td>556</td>\n    </tr>\n    <tr>\n      <th>497</th>\n      <td>https://www.screener.in/company/EICHERMOT/cons...</td>\n      <td>1,08,816</td>\n      <td>3,975</td>\n      <td>4,202</td>\n      <td>2,836</td>\n      <td>28.4</td>\n      <td>582</td>\n      <td>0.92</td>\n      <td>27.40</td>\n      <td>21.1</td>\n      <td>...</td>\n      <td>40.20</td>\n      <td>44.4</td>\n      <td>27.4</td>\n      <td>16.40</td>\n      <td>5.40</td>\n      <td>55.7</td>\n      <td>36.4</td>\n      <td>0.95</td>\n      <td>0.03</td>\n      <td>1,902</td>\n    </tr>\n    <tr>\n      <th>498</th>\n      <td>https://www.screener.in/company/SONATSOFTW/con...</td>\n      <td>22,612</td>\n      <td>806</td>\n      <td>838</td>\n      <td>334</td>\n      <td>52.4</td>\n      <td>51.4</td>\n      <td>0.96</td>\n      <td>39.10</td>\n      <td>37.7</td>\n      <td>...</td>\n      <td>142.00</td>\n      <td>36.5</td>\n      <td>28.0</td>\n      <td>25.80</td>\n      <td>3.79</td>\n      <td>63.2</td>\n      <td>-1.65</td>\n      <td>0.96</td>\n      <td>0.35</td>\n      <td>353</td>\n    </tr>\n    <tr>\n      <th>499</th>\n      <td>https://www.screener.in/company/SAFARI/consoli...</td>\n      <td>9,782</td>\n      <td>2,056</td>\n      <td>2,315</td>\n      <td>922</td>\n      <td>57.3</td>\n      <td>108</td>\n      <td>0.08</td>\n      <td>37.50</td>\n      <td>34.4</td>\n      <td>...</td>\n      <td>123.00</td>\n      <td>67.3</td>\n      <td>4.76</td>\n      <td>20.90</td>\n      <td>11.20</td>\n      <td>60.8</td>\n      <td>9.02</td>\n      <td>0.89</td>\n      <td>0.26</td>\n      <td>650</td>\n    </tr>\n    <tr>\n      <th>500</th>\n      <td>https://www.screener.in/company/BBTC/consolida...</td>\n      <td>12,302</td>\n      <td>1,763</td>\n      <td>1,840</td>\n      <td>781</td>\n      <td>19.3</td>\n      <td>572</td>\n      <td>0.07</td>\n      <td>15.50</td>\n      <td>-70.0</td>\n      <td>...</td>\n      <td>126.00</td>\n      <td>30.0</td>\n      <td>6.98</td>\n      <td>11.80</td>\n      <td>4.17</td>\n      <td>56.8</td>\n      <td>65.5</td>\n      <td>0.96</td>\n      <td>1.39</td>\n      <td>NaN</td>\n    </tr>\n  </tbody>\n</table>\n<p>501 rows × 22 columns</p>\n</div>"
     },
     "execution_count": 49,
     "metadata": {},
     "output_type": "execute_result"
    }
   ],
   "source": [
    "df"
   ],
   "metadata": {
    "collapsed": false,
    "pycharm": {
     "name": "#%%\n"
    }
   }
  },
  {
   "cell_type": "code",
   "execution_count": null,
   "outputs": [],
   "source": [
    "df_sh = {}\n",
    "for symbol in d:\n",
    "    try:\n",
    "        df_sh[symbol] = yf.download(symbol, start=\"2019-01-18\", end=\"2024-02-16\", interval=\"1d\")\n",
    "        df_sh[symbol]['Daily_Return'] = df_sh[symbol]['Close'].pct_change()\n",
    "    except Exception as e:\n",
    "        print(f\"Error occurred for symbol {symbol}: {e}\")\n",
    "\n",
    "if df_sh:  # Check if df_sh is not empty\n",
    "    all_stock_returns = pd.DataFrame()\n",
    "    for symbol in df_sh.keys():\n",
    "        all_stock_returns[symbol] = df_sh[symbol]['Daily_Return']\n",
    "else:\n",
    "    print(\"No data downloaded for any ticker.\")"
   ],
   "metadata": {
    "collapsed": false,
    "pycharm": {
     "name": "#%%\n"
    }
   }
  },
  {
   "cell_type": "code",
   "execution_count": 52,
   "outputs": [],
   "source": [
    "tiker=[]\n",
    "for i in tiker_name:\n",
    "    tiker.append(i+\".NS\")"
   ],
   "metadata": {
    "collapsed": false,
    "pycharm": {
     "name": "#%%\n"
    }
   }
  },
  {
   "cell_type": "code",
   "execution_count": 57,
   "outputs": [
    {
     "data": {
      "text/plain": "3592"
     },
     "execution_count": 57,
     "metadata": {},
     "output_type": "execute_result"
    }
   ],
   "source": [
    "len(tiker)"
   ],
   "metadata": {
    "collapsed": false,
    "pycharm": {
     "name": "#%%\n"
    }
   }
  },
  {
   "cell_type": "code",
   "execution_count": 59,
   "outputs": [
    {
     "data": {
      "text/plain": "'MCDOWELL-N.NS'"
     },
     "execution_count": 59,
     "metadata": {},
     "output_type": "execute_result"
    }
   ],
   "source": [
    "tiker[-0]"
   ],
   "metadata": {
    "collapsed": false,
    "pycharm": {
     "name": "#%%\n"
    }
   }
  },
  {
   "cell_type": "code",
   "execution_count": 61,
   "outputs": [
    {
     "name": "stdout",
     "output_type": "stream",
     "text": [
      "[*********************100%%**********************]  1 of 1 completed\n",
      "[*********************100%%**********************]  1 of 1 completed\n",
      "[*********************100%%**********************]  1 of 1 completed\n",
      "[*********************100%%**********************]  1 of 1 completed\n",
      "[*********************100%%**********************]  1 of 1 completed\n",
      "[*********************100%%**********************]  1 of 1 completed"
     ]
    },
    {
     "name": "stderr",
     "output_type": "stream",
     "text": [
      "\n",
      "1 Failed download:\n",
      "['530305.NS']: Exception('%ticker%: No timezone found, symbol may be delisted')\n"
     ]
    },
    {
     "name": "stdout",
     "output_type": "stream",
     "text": [
      "\n",
      "[*********************100%%**********************]  1 of 1 completed\n",
      "[*********************100%%**********************]  1 of 1 completed\n",
      "[*********************100%%**********************]  1 of 1 completed\n",
      "[*********************100%%**********************]  1 of 1 completed\n",
      "[*********************100%%**********************]  1 of 1 completed"
     ]
    },
    {
     "name": "stderr",
     "output_type": "stream",
     "text": [
      "\n",
      "1 Failed download:\n",
      "['507155.NS']: Exception('%ticker%: No timezone found, symbol may be delisted')\n"
     ]
    },
    {
     "name": "stdout",
     "output_type": "stream",
     "text": [
      "\n",
      "[*********************100%%**********************]  1 of 1 completed\n",
      "[*********************100%%**********************]  1 of 1 completed\n",
      "[*********************100%%**********************]  1 of 1 completed"
     ]
    },
    {
     "name": "stderr",
     "output_type": "stream",
     "text": [
      "\n",
      "1 Failed download:\n",
      "['507435.NS']: Exception('%ticker%: No timezone found, symbol may be delisted')\n"
     ]
    },
    {
     "name": "stdout",
     "output_type": "stream",
     "text": [
      "\n",
      "[*********************100%%**********************]  1 of 1 completed"
     ]
    },
    {
     "name": "stderr",
     "output_type": "stream",
     "text": [
      "\n",
      "1 Failed download:\n",
      "['531216.NS']: Exception('%ticker%: No timezone found, symbol may be delisted')\n"
     ]
    },
    {
     "name": "stdout",
     "output_type": "stream",
     "text": [
      "\n",
      "[*********************100%%**********************]  1 of 1 completed"
     ]
    },
    {
     "name": "stderr",
     "output_type": "stream",
     "text": [
      "\n",
      "1 Failed download:\n",
      "['AURDIS.NS']: Exception('%ticker%: No timezone found, symbol may be delisted')\n"
     ]
    },
    {
     "name": "stdout",
     "output_type": "stream",
     "text": [
      "\n",
      "[*********************100%%**********************]  1 of 1 completed"
     ]
    },
    {
     "name": "stderr",
     "output_type": "stream",
     "text": [
      "\n",
      "1 Failed download:\n",
      "['523309.NS']: Exception('%ticker%: No timezone found, symbol may be delisted')\n"
     ]
    },
    {
     "name": "stdout",
     "output_type": "stream",
     "text": [
      "\n",
      "[*********************100%%**********************]  1 of 1 completed"
     ]
    },
    {
     "name": "stderr",
     "output_type": "stream",
     "text": [
      "\n",
      "1 Failed download:\n",
      "['507498.NS']: Exception('%ticker%: No timezone found, symbol may be delisted')\n"
     ]
    },
    {
     "name": "stdout",
     "output_type": "stream",
     "text": [
      "\n",
      "[*********************100%%**********************]  1 of 1 completed\n",
      "[*********************100%%**********************]  1 of 1 completed"
     ]
    },
    {
     "name": "stderr",
     "output_type": "stream",
     "text": [
      "\n",
      "1 Failed download:\n",
      "['526471.NS']: Exception('%ticker%: No timezone found, symbol may be delisted')\n"
     ]
    },
    {
     "name": "stdout",
     "output_type": "stream",
     "text": [
      "\n",
      "[*********************100%%**********************]  1 of 1 completed"
     ]
    },
    {
     "name": "stderr",
     "output_type": "stream",
     "text": [
      "\n",
      "1 Failed download:\n",
      "['531635.NS']: Exception('%ticker%: No timezone found, symbol may be delisted')\n"
     ]
    },
    {
     "name": "stdout",
     "output_type": "stream",
     "text": [
      "\n",
      "[*********************100%%**********************]  1 of 1 completed\n",
      "[*********************100%%**********************]  1 of 1 completed\n",
      "[*********************100%%**********************]  1 of 1 completed\n",
      "[*********************100%%**********************]  1 of 1 completed\n",
      "[*********************100%%**********************]  1 of 1 completed\n",
      "[*********************100%%**********************]  1 of 1 completed\n",
      "[*********************100%%**********************]  1 of 1 completed\n",
      "[*********************100%%**********************]  1 of 1 completed\n",
      "[*********************100%%**********************]  1 of 1 completed\n",
      "[*********************100%%**********************]  1 of 1 completed\n",
      "[*********************100%%**********************]  1 of 1 completed\n",
      "[*********************100%%**********************]  1 of 1 completed\n",
      "[*********************100%%**********************]  1 of 1 completed\n",
      "[*********************100%%**********************]  1 of 1 completed\n",
      "[*********************100%%**********************]  1 of 1 completed\n",
      "[*********************100%%**********************]  1 of 1 completed\n",
      "[*********************100%%**********************]  1 of 1 completed\n",
      "[*********************100%%**********************]  1 of 1 completed\n",
      "[*********************100%%**********************]  1 of 1 completed\n",
      "[*********************100%%**********************]  1 of 1 completed\n",
      "[*********************100%%**********************]  1 of 1 completed\n",
      "[*********************100%%**********************]  1 of 1 completed\n",
      "[*********************100%%**********************]  1 of 1 completed\n",
      "[*********************100%%**********************]  1 of 1 completed\n",
      "[*********************100%%**********************]  1 of 1 completed\n",
      "[*********************100%%**********************]  1 of 1 completed\n",
      "[*********************100%%**********************]  1 of 1 completed\n",
      "[*********************100%%**********************]  1 of 1 completed\n",
      "[*********************100%%**********************]  1 of 1 completed\n",
      "[*********************100%%**********************]  1 of 1 completed\n",
      "[*********************100%%**********************]  1 of 1 completed\n",
      "[*********************100%%**********************]  1 of 1 completed\n",
      "[*********************100%%**********************]  1 of 1 completed\n",
      "[*********************100%%**********************]  1 of 1 completed\n",
      "[*********************100%%**********************]  1 of 1 completed\n",
      "[*********************100%%**********************]  1 of 1 completed\n",
      "[*********************100%%**********************]  1 of 1 completed\n",
      "[*********************100%%**********************]  1 of 1 completed\n",
      "[*********************100%%**********************]  1 of 1 completed\n",
      "[*********************100%%**********************]  1 of 1 completed\n",
      "[*********************100%%**********************]  1 of 1 completed\n",
      "[*********************100%%**********************]  1 of 1 completed\n",
      "[*********************100%%**********************]  1 of 1 completed\n",
      "[*********************100%%**********************]  1 of 1 completed\n",
      "[*********************100%%**********************]  1 of 1 completed\n",
      "[*********************100%%**********************]  1 of 1 completed\n",
      "[*********************100%%**********************]  1 of 1 completed\n",
      "[*********************100%%**********************]  1 of 1 completed\n",
      "[*********************100%%**********************]  1 of 1 completed\n",
      "[*********************100%%**********************]  1 of 1 completed"
     ]
    },
    {
     "name": "stderr",
     "output_type": "stream",
     "text": [
      "\n",
      "1 Failed download:\n",
      "['520073.NS']: Exception('%ticker%: No timezone found, symbol may be delisted')\n"
     ]
    },
    {
     "name": "stdout",
     "output_type": "stream",
     "text": [
      "\n",
      "[*********************100%%**********************]  1 of 1 completed\n",
      "[*********************100%%**********************]  1 of 1 completed\n",
      "[*********************100%%**********************]  1 of 1 completed\n",
      "[*********************100%%**********************]  1 of 1 completed"
     ]
    },
    {
     "name": "stderr",
     "output_type": "stream",
     "text": [
      "\n",
      "1 Failed download:\n",
      "['533477.NS']: Exception('%ticker%: No timezone found, symbol may be delisted')\n"
     ]
    },
    {
     "name": "stdout",
     "output_type": "stream",
     "text": [
      "\n",
      "[*********************100%%**********************]  1 of 1 completed\n",
      "[*********************100%%**********************]  1 of 1 completed"
     ]
    },
    {
     "name": "stderr",
     "output_type": "stream",
     "text": [
      "\n",
      "1 Failed download:\n",
      "['508807.NS']: Exception('%ticker%: No timezone found, symbol may be delisted')\n"
     ]
    },
    {
     "name": "stdout",
     "output_type": "stream",
     "text": [
      "\n",
      "[*********************100%%**********************]  1 of 1 completed\n",
      "[*********************100%%**********************]  1 of 1 completed"
     ]
    },
    {
     "name": "stderr",
     "output_type": "stream",
     "text": [
      "\n",
      "1 Failed download:\n",
      "['505036.NS']: Exception('%ticker%: No timezone found, symbol may be delisted')\n"
     ]
    },
    {
     "name": "stdout",
     "output_type": "stream",
     "text": [
      "\n",
      "[*********************100%%**********************]  1 of 1 completed\n",
      "[*********************100%%**********************]  1 of 1 completed"
     ]
    },
    {
     "name": "stderr",
     "output_type": "stream",
     "text": [
      "\n",
      "1 Failed download:\n",
      "['538992.NS']: Exception('%ticker%: No timezone found, symbol may be delisted')\n"
     ]
    },
    {
     "name": "stdout",
     "output_type": "stream",
     "text": [
      "\n",
      "[*********************100%%**********************]  1 of 1 completed"
     ]
    },
    {
     "name": "stderr",
     "output_type": "stream",
     "text": [
      "\n",
      "1 Failed download:\n",
      "['539337.NS']: Exception('%ticker%: No timezone found, symbol may be delisted')\n"
     ]
    },
    {
     "name": "stdout",
     "output_type": "stream",
     "text": [
      "\n",
      "[*********************100%%**********************]  1 of 1 completed"
     ]
    },
    {
     "name": "stderr",
     "output_type": "stream",
     "text": [
      "\n",
      "1 Failed download:\n",
      "['505163.NS']: Exception('%ticker%: No timezone found, symbol may be delisted')\n"
     ]
    },
    {
     "name": "stdout",
     "output_type": "stream",
     "text": [
      "\n",
      "[*********************100%%**********************]  1 of 1 completed\n",
      "[*********************100%%**********************]  1 of 1 completed\n",
      "[*********************100%%**********************]  1 of 1 completed\n",
      "[*********************100%%**********************]  1 of 1 completed\n",
      "[*********************100%%**********************]  1 of 1 completed"
     ]
    },
    {
     "name": "stderr",
     "output_type": "stream",
     "text": [
      "\n",
      "1 Failed download:\n",
      "['523229.NS']: Exception('%ticker%: No timezone found, symbol may be delisted')\n"
     ]
    },
    {
     "name": "stdout",
     "output_type": "stream",
     "text": [
      "\n",
      "[*********************100%%**********************]  1 of 1 completed\n",
      "[*********************100%%**********************]  1 of 1 completed\n",
      "[*********************100%%**********************]  1 of 1 completed\n",
      "[*********************100%%**********************]  1 of 1 completed"
     ]
    },
    {
     "name": "stderr",
     "output_type": "stream",
     "text": [
      "\n",
      "1 Failed download:\n",
      "['531727.NS']: Exception('%ticker%: No timezone found, symbol may be delisted')\n"
     ]
    },
    {
     "name": "stdout",
     "output_type": "stream",
     "text": [
      "\n",
      "[*********************100%%**********************]  1 of 1 completed"
     ]
    },
    {
     "name": "stderr",
     "output_type": "stream",
     "text": [
      "\n",
      "1 Failed download:\n",
      "['522195.NS']: Exception('%ticker%: No timezone found, symbol may be delisted')\n"
     ]
    },
    {
     "name": "stdout",
     "output_type": "stream",
     "text": [
      "\n",
      "[*********************100%%**********************]  1 of 1 completed\n",
      "[*********************100%%**********************]  1 of 1 completed\n",
      "[*********************100%%**********************]  1 of 1 completed"
     ]
    },
    {
     "name": "stderr",
     "output_type": "stream",
     "text": [
      "\n",
      "1 Failed download:\n",
      "['538987.NS']: Exception('%ticker%: No timezone found, symbol may be delisted')\n"
     ]
    },
    {
     "name": "stdout",
     "output_type": "stream",
     "text": [
      "\n",
      "[*********************100%%**********************]  1 of 1 completed\n",
      "[*********************100%%**********************]  1 of 1 completed\n",
      "[*********************100%%**********************]  1 of 1 completed\n",
      "[*********************100%%**********************]  1 of 1 completed\n",
      "[*********************100%%**********************]  1 of 1 completed\n",
      "[*********************100%%**********************]  1 of 1 completed"
     ]
    },
    {
     "name": "stderr",
     "output_type": "stream",
     "text": [
      "\n",
      "1 Failed download:\n",
      "['513252.NS']: Exception('%ticker%: No timezone found, symbol may be delisted')\n"
     ]
    },
    {
     "name": "stdout",
     "output_type": "stream",
     "text": [
      "\n",
      "[*********************100%%**********************]  1 of 1 completed"
     ]
    },
    {
     "name": "stderr",
     "output_type": "stream",
     "text": [
      "\n",
      "1 Failed download:\n",
      "['500240.NS']: Exception('%ticker%: No timezone found, symbol may be delisted')\n"
     ]
    },
    {
     "name": "stdout",
     "output_type": "stream",
     "text": [
      "\n",
      "[*********************100%%**********************]  1 of 1 completed\n",
      "[*********************100%%**********************]  1 of 1 completed\n",
      "[*********************100%%**********************]  1 of 1 completed"
     ]
    },
    {
     "name": "stderr",
     "output_type": "stream",
     "text": [
      "\n",
      "1 Failed download:\n",
      "['SHIGAN.NS']: Exception('%ticker%: No timezone found, symbol may be delisted')\n"
     ]
    },
    {
     "name": "stdout",
     "output_type": "stream",
     "text": [
      "\n",
      "[*********************100%%**********************]  1 of 1 completed"
     ]
    },
    {
     "name": "stderr",
     "output_type": "stream",
     "text": [
      "\n",
      "1 Failed download:\n",
      "['523638.NS']: Exception('%ticker%: No timezone found, symbol may be delisted')\n"
     ]
    },
    {
     "name": "stdout",
     "output_type": "stream",
     "text": [
      "\n",
      "[*********************100%%**********************]  1 of 1 completed\n",
      "[*********************100%%**********************]  1 of 1 completed\n",
      "[*********************100%%**********************]  1 of 1 completed"
     ]
    },
    {
     "name": "stderr",
     "output_type": "stream",
     "text": [
      "\n",
      "1 Failed download:\n",
      "['530621.NS']: Exception('%ticker%: No timezone found, symbol may be delisted')\n"
     ]
    },
    {
     "name": "stdout",
     "output_type": "stream",
     "text": [
      "\n",
      "[*********************100%%**********************]  1 of 1 completed"
     ]
    },
    {
     "name": "stderr",
     "output_type": "stream",
     "text": [
      "\n",
      "1 Failed download:\n",
      "['505978.NS']: Exception('%ticker%: No timezone found, symbol may be delisted')\n"
     ]
    },
    {
     "name": "stdout",
     "output_type": "stream",
     "text": [
      "\n",
      "[*********************100%%**********************]  1 of 1 completed"
     ]
    },
    {
     "name": "stderr",
     "output_type": "stream",
     "text": [
      "\n",
      "1 Failed download:\n",
      "['520075.NS']: Exception('%ticker%: No timezone found, symbol may be delisted')\n"
     ]
    },
    {
     "name": "stdout",
     "output_type": "stream",
     "text": [
      "\n",
      "[*********************100%%**********************]  1 of 1 completed"
     ]
    },
    {
     "name": "stderr",
     "output_type": "stream",
     "text": [
      "\n",
      "1 Failed download:\n",
      "['505712.NS']: Exception('%ticker%: No timezone found, symbol may be delisted')\n"
     ]
    },
    {
     "name": "stdout",
     "output_type": "stream",
     "text": [
      "\n",
      "[*********************100%%**********************]  1 of 1 completed"
     ]
    },
    {
     "name": "stderr",
     "output_type": "stream",
     "text": [
      "\n",
      "1 Failed download:\n",
      "['539353.NS']: Exception('%ticker%: No timezone found, symbol may be delisted')\n"
     ]
    },
    {
     "name": "stdout",
     "output_type": "stream",
     "text": [
      "\n",
      "[*********************100%%**********************]  1 of 1 completed\n",
      "[*********************100%%**********************]  1 of 1 completed"
     ]
    },
    {
     "name": "stderr",
     "output_type": "stream",
     "text": [
      "\n",
      "1 Failed download:\n",
      "['542459.NS']: Exception('%ticker%: No timezone found, symbol may be delisted')\n"
     ]
    },
    {
     "name": "stdout",
     "output_type": "stream",
     "text": [
      "\n",
      "[*********************100%%**********************]  1 of 1 completed\n",
      "[*********************100%%**********************]  1 of 1 completed"
     ]
    },
    {
     "name": "stderr",
     "output_type": "stream",
     "text": [
      "\n",
      "1 Failed download:\n",
      "['505893.NS']: Exception('%ticker%: No timezone found, symbol may be delisted')\n"
     ]
    },
    {
     "name": "stdout",
     "output_type": "stream",
     "text": [
      "\n",
      "[*********************100%%**********************]  1 of 1 completed"
     ]
    },
    {
     "name": "stderr",
     "output_type": "stream",
     "text": [
      "\n",
      "1 Failed download:\n",
      "['531994.NS']: Exception('%ticker%: No timezone found, symbol may be delisted')\n"
     ]
    },
    {
     "name": "stdout",
     "output_type": "stream",
     "text": [
      "\n",
      "[*********************100%%**********************]  1 of 1 completed"
     ]
    },
    {
     "name": "stderr",
     "output_type": "stream",
     "text": [
      "\n",
      "1 Failed download:\n",
      "['522207.NS']: Exception('%ticker%: No timezone found, symbol may be delisted')\n"
     ]
    },
    {
     "name": "stdout",
     "output_type": "stream",
     "text": [
      "\n",
      "[*********************100%%**********************]  1 of 1 completed"
     ]
    },
    {
     "name": "stderr",
     "output_type": "stream",
     "text": [
      "\n",
      "1 Failed download:\n",
      "['543065.NS']: Exception('%ticker%: No timezone found, symbol may be delisted')\n"
     ]
    },
    {
     "name": "stdout",
     "output_type": "stream",
     "text": [
      "\n",
      "[*********************100%%**********************]  1 of 1 completed"
     ]
    },
    {
     "name": "stderr",
     "output_type": "stream",
     "text": [
      "\n",
      "1 Failed download:\n",
      "['543606.NS']: Exception('%ticker%: No timezone found, symbol may be delisted')\n"
     ]
    },
    {
     "name": "stdout",
     "output_type": "stream",
     "text": [
      "\n",
      "[*********************100%%**********************]  1 of 1 completed"
     ]
    },
    {
     "name": "stderr",
     "output_type": "stream",
     "text": [
      "\n",
      "1 Failed download:\n",
      "['UWCSL.NS']: Exception('%ticker%: No timezone found, symbol may be delisted')\n"
     ]
    },
    {
     "name": "stdout",
     "output_type": "stream",
     "text": [
      "\n",
      "[*********************100%%**********************]  1 of 1 completed"
     ]
    },
    {
     "name": "stderr",
     "output_type": "stream",
     "text": [
      "\n",
      "1 Failed download:\n",
      "['513496.NS']: Exception('%ticker%: No timezone found, symbol may be delisted')\n"
     ]
    },
    {
     "name": "stdout",
     "output_type": "stream",
     "text": [
      "\n",
      "[*********************100%%**********************]  1 of 1 completed"
     ]
    },
    {
     "name": "stderr",
     "output_type": "stream",
     "text": [
      "\n",
      "1 Failed download:\n",
      "['PRECISION.NS']: Exception('%ticker%: No timezone found, symbol may be delisted')\n"
     ]
    },
    {
     "name": "stdout",
     "output_type": "stream",
     "text": [
      "\n",
      "[*********************100%%**********************]  1 of 1 completed"
     ]
    },
    {
     "name": "stderr",
     "output_type": "stream",
     "text": [
      "\n",
      "1 Failed download:\n",
      "['530711.NS']: Exception('%ticker%: No timezone found, symbol may be delisted')\n"
     ]
    },
    {
     "name": "stdout",
     "output_type": "stream",
     "text": [
      "\n",
      "[*********************100%%**********************]  1 of 1 completed"
     ]
    },
    {
     "name": "stderr",
     "output_type": "stream",
     "text": [
      "\n",
      "1 Failed download:\n",
      "['ASLIND.NS']: Exception('%ticker%: No timezone found, symbol may be delisted')\n"
     ]
    },
    {
     "name": "stdout",
     "output_type": "stream",
     "text": [
      "\n",
      "[*********************100%%**********************]  1 of 1 completed"
     ]
    },
    {
     "name": "stderr",
     "output_type": "stream",
     "text": [
      "\n",
      "1 Failed download:\n",
      "['513059.NS']: Exception('%ticker%: No timezone found, symbol may be delisted')\n"
     ]
    },
    {
     "name": "stdout",
     "output_type": "stream",
     "text": [
      "\n",
      "[*********************100%%**********************]  1 of 1 completed"
     ]
    },
    {
     "name": "stderr",
     "output_type": "stream",
     "text": [
      "\n",
      "1 Failed download:\n",
      "['505212.NS']: Exception('%ticker%: No timezone found, symbol may be delisted')\n"
     ]
    },
    {
     "name": "stdout",
     "output_type": "stream",
     "text": [
      "\n",
      "[*********************100%%**********************]  1 of 1 completed"
     ]
    },
    {
     "name": "stderr",
     "output_type": "stream",
     "text": [
      "\n",
      "1 Failed download:\n",
      "['520141.NS']: Exception('%ticker%: No timezone found, symbol may be delisted')\n"
     ]
    },
    {
     "name": "stdout",
     "output_type": "stream",
     "text": [
      "\n",
      "[*********************100%%**********************]  1 of 1 completed"
     ]
    },
    {
     "name": "stderr",
     "output_type": "stream",
     "text": [
      "\n",
      "1 Failed download:\n",
      "['517230.NS']: Exception('%ticker%: No timezone found, symbol may be delisted')\n"
     ]
    },
    {
     "name": "stdout",
     "output_type": "stream",
     "text": [
      "\n",
      "[*********************100%%**********************]  1 of 1 completed"
     ]
    },
    {
     "name": "stderr",
     "output_type": "stream",
     "text": [
      "\n",
      "1 Failed download:\n",
      "['513687.NS']: Exception('%ticker%: No timezone found, symbol may be delisted')\n"
     ]
    },
    {
     "name": "stdout",
     "output_type": "stream",
     "text": [
      "\n",
      "[*********************100%%**********************]  1 of 1 completed"
     ]
    },
    {
     "name": "stderr",
     "output_type": "stream",
     "text": [
      "\n",
      "1 Failed download:\n",
      "['505100.NS']: Exception('%ticker%: No timezone found, symbol may be delisted')\n"
     ]
    },
    {
     "name": "stdout",
     "output_type": "stream",
     "text": [
      "\n",
      "[*********************100%%**********************]  1 of 1 completed\n",
      "[*********************100%%**********************]  1 of 1 completed\n",
      "[*********************100%%**********************]  1 of 1 completed\n",
      "[*********************100%%**********************]  1 of 1 completed\n",
      "[*********************100%%**********************]  1 of 1 completed\n",
      "[*********************100%%**********************]  1 of 1 completed\n",
      "[*********************100%%**********************]  1 of 1 completed\n",
      "[*********************100%%**********************]  1 of 1 completed\n",
      "[*********************100%%**********************]  1 of 1 completed\n",
      "[*********************100%%**********************]  1 of 1 completed\n",
      "[*********************100%%**********************]  1 of 1 completed\n",
      "[*********************100%%**********************]  1 of 1 completed\n",
      "[*********************100%%**********************]  1 of 1 completed\n",
      "[*********************100%%**********************]  1 of 1 completed"
     ]
    },
    {
     "name": "stderr",
     "output_type": "stream",
     "text": [
      "\n",
      "1 Failed download:\n",
      "['531357.NS']: Exception('%ticker%: No timezone found, symbol may be delisted')\n"
     ]
    },
    {
     "name": "stdout",
     "output_type": "stream",
     "text": [
      "\n",
      "[*********************100%%**********************]  1 of 1 completed\n",
      "[*********************100%%**********************]  1 of 1 completed\n",
      "[*********************100%%**********************]  1 of 1 completed"
     ]
    },
    {
     "name": "stderr",
     "output_type": "stream",
     "text": [
      "\n",
      "1 Failed download:\n",
      "['538970.NS']: Exception('%ticker%: No timezone found, symbol may be delisted')\n"
     ]
    },
    {
     "name": "stdout",
     "output_type": "stream",
     "text": [
      "\n",
      "[*********************100%%**********************]  1 of 1 completed"
     ]
    },
    {
     "name": "stderr",
     "output_type": "stream",
     "text": [
      "\n",
      "1 Failed download:\n",
      "['505141.NS']: Exception('%ticker%: No timezone found, symbol may be delisted')\n"
     ]
    },
    {
     "name": "stdout",
     "output_type": "stream",
     "text": [
      "\n",
      "[*********************100%%**********************]  1 of 1 completed\n",
      "[*********************100%%**********************]  1 of 1 completed\n",
      "[*********************100%%**********************]  1 of 1 completed\n",
      "[*********************100%%**********************]  1 of 1 completed\n",
      "[*********************100%%**********************]  1 of 1 completed\n",
      "[*********************100%%**********************]  1 of 1 completed\n",
      "[*********************100%%**********************]  1 of 1 completed\n",
      "[*********************100%%**********************]  1 of 1 completed\n",
      "[*********************100%%**********************]  1 of 1 completed\n",
      "[*********************100%%**********************]  1 of 1 completed\n",
      "[*********************100%%**********************]  1 of 1 completed\n",
      "[*********************100%%**********************]  1 of 1 completed\n",
      "[*********************100%%**********************]  1 of 1 completed\n",
      "[*********************100%%**********************]  1 of 1 completed\n",
      "[*********************100%%**********************]  1 of 1 completed\n",
      "[*********************100%%**********************]  1 of 1 completed\n",
      "[*********************100%%**********************]  1 of 1 completed\n",
      "[*********************100%%**********************]  1 of 1 completed\n",
      "[*********************100%%**********************]  1 of 1 completed\n",
      "[*********************100%%**********************]  1 of 1 completed\n",
      "[*********************100%%**********************]  1 of 1 completed\n",
      "[*********************100%%**********************]  1 of 1 completed\n",
      "[*********************100%%**********************]  1 of 1 completed\n",
      "[*********************100%%**********************]  1 of 1 completed\n",
      "[*********************100%%**********************]  1 of 1 completed\n",
      "[*********************100%%**********************]  1 of 1 completed\n",
      "[*********************100%%**********************]  1 of 1 completed\n",
      "[*********************100%%**********************]  1 of 1 completed\n",
      "[*********************100%%**********************]  1 of 1 completed\n",
      "[*********************100%%**********************]  1 of 1 completed\n",
      "[*********************100%%**********************]  1 of 1 completed\n",
      "[*********************100%%**********************]  1 of 1 completed\n",
      "[*********************100%%**********************]  1 of 1 completed\n",
      "[*********************100%%**********************]  1 of 1 completed\n",
      "[*********************100%%**********************]  1 of 1 completed\n",
      "[*********************100%%**********************]  1 of 1 completed\n",
      "[*********************100%%**********************]  1 of 1 completed\n",
      "[*********************100%%**********************]  1 of 1 completed\n",
      "[*********************100%%**********************]  1 of 1 completed\n",
      "[*********************100%%**********************]  1 of 1 completed\n",
      "[*********************100%%**********************]  1 of 1 completed\n",
      "[*********************100%%**********************]  1 of 1 completed\n",
      "[*********************100%%**********************]  1 of 1 completed\n",
      "[*********************100%%**********************]  1 of 1 completed\n",
      "[*********************100%%**********************]  1 of 1 completed\n",
      "[*********************100%%**********************]  1 of 1 completed"
     ]
    },
    {
     "name": "stderr",
     "output_type": "stream",
     "text": [
      "\n",
      "1 Failed download:\n",
      "['526073.NS']: Exception('%ticker%: No timezone found, symbol may be delisted')\n"
     ]
    },
    {
     "name": "stdout",
     "output_type": "stream",
     "text": [
      "\n",
      "[*********************100%%**********************]  1 of 1 completed"
     ]
    },
    {
     "name": "stderr",
     "output_type": "stream",
     "text": [
      "\n",
      "1 Failed download:\n",
      "['SKP.NS']: Exception('%ticker%: No timezone found, symbol may be delisted')\n"
     ]
    },
    {
     "name": "stdout",
     "output_type": "stream",
     "text": [
      "\n",
      "[*********************100%%**********************]  1 of 1 completed"
     ]
    },
    {
     "name": "stderr",
     "output_type": "stream",
     "text": [
      "\n",
      "1 Failed download:\n",
      "['505681.NS']: Exception('%ticker%: No timezone found, symbol may be delisted')\n"
     ]
    },
    {
     "name": "stdout",
     "output_type": "stream",
     "text": [
      "\n",
      "[*********************100%%**********************]  1 of 1 completed"
     ]
    },
    {
     "name": "stderr",
     "output_type": "stream",
     "text": [
      "\n",
      "1 Failed download:\n",
      "['539398.NS']: Exception('%ticker%: No timezone found, symbol may be delisted')\n"
     ]
    },
    {
     "name": "stdout",
     "output_type": "stream",
     "text": [
      "\n",
      "[*********************100%%**********************]  1 of 1 completed"
     ]
    },
    {
     "name": "stderr",
     "output_type": "stream",
     "text": [
      "\n",
      "1 Failed download:\n",
      "['505827.NS']: Exception('%ticker%: No timezone found, symbol may be delisted')\n"
     ]
    },
    {
     "name": "stdout",
     "output_type": "stream",
     "text": [
      "\n",
      "[*********************100%%**********************]  1 of 1 completed\n",
      "[*********************100%%**********************]  1 of 1 completed"
     ]
    },
    {
     "name": "stderr",
     "output_type": "stream",
     "text": [
      "\n",
      "1 Failed download:\n",
      "['522005.NS']: Exception('%ticker%: No timezone found, symbol may be delisted')\n"
     ]
    },
    {
     "name": "stdout",
     "output_type": "stream",
     "text": [
      "\n",
      "[*********************100%%**********************]  1 of 1 completed"
     ]
    },
    {
     "name": "stderr",
     "output_type": "stream",
     "text": [
      "\n",
      "1 Failed download:\n",
      "['541178.NS']: Exception('%ticker%: No timezone found, symbol may be delisted')\n"
     ]
    },
    {
     "name": "stdout",
     "output_type": "stream",
     "text": [
      "\n",
      "[*********************100%%**********************]  1 of 1 completed\n",
      "[*********************100%%**********************]  1 of 1 completed\n",
      "[*********************100%%**********************]  1 of 1 completed\n",
      "[*********************100%%**********************]  1 of 1 completed\n",
      "[*********************100%%**********************]  1 of 1 completed\n",
      "[*********************100%%**********************]  1 of 1 completed\n",
      "[*********************100%%**********************]  1 of 1 completed\n",
      "[*********************100%%**********************]  1 of 1 completed\n",
      "[*********************100%%**********************]  1 of 1 completed\n",
      "[*********************100%%**********************]  1 of 1 completed\n",
      "[*********************100%%**********************]  1 of 1 completed\n",
      "[*********************100%%**********************]  1 of 1 completed"
     ]
    },
    {
     "name": "stderr",
     "output_type": "stream",
     "text": [
      "\n",
      "1 Failed download:\n",
      "['VMARCIND.NS']: Exception('%ticker%: No timezone found, symbol may be delisted')\n"
     ]
    },
    {
     "name": "stdout",
     "output_type": "stream",
     "text": [
      "\n",
      "[*********************100%%**********************]  1 of 1 completed"
     ]
    },
    {
     "name": "stderr",
     "output_type": "stream",
     "text": [
      "\n",
      "1 Failed download:\n",
      "['538706.NS']: Exception('%ticker%: No timezone found, symbol may be delisted')\n"
     ]
    },
    {
     "name": "stdout",
     "output_type": "stream",
     "text": [
      "\n",
      "[*********************100%%**********************]  1 of 1 completed"
     ]
    },
    {
     "name": "stderr",
     "output_type": "stream",
     "text": [
      "\n",
      "1 Failed download:\n",
      "['504240.NS']: Exception('%ticker%: No timezone found, symbol may be delisted')\n"
     ]
    },
    {
     "name": "stdout",
     "output_type": "stream",
     "text": [
      "\n",
      "[*********************100%%**********************]  1 of 1 completed\n",
      "[*********************100%%**********************]  1 of 1 completed\n",
      "[*********************100%%**********************]  1 of 1 completed"
     ]
    },
    {
     "name": "stderr",
     "output_type": "stream",
     "text": [
      "\n",
      "1 Failed download:\n",
      "['539760.NS']: Exception('%ticker%: No timezone found, symbol may be delisted')\n"
     ]
    },
    {
     "name": "stdout",
     "output_type": "stream",
     "text": [
      "\n",
      "[*********************100%%**********************]  1 of 1 completed"
     ]
    },
    {
     "name": "stderr",
     "output_type": "stream",
     "text": [
      "\n",
      "1 Failed download:\n",
      "['MARCO.NS']: Exception('%ticker%: No timezone found, symbol may be delisted')\n"
     ]
    },
    {
     "name": "stdout",
     "output_type": "stream",
     "text": [
      "\n",
      "[*********************100%%**********************]  1 of 1 completed"
     ]
    },
    {
     "name": "stderr",
     "output_type": "stream",
     "text": [
      "\n",
      "1 Failed download:\n",
      "['531472.NS']: Exception('%ticker%: No timezone found, symbol may be delisted')\n"
     ]
    },
    {
     "name": "stdout",
     "output_type": "stream",
     "text": [
      "\n",
      "[*********************100%%**********************]  1 of 1 completed\n",
      "[*********************100%%**********************]  1 of 1 completed\n",
      "[*********************100%%**********************]  1 of 1 completed"
     ]
    },
    {
     "name": "stderr",
     "output_type": "stream",
     "text": [
      "\n",
      "1 Failed download:\n",
      "['540651.NS']: Exception('%ticker%: No timezone found, symbol may be delisted')\n"
     ]
    },
    {
     "name": "stdout",
     "output_type": "stream",
     "text": [
      "\n",
      "[*********************100%%**********************]  1 of 1 completed\n",
      "[*********************100%%**********************]  1 of 1 completed"
     ]
    },
    {
     "name": "stderr",
     "output_type": "stream",
     "text": [
      "\n",
      "1 Failed download:\n",
      "['531812.NS']: Exception('%ticker%: No timezone found, symbol may be delisted')\n"
     ]
    },
    {
     "name": "stdout",
     "output_type": "stream",
     "text": [
      "\n",
      "[*********************100%%**********************]  1 of 1 completed\n",
      "[*********************100%%**********************]  1 of 1 completed\n",
      "[*********************100%%**********************]  1 of 1 completed\n",
      "[*********************100%%**********************]  1 of 1 completed\n",
      "[*********************100%%**********************]  1 of 1 completed\n",
      "[*********************100%%**********************]  1 of 1 completed\n",
      "[*********************100%%**********************]  1 of 1 completed\n",
      "[*********************100%%**********************]  1 of 1 completed\n",
      "[*********************100%%**********************]  1 of 1 completed\n",
      "[*********************100%%**********************]  1 of 1 completed\n",
      "[*********************100%%**********************]  1 of 1 completed\n",
      "[*********************100%%**********************]  1 of 1 completed\n",
      "[*********************100%%**********************]  1 of 1 completed\n",
      "[*********************100%%**********************]  1 of 1 completed\n",
      "[*********************100%%**********************]  1 of 1 completed\n",
      "[*********************100%%**********************]  1 of 1 completed\n"
     ]
    },
    {
     "ename": "KeyboardInterrupt",
     "evalue": "",
     "output_type": "error",
     "traceback": [
      "\u001B[1;31m---------------------------------------------------------------------------\u001B[0m",
      "\u001B[1;31mKeyboardInterrupt\u001B[0m                         Traceback (most recent call last)",
      "Cell \u001B[1;32mIn[61], line 4\u001B[0m\n\u001B[0;32m      2\u001B[0m \u001B[38;5;28;01mfor\u001B[39;00m symbol \u001B[38;5;129;01min\u001B[39;00m tiker:\n\u001B[0;32m      3\u001B[0m     \u001B[38;5;28;01mtry\u001B[39;00m:\n\u001B[1;32m----> 4\u001B[0m         df_sh[symbol] \u001B[38;5;241m=\u001B[39m \u001B[43myf\u001B[49m\u001B[38;5;241;43m.\u001B[39;49m\u001B[43mdownload\u001B[49m\u001B[43m(\u001B[49m\u001B[43msymbol\u001B[49m\u001B[43m,\u001B[49m\u001B[43m \u001B[49m\u001B[43mstart\u001B[49m\u001B[38;5;241;43m=\u001B[39;49m\u001B[38;5;124;43m\"\u001B[39;49m\u001B[38;5;124;43m2019-01-18\u001B[39;49m\u001B[38;5;124;43m\"\u001B[39;49m\u001B[43m,\u001B[49m\u001B[43m \u001B[49m\u001B[43mend\u001B[49m\u001B[38;5;241;43m=\u001B[39;49m\u001B[38;5;124;43m\"\u001B[39;49m\u001B[38;5;124;43m2024-02-16\u001B[39;49m\u001B[38;5;124;43m\"\u001B[39;49m\u001B[43m,\u001B[49m\u001B[43m \u001B[49m\u001B[43minterval\u001B[49m\u001B[38;5;241;43m=\u001B[39;49m\u001B[38;5;124;43m\"\u001B[39;49m\u001B[38;5;124;43m1d\u001B[39;49m\u001B[38;5;124;43m\"\u001B[39;49m\u001B[43m)\u001B[49m\n\u001B[0;32m      5\u001B[0m         df_sh[symbol][\u001B[38;5;124m'\u001B[39m\u001B[38;5;124mDaily_Return\u001B[39m\u001B[38;5;124m'\u001B[39m] \u001B[38;5;241m=\u001B[39m df_sh[symbol][\u001B[38;5;124m'\u001B[39m\u001B[38;5;124mClose\u001B[39m\u001B[38;5;124m'\u001B[39m]\u001B[38;5;241m.\u001B[39mpct_change()\n\u001B[0;32m      6\u001B[0m     \u001B[38;5;28;01mexcept\u001B[39;00m \u001B[38;5;167;01mException\u001B[39;00m \u001B[38;5;28;01mas\u001B[39;00m e:\n",
      "File \u001B[1;32m~\\AppData\\Roaming\\Python\\Python310\\site-packages\\yfinance\\utils.py:114\u001B[0m, in \u001B[0;36mlog_indent_decorator.<locals>.wrapper\u001B[1;34m(*args, **kwargs)\u001B[0m\n\u001B[0;32m    111\u001B[0m logger\u001B[38;5;241m.\u001B[39mdebug(\u001B[38;5;124mf\u001B[39m\u001B[38;5;124m'\u001B[39m\u001B[38;5;124mEntering \u001B[39m\u001B[38;5;132;01m{\u001B[39;00mfunc\u001B[38;5;241m.\u001B[39m\u001B[38;5;18m__name__\u001B[39m\u001B[38;5;132;01m}\u001B[39;00m\u001B[38;5;124m()\u001B[39m\u001B[38;5;124m'\u001B[39m)\n\u001B[0;32m    113\u001B[0m \u001B[38;5;28;01mwith\u001B[39;00m IndentationContext():\n\u001B[1;32m--> 114\u001B[0m     result \u001B[38;5;241m=\u001B[39m func(\u001B[38;5;241m*\u001B[39margs, \u001B[38;5;241m*\u001B[39m\u001B[38;5;241m*\u001B[39mkwargs)\n\u001B[0;32m    116\u001B[0m logger\u001B[38;5;241m.\u001B[39mdebug(\u001B[38;5;124mf\u001B[39m\u001B[38;5;124m'\u001B[39m\u001B[38;5;124mExiting \u001B[39m\u001B[38;5;132;01m{\u001B[39;00mfunc\u001B[38;5;241m.\u001B[39m\u001B[38;5;18m__name__\u001B[39m\u001B[38;5;132;01m}\u001B[39;00m\u001B[38;5;124m()\u001B[39m\u001B[38;5;124m'\u001B[39m)\n\u001B[0;32m    117\u001B[0m \u001B[38;5;28;01mreturn\u001B[39;00m result\n",
      "File \u001B[1;32m~\\AppData\\Roaming\\Python\\Python310\\site-packages\\yfinance\\multi.py:159\u001B[0m, in \u001B[0;36mdownload\u001B[1;34m(tickers, start, end, actions, threads, ignore_tz, group_by, auto_adjust, back_adjust, repair, keepna, progress, period, show_errors, interval, prepost, proxy, rounding, timeout, session)\u001B[0m\n\u001B[0;32m    152\u001B[0m         _download_one_threaded(ticker, period\u001B[38;5;241m=\u001B[39mperiod, interval\u001B[38;5;241m=\u001B[39minterval,\n\u001B[0;32m    153\u001B[0m                                start\u001B[38;5;241m=\u001B[39mstart, end\u001B[38;5;241m=\u001B[39mend, prepost\u001B[38;5;241m=\u001B[39mprepost,\n\u001B[0;32m    154\u001B[0m                                actions\u001B[38;5;241m=\u001B[39mactions, auto_adjust\u001B[38;5;241m=\u001B[39mauto_adjust,\n\u001B[0;32m    155\u001B[0m                                back_adjust\u001B[38;5;241m=\u001B[39mback_adjust, repair\u001B[38;5;241m=\u001B[39mrepair, keepna\u001B[38;5;241m=\u001B[39mkeepna,\n\u001B[0;32m    156\u001B[0m                                progress\u001B[38;5;241m=\u001B[39m(progress \u001B[38;5;129;01mand\u001B[39;00m i \u001B[38;5;241m>\u001B[39m \u001B[38;5;241m0\u001B[39m), proxy\u001B[38;5;241m=\u001B[39mproxy,\n\u001B[0;32m    157\u001B[0m                                rounding\u001B[38;5;241m=\u001B[39mrounding, timeout\u001B[38;5;241m=\u001B[39mtimeout, session\u001B[38;5;241m=\u001B[39msession)\n\u001B[0;32m    158\u001B[0m     \u001B[38;5;28;01mwhile\u001B[39;00m \u001B[38;5;28mlen\u001B[39m(shared\u001B[38;5;241m.\u001B[39m_DFS) \u001B[38;5;241m<\u001B[39m \u001B[38;5;28mlen\u001B[39m(tickers):\n\u001B[1;32m--> 159\u001B[0m         \u001B[43m_time\u001B[49m\u001B[38;5;241;43m.\u001B[39;49m\u001B[43msleep\u001B[49m\u001B[43m(\u001B[49m\u001B[38;5;241;43m0.01\u001B[39;49m\u001B[43m)\u001B[49m\n\u001B[0;32m    160\u001B[0m \u001B[38;5;66;03m# download synchronously\u001B[39;00m\n\u001B[0;32m    161\u001B[0m \u001B[38;5;28;01melse\u001B[39;00m:\n\u001B[0;32m    162\u001B[0m     \u001B[38;5;28;01mfor\u001B[39;00m i, ticker \u001B[38;5;129;01min\u001B[39;00m \u001B[38;5;28menumerate\u001B[39m(tickers):\n",
      "\u001B[1;31mKeyboardInterrupt\u001B[0m: "
     ]
    }
   ],
   "source": [
    "df_sh = {}\n",
    "for symbol in tiker:\n",
    "    try:\n",
    "        df_sh[symbol] = yf.download(symbol, start=\"2019-01-18\", end=\"2024-02-16\", interval=\"1d\")\n",
    "        df_sh[symbol]['Daily_Return'] = df_sh[symbol]['Close'].pct_change()\n",
    "    except Exception as e:\n",
    "        print(f\"Error occurred for symbol {symbol}: {e}\")\n",
    "\n",
    "if df_sh:  # Check if df_sh is not empty\n",
    "    all_stock_returns = pd.DataFrame()\n",
    "    for symbol in df_sh.keys():\n",
    "        all_stock_returns[symbol] = df_sh[symbol]['Daily_Return']\n",
    "else:\n",
    "    print(\"No data downloaded for any ticker.\")"
   ],
   "metadata": {
    "collapsed": false,
    "pycharm": {
     "name": "#%%\n"
    }
   }
  },
  {
   "cell_type": "code",
   "execution_count": 2,
   "outputs": [],
   "source": [
    "df4=pd.read_csv(\"D:\\Pyn\\online learning\\FINAL_DATA\\SCRNER_DATA\\yf20240217.csv\")"
   ],
   "metadata": {
    "collapsed": false,
    "pycharm": {
     "name": "#%%\n"
    }
   }
  },
  {
   "cell_type": "code",
   "execution_count": 3,
   "outputs": [],
   "source": [
    "df4=df4.iloc[1::]"
   ],
   "metadata": {
    "collapsed": false,
    "pycharm": {
     "name": "#%%\n"
    }
   }
  },
  {
   "cell_type": "code",
   "execution_count": 4,
   "outputs": [],
   "source": [
    "df4=df4.iloc[::-1]"
   ],
   "metadata": {
    "collapsed": false,
    "pycharm": {
     "name": "#%%\n"
    }
   }
  },
  {
   "cell_type": "code",
   "execution_count": 5,
   "outputs": [],
   "source": [
    "df4.set_index(\"Date\",inplace=True)"
   ],
   "metadata": {
    "collapsed": false,
    "pycharm": {
     "name": "#%%\n"
    }
   }
  },
  {
   "cell_type": "code",
   "execution_count": 6,
   "outputs": [],
   "source": [
    "df4=df4.apply(lambda x: x*100)"
   ],
   "metadata": {
    "collapsed": false,
    "pycharm": {
     "name": "#%%\n"
    }
   }
  },
  {
   "cell_type": "code",
   "execution_count": 7,
   "outputs": [],
   "source": [
    "df5=df4.copy()"
   ],
   "metadata": {
    "collapsed": false,
    "pycharm": {
     "name": "#%%\n"
    }
   }
  },
  {
   "cell_type": "code",
   "execution_count": null,
   "outputs": [],
   "source": [
    "df4=df4.iloc[1::]\n",
    "df4=df4.iloc[::-1]\n",
    "df4.set_index(\"Date\",inplace=True)\n",
    "df4=df4.apply(lambda x: x*100)\n"
   ],
   "metadata": {
    "collapsed": false,
    "pycharm": {
     "name": "#%%\n"
    }
   }
  },
  {
   "cell_type": "code",
   "execution_count": 8,
   "outputs": [
    {
     "data": {
      "text/plain": "GSFC.NS            0\nJBMA.NS            0\nALKYLAMINE.NS      0\nCASTROLIND.NS      0\nIDEA.NS            0\n                ... \nCHOLAFIN.NS        0\nEICHERMOT.NS       0\nSONATSOFTW.NS      0\nSAFARI.NS        402\nBBTC.NS            0\nLength: 501, dtype: int64"
     },
     "execution_count": 8,
     "metadata": {},
     "output_type": "execute_result"
    }
   ],
   "source": [
    "df5.isna().sum()"
   ],
   "metadata": {
    "collapsed": false,
    "pycharm": {
     "name": "#%%\n"
    }
   }
  },
  {
   "cell_type": "code",
   "execution_count": 95,
   "outputs": [
    {
     "data": {
      "text/plain": "Index(['GSFC.NS', 'JBMA.NS', 'ALKYLAMINE.NS', 'CASTROLIND.NS', 'IDEA.NS',\n       'SPARC.NS', 'ENGINERSIN.NS', 'JUBLPHARMA.NS', 'GNFC.NS', 'GUJGASLTD.NS',\n       ...\n       'METROBRAND.NS', '360ONE.NS', 'GOCOLORS.NS', 'CHEMPLASTS.NS',\n       'BSOFT.NS', 'CHOLAFIN.NS', 'EICHERMOT.NS', 'SONATSOFTW.NS', 'SAFARI.NS',\n       'BBTC.NS'],\n      dtype='object', length=501)"
     },
     "execution_count": 95,
     "metadata": {},
     "output_type": "execute_result"
    }
   ],
   "source": [
    "for i in df5.columns:\n",
    "    i."
   ],
   "metadata": {
    "collapsed": false,
    "pycharm": {
     "name": "#%%\n"
    }
   }
  },
  {
   "cell_type": "code",
   "execution_count": 99,
   "outputs": [],
   "source": [
    "df5=df5.T"
   ],
   "metadata": {
    "collapsed": false,
    "pycharm": {
     "name": "#%%\n"
    }
   }
  },
  {
   "cell_type": "code",
   "execution_count": 11,
   "outputs": [
    {
     "name": "stdout",
     "output_type": "stream",
     "text": [
      "CIEINDIA.NS\n",
      "GODREJIND.NS\n",
      "GSPL.NS\n",
      "YESBANK.NS\n",
      "CENTURYTEX.NS\n",
      "FORTIS.NS\n",
      "RCF.NS\n",
      "GUJALKALI.NS\n",
      "ROUTE.NS\n",
      "LICHSGFIN.NS\n"
     ]
    }
   ],
   "source": [
    "for i in df5.columns[10:20]:\n",
    "    print(i)"
   ],
   "metadata": {
    "collapsed": false,
    "pycharm": {
     "name": "#%%\n"
    }
   }
  },
  {
   "cell_type": "code",
   "execution_count": 12,
   "outputs": [
    {
     "ename": "KeyError",
     "evalue": "'2024-02-15'",
     "output_type": "error",
     "traceback": [
      "\u001B[1;31m---------------------------------------------------------------------------\u001B[0m",
      "\u001B[1;31mKeyError\u001B[0m                                  Traceback (most recent call last)",
      "File \u001B[1;32m~\\AppData\\Roaming\\Python\\Python310\\site-packages\\pandas\\core\\indexes\\base.py:3653\u001B[0m, in \u001B[0;36mIndex.get_loc\u001B[1;34m(self, key)\u001B[0m\n\u001B[0;32m   3652\u001B[0m \u001B[38;5;28;01mtry\u001B[39;00m:\n\u001B[1;32m-> 3653\u001B[0m     \u001B[38;5;28;01mreturn\u001B[39;00m \u001B[38;5;28;43mself\u001B[39;49m\u001B[38;5;241;43m.\u001B[39;49m\u001B[43m_engine\u001B[49m\u001B[38;5;241;43m.\u001B[39;49m\u001B[43mget_loc\u001B[49m\u001B[43m(\u001B[49m\u001B[43mcasted_key\u001B[49m\u001B[43m)\u001B[49m\n\u001B[0;32m   3654\u001B[0m \u001B[38;5;28;01mexcept\u001B[39;00m \u001B[38;5;167;01mKeyError\u001B[39;00m \u001B[38;5;28;01mas\u001B[39;00m err:\n",
      "File \u001B[1;32m~\\AppData\\Roaming\\Python\\Python310\\site-packages\\pandas\\_libs\\index.pyx:147\u001B[0m, in \u001B[0;36mpandas._libs.index.IndexEngine.get_loc\u001B[1;34m()\u001B[0m\n",
      "File \u001B[1;32m~\\AppData\\Roaming\\Python\\Python310\\site-packages\\pandas\\_libs\\index.pyx:176\u001B[0m, in \u001B[0;36mpandas._libs.index.IndexEngine.get_loc\u001B[1;34m()\u001B[0m\n",
      "File \u001B[1;32mpandas\\_libs\\hashtable_class_helper.pxi:7080\u001B[0m, in \u001B[0;36mpandas._libs.hashtable.PyObjectHashTable.get_item\u001B[1;34m()\u001B[0m\n",
      "File \u001B[1;32mpandas\\_libs\\hashtable_class_helper.pxi:7088\u001B[0m, in \u001B[0;36mpandas._libs.hashtable.PyObjectHashTable.get_item\u001B[1;34m()\u001B[0m\n",
      "\u001B[1;31mKeyError\u001B[0m: '2024-02-15'",
      "\nThe above exception was the direct cause of the following exception:\n",
      "\u001B[1;31mKeyError\u001B[0m                                  Traceback (most recent call last)",
      "Cell \u001B[1;32mIn[12], line 1\u001B[0m\n\u001B[1;32m----> 1\u001B[0m df5[(\u001B[43mdf5\u001B[49m\u001B[43m[\u001B[49m\u001B[38;5;124;43m\"\u001B[39;49m\u001B[38;5;124;43m2024-02-15\u001B[39;49m\u001B[38;5;124;43m\"\u001B[39;49m\u001B[43m]\u001B[49m\u001B[38;5;241m>\u001B[39m\u001B[38;5;241m5\u001B[39m)]\n",
      "File \u001B[1;32m~\\AppData\\Roaming\\Python\\Python310\\site-packages\\pandas\\core\\frame.py:3761\u001B[0m, in \u001B[0;36mDataFrame.__getitem__\u001B[1;34m(self, key)\u001B[0m\n\u001B[0;32m   3759\u001B[0m \u001B[38;5;28;01mif\u001B[39;00m \u001B[38;5;28mself\u001B[39m\u001B[38;5;241m.\u001B[39mcolumns\u001B[38;5;241m.\u001B[39mnlevels \u001B[38;5;241m>\u001B[39m \u001B[38;5;241m1\u001B[39m:\n\u001B[0;32m   3760\u001B[0m     \u001B[38;5;28;01mreturn\u001B[39;00m \u001B[38;5;28mself\u001B[39m\u001B[38;5;241m.\u001B[39m_getitem_multilevel(key)\n\u001B[1;32m-> 3761\u001B[0m indexer \u001B[38;5;241m=\u001B[39m \u001B[38;5;28;43mself\u001B[39;49m\u001B[38;5;241;43m.\u001B[39;49m\u001B[43mcolumns\u001B[49m\u001B[38;5;241;43m.\u001B[39;49m\u001B[43mget_loc\u001B[49m\u001B[43m(\u001B[49m\u001B[43mkey\u001B[49m\u001B[43m)\u001B[49m\n\u001B[0;32m   3762\u001B[0m \u001B[38;5;28;01mif\u001B[39;00m is_integer(indexer):\n\u001B[0;32m   3763\u001B[0m     indexer \u001B[38;5;241m=\u001B[39m [indexer]\n",
      "File \u001B[1;32m~\\AppData\\Roaming\\Python\\Python310\\site-packages\\pandas\\core\\indexes\\base.py:3655\u001B[0m, in \u001B[0;36mIndex.get_loc\u001B[1;34m(self, key)\u001B[0m\n\u001B[0;32m   3653\u001B[0m     \u001B[38;5;28;01mreturn\u001B[39;00m \u001B[38;5;28mself\u001B[39m\u001B[38;5;241m.\u001B[39m_engine\u001B[38;5;241m.\u001B[39mget_loc(casted_key)\n\u001B[0;32m   3654\u001B[0m \u001B[38;5;28;01mexcept\u001B[39;00m \u001B[38;5;167;01mKeyError\u001B[39;00m \u001B[38;5;28;01mas\u001B[39;00m err:\n\u001B[1;32m-> 3655\u001B[0m     \u001B[38;5;28;01mraise\u001B[39;00m \u001B[38;5;167;01mKeyError\u001B[39;00m(key) \u001B[38;5;28;01mfrom\u001B[39;00m \u001B[38;5;21;01merr\u001B[39;00m\n\u001B[0;32m   3656\u001B[0m \u001B[38;5;28;01mexcept\u001B[39;00m \u001B[38;5;167;01mTypeError\u001B[39;00m:\n\u001B[0;32m   3657\u001B[0m     \u001B[38;5;66;03m# If we have a listlike key, _check_indexing_error will raise\u001B[39;00m\n\u001B[0;32m   3658\u001B[0m     \u001B[38;5;66;03m#  InvalidIndexError. Otherwise we fall through and re-raise\u001B[39;00m\n\u001B[0;32m   3659\u001B[0m     \u001B[38;5;66;03m#  the TypeError.\u001B[39;00m\n\u001B[0;32m   3660\u001B[0m     \u001B[38;5;28mself\u001B[39m\u001B[38;5;241m.\u001B[39m_check_indexing_error(key)\n",
      "\u001B[1;31mKeyError\u001B[0m: '2024-02-15'"
     ]
    }
   ],
   "source": [
    "df5[(df5[\"2024-02-15\"]>5)]"
   ],
   "metadata": {
    "collapsed": false,
    "pycharm": {
     "name": "#%%\n"
    }
   }
  },
  {
   "cell_type": "code",
   "execution_count": 13,
   "outputs": [
    {
     "data": {
      "text/plain": "             GSFC.NS   JBMA.NS  ALKYLAMINE.NS  CASTROLIND.NS   IDEA.NS  \\\nDate                                                                     \n2024-02-15  1.749951  0.112231      -0.509303       0.837135  2.572345   \n2024-02-14  1.389483 -0.479034       0.215503       3.193720  5.782316   \n2024-02-13  1.343150 -2.530545       1.704963      -1.393907  1.730104   \n2024-02-12 -9.383586  2.647200      -2.296957      -3.918655 -6.774195   \n2024-02-09 -0.952750  1.725352       0.049609       2.283105  4.729728   \n...              ...       ...            ...            ...       ...   \n2018-01-25 -3.119924 -1.279523      -1.305046      -2.192517  1.277958   \n2018-01-24 -0.645786 -0.470223       3.362348      -0.979617 -5.485659   \n2018-01-23 -0.128989  0.068620       5.934118       0.505595 -0.150756   \n2018-01-22  1.672133  0.000000      -0.920636       0.079890 -2.737047   \n2018-01-19  1.463737 -0.244475       1.164192       0.697240  1.186946   \n\n            SPARC.NS  ENGINERSIN.NS  JUBLPHARMA.NS   GNFC.NS  GUJGASLTD.NS  \\\nDate                                                                         \n2024-02-15  3.086145       0.325277       4.539615  1.232369      3.769536   \n2024-02-14 -3.527586       4.238314       0.481967  0.710325     -0.347163   \n2024-02-13  3.854043       2.482005      -0.904049 -0.605171      0.223035   \n2024-02-12 -4.785822     -11.020317       4.538162 -4.056871     -3.851434   \n2024-02-09  0.617721      -5.882357      -1.700265 -1.948759     -2.938967   \n...              ...            ...            ...       ...           ...   \n2018-01-25 -0.300090      -0.344238      -0.666145 -2.056279     -1.777928   \n2018-01-24  0.705148      -1.636565       1.856106 -2.080923     -0.254149   \n2018-01-23 -1.066376       0.056460       0.473268  1.426615      0.917641   \n2018-01-22  0.976151      -1.910826       0.852322  3.321557      1.211417   \n2018-01-19  0.394021       1.290324      -2.075458  0.527759     -1.202554   \n\n            ...  METROBRAND.NS  360ONE.NS  GOCOLORS.NS  CHEMPLASTS.NS  \\\nDate        ...                                                         \n2024-02-15  ...      -1.453255   0.812319     0.609474      -0.485118   \n2024-02-14  ...       0.633886   2.334822    -0.472716       1.636035   \n2024-02-13  ...       0.372668   6.702663     3.844650      -2.469943   \n2024-02-12  ...       0.004538  -0.924650    -2.163386      -2.535150   \n2024-02-09  ...      -0.312609  -0.281953     3.156787      -0.666595   \n...         ...            ...        ...          ...            ...   \n2018-01-25  ...            NaN        NaN          NaN            NaN   \n2018-01-24  ...            NaN        NaN          NaN            NaN   \n2018-01-23  ...            NaN        NaN          NaN            NaN   \n2018-01-22  ...            NaN        NaN          NaN            NaN   \n2018-01-19  ...            NaN        NaN          NaN            NaN   \n\n            BSOFT.NS  CHOLAFIN.NS  EICHERMOT.NS  SONATSOFTW.NS  SAFARI.NS  \\\nDate                                                                        \n2024-02-15  1.259370    -0.062207      0.384463       4.567679  -0.896357   \n2024-02-14 -1.114870    -1.445213      1.228532      -0.441941   0.562471   \n2024-02-13  2.268180     3.644855     -0.455858      -0.401884   0.716605   \n2024-02-12 -1.073916    -1.848882      0.804492      -1.619182  -1.106103   \n2024-02-09 -0.537057    -0.983714      0.883826      -0.194173  -0.654092   \n...              ...          ...           ...            ...        ...   \n2018-01-25  0.570759     0.118687      0.436861      -4.439478        NaN   \n2018-01-24  3.342338    -0.377599     -2.464606       0.594376        NaN   \n2018-01-23  1.750438     0.137493     -2.092420      -0.016064        NaN   \n2018-01-22  1.678107    -1.028200     -1.284034       2.468729        NaN   \n2018-01-19  2.262093     0.616155      0.196932       4.344841        NaN   \n\n             BBTC.NS  \nDate                  \n2024-02-15  0.849157  \n2024-02-14 -3.553597  \n2024-02-13  7.621721  \n2024-02-12 -3.487158  \n2024-02-09 -1.432876  \n...              ...  \n2018-01-25 -2.339429  \n2018-01-24 -2.242674  \n2018-01-23 -0.628654  \n2018-01-22 -0.658863  \n2018-01-19  1.370602  \n\n[1499 rows x 501 columns]",
      "text/html": "<div>\n<style scoped>\n    .dataframe tbody tr th:only-of-type {\n        vertical-align: middle;\n    }\n\n    .dataframe tbody tr th {\n        vertical-align: top;\n    }\n\n    .dataframe thead th {\n        text-align: right;\n    }\n</style>\n<table border=\"1\" class=\"dataframe\">\n  <thead>\n    <tr style=\"text-align: right;\">\n      <th></th>\n      <th>GSFC.NS</th>\n      <th>JBMA.NS</th>\n      <th>ALKYLAMINE.NS</th>\n      <th>CASTROLIND.NS</th>\n      <th>IDEA.NS</th>\n      <th>SPARC.NS</th>\n      <th>ENGINERSIN.NS</th>\n      <th>JUBLPHARMA.NS</th>\n      <th>GNFC.NS</th>\n      <th>GUJGASLTD.NS</th>\n      <th>...</th>\n      <th>METROBRAND.NS</th>\n      <th>360ONE.NS</th>\n      <th>GOCOLORS.NS</th>\n      <th>CHEMPLASTS.NS</th>\n      <th>BSOFT.NS</th>\n      <th>CHOLAFIN.NS</th>\n      <th>EICHERMOT.NS</th>\n      <th>SONATSOFTW.NS</th>\n      <th>SAFARI.NS</th>\n      <th>BBTC.NS</th>\n    </tr>\n    <tr>\n      <th>Date</th>\n      <th></th>\n      <th></th>\n      <th></th>\n      <th></th>\n      <th></th>\n      <th></th>\n      <th></th>\n      <th></th>\n      <th></th>\n      <th></th>\n      <th></th>\n      <th></th>\n      <th></th>\n      <th></th>\n      <th></th>\n      <th></th>\n      <th></th>\n      <th></th>\n      <th></th>\n      <th></th>\n      <th></th>\n    </tr>\n  </thead>\n  <tbody>\n    <tr>\n      <th>2024-02-15</th>\n      <td>1.749951</td>\n      <td>0.112231</td>\n      <td>-0.509303</td>\n      <td>0.837135</td>\n      <td>2.572345</td>\n      <td>3.086145</td>\n      <td>0.325277</td>\n      <td>4.539615</td>\n      <td>1.232369</td>\n      <td>3.769536</td>\n      <td>...</td>\n      <td>-1.453255</td>\n      <td>0.812319</td>\n      <td>0.609474</td>\n      <td>-0.485118</td>\n      <td>1.259370</td>\n      <td>-0.062207</td>\n      <td>0.384463</td>\n      <td>4.567679</td>\n      <td>-0.896357</td>\n      <td>0.849157</td>\n    </tr>\n    <tr>\n      <th>2024-02-14</th>\n      <td>1.389483</td>\n      <td>-0.479034</td>\n      <td>0.215503</td>\n      <td>3.193720</td>\n      <td>5.782316</td>\n      <td>-3.527586</td>\n      <td>4.238314</td>\n      <td>0.481967</td>\n      <td>0.710325</td>\n      <td>-0.347163</td>\n      <td>...</td>\n      <td>0.633886</td>\n      <td>2.334822</td>\n      <td>-0.472716</td>\n      <td>1.636035</td>\n      <td>-1.114870</td>\n      <td>-1.445213</td>\n      <td>1.228532</td>\n      <td>-0.441941</td>\n      <td>0.562471</td>\n      <td>-3.553597</td>\n    </tr>\n    <tr>\n      <th>2024-02-13</th>\n      <td>1.343150</td>\n      <td>-2.530545</td>\n      <td>1.704963</td>\n      <td>-1.393907</td>\n      <td>1.730104</td>\n      <td>3.854043</td>\n      <td>2.482005</td>\n      <td>-0.904049</td>\n      <td>-0.605171</td>\n      <td>0.223035</td>\n      <td>...</td>\n      <td>0.372668</td>\n      <td>6.702663</td>\n      <td>3.844650</td>\n      <td>-2.469943</td>\n      <td>2.268180</td>\n      <td>3.644855</td>\n      <td>-0.455858</td>\n      <td>-0.401884</td>\n      <td>0.716605</td>\n      <td>7.621721</td>\n    </tr>\n    <tr>\n      <th>2024-02-12</th>\n      <td>-9.383586</td>\n      <td>2.647200</td>\n      <td>-2.296957</td>\n      <td>-3.918655</td>\n      <td>-6.774195</td>\n      <td>-4.785822</td>\n      <td>-11.020317</td>\n      <td>4.538162</td>\n      <td>-4.056871</td>\n      <td>-3.851434</td>\n      <td>...</td>\n      <td>0.004538</td>\n      <td>-0.924650</td>\n      <td>-2.163386</td>\n      <td>-2.535150</td>\n      <td>-1.073916</td>\n      <td>-1.848882</td>\n      <td>0.804492</td>\n      <td>-1.619182</td>\n      <td>-1.106103</td>\n      <td>-3.487158</td>\n    </tr>\n    <tr>\n      <th>2024-02-09</th>\n      <td>-0.952750</td>\n      <td>1.725352</td>\n      <td>0.049609</td>\n      <td>2.283105</td>\n      <td>4.729728</td>\n      <td>0.617721</td>\n      <td>-5.882357</td>\n      <td>-1.700265</td>\n      <td>-1.948759</td>\n      <td>-2.938967</td>\n      <td>...</td>\n      <td>-0.312609</td>\n      <td>-0.281953</td>\n      <td>3.156787</td>\n      <td>-0.666595</td>\n      <td>-0.537057</td>\n      <td>-0.983714</td>\n      <td>0.883826</td>\n      <td>-0.194173</td>\n      <td>-0.654092</td>\n      <td>-1.432876</td>\n    </tr>\n    <tr>\n      <th>...</th>\n      <td>...</td>\n      <td>...</td>\n      <td>...</td>\n      <td>...</td>\n      <td>...</td>\n      <td>...</td>\n      <td>...</td>\n      <td>...</td>\n      <td>...</td>\n      <td>...</td>\n      <td>...</td>\n      <td>...</td>\n      <td>...</td>\n      <td>...</td>\n      <td>...</td>\n      <td>...</td>\n      <td>...</td>\n      <td>...</td>\n      <td>...</td>\n      <td>...</td>\n      <td>...</td>\n    </tr>\n    <tr>\n      <th>2018-01-25</th>\n      <td>-3.119924</td>\n      <td>-1.279523</td>\n      <td>-1.305046</td>\n      <td>-2.192517</td>\n      <td>1.277958</td>\n      <td>-0.300090</td>\n      <td>-0.344238</td>\n      <td>-0.666145</td>\n      <td>-2.056279</td>\n      <td>-1.777928</td>\n      <td>...</td>\n      <td>NaN</td>\n      <td>NaN</td>\n      <td>NaN</td>\n      <td>NaN</td>\n      <td>0.570759</td>\n      <td>0.118687</td>\n      <td>0.436861</td>\n      <td>-4.439478</td>\n      <td>NaN</td>\n      <td>-2.339429</td>\n    </tr>\n    <tr>\n      <th>2018-01-24</th>\n      <td>-0.645786</td>\n      <td>-0.470223</td>\n      <td>3.362348</td>\n      <td>-0.979617</td>\n      <td>-5.485659</td>\n      <td>0.705148</td>\n      <td>-1.636565</td>\n      <td>1.856106</td>\n      <td>-2.080923</td>\n      <td>-0.254149</td>\n      <td>...</td>\n      <td>NaN</td>\n      <td>NaN</td>\n      <td>NaN</td>\n      <td>NaN</td>\n      <td>3.342338</td>\n      <td>-0.377599</td>\n      <td>-2.464606</td>\n      <td>0.594376</td>\n      <td>NaN</td>\n      <td>-2.242674</td>\n    </tr>\n    <tr>\n      <th>2018-01-23</th>\n      <td>-0.128989</td>\n      <td>0.068620</td>\n      <td>5.934118</td>\n      <td>0.505595</td>\n      <td>-0.150756</td>\n      <td>-1.066376</td>\n      <td>0.056460</td>\n      <td>0.473268</td>\n      <td>1.426615</td>\n      <td>0.917641</td>\n      <td>...</td>\n      <td>NaN</td>\n      <td>NaN</td>\n      <td>NaN</td>\n      <td>NaN</td>\n      <td>1.750438</td>\n      <td>0.137493</td>\n      <td>-2.092420</td>\n      <td>-0.016064</td>\n      <td>NaN</td>\n      <td>-0.628654</td>\n    </tr>\n    <tr>\n      <th>2018-01-22</th>\n      <td>1.672133</td>\n      <td>0.000000</td>\n      <td>-0.920636</td>\n      <td>0.079890</td>\n      <td>-2.737047</td>\n      <td>0.976151</td>\n      <td>-1.910826</td>\n      <td>0.852322</td>\n      <td>3.321557</td>\n      <td>1.211417</td>\n      <td>...</td>\n      <td>NaN</td>\n      <td>NaN</td>\n      <td>NaN</td>\n      <td>NaN</td>\n      <td>1.678107</td>\n      <td>-1.028200</td>\n      <td>-1.284034</td>\n      <td>2.468729</td>\n      <td>NaN</td>\n      <td>-0.658863</td>\n    </tr>\n    <tr>\n      <th>2018-01-19</th>\n      <td>1.463737</td>\n      <td>-0.244475</td>\n      <td>1.164192</td>\n      <td>0.697240</td>\n      <td>1.186946</td>\n      <td>0.394021</td>\n      <td>1.290324</td>\n      <td>-2.075458</td>\n      <td>0.527759</td>\n      <td>-1.202554</td>\n      <td>...</td>\n      <td>NaN</td>\n      <td>NaN</td>\n      <td>NaN</td>\n      <td>NaN</td>\n      <td>2.262093</td>\n      <td>0.616155</td>\n      <td>0.196932</td>\n      <td>4.344841</td>\n      <td>NaN</td>\n      <td>1.370602</td>\n    </tr>\n  </tbody>\n</table>\n<p>1499 rows × 501 columns</p>\n</div>"
     },
     "execution_count": 13,
     "metadata": {},
     "output_type": "execute_result"
    }
   ],
   "source": [
    "df5"
   ],
   "metadata": {
    "collapsed": false,
    "pycharm": {
     "name": "#%%\n"
    }
   }
  },
  {
   "cell_type": "code",
   "execution_count": 10,
   "outputs": [
    {
     "data": {
      "text/plain": "             GSFC.NS   JBMA.NS  ALKYLAMINE.NS  CASTROLIND.NS   IDEA.NS  \\\nDate                                                                     \n2024-02-15  1.749951  0.112231      -0.509303       0.837135  2.572345   \n2024-02-14  1.389483 -0.479034       0.215503       3.193720  5.782316   \n2024-02-13  1.343150 -2.530545       1.704963      -1.393907  1.730104   \n2024-02-12 -9.383586  2.647200      -2.296957      -3.918655 -6.774195   \n2024-02-09 -0.952750  1.725352       0.049609       2.283105  4.729728   \n...              ...       ...            ...            ...       ...   \n2018-01-25 -3.119924 -1.279523      -1.305046      -2.192517  1.277958   \n2018-01-24 -0.645786 -0.470223       3.362348      -0.979617 -5.485659   \n2018-01-23 -0.128989  0.068620       5.934118       0.505595 -0.150756   \n2018-01-22  1.672133  0.000000      -0.920636       0.079890 -2.737047   \n2018-01-19  1.463737 -0.244475       1.164192       0.697240  1.186946   \n\n            SPARC.NS  ENGINERSIN.NS  JUBLPHARMA.NS   GNFC.NS  GUJGASLTD.NS  \\\nDate                                                                         \n2024-02-15  3.086145       0.325277       4.539615  1.232369      3.769536   \n2024-02-14 -3.527586       4.238314       0.481967  0.710325     -0.347163   \n2024-02-13  3.854043       2.482005      -0.904049 -0.605171      0.223035   \n2024-02-12 -4.785822     -11.020317       4.538162 -4.056871     -3.851434   \n2024-02-09  0.617721      -5.882357      -1.700265 -1.948759     -2.938967   \n...              ...            ...            ...       ...           ...   \n2018-01-25 -0.300090      -0.344238      -0.666145 -2.056279     -1.777928   \n2018-01-24  0.705148      -1.636565       1.856106 -2.080923     -0.254149   \n2018-01-23 -1.066376       0.056460       0.473268  1.426615      0.917641   \n2018-01-22  0.976151      -1.910826       0.852322  3.321557      1.211417   \n2018-01-19  0.394021       1.290324      -2.075458  0.527759     -1.202554   \n\n            ...  METROBRAND.NS  360ONE.NS  GOCOLORS.NS  CHEMPLASTS.NS  \\\nDate        ...                                                         \n2024-02-15  ...      -1.453255   0.812319     0.609474      -0.485118   \n2024-02-14  ...       0.633886   2.334822    -0.472716       1.636035   \n2024-02-13  ...       0.372668   6.702663     3.844650      -2.469943   \n2024-02-12  ...       0.004538  -0.924650    -2.163386      -2.535150   \n2024-02-09  ...      -0.312609  -0.281953     3.156787      -0.666595   \n...         ...            ...        ...          ...            ...   \n2018-01-25  ...            NaN        NaN          NaN            NaN   \n2018-01-24  ...            NaN        NaN          NaN            NaN   \n2018-01-23  ...            NaN        NaN          NaN            NaN   \n2018-01-22  ...            NaN        NaN          NaN            NaN   \n2018-01-19  ...            NaN        NaN          NaN            NaN   \n\n            BSOFT.NS  CHOLAFIN.NS  EICHERMOT.NS  SONATSOFTW.NS  SAFARI.NS  \\\nDate                                                                        \n2024-02-15  1.259370    -0.062207      0.384463       4.567679  -0.896357   \n2024-02-14 -1.114870    -1.445213      1.228532      -0.441941   0.562471   \n2024-02-13  2.268180     3.644855     -0.455858      -0.401884   0.716605   \n2024-02-12 -1.073916    -1.848882      0.804492      -1.619182  -1.106103   \n2024-02-09 -0.537057    -0.983714      0.883826      -0.194173  -0.654092   \n...              ...          ...           ...            ...        ...   \n2018-01-25  0.570759     0.118687      0.436861      -4.439478        NaN   \n2018-01-24  3.342338    -0.377599     -2.464606       0.594376        NaN   \n2018-01-23  1.750438     0.137493     -2.092420      -0.016064        NaN   \n2018-01-22  1.678107    -1.028200     -1.284034       2.468729        NaN   \n2018-01-19  2.262093     0.616155      0.196932       4.344841        NaN   \n\n             BBTC.NS  \nDate                  \n2024-02-15  0.849157  \n2024-02-14 -3.553597  \n2024-02-13  7.621721  \n2024-02-12 -3.487158  \n2024-02-09 -1.432876  \n...              ...  \n2018-01-25 -2.339429  \n2018-01-24 -2.242674  \n2018-01-23 -0.628654  \n2018-01-22 -0.658863  \n2018-01-19  1.370602  \n\n[1499 rows x 501 columns]",
      "text/html": "<div>\n<style scoped>\n    .dataframe tbody tr th:only-of-type {\n        vertical-align: middle;\n    }\n\n    .dataframe tbody tr th {\n        vertical-align: top;\n    }\n\n    .dataframe thead th {\n        text-align: right;\n    }\n</style>\n<table border=\"1\" class=\"dataframe\">\n  <thead>\n    <tr style=\"text-align: right;\">\n      <th></th>\n      <th>GSFC.NS</th>\n      <th>JBMA.NS</th>\n      <th>ALKYLAMINE.NS</th>\n      <th>CASTROLIND.NS</th>\n      <th>IDEA.NS</th>\n      <th>SPARC.NS</th>\n      <th>ENGINERSIN.NS</th>\n      <th>JUBLPHARMA.NS</th>\n      <th>GNFC.NS</th>\n      <th>GUJGASLTD.NS</th>\n      <th>...</th>\n      <th>METROBRAND.NS</th>\n      <th>360ONE.NS</th>\n      <th>GOCOLORS.NS</th>\n      <th>CHEMPLASTS.NS</th>\n      <th>BSOFT.NS</th>\n      <th>CHOLAFIN.NS</th>\n      <th>EICHERMOT.NS</th>\n      <th>SONATSOFTW.NS</th>\n      <th>SAFARI.NS</th>\n      <th>BBTC.NS</th>\n    </tr>\n    <tr>\n      <th>Date</th>\n      <th></th>\n      <th></th>\n      <th></th>\n      <th></th>\n      <th></th>\n      <th></th>\n      <th></th>\n      <th></th>\n      <th></th>\n      <th></th>\n      <th></th>\n      <th></th>\n      <th></th>\n      <th></th>\n      <th></th>\n      <th></th>\n      <th></th>\n      <th></th>\n      <th></th>\n      <th></th>\n      <th></th>\n    </tr>\n  </thead>\n  <tbody>\n    <tr>\n      <th>2024-02-15</th>\n      <td>1.749951</td>\n      <td>0.112231</td>\n      <td>-0.509303</td>\n      <td>0.837135</td>\n      <td>2.572345</td>\n      <td>3.086145</td>\n      <td>0.325277</td>\n      <td>4.539615</td>\n      <td>1.232369</td>\n      <td>3.769536</td>\n      <td>...</td>\n      <td>-1.453255</td>\n      <td>0.812319</td>\n      <td>0.609474</td>\n      <td>-0.485118</td>\n      <td>1.259370</td>\n      <td>-0.062207</td>\n      <td>0.384463</td>\n      <td>4.567679</td>\n      <td>-0.896357</td>\n      <td>0.849157</td>\n    </tr>\n    <tr>\n      <th>2024-02-14</th>\n      <td>1.389483</td>\n      <td>-0.479034</td>\n      <td>0.215503</td>\n      <td>3.193720</td>\n      <td>5.782316</td>\n      <td>-3.527586</td>\n      <td>4.238314</td>\n      <td>0.481967</td>\n      <td>0.710325</td>\n      <td>-0.347163</td>\n      <td>...</td>\n      <td>0.633886</td>\n      <td>2.334822</td>\n      <td>-0.472716</td>\n      <td>1.636035</td>\n      <td>-1.114870</td>\n      <td>-1.445213</td>\n      <td>1.228532</td>\n      <td>-0.441941</td>\n      <td>0.562471</td>\n      <td>-3.553597</td>\n    </tr>\n    <tr>\n      <th>2024-02-13</th>\n      <td>1.343150</td>\n      <td>-2.530545</td>\n      <td>1.704963</td>\n      <td>-1.393907</td>\n      <td>1.730104</td>\n      <td>3.854043</td>\n      <td>2.482005</td>\n      <td>-0.904049</td>\n      <td>-0.605171</td>\n      <td>0.223035</td>\n      <td>...</td>\n      <td>0.372668</td>\n      <td>6.702663</td>\n      <td>3.844650</td>\n      <td>-2.469943</td>\n      <td>2.268180</td>\n      <td>3.644855</td>\n      <td>-0.455858</td>\n      <td>-0.401884</td>\n      <td>0.716605</td>\n      <td>7.621721</td>\n    </tr>\n    <tr>\n      <th>2024-02-12</th>\n      <td>-9.383586</td>\n      <td>2.647200</td>\n      <td>-2.296957</td>\n      <td>-3.918655</td>\n      <td>-6.774195</td>\n      <td>-4.785822</td>\n      <td>-11.020317</td>\n      <td>4.538162</td>\n      <td>-4.056871</td>\n      <td>-3.851434</td>\n      <td>...</td>\n      <td>0.004538</td>\n      <td>-0.924650</td>\n      <td>-2.163386</td>\n      <td>-2.535150</td>\n      <td>-1.073916</td>\n      <td>-1.848882</td>\n      <td>0.804492</td>\n      <td>-1.619182</td>\n      <td>-1.106103</td>\n      <td>-3.487158</td>\n    </tr>\n    <tr>\n      <th>2024-02-09</th>\n      <td>-0.952750</td>\n      <td>1.725352</td>\n      <td>0.049609</td>\n      <td>2.283105</td>\n      <td>4.729728</td>\n      <td>0.617721</td>\n      <td>-5.882357</td>\n      <td>-1.700265</td>\n      <td>-1.948759</td>\n      <td>-2.938967</td>\n      <td>...</td>\n      <td>-0.312609</td>\n      <td>-0.281953</td>\n      <td>3.156787</td>\n      <td>-0.666595</td>\n      <td>-0.537057</td>\n      <td>-0.983714</td>\n      <td>0.883826</td>\n      <td>-0.194173</td>\n      <td>-0.654092</td>\n      <td>-1.432876</td>\n    </tr>\n    <tr>\n      <th>...</th>\n      <td>...</td>\n      <td>...</td>\n      <td>...</td>\n      <td>...</td>\n      <td>...</td>\n      <td>...</td>\n      <td>...</td>\n      <td>...</td>\n      <td>...</td>\n      <td>...</td>\n      <td>...</td>\n      <td>...</td>\n      <td>...</td>\n      <td>...</td>\n      <td>...</td>\n      <td>...</td>\n      <td>...</td>\n      <td>...</td>\n      <td>...</td>\n      <td>...</td>\n      <td>...</td>\n    </tr>\n    <tr>\n      <th>2018-01-25</th>\n      <td>-3.119924</td>\n      <td>-1.279523</td>\n      <td>-1.305046</td>\n      <td>-2.192517</td>\n      <td>1.277958</td>\n      <td>-0.300090</td>\n      <td>-0.344238</td>\n      <td>-0.666145</td>\n      <td>-2.056279</td>\n      <td>-1.777928</td>\n      <td>...</td>\n      <td>NaN</td>\n      <td>NaN</td>\n      <td>NaN</td>\n      <td>NaN</td>\n      <td>0.570759</td>\n      <td>0.118687</td>\n      <td>0.436861</td>\n      <td>-4.439478</td>\n      <td>NaN</td>\n      <td>-2.339429</td>\n    </tr>\n    <tr>\n      <th>2018-01-24</th>\n      <td>-0.645786</td>\n      <td>-0.470223</td>\n      <td>3.362348</td>\n      <td>-0.979617</td>\n      <td>-5.485659</td>\n      <td>0.705148</td>\n      <td>-1.636565</td>\n      <td>1.856106</td>\n      <td>-2.080923</td>\n      <td>-0.254149</td>\n      <td>...</td>\n      <td>NaN</td>\n      <td>NaN</td>\n      <td>NaN</td>\n      <td>NaN</td>\n      <td>3.342338</td>\n      <td>-0.377599</td>\n      <td>-2.464606</td>\n      <td>0.594376</td>\n      <td>NaN</td>\n      <td>-2.242674</td>\n    </tr>\n    <tr>\n      <th>2018-01-23</th>\n      <td>-0.128989</td>\n      <td>0.068620</td>\n      <td>5.934118</td>\n      <td>0.505595</td>\n      <td>-0.150756</td>\n      <td>-1.066376</td>\n      <td>0.056460</td>\n      <td>0.473268</td>\n      <td>1.426615</td>\n      <td>0.917641</td>\n      <td>...</td>\n      <td>NaN</td>\n      <td>NaN</td>\n      <td>NaN</td>\n      <td>NaN</td>\n      <td>1.750438</td>\n      <td>0.137493</td>\n      <td>-2.092420</td>\n      <td>-0.016064</td>\n      <td>NaN</td>\n      <td>-0.628654</td>\n    </tr>\n    <tr>\n      <th>2018-01-22</th>\n      <td>1.672133</td>\n      <td>0.000000</td>\n      <td>-0.920636</td>\n      <td>0.079890</td>\n      <td>-2.737047</td>\n      <td>0.976151</td>\n      <td>-1.910826</td>\n      <td>0.852322</td>\n      <td>3.321557</td>\n      <td>1.211417</td>\n      <td>...</td>\n      <td>NaN</td>\n      <td>NaN</td>\n      <td>NaN</td>\n      <td>NaN</td>\n      <td>1.678107</td>\n      <td>-1.028200</td>\n      <td>-1.284034</td>\n      <td>2.468729</td>\n      <td>NaN</td>\n      <td>-0.658863</td>\n    </tr>\n    <tr>\n      <th>2018-01-19</th>\n      <td>1.463737</td>\n      <td>-0.244475</td>\n      <td>1.164192</td>\n      <td>0.697240</td>\n      <td>1.186946</td>\n      <td>0.394021</td>\n      <td>1.290324</td>\n      <td>-2.075458</td>\n      <td>0.527759</td>\n      <td>-1.202554</td>\n      <td>...</td>\n      <td>NaN</td>\n      <td>NaN</td>\n      <td>NaN</td>\n      <td>NaN</td>\n      <td>2.262093</td>\n      <td>0.616155</td>\n      <td>0.196932</td>\n      <td>4.344841</td>\n      <td>NaN</td>\n      <td>1.370602</td>\n    </tr>\n  </tbody>\n</table>\n<p>1499 rows × 501 columns</p>\n</div>"
     },
     "execution_count": 10,
     "metadata": {},
     "output_type": "execute_result"
    }
   ],
   "source": [
    "df5"
   ],
   "metadata": {
    "collapsed": false,
    "pycharm": {
     "name": "#%%\n"
    }
   }
  },
  {
   "cell_type": "code",
   "execution_count": 113,
   "outputs": [
    {
     "data": {
      "text/plain": "(3592, 3)"
     },
     "execution_count": 113,
     "metadata": {},
     "output_type": "execute_result"
    }
   ],
   "source": [
    "name.shape"
   ],
   "metadata": {
    "collapsed": false,
    "pycharm": {
     "name": "#%%\n"
    }
   }
  },
  {
   "cell_type": "code",
   "execution_count": 119,
   "outputs": [
    {
     "name": "stdout",
     "output_type": "stream",
     "text": [
      "['MCDOWELL-N.NS', 'UBL.NS', 'RADICO.NS', 'TI.NS', 'SULA.NS', '530305.NS', 'GLOBUSSPR.NS', 'INDIAGLYCO.NS', 'SDBL.NS', 'GMBREW.NS', '507155.NS', 'ASALCBR.NS', 'IFBAGRO.NS', '507435.NS', '531216.NS', 'AURDIS.NS', '523309.NS', '507498.NS', 'RKDL.NS', '526471.NS', '531635.NS', 'MOTHERSON.NS', 'TIINDIA.NS', 'BOSCHLTD.NS', 'UNOMINDA.NS', 'SONACOMS.NS', 'ZFCVINDIA.NS', 'MSUMI.NS', 'ENDURANCE.NS', 'EXIDEIND.NS', 'SUNDRMFAST.NS', 'JBMA.NS', 'ARE&M.NS', 'CRAFTSMAN.NS', 'BBTC.NS', 'MINDACORP.NS', 'VARROC.NS', 'ROLEXRINGS.NS', 'SHRIPISTON.NS', 'ASKAUTOLTD.NS', 'GABRIEL.NS', 'SUPRAJIT.NS', 'SANSERA.NS', 'PRICOLLTD.NS', 'SHANTIGEAR.NS', 'BANCOINDIA.NS', 'JAMNAAUTO.NS', 'SSWL.NS', 'LGBBROSLTD.NS', 'SHARDAMOTR.NS', 'JTEKTINDIA.NS', 'HARSHA.NS', 'SUBROS.NS', 'AUTOAXLES.NS', 'DIVGIITTS.NS', 'SANDHAR.NS', 'FIEMIND.NS', 'LUMAXTECH.NS', 'UNIPARTS.NS', 'PRECAM.NS', 'LUMAXIND.NS', 'FMGOETZE.NS', 'SJS.NS', 'GNA.NS', 'TALBROAUTO.NS', 'WHEELS.NS', 'IGARASHI.NS', 'ALICON.NS', 'RML.NS', 'IMPAL.NS', '520073.NS', 'INDNIPPON.NS', 'RICOAUTO.NS', 'JAYBARMARU.NS', '533477.NS', 'NDRAUTO.NS', '508807.NS', 'MUNJALAU.NS', '505036.NS', 'HITECHGEAR.NS', '538992.NS', '539337.NS', '505163.NS', 'HINDCOMPOS.NS', 'ASAL.NS', 'RBL.NS', 'MUNJALSHOW.NS', '523229.NS', 'AUTOIND.NS', 'PAVNAIND.NS', 'SHIVAMAUTO.NS', '531727.NS', '522195.NS', 'GOLDSTAR.NS', 'REMSONSIND.NS', '538987.NS', 'URAVI.NS', 'SINTERCOM.NS', 'PPAP.NS', 'UCAL.NS', 'PRITIKAUTO.NS', '513252.NS', '500240.NS', 'SUNDRMBRAK.NS', 'RANEENGINE.NS', 'SHIGAN.NS', '523638.NS', 'JMA.NS', 'BHARATGEAR.NS', '530621.NS', '505978.NS', '520075.NS', '505712.NS', '539353.NS', 'OMAXAUTO.NS', '542459.NS', 'SETCO.NS', '505893.NS', '531994.NS', '522207.NS', '543065.NS', '543606.NS', 'UWCSL.NS', '513496.NS', 'PRECISION.NS', '530711.NS', 'ASLIND.NS', '513059.NS', '505212.NS', '520141.NS', '517230.NS', '513687.NS', '505100.NS', 'MARUTI.NS', 'TATAMOTORS.NS', 'M&M.NS', 'BAJAJ-AUTO.NS', 'EICHERMOT.NS', 'TVSMOTOR.NS', 'HEROMOTOCO.NS', 'ASHOKLEY.NS', 'ESCORTS.NS', 'TATAMTRDVR.NS', 'OLECTRA.NS', 'FORCEMOT.NS', 'VSTTILLERS.NS', '531357.NS', 'SMLISUZU.NS', 'ATULAUTO.NS', '538970.NS', '505141.NS', 'HINDMOTORS.NS', 'HDFCBANK.NS', 'ICICIBANK.NS', 'SBIN.NS', 'KOTAKBANK.NS', 'AXISBANK.NS', 'INDUSINDBK.NS', 'BANKBARODA.NS', 'PNB.NS', 'UNIONBANK.NS', 'IOB.NS', 'CANBK.NS', 'IDBI.NS', 'IDFCFIRSTB.NS', 'YESBANK.NS', 'INDIANB.NS', 'AUBANK.NS', 'BANKINDIA.NS', 'UCOBANK.NS', 'CENTRALBK.NS', 'BANDHANBNK.NS', 'FEDERALBNK.NS', 'MAHABANK.NS', 'PSB.NS', 'RBLBANK.NS', 'KARURVYSYA.NS', 'J&KBANK.NS', 'EQUITASBNK.NS', 'UJJIVANSFB.NS', 'CUB.NS', 'KTKBANK.NS', 'TMB.NS', 'CSBBANK.NS', 'UTKARSHBNK.NS', 'SOUTHBANK.NS', 'DCBBANK.NS', 'ESAFSFB.NS', 'FINOPB.NS', 'SURYODAY.NS', 'DHANBANK.NS', 'SCHAEFFLER.NS', 'TIMKEN.NS', 'SKFINDIA.NS', 'NRBBEARING.NS', 'MENONBE.NS', '526073.NS', 'SKP.NS', '505681.NS', '539398.NS', '505827.NS', 'NIBL.NS', '522005.NS', '541178.NS', 'POLYCAB.NS', 'KEI.NS', 'RRKABEL.NS', 'FINCABLES.NS', 'STLTECH.NS', 'PARACABLES.NS', 'UNIVCABLES.NS', 'DYCL.NS', 'BIRLACABLE.NS', 'DIACABS.NS', 'PLAZACABLE.NS', 'VMARCIND.NS', '538706.NS', '504240.NS', 'AKSHOPTFBR.NS', 'CORDSCABLE.NS', '539760.NS', 'MARCO.NS', '531472.NS', 'GODHA.NS', 'TNTELE.NS', '540651.NS', 'CMICABLES.NS', '531812.NS', 'SIEMENS.NS', 'ABB.NS', 'CGPOWER.NS', 'BHEL.NS', 'SUZLON.NS', 'APARINDS.NS', 'POWERINDIA.NS', 'INOXWIND.NS', 'KEC.NS', 'TRITURBINE.NS', 'GET&D.NS', 'VGUARD.NS', 'KPIL.NS', 'SCHNEIDER.NS', 'VOLTAMP.NS', 'TDPOWERSYS.NS', 'TRIL.NS', 'BBL.NS', 'IKIO.NS', 'HONDAPOWER.NS', 'RISHABH.NS', 'SPECTRUM.NS', '531201.NS', '542670.NS', 'SERVOTECH.NS', 'HPL.NS', '543620.NS', 'KABRAEXTRU.NS', 'MARINE.NS', 'JYOTISTRUC.NS', 'FOCUS.NS', 'WEBELSOLAR.NS', 'ICEMAKE.NS', 'SWELECTES.NS', '541228.NS', 'KECL.NS', 'INDOTECH.NS', 'SALZERELEC.NS', '540358.NS', 'WEL.NS', '543619.NS', '504176.NS', '515008.NS', 'MODISONLTD.NS', '504258.NS', 'SOLEX.NS', 'SUPREMEPWR.NS', 'KEL.NS', 'VETO.NS', '539255.NS', 'SURANASOL.NS', '539196.NS', '531888.NS', 'AARTECH.NS', '531215.NS', '542679.NS', '504084.NS', '504080.NS', 'S&SPOWER.NS', '504076.NS', '517467.NS', 'VIVIANA.NS', '534612.NS', '535719.NS', '517546.NS', 'MAKS.NS', '542668.NS', 'AGNI.NS', 'SEL.NS', '543172.NS', '531370.NS', '517201.NS', 'BRIGHT.NS', 'TARAPUR.NS', '517423.NS', '513575.NS', '530407.NS', 'INDLMETER.NS', '531460.NS', 'SURANASOL.NS', '539196.NS', '531888.NS', 'AARTECH.NS', '531215.NS', '542679.NS', '504084.NS', '504080.NS', 'S&SPOWER.NS', '504076.NS', '517467.NS', 'VIVIANA.NS', '534612.NS', '535719.NS', '517546.NS', 'MAKS.NS', '542668.NS', 'AGNI.NS', 'SEL.NS', '543172.NS', '531370.NS', '517201.NS', 'BRIGHT.NS', 'TARAPUR.NS', '517423.NS', '513575.NS', '530407.NS', 'INDLMETER.NS', '531460.NS', 'HAL.NS', 'CUMMINSIND.NS', 'THERMAX.NS', 'BDL.NS', 'GRINDWELL.NS', 'CARBORUNIV.NS', 'ELGIEQUIP.NS', 'TITAGARH.NS', 'JWL.NS', 'KSB.NS', 'BEML.NS', 'GRAPHITE.NS', 'ELECON.NS', 'PRAJIND.NS', 'ACE.NS', 'INGERRAND.NS', 'KIRLOSENG.NS', 'ESABINDIA.NS', 'IONEXCHANG.NS', 'HEG.NS', 'GMMPFAUDLR.NS', 'KIRLOSBROS.NS', 'POWERMECH.NS', 'TEXRAIL.NS', 'LLOYDSENGG.NS', 'WABAG.NS', 'KIRLPNU.NS', 'HLEGLAS.NS', 'GREAVESCOT.NS', 'DYNAMATECH.NS', 'SWARAJENG.NS', 'WENDT.NS', '531112.NS', '500068.NS', 'PITTIENG.NS', 'ADORWELD.NS', 'JASH.NS', 'SHAKTIPUMP.NS', '500147.NS', 'ROTO.NS', 'HERCULES.NS', '522101.NS', '505358.NS', 'YUKEN.NS', 'EIMCOELECO.NS', '522229.NS', 'WALCHANNAG.NS', 'DENORA.NS', '522134.NS', 'LOKESHMACH.NS', 'ORIENTCER.NS', '507944.NS', '523606.NS', 'INTLCONV.NS', 'WINDMACHIN.NS', 'UNIDT.NS', 'MAZDA.NS', '504959.NS', '530431.NS', '505232.NS', 'TIL.NS', '505737.NS', '522105.NS', '539984.NS', 'GUJAPOLLO.NS', '522017.NS', 'AARON.NS', '505750.NS', 'TRF.NS', '504028.NS', '513337.NS', '522004.NS', 'ATAM.NS', '517417.NS', '508941.NS', '522650.NS', 'LATTEYS.NS', '505690.NS', '505299.NS', '522251.NS', 'FELIX.NS', '531035.NS', '543937.NS', '522294.NS', '504988.NS', '522183.NS', 'AUROIMPEX.NS', '531399.NS', '526861.NS', '531233.NS', '505250.NS', 'MANUGRAPH.NS', '517514.NS', '500246.NS', '539176.NS', '505807.NS', '500360.NS', '540519.NS', '522152.NS', '526043.NS', '522001.NS', '541945.NS', '522036.NS', '526711.NS', 'PERFECT.NS', '523650.NS', '522245.NS', 'PREMIER.NS', '526604.NS', '531944.NS', '531661.NS', '531594.NS', '522027.NS', '522171.NS', '532470.NS', 'BHARATFORG.NS', 'AIAENG.NS', 'CIEINDIA.NS', 'TVSHLTD.NS', 'RKFORGE.NS', 'HAPPYFORGE.NS', 'PTCIL.NS', 'ELECTCAST.NS', '505890.NS', 'JAYNECOIND.NS', 'MMFL.NS', 'NELCAST.NS', 'STERTOOLS.NS', 'STEELCAS.NS', '504605.NS', 'SGIL.NS', '544037.NS', '544023.NS', '513532.NS', '504786.NS', 'LGBFORGE.NS', '508875.NS', '539314.NS', 'HILTON.NS', '543229.NS', '517449.NS', '504646.NS', '539479.NS', 'TIRUPATIFL.NS', 'KALYANIFRG.NS', 'DCM.NS', '531289.NS', '540652.NS', '539527.NS', '504961.NS', '507998.NS', 'PRITIKA.NS', 'SCML.NS', '513369.NS', 'GANGAFORGE.NS', '532933.NS', '513418.NS', 'PATTECH.NS', '513472.NS', '539121.NS', '531144.NS', 'METALFORGE.NS', '522237.NS', '531911.NS', 'LAKPRE.NS', '505685.NS', '530609.NS', '505685.NS', '530609.NS', 'ULTRACEMCO.NS', 'AMBUJACEM.NS', 'SHREECEM.NS', 'DALBHARAT.NS', 'ACC.NS', 'JKCEMENT.NS', 'RAMCOCEM.NS', 'NUVOCO.NS', 'BIRLACORPN.NS', 'JKLAKSHMI.NS', 'PRSMJOHNSN.NS', 'INDIACEM.NS', 'STARCEMENT.NS', 'KESORAMIND.NS', 'HEIDELBERG.NS', 'ORIENTCEM.NS', 'SAGCEM.NS', 'SANGHIIND.NS', 'MANGLMCEM.NS', 'KCP.NS', 'UDAICEMENT.NS', 'SHREDIGCEM.NS', '502175.NS', '532323.NS', 'NCLIND.NS', 'ACL.NS', 'DECCANCE.NS', 'APCL.NS', '530977.NS', 'KAKATCEM.NS', 'BVCL.NS', '518011.NS', '518017.NS', '500322.NS', '502133.NS', 'BURNPUR.NS', 'EVERESTIND.NS', 'HIL.NS', 'RAMCOIND.NS', 'BIGBLOC.NS', 'VISAKAIND.NS', 'SAHYADRI.NS', '539620.NS', '531444.NS', 'KAJARIACER.NS', 'CERA.NS', 'SOMANYCERA.NS', 'ASIANTILES.NS', 'ORIENTBELL.NS', 'EXXARO.NS', 'MURUDCERA.NS', 'REGENCERAM.NS', 'LEXUS.NS', '515085.NS', 'PIDILITIND.NS', 'SRF.NS', 'SOLARINDS.NS', 'LINDEINDIA.NS', 'FLUOROCHEM.NS', 'DEEPAKNTR.NS', 'TATACHEM.NS', 'GODREJIND.NS', 'AARTIIND.NS', 'ATUL.NS', 'NAVINFLUOR.NS', 'VINATIORGA.NS', 'CASTROLIND.NS', 'CLEAN.NS', 'FINEORG.NS', 'HSCL.NS', 'BASF.NS', 'ALKYLAMINE.NS', 'AETHER.NS', 'GNFC.NS', 'ANURAS.NS', 'GALAXYSURF.NS', 'PCBL.NS', 'BALAMINES.NS', 'DEEPAKFERT.NS', 'JUBLINGREA.NS', 'ACI.NS', 'LXCHEM.NS', 'CHEMPLASTS.NS', '500123.NS', 'GUJALKALI.NS', 'GHCL.NS', 'PRIVISCL.NS', 'NOCIL.NS', 'ROSSARI.NS', 'EPIGRAL.NS', 'FCL.NS', 'NEOGEN.NS', 'SUDARSCHEM.NS', 'TATVA.NS', 'GULFOILLUB.NS', 'GRAUWEIL.NS', 'GOCLCORP.NS', 'TIDEWATER.NS', '506854.NS', 'FOSECOIND.NS', 'VISHNU.NS', 'CAMLINFINE.NS', 'TIRUMALCHM.NS', 'SADHNANIQ.NS', 'VIDHIING.NS', 'KIRIINDUS.NS', 'SHK.NS', '543547.NS', '532742.NS', '514448.NS', 'YASHO.NS', 'PREMEXPLN.NS', 'FAIRCHEMOR.NS', 'IGPL.NS', 'VALIANTORG.NS', 'HEUBACHIND.NS', 'OAL.NS', '506808.NS', '506852.NS', '506685.NS', '507753.NS', 'GANESHBE.NS', 'CHEMCON.NS', 'BODALCHEM.NS', '506687.NS', 'SRHHYPOLTD.NS', 'AMNPLST.NS', 'HPAL.NS', 'JUBLINDS.NS', 'TNPETRO.NS', 'INDOAMIN.NS', 'OCCL.NS', 'DMCC.NS', '506532.NS', 'PLASTIBLEN.NS', 'JAYAGROGN.NS', 'INDOBORAX.NS', 'BHAGERIA.NS', 'SHREEPUSHK.NS', 'CHEMBOND.NS', '500012.NS', '530845.NS', 'AARTISURF.NS', '500298.NS', 'KANORICHEM.NS', '526159.NS', 'DIAMINESQ.NS', 'CHEMFAB.NS', '540395.NS', 'DICIND.NS', 'LORDSCHLO.NS', '506597.NS', 'PODDARMENT.NS', 'HIGREEN.NS', '524634.NS', '500449.NS', 'DYNPRO.NS', 'ASAHISONG.NS', '523586.NS', 'MANORG.NS', '506528.NS', 'HINDCON.NS', '526821.NS', 'PARAGON.NS', '504092.NS', 'GULFPETRO.NS', '526739.NS', '531253.NS', 'AKSHARCHEM.NS', 'IVP.NS', 'VITAL.NS', '530627.NS', '513353.NS', 'JOCIL.NS', '532384.NS', 'ARVEE.NS', '538896.NS', 'DUCOL.NS', '507645.NS', 'ALKALI.NS', '531592.NS', '524218.NS', '524444.NS', '544036.NS', '531109.NS', 'HPIL.NS', '524640.NS', '506910.NS', 'ARABIAN.NS', 'PROLIFE.NS', '524174.NS', 'AMBANIORG.NS', 'MAHICKRA.NS', '526335.NS', 'UCL.NS', '543497.NS', '507813.NS', '524210.NS', 'YCCL.NS', 'SEYAIND.NS', 'VSCL.NS', '540204.NS', '540550.NS', 'SANGINITA.NS', 'NIITLTD.NS', 'APTECHT.NS', 'VINSYS.NS', 'COMPUSOFT.NS', 'ZEELEARN.NS', 'EDUCOMP.NS', '517063.NS', '526709.NS', 'UMESLTD.NS', 'LODHA.NS', 'RVNL.NS', 'NCC.NS', '504882.NS', 'PNCINFRA.NS', 'MAHLIFE.NS', 'MANINFRA.NS', 'KNRCON.NS', 'HGINFRA.NS', 'RAMKY.NS', 'ITDCEM.NS', 'JPASSOCIAT.NS', 'PATELENG.NS', 'WELENT.NS', 'HCC.NS', 'GANESHHOUC.NS', 'PSPPROJECT.NS', 'VPRPL.NS', 'EMSLIMITED.NS', 'SHRIRAMPPS.NS', 'VASCONEQ.NS', '514360.NS', '504000.NS', 'BLKASHYAP.NS', 'INDIANHUME.NS', 'GIRIRAJ.NS', 'GPTINFRA.NS', 'BLAL.NS', 'MBLINFRA.NS', 'PARSVNATH.NS', 'SPMLINFRA.NS', 'SIMPLEXINF.NS', 'RPPINFRA.NS', 'BRNL.NS', '541353.NS', '526961.NS', 'RBMINFRA.NS', '543542.NS', 'SADBHAV.NS', 'NILAINFRA.NS', '539894.NS', '526519.NS', '543539.NS', 'ABINFRA.NS', 'GENCON.NS', '539112.NS', 'CHAVDA.NS', '543241.NS', '530677.NS', '531540.NS', '543391.NS', 'GAYAPROJ.NS', '543376.NS', '540796.NS', 'NILASPACES.NS', '535693.NS', 'NIRAJ.NS', 'RKEC.NS', 'RILINFRA.NS', 'SADBHIN.NS', 'PANSARI.NS', '539861.NS', '533285.NS', 'ARTNIRMAN.NS', '532123.NS', '532159.NS', '526654.NS', 'UNIVASTU.NS', '512479.NS', '504273.NS', '531494.NS', '534338.NS', '531694.NS', 'AKASH.NS', 'EXCEL.NS', 'DESTINY.NS', '539189.NS', 'MADHUCON.NS', '536073.NS', '530695.NS', '531784.NS', '533078.NS', 'SONUINFRA.NS', 'ARSSINFRA.NS', '541112.NS', '519331.NS', '512257.NS', '536659.NS', '530361.NS', '531416.NS', '538833.NS', 'GAYAHWS.NS', '522231.NS', '511131.NS', '543745.NS', '532676.NS', 'AILIMITED.NS', '512064.NS', '538770.NS', '531328.NS', 'DRL.NS', '536128.NS', '539099.NS', '509845.NS', 'SETUINFRA.NS', 'MANAV.NS', '508929.NS', '542864.NS', '538521.NS', '508961.NS', 'CMMIPL.NS', '514332.NS', '522209.NS', '500426.NS', '526187.NS', '542924.NS', '509423.NS', '542677.NS', '538794.NS', '526865.NS', '532766.NS', '531155.NS', '539544.NS', '526823.NS', '540134.NS', '543366.NS', '534731.NS', 'HAVELLS.NS', 'DIXON.NS', 'VOLTAS.NS', 'CROMPTON.NS', 'BLUESTARCO.NS', 'WHIRLPOOL.NS', 'KAYNES.NS', 'BAJAJELEC.NS', 'AMBER.NS', 'TTKPRESTIG.NS', '543482.NS', 'PGEL.NS', 'SYMPHONY.NS', 'GENUSPOWER.NS', 'ORIENTELEC.NS', '508486.NS', 'IFBIND.NS', 'AVALON.NS', 'KDDL.NS', 'JCHAC.NS', 'CARYSIL.NS', 'BUTTERFLY.NS', '500414.NS', 'STOVEKRAFT.NS', '504132.NS', 'HIRECT.NS', 'MICEL.NS', 'ELIN.NS', '543597.NS', '517035.NS', '541083.NS', 'BPL.NS', 'MIRCELECTR.NS', '523100.NS', '531306.NS', 'GREENCHEF.NS', '517236.NS', '523449.NS', 'ARHAM.NS', 'SONAMLTD.NS', 'DELTAMAGNT.NS', '543921.NS', '517246.NS', '531608.NS', '517288.NS', '500370.NS', '517370.NS', '505840.NS', '543460.NS', '509015.NS', '517397.NS', '517463.NS', '526009.NS', '517397.NS', '517463.NS', '526009.NS', 'CRISIL.NS', 'ICRA.NS', 'CARERATING.NS', 'ONGC.NS', 'OIL.NS', 'HINDOILEXP.NS', 'ASIANENE.NS', 'SELAN.NS', 'ABAN.NS', '513536.NS', 'TITAN.NS', 'KALYANKJIL.NS', 'RAJESHEXPO.NS', 'VAIBHAVGBL.NS', 'SENCO.NS', 'THANGAMAYL.NS', 'PCJEWELLER.NS', 'GOLDIAM.NS', 'MVGJL.NS', '531847.NS', 'SKYGOLD.NS', 'RGL.NS', 'MOTISONS.NS', 'TBZ.NS', 'RADHIKAJWE.NS', 'RBZJEWEL.NS', '539518.NS', 'LGHL.NS', '542579.NS', '519455.NS', '540953.NS', '523676.NS', '522235.NS', '543848.NS', 'KANANIIND.NS', '526365.NS', '540715.NS', '530525.NS', '504398.NS', '512587.NS', 'SILGO.NS', 'GOENKA.NS', '539559.NS', '542034.NS', '531626.NS', '539884.NS', '523790.NS', '523826.NS', '531506.NS', '543970.NS', '523373.NS', '523425.NS', '526195.NS', '3MINDIA.NS', 'DCMSHRIRAM.NS', 'SWANENERGY.NS', 'QUESS.NS', 'NAVA.NS', 'BALMLAWRIE.NS', 'TTKHLTCARE.NS', 'ANDREWYU.NS', 'ROSSELLIND.NS', 'ANDHRSUGAR.NS', '509525.NS', 'KRISHNADEF.NS', 'SAAKSHI.NS', 'SPECTSTM.NS', 'GILLANDERS.NS', '511092.NS', '501430.NS', 'INDIFRA.NS', '513149.NS', 'HBLPOWER.NS', 'EVEREADY.NS', 'NIPPOBATRY.NS', '504093.NS', 'ZOMATO.NS', 'NAUKRI.NS', 'NYKAA.NS', 'PAYTM.NS', 'INDIAMART.NS', 'EASEMYTRIP.NS', 'JUSTDIAL.NS', 'MSTCLTD.NS', 'YATRA.NS', 'CREATIVE.NS', 'DENTALKART.NS', 'NURECA.NS', '543787.NS', 'MOS.NS', '543941.NS', '543637.NS', 'CBAZAAR.NS', 'WOMANCART.NS', '521105.NS', '544015.NS', '538786.NS', '543521.NS', '524622.NS', '538765.NS', 'MARICO.NS', 'PATANJALI.NS', 'AWL.NS', 'GAEL.NS', 'GOKULAGRO.NS', 'BCLIND.NS', 'MKPL.NS', 'GOKUL.NS', 'KRITINUT.NS', 'KNAGRI.NS', '519003.NS', '531069.NS', '519216.NS', 'MGEL.NS', '543373.NS', 'ROML.NS', 'RCDL.NS', '519477.NS', '519471.NS', '531153.NS', 'SRPL.NS', '519359.NS', 'NKIND.NS', '543678.NS', '531246.NS', '530119.NS', '519242.NS', '530291.NS', '519606.NS', '519064.NS', '519439.NS', '531265.NS', '500236.NS', '507663.NS', 'VERANDA.NS', '539921.NS', 'GLOBAL.NS', 'CLEDUCATE.NS', '543713.NS', 'DRONE.NS', 'CAREERP.NS', '509026.NS', 'ARIHANTACA.NS', 'TREEHOUSE.NS', 'KEEPLEARN.NS', '540062.NS', '534741.NS', '542592.NS', '539761.NS', 'MTEDUCARE.NS', 'LCCINFOTEC.NS', 'MOXSH.NS', '543443.NS', '508918.NS', '543289.NS', '530093.NS', 'BEL.NS', 'HONAUT.NS', 'SYRMA.NS', 'DATAPATTNS.NS', 'CYIENTDLM.NS', 'DCXINDIA.NS', 'SBCL.NS', 'APOLLO.NS', 'CENTUM.NS', 'KERNEX.NS', 'VINYAS.NS', '532329.NS', '517166.NS', '543378.NS', 'PULZ.NS', 'NITIRAJ.NS', '517096.NS', '517264.NS', 'LAXMIMACH.NS', 'SWSOLAR.NS', 'TEGA.NS', 'MTARTECH.NS', 'AZAD.NS', 'IDEAFORGE.NS', 'PARAS.NS', 'ANUP.NS', 'SKIPPER.NS', 'THEJO.NS', 'HMT.NS', '522257.NS', '502865.NS', '523850.NS', '543971.NS', '543920.NS', 'MOLDTECH.NS', 'EMKAYTOOLS.NS', '505729.NS', 'MACPOWER.NS', '541402.NS', '543782.NS', 'BEWLTD.NS', 'EFORCE.NS', '504908.NS', '539227.NS', 'TECHLABS.NS', '544001.NS', '505302.NS', 'MBECL.NS', 'DIL.NS', 'MARSHALL.NS', 'PRESSTONIC.NS', 'HOLMARC.NS', 'GLOBALPET.NS', '500028.NS', '543375.NS', 'ISHAN.NS', 'AMEYA.NS', '544025.NS', '530267.NS', '542801.NS', 'TRANSWIND.NS', 'SUNTV.NS', 'ZEEL.NS', 'PVRINOX.NS', 'TV18BRDCST.NS', 'SAREGAMA.NS', 'WONDERLA.NS', 'TIPSINDLTD.NS', 'HATHWAY.NS', 'DISHTV.NS', 'PFOCUS.NS', 'IMAGICAA.NS', 'DEN.NS', '512267.NS', 'GTPL.NS', 'ZEEMEDIA.NS', 'ENIL.NS', 'BALAJITELE.NS', '526721.NS', 'BASILIC.NS', 'RADIOCITY.NS', 'PHANTOMFX.NS', 'NDLVENTURE.NS', 'CINELINE.NS', '539469.NS', 'SHEMAROO.NS', 'TIPSFILMS.NS', 'RAJTV.NS', '535142.NS', 'BTML.NS', '532011.NS', '539310.NS', '540151.NS', 'EROSMEDIA.NS', 'TOUCHWOOD.NS', 'BAGFILMS.NS', 'MUKTAARTS.NS', 'VELS.NS', 'DGCONTENT.NS', 'CINEVISTA.NS', 'INSPIRE.NS', 'PNC.NS', 'SITINET.NS', '532380.NS', '532275.NS', '503685.NS', '512499.NS', '523277.NS', 'CYBERMEDIA.NS', '540821.NS', '542654.NS', 'NEXTMEDIA.NS', '532355.NS', '540023.NS', 'WINPRO.NS', '542727.NS', '532035.NS', '532092.NS', '526628.NS', 'SILLYMONKS.NS', 'TVVISION.NS', '509073.NS', 'RADAAN.NS', 'SABTN.NS', '526441.NS', '543247.NS', '531512.NS', '533268.NS', '530457.NS', 'CREATIVEYE.NS', '531668.NS', '541703.NS', '535647.NS', '532350.NS', '511664.NS', '531925.NS', 'ORTEL.NS', '539910.NS', '540159.NS', '532378.NS', '531692.NS', '531420.NS', 'NEXTMEDIA.NS', '532355.NS', '540023.NS', 'WINPRO.NS', '542727.NS', '532035.NS', '532092.NS', '526628.NS', 'SILLYMONKS.NS', 'TVVISION.NS', '509073.NS', 'RADAAN.NS', 'SABTN.NS', '526441.NS', '543247.NS', '531512.NS', '533268.NS', '530457.NS', 'CREATIVEYE.NS', '531668.NS', '541703.NS', '535647.NS', '532350.NS', '511664.NS', '531925.NS', 'ORTEL.NS', '539910.NS', '540159.NS', '532378.NS', '531692.NS', '531420.NS', 'MAITHANALL.NS', 'IMFA.NS', 'JAINAM.NS', 'FACT.NS', 'COROMANDEL.NS', 'CHAMBLFERT.NS', 'GSFC.NS', 'RCF.NS', 'PARADEEP.NS', 'NFL.NS', 'MBAPL.NS', 'MADRASFERT.NS', 'SPIC.NS', 'KRISHANA.NS', 'MANGCHEFER.NS', 'ZUARI.NS', 'NAGAFERT.NS', 'KHAICHEM.NS', '531862.NS', 'RAMAPHO.NS', 'ARIES.NS', '524687.NS', 'AGROPHOS.NS', '542123.NS', '530433.NS', '524204.NS', 'BOHRAIND.NS', '526431.NS', '506543.NS', '539175.NS', 'BAJFINANCE.NS', 'BAJAJFINSV.NS', 'JIOFIN.NS', 'IRFC.NS', 'PFC.NS', 'RECLTD.NS', 'CHOLAFIN.NS', 'BAJAJHLDNG.NS', 'SHRIRAMFIN.NS', 'SBICARD.NS', 'HDFCAMC.NS', 'MUTHOOTFIN.NS', 'ABCAPITAL.NS', 'L&TFH.NS', 'SUNDARMFIN.NS', 'M&MFIN.NS', 'POONAWALLA.NS', 'MFSL.NS', 'LICHSGFIN.NS', 'NAM-INDIA.NS', 'IREDA.NS', '360ONE.NS', 'CREDITACC.NS', 'HUDCO.NS', 'IIFL.NS', 'PEL.NS', 'TATAINVEST.NS', 'FIVESTAR.NS', 'PNBHOUSING.NS', 'IDFC.NS', 'CHOLAHLDNG.NS', '539177.NS', 'APTUS.NS', 'CGCL.NS', 'MANAPPURAM.NS', 'ABSLAMC.NS', 'AAVAS.NS', 'UTIAMC.NS', 'ANANDRATHI.NS', 'IBULHSGFIN.NS', 'CANFINHOME.NS', 'SBFC.NS', 'JMFINANCIL.NS', '532468.NS', '533095.NS', 'MAHSCOOTER.NS', 'HOMEFIRST.NS', 'SPANDANA.NS', 'EDELWEISS.NS', 'IFCI.NS', 'RELIGARE.NS', 'UJJIVAN.NS', 'INDIASHLTR.NS', 'SHAREINDIA.NS', 'FUSION.NS', 'JSWHL.NS', 'FEDFINA.NS', 'PRUDENT.NS', 'MASFIN.NS', 'CHOICEIN.NS', 'MUTHOOTMF.NS', 'PAISALO.NS', 'PILANIINVS.NS', 'KIRLOSIND.NS', 'SUNDARMHLD.NS', 'PFS.NS', '539199.NS', 'SATIN.NS', 'UGROCAP.NS', 'MUFIN.NS', 'REPCOHOME.NS', 'ARMANFIN.NS', 'DHANI.NS', 'INDOSTAR.NS', 'BFINVEST.NS', 'RANEHOLDIN.NS', 'PNBGILTS.NS', 'NSIL.NS', 'AHL.NS', 'KICL.NS', 'SUMMITSEC.NS', 'SASTASUNDR.NS', 'CENTRUM.NS', 'GICHSGFIN.NS', 'TFCILTD.NS', '532485.NS', 'DVL.NS', 'DOLATALGO.NS', 'GFLLIMITED.NS', 'SMCGLOBAL.NS', 'CONSOFINVT.NS', '530879.NS', 'CSLFINANCE.NS', 'VHL.NS', '511768.NS', 'TRU.NS', 'GKWLIMITED.NS', '508954.NS', '538772.NS', 'CREST.NS', '526506.NS', '501298.NS', 'DHUNINV.NS', 'VLSFINANCE.NS', '538446.NS', 'OSWALGREEN.NS', 'JPOLYINVST.NS', 'MUTHOOTCAP.NS', 'JINDALPHOT.NS', 'THEINVEST.NS', 'STEL.NS', '511628.NS', '539017.NS', 'PRIMESECU.NS', '506134.NS', '530579.NS', 'NAHARCAP.NS', '530499.NS', 'SILINV.NS', 'NBIFIN.NS', '531359.NS', 'IITL.NS', '537800.NS', '537750.NS', '543324.NS', '514238.NS', '511700.NS', '532320.NS', '500069.NS', '539113.NS', 'IVC.NS', 'SRGHFL.NS', 'STARTECK.NS', '519299.NS', '511066.NS', '511754.NS', '512020.NS', 'DELPHIFX.NS', '512437.NS', 'GATECH.NS', 'RELCAPITAL.NS', '507912.NS', '512393.NS', 'BAIDFIN.NS', '538732.NS', '538668.NS', 'NDGL.NS', 'CORALFINAC.NS', 'WELINV.NS', 'ASCOM.NS', 'HINDUNILVR.NS', 'NESTLEIND.NS', 'VBL.NS', 'BRITANNIA.NS', 'GODREJCP.NS', 'DABUR.NS', 'COLPAL.NS', 'PGHH.NS', 'HATSUN.NS', 'EMAMILTD.NS', 'GILLETTE.NS', 'JYOTHYLAB.NS', 'BIKAJI.NS', 'ZYDUSWELL.NS', 'KRBL.NS', 'LTFOODS.NS', 'BECTORFOOD.NS', 'HNDFDS.NS', 'DODLA.NS', 'HMAAGRO.NS', 'TASTYBITE.NS', 'BAJAJCON.NS', 'HERITGFOOD.NS', 'PARAGMILK.NS', 'DIAMONDYD.NS', 'MANORAMA.NS', 'ADFFOODS.NS', 'ATFL.NS', 'VADILALIND.NS', '539594.NS', 'AVTNPL.NS', 'CLSEL.NS', 'GRMOVER.NS', 'SKMEGGPROD.NS', 'FOODSIN.NS', '539132.NS', 'KRISHIVAL.NS', '538921.NS', 'SARVESHWAR.NS', 'ANNAPURNA.NS', 'KAYA.NS', 'EIFFL.NS', '523475.NS', 'MEGASTAR.NS', 'SCPL.NS', '519295.NS', '507621.NS', 'GOYALSALT.NS', '530741.NS', '534839.NS', '543737.NS', 'DANGEE.NS', 'KOHINOOR.NS', 'UMANGDAIRY.NS', 'JHS.NS', '540332.NS', 'MADHUSUDAN.NS', '530077.NS', 'SSFL.NS', '523672.NS', '511153.NS', '530689.NS', '526899.NS', 'BABAFP.NS', '507474.NS', '507598.NS', '524136.NS', 'SHEETAL.NS', '519457.NS', '530461.NS', 'TAPIFRUIT.NS', '538565.NS', '526231.NS', '519238.NS', '519287.NS', '506186.NS', 'NGIL.NS', '538926.NS', '530953.NS', '530617.NS', '543538.NS', '517554.NS', '533212.NS', '506166.NS', '514171.NS', '519475.NS', '540850.NS', '507300.NS', '530853.NS', '540955.NS', 'NARMADA.NS', 'SANWARIA.NS', '530217.NS', '531982.NS', '519285.NS', '507970.NS', 'SHANTI.NS', '519415.NS', '523120.NS', '542771.NS', 'KCK.NS', '519612.NS', '519031.NS', '531406.NS', '500458.NS', '530735.NS', '543924.NS', '530219.NS', '531834.NS', '531716.NS', '519279.NS', '538542.NS', '519367.NS', 'ATGL.NS', 'GAIL.NS', 'PETRONET.NS', 'GUJGASLTD.NS', 'IGL.NS', 'GSPL.NS', 'MGL.NS', 'DEEPINDS.NS', 'DEEPENR.NS', 'ASAHIINDIA.NS', 'BORORENEW.NS', 'LAOPALA.NS', 'BOROLTD.NS', '515043.NS', '515147.NS', 'SEJALLTD.NS', 'HINDNATGLS.NS', 'BANARBEADS.NS', '502281.NS', '523467.NS', 'APOLLOHOSP.NS', 'MAXHEALTH.NS', 'FORTIS.NS', 'MEDANTA.NS', 'NH.NS', 'LALPATHLAB.NS', 'ASTERDM.NS', 'KIMS.NS', 'POLYMED.NS', 'RAINBOW.NS', 'METROPOLIS.NS', 'JLHL.NS', 'VIJAYA.NS', 'HCG.NS', 'THYROCARE.NS', 'KOVAI.NS', 'SHALBY.NS', 'YATHARTH.NS', 'ARTEMISMED.NS', 'KRSNAA.NS', 'INDRAMEDCO.NS', '524520.NS', '526783.NS', '543363.NS', 'UNIHEALTH.NS', '543916.NS', 'LOTUSEYE.NS', '543943.NS', 'MHHL.NS', '523696.NS', '543346.NS', '538837.NS', 'AATMAJ.NS', 'MAITREYA.NS', '527005.NS', '526139.NS', '539428.NS', '530897.NS', 'SANGANI.NS', '542248.NS', '544013.NS', '526301.NS', '516110.NS', 'NIDAN.NS', '543309.NS', '543520.NS', '540788.NS', '531380.NS', '524602.NS', '523489.NS', '514330.NS', '542918.NS', '539378.NS', '541299.NS', '534422.NS', '531043.NS', '526504.NS', '514330.NS', '542918.NS', '539378.NS', '541299.NS', '534422.NS', '531043.NS', '526504.NS', 'INDHOTEL.NS', 'EIHOTEL.NS', 'CHALET.NS', 'LEMONTREE.NS', 'MHRIL.NS', 'ITDC.NS', 'SAMHI.NS', 'ORIENTHOT.NS', 'HLVLTD.NS', 'TAJGVK.NS', 'EIHAHOTELS.NS', '509438.NS', 'SPECIALITY.NS', 'ROHLTD.NS', 'KAMATHOTEL.NS', '523023.NS', '523710.NS', 'ADVANIHOTR.NS', '509960.NS', 'ASIANHOTNR.NS', 'APOLSINHOT.NS', '509546.NS', 'AHLEAST.NS', 'RHL.NS', 'BYKE.NS', '532992.NS', 'CCHHL.NS', '526445.NS', '532016.NS', '512634.NS', 'KHFM.NS', '537839.NS', '532334.NS', '539659.NS', '507960.NS', '507265.NS', '526640.NS', '500016.NS', 'TGBHOTELS.NS', '507981.NS', '508664.NS', '532145.NS', 'KAUSHALYA.NS', '526373.NS', '526687.NS', '526755.NS', '507966.NS', '526761.NS', '532124.NS', '526500.NS', '530065.NS', '539273.NS', '531198.NS', '541973.NS', '526683.NS', '543536.NS', 'BLUECOAST.NS', '526959.NS', '530065.NS', '539273.NS', '531198.NS', '541973.NS', '526683.NS', '543536.NS', 'BLUECOAST.NS', '526959.NS', 'LT.NS', 'GMRINFRA.NS', 'IRB.NS', 'IRCON.NS', 'RITES.NS', 'HFCL.NS', 'GRINFRA.NS', 'ENGINERSIN.NS', 'TECHNOE.NS', 'RELINFRA.NS', 'ISGEC.NS', 'DBL.NS', 'JKIL.NS', '534618.NS', 'ASHOKA.NS', '505872.NS', 'GMRP&UI.NS', 'INOXGREEN.NS', 'SEPC.NS', 'VINDHYATEL.NS', 'GVKPIL.NS', 'GEPIL.NS', 'BAJEL.NS', '539686.NS', 'OMINFRAL.NS', 'LIKHITHA.NS', 'SEMAC.NS', 'BGRENERGY.NS', '543230.NS', 'WSI.NS', '532467.NS', 'IL&FSENGG.NS', 'ZODIAC.NS', 'MEP.NS', 'SECL.NS', '543364.NS', 'DUCON.NS', '543544.NS', 'USK.NS', 'A2ZINFRA.NS', 'NOIDATOLL.NS', 'ATLANTAA.NS', '542057.NS', 'IL&FSTRANS.NS', 'SUPREMEINF.NS', 'HECPROJECT.NS', 'ATALREAL.NS', 'PIGL.NS', '542146.NS', '531297.NS', 'TCLCONS.NS', '531900.NS', '540147.NS', '503657.NS', '532425.NS', '537707.NS', '537840.NS', 'TCLCONS.NS', '531900.NS', '540147.NS', '503657.NS', '532425.NS', '537707.NS', '537840.NS', '543225.NS', 'INDIGRID.NS', 'PGINVIT.NS', 'NHIT.NS', 'SHREMINVIT.NS', '542543.NS', 'IRBINVIT.NS', 'LICI.NS', 'SBILIFE.NS', 'HDFCLIFE.NS', 'ICICIPRULI.NS', 'ICICIGI.NS', 'GICRE.NS', 'NIACL.NS', 'STARHEALTH.NS', 'CONTROLPR.NS', 'AGSTRA.NS', 'HCL-INSYS.NS', 'TVSELECT.NS', '517393.NS', '532373.NS', 'PANACHE.NS', 'CEREBRAINT.NS', 'RICHA.NS', '543830.NS', '540063.NS', '517399.NS', '521238.NS', 'TCS.NS', 'INFY.NS', 'HCLTECH.NS', 'WIPRO.NS', 'LTIM.NS', 'TECHM.NS', 'PERSISTENT.NS', 'LTTS.NS', 'TATAELXSI.NS', 'MPHASIS.NS', 'TATATECH.NS', 'KPITTECH.NS', 'COFORGE.NS', 'OFSS.NS', 'POLICYBZR.NS', 'CYIENT.NS', 'SONATSOFTW.NS', 'BSOFT.NS', 'AFFLE.NS', 'TANLA.NS', 'ZENSARTECH.NS', 'HAPPSTMNDS.NS', 'BLS.NS', 'FSL.NS', 'ECLERX.NS', 'INTELLECT.NS', 'NEWGEN.NS', 'MAPMYINDIA.NS', 'ROUTE.NS', 'LATENTVIEW.NS', 'MASTEK.NS', 'RATEGAIN.NS', 'ZENTEC.NS', 'NETWEB.NS', 'RSYSTEMS.NS', 'INFIBEAM.NS', 'NIITMTS.NS', 'NAZARA.NS', '538891.NS', 'AURIONPRO.NS', 'BBOX.NS', '544021.NS', 'HGS.NS', 'DATAMATICS.NS', 'NUCLEUS.NS', 'BCG.NS', 'EMUDHRA.NS', 'SAKSOFT.NS', 'CIGNITITEC.NS', 'MPSLTD.NS', 'ZAGGLE.NS', 'AXISCADES.NS', '63MOONS.NS', 'RPSGVENT.NS', 'ACCELYA.NS', 'SASKEN.NS', 'EXPLEOSOL.NS', 'VAKRANGEE.NS', 'QUICKHEAL.NS', 'SUBEXLTD.NS', '532407.NS', 'NPST.NS', 'GENESYS.NS', 'ONWARDTEC.NS', 'KSOLVES.NS', '539607.NS', 'XCHANGING.NS', 'INNOVANA.NS', 'TRACXN.NS', 'INFOBEAN.NS', 'NINSYS.NS', 'RAMCOSYS.NS', 'ALLSEC.NS', 'ONEPOINT.NS', 'KELLTONTEC.NS', 'E2E.NS', 'SILVERTUC.NS', '3IINFOLTD.NS', 'DSSL.NS', 'ADSL.NS', 'FCSSOFT.NS', '539515.NS', 'AURUM.NS', 'VERTOZ.NS', 'DIGISPICE.NS', 'VLEGOV.NS', '531225.NS', 'MINDTECK.NS', 'CYBERTECH.NS', '538734.NS', 'SAHANA.NS', 'ASMS.NS', '526433.NS', 'MEGASOFT.NS', '543931.NS', 'ALLETEC.NS', 'SIGMA.NS', 'GOLDTECH.NS', '532344.NS', 'TRIGYN.NS', 'ALANKIT.NS', 'CLOUD.NS', 'SYSTANGO.NS', 'KODYTECH.NS', 'DEVIT.NS', 'INSPIRISYS.NS', '540570.NS', 'AIRAN.NS', 'IZMO.NS', '501421.NS', 'GSS.NS', '542770.NS', 'VIRINCHI.NS', 'EQUIPPP.NS', 'IRIS.NS', '531161.NS', '531489.NS', 'INTENTECH.NS', 'CANARYS.NS', 'SOFTTECH.NS', 'PALREDTEC.NS', 'TREJHARA.NS', 'DIGIKORE.NS', 'VISESHINFO.NS', 'DRCSYSTEMS.NS', 'GVPTECH.NS', 'XELPMOC.NS', 'CADSYS.NS', 'SECURKLOUD.NS', '540590.NS', 'YUDIZ.NS', 'FIDEL.NS', 'RSSOFTWARE.NS', 'CTE.NS', 'SECMARK.NS', '517494.NS', '540143.NS', '517429.NS', '533056.NS', 'QUICKTOUCH.NS', 'SYNOPTICS.NS', '530175.NS', 'AAATECH.NS', 'VERTEXPLUS.NS', '517170.NS', '530951.NS', 'HOVS.NS', 'WEWIN.NS', 'RELIABLE.NS', 'MICROPRO.NS', 'METROBRAND.NS', 'RELAXO.NS', 'BATAINDIA.NS', 'CAMPUS.NS', 'KHADIM.NS', 'MIRZAINT.NS', 'LIBERTSHOE.NS', 'BIL.NS', 'SUPERHOUSE.NS', '532829.NS', 'AKI.NS', '523842.NS', 'ZENITHEXPO.NS', '526481.NS', '541771.NS', '514412.NS', '523242.NS', '526468.NS', '530173.NS', '513515.NS', '531680.NS', 'CONCOR.NS', 'DELHIVERY.NS', 'BLUEDART.NS', 'TVSSCS.NS', 'ALLCARGO.NS', 'VRLLOG.NS', 'TCI.NS', 'TCIEXP.NS', 'GATEWAY.NS', 'SINDHUTRAD.NS', 'MAHLOG.NS', 'RIIL.NS', '539841.NS', 'SICALLOG.NS', 'ACLGATI.NS', 'NAVKARCORP.NS', 'JITFINFRA.NS', 'TREL.NS', 'SNOWMAN.NS', '536264.NS', 'RITCO.NS', 'AVG.NS', '540738.NS', 'ZEAL.NS', 'NECCLTD.NS', 'TARACHAND.NS', 'SVLL.NS', 'SJLOGISTIC.NS', 'ARSHIYA.NS', 'ASPINWALL.NS', 'DJML.NS', 'ACCURACY.NS', '504380.NS', 'GICL.NS', 'PATINTLOG.NS', '523116.NS', '540006.NS', '531977.NS', '520123.NS', 'COMMITTED.NS', 'TIMESCAN.NS', 'FSC.NS', 'MARINETRAN.NS', '543621.NS', '520127.NS', '543618.NS', 'OLIL.NS', '544056.NS', '530259.NS', '520131.NS', '543754.NS', 'AMIABLE.NS', 'JALAN.NS', '540597.NS', '506975.NS', '526737.NS', '512277.NS', '543754.NS', 'AMIABLE.NS', 'JALAN.NS', '540597.NS', '506975.NS', '526737.NS', '512277.NS', 'ADANIPORTS.NS', 'JSWINFRA.NS', 'GPPL.NS', 'NETWORK18.NS', 'DBCORP.NS', 'JAGRAN.NS', 'NDTV.NS', 'TVTODAY.NS', 'SANDESH.NS', '543831.NS', 'HMVL.NS', 'HTMEDIA.NS', 'UFO.NS', 'GRAPHISAD.NS', 'SAMBHAAV.NS', 'DNAMEDIA.NS', 'MPTODAY.NS', '521062.NS', 'SABEVENTS.NS', '531259.NS', 'COALINDIA.NS', 'VEDL.NS', 'NMDC.NS', 'LLOYDSME.NS', 'KIOCL.NS', 'GMDCLTD.NS', 'SANDUMA.NS', 'MOIL.NS', 'ORISSAMINE.NS', 'ASHAPURMIN.NS', '512068.NS', 'VISHNUINFR.NS', '20MICRONS.NS', 'SOUTHWEST.NS', 'SHYAMCENT.NS', 'SMLT.NS', 'BHAGYANGR.NS', 'RAJMET.NS', 'VISASTEEL.NS', '502015.NS', '522165.NS', '532656.NS', '532362.NS', '526705.NS', '513709.NS', 'MCL.NS', '513005.NS', '508922.NS', '513498.NS', '513502.NS', 'IMPEXFERRO.NS', '531778.NS', '540072.NS', '532078.NS', '513721.NS', '538733.NS', '513579.NS', '531396.NS', 'BSE.NS', 'CDSL.NS', 'CENTURYPLY.NS', 'MCX.NS', 'IEX.NS', 'NBCC.NS', 'SFL.NS', 'CAMS.NS', 'GODREJAGRO.NS', 'RTNINDIA.NS', 'SPARC.NS', 'KFINTECH.NS', 'GREENLAM.NS', 'SIS.NS', 'THOMASCOOK.NS', 'NESCO.NS', 'CMSINFO.NS', 'AVANTIFEED.NS', 'TEAMLEASE.NS', 'GREENPANEL.NS', 'DELTACORP.NS', 'SANGHVIMOV.NS', 'KSCL.NS', 'GENSOL.NS', 'GREENPLY.NS', 'STYLAMIND.NS', 'DREAMFOLKS.NS', 'BSHSL.NS', 'TARSONS.NS', 'VENKEYS.NS', 'CONFIPET.NS', 'UDS.NS', 'IRMENERGY.NS', 'DREDGECORP.NS', '531637.NS', 'CUPID.NS', 'POKARNA.NS', 'AWHCL.NS', 'GULPOLY.NS', 'ATL.NS', 'MATRIMONY.NS', '531859.NS', '543284.NS', 'RUSHIL.NS', 'RADIANTCMS.NS', 'VIMTALABS.NS', 'KOTYARK.NS', '504341.NS', 'SUKHJITS.NS', 'GSLSU.NS', '530643.NS', 'MAXIND.NS', '500306.NS', 'APEX.NS', 'PTL.NS', '519421.NS', 'PROZONER.NS', 'UNIVPHOTO.NS', '543895.NS', 'OSWALSEEDS.NS', 'DUGLOBAL.NS', '530215.NS', 'CRAYONS.NS', 'NATHBIOGEN.NS', '500213.NS', 'REPL.NS', 'COASTCORP.NS', 'TAKE.NS', '538607.NS', 'WATERBASE.NS', 'USASEEDS.NS', 'PROPEQUITY.NS', '538942.NS', 'KAPSTON.NS', 'RUCHINFRA.NS', '539275.NS', '543615.NS', 'AARVI.NS', 'LLOYDS.NS', 'SUVIDHAA.NS', 'INFOLLION.NS', 'MODIRUBBER.NS', 'IEL.NS', 'TOTAL.NS', 'EFACTOR.NS', '531771.NS', '543991.NS', 'ARCHIDPLY.NS', 'AIROLAM.NS', '531412.NS', '536493.NS', '543997.NS', 'NIRMAN.NS', 'ISFT.NS', 'TRANSTEEL.NS', 'DYNAMIC.NS', 'URBAN.NS', 'PARTYCRUS.NS', '539927.NS', 'IPSL.NS', 'ANLON.NS', '516003.NS', '543464.NS', '523483.NS', 'WIPL.NS', '519397.NS', 'PARIN.NS', 'SHREEOSFM.NS', 'MITCON.NS', 'GTECJAINX.NS', 'OBCL.NS', 'CROWN.NS', '531688.NS', 'AGRITECH.NS', 'BANKA.NS', '540728.NS', '514197.NS', '532262.NS', '522091.NS', '531910.NS', '533289.NS', '524582.NS', '539963.NS', 'PENTAGON.NS', 'DHRUV.NS', 'HAVISHA.NS', '543905.NS', '531364.NS', 'SECURCRED.NS', '517238.NS', 'AROGRANITE.NS', '524564.NS', '526315.NS', '524408.NS', '519566.NS', 'SIDDHIKA.NS', 'SERVICE.NS', 'AISL.NS', '500450.NS', '501370.NS', '531156.NS', '541735.NS', '537253.NS', 'AJOONI.NS', 'MADHAV.NS', '538401.NS', 'MILTON.NS', 'OMFURN.NS', 'ADL.NS', 'BINANIIND.NS', 'HINDALCO.NS', 'HINDZINC.NS', 'HINDCOPPER.NS', 'NATIONALUM.NS', 'GRAVITA.NS', 'TINPLATE.NS', 'PRECWIRE.NS', 'RAMRAT.NS', '539151.NS', 'MAANALU.NS', 'POCL.NS', 'MMP.NS', 'EUROBOND.NS', 'SHERA.NS', '530129.NS', '540079.NS', '526747.NS', 'BAHETI.NS', 'MANAKALUCO.NS', 'CENTEXT.NS', '544047.NS', '539195.NS', '532455.NS', 'CUBEXTUB.NS', '531869.NS', 'SAGARDEEP.NS', '540727.NS', '530133.NS', '512024.NS', '535279.NS', '512425.NS', '513307.NS', '506003.NS', '513430.NS', '537254.NS', '530611.NS', 'JINDRILL.NS', 'DOLPHIN.NS', 'ALPHAGEO.NS', 'AAKASH.NS', '531471.NS', 'INOXINDIA.NS', 'EPL.NS', 'AGI.NS', 'UFLEX.NS', 'POLYPLEX.NS', 'GRWRHITECH.NS', 'JINDALPOLY.NS', 'HUHTAMAKI.NS', 'TCPLPACK.NS', 'COSMOFIRST.NS', 'EKC.NS', 'ESTER.NS', 'PYRAMID.NS', '512453.NS', 'NAHARPOLY.NS', '523105.NS', 'ORICONENT.NS', 'TIRUPATI.NS', 'HITECHCORP.NS', 'TPLPLASTEH.NS', 'SHREERAMA.NS', 'SAH.NS', '539986.NS', 'KANPRPLA.NS', 'RPPL.NS', '526717.NS', '533608.NS', '504840.NS', 'SRIVASAVI.NS', '530315.NS', '526853.NS', 'EMMBI.NS', 'WORTH.NS', '514428.NS', 'AMDIND.NS', 'FLEXITUFF.NS', '539219.NS', '526773.NS', '523186.NS', '526703.NS', '526137.NS', '513507.NS', 'ORIENTLTD.NS', '543285.NS', '519234.NS', '526965.NS', '526435.NS', 'UMA.NS', 'DKEGL.NS', '526901.NS', '539354.NS', '526355.NS', '526638.NS', '524502.NS', 'MEGAFLEX.NS', 'ROLLT.NS', 'GUJRAFFIA.NS', 'SABAR.NS', '526614.NS', '523021.NS', '516078.NS', '543979.NS', '526554.NS', '524038.NS', 'ANTGRAPHIC.NS', '542865.NS', '543744.NS', '530063.NS', '513063.NS', '530111.NS', '530421.NS', 'BKMINDST.NS', '534639.NS', '530281.NS', '530931.NS', '531280.NS', '539354.NS', '526355.NS', '526638.NS', '524502.NS', 'MEGAFLEX.NS', 'ROLLT.NS', 'GUJRAFFIA.NS', 'SABAR.NS', '526614.NS', '523021.NS', '516078.NS', '543979.NS', '526554.NS', '524038.NS', 'ANTGRAPHIC.NS', '542865.NS', '543744.NS', '530063.NS', '513063.NS', '530111.NS', '530421.NS', 'BKMINDST.NS', '534639.NS', '530281.NS', '530931.NS', '531280.NS', 'ASIANPAINT.NS', 'BERGEPAINT.NS', 'KANSAINER.NS', 'AKZOINDIA.NS', 'INDIGOPNTS.NS', 'SHALPAINTS.NS', 'MCON.NS', '543902.NS', 'CENTURYTEX.NS', 'JKPAPER.NS', 'WSTCSTPAPR.NS', 'ANDHRAPAP.NS', 'SESHAPAPER.NS', 'TNPL.NS', 'KUANTUM.NS', 'SATIA.NS', 'ORIENTPPR.NS', 'PAKKA.NS', 'EMAMIPAP.NS', 'NRAIL.NS', 'BBTCL.NS', 'GENUSPAPER.NS', 'PDMJEPAPER.NS', 'RUCHIRA.NS', 'STARPAPER.NS', 'SHREYANIND.NS', 'RAMANEWS.NS', 'MAGNUM.NS', '516108.NS', '538795.NS', 'ASTRON.NS', '502587.NS', '531813.NS', 'MALUPAPER.NS', '500388.NS', 'BALKRISHNA.NS', '530169.NS', '543799.NS', '516106.NS', '516096.NS', '502589.NS', '500357.NS', '530255.NS', '516020.NS', '526751.NS', '530755.NS', '531436.NS', '541627.NS', 'SPLPETRO.NS', 'STYRENIX.NS', 'BEPL.NS', 'SOTL.NS', 'PANAMAPET.NS', 'DCW.NS', 'AGARIND.NS', 'MANALIPETC.NS', 'KOTHARIPET.NS', 'GOACARBON.NS', '506605.NS', '524488.NS', '524013.NS', 'SUNPHARMA.NS', 'DIVISLAB.NS', 'CIPLA.NS', 'DRREDDY.NS', 'MANKIND.NS', 'TORNTPHARM.NS', 'ZYDUSLIFE.NS', 'AUROPHARMA.NS', 'ALKEM.NS', 'LUPIN.NS', 'ABBOTINDIA.NS', 'GLAXO.NS', 'GLAND.NS', 'BIOCON.NS', 'IPCALAB.NS', 'SYNGENE.NS', 'AJANTPHARM.NS', 'JBCHEPHARM.NS', 'GLENMARK.NS', 'LAURUSLABS.NS', 'PFIZER.NS', 'SANOFI.NS', 'SUVENPHAR.NS', 'PPLPHARMA.NS', 'CONCORDBIO.NS', 'APLLTD.NS', 'NATCOPHARM.NS', 'ASTRAZEN.NS', 'ERIS.NS', 'CAPLIPOINT.NS', 'GRANULES.NS', 'JUBLPHARMA.NS', 'PGHL.NS', 'GLS.NS', 'MARKSANS.NS', 'NEULANDLAB.NS', 'FDC.NS', 'BLUEJET.NS', 'WOCKPHARMA.NS', 'STAR.NS', 'AARTIPHARM.NS', 'AARTIDRUGS.NS', 'ADVENZYMES.NS', 'AMIORG.NS', 'HIKAL.NS', 'INDOCO.NS', 'ORCHPHARMA.NS', 'GUFICBIO.NS', 'INNOVACAP.NS', 'SHILPAMED.NS', 'UNICHEMLAB.NS', 'SEQUENT.NS', 'IOLCP.NS', 'DCAL.NS', 'SUPRIYA.NS', 'MOREPENLAB.NS', 'RPGLIFE.NS', 'THEMISMED.NS', '506879.NS', 'SUVEN.NS', 'AMRUTANJAN.NS', 'SIGACHI.NS', 'JSLL.NS', 'SYNCOMF.NS', 'BETA.NS', 'NGLFINE.NS', 'BLISSGVS.NS', 'SOLARA.NS', 'HESTERBIO.NS', 'LINCOLN.NS', 'KOPRAN.NS', 'REMUS.NS', 'BAJAJHCARE.NS', 'PANACEABIO.NS', 'JAGSNPHARM.NS', 'SMSPHARMA.NS', 'WINDLAS.NS', '540737.NS', 'SAKAR.NS', 'MEDICAMEQ.NS', 'VALIANTLAB.NS', '506260.NS', 'NECLIFE.NS', 'MEDICO.NS', 'ACCENTMIC.NS', 'INDSWFTLAB.NS', 'KILITCH.NS', 'ZIMLAB.NS', 'ALBERTDAVD.NS', 'VENUSREM.NS', '530477.NS', '506414.NS', '541096.NS', '539997.NS', 'WANBURY.NS', 'LYKALABS.NS', '532039.NS', '539730.NS', 'BROOKS.NS', '524717.NS', '524654.NS', 'INFINIUM.NS', '524731.NS', '531739.NS', '530163.NS', 'PAR.NS', '531726.NS', 'BAFNAPH.NS', 'ALPA.NS', '543616.NS', '531173.NS', '540686.NS', '531569.NS', '537536.NS', '530313.NS', 'KREBSBIO.NS', 'SMSLIFE.NS', 'BALPHARMA.NS', '524202.NS', '524506.NS', 'MANGALAM.NS', '524663.NS', 'LASA.NS', '524632.NS', 'SOTAC.NS', 'AAREYDRUGS.NS', '524828.NS', '538964.NS', '530125.NS', '524572.NS', '524636.NS', '524790.NS', '506128.NS', 'INDSWFTLTD.NS', '540694.NS', 'BIOFILCHEM.NS', '506919.NS', '530233.NS', 'VINEETLAB.NS', '539470.NS', '530317.NS', '524703.NS', '531398.NS', '543963.NS', '538634.NS', '523144.NS', '538965.NS', '524711.NS', '511509.NS', 'JFLLIFE.NS', 'TATACONSUM.NS', 'CCL.NS', 'TATACOFFEE.NS', 'APCOTEXIND.NS', 'PIXTRANS.NS', '530475.NS', 'GRPLTD.NS', '538920.NS', '500367.NS', '500166.NS', '509162.NS', 'HARRMALAYA.NS', 'JAYSREETEA.NS', 'ELGIRUBCO.NS', 'MCLEODRUSS.NS', 'DTIL.NS', '508670.NS', 'UNITEDTEA.NS', '526492.NS', '508136.NS', 'SOMICONVEY.NS', 'GRCL.NS', 'GROBTEA.NS', 'SAMPANN.NS', 'PKTEA.NS', '538564.NS', '532230.NS', 'VIAZ.NS', '509196.NS', '538092.NS', '508494.NS', '530533.NS', '530959.NS', '541005.NS', '526945.NS', '543769.NS', 'LRRPL.NS', '531346.NS', '508571.NS', '523888.NS', '530369.NS', 'NORBTEAEXP.NS', '542938.NS', '519191.NS', '536456.NS', '519353.NS', 'SUPREMEIND.NS', 'ASTRAL.NS', 'FINPIPE.NS', 'SAFARI.NS', 'VIPIND.NS', 'PRINCEPIPE.NS', 'RESPONIND.NS', 'JAICORPLTD.NS', 'JISLJALEQS.NS', 'TIMETECHNO.NS', 'NILKAMAL.NS', 'MOLDTKPAC.NS', 'KINGFA.NS', 'APOLLOPIPE.NS', 'MAYURUNIQ.NS', 'XPROINDIA.NS', 'SHAILY.NS', 'PPL.NS', '526586.NS', 'ARROWGREEN.NS', 'COOLCAPS.NS', 'KRITI.NS', 'VIKASECO.NS', '526415.NS', 'ESFL.NS', '538715.NS', 'MAHEPC.NS', '540693.NS', 'PREMIERPOL.NS', 'PILITA.NS', '526169.NS', '538817.NS', '509486.NS', '531287.NS', '543939.NS', '543239.NS', '540078.NS', 'TEXMOPIPES.NS', '541778.NS', '544035.NS', 'BEARDSELL.NS', '530589.NS', '536974.NS', 'RMDRIP.NS', '523248.NS', 'TAINWALCHM.NS', '530449.NS', 'TOKYOPLAST.NS', 'AVROIND.NS', '526409.NS', '526731.NS', '517437.NS', 'AVSL.NS', '543435.NS', '523840.NS', 'SPTL.NS', 'JISLDVREQS.NS', 'REXPIPES.NS', '531454.NS', 'MASTER.NS', 'PEARLPOLY.NS', '526616.NS', '514442.NS', '543656.NS', '526193.NS', '530145.NS', '513642.NS', '530401.NS', 'KSHITIJPOL.NS', '506858.NS', '543843.NS', '526143.NS', '506979.NS', '542145.NS', 'TIJARIA.NS', '537573.NS', '523594.NS', '531663.NS', '531671.NS', '531779.NS', 'SMVD.NS', '531997.NS', '526799.NS', '523652.NS', 'SANCO.NS', '531397.NS', '530429.NS', '530027.NS', '517431.NS', '531929.NS', '520121.NS', '526001.NS', '526731.NS', '517437.NS', 'AVSL.NS', '543435.NS', '523840.NS', 'SPTL.NS', 'JISLDVREQS.NS', 'REXPIPES.NS', '531454.NS', 'MASTER.NS', 'PEARLPOLY.NS', '526616.NS', '514442.NS', '543656.NS', '526193.NS', '530145.NS', '513642.NS', '530401.NS', 'KSHITIJPOL.NS', '506858.NS', '543843.NS', '526143.NS', '506979.NS', '542145.NS', 'TIJARIA.NS', '537573.NS', '523594.NS', '531663.NS', '531671.NS', '531779.NS', 'SMVD.NS', '531997.NS', '526799.NS', '523652.NS', 'SANCO.NS', '531397.NS', '530429.NS', '530027.NS', '517431.NS', '531929.NS', '520121.NS', '526001.NS', 'NTPC.NS', 'ADANIGREEN.NS', 'POWERGRID.NS', 'ADANIPOWER.NS', 'ADANIENSOL.NS', 'TATAPOWER.NS', 'JSWENERGY.NS', 'NHPC.NS', 'TORNTPOWER.NS', 'SJVN.NS', 'NLCINDIA.NS', 'CESC.NS', 'JPPOWER.NS', 'RPOWER.NS', 'IWEL.NS', 'RTNPOWER.NS', 'GIPCL.NS', 'BFUTILITIE.NS', 'GREENPOWER.NS', 'DPSCLTD.NS', '507836.NS', 'INDOWIND.NS', 'SURANAT&P.NS', '531260.NS', 'ENERGYDEV.NS', '541445.NS', 'KARMAENG.NS', '539013.NS', '511736.NS', 'KKVAPOW.NS', '531979.NS', '523222.NS', '536709.NS', 'KPIGREEN.NS', 'ANZEN.NS', 'ORIANA.NS', 'DOMS.NS', 'FLAIR.NS', 'NAVNETEDUL.NS', 'KOKUYOCMLN.NS', 'REPRO.NS', 'LINC.NS', 'SCHAND.NS', 'SUNDARAM.NS', '543453.NS', '531780.NS', '541503.NS', 'INFOMEDIA.NS', '539228.NS', '530787.NS', '534190.NS', 'VASA.NS', '530733.NS', 'JUBLFOOD.NS', 'DEVYANI.NS', 'WESTLIFE.NS', 'SAPPHIRE.NS', 'RBA.NS', 'BARBEQUE.NS', 'COFFEEDAY.NS', 'IRCTC.NS', 'PAGEIND.NS', 'KPRMILL.NS', 'GOKEX.NS', 'KKCL.NS', 'PGIL.NS', 'DOLLAR.NS', 'RUPA.NS', 'KITEX.NS', 'ZODIACLOTH.NS', 'CPS.NS', '531119.NS', '521210.NS', '531613.NS', '521206.NS', '526827.NS', '538081.NS', '512604.NS', 'EMBASSY.NS', 'NXST.NS', 'MINDSPACE.NS', 'BIRET.NS', 'DLF.NS', 'GODREJPROP.NS', 'OBEROIRLTY.NS', 'PRESTIGE.NS', 'PHOENIXLTD.NS', 'BRIGADE.NS', 'SIGNATURE.NS', 'ANANTRAJ.NS', 'SOBHA.NS', 'DBREALTY.NS', 'RUSTOMJEE.NS', 'SUNTECK.NS', 'AHLUCONT.NS', 'IBREALEST.NS', 'MAXESTATES.NS', 'PURVA.NS', 'HEMIPROP.NS', 'TARC.NS', 'KOLTEPATIL.NS', '500307.NS', 'ASHIANA.NS', 'ALEMBICLTD.NS', 'MARATHON.NS', 'ARVSMART.NS', 'CAPACITE.NS', 'UNITECH.NS', 'AJMERA.NS', 'SURAJEST.NS', 'PENINLAND.NS', 'OMAXE.NS', 'TEXINFRA.NS', 'ARIHANTSUP.NS', 'SBGLP.NS', '539042.NS', 'ELDEHSG.NS', 'HUBTOWN.NS', '531959.NS', 'GEECEE.NS', '514215.NS', '500270.NS', 'EMAMIREAL.NS', '531307.NS', 'PVP.NS', '503816.NS', 'RVHL.NS', '500267.NS', '509048.NS', 'VIPULLTD.NS', 'HDIL.NS', '531273.NS', 'TARMAT.NS', 'KBCGLOBAL.NS', 'ANSALAPI.NS', '526025.NS', 'AMJLAND.NS', '535621.NS', '543543.NS', 'SUMIT.NS', '533167.NS', 'PRAENG.NS', 'SHRADHA.NS', '526117.NS', '511411.NS', '517477.NS', '531080.NS', '506530.NS', 'HOMESFY.NS', 'MRO-TEK.NS', '531802.NS', '503127.NS', 'LPDC.NS', '532005.NS', 'PODDARHOUS.NS', '504392.NS', '523007.NS', '507828.NS', '503641.NS', '530053.NS', '505650.NS', '511441.NS', '531381.NS', '533202.NS', '503776.NS', '511702.NS', '521228.NS', '531814.NS', '511714.NS', '503349.NS', 'COUNCODOS.NS', '505285.NS', '539522.NS', '503229.NS', '531111.NS', '532723.NS', '540696.NS', '526727.NS', '530821.NS', '502901.NS', '540811.NS', '531909.NS', '513173.NS', '531870.NS', '523566.NS', '502445.NS', '521149.NS', '536846.NS', 'TECHIN.NS', '531324.NS', '531552.NS', '531822.NS', '526532.NS', '508996.NS', '543598.NS', '540026.NS', '532911.NS', '526488.NS', '530799.NS', '531902.NS', '511176.NS', '538596.NS', '531583.NS', '531968.NS', '531676.NS', '524642.NS', '531640.NS', '533110.NS', '531574.NS', '526813.NS', '531578.NS', '524031.NS', '507917.NS', '526839.NS', '539096.NS', '526115.NS', '508860.NS', '502850.NS', '530141.NS', '539770.NS', 'RELIANCE.NS', 'IOC.NS', 'BPCL.NS', 'HINDPETRO.NS', 'MRPL.NS', 'CHENNPETRO.NS', 'GANDHAR.NS', '543805.NS', 'RHIM.NS', 'VESUVIUS.NS', 'IFGLEXPOR.NS', '523160.NS', '531168.NS', '502294.NS', '502250.NS', 'SPRL.NS', '502271.NS', 'DMART.NS', 'TRENT.NS', 'MANYAVAR.NS', 'ABFRL.NS', 'MEDPLUS.NS', 'EMIL.NS', 'SHOPERSTOP.NS', 'REDTAPE.NS', 'ETHOSLTD.NS', 'KALAMANDIR.NS', 'VMART.NS', 'CARTRADE.NS', 'MUFTI.NS', 'V2RETAIL.NS', 'SPENCERS.NS', 'BCONCEPTS.NS', 'OSIAHYPER.NS', 'PRAXIS.NS', '543746.NS', 'FRETAIL.NS', 'ONDOOR.NS', 'MAGSON.NS', 'ARCHIES.NS', 'CELLPOINT.NS', '542850.NS', 'FLFL.NS', 'FEL.NS', '535620.NS', '543926.NS', 'HEADSUP.NS', '542667.NS', 'FELDVR.NS', 'RMCL.NS', '540615.NS', '540190.NS', '542627.NS', '531652.NS', '543613.NS', '531825.NS', '512025.NS', '532359.NS', 'MAZDOCK.NS', 'COCHINSHIP.NS', 'GRSE.NS', '543273.NS', '526931.NS', '537669.NS', '532001.NS', '509563.NS', 'GESHIP.NS', 'SCI.NS', 'SEAMECLTD.NS', 'ESSARSHPNG.NS', 'SHREYAS.NS', '542753.NS', '501848.NS', 'ACSAL.NS', '501833.NS', '526508.NS', 'JSWSTEEL.NS', 'TATASTEEL.NS', 'JINDALSTEL.NS', 'SAIL.NS', 'JSL.NS', 'APLAPOLLO.NS', 'RATNAMANI.NS', 'SHYAMMETL.NS', 'NSLNISP.NS', 'WELCORP.NS', 'JINDALSAW.NS', 'MAHSEAMLES.NS', 'JAIBALAJI.NS', 'GPIL.NS', 'USHAMART.NS', 'SARDAEN.NS', 'SURYAROSNI.NS', 'MIDHANI.NS', '500245.NS', 'TIIL.NS', 'GALLANTT.NS', 'JTLIND.NS', 'RAJRATAN.NS', 'SUNFLAG.NS', 'TATAMETALI.NS', 'PRAKASH.NS', 'MUKANDLTD.NS', 'VENUSPIPES.NS', 'ISMTLTD.NS', 'GOODLUCK.NS', 'KSL.NS', 'BHARATWIRE.NS', '500365.NS', 'SALASAR.NS', 'AEROFLEX.NS', 'VSSL.NS', 'RAMASTEEL.NS', 'HARIOMPIPE.NS', 'MANINDS.NS', '539837.NS', 'PENIND.NS', 'HITECH.NS', 'SATINDLTD.NS', 'STEELXIND.NS', '539018.NS', '542669.NS', 'KAMDHENU.NS', 'MSPL.NS', 'DPWIRES.NS', 'GANDHITUBE.NS', '543590.NS', 'RATNAVEER.NS', 'BEDMUTHA.NS', '541701.NS', 'GEEKAYWIRE.NS', '518075.NS', '534064.NS', '543928.NS', '539226.NS', '531638.NS', '511672.NS', 'MANAKSTEEL.NS', 'ELECTHERM.NS', 'SURANI.NS', 'KRITIKA.NS', 'MWL.NS', '513511.NS', '526981.NS', 'KRISHCA.NS', '540080.NS', 'SWASTIK.NS', '513361.NS', 'SALSTEEL.NS', 'MANAKCOAT.NS', 'SHAH.NS', '513693.NS', 'AHLADA.NS', 'PRAKASHSTL.NS', '513629.NS', '543874.NS', 'INCREDIBLE.NS', 'CMNL.NS', 'MAHASTEEL.NS', 'OILCOUNTUB.NS', '513548.NS', 'SHAHALLOYS.NS', 'MAL.NS', '538546.NS', '517372.NS', 'ZENITHSTL.NS', 'HISARMETAL.NS', '530615.NS', '504903.NS', '500058.NS', 'VASWANI.NS', '513043.NS', '513456.NS', '513566.NS', 'ANKITMETAL.NS', '531810.NS', '543765.NS', '540082.NS', '532918.NS', '531651.NS', '538610.NS', '513303.NS', 'QFIL.NS', 'SUPREMEENG.NS', '513401.NS', 'GFSTEELS.NS', '530253.NS', '504648.NS', '538812.NS', '523832.NS', '522273.NS', '513488.NS', '531539.NS', '520081.NS', '513540.NS', '539798.NS', '513403.NS', '504731.NS', '513460.NS', '513513.NS', '526967.NS', '513397.NS', '531913.NS', 'ANGELONE.NS', 'ISEC.NS', 'MOTILALOFS.NS', 'NUVAMA.NS', 'IIFLSEC.NS', 'GEOJITFSL.NS', '5PAISA.NS', 'MONARCH.NS', 'ARIHANTCAP.NS', 'BIRLAMONEY.NS', 'WEALTH.NS', 'EMKAY.NS', 'ALMONDZ.NS', 'INDOTHAI.NS', 'INVENTURE.NS', 'INDBANK.NS', '530585.NS', '540192.NS', 'DBSTOCKBRO.NS', 'STEELCITY.NS', '530357.NS', '532053.NS', '531861.NS', '530045.NS', '531600.NS', '531176.NS', '531169.NS', '531025.NS', 'KHANDSE.NS', '530577.NS', '511692.NS', '530829.NS', '538862.NS', '532304.NS', '526891.NS', '531017.NS', '509760.NS', '542176.NS', '511712.NS', '530571.NS', '530249.NS', '511688.NS', 'RENUKA.NS', 'EIDPARRY.NS', 'BALRAMCHIN.NS', 'TRIVENI.NS', 'BAJAJHIND.NS', 'DALMIASUG.NS', 'BANARISUG.NS', 'DHAMPURSUG.NS', 'DWARKESH.NS', 'UTTAMSUGAR.NS', 'AVADHSUGAR.NS', 'DCMSRIND.NS', 'DBOL.NS', 'MAGADSUGAR.NS', 'UGARSUGAR.NS', '543267.NS', 'ZUARIIND.NS', 'KOTARISUG.NS', 'KCPSUGIND.NS', 'MAWANASUG.NS', 'RANASUG.NS', 'PONNIERODE.NS', 'SAKHTISUG.NS', 'VISHWARAJ.NS', 'KMSUGAR.NS', '541347.NS', 'RAJSREESUG.NS', '532102.NS', '500319.NS', '532183.NS', 'DOLLEX.NS', 'SIMBHALS.NS', '507180.NS', '532879.NS', '531923.NS', '537709.NS', '531065.NS', '540027.NS', 'INDUSTOWER.NS', 'ITI.NS', 'TEJASNET.NS', 'ASTRAMICRO.NS', '532406.NS', 'NELCO.NS', 'GTLINFRA.NS', '537259.NS', '523411.NS', 'FROG.NS', 'SARTELE.NS', '526775.NS', 'KDL.NS', '543622.NS', '517258.NS', '500346.NS', 'KAVVERITEL.NS', 'BHARTIARTL.NS', 'IDEA.NS', 'TATACOMM.NS', 'TTML.NS', 'RAILTEL.NS', 'MTNL.NS', 'ONMOBILE.NS', 'RCOM.NS', '511658.NS', 'GTL.NS', '511116.NS', 'UNIINFO.NS', 'ACCORD.NS', 'GRASIM.NS', 'TRIDENT.NS', 'WELSPUNLIV.NS', 'RAYMOND.NS', 'VTL.NS', 'ALOKINDS.NS', 'GARFIBRES.NS', 'ARVIND.NS', 'GOCOLORS.NS', 'ICIL.NS', 'JINDWORLD.NS', 'LUXIND.NS', 'BOMDYEING.NS', 'SIYSIL.NS', 'TCNSBRANDS.NS', '532022.NS', 'FILATEX.NS', 'GANECOS.NS', 'SANGAMIND.NS', 'CANTABIL.NS', 'NITINSPIN.NS', 'HIMATSEIDE.NS', 'SPAL.NS', 'MONTECARLO.NS', 'INDORAMA.NS', '526407.NS', 'FAZE3Q.NS', 'RAJRILTD.NS', 'SPORTKING.NS', 'RSWM.NS', 'NAHARSPING.NS', '500264.NS', 'AMBIKCO.NS', 'SUTLEJTEX.NS', 'CENTENKA.NS', '542351.NS', 'CHEVIOT.NS', '532503.NS', '522122.NS', 'RUBYMILLS.NS', 'MALLCOM.NS', 'AXITA.NS', 'GHCLTEXTIL.NS', 'IRISDOREME.NS', 'SBC.NS', 'NAHARINDUS.NS', 'DONEAR.NS', 'BANSWRAS.NS', '514316.NS', 'ORBTEXP.NS', 'VARDHACRLC.NS', 'SARLAPOLY.NS', 'VISHAL.NS', 'NDL.NS', 'VIPCLOTHNG.NS', '512527.NS', 'AYMSYNTEX.NS', 'PASUPTAC.NS', 'PRECOT.NS', 'MHLXMIRU.NS', 'ASHIMASYN.NS', 'LOYALTEX.NS', 'DCMNVL.NS', 'BASML.NS', 'INDTERRAIN.NS', '538119.NS', 'MARALOVER.NS', 'PRITI.NS', 'MANOMAY.NS', '502958.NS', '503804.NS', '514010.NS', 'SELMC.NS', '532893.NS', 'GINNIFILA.NS', 'LAL.NS', '500223.NS', 'RELCHEMQ.NS', 'BSL.NS', 'TTL.NS', 'LOVABLE.NS', '533108.NS', '539399.NS', 'SPLIL.NS', 'UNITEDPOLY.NS', 'SHIVATEX.NS', '514138.NS', '541144.NS', '532806.NS', 'WEIZMANIND.NS', '514030.NS', 'PASHUPATI.NS', 'SHRITECH.NS', '514165.NS', 'DIGJAMLMTD.NS', 'LAMBODHARA.NS', 'INDIANCARD.NS', '542862.NS', 'THOMASCOTT.NS', 'KARNIKA.NS', 'LAGNAM.NS', 'VARDMNPOLY.NS', 'SALONA.NS', 'SWARAJ.NS', '514470.NS', 'SURYALAXMI.NS', '530331.NS', 'ABCOTS.NS', 'PIONEEREMB.NS', '539562.NS', 'SVPGLOB.NS', '544059.NS', '531234.NS', 'MDL.NS', 'DAMODARIND.NS', '523537.NS', '521097.NS', 'AKSHAR.NS', '531609.NS', 'BHANDARI.NS', '526179.NS', 'FIBERWEB.NS', '530521.NS', '514302.NS', 'CELEBRITY.NS', 'VINNY.NS', '500170.NS', '500239.NS', 'MORARJEE.NS', '522292.NS', 'SHIVAMILLS.NS', 'NAGREEKEXP.NS', '531952.NS', '530043.NS', '532140.NS', 'JAIPURKURT.NS', '533407.NS', '521240.NS', 'PARASPETRO.NS', '502933.NS', 'AARVEEDEN.NS', '507872.NS', '539300.NS', '514087.NS', '514322.NS', '510245.NS', '532957.NS', 'GLOBE.NS', 'SPYL.NS', '541006.NS', 'ITC.NS', 'GODFRYPHLP.NS', 'VSTIND.NS', '540954.NS', '526723.NS', 'GOLDENTOBC.NS', '509887.NS', 'ADANIENT.NS', 'CELLO.NS', 'HONASA.NS', 'REDINGTON.NS', 'AEGISCHEM.NS', 'MMTC.NS', 'PDSL.NS', 'PTC.NS', 'ARVINDFASN.NS', 'RAIN.NS', '512463.NS', '540205.NS', '512329.NS', 'HINDWAREAP.NS', 'LANDMARK.NS', 'OPTIEMUS.NS', 'SIRCA.NS', 'NOVARTIND.NS', 'SPCENET.NS', 'SHANKARA.NS', '512008.NS', 'DPABHUSHAN.NS', '512229.NS', '540717.NS', 'HARDWYN.NS', 'REFEX.NS', 'ZOTA.NS', 'DLINKINDIA.NS', 'UNIENTER.NS', 'KAMOPAINTS.NS', '512379.NS', '539561.NS', 'SREEL.NS', '505725.NS', 'MANAKSIA.NS', 'HEXATRADEX.NS', 'VINYLINDIA.NS', '535136.NS', 'STCINDIA.NS', 'URJA.NS', '514183.NS', '541601.NS', '540980.NS', '532435.NS', 'VIKASLIFE.NS', '542232.NS', '543953.NS', 'CELLECOR.NS', '543982.NS', 'RACE.NS', '542628.NS', '540492.NS', '543531.NS', '541304.NS', 'NEWJAISA.NS', 'OSWALAGRO.NS', '543709.NS', 'BALAXI.NS', 'KORE.NS', 'SHIVAUM.NS', '542012.NS', 'SAKUMA.NS', 'NRL.NS', 'FOCE.NS', '540404.NS', '531205.NS', '523558.NS', 'KOTHARIPRO.NS', 'ANMOL.NS', '531889.NS', '539222.NS', 'ROXHITECH.NS', 'PROV.NS', '524480.NS', 'ESSENTIA.NS', '538890.NS', 'TEMBO.NS', '519152.NS', '539991.NS', '500009.NS', '540956.NS', '531041.NS', '540401.NS', 'MAHESHWARI.NS', 'NITCO.NS', 'QMSMEDI.NS', 'MADHAVBAUG.NS', '512165.NS', '533014.NS', 'DCI.NS', 'DENEERS.NS', '543828.NS', 'ROCKINGDCE.NS', 'VAISHALI.NS', '542694.NS', '540614.NS', 'SIGIND.NS', '505693.NS', '504351.NS', 'UMAEXPORTS.NS', '539788.NS', 'FCONSUMER.NS', '512149.NS', '531842.NS', 'SIL.NS', '539277.NS', '543976.NS', 'GOYALALUM.NS', '500159.NS', 'GOLDKART.NS', 'ANIKINDS.NS', '501391.NS', '526211.NS', '509472.NS', 'PRUDMOULI.NS', '541702.NS', '532070.NS', '526125.NS', '539040.NS', '531175.NS', '506734.NS', 'YAARI.NS', '512099.NS', '543515.NS', '503663.NS', 'LEMERITE.NS', '540146.NS', '526971.NS', '530545.NS', '539854.NS', '539938.NS', '531127.NS', '523752.NS', '542934.NS', 'MONOPHARMA.NS', 'ASHOKAMET.NS', '541865.NS', 'PRAMARA.NS', '543499.NS', '539041.NS', '539097.NS', 'AKG.NS', 'COMPINFO.NS', 'SHRENIK.NS', 'SHUBHLAXMI.NS', 'MOKSH.NS', 'SOMATEX.NS', '543540.NS', '526241.NS', 'BMETRICS.NS', 'MRF.NS', 'BALKRISIND.NS', 'APOLLOTYRE.NS', 'JKTYRE.NS', 'CEATLTD.NS', 'TVSSRICHAK.NS', 'GOODYEAR.NS', '542013.NS', '523550.NS', 'INNOVATIVE.NS']\n",
      "MCDOWELL-N.NS\n",
      "UBL.NS\n",
      "RADICO.NS\n",
      "TI.NS\n",
      "SULA.NS\n",
      "530305.NS\n",
      "GLOBUSSPR.NS\n",
      "INDIAGLYCO.NS\n",
      "SDBL.NS\n",
      "GMBREW.NS\n",
      "507155.NS\n",
      "ASALCBR.NS\n",
      "IFBAGRO.NS\n",
      "507435.NS\n",
      "531216.NS\n",
      "AURDIS.NS\n",
      "523309.NS\n",
      "507498.NS\n",
      "RKDL.NS\n",
      "526471.NS\n",
      "531635.NS\n",
      "MOTHERSON.NS\n",
      "TIINDIA.NS\n",
      "BOSCHLTD.NS\n",
      "UNOMINDA.NS\n",
      "SONACOMS.NS\n",
      "ZFCVINDIA.NS\n",
      "MSUMI.NS\n",
      "ENDURANCE.NS\n",
      "EXIDEIND.NS\n",
      "SUNDRMFAST.NS\n",
      "JBMA.NS\n",
      "ARE&M.NS\n",
      "CRAFTSMAN.NS\n",
      "BBTC.NS\n",
      "MINDACORP.NS\n",
      "VARROC.NS\n",
      "ROLEXRINGS.NS\n",
      "SHRIPISTON.NS\n",
      "ASKAUTOLTD.NS\n",
      "GABRIEL.NS\n",
      "SUPRAJIT.NS\n",
      "SANSERA.NS\n",
      "PRICOLLTD.NS\n",
      "SHANTIGEAR.NS\n",
      "BANCOINDIA.NS\n",
      "JAMNAAUTO.NS\n",
      "SSWL.NS\n",
      "LGBBROSLTD.NS\n",
      "SHARDAMOTR.NS\n",
      "JTEKTINDIA.NS\n",
      "HARSHA.NS\n",
      "SUBROS.NS\n",
      "AUTOAXLES.NS\n",
      "DIVGIITTS.NS\n",
      "SANDHAR.NS\n",
      "FIEMIND.NS\n",
      "LUMAXTECH.NS\n",
      "UNIPARTS.NS\n",
      "PRECAM.NS\n",
      "LUMAXIND.NS\n",
      "FMGOETZE.NS\n",
      "SJS.NS\n",
      "GNA.NS\n",
      "TALBROAUTO.NS\n",
      "WHEELS.NS\n",
      "IGARASHI.NS\n",
      "ALICON.NS\n",
      "RML.NS\n",
      "IMPAL.NS\n",
      "520073.NS\n",
      "INDNIPPON.NS\n",
      "RICOAUTO.NS\n",
      "JAYBARMARU.NS\n",
      "533477.NS\n",
      "NDRAUTO.NS\n",
      "508807.NS\n",
      "MUNJALAU.NS\n",
      "505036.NS\n",
      "HITECHGEAR.NS\n",
      "538992.NS\n",
      "539337.NS\n",
      "505163.NS\n",
      "HINDCOMPOS.NS\n",
      "ASAL.NS\n",
      "RBL.NS\n",
      "MUNJALSHOW.NS\n",
      "523229.NS\n",
      "AUTOIND.NS\n",
      "PAVNAIND.NS\n",
      "SHIVAMAUTO.NS\n",
      "531727.NS\n",
      "522195.NS\n",
      "GOLDSTAR.NS\n",
      "REMSONSIND.NS\n",
      "538987.NS\n",
      "URAVI.NS\n",
      "SINTERCOM.NS\n",
      "PPAP.NS\n",
      "UCAL.NS\n",
      "PRITIKAUTO.NS\n",
      "513252.NS\n",
      "500240.NS\n",
      "SUNDRMBRAK.NS\n",
      "RANEENGINE.NS\n",
      "SHIGAN.NS\n",
      "523638.NS\n",
      "JMA.NS\n",
      "BHARATGEAR.NS\n",
      "530621.NS\n",
      "505978.NS\n",
      "520075.NS\n",
      "505712.NS\n",
      "539353.NS\n",
      "OMAXAUTO.NS\n",
      "542459.NS\n",
      "SETCO.NS\n",
      "505893.NS\n",
      "531994.NS\n",
      "522207.NS\n",
      "543065.NS\n",
      "543606.NS\n",
      "UWCSL.NS\n",
      "513496.NS\n",
      "PRECISION.NS\n",
      "530711.NS\n",
      "ASLIND.NS\n",
      "513059.NS\n",
      "505212.NS\n",
      "520141.NS\n",
      "517230.NS\n",
      "513687.NS\n",
      "505100.NS\n",
      "MARUTI.NS\n",
      "TATAMOTORS.NS\n",
      "M&M.NS\n",
      "BAJAJ-AUTO.NS\n",
      "EICHERMOT.NS\n",
      "TVSMOTOR.NS\n",
      "HEROMOTOCO.NS\n",
      "ASHOKLEY.NS\n",
      "ESCORTS.NS\n",
      "TATAMTRDVR.NS\n",
      "OLECTRA.NS\n",
      "FORCEMOT.NS\n",
      "VSTTILLERS.NS\n",
      "531357.NS\n",
      "SMLISUZU.NS\n",
      "ATULAUTO.NS\n",
      "538970.NS\n",
      "505141.NS\n",
      "HINDMOTORS.NS\n",
      "HDFCBANK.NS\n",
      "ICICIBANK.NS\n",
      "SBIN.NS\n",
      "KOTAKBANK.NS\n",
      "AXISBANK.NS\n",
      "INDUSINDBK.NS\n",
      "BANKBARODA.NS\n",
      "PNB.NS\n",
      "UNIONBANK.NS\n",
      "IOB.NS\n",
      "CANBK.NS\n",
      "IDBI.NS\n",
      "IDFCFIRSTB.NS\n",
      "YESBANK.NS\n",
      "INDIANB.NS\n",
      "AUBANK.NS\n",
      "BANKINDIA.NS\n",
      "UCOBANK.NS\n",
      "CENTRALBK.NS\n",
      "BANDHANBNK.NS\n",
      "FEDERALBNK.NS\n",
      "MAHABANK.NS\n",
      "PSB.NS\n",
      "RBLBANK.NS\n",
      "KARURVYSYA.NS\n",
      "J&KBANK.NS\n",
      "EQUITASBNK.NS\n",
      "UJJIVANSFB.NS\n",
      "CUB.NS\n",
      "KTKBANK.NS\n",
      "TMB.NS\n",
      "CSBBANK.NS\n",
      "UTKARSHBNK.NS\n",
      "SOUTHBANK.NS\n",
      "DCBBANK.NS\n",
      "ESAFSFB.NS\n",
      "FINOPB.NS\n",
      "SURYODAY.NS\n",
      "DHANBANK.NS\n",
      "SCHAEFFLER.NS\n",
      "TIMKEN.NS\n",
      "SKFINDIA.NS\n",
      "NRBBEARING.NS\n",
      "MENONBE.NS\n",
      "526073.NS\n",
      "SKP.NS\n",
      "505681.NS\n",
      "539398.NS\n",
      "505827.NS\n",
      "NIBL.NS\n",
      "522005.NS\n",
      "541178.NS\n",
      "POLYCAB.NS\n",
      "KEI.NS\n",
      "RRKABEL.NS\n",
      "FINCABLES.NS\n",
      "STLTECH.NS\n",
      "PARACABLES.NS\n",
      "UNIVCABLES.NS\n",
      "DYCL.NS\n",
      "BIRLACABLE.NS\n",
      "DIACABS.NS\n",
      "PLAZACABLE.NS\n",
      "VMARCIND.NS\n",
      "538706.NS\n",
      "504240.NS\n",
      "AKSHOPTFBR.NS\n",
      "CORDSCABLE.NS\n",
      "539760.NS\n",
      "MARCO.NS\n",
      "531472.NS\n",
      "GODHA.NS\n",
      "TNTELE.NS\n",
      "540651.NS\n",
      "CMICABLES.NS\n",
      "531812.NS\n",
      "SIEMENS.NS\n",
      "ABB.NS\n",
      "CGPOWER.NS\n",
      "BHEL.NS\n",
      "SUZLON.NS\n",
      "APARINDS.NS\n",
      "POWERINDIA.NS\n",
      "INOXWIND.NS\n",
      "KEC.NS\n",
      "TRITURBINE.NS\n",
      "GET&D.NS\n",
      "VGUARD.NS\n",
      "KPIL.NS\n",
      "SCHNEIDER.NS\n",
      "VOLTAMP.NS\n",
      "TDPOWERSYS.NS\n",
      "TRIL.NS\n",
      "BBL.NS\n",
      "IKIO.NS\n",
      "HONDAPOWER.NS\n",
      "RISHABH.NS\n",
      "SPECTRUM.NS\n",
      "531201.NS\n",
      "542670.NS\n",
      "SERVOTECH.NS\n",
      "HPL.NS\n",
      "543620.NS\n",
      "KABRAEXTRU.NS\n",
      "MARINE.NS\n",
      "JYOTISTRUC.NS\n",
      "FOCUS.NS\n",
      "WEBELSOLAR.NS\n",
      "ICEMAKE.NS\n",
      "SWELECTES.NS\n",
      "541228.NS\n",
      "KECL.NS\n",
      "INDOTECH.NS\n",
      "SALZERELEC.NS\n",
      "540358.NS\n",
      "WEL.NS\n",
      "543619.NS\n",
      "504176.NS\n",
      "515008.NS\n",
      "MODISONLTD.NS\n",
      "504258.NS\n",
      "SOLEX.NS\n",
      "SUPREMEPWR.NS\n",
      "KEL.NS\n",
      "VETO.NS\n",
      "539255.NS\n",
      "SURANASOL.NS\n",
      "539196.NS\n",
      "531888.NS\n",
      "AARTECH.NS\n",
      "531215.NS\n",
      "542679.NS\n",
      "504084.NS\n",
      "504080.NS\n",
      "S&SPOWER.NS\n",
      "504076.NS\n",
      "517467.NS\n",
      "VIVIANA.NS\n",
      "534612.NS\n",
      "535719.NS\n",
      "517546.NS\n",
      "MAKS.NS\n",
      "542668.NS\n",
      "AGNI.NS\n",
      "SEL.NS\n",
      "543172.NS\n",
      "531370.NS\n",
      "517201.NS\n",
      "BRIGHT.NS\n",
      "TARAPUR.NS\n",
      "517423.NS\n",
      "513575.NS\n",
      "530407.NS\n",
      "INDLMETER.NS\n",
      "531460.NS\n",
      "SURANASOL.NS\n",
      "539196.NS\n",
      "531888.NS\n",
      "AARTECH.NS\n",
      "531215.NS\n",
      "542679.NS\n",
      "504084.NS\n",
      "504080.NS\n",
      "S&SPOWER.NS\n",
      "504076.NS\n",
      "517467.NS\n",
      "VIVIANA.NS\n",
      "534612.NS\n",
      "535719.NS\n",
      "517546.NS\n",
      "MAKS.NS\n",
      "542668.NS\n",
      "AGNI.NS\n",
      "SEL.NS\n",
      "543172.NS\n",
      "531370.NS\n",
      "517201.NS\n",
      "BRIGHT.NS\n",
      "TARAPUR.NS\n",
      "517423.NS\n",
      "513575.NS\n",
      "530407.NS\n",
      "INDLMETER.NS\n",
      "531460.NS\n",
      "HAL.NS\n",
      "CUMMINSIND.NS\n",
      "THERMAX.NS\n",
      "BDL.NS\n",
      "GRINDWELL.NS\n",
      "CARBORUNIV.NS\n",
      "ELGIEQUIP.NS\n",
      "TITAGARH.NS\n",
      "JWL.NS\n",
      "KSB.NS\n",
      "BEML.NS\n",
      "GRAPHITE.NS\n",
      "ELECON.NS\n",
      "PRAJIND.NS\n",
      "ACE.NS\n",
      "INGERRAND.NS\n",
      "KIRLOSENG.NS\n",
      "ESABINDIA.NS\n",
      "IONEXCHANG.NS\n",
      "HEG.NS\n",
      "GMMPFAUDLR.NS\n",
      "KIRLOSBROS.NS\n",
      "POWERMECH.NS\n",
      "TEXRAIL.NS\n",
      "LLOYDSENGG.NS\n",
      "WABAG.NS\n",
      "KIRLPNU.NS\n",
      "HLEGLAS.NS\n",
      "GREAVESCOT.NS\n",
      "DYNAMATECH.NS\n",
      "SWARAJENG.NS\n",
      "WENDT.NS\n",
      "531112.NS\n",
      "500068.NS\n",
      "PITTIENG.NS\n",
      "ADORWELD.NS\n",
      "JASH.NS\n",
      "SHAKTIPUMP.NS\n",
      "500147.NS\n",
      "ROTO.NS\n",
      "HERCULES.NS\n",
      "522101.NS\n",
      "505358.NS\n",
      "YUKEN.NS\n",
      "EIMCOELECO.NS\n",
      "522229.NS\n",
      "WALCHANNAG.NS\n",
      "DENORA.NS\n",
      "522134.NS\n",
      "LOKESHMACH.NS\n",
      "ORIENTCER.NS\n",
      "507944.NS\n",
      "523606.NS\n",
      "INTLCONV.NS\n",
      "WINDMACHIN.NS\n",
      "UNIDT.NS\n",
      "MAZDA.NS\n",
      "504959.NS\n",
      "530431.NS\n",
      "505232.NS\n",
      "TIL.NS\n",
      "505737.NS\n",
      "522105.NS\n",
      "539984.NS\n",
      "GUJAPOLLO.NS\n",
      "522017.NS\n",
      "AARON.NS\n",
      "505750.NS\n",
      "TRF.NS\n",
      "504028.NS\n",
      "513337.NS\n",
      "522004.NS\n",
      "ATAM.NS\n",
      "517417.NS\n",
      "508941.NS\n",
      "522650.NS\n",
      "LATTEYS.NS\n",
      "505690.NS\n",
      "505299.NS\n",
      "522251.NS\n",
      "FELIX.NS\n",
      "531035.NS\n",
      "543937.NS\n",
      "522294.NS\n",
      "504988.NS\n",
      "522183.NS\n",
      "AUROIMPEX.NS\n",
      "531399.NS\n",
      "526861.NS\n",
      "531233.NS\n",
      "505250.NS\n",
      "MANUGRAPH.NS\n",
      "517514.NS\n",
      "500246.NS\n",
      "539176.NS\n",
      "505807.NS\n",
      "500360.NS\n",
      "540519.NS\n",
      "522152.NS\n",
      "526043.NS\n",
      "522001.NS\n",
      "541945.NS\n",
      "522036.NS\n",
      "526711.NS\n",
      "PERFECT.NS\n",
      "523650.NS\n",
      "522245.NS\n",
      "PREMIER.NS\n",
      "526604.NS\n",
      "531944.NS\n",
      "531661.NS\n",
      "531594.NS\n",
      "522027.NS\n",
      "522171.NS\n",
      "532470.NS\n",
      "BHARATFORG.NS\n",
      "AIAENG.NS\n",
      "CIEINDIA.NS\n",
      "TVSHLTD.NS\n",
      "RKFORGE.NS\n",
      "HAPPYFORGE.NS\n",
      "PTCIL.NS\n",
      "ELECTCAST.NS\n",
      "505890.NS\n",
      "JAYNECOIND.NS\n",
      "MMFL.NS\n",
      "NELCAST.NS\n",
      "STERTOOLS.NS\n",
      "STEELCAS.NS\n",
      "504605.NS\n",
      "SGIL.NS\n",
      "544037.NS\n",
      "544023.NS\n",
      "513532.NS\n",
      "504786.NS\n",
      "LGBFORGE.NS\n",
      "508875.NS\n",
      "539314.NS\n",
      "HILTON.NS\n",
      "543229.NS\n",
      "517449.NS\n",
      "504646.NS\n",
      "539479.NS\n",
      "TIRUPATIFL.NS\n",
      "KALYANIFRG.NS\n",
      "DCM.NS\n",
      "531289.NS\n",
      "540652.NS\n",
      "539527.NS\n",
      "504961.NS\n",
      "507998.NS\n",
      "PRITIKA.NS\n",
      "SCML.NS\n",
      "513369.NS\n",
      "GANGAFORGE.NS\n",
      "532933.NS\n",
      "513418.NS\n",
      "PATTECH.NS\n",
      "513472.NS\n",
      "539121.NS\n",
      "531144.NS\n",
      "METALFORGE.NS\n",
      "522237.NS\n",
      "531911.NS\n",
      "LAKPRE.NS\n",
      "505685.NS\n",
      "530609.NS\n",
      "505685.NS\n",
      "530609.NS\n",
      "ULTRACEMCO.NS\n",
      "AMBUJACEM.NS\n",
      "SHREECEM.NS\n",
      "DALBHARAT.NS\n",
      "ACC.NS\n",
      "JKCEMENT.NS\n",
      "RAMCOCEM.NS\n",
      "NUVOCO.NS\n",
      "BIRLACORPN.NS\n",
      "JKLAKSHMI.NS\n",
      "PRSMJOHNSN.NS\n",
      "INDIACEM.NS\n",
      "STARCEMENT.NS\n",
      "KESORAMIND.NS\n",
      "HEIDELBERG.NS\n",
      "ORIENTCEM.NS\n",
      "SAGCEM.NS\n",
      "SANGHIIND.NS\n",
      "MANGLMCEM.NS\n",
      "KCP.NS\n",
      "UDAICEMENT.NS\n",
      "SHREDIGCEM.NS\n",
      "502175.NS\n",
      "532323.NS\n",
      "NCLIND.NS\n",
      "ACL.NS\n",
      "DECCANCE.NS\n",
      "APCL.NS\n",
      "530977.NS\n",
      "KAKATCEM.NS\n",
      "BVCL.NS\n",
      "518011.NS\n",
      "518017.NS\n",
      "500322.NS\n",
      "502133.NS\n",
      "BURNPUR.NS\n",
      "EVERESTIND.NS\n",
      "HIL.NS\n",
      "RAMCOIND.NS\n",
      "BIGBLOC.NS\n",
      "VISAKAIND.NS\n",
      "SAHYADRI.NS\n",
      "539620.NS\n",
      "531444.NS\n",
      "KAJARIACER.NS\n",
      "CERA.NS\n",
      "SOMANYCERA.NS\n",
      "ASIANTILES.NS\n",
      "ORIENTBELL.NS\n",
      "EXXARO.NS\n",
      "MURUDCERA.NS\n",
      "REGENCERAM.NS\n",
      "LEXUS.NS\n",
      "515085.NS\n",
      "PIDILITIND.NS\n",
      "SRF.NS\n",
      "SOLARINDS.NS\n",
      "LINDEINDIA.NS\n",
      "FLUOROCHEM.NS\n",
      "DEEPAKNTR.NS\n",
      "TATACHEM.NS\n",
      "GODREJIND.NS\n",
      "AARTIIND.NS\n",
      "ATUL.NS\n",
      "NAVINFLUOR.NS\n",
      "VINATIORGA.NS\n",
      "CASTROLIND.NS\n",
      "CLEAN.NS\n",
      "FINEORG.NS\n",
      "HSCL.NS\n",
      "BASF.NS\n",
      "ALKYLAMINE.NS\n",
      "AETHER.NS\n",
      "GNFC.NS\n",
      "ANURAS.NS\n",
      "GALAXYSURF.NS\n",
      "PCBL.NS\n",
      "BALAMINES.NS\n",
      "DEEPAKFERT.NS\n",
      "JUBLINGREA.NS\n",
      "ACI.NS\n",
      "LXCHEM.NS\n",
      "CHEMPLASTS.NS\n",
      "500123.NS\n",
      "GUJALKALI.NS\n",
      "GHCL.NS\n",
      "PRIVISCL.NS\n",
      "NOCIL.NS\n",
      "ROSSARI.NS\n",
      "EPIGRAL.NS\n",
      "FCL.NS\n",
      "NEOGEN.NS\n",
      "SUDARSCHEM.NS\n",
      "TATVA.NS\n",
      "GULFOILLUB.NS\n",
      "GRAUWEIL.NS\n",
      "GOCLCORP.NS\n",
      "TIDEWATER.NS\n",
      "506854.NS\n",
      "FOSECOIND.NS\n",
      "VISHNU.NS\n",
      "CAMLINFINE.NS\n",
      "TIRUMALCHM.NS\n",
      "SADHNANIQ.NS\n",
      "VIDHIING.NS\n",
      "KIRIINDUS.NS\n",
      "SHK.NS\n",
      "543547.NS\n",
      "532742.NS\n",
      "514448.NS\n",
      "YASHO.NS\n",
      "PREMEXPLN.NS\n",
      "FAIRCHEMOR.NS\n",
      "IGPL.NS\n",
      "VALIANTORG.NS\n",
      "HEUBACHIND.NS\n",
      "OAL.NS\n",
      "506808.NS\n",
      "506852.NS\n",
      "506685.NS\n",
      "507753.NS\n",
      "GANESHBE.NS\n",
      "CHEMCON.NS\n",
      "BODALCHEM.NS\n",
      "506687.NS\n",
      "SRHHYPOLTD.NS\n",
      "AMNPLST.NS\n",
      "HPAL.NS\n",
      "JUBLINDS.NS\n",
      "TNPETRO.NS\n",
      "INDOAMIN.NS\n",
      "OCCL.NS\n",
      "DMCC.NS\n",
      "506532.NS\n",
      "PLASTIBLEN.NS\n",
      "JAYAGROGN.NS\n",
      "INDOBORAX.NS\n",
      "BHAGERIA.NS\n",
      "SHREEPUSHK.NS\n",
      "CHEMBOND.NS\n",
      "500012.NS\n",
      "530845.NS\n",
      "AARTISURF.NS\n",
      "500298.NS\n",
      "KANORICHEM.NS\n",
      "526159.NS\n",
      "DIAMINESQ.NS\n",
      "CHEMFAB.NS\n",
      "540395.NS\n",
      "DICIND.NS\n",
      "LORDSCHLO.NS\n",
      "506597.NS\n",
      "PODDARMENT.NS\n",
      "HIGREEN.NS\n",
      "524634.NS\n",
      "500449.NS\n",
      "DYNPRO.NS\n",
      "ASAHISONG.NS\n",
      "523586.NS\n",
      "MANORG.NS\n",
      "506528.NS\n",
      "HINDCON.NS\n",
      "526821.NS\n",
      "PARAGON.NS\n",
      "504092.NS\n",
      "GULFPETRO.NS\n",
      "526739.NS\n",
      "531253.NS\n",
      "AKSHARCHEM.NS\n",
      "IVP.NS\n",
      "VITAL.NS\n",
      "530627.NS\n",
      "513353.NS\n",
      "JOCIL.NS\n",
      "532384.NS\n",
      "ARVEE.NS\n",
      "538896.NS\n",
      "DUCOL.NS\n",
      "507645.NS\n",
      "ALKALI.NS\n",
      "531592.NS\n",
      "524218.NS\n",
      "524444.NS\n",
      "544036.NS\n",
      "531109.NS\n",
      "HPIL.NS\n",
      "524640.NS\n",
      "506910.NS\n",
      "ARABIAN.NS\n",
      "PROLIFE.NS\n",
      "524174.NS\n",
      "AMBANIORG.NS\n",
      "MAHICKRA.NS\n",
      "526335.NS\n",
      "UCL.NS\n",
      "543497.NS\n",
      "507813.NS\n",
      "524210.NS\n",
      "YCCL.NS\n",
      "SEYAIND.NS\n",
      "VSCL.NS\n",
      "540204.NS\n",
      "540550.NS\n",
      "SANGINITA.NS\n",
      "NIITLTD.NS\n",
      "APTECHT.NS\n",
      "VINSYS.NS\n",
      "COMPUSOFT.NS\n",
      "ZEELEARN.NS\n",
      "EDUCOMP.NS\n",
      "517063.NS\n",
      "526709.NS\n",
      "UMESLTD.NS\n",
      "LODHA.NS\n",
      "RVNL.NS\n",
      "NCC.NS\n",
      "504882.NS\n",
      "PNCINFRA.NS\n",
      "MAHLIFE.NS\n",
      "MANINFRA.NS\n",
      "KNRCON.NS\n",
      "HGINFRA.NS\n",
      "RAMKY.NS\n",
      "ITDCEM.NS\n",
      "JPASSOCIAT.NS\n",
      "PATELENG.NS\n",
      "WELENT.NS\n",
      "HCC.NS\n",
      "GANESHHOUC.NS\n",
      "PSPPROJECT.NS\n",
      "VPRPL.NS\n",
      "EMSLIMITED.NS\n",
      "SHRIRAMPPS.NS\n",
      "VASCONEQ.NS\n",
      "514360.NS\n",
      "504000.NS\n",
      "BLKASHYAP.NS\n",
      "INDIANHUME.NS\n",
      "GIRIRAJ.NS\n",
      "GPTINFRA.NS\n",
      "BLAL.NS\n",
      "MBLINFRA.NS\n",
      "PARSVNATH.NS\n",
      "SPMLINFRA.NS\n",
      "SIMPLEXINF.NS\n",
      "RPPINFRA.NS\n",
      "BRNL.NS\n",
      "541353.NS\n",
      "526961.NS\n",
      "RBMINFRA.NS\n",
      "543542.NS\n",
      "SADBHAV.NS\n",
      "NILAINFRA.NS\n",
      "539894.NS\n",
      "526519.NS\n",
      "543539.NS\n",
      "ABINFRA.NS\n",
      "GENCON.NS\n",
      "539112.NS\n",
      "CHAVDA.NS\n",
      "543241.NS\n",
      "530677.NS\n",
      "531540.NS\n",
      "543391.NS\n",
      "GAYAPROJ.NS\n",
      "543376.NS\n",
      "540796.NS\n",
      "NILASPACES.NS\n",
      "535693.NS\n",
      "NIRAJ.NS\n",
      "RKEC.NS\n",
      "RILINFRA.NS\n",
      "SADBHIN.NS\n",
      "PANSARI.NS\n",
      "539861.NS\n",
      "533285.NS\n",
      "ARTNIRMAN.NS\n",
      "532123.NS\n",
      "532159.NS\n",
      "526654.NS\n",
      "UNIVASTU.NS\n",
      "512479.NS\n",
      "504273.NS\n",
      "531494.NS\n",
      "534338.NS\n",
      "531694.NS\n",
      "AKASH.NS\n",
      "EXCEL.NS\n",
      "DESTINY.NS\n",
      "539189.NS\n",
      "MADHUCON.NS\n",
      "536073.NS\n",
      "530695.NS\n",
      "531784.NS\n",
      "533078.NS\n",
      "SONUINFRA.NS\n",
      "ARSSINFRA.NS\n",
      "541112.NS\n",
      "519331.NS\n",
      "512257.NS\n",
      "536659.NS\n",
      "530361.NS\n",
      "531416.NS\n",
      "538833.NS\n",
      "GAYAHWS.NS\n",
      "522231.NS\n",
      "511131.NS\n",
      "543745.NS\n",
      "532676.NS\n",
      "AILIMITED.NS\n",
      "512064.NS\n",
      "538770.NS\n",
      "531328.NS\n",
      "DRL.NS\n",
      "536128.NS\n",
      "539099.NS\n",
      "509845.NS\n",
      "SETUINFRA.NS\n",
      "MANAV.NS\n",
      "508929.NS\n",
      "542864.NS\n",
      "538521.NS\n",
      "508961.NS\n",
      "CMMIPL.NS\n",
      "514332.NS\n",
      "522209.NS\n",
      "500426.NS\n",
      "526187.NS\n",
      "542924.NS\n",
      "509423.NS\n",
      "542677.NS\n",
      "538794.NS\n",
      "526865.NS\n",
      "532766.NS\n",
      "531155.NS\n",
      "539544.NS\n",
      "526823.NS\n",
      "540134.NS\n",
      "543366.NS\n",
      "534731.NS\n",
      "HAVELLS.NS\n",
      "DIXON.NS\n",
      "VOLTAS.NS\n",
      "CROMPTON.NS\n",
      "BLUESTARCO.NS\n",
      "WHIRLPOOL.NS\n",
      "KAYNES.NS\n",
      "BAJAJELEC.NS\n",
      "AMBER.NS\n",
      "TTKPRESTIG.NS\n",
      "543482.NS\n",
      "PGEL.NS\n",
      "SYMPHONY.NS\n",
      "GENUSPOWER.NS\n",
      "ORIENTELEC.NS\n",
      "508486.NS\n",
      "IFBIND.NS\n",
      "AVALON.NS\n",
      "KDDL.NS\n",
      "JCHAC.NS\n",
      "CARYSIL.NS\n",
      "BUTTERFLY.NS\n",
      "500414.NS\n",
      "STOVEKRAFT.NS\n",
      "504132.NS\n",
      "HIRECT.NS\n",
      "MICEL.NS\n",
      "ELIN.NS\n",
      "543597.NS\n",
      "517035.NS\n",
      "541083.NS\n",
      "BPL.NS\n",
      "MIRCELECTR.NS\n",
      "523100.NS\n",
      "531306.NS\n",
      "GREENCHEF.NS\n",
      "517236.NS\n",
      "523449.NS\n",
      "ARHAM.NS\n",
      "SONAMLTD.NS\n",
      "DELTAMAGNT.NS\n",
      "543921.NS\n",
      "517246.NS\n",
      "531608.NS\n",
      "517288.NS\n",
      "500370.NS\n",
      "517370.NS\n",
      "505840.NS\n",
      "543460.NS\n",
      "509015.NS\n",
      "517397.NS\n",
      "517463.NS\n",
      "526009.NS\n",
      "517397.NS\n",
      "517463.NS\n",
      "526009.NS\n",
      "CRISIL.NS\n",
      "ICRA.NS\n",
      "CARERATING.NS\n",
      "ONGC.NS\n",
      "OIL.NS\n",
      "HINDOILEXP.NS\n",
      "ASIANENE.NS\n",
      "SELAN.NS\n",
      "ABAN.NS\n",
      "513536.NS\n",
      "TITAN.NS\n",
      "KALYANKJIL.NS\n",
      "RAJESHEXPO.NS\n",
      "VAIBHAVGBL.NS\n",
      "SENCO.NS\n",
      "THANGAMAYL.NS\n",
      "PCJEWELLER.NS\n",
      "GOLDIAM.NS\n",
      "MVGJL.NS\n",
      "531847.NS\n",
      "SKYGOLD.NS\n",
      "RGL.NS\n",
      "MOTISONS.NS\n",
      "TBZ.NS\n",
      "RADHIKAJWE.NS\n",
      "RBZJEWEL.NS\n",
      "539518.NS\n",
      "LGHL.NS\n",
      "542579.NS\n",
      "519455.NS\n",
      "540953.NS\n",
      "523676.NS\n",
      "522235.NS\n",
      "543848.NS\n",
      "KANANIIND.NS\n",
      "526365.NS\n",
      "540715.NS\n",
      "530525.NS\n",
      "504398.NS\n",
      "512587.NS\n",
      "SILGO.NS\n",
      "GOENKA.NS\n",
      "539559.NS\n",
      "542034.NS\n",
      "531626.NS\n",
      "539884.NS\n",
      "523790.NS\n",
      "523826.NS\n",
      "531506.NS\n",
      "543970.NS\n",
      "523373.NS\n",
      "523425.NS\n",
      "526195.NS\n",
      "3MINDIA.NS\n",
      "DCMSHRIRAM.NS\n",
      "SWANENERGY.NS\n",
      "QUESS.NS\n",
      "NAVA.NS\n",
      "BALMLAWRIE.NS\n",
      "TTKHLTCARE.NS\n",
      "ANDREWYU.NS\n",
      "ROSSELLIND.NS\n",
      "ANDHRSUGAR.NS\n",
      "509525.NS\n",
      "KRISHNADEF.NS\n",
      "SAAKSHI.NS\n",
      "SPECTSTM.NS\n",
      "GILLANDERS.NS\n",
      "511092.NS\n",
      "501430.NS\n",
      "INDIFRA.NS\n",
      "513149.NS\n",
      "HBLPOWER.NS\n",
      "EVEREADY.NS\n",
      "NIPPOBATRY.NS\n",
      "504093.NS\n",
      "ZOMATO.NS\n",
      "NAUKRI.NS\n",
      "NYKAA.NS\n",
      "PAYTM.NS\n",
      "INDIAMART.NS\n",
      "EASEMYTRIP.NS\n",
      "JUSTDIAL.NS\n",
      "MSTCLTD.NS\n",
      "YATRA.NS\n",
      "CREATIVE.NS\n",
      "DENTALKART.NS\n",
      "NURECA.NS\n",
      "543787.NS\n",
      "MOS.NS\n",
      "543941.NS\n",
      "543637.NS\n",
      "CBAZAAR.NS\n",
      "WOMANCART.NS\n",
      "521105.NS\n",
      "544015.NS\n",
      "538786.NS\n",
      "543521.NS\n",
      "524622.NS\n",
      "538765.NS\n",
      "MARICO.NS\n",
      "PATANJALI.NS\n",
      "AWL.NS\n",
      "GAEL.NS\n",
      "GOKULAGRO.NS\n",
      "BCLIND.NS\n",
      "MKPL.NS\n",
      "GOKUL.NS\n",
      "KRITINUT.NS\n",
      "KNAGRI.NS\n",
      "519003.NS\n",
      "531069.NS\n",
      "519216.NS\n",
      "MGEL.NS\n",
      "543373.NS\n",
      "ROML.NS\n",
      "RCDL.NS\n",
      "519477.NS\n",
      "519471.NS\n",
      "531153.NS\n",
      "SRPL.NS\n",
      "519359.NS\n",
      "NKIND.NS\n",
      "543678.NS\n",
      "531246.NS\n",
      "530119.NS\n",
      "519242.NS\n",
      "530291.NS\n",
      "519606.NS\n",
      "519064.NS\n",
      "519439.NS\n",
      "531265.NS\n",
      "500236.NS\n",
      "507663.NS\n",
      "VERANDA.NS\n",
      "539921.NS\n",
      "GLOBAL.NS\n",
      "CLEDUCATE.NS\n",
      "543713.NS\n",
      "DRONE.NS\n",
      "CAREERP.NS\n",
      "509026.NS\n",
      "ARIHANTACA.NS\n",
      "TREEHOUSE.NS\n",
      "KEEPLEARN.NS\n",
      "540062.NS\n",
      "534741.NS\n",
      "542592.NS\n",
      "539761.NS\n",
      "MTEDUCARE.NS\n",
      "LCCINFOTEC.NS\n",
      "MOXSH.NS\n",
      "543443.NS\n",
      "508918.NS\n",
      "543289.NS\n",
      "530093.NS\n",
      "BEL.NS\n",
      "HONAUT.NS\n",
      "SYRMA.NS\n",
      "DATAPATTNS.NS\n",
      "CYIENTDLM.NS\n",
      "DCXINDIA.NS\n",
      "SBCL.NS\n",
      "APOLLO.NS\n",
      "CENTUM.NS\n",
      "KERNEX.NS\n",
      "VINYAS.NS\n",
      "532329.NS\n",
      "517166.NS\n",
      "543378.NS\n",
      "PULZ.NS\n",
      "NITIRAJ.NS\n",
      "517096.NS\n",
      "517264.NS\n",
      "LAXMIMACH.NS\n",
      "SWSOLAR.NS\n",
      "TEGA.NS\n",
      "MTARTECH.NS\n",
      "AZAD.NS\n",
      "IDEAFORGE.NS\n",
      "PARAS.NS\n",
      "ANUP.NS\n",
      "SKIPPER.NS\n",
      "THEJO.NS\n",
      "HMT.NS\n",
      "522257.NS\n",
      "502865.NS\n",
      "523850.NS\n",
      "543971.NS\n",
      "543920.NS\n",
      "MOLDTECH.NS\n",
      "EMKAYTOOLS.NS\n",
      "505729.NS\n",
      "MACPOWER.NS\n",
      "541402.NS\n",
      "543782.NS\n",
      "BEWLTD.NS\n",
      "EFORCE.NS\n",
      "504908.NS\n",
      "539227.NS\n",
      "TECHLABS.NS\n",
      "544001.NS\n",
      "505302.NS\n",
      "MBECL.NS\n",
      "DIL.NS\n",
      "MARSHALL.NS\n",
      "PRESSTONIC.NS\n",
      "HOLMARC.NS\n",
      "GLOBALPET.NS\n",
      "500028.NS\n",
      "543375.NS\n",
      "ISHAN.NS\n",
      "AMEYA.NS\n",
      "544025.NS\n",
      "530267.NS\n",
      "542801.NS\n",
      "TRANSWIND.NS\n",
      "SUNTV.NS\n",
      "ZEEL.NS\n",
      "PVRINOX.NS\n",
      "TV18BRDCST.NS\n",
      "SAREGAMA.NS\n",
      "WONDERLA.NS\n",
      "TIPSINDLTD.NS\n",
      "HATHWAY.NS\n",
      "DISHTV.NS\n",
      "PFOCUS.NS\n",
      "IMAGICAA.NS\n",
      "DEN.NS\n",
      "512267.NS\n",
      "GTPL.NS\n",
      "ZEEMEDIA.NS\n",
      "ENIL.NS\n",
      "BALAJITELE.NS\n",
      "526721.NS\n",
      "BASILIC.NS\n",
      "RADIOCITY.NS\n",
      "PHANTOMFX.NS\n",
      "NDLVENTURE.NS\n",
      "CINELINE.NS\n",
      "539469.NS\n",
      "SHEMAROO.NS\n",
      "TIPSFILMS.NS\n",
      "RAJTV.NS\n",
      "535142.NS\n",
      "BTML.NS\n",
      "532011.NS\n",
      "539310.NS\n",
      "540151.NS\n",
      "EROSMEDIA.NS\n",
      "TOUCHWOOD.NS\n",
      "BAGFILMS.NS\n",
      "MUKTAARTS.NS\n",
      "VELS.NS\n",
      "DGCONTENT.NS\n",
      "CINEVISTA.NS\n",
      "INSPIRE.NS\n",
      "PNC.NS\n",
      "SITINET.NS\n",
      "532380.NS\n",
      "532275.NS\n",
      "503685.NS\n",
      "512499.NS\n",
      "523277.NS\n",
      "CYBERMEDIA.NS\n",
      "540821.NS\n",
      "542654.NS\n",
      "NEXTMEDIA.NS\n",
      "532355.NS\n",
      "540023.NS\n",
      "WINPRO.NS\n",
      "542727.NS\n",
      "532035.NS\n",
      "532092.NS\n",
      "526628.NS\n",
      "SILLYMONKS.NS\n",
      "TVVISION.NS\n",
      "509073.NS\n",
      "RADAAN.NS\n",
      "SABTN.NS\n",
      "526441.NS\n",
      "543247.NS\n",
      "531512.NS\n",
      "533268.NS\n",
      "530457.NS\n",
      "CREATIVEYE.NS\n",
      "531668.NS\n",
      "541703.NS\n",
      "535647.NS\n",
      "532350.NS\n",
      "511664.NS\n",
      "531925.NS\n",
      "ORTEL.NS\n",
      "539910.NS\n",
      "540159.NS\n",
      "532378.NS\n",
      "531692.NS\n",
      "531420.NS\n",
      "NEXTMEDIA.NS\n",
      "532355.NS\n",
      "540023.NS\n",
      "WINPRO.NS\n",
      "542727.NS\n",
      "532035.NS\n",
      "532092.NS\n",
      "526628.NS\n",
      "SILLYMONKS.NS\n",
      "TVVISION.NS\n",
      "509073.NS\n",
      "RADAAN.NS\n",
      "SABTN.NS\n",
      "526441.NS\n",
      "543247.NS\n",
      "531512.NS\n",
      "533268.NS\n",
      "530457.NS\n",
      "CREATIVEYE.NS\n",
      "531668.NS\n",
      "541703.NS\n",
      "535647.NS\n",
      "532350.NS\n",
      "511664.NS\n",
      "531925.NS\n",
      "ORTEL.NS\n",
      "539910.NS\n",
      "540159.NS\n",
      "532378.NS\n",
      "531692.NS\n",
      "531420.NS\n",
      "MAITHANALL.NS\n",
      "IMFA.NS\n",
      "JAINAM.NS\n",
      "FACT.NS\n",
      "COROMANDEL.NS\n",
      "CHAMBLFERT.NS\n",
      "GSFC.NS\n",
      "RCF.NS\n",
      "PARADEEP.NS\n",
      "NFL.NS\n",
      "MBAPL.NS\n",
      "MADRASFERT.NS\n",
      "SPIC.NS\n",
      "KRISHANA.NS\n",
      "MANGCHEFER.NS\n",
      "ZUARI.NS\n",
      "NAGAFERT.NS\n",
      "KHAICHEM.NS\n",
      "531862.NS\n",
      "RAMAPHO.NS\n",
      "ARIES.NS\n",
      "524687.NS\n",
      "AGROPHOS.NS\n",
      "542123.NS\n",
      "530433.NS\n",
      "524204.NS\n",
      "BOHRAIND.NS\n",
      "526431.NS\n",
      "506543.NS\n",
      "539175.NS\n",
      "BAJFINANCE.NS\n",
      "BAJAJFINSV.NS\n",
      "JIOFIN.NS\n",
      "IRFC.NS\n",
      "PFC.NS\n",
      "RECLTD.NS\n",
      "CHOLAFIN.NS\n",
      "BAJAJHLDNG.NS\n",
      "SHRIRAMFIN.NS\n",
      "SBICARD.NS\n",
      "HDFCAMC.NS\n",
      "MUTHOOTFIN.NS\n",
      "ABCAPITAL.NS\n",
      "L&TFH.NS\n",
      "SUNDARMFIN.NS\n",
      "M&MFIN.NS\n",
      "POONAWALLA.NS\n",
      "MFSL.NS\n",
      "LICHSGFIN.NS\n",
      "NAM-INDIA.NS\n",
      "IREDA.NS\n",
      "360ONE.NS\n",
      "CREDITACC.NS\n",
      "HUDCO.NS\n",
      "IIFL.NS\n",
      "PEL.NS\n",
      "TATAINVEST.NS\n",
      "FIVESTAR.NS\n",
      "PNBHOUSING.NS\n",
      "IDFC.NS\n",
      "CHOLAHLDNG.NS\n",
      "539177.NS\n",
      "APTUS.NS\n",
      "CGCL.NS\n",
      "MANAPPURAM.NS\n",
      "ABSLAMC.NS\n",
      "AAVAS.NS\n",
      "UTIAMC.NS\n",
      "ANANDRATHI.NS\n",
      "IBULHSGFIN.NS\n",
      "CANFINHOME.NS\n",
      "SBFC.NS\n",
      "JMFINANCIL.NS\n",
      "532468.NS\n",
      "533095.NS\n",
      "MAHSCOOTER.NS\n",
      "HOMEFIRST.NS\n",
      "SPANDANA.NS\n",
      "EDELWEISS.NS\n",
      "IFCI.NS\n",
      "RELIGARE.NS\n",
      "UJJIVAN.NS\n",
      "INDIASHLTR.NS\n",
      "SHAREINDIA.NS\n",
      "FUSION.NS\n",
      "JSWHL.NS\n",
      "FEDFINA.NS\n",
      "PRUDENT.NS\n",
      "MASFIN.NS\n",
      "CHOICEIN.NS\n",
      "MUTHOOTMF.NS\n",
      "PAISALO.NS\n",
      "PILANIINVS.NS\n",
      "KIRLOSIND.NS\n",
      "SUNDARMHLD.NS\n",
      "PFS.NS\n",
      "539199.NS\n",
      "SATIN.NS\n",
      "UGROCAP.NS\n",
      "MUFIN.NS\n",
      "REPCOHOME.NS\n",
      "ARMANFIN.NS\n",
      "DHANI.NS\n",
      "INDOSTAR.NS\n",
      "BFINVEST.NS\n",
      "RANEHOLDIN.NS\n",
      "PNBGILTS.NS\n",
      "NSIL.NS\n",
      "AHL.NS\n",
      "KICL.NS\n",
      "SUMMITSEC.NS\n",
      "SASTASUNDR.NS\n",
      "CENTRUM.NS\n",
      "GICHSGFIN.NS\n",
      "TFCILTD.NS\n",
      "532485.NS\n",
      "DVL.NS\n",
      "DOLATALGO.NS\n",
      "GFLLIMITED.NS\n",
      "SMCGLOBAL.NS\n",
      "CONSOFINVT.NS\n",
      "530879.NS\n",
      "CSLFINANCE.NS\n",
      "VHL.NS\n",
      "511768.NS\n",
      "TRU.NS\n",
      "GKWLIMITED.NS\n",
      "508954.NS\n",
      "538772.NS\n",
      "CREST.NS\n",
      "526506.NS\n",
      "501298.NS\n",
      "DHUNINV.NS\n",
      "VLSFINANCE.NS\n",
      "538446.NS\n",
      "OSWALGREEN.NS\n",
      "JPOLYINVST.NS\n",
      "MUTHOOTCAP.NS\n",
      "JINDALPHOT.NS\n",
      "THEINVEST.NS\n",
      "STEL.NS\n",
      "511628.NS\n",
      "539017.NS\n",
      "PRIMESECU.NS\n",
      "506134.NS\n",
      "530579.NS\n",
      "NAHARCAP.NS\n",
      "530499.NS\n",
      "SILINV.NS\n",
      "NBIFIN.NS\n",
      "531359.NS\n",
      "IITL.NS\n",
      "537800.NS\n",
      "537750.NS\n",
      "543324.NS\n",
      "514238.NS\n",
      "511700.NS\n",
      "532320.NS\n",
      "500069.NS\n",
      "539113.NS\n",
      "IVC.NS\n",
      "SRGHFL.NS\n",
      "STARTECK.NS\n",
      "519299.NS\n",
      "511066.NS\n",
      "511754.NS\n",
      "512020.NS\n",
      "DELPHIFX.NS\n",
      "512437.NS\n",
      "GATECH.NS\n",
      "RELCAPITAL.NS\n",
      "507912.NS\n",
      "512393.NS\n",
      "BAIDFIN.NS\n",
      "538732.NS\n",
      "538668.NS\n",
      "NDGL.NS\n",
      "CORALFINAC.NS\n",
      "WELINV.NS\n",
      "ASCOM.NS\n",
      "HINDUNILVR.NS\n",
      "NESTLEIND.NS\n",
      "VBL.NS\n",
      "BRITANNIA.NS\n",
      "GODREJCP.NS\n",
      "DABUR.NS\n",
      "COLPAL.NS\n",
      "PGHH.NS\n",
      "HATSUN.NS\n",
      "EMAMILTD.NS\n",
      "GILLETTE.NS\n",
      "JYOTHYLAB.NS\n",
      "BIKAJI.NS\n",
      "ZYDUSWELL.NS\n",
      "KRBL.NS\n",
      "LTFOODS.NS\n",
      "BECTORFOOD.NS\n",
      "HNDFDS.NS\n",
      "DODLA.NS\n",
      "HMAAGRO.NS\n",
      "TASTYBITE.NS\n",
      "BAJAJCON.NS\n",
      "HERITGFOOD.NS\n",
      "PARAGMILK.NS\n",
      "DIAMONDYD.NS\n",
      "MANORAMA.NS\n",
      "ADFFOODS.NS\n",
      "ATFL.NS\n",
      "VADILALIND.NS\n",
      "539594.NS\n",
      "AVTNPL.NS\n",
      "CLSEL.NS\n",
      "GRMOVER.NS\n",
      "SKMEGGPROD.NS\n",
      "FOODSIN.NS\n",
      "539132.NS\n",
      "KRISHIVAL.NS\n",
      "538921.NS\n",
      "SARVESHWAR.NS\n",
      "ANNAPURNA.NS\n",
      "KAYA.NS\n",
      "EIFFL.NS\n",
      "523475.NS\n",
      "MEGASTAR.NS\n",
      "SCPL.NS\n",
      "519295.NS\n",
      "507621.NS\n",
      "GOYALSALT.NS\n",
      "530741.NS\n",
      "534839.NS\n",
      "543737.NS\n",
      "DANGEE.NS\n",
      "KOHINOOR.NS\n",
      "UMANGDAIRY.NS\n",
      "JHS.NS\n",
      "540332.NS\n",
      "MADHUSUDAN.NS\n",
      "530077.NS\n",
      "SSFL.NS\n",
      "523672.NS\n",
      "511153.NS\n",
      "530689.NS\n",
      "526899.NS\n",
      "BABAFP.NS\n",
      "507474.NS\n",
      "507598.NS\n",
      "524136.NS\n",
      "SHEETAL.NS\n",
      "519457.NS\n",
      "530461.NS\n",
      "TAPIFRUIT.NS\n",
      "538565.NS\n",
      "526231.NS\n",
      "519238.NS\n",
      "519287.NS\n",
      "506186.NS\n",
      "NGIL.NS\n",
      "538926.NS\n",
      "530953.NS\n",
      "530617.NS\n",
      "543538.NS\n",
      "517554.NS\n",
      "533212.NS\n",
      "506166.NS\n",
      "514171.NS\n",
      "519475.NS\n",
      "540850.NS\n",
      "507300.NS\n",
      "530853.NS\n",
      "540955.NS\n",
      "NARMADA.NS\n",
      "SANWARIA.NS\n",
      "530217.NS\n",
      "531982.NS\n",
      "519285.NS\n",
      "507970.NS\n",
      "SHANTI.NS\n",
      "519415.NS\n",
      "523120.NS\n",
      "542771.NS\n",
      "KCK.NS\n",
      "519612.NS\n",
      "519031.NS\n",
      "531406.NS\n",
      "500458.NS\n",
      "530735.NS\n",
      "543924.NS\n",
      "530219.NS\n",
      "531834.NS\n",
      "531716.NS\n",
      "519279.NS\n",
      "538542.NS\n",
      "519367.NS\n",
      "ATGL.NS\n",
      "GAIL.NS\n",
      "PETRONET.NS\n",
      "GUJGASLTD.NS\n",
      "IGL.NS\n",
      "GSPL.NS\n",
      "MGL.NS\n",
      "DEEPINDS.NS\n",
      "DEEPENR.NS\n",
      "ASAHIINDIA.NS\n",
      "BORORENEW.NS\n",
      "LAOPALA.NS\n",
      "BOROLTD.NS\n",
      "515043.NS\n",
      "515147.NS\n",
      "SEJALLTD.NS\n",
      "HINDNATGLS.NS\n",
      "BANARBEADS.NS\n",
      "502281.NS\n",
      "523467.NS\n",
      "APOLLOHOSP.NS\n",
      "MAXHEALTH.NS\n",
      "FORTIS.NS\n",
      "MEDANTA.NS\n",
      "NH.NS\n",
      "LALPATHLAB.NS\n",
      "ASTERDM.NS\n",
      "KIMS.NS\n",
      "POLYMED.NS\n",
      "RAINBOW.NS\n",
      "METROPOLIS.NS\n",
      "JLHL.NS\n",
      "VIJAYA.NS\n",
      "HCG.NS\n",
      "THYROCARE.NS\n",
      "KOVAI.NS\n",
      "SHALBY.NS\n",
      "YATHARTH.NS\n",
      "ARTEMISMED.NS\n",
      "KRSNAA.NS\n",
      "INDRAMEDCO.NS\n",
      "524520.NS\n",
      "526783.NS\n",
      "543363.NS\n",
      "UNIHEALTH.NS\n",
      "543916.NS\n",
      "LOTUSEYE.NS\n",
      "543943.NS\n",
      "MHHL.NS\n",
      "523696.NS\n",
      "543346.NS\n",
      "538837.NS\n",
      "AATMAJ.NS\n",
      "MAITREYA.NS\n",
      "527005.NS\n",
      "526139.NS\n",
      "539428.NS\n",
      "530897.NS\n",
      "SANGANI.NS\n",
      "542248.NS\n",
      "544013.NS\n",
      "526301.NS\n",
      "516110.NS\n",
      "NIDAN.NS\n",
      "543309.NS\n",
      "543520.NS\n",
      "540788.NS\n",
      "531380.NS\n",
      "524602.NS\n",
      "523489.NS\n",
      "514330.NS\n",
      "542918.NS\n",
      "539378.NS\n",
      "541299.NS\n",
      "534422.NS\n",
      "531043.NS\n",
      "526504.NS\n",
      "514330.NS\n",
      "542918.NS\n",
      "539378.NS\n",
      "541299.NS\n",
      "534422.NS\n",
      "531043.NS\n",
      "526504.NS\n",
      "INDHOTEL.NS\n",
      "EIHOTEL.NS\n",
      "CHALET.NS\n",
      "LEMONTREE.NS\n",
      "MHRIL.NS\n",
      "ITDC.NS\n",
      "SAMHI.NS\n",
      "ORIENTHOT.NS\n",
      "HLVLTD.NS\n",
      "TAJGVK.NS\n",
      "EIHAHOTELS.NS\n",
      "509438.NS\n",
      "SPECIALITY.NS\n",
      "ROHLTD.NS\n",
      "KAMATHOTEL.NS\n",
      "523023.NS\n",
      "523710.NS\n",
      "ADVANIHOTR.NS\n",
      "509960.NS\n",
      "ASIANHOTNR.NS\n",
      "APOLSINHOT.NS\n",
      "509546.NS\n",
      "AHLEAST.NS\n",
      "RHL.NS\n",
      "BYKE.NS\n",
      "532992.NS\n",
      "CCHHL.NS\n",
      "526445.NS\n",
      "532016.NS\n",
      "512634.NS\n",
      "KHFM.NS\n",
      "537839.NS\n",
      "532334.NS\n",
      "539659.NS\n",
      "507960.NS\n",
      "507265.NS\n",
      "526640.NS\n",
      "500016.NS\n",
      "TGBHOTELS.NS\n",
      "507981.NS\n",
      "508664.NS\n",
      "532145.NS\n",
      "KAUSHALYA.NS\n",
      "526373.NS\n",
      "526687.NS\n",
      "526755.NS\n",
      "507966.NS\n",
      "526761.NS\n",
      "532124.NS\n",
      "526500.NS\n",
      "530065.NS\n",
      "539273.NS\n",
      "531198.NS\n",
      "541973.NS\n",
      "526683.NS\n",
      "543536.NS\n",
      "BLUECOAST.NS\n",
      "526959.NS\n",
      "530065.NS\n",
      "539273.NS\n",
      "531198.NS\n",
      "541973.NS\n",
      "526683.NS\n",
      "543536.NS\n",
      "BLUECOAST.NS\n",
      "526959.NS\n",
      "LT.NS\n",
      "GMRINFRA.NS\n",
      "IRB.NS\n",
      "IRCON.NS\n",
      "RITES.NS\n",
      "HFCL.NS\n",
      "GRINFRA.NS\n",
      "ENGINERSIN.NS\n",
      "TECHNOE.NS\n",
      "RELINFRA.NS\n",
      "ISGEC.NS\n",
      "DBL.NS\n",
      "JKIL.NS\n",
      "534618.NS\n",
      "ASHOKA.NS\n",
      "505872.NS\n",
      "GMRP&UI.NS\n",
      "INOXGREEN.NS\n",
      "SEPC.NS\n",
      "VINDHYATEL.NS\n",
      "GVKPIL.NS\n",
      "GEPIL.NS\n",
      "BAJEL.NS\n",
      "539686.NS\n",
      "OMINFRAL.NS\n",
      "LIKHITHA.NS\n",
      "SEMAC.NS\n",
      "BGRENERGY.NS\n",
      "543230.NS\n",
      "WSI.NS\n",
      "532467.NS\n",
      "IL&FSENGG.NS\n",
      "ZODIAC.NS\n",
      "MEP.NS\n",
      "SECL.NS\n",
      "543364.NS\n",
      "DUCON.NS\n",
      "543544.NS\n",
      "USK.NS\n",
      "A2ZINFRA.NS\n",
      "NOIDATOLL.NS\n",
      "ATLANTAA.NS\n",
      "542057.NS\n",
      "IL&FSTRANS.NS\n",
      "SUPREMEINF.NS\n",
      "HECPROJECT.NS\n",
      "ATALREAL.NS\n",
      "PIGL.NS\n",
      "542146.NS\n",
      "531297.NS\n",
      "TCLCONS.NS\n",
      "531900.NS\n",
      "540147.NS\n",
      "503657.NS\n",
      "532425.NS\n",
      "537707.NS\n",
      "537840.NS\n",
      "TCLCONS.NS\n",
      "531900.NS\n",
      "540147.NS\n",
      "503657.NS\n",
      "532425.NS\n",
      "537707.NS\n",
      "537840.NS\n",
      "543225.NS\n",
      "INDIGRID.NS\n",
      "PGINVIT.NS\n",
      "NHIT.NS\n",
      "SHREMINVIT.NS\n",
      "542543.NS\n",
      "IRBINVIT.NS\n",
      "LICI.NS\n",
      "SBILIFE.NS\n",
      "HDFCLIFE.NS\n",
      "ICICIPRULI.NS\n",
      "ICICIGI.NS\n",
      "GICRE.NS\n",
      "NIACL.NS\n",
      "STARHEALTH.NS\n",
      "CONTROLPR.NS\n",
      "AGSTRA.NS\n",
      "HCL-INSYS.NS\n",
      "TVSELECT.NS\n",
      "517393.NS\n",
      "532373.NS\n",
      "PANACHE.NS\n",
      "CEREBRAINT.NS\n",
      "RICHA.NS\n",
      "543830.NS\n",
      "540063.NS\n",
      "517399.NS\n",
      "521238.NS\n",
      "TCS.NS\n",
      "INFY.NS\n",
      "HCLTECH.NS\n",
      "WIPRO.NS\n",
      "LTIM.NS\n",
      "TECHM.NS\n",
      "PERSISTENT.NS\n",
      "LTTS.NS\n",
      "TATAELXSI.NS\n",
      "MPHASIS.NS\n",
      "TATATECH.NS\n",
      "KPITTECH.NS\n",
      "COFORGE.NS\n",
      "OFSS.NS\n",
      "POLICYBZR.NS\n",
      "CYIENT.NS\n",
      "SONATSOFTW.NS\n",
      "BSOFT.NS\n",
      "AFFLE.NS\n",
      "TANLA.NS\n",
      "ZENSARTECH.NS\n",
      "HAPPSTMNDS.NS\n",
      "BLS.NS\n",
      "FSL.NS\n",
      "ECLERX.NS\n",
      "INTELLECT.NS\n",
      "NEWGEN.NS\n",
      "MAPMYINDIA.NS\n",
      "ROUTE.NS\n",
      "LATENTVIEW.NS\n",
      "MASTEK.NS\n",
      "RATEGAIN.NS\n",
      "ZENTEC.NS\n",
      "NETWEB.NS\n",
      "RSYSTEMS.NS\n",
      "INFIBEAM.NS\n",
      "NIITMTS.NS\n",
      "NAZARA.NS\n",
      "538891.NS\n",
      "AURIONPRO.NS\n",
      "BBOX.NS\n",
      "544021.NS\n",
      "HGS.NS\n",
      "DATAMATICS.NS\n",
      "NUCLEUS.NS\n",
      "BCG.NS\n",
      "EMUDHRA.NS\n",
      "SAKSOFT.NS\n",
      "CIGNITITEC.NS\n",
      "MPSLTD.NS\n",
      "ZAGGLE.NS\n",
      "AXISCADES.NS\n",
      "63MOONS.NS\n",
      "RPSGVENT.NS\n",
      "ACCELYA.NS\n",
      "SASKEN.NS\n",
      "EXPLEOSOL.NS\n",
      "VAKRANGEE.NS\n",
      "QUICKHEAL.NS\n",
      "SUBEXLTD.NS\n",
      "532407.NS\n",
      "NPST.NS\n",
      "GENESYS.NS\n",
      "ONWARDTEC.NS\n",
      "KSOLVES.NS\n",
      "539607.NS\n",
      "XCHANGING.NS\n",
      "INNOVANA.NS\n",
      "TRACXN.NS\n",
      "INFOBEAN.NS\n",
      "NINSYS.NS\n",
      "RAMCOSYS.NS\n",
      "ALLSEC.NS\n",
      "ONEPOINT.NS\n",
      "KELLTONTEC.NS\n",
      "E2E.NS\n",
      "SILVERTUC.NS\n",
      "3IINFOLTD.NS\n",
      "DSSL.NS\n",
      "ADSL.NS\n",
      "FCSSOFT.NS\n",
      "539515.NS\n",
      "AURUM.NS\n",
      "VERTOZ.NS\n",
      "DIGISPICE.NS\n",
      "VLEGOV.NS\n",
      "531225.NS\n",
      "MINDTECK.NS\n",
      "CYBERTECH.NS\n",
      "538734.NS\n",
      "SAHANA.NS\n",
      "ASMS.NS\n",
      "526433.NS\n",
      "MEGASOFT.NS\n",
      "543931.NS\n",
      "ALLETEC.NS\n",
      "SIGMA.NS\n",
      "GOLDTECH.NS\n",
      "532344.NS\n",
      "TRIGYN.NS\n",
      "ALANKIT.NS\n",
      "CLOUD.NS\n",
      "SYSTANGO.NS\n",
      "KODYTECH.NS\n",
      "DEVIT.NS\n",
      "INSPIRISYS.NS\n",
      "540570.NS\n",
      "AIRAN.NS\n",
      "IZMO.NS\n",
      "501421.NS\n",
      "GSS.NS\n",
      "542770.NS\n",
      "VIRINCHI.NS\n",
      "EQUIPPP.NS\n",
      "IRIS.NS\n",
      "531161.NS\n",
      "531489.NS\n",
      "INTENTECH.NS\n",
      "CANARYS.NS\n",
      "SOFTTECH.NS\n",
      "PALREDTEC.NS\n",
      "TREJHARA.NS\n",
      "DIGIKORE.NS\n",
      "VISESHINFO.NS\n",
      "DRCSYSTEMS.NS\n",
      "GVPTECH.NS\n",
      "XELPMOC.NS\n",
      "CADSYS.NS\n",
      "SECURKLOUD.NS\n",
      "540590.NS\n",
      "YUDIZ.NS\n",
      "FIDEL.NS\n",
      "RSSOFTWARE.NS\n",
      "CTE.NS\n",
      "SECMARK.NS\n",
      "517494.NS\n",
      "540143.NS\n",
      "517429.NS\n",
      "533056.NS\n",
      "QUICKTOUCH.NS\n",
      "SYNOPTICS.NS\n",
      "530175.NS\n",
      "AAATECH.NS\n",
      "VERTEXPLUS.NS\n",
      "517170.NS\n",
      "530951.NS\n",
      "HOVS.NS\n",
      "WEWIN.NS\n",
      "RELIABLE.NS\n",
      "MICROPRO.NS\n",
      "METROBRAND.NS\n",
      "RELAXO.NS\n",
      "BATAINDIA.NS\n",
      "CAMPUS.NS\n",
      "KHADIM.NS\n",
      "MIRZAINT.NS\n",
      "LIBERTSHOE.NS\n",
      "BIL.NS\n",
      "SUPERHOUSE.NS\n",
      "532829.NS\n",
      "AKI.NS\n",
      "523842.NS\n",
      "ZENITHEXPO.NS\n",
      "526481.NS\n",
      "541771.NS\n",
      "514412.NS\n",
      "523242.NS\n",
      "526468.NS\n",
      "530173.NS\n",
      "513515.NS\n",
      "531680.NS\n",
      "CONCOR.NS\n",
      "DELHIVERY.NS\n",
      "BLUEDART.NS\n",
      "TVSSCS.NS\n",
      "ALLCARGO.NS\n",
      "VRLLOG.NS\n",
      "TCI.NS\n",
      "TCIEXP.NS\n",
      "GATEWAY.NS\n",
      "SINDHUTRAD.NS\n",
      "MAHLOG.NS\n",
      "RIIL.NS\n",
      "539841.NS\n",
      "SICALLOG.NS\n",
      "ACLGATI.NS\n",
      "NAVKARCORP.NS\n",
      "JITFINFRA.NS\n",
      "TREL.NS\n",
      "SNOWMAN.NS\n",
      "536264.NS\n",
      "RITCO.NS\n",
      "AVG.NS\n",
      "540738.NS\n",
      "ZEAL.NS\n",
      "NECCLTD.NS\n",
      "TARACHAND.NS\n",
      "SVLL.NS\n",
      "SJLOGISTIC.NS\n",
      "ARSHIYA.NS\n",
      "ASPINWALL.NS\n",
      "DJML.NS\n",
      "ACCURACY.NS\n",
      "504380.NS\n",
      "GICL.NS\n",
      "PATINTLOG.NS\n",
      "523116.NS\n",
      "540006.NS\n",
      "531977.NS\n",
      "520123.NS\n",
      "COMMITTED.NS\n",
      "TIMESCAN.NS\n",
      "FSC.NS\n",
      "MARINETRAN.NS\n",
      "543621.NS\n",
      "520127.NS\n",
      "543618.NS\n",
      "OLIL.NS\n",
      "544056.NS\n",
      "530259.NS\n",
      "520131.NS\n",
      "543754.NS\n",
      "AMIABLE.NS\n",
      "JALAN.NS\n",
      "540597.NS\n",
      "506975.NS\n",
      "526737.NS\n",
      "512277.NS\n",
      "543754.NS\n",
      "AMIABLE.NS\n",
      "JALAN.NS\n",
      "540597.NS\n",
      "506975.NS\n",
      "526737.NS\n",
      "512277.NS\n",
      "ADANIPORTS.NS\n",
      "JSWINFRA.NS\n",
      "GPPL.NS\n",
      "NETWORK18.NS\n",
      "DBCORP.NS\n",
      "JAGRAN.NS\n",
      "NDTV.NS\n",
      "TVTODAY.NS\n",
      "SANDESH.NS\n",
      "543831.NS\n",
      "HMVL.NS\n",
      "HTMEDIA.NS\n",
      "UFO.NS\n",
      "GRAPHISAD.NS\n",
      "SAMBHAAV.NS\n",
      "DNAMEDIA.NS\n",
      "MPTODAY.NS\n",
      "521062.NS\n",
      "SABEVENTS.NS\n",
      "531259.NS\n",
      "COALINDIA.NS\n",
      "VEDL.NS\n",
      "NMDC.NS\n",
      "LLOYDSME.NS\n",
      "KIOCL.NS\n",
      "GMDCLTD.NS\n",
      "SANDUMA.NS\n",
      "MOIL.NS\n",
      "ORISSAMINE.NS\n",
      "ASHAPURMIN.NS\n",
      "512068.NS\n",
      "VISHNUINFR.NS\n",
      "20MICRONS.NS\n",
      "SOUTHWEST.NS\n",
      "SHYAMCENT.NS\n",
      "SMLT.NS\n",
      "BHAGYANGR.NS\n",
      "RAJMET.NS\n",
      "VISASTEEL.NS\n",
      "502015.NS\n",
      "522165.NS\n",
      "532656.NS\n",
      "532362.NS\n",
      "526705.NS\n",
      "513709.NS\n",
      "MCL.NS\n",
      "513005.NS\n",
      "508922.NS\n",
      "513498.NS\n",
      "513502.NS\n",
      "IMPEXFERRO.NS\n",
      "531778.NS\n",
      "540072.NS\n",
      "532078.NS\n",
      "513721.NS\n",
      "538733.NS\n",
      "513579.NS\n",
      "531396.NS\n",
      "BSE.NS\n",
      "CDSL.NS\n",
      "CENTURYPLY.NS\n",
      "MCX.NS\n",
      "IEX.NS\n",
      "NBCC.NS\n",
      "SFL.NS\n",
      "CAMS.NS\n",
      "GODREJAGRO.NS\n",
      "RTNINDIA.NS\n",
      "SPARC.NS\n",
      "KFINTECH.NS\n",
      "GREENLAM.NS\n",
      "SIS.NS\n",
      "THOMASCOOK.NS\n",
      "NESCO.NS\n",
      "CMSINFO.NS\n",
      "AVANTIFEED.NS\n",
      "TEAMLEASE.NS\n",
      "GREENPANEL.NS\n",
      "DELTACORP.NS\n",
      "SANGHVIMOV.NS\n",
      "KSCL.NS\n",
      "GENSOL.NS\n",
      "GREENPLY.NS\n",
      "STYLAMIND.NS\n",
      "DREAMFOLKS.NS\n",
      "BSHSL.NS\n",
      "TARSONS.NS\n",
      "VENKEYS.NS\n",
      "CONFIPET.NS\n",
      "UDS.NS\n",
      "IRMENERGY.NS\n",
      "DREDGECORP.NS\n",
      "531637.NS\n",
      "CUPID.NS\n",
      "POKARNA.NS\n",
      "AWHCL.NS\n",
      "GULPOLY.NS\n",
      "ATL.NS\n",
      "MATRIMONY.NS\n",
      "531859.NS\n",
      "543284.NS\n",
      "RUSHIL.NS\n",
      "RADIANTCMS.NS\n",
      "VIMTALABS.NS\n",
      "KOTYARK.NS\n",
      "504341.NS\n",
      "SUKHJITS.NS\n",
      "GSLSU.NS\n",
      "530643.NS\n",
      "MAXIND.NS\n",
      "500306.NS\n",
      "APEX.NS\n",
      "PTL.NS\n",
      "519421.NS\n",
      "PROZONER.NS\n",
      "UNIVPHOTO.NS\n",
      "543895.NS\n",
      "OSWALSEEDS.NS\n",
      "DUGLOBAL.NS\n",
      "530215.NS\n",
      "CRAYONS.NS\n",
      "NATHBIOGEN.NS\n",
      "500213.NS\n",
      "REPL.NS\n",
      "COASTCORP.NS\n",
      "TAKE.NS\n",
      "538607.NS\n",
      "WATERBASE.NS\n",
      "USASEEDS.NS\n",
      "PROPEQUITY.NS\n",
      "538942.NS\n",
      "KAPSTON.NS\n",
      "RUCHINFRA.NS\n",
      "539275.NS\n",
      "543615.NS\n",
      "AARVI.NS\n",
      "LLOYDS.NS\n",
      "SUVIDHAA.NS\n",
      "INFOLLION.NS\n",
      "MODIRUBBER.NS\n",
      "IEL.NS\n",
      "TOTAL.NS\n",
      "EFACTOR.NS\n",
      "531771.NS\n",
      "543991.NS\n",
      "ARCHIDPLY.NS\n",
      "AIROLAM.NS\n",
      "531412.NS\n",
      "536493.NS\n",
      "543997.NS\n",
      "NIRMAN.NS\n",
      "ISFT.NS\n",
      "TRANSTEEL.NS\n",
      "DYNAMIC.NS\n",
      "URBAN.NS\n",
      "PARTYCRUS.NS\n",
      "539927.NS\n",
      "IPSL.NS\n",
      "ANLON.NS\n",
      "516003.NS\n",
      "543464.NS\n",
      "523483.NS\n",
      "WIPL.NS\n",
      "519397.NS\n",
      "PARIN.NS\n",
      "SHREEOSFM.NS\n",
      "MITCON.NS\n",
      "GTECJAINX.NS\n",
      "OBCL.NS\n",
      "CROWN.NS\n",
      "531688.NS\n",
      "AGRITECH.NS\n",
      "BANKA.NS\n",
      "540728.NS\n",
      "514197.NS\n",
      "532262.NS\n",
      "522091.NS\n",
      "531910.NS\n",
      "533289.NS\n",
      "524582.NS\n",
      "539963.NS\n",
      "PENTAGON.NS\n",
      "DHRUV.NS\n",
      "HAVISHA.NS\n",
      "543905.NS\n",
      "531364.NS\n",
      "SECURCRED.NS\n",
      "517238.NS\n",
      "AROGRANITE.NS\n",
      "524564.NS\n",
      "526315.NS\n",
      "524408.NS\n",
      "519566.NS\n",
      "SIDDHIKA.NS\n",
      "SERVICE.NS\n",
      "AISL.NS\n",
      "500450.NS\n",
      "501370.NS\n",
      "531156.NS\n",
      "541735.NS\n",
      "537253.NS\n",
      "AJOONI.NS\n",
      "MADHAV.NS\n",
      "538401.NS\n",
      "MILTON.NS\n",
      "OMFURN.NS\n",
      "ADL.NS\n",
      "BINANIIND.NS\n",
      "HINDALCO.NS\n",
      "HINDZINC.NS\n",
      "HINDCOPPER.NS\n",
      "NATIONALUM.NS\n",
      "GRAVITA.NS\n",
      "TINPLATE.NS\n",
      "PRECWIRE.NS\n",
      "RAMRAT.NS\n",
      "539151.NS\n",
      "MAANALU.NS\n",
      "POCL.NS\n",
      "MMP.NS\n",
      "EUROBOND.NS\n",
      "SHERA.NS\n",
      "530129.NS\n",
      "540079.NS\n",
      "526747.NS\n",
      "BAHETI.NS\n",
      "MANAKALUCO.NS\n",
      "CENTEXT.NS\n",
      "544047.NS\n",
      "539195.NS\n",
      "532455.NS\n",
      "CUBEXTUB.NS\n",
      "531869.NS\n",
      "SAGARDEEP.NS\n",
      "540727.NS\n",
      "530133.NS\n",
      "512024.NS\n",
      "535279.NS\n",
      "512425.NS\n",
      "513307.NS\n",
      "506003.NS\n",
      "513430.NS\n",
      "537254.NS\n",
      "530611.NS\n",
      "JINDRILL.NS\n",
      "DOLPHIN.NS\n",
      "ALPHAGEO.NS\n",
      "AAKASH.NS\n",
      "531471.NS\n",
      "INOXINDIA.NS\n",
      "EPL.NS\n",
      "AGI.NS\n",
      "UFLEX.NS\n",
      "POLYPLEX.NS\n",
      "GRWRHITECH.NS\n",
      "JINDALPOLY.NS\n",
      "HUHTAMAKI.NS\n",
      "TCPLPACK.NS\n",
      "COSMOFIRST.NS\n",
      "EKC.NS\n",
      "ESTER.NS\n",
      "PYRAMID.NS\n",
      "512453.NS\n",
      "NAHARPOLY.NS\n",
      "523105.NS\n",
      "ORICONENT.NS\n",
      "TIRUPATI.NS\n",
      "HITECHCORP.NS\n",
      "TPLPLASTEH.NS\n",
      "SHREERAMA.NS\n",
      "SAH.NS\n",
      "539986.NS\n",
      "KANPRPLA.NS\n",
      "RPPL.NS\n",
      "526717.NS\n",
      "533608.NS\n",
      "504840.NS\n",
      "SRIVASAVI.NS\n",
      "530315.NS\n",
      "526853.NS\n",
      "EMMBI.NS\n",
      "WORTH.NS\n",
      "514428.NS\n",
      "AMDIND.NS\n",
      "FLEXITUFF.NS\n",
      "539219.NS\n",
      "526773.NS\n",
      "523186.NS\n",
      "526703.NS\n",
      "526137.NS\n",
      "513507.NS\n",
      "ORIENTLTD.NS\n",
      "543285.NS\n",
      "519234.NS\n",
      "526965.NS\n",
      "526435.NS\n",
      "UMA.NS\n",
      "DKEGL.NS\n",
      "526901.NS\n",
      "539354.NS\n",
      "526355.NS\n",
      "526638.NS\n",
      "524502.NS\n",
      "MEGAFLEX.NS\n",
      "ROLLT.NS\n",
      "GUJRAFFIA.NS\n",
      "SABAR.NS\n",
      "526614.NS\n",
      "523021.NS\n",
      "516078.NS\n",
      "543979.NS\n",
      "526554.NS\n",
      "524038.NS\n",
      "ANTGRAPHIC.NS\n",
      "542865.NS\n",
      "543744.NS\n",
      "530063.NS\n",
      "513063.NS\n",
      "530111.NS\n",
      "530421.NS\n",
      "BKMINDST.NS\n",
      "534639.NS\n",
      "530281.NS\n",
      "530931.NS\n",
      "531280.NS\n",
      "539354.NS\n",
      "526355.NS\n",
      "526638.NS\n",
      "524502.NS\n",
      "MEGAFLEX.NS\n",
      "ROLLT.NS\n",
      "GUJRAFFIA.NS\n",
      "SABAR.NS\n",
      "526614.NS\n",
      "523021.NS\n",
      "516078.NS\n",
      "543979.NS\n",
      "526554.NS\n",
      "524038.NS\n",
      "ANTGRAPHIC.NS\n",
      "542865.NS\n",
      "543744.NS\n",
      "530063.NS\n",
      "513063.NS\n",
      "530111.NS\n",
      "530421.NS\n",
      "BKMINDST.NS\n",
      "534639.NS\n",
      "530281.NS\n",
      "530931.NS\n",
      "531280.NS\n",
      "ASIANPAINT.NS\n",
      "BERGEPAINT.NS\n",
      "KANSAINER.NS\n",
      "AKZOINDIA.NS\n",
      "INDIGOPNTS.NS\n",
      "SHALPAINTS.NS\n",
      "MCON.NS\n",
      "543902.NS\n",
      "CENTURYTEX.NS\n",
      "JKPAPER.NS\n",
      "WSTCSTPAPR.NS\n",
      "ANDHRAPAP.NS\n",
      "SESHAPAPER.NS\n",
      "TNPL.NS\n",
      "KUANTUM.NS\n",
      "SATIA.NS\n",
      "ORIENTPPR.NS\n",
      "PAKKA.NS\n",
      "EMAMIPAP.NS\n",
      "NRAIL.NS\n",
      "BBTCL.NS\n",
      "GENUSPAPER.NS\n",
      "PDMJEPAPER.NS\n",
      "RUCHIRA.NS\n",
      "STARPAPER.NS\n",
      "SHREYANIND.NS\n",
      "RAMANEWS.NS\n",
      "MAGNUM.NS\n",
      "516108.NS\n",
      "538795.NS\n",
      "ASTRON.NS\n",
      "502587.NS\n",
      "531813.NS\n",
      "MALUPAPER.NS\n",
      "500388.NS\n",
      "BALKRISHNA.NS\n",
      "530169.NS\n",
      "543799.NS\n",
      "516106.NS\n",
      "516096.NS\n",
      "502589.NS\n",
      "500357.NS\n",
      "530255.NS\n",
      "516020.NS\n",
      "526751.NS\n",
      "530755.NS\n",
      "531436.NS\n",
      "541627.NS\n",
      "SPLPETRO.NS\n",
      "STYRENIX.NS\n",
      "BEPL.NS\n",
      "SOTL.NS\n",
      "PANAMAPET.NS\n",
      "DCW.NS\n",
      "AGARIND.NS\n",
      "MANALIPETC.NS\n",
      "KOTHARIPET.NS\n",
      "GOACARBON.NS\n",
      "506605.NS\n",
      "524488.NS\n",
      "524013.NS\n",
      "SUNPHARMA.NS\n",
      "DIVISLAB.NS\n",
      "CIPLA.NS\n",
      "DRREDDY.NS\n",
      "MANKIND.NS\n",
      "TORNTPHARM.NS\n",
      "ZYDUSLIFE.NS\n",
      "AUROPHARMA.NS\n",
      "ALKEM.NS\n",
      "LUPIN.NS\n",
      "ABBOTINDIA.NS\n",
      "GLAXO.NS\n",
      "GLAND.NS\n",
      "BIOCON.NS\n",
      "IPCALAB.NS\n",
      "SYNGENE.NS\n",
      "AJANTPHARM.NS\n",
      "JBCHEPHARM.NS\n",
      "GLENMARK.NS\n",
      "LAURUSLABS.NS\n",
      "PFIZER.NS\n",
      "SANOFI.NS\n",
      "SUVENPHAR.NS\n",
      "PPLPHARMA.NS\n",
      "CONCORDBIO.NS\n",
      "APLLTD.NS\n",
      "NATCOPHARM.NS\n",
      "ASTRAZEN.NS\n",
      "ERIS.NS\n",
      "CAPLIPOINT.NS\n",
      "GRANULES.NS\n",
      "JUBLPHARMA.NS\n",
      "PGHL.NS\n",
      "GLS.NS\n",
      "MARKSANS.NS\n",
      "NEULANDLAB.NS\n",
      "FDC.NS\n",
      "BLUEJET.NS\n",
      "WOCKPHARMA.NS\n",
      "STAR.NS\n",
      "AARTIPHARM.NS\n",
      "AARTIDRUGS.NS\n",
      "ADVENZYMES.NS\n",
      "AMIORG.NS\n",
      "HIKAL.NS\n",
      "INDOCO.NS\n",
      "ORCHPHARMA.NS\n",
      "GUFICBIO.NS\n",
      "INNOVACAP.NS\n",
      "SHILPAMED.NS\n",
      "UNICHEMLAB.NS\n",
      "SEQUENT.NS\n",
      "IOLCP.NS\n",
      "DCAL.NS\n",
      "SUPRIYA.NS\n",
      "MOREPENLAB.NS\n",
      "RPGLIFE.NS\n",
      "THEMISMED.NS\n",
      "506879.NS\n",
      "SUVEN.NS\n",
      "AMRUTANJAN.NS\n",
      "SIGACHI.NS\n",
      "JSLL.NS\n",
      "SYNCOMF.NS\n",
      "BETA.NS\n",
      "NGLFINE.NS\n",
      "BLISSGVS.NS\n",
      "SOLARA.NS\n",
      "HESTERBIO.NS\n",
      "LINCOLN.NS\n",
      "KOPRAN.NS\n",
      "REMUS.NS\n",
      "BAJAJHCARE.NS\n",
      "PANACEABIO.NS\n",
      "JAGSNPHARM.NS\n",
      "SMSPHARMA.NS\n",
      "WINDLAS.NS\n",
      "540737.NS\n",
      "SAKAR.NS\n",
      "MEDICAMEQ.NS\n",
      "VALIANTLAB.NS\n",
      "506260.NS\n",
      "NECLIFE.NS\n",
      "MEDICO.NS\n",
      "ACCENTMIC.NS\n",
      "INDSWFTLAB.NS\n",
      "KILITCH.NS\n",
      "ZIMLAB.NS\n",
      "ALBERTDAVD.NS\n",
      "VENUSREM.NS\n",
      "530477.NS\n",
      "506414.NS\n",
      "541096.NS\n",
      "539997.NS\n",
      "WANBURY.NS\n",
      "LYKALABS.NS\n",
      "532039.NS\n",
      "539730.NS\n",
      "BROOKS.NS\n",
      "524717.NS\n",
      "524654.NS\n",
      "INFINIUM.NS\n",
      "524731.NS\n",
      "531739.NS\n",
      "530163.NS\n",
      "PAR.NS\n",
      "531726.NS\n",
      "BAFNAPH.NS\n",
      "ALPA.NS\n",
      "543616.NS\n",
      "531173.NS\n",
      "540686.NS\n",
      "531569.NS\n",
      "537536.NS\n",
      "530313.NS\n",
      "KREBSBIO.NS\n",
      "SMSLIFE.NS\n",
      "BALPHARMA.NS\n",
      "524202.NS\n",
      "524506.NS\n",
      "MANGALAM.NS\n",
      "524663.NS\n",
      "LASA.NS\n",
      "524632.NS\n",
      "SOTAC.NS\n",
      "AAREYDRUGS.NS\n",
      "524828.NS\n",
      "538964.NS\n",
      "530125.NS\n",
      "524572.NS\n",
      "524636.NS\n",
      "524790.NS\n",
      "506128.NS\n",
      "INDSWFTLTD.NS\n",
      "540694.NS\n",
      "BIOFILCHEM.NS\n",
      "506919.NS\n",
      "530233.NS\n",
      "VINEETLAB.NS\n",
      "539470.NS\n",
      "530317.NS\n",
      "524703.NS\n",
      "531398.NS\n",
      "543963.NS\n",
      "538634.NS\n",
      "523144.NS\n",
      "538965.NS\n",
      "524711.NS\n",
      "511509.NS\n",
      "JFLLIFE.NS\n",
      "TATACONSUM.NS\n",
      "CCL.NS\n",
      "TATACOFFEE.NS\n",
      "APCOTEXIND.NS\n",
      "PIXTRANS.NS\n",
      "530475.NS\n",
      "GRPLTD.NS\n",
      "538920.NS\n",
      "500367.NS\n",
      "500166.NS\n",
      "509162.NS\n",
      "HARRMALAYA.NS\n",
      "JAYSREETEA.NS\n",
      "ELGIRUBCO.NS\n",
      "MCLEODRUSS.NS\n",
      "DTIL.NS\n",
      "508670.NS\n",
      "UNITEDTEA.NS\n",
      "526492.NS\n",
      "508136.NS\n",
      "SOMICONVEY.NS\n",
      "GRCL.NS\n",
      "GROBTEA.NS\n",
      "SAMPANN.NS\n",
      "PKTEA.NS\n",
      "538564.NS\n",
      "532230.NS\n",
      "VIAZ.NS\n",
      "509196.NS\n",
      "538092.NS\n",
      "508494.NS\n",
      "530533.NS\n",
      "530959.NS\n",
      "541005.NS\n",
      "526945.NS\n",
      "543769.NS\n",
      "LRRPL.NS\n",
      "531346.NS\n",
      "508571.NS\n",
      "523888.NS\n",
      "530369.NS\n",
      "NORBTEAEXP.NS\n",
      "542938.NS\n",
      "519191.NS\n",
      "536456.NS\n",
      "519353.NS\n",
      "SUPREMEIND.NS\n",
      "ASTRAL.NS\n",
      "FINPIPE.NS\n",
      "SAFARI.NS\n",
      "VIPIND.NS\n",
      "PRINCEPIPE.NS\n",
      "RESPONIND.NS\n",
      "JAICORPLTD.NS\n",
      "JISLJALEQS.NS\n",
      "TIMETECHNO.NS\n",
      "NILKAMAL.NS\n",
      "MOLDTKPAC.NS\n",
      "KINGFA.NS\n",
      "APOLLOPIPE.NS\n",
      "MAYURUNIQ.NS\n",
      "XPROINDIA.NS\n",
      "SHAILY.NS\n",
      "PPL.NS\n",
      "526586.NS\n",
      "ARROWGREEN.NS\n",
      "COOLCAPS.NS\n",
      "KRITI.NS\n",
      "VIKASECO.NS\n",
      "526415.NS\n",
      "ESFL.NS\n",
      "538715.NS\n",
      "MAHEPC.NS\n",
      "540693.NS\n",
      "PREMIERPOL.NS\n",
      "PILITA.NS\n",
      "526169.NS\n",
      "538817.NS\n",
      "509486.NS\n",
      "531287.NS\n",
      "543939.NS\n",
      "543239.NS\n",
      "540078.NS\n",
      "TEXMOPIPES.NS\n",
      "541778.NS\n",
      "544035.NS\n",
      "BEARDSELL.NS\n",
      "530589.NS\n",
      "536974.NS\n",
      "RMDRIP.NS\n",
      "523248.NS\n",
      "TAINWALCHM.NS\n",
      "530449.NS\n",
      "TOKYOPLAST.NS\n",
      "AVROIND.NS\n",
      "526409.NS\n",
      "526731.NS\n",
      "517437.NS\n",
      "AVSL.NS\n",
      "543435.NS\n",
      "523840.NS\n",
      "SPTL.NS\n",
      "JISLDVREQS.NS\n",
      "REXPIPES.NS\n",
      "531454.NS\n",
      "MASTER.NS\n",
      "PEARLPOLY.NS\n",
      "526616.NS\n",
      "514442.NS\n",
      "543656.NS\n",
      "526193.NS\n",
      "530145.NS\n",
      "513642.NS\n",
      "530401.NS\n",
      "KSHITIJPOL.NS\n",
      "506858.NS\n",
      "543843.NS\n",
      "526143.NS\n",
      "506979.NS\n",
      "542145.NS\n",
      "TIJARIA.NS\n",
      "537573.NS\n",
      "523594.NS\n",
      "531663.NS\n",
      "531671.NS\n",
      "531779.NS\n",
      "SMVD.NS\n",
      "531997.NS\n",
      "526799.NS\n",
      "523652.NS\n",
      "SANCO.NS\n",
      "531397.NS\n",
      "530429.NS\n",
      "530027.NS\n",
      "517431.NS\n",
      "531929.NS\n",
      "520121.NS\n",
      "526001.NS\n",
      "526731.NS\n",
      "517437.NS\n",
      "AVSL.NS\n",
      "543435.NS\n",
      "523840.NS\n",
      "SPTL.NS\n",
      "JISLDVREQS.NS\n",
      "REXPIPES.NS\n",
      "531454.NS\n",
      "MASTER.NS\n",
      "PEARLPOLY.NS\n",
      "526616.NS\n",
      "514442.NS\n",
      "543656.NS\n",
      "526193.NS\n",
      "530145.NS\n",
      "513642.NS\n",
      "530401.NS\n",
      "KSHITIJPOL.NS\n",
      "506858.NS\n",
      "543843.NS\n",
      "526143.NS\n",
      "506979.NS\n",
      "542145.NS\n",
      "TIJARIA.NS\n",
      "537573.NS\n",
      "523594.NS\n",
      "531663.NS\n",
      "531671.NS\n",
      "531779.NS\n",
      "SMVD.NS\n",
      "531997.NS\n",
      "526799.NS\n",
      "523652.NS\n",
      "SANCO.NS\n",
      "531397.NS\n",
      "530429.NS\n",
      "530027.NS\n",
      "517431.NS\n",
      "531929.NS\n",
      "520121.NS\n",
      "526001.NS\n",
      "NTPC.NS\n",
      "ADANIGREEN.NS\n",
      "POWERGRID.NS\n",
      "ADANIPOWER.NS\n",
      "ADANIENSOL.NS\n",
      "TATAPOWER.NS\n",
      "JSWENERGY.NS\n",
      "NHPC.NS\n",
      "TORNTPOWER.NS\n",
      "SJVN.NS\n",
      "NLCINDIA.NS\n",
      "CESC.NS\n",
      "JPPOWER.NS\n",
      "RPOWER.NS\n",
      "IWEL.NS\n",
      "RTNPOWER.NS\n",
      "GIPCL.NS\n",
      "BFUTILITIE.NS\n",
      "GREENPOWER.NS\n",
      "DPSCLTD.NS\n",
      "507836.NS\n",
      "INDOWIND.NS\n",
      "SURANAT&P.NS\n",
      "531260.NS\n",
      "ENERGYDEV.NS\n",
      "541445.NS\n",
      "KARMAENG.NS\n",
      "539013.NS\n",
      "511736.NS\n",
      "KKVAPOW.NS\n",
      "531979.NS\n",
      "523222.NS\n",
      "536709.NS\n",
      "KPIGREEN.NS\n",
      "ANZEN.NS\n",
      "ORIANA.NS\n",
      "DOMS.NS\n",
      "FLAIR.NS\n",
      "NAVNETEDUL.NS\n",
      "KOKUYOCMLN.NS\n",
      "REPRO.NS\n",
      "LINC.NS\n",
      "SCHAND.NS\n",
      "SUNDARAM.NS\n",
      "543453.NS\n",
      "531780.NS\n",
      "541503.NS\n",
      "INFOMEDIA.NS\n",
      "539228.NS\n",
      "530787.NS\n",
      "534190.NS\n",
      "VASA.NS\n",
      "530733.NS\n",
      "JUBLFOOD.NS\n",
      "DEVYANI.NS\n",
      "WESTLIFE.NS\n",
      "SAPPHIRE.NS\n",
      "RBA.NS\n",
      "BARBEQUE.NS\n",
      "COFFEEDAY.NS\n",
      "IRCTC.NS\n",
      "PAGEIND.NS\n",
      "KPRMILL.NS\n",
      "GOKEX.NS\n",
      "KKCL.NS\n",
      "PGIL.NS\n",
      "DOLLAR.NS\n",
      "RUPA.NS\n",
      "KITEX.NS\n",
      "ZODIACLOTH.NS\n",
      "CPS.NS\n",
      "531119.NS\n",
      "521210.NS\n",
      "531613.NS\n",
      "521206.NS\n",
      "526827.NS\n",
      "538081.NS\n",
      "512604.NS\n",
      "EMBASSY.NS\n",
      "NXST.NS\n",
      "MINDSPACE.NS\n",
      "BIRET.NS\n",
      "DLF.NS\n",
      "GODREJPROP.NS\n",
      "OBEROIRLTY.NS\n",
      "PRESTIGE.NS\n",
      "PHOENIXLTD.NS\n",
      "BRIGADE.NS\n",
      "SIGNATURE.NS\n",
      "ANANTRAJ.NS\n",
      "SOBHA.NS\n",
      "DBREALTY.NS\n",
      "RUSTOMJEE.NS\n",
      "SUNTECK.NS\n",
      "AHLUCONT.NS\n",
      "IBREALEST.NS\n",
      "MAXESTATES.NS\n",
      "PURVA.NS\n",
      "HEMIPROP.NS\n",
      "TARC.NS\n",
      "KOLTEPATIL.NS\n",
      "500307.NS\n",
      "ASHIANA.NS\n",
      "ALEMBICLTD.NS\n",
      "MARATHON.NS\n",
      "ARVSMART.NS\n",
      "CAPACITE.NS\n",
      "UNITECH.NS\n",
      "AJMERA.NS\n",
      "SURAJEST.NS\n",
      "PENINLAND.NS\n",
      "OMAXE.NS\n",
      "TEXINFRA.NS\n",
      "ARIHANTSUP.NS\n",
      "SBGLP.NS\n",
      "539042.NS\n",
      "ELDEHSG.NS\n",
      "HUBTOWN.NS\n",
      "531959.NS\n",
      "GEECEE.NS\n",
      "514215.NS\n",
      "500270.NS\n",
      "EMAMIREAL.NS\n",
      "531307.NS\n",
      "PVP.NS\n",
      "503816.NS\n",
      "RVHL.NS\n",
      "500267.NS\n",
      "509048.NS\n",
      "VIPULLTD.NS\n",
      "HDIL.NS\n",
      "531273.NS\n",
      "TARMAT.NS\n",
      "KBCGLOBAL.NS\n",
      "ANSALAPI.NS\n",
      "526025.NS\n",
      "AMJLAND.NS\n",
      "535621.NS\n",
      "543543.NS\n",
      "SUMIT.NS\n",
      "533167.NS\n",
      "PRAENG.NS\n",
      "SHRADHA.NS\n",
      "526117.NS\n",
      "511411.NS\n",
      "517477.NS\n",
      "531080.NS\n",
      "506530.NS\n",
      "HOMESFY.NS\n",
      "MRO-TEK.NS\n",
      "531802.NS\n",
      "503127.NS\n",
      "LPDC.NS\n",
      "532005.NS\n",
      "PODDARHOUS.NS\n",
      "504392.NS\n",
      "523007.NS\n",
      "507828.NS\n",
      "503641.NS\n",
      "530053.NS\n",
      "505650.NS\n",
      "511441.NS\n",
      "531381.NS\n",
      "533202.NS\n",
      "503776.NS\n",
      "511702.NS\n",
      "521228.NS\n",
      "531814.NS\n",
      "511714.NS\n",
      "503349.NS\n",
      "COUNCODOS.NS\n",
      "505285.NS\n",
      "539522.NS\n",
      "503229.NS\n",
      "531111.NS\n",
      "532723.NS\n",
      "540696.NS\n",
      "526727.NS\n",
      "530821.NS\n",
      "502901.NS\n",
      "540811.NS\n",
      "531909.NS\n",
      "513173.NS\n",
      "531870.NS\n",
      "523566.NS\n",
      "502445.NS\n",
      "521149.NS\n",
      "536846.NS\n",
      "TECHIN.NS\n",
      "531324.NS\n",
      "531552.NS\n",
      "531822.NS\n",
      "526532.NS\n",
      "508996.NS\n",
      "543598.NS\n",
      "540026.NS\n",
      "532911.NS\n",
      "526488.NS\n",
      "530799.NS\n",
      "531902.NS\n",
      "511176.NS\n",
      "538596.NS\n",
      "531583.NS\n",
      "531968.NS\n",
      "531676.NS\n",
      "524642.NS\n",
      "531640.NS\n",
      "533110.NS\n",
      "531574.NS\n",
      "526813.NS\n",
      "531578.NS\n",
      "524031.NS\n",
      "507917.NS\n",
      "526839.NS\n",
      "539096.NS\n",
      "526115.NS\n",
      "508860.NS\n",
      "502850.NS\n",
      "530141.NS\n",
      "539770.NS\n",
      "RELIANCE.NS\n",
      "IOC.NS\n",
      "BPCL.NS\n",
      "HINDPETRO.NS\n",
      "MRPL.NS\n",
      "CHENNPETRO.NS\n",
      "GANDHAR.NS\n",
      "543805.NS\n",
      "RHIM.NS\n",
      "VESUVIUS.NS\n",
      "IFGLEXPOR.NS\n",
      "523160.NS\n",
      "531168.NS\n",
      "502294.NS\n",
      "502250.NS\n",
      "SPRL.NS\n",
      "502271.NS\n",
      "DMART.NS\n",
      "TRENT.NS\n",
      "MANYAVAR.NS\n",
      "ABFRL.NS\n",
      "MEDPLUS.NS\n",
      "EMIL.NS\n",
      "SHOPERSTOP.NS\n",
      "REDTAPE.NS\n",
      "ETHOSLTD.NS\n",
      "KALAMANDIR.NS\n",
      "VMART.NS\n",
      "CARTRADE.NS\n",
      "MUFTI.NS\n",
      "V2RETAIL.NS\n",
      "SPENCERS.NS\n",
      "BCONCEPTS.NS\n",
      "OSIAHYPER.NS\n",
      "PRAXIS.NS\n",
      "543746.NS\n",
      "FRETAIL.NS\n",
      "ONDOOR.NS\n",
      "MAGSON.NS\n",
      "ARCHIES.NS\n",
      "CELLPOINT.NS\n",
      "542850.NS\n",
      "FLFL.NS\n",
      "FEL.NS\n",
      "535620.NS\n",
      "543926.NS\n",
      "HEADSUP.NS\n",
      "542667.NS\n",
      "FELDVR.NS\n",
      "RMCL.NS\n",
      "540615.NS\n",
      "540190.NS\n",
      "542627.NS\n",
      "531652.NS\n",
      "543613.NS\n",
      "531825.NS\n",
      "512025.NS\n",
      "532359.NS\n",
      "MAZDOCK.NS\n",
      "COCHINSHIP.NS\n",
      "GRSE.NS\n",
      "543273.NS\n",
      "526931.NS\n",
      "537669.NS\n",
      "532001.NS\n",
      "509563.NS\n",
      "GESHIP.NS\n",
      "SCI.NS\n",
      "SEAMECLTD.NS\n",
      "ESSARSHPNG.NS\n",
      "SHREYAS.NS\n",
      "542753.NS\n",
      "501848.NS\n",
      "ACSAL.NS\n",
      "501833.NS\n",
      "526508.NS\n",
      "JSWSTEEL.NS\n",
      "TATASTEEL.NS\n",
      "JINDALSTEL.NS\n",
      "SAIL.NS\n",
      "JSL.NS\n",
      "APLAPOLLO.NS\n",
      "RATNAMANI.NS\n",
      "SHYAMMETL.NS\n",
      "NSLNISP.NS\n",
      "WELCORP.NS\n",
      "JINDALSAW.NS\n",
      "MAHSEAMLES.NS\n",
      "JAIBALAJI.NS\n",
      "GPIL.NS\n",
      "USHAMART.NS\n",
      "SARDAEN.NS\n",
      "SURYAROSNI.NS\n",
      "MIDHANI.NS\n",
      "500245.NS\n",
      "TIIL.NS\n",
      "GALLANTT.NS\n",
      "JTLIND.NS\n",
      "RAJRATAN.NS\n",
      "SUNFLAG.NS\n",
      "TATAMETALI.NS\n",
      "PRAKASH.NS\n",
      "MUKANDLTD.NS\n",
      "VENUSPIPES.NS\n",
      "ISMTLTD.NS\n",
      "GOODLUCK.NS\n",
      "KSL.NS\n",
      "BHARATWIRE.NS\n",
      "500365.NS\n",
      "SALASAR.NS\n",
      "AEROFLEX.NS\n",
      "VSSL.NS\n",
      "RAMASTEEL.NS\n",
      "HARIOMPIPE.NS\n",
      "MANINDS.NS\n",
      "539837.NS\n",
      "PENIND.NS\n",
      "HITECH.NS\n",
      "SATINDLTD.NS\n",
      "STEELXIND.NS\n",
      "539018.NS\n",
      "542669.NS\n",
      "KAMDHENU.NS\n",
      "MSPL.NS\n",
      "DPWIRES.NS\n",
      "GANDHITUBE.NS\n",
      "543590.NS\n",
      "RATNAVEER.NS\n",
      "BEDMUTHA.NS\n",
      "541701.NS\n",
      "GEEKAYWIRE.NS\n",
      "518075.NS\n",
      "534064.NS\n",
      "543928.NS\n",
      "539226.NS\n",
      "531638.NS\n",
      "511672.NS\n",
      "MANAKSTEEL.NS\n",
      "ELECTHERM.NS\n",
      "SURANI.NS\n",
      "KRITIKA.NS\n",
      "MWL.NS\n",
      "513511.NS\n",
      "526981.NS\n",
      "KRISHCA.NS\n",
      "540080.NS\n",
      "SWASTIK.NS\n",
      "513361.NS\n",
      "SALSTEEL.NS\n",
      "MANAKCOAT.NS\n",
      "SHAH.NS\n",
      "513693.NS\n",
      "AHLADA.NS\n",
      "PRAKASHSTL.NS\n",
      "513629.NS\n",
      "543874.NS\n",
      "INCREDIBLE.NS\n",
      "CMNL.NS\n",
      "MAHASTEEL.NS\n",
      "OILCOUNTUB.NS\n",
      "513548.NS\n",
      "SHAHALLOYS.NS\n",
      "MAL.NS\n",
      "538546.NS\n",
      "517372.NS\n",
      "ZENITHSTL.NS\n",
      "HISARMETAL.NS\n",
      "530615.NS\n",
      "504903.NS\n",
      "500058.NS\n",
      "VASWANI.NS\n",
      "513043.NS\n",
      "513456.NS\n",
      "513566.NS\n",
      "ANKITMETAL.NS\n",
      "531810.NS\n",
      "543765.NS\n",
      "540082.NS\n",
      "532918.NS\n",
      "531651.NS\n",
      "538610.NS\n",
      "513303.NS\n",
      "QFIL.NS\n",
      "SUPREMEENG.NS\n",
      "513401.NS\n",
      "GFSTEELS.NS\n",
      "530253.NS\n",
      "504648.NS\n",
      "538812.NS\n",
      "523832.NS\n",
      "522273.NS\n",
      "513488.NS\n",
      "531539.NS\n",
      "520081.NS\n",
      "513540.NS\n",
      "539798.NS\n",
      "513403.NS\n",
      "504731.NS\n",
      "513460.NS\n",
      "513513.NS\n",
      "526967.NS\n",
      "513397.NS\n",
      "531913.NS\n",
      "ANGELONE.NS\n",
      "ISEC.NS\n",
      "MOTILALOFS.NS\n",
      "NUVAMA.NS\n",
      "IIFLSEC.NS\n",
      "GEOJITFSL.NS\n",
      "5PAISA.NS\n",
      "MONARCH.NS\n",
      "ARIHANTCAP.NS\n",
      "BIRLAMONEY.NS\n",
      "WEALTH.NS\n",
      "EMKAY.NS\n",
      "ALMONDZ.NS\n",
      "INDOTHAI.NS\n",
      "INVENTURE.NS\n",
      "INDBANK.NS\n",
      "530585.NS\n",
      "540192.NS\n",
      "DBSTOCKBRO.NS\n",
      "STEELCITY.NS\n",
      "530357.NS\n",
      "532053.NS\n",
      "531861.NS\n",
      "530045.NS\n",
      "531600.NS\n",
      "531176.NS\n",
      "531169.NS\n",
      "531025.NS\n",
      "KHANDSE.NS\n",
      "530577.NS\n",
      "511692.NS\n",
      "530829.NS\n",
      "538862.NS\n",
      "532304.NS\n",
      "526891.NS\n",
      "531017.NS\n",
      "509760.NS\n",
      "542176.NS\n",
      "511712.NS\n",
      "530571.NS\n",
      "530249.NS\n",
      "511688.NS\n",
      "RENUKA.NS\n",
      "EIDPARRY.NS\n",
      "BALRAMCHIN.NS\n",
      "TRIVENI.NS\n",
      "BAJAJHIND.NS\n",
      "DALMIASUG.NS\n",
      "BANARISUG.NS\n",
      "DHAMPURSUG.NS\n",
      "DWARKESH.NS\n",
      "UTTAMSUGAR.NS\n",
      "AVADHSUGAR.NS\n",
      "DCMSRIND.NS\n",
      "DBOL.NS\n",
      "MAGADSUGAR.NS\n",
      "UGARSUGAR.NS\n",
      "543267.NS\n",
      "ZUARIIND.NS\n",
      "KOTARISUG.NS\n",
      "KCPSUGIND.NS\n",
      "MAWANASUG.NS\n",
      "RANASUG.NS\n",
      "PONNIERODE.NS\n",
      "SAKHTISUG.NS\n",
      "VISHWARAJ.NS\n",
      "KMSUGAR.NS\n",
      "541347.NS\n",
      "RAJSREESUG.NS\n",
      "532102.NS\n",
      "500319.NS\n",
      "532183.NS\n",
      "DOLLEX.NS\n",
      "SIMBHALS.NS\n",
      "507180.NS\n",
      "532879.NS\n",
      "531923.NS\n",
      "537709.NS\n",
      "531065.NS\n",
      "540027.NS\n",
      "INDUSTOWER.NS\n",
      "ITI.NS\n",
      "TEJASNET.NS\n",
      "ASTRAMICRO.NS\n",
      "532406.NS\n",
      "NELCO.NS\n",
      "GTLINFRA.NS\n",
      "537259.NS\n",
      "523411.NS\n",
      "FROG.NS\n",
      "SARTELE.NS\n",
      "526775.NS\n",
      "KDL.NS\n",
      "543622.NS\n",
      "517258.NS\n",
      "500346.NS\n",
      "KAVVERITEL.NS\n",
      "BHARTIARTL.NS\n",
      "IDEA.NS\n",
      "TATACOMM.NS\n",
      "TTML.NS\n",
      "RAILTEL.NS\n",
      "MTNL.NS\n",
      "ONMOBILE.NS\n",
      "RCOM.NS\n",
      "511658.NS\n",
      "GTL.NS\n",
      "511116.NS\n",
      "UNIINFO.NS\n",
      "ACCORD.NS\n",
      "GRASIM.NS\n",
      "TRIDENT.NS\n",
      "WELSPUNLIV.NS\n",
      "RAYMOND.NS\n",
      "VTL.NS\n",
      "ALOKINDS.NS\n",
      "GARFIBRES.NS\n",
      "ARVIND.NS\n",
      "GOCOLORS.NS\n",
      "ICIL.NS\n",
      "JINDWORLD.NS\n",
      "LUXIND.NS\n",
      "BOMDYEING.NS\n",
      "SIYSIL.NS\n",
      "TCNSBRANDS.NS\n",
      "532022.NS\n",
      "FILATEX.NS\n",
      "GANECOS.NS\n",
      "SANGAMIND.NS\n",
      "CANTABIL.NS\n",
      "NITINSPIN.NS\n",
      "HIMATSEIDE.NS\n",
      "SPAL.NS\n",
      "MONTECARLO.NS\n",
      "INDORAMA.NS\n",
      "526407.NS\n",
      "FAZE3Q.NS\n",
      "RAJRILTD.NS\n",
      "SPORTKING.NS\n",
      "RSWM.NS\n",
      "NAHARSPING.NS\n",
      "500264.NS\n",
      "AMBIKCO.NS\n",
      "SUTLEJTEX.NS\n",
      "CENTENKA.NS\n",
      "542351.NS\n",
      "CHEVIOT.NS\n",
      "532503.NS\n",
      "522122.NS\n",
      "RUBYMILLS.NS\n",
      "MALLCOM.NS\n",
      "AXITA.NS\n",
      "GHCLTEXTIL.NS\n",
      "IRISDOREME.NS\n",
      "SBC.NS\n",
      "NAHARINDUS.NS\n",
      "DONEAR.NS\n",
      "BANSWRAS.NS\n",
      "514316.NS\n",
      "ORBTEXP.NS\n",
      "VARDHACRLC.NS\n",
      "SARLAPOLY.NS\n",
      "VISHAL.NS\n",
      "NDL.NS\n",
      "VIPCLOTHNG.NS\n",
      "512527.NS\n",
      "AYMSYNTEX.NS\n",
      "PASUPTAC.NS\n",
      "PRECOT.NS\n",
      "MHLXMIRU.NS\n",
      "ASHIMASYN.NS\n",
      "LOYALTEX.NS\n",
      "DCMNVL.NS\n",
      "BASML.NS\n",
      "INDTERRAIN.NS\n",
      "538119.NS\n",
      "MARALOVER.NS\n",
      "PRITI.NS\n",
      "MANOMAY.NS\n",
      "502958.NS\n",
      "503804.NS\n",
      "514010.NS\n",
      "SELMC.NS\n",
      "532893.NS\n",
      "GINNIFILA.NS\n",
      "LAL.NS\n",
      "500223.NS\n",
      "RELCHEMQ.NS\n",
      "BSL.NS\n",
      "TTL.NS\n",
      "LOVABLE.NS\n",
      "533108.NS\n",
      "539399.NS\n",
      "SPLIL.NS\n",
      "UNITEDPOLY.NS\n",
      "SHIVATEX.NS\n",
      "514138.NS\n",
      "541144.NS\n",
      "532806.NS\n",
      "WEIZMANIND.NS\n",
      "514030.NS\n",
      "PASHUPATI.NS\n",
      "SHRITECH.NS\n",
      "514165.NS\n",
      "DIGJAMLMTD.NS\n",
      "LAMBODHARA.NS\n",
      "INDIANCARD.NS\n",
      "542862.NS\n",
      "THOMASCOTT.NS\n",
      "KARNIKA.NS\n",
      "LAGNAM.NS\n",
      "VARDMNPOLY.NS\n",
      "SALONA.NS\n",
      "SWARAJ.NS\n",
      "514470.NS\n",
      "SURYALAXMI.NS\n",
      "530331.NS\n",
      "ABCOTS.NS\n",
      "PIONEEREMB.NS\n",
      "539562.NS\n",
      "SVPGLOB.NS\n",
      "544059.NS\n",
      "531234.NS\n",
      "MDL.NS\n",
      "DAMODARIND.NS\n",
      "523537.NS\n",
      "521097.NS\n",
      "AKSHAR.NS\n",
      "531609.NS\n",
      "BHANDARI.NS\n",
      "526179.NS\n",
      "FIBERWEB.NS\n",
      "530521.NS\n",
      "514302.NS\n",
      "CELEBRITY.NS\n",
      "VINNY.NS\n",
      "500170.NS\n",
      "500239.NS\n",
      "MORARJEE.NS\n",
      "522292.NS\n",
      "SHIVAMILLS.NS\n",
      "NAGREEKEXP.NS\n",
      "531952.NS\n",
      "530043.NS\n",
      "532140.NS\n",
      "JAIPURKURT.NS\n",
      "533407.NS\n",
      "521240.NS\n",
      "PARASPETRO.NS\n",
      "502933.NS\n",
      "AARVEEDEN.NS\n",
      "507872.NS\n",
      "539300.NS\n",
      "514087.NS\n",
      "514322.NS\n",
      "510245.NS\n",
      "532957.NS\n",
      "GLOBE.NS\n",
      "SPYL.NS\n",
      "541006.NS\n",
      "ITC.NS\n",
      "GODFRYPHLP.NS\n",
      "VSTIND.NS\n",
      "540954.NS\n",
      "526723.NS\n",
      "GOLDENTOBC.NS\n",
      "509887.NS\n",
      "ADANIENT.NS\n",
      "CELLO.NS\n",
      "HONASA.NS\n",
      "REDINGTON.NS\n",
      "AEGISCHEM.NS\n",
      "MMTC.NS\n",
      "PDSL.NS\n",
      "PTC.NS\n",
      "ARVINDFASN.NS\n",
      "RAIN.NS\n",
      "512463.NS\n",
      "540205.NS\n",
      "512329.NS\n",
      "HINDWAREAP.NS\n",
      "LANDMARK.NS\n",
      "OPTIEMUS.NS\n",
      "SIRCA.NS\n",
      "NOVARTIND.NS\n",
      "SPCENET.NS\n",
      "SHANKARA.NS\n",
      "512008.NS\n",
      "DPABHUSHAN.NS\n",
      "512229.NS\n",
      "540717.NS\n",
      "HARDWYN.NS\n",
      "REFEX.NS\n",
      "ZOTA.NS\n",
      "DLINKINDIA.NS\n",
      "UNIENTER.NS\n",
      "KAMOPAINTS.NS\n",
      "512379.NS\n",
      "539561.NS\n",
      "SREEL.NS\n",
      "505725.NS\n",
      "MANAKSIA.NS\n",
      "HEXATRADEX.NS\n",
      "VINYLINDIA.NS\n",
      "535136.NS\n",
      "STCINDIA.NS\n",
      "URJA.NS\n",
      "514183.NS\n",
      "541601.NS\n",
      "540980.NS\n",
      "532435.NS\n",
      "VIKASLIFE.NS\n",
      "542232.NS\n",
      "543953.NS\n",
      "CELLECOR.NS\n",
      "543982.NS\n",
      "RACE.NS\n",
      "542628.NS\n",
      "540492.NS\n",
      "543531.NS\n",
      "541304.NS\n",
      "NEWJAISA.NS\n",
      "OSWALAGRO.NS\n",
      "543709.NS\n",
      "BALAXI.NS\n",
      "KORE.NS\n",
      "SHIVAUM.NS\n",
      "542012.NS\n",
      "SAKUMA.NS\n",
      "NRL.NS\n",
      "FOCE.NS\n",
      "540404.NS\n",
      "531205.NS\n",
      "523558.NS\n",
      "KOTHARIPRO.NS\n",
      "ANMOL.NS\n",
      "531889.NS\n",
      "539222.NS\n",
      "ROXHITECH.NS\n",
      "PROV.NS\n",
      "524480.NS\n",
      "ESSENTIA.NS\n",
      "538890.NS\n",
      "TEMBO.NS\n",
      "519152.NS\n",
      "539991.NS\n",
      "500009.NS\n",
      "540956.NS\n",
      "531041.NS\n",
      "540401.NS\n",
      "MAHESHWARI.NS\n",
      "NITCO.NS\n",
      "QMSMEDI.NS\n",
      "MADHAVBAUG.NS\n",
      "512165.NS\n",
      "533014.NS\n",
      "DCI.NS\n",
      "DENEERS.NS\n",
      "543828.NS\n",
      "ROCKINGDCE.NS\n",
      "VAISHALI.NS\n",
      "542694.NS\n",
      "540614.NS\n",
      "SIGIND.NS\n",
      "505693.NS\n",
      "504351.NS\n",
      "UMAEXPORTS.NS\n",
      "539788.NS\n",
      "FCONSUMER.NS\n",
      "512149.NS\n",
      "531842.NS\n",
      "SIL.NS\n",
      "539277.NS\n",
      "543976.NS\n",
      "GOYALALUM.NS\n",
      "500159.NS\n",
      "GOLDKART.NS\n",
      "ANIKINDS.NS\n",
      "501391.NS\n",
      "526211.NS\n",
      "509472.NS\n",
      "PRUDMOULI.NS\n",
      "541702.NS\n",
      "532070.NS\n",
      "526125.NS\n",
      "539040.NS\n",
      "531175.NS\n",
      "506734.NS\n",
      "YAARI.NS\n",
      "512099.NS\n",
      "543515.NS\n",
      "503663.NS\n",
      "LEMERITE.NS\n",
      "540146.NS\n",
      "526971.NS\n",
      "530545.NS\n",
      "539854.NS\n",
      "539938.NS\n",
      "531127.NS\n",
      "523752.NS\n",
      "542934.NS\n",
      "MONOPHARMA.NS\n",
      "ASHOKAMET.NS\n",
      "541865.NS\n",
      "PRAMARA.NS\n",
      "543499.NS\n",
      "539041.NS\n",
      "539097.NS\n",
      "AKG.NS\n",
      "COMPINFO.NS\n",
      "SHRENIK.NS\n",
      "SHUBHLAXMI.NS\n",
      "MOKSH.NS\n",
      "SOMATEX.NS\n",
      "543540.NS\n",
      "526241.NS\n",
      "BMETRICS.NS\n",
      "MRF.NS\n",
      "BALKRISIND.NS\n",
      "APOLLOTYRE.NS\n",
      "JKTYRE.NS\n",
      "CEATLTD.NS\n",
      "TVSSRICHAK.NS\n",
      "GOODYEAR.NS\n",
      "542013.NS\n",
      "523550.NS\n",
      "INNOVATIVE.NS\n",
      "3592\n"
     ]
    }
   ],
   "source": [
    "tname=[]\n",
    "for i in name[\"company_link\"].str.split(\"/\").str[4]:\n",
    "    tname.append(i+\".NS\")\n",
    "print(tname)\n",
    "for j in tname:\n",
    "    print(j)\n",
    "print(len(tname))"
   ],
   "metadata": {
    "collapsed": false,
    "pycharm": {
     "name": "#%%\n"
    }
   }
  },
  {
   "cell_type": "code",
   "execution_count": 122,
   "outputs": [
    {
     "name": "stdout",
     "output_type": "stream",
     "text": [
      "3663\n"
     ]
    }
   ],
   "source": [
    "with open(r'D:\\Pyn\\online learning\\FINAL_DATA\\SCRNER_DATA\\textname.txt', 'r') as fi:\n",
    "    total=fi.readlines()\n",
    "print(len(total))"
   ],
   "metadata": {
    "collapsed": false,
    "pycharm": {
     "name": "#%%\n"
    }
   }
  },
  {
   "cell_type": "code",
   "execution_count": 124,
   "outputs": [],
   "source": [
    "nta=[]\n",
    "for i in total:\n",
    "    nta.append(i.replace(\"\\n\",\"\"))"
   ],
   "metadata": {
    "collapsed": false,
    "pycharm": {
     "name": "#%%\n"
    }
   }
  },
  {
   "cell_type": "code",
   "execution_count": 125,
   "outputs": [
    {
     "data": {
      "text/plain": "['MCDOWELL-N.NS',\n 'UBL.NS',\n 'RADICO.NS',\n 'TI.NS',\n 'SULA.NS',\n '530305.NS',\n 'GLOBUSSPR.NS',\n 'INDIAGLYCO.NS',\n 'SDBL.NS',\n 'GMBREW.NS',\n '507155.NS',\n 'ASALCBR.NS',\n 'IFBAGRO.NS',\n '507435.NS',\n '531216.NS',\n 'AURDIS.NS',\n '523309.NS',\n '507498.NS',\n 'RKDL.NS',\n '526471.NS',\n '531635.NS',\n 'MOTHERSON.NS',\n 'TIINDIA.NS',\n 'BOSCHLTD.NS',\n 'UNOMINDA.NS',\n 'SONACOMS.NS',\n 'ZFCVINDIA.NS',\n 'MSUMI.NS',\n 'ENDURANCE.NS',\n 'EXIDEIND.NS',\n 'SUNDRMFAST.NS',\n 'JBMA.NS',\n 'ARE&M.NS',\n 'CRAFTSMAN.NS',\n 'BBTC.NS',\n 'MINDACORP.NS',\n 'VARROC.NS',\n 'ROLEXRINGS.NS',\n 'SHRIPISTON.NS',\n 'ASKAUTOLTD.NS',\n 'GABRIEL.NS',\n 'SUPRAJIT.NS',\n 'SANSERA.NS',\n 'PRICOLLTD.NS',\n 'SHANTIGEAR.NS',\n 'BANCOINDIA.NS',\n 'JAMNAAUTO.NS',\n 'SSWL.NS',\n 'LGBBROSLTD.NS',\n 'SHARDAMOTR.NS',\n 'JTEKTINDIA.NS',\n 'HARSHA.NS',\n 'SUBROS.NS',\n 'AUTOAXLES.NS',\n 'DIVGIITTS.NS',\n 'SANDHAR.NS',\n 'FIEMIND.NS',\n 'LUMAXTECH.NS',\n 'UNIPARTS.NS',\n 'PRECAM.NS',\n 'LUMAXIND.NS',\n 'FMGOETZE.NS',\n 'SJS.NS',\n 'GNA.NS',\n 'TALBROAUTO.NS',\n 'WHEELS.NS',\n 'IGARASHI.NS',\n 'ALICON.NS',\n 'RML.NS',\n 'IMPAL.NS',\n '520073.NS',\n 'INDNIPPON.NS',\n 'RICOAUTO.NS',\n 'JAYBARMARU.NS',\n '533477.NS',\n 'NDRAUTO.NS',\n '508807.NS',\n 'MUNJALAU.NS',\n '505036.NS',\n 'HITECHGEAR.NS',\n '538992.NS',\n '539337.NS',\n '505163.NS',\n 'HINDCOMPOS.NS',\n 'ASAL.NS',\n 'RBL.NS',\n 'MUNJALSHOW.NS',\n '523229.NS',\n 'AUTOIND.NS',\n 'PAVNAIND.NS',\n 'SHIVAMAUTO.NS',\n '531727.NS',\n '522195.NS',\n 'GOLDSTAR.NS',\n 'REMSONSIND.NS',\n '538987.NS',\n 'URAVI.NS',\n 'SINTERCOM.NS',\n 'PPAP.NS',\n 'UCAL.NS',\n 'PRITIKAUTO.NS',\n '513252.NS',\n '500240.NS',\n 'SUNDRMBRAK.NS',\n 'RANEENGINE.NS',\n 'SHIGAN.NS',\n '523638.NS',\n 'JMA.NS',\n 'BHARATGEAR.NS',\n '530621.NS',\n '505978.NS',\n '520075.NS',\n '505712.NS',\n '539353.NS',\n 'OMAXAUTO.NS',\n '542459.NS',\n 'SETCO.NS',\n '505893.NS',\n '531994.NS',\n '522207.NS',\n '543065.NS',\n '543606.NS',\n 'UWCSL.NS',\n '513496.NS',\n 'PRECISION.NS',\n '530711.NS',\n 'ASLIND.NS',\n '513059.NS',\n '505212.NS',\n '520141.NS',\n '517230.NS',\n '513687.NS',\n '505100.NS',\n 'MARUTI.NS',\n 'TATAMOTORS.NS',\n 'M&M.NS',\n 'BAJAJ-AUTO.NS',\n 'EICHERMOT.NS',\n 'TVSMOTOR.NS',\n 'HEROMOTOCO.NS',\n 'ASHOKLEY.NS',\n 'ESCORTS.NS',\n 'TATAMTRDVR.NS',\n 'OLECTRA.NS',\n 'FORCEMOT.NS',\n 'VSTTILLERS.NS',\n '531357.NS',\n 'SMLISUZU.NS',\n 'ATULAUTO.NS',\n '538970.NS',\n '505141.NS',\n 'HINDMOTORS.NS',\n 'HDFCBANK.NS',\n 'ICICIBANK.NS',\n 'SBIN.NS',\n 'KOTAKBANK.NS',\n 'AXISBANK.NS',\n 'INDUSINDBK.NS',\n 'BANKBARODA.NS',\n 'PNB.NS',\n 'UNIONBANK.NS',\n 'IOB.NS',\n 'CANBK.NS',\n 'IDBI.NS',\n 'IDFCFIRSTB.NS',\n 'YESBANK.NS',\n 'INDIANB.NS',\n 'AUBANK.NS',\n 'BANKINDIA.NS',\n 'UCOBANK.NS',\n 'CENTRALBK.NS',\n 'BANDHANBNK.NS',\n 'FEDERALBNK.NS',\n 'MAHABANK.NS',\n 'PSB.NS',\n 'RBLBANK.NS',\n 'KARURVYSYA.NS',\n 'J&KBANK.NS',\n 'EQUITASBNK.NS',\n 'UJJIVANSFB.NS',\n 'CUB.NS',\n 'KTKBANK.NS',\n 'TMB.NS',\n 'CSBBANK.NS',\n 'UTKARSHBNK.NS',\n 'SOUTHBANK.NS',\n 'DCBBANK.NS',\n 'ESAFSFB.NS',\n 'FINOPB.NS',\n 'SURYODAY.NS',\n 'DHANBANK.NS',\n 'SCHAEFFLER.NS',\n 'TIMKEN.NS',\n 'SKFINDIA.NS',\n 'NRBBEARING.NS',\n 'MENONBE.NS',\n '526073.NS',\n 'SKP.NS',\n '505681.NS',\n '539398.NS',\n '505827.NS',\n 'NIBL.NS',\n '522005.NS',\n '541178.NS',\n 'POLYCAB.NS',\n 'KEI.NS',\n 'RRKABEL.NS',\n 'FINCABLES.NS',\n 'STLTECH.NS',\n 'PARACABLES.NS',\n 'UNIVCABLES.NS',\n 'DYCL.NS',\n 'BIRLACABLE.NS',\n 'DIACABS.NS',\n 'PLAZACABLE.NS',\n 'VMARCIND.NS',\n '538706.NS',\n '504240.NS',\n 'AKSHOPTFBR.NS',\n 'CORDSCABLE.NS',\n '539760.NS',\n 'MARCO.NS',\n '531472.NS',\n 'GODHA.NS',\n 'TNTELE.NS',\n '540651.NS',\n 'CMICABLES.NS',\n '531812.NS',\n 'SIEMENS.NS',\n 'ABB.NS',\n 'CGPOWER.NS',\n 'BHEL.NS',\n 'SUZLON.NS',\n 'APARINDS.NS',\n 'POWERINDIA.NS',\n 'INOXWIND.NS',\n 'KEC.NS',\n 'TRITURBINE.NS',\n 'GET&D.NS',\n 'VGUARD.NS',\n 'KPIL.NS',\n 'SCHNEIDER.NS',\n 'VOLTAMP.NS',\n 'TDPOWERSYS.NS',\n 'TRIL.NS',\n 'BBL.NS',\n 'IKIO.NS',\n 'HONDAPOWER.NS',\n 'RISHABH.NS',\n 'SPECTRUM.NS',\n '531201.NS',\n '542670.NS',\n 'SERVOTECH.NS',\n 'HPL.NS',\n '543620.NS',\n 'KABRAEXTRU.NS',\n 'MARINE.NS',\n 'JYOTISTRUC.NS',\n 'FOCUS.NS',\n 'WEBELSOLAR.NS',\n 'ICEMAKE.NS',\n 'SWELECTES.NS',\n '541228.NS',\n 'KECL.NS',\n 'INDOTECH.NS',\n 'SALZERELEC.NS',\n '540358.NS',\n 'WEL.NS',\n '543619.NS',\n '504176.NS',\n '515008.NS',\n 'MODISONLTD.NS',\n '504258.NS',\n 'SOLEX.NS',\n 'SUPREMEPWR.NS',\n 'KEL.NS',\n 'VETO.NS',\n '539255.NS',\n 'SURANASOL.NS',\n '539196.NS',\n '531888.NS',\n 'AARTECH.NS',\n '531215.NS',\n '542679.NS',\n '504084.NS',\n '504080.NS',\n 'S&SPOWER.NS',\n '504076.NS',\n '517467.NS',\n 'VIVIANA.NS',\n '534612.NS',\n '535719.NS',\n '517546.NS',\n 'MAKS.NS',\n '542668.NS',\n 'AGNI.NS',\n 'SEL.NS',\n '543172.NS',\n '531370.NS',\n '517201.NS',\n 'BRIGHT.NS',\n 'TARAPUR.NS',\n '517423.NS',\n '513575.NS',\n '530407.NS',\n 'INDLMETER.NS',\n '531460.NS',\n 'SURANASOL.NS',\n '539196.NS',\n '531888.NS',\n 'AARTECH.NS',\n '531215.NS',\n '542679.NS',\n '504084.NS',\n '504080.NS',\n 'S&SPOWER.NS',\n '504076.NS',\n '517467.NS',\n 'VIVIANA.NS',\n '534612.NS',\n '535719.NS',\n '517546.NS',\n 'MAKS.NS',\n '542668.NS',\n 'AGNI.NS',\n 'SEL.NS',\n '543172.NS',\n '531370.NS',\n '517201.NS',\n 'BRIGHT.NS',\n 'TARAPUR.NS',\n '517423.NS',\n '513575.NS',\n '530407.NS',\n 'INDLMETER.NS',\n '531460.NS',\n 'HAL.NS',\n 'CUMMINSIND.NS',\n 'THERMAX.NS',\n 'BDL.NS',\n 'GRINDWELL.NS',\n 'CARBORUNIV.NS',\n 'ELGIEQUIP.NS',\n 'TITAGARH.NS',\n 'JWL.NS',\n 'KSB.NS',\n 'BEML.NS',\n 'GRAPHITE.NS',\n 'ELECON.NS',\n 'PRAJIND.NS',\n 'ACE.NS',\n 'INGERRAND.NS',\n 'KIRLOSENG.NS',\n 'ESABINDIA.NS',\n 'IONEXCHANG.NS',\n 'HEG.NS',\n 'GMMPFAUDLR.NS',\n 'KIRLOSBROS.NS',\n 'POWERMECH.NS',\n 'TEXRAIL.NS',\n 'LLOYDSENGG.NS',\n 'WABAG.NS',\n 'KIRLPNU.NS',\n 'HLEGLAS.NS',\n 'GREAVESCOT.NS',\n 'DYNAMATECH.NS',\n 'SWARAJENG.NS',\n 'WENDT.NS',\n '531112.NS',\n '500068.NS',\n 'PITTIENG.NS',\n 'ADORWELD.NS',\n 'JASH.NS',\n 'SHAKTIPUMP.NS',\n '500147.NS',\n 'ROTO.NS',\n 'HERCULES.NS',\n '522101.NS',\n '505358.NS',\n 'YUKEN.NS',\n 'EIMCOELECO.NS',\n '522229.NS',\n 'WALCHANNAG.NS',\n 'DENORA.NS',\n '522134.NS',\n 'LOKESHMACH.NS',\n 'ORIENTCER.NS',\n '507944.NS',\n '523606.NS',\n 'INTLCONV.NS',\n 'WINDMACHIN.NS',\n 'UNIDT.NS',\n 'MAZDA.NS',\n '504959.NS',\n '530431.NS',\n '505232.NS',\n 'TIL.NS',\n '505737.NS',\n '522105.NS',\n '539984.NS',\n 'GUJAPOLLO.NS',\n '522017.NS',\n 'AARON.NS',\n '505750.NS',\n 'TRF.NS',\n '504028.NS',\n '513337.NS',\n '522004.NS',\n 'ATAM.NS',\n '517417.NS',\n '508941.NS',\n '522650.NS',\n 'LATTEYS.NS',\n '505690.NS',\n '505299.NS',\n '522251.NS',\n 'FELIX.NS',\n '531035.NS',\n '543937.NS',\n '522294.NS',\n '504988.NS',\n '522183.NS',\n 'AUROIMPEX.NS',\n '531399.NS',\n '526861.NS',\n '531233.NS',\n '505250.NS',\n 'MANUGRAPH.NS',\n '517514.NS',\n '500246.NS',\n '539176.NS',\n '505807.NS',\n '500360.NS',\n '540519.NS',\n '522152.NS',\n '526043.NS',\n '522001.NS',\n '541945.NS',\n '522036.NS',\n '526711.NS',\n 'PERFECT.NS',\n '523650.NS',\n '522245.NS',\n 'PREMIER.NS',\n '526604.NS',\n '531944.NS',\n '531661.NS',\n '531594.NS',\n '522027.NS',\n '522171.NS',\n '532470.NS',\n 'BHARATFORG.NS',\n 'AIAENG.NS',\n 'CIEINDIA.NS',\n 'TVSHLTD.NS',\n 'RKFORGE.NS',\n 'HAPPYFORGE.NS',\n 'PTCIL.NS',\n 'ELECTCAST.NS',\n '505890.NS',\n 'JAYNECOIND.NS',\n 'MMFL.NS',\n 'NELCAST.NS',\n 'STERTOOLS.NS',\n 'STEELCAS.NS',\n '504605.NS',\n 'SGIL.NS',\n '544037.NS',\n '544023.NS',\n '513532.NS',\n '504786.NS',\n 'LGBFORGE.NS',\n '508875.NS',\n '539314.NS',\n 'HILTON.NS',\n '543229.NS',\n '517449.NS',\n '504646.NS',\n '539479.NS',\n 'TIRUPATIFL.NS',\n 'KALYANIFRG.NS',\n 'DCM.NS',\n '531289.NS',\n '540652.NS',\n '539527.NS',\n '504961.NS',\n '507998.NS',\n 'PRITIKA.NS',\n 'SCML.NS',\n '513369.NS',\n 'GANGAFORGE.NS',\n '532933.NS',\n '513418.NS',\n 'PATTECH.NS',\n '513472.NS',\n '539121.NS',\n '531144.NS',\n 'METALFORGE.NS',\n '522237.NS',\n '531911.NS',\n 'LAKPRE.NS',\n '505685.NS',\n '530609.NS',\n '505685.NS',\n '530609.NS',\n 'ULTRACEMCO.NS',\n 'AMBUJACEM.NS',\n 'SHREECEM.NS',\n 'DALBHARAT.NS',\n 'ACC.NS',\n 'JKCEMENT.NS',\n 'RAMCOCEM.NS',\n 'NUVOCO.NS',\n 'BIRLACORPN.NS',\n 'JKLAKSHMI.NS',\n 'PRSMJOHNSN.NS',\n 'INDIACEM.NS',\n 'STARCEMENT.NS',\n 'KESORAMIND.NS',\n 'HEIDELBERG.NS',\n 'ORIENTCEM.NS',\n 'SAGCEM.NS',\n 'SANGHIIND.NS',\n 'MANGLMCEM.NS',\n 'KCP.NS',\n 'UDAICEMENT.NS',\n 'SHREDIGCEM.NS',\n '502175.NS',\n '532323.NS',\n 'NCLIND.NS',\n 'ACL.NS',\n 'DECCANCE.NS',\n 'APCL.NS',\n '530977.NS',\n 'KAKATCEM.NS',\n 'BVCL.NS',\n '518011.NS',\n '518017.NS',\n '500322.NS',\n '502133.NS',\n 'BURNPUR.NS',\n 'EVERESTIND.NS',\n 'HIL.NS',\n 'RAMCOIND.NS',\n 'BIGBLOC.NS',\n 'VISAKAIND.NS',\n 'SAHYADRI.NS',\n '539620.NS',\n '531444.NS',\n 'KAJARIACER.NS',\n 'CERA.NS',\n 'SOMANYCERA.NS',\n 'ASIANTILES.NS',\n 'ORIENTBELL.NS',\n 'EXXARO.NS',\n 'MURUDCERA.NS',\n 'REGENCERAM.NS',\n 'LEXUS.NS',\n '515085.NS',\n 'PIDILITIND.NS',\n 'SRF.NS',\n 'SOLARINDS.NS',\n 'LINDEINDIA.NS',\n 'FLUOROCHEM.NS',\n 'DEEPAKNTR.NS',\n 'TATACHEM.NS',\n 'GODREJIND.NS',\n 'AARTIIND.NS',\n 'ATUL.NS',\n 'NAVINFLUOR.NS',\n 'VINATIORGA.NS',\n 'CASTROLIND.NS',\n 'CLEAN.NS',\n 'FINEORG.NS',\n 'HSCL.NS',\n 'BASF.NS',\n 'ALKYLAMINE.NS',\n 'AETHER.NS',\n 'GNFC.NS',\n 'ANURAS.NS',\n 'GALAXYSURF.NS',\n 'PCBL.NS',\n 'BALAMINES.NS',\n 'DEEPAKFERT.NS',\n 'JUBLINGREA.NS',\n 'ACI.NS',\n 'LXCHEM.NS',\n 'CHEMPLASTS.NS',\n '500123.NS',\n 'GUJALKALI.NS',\n 'GHCL.NS',\n 'PRIVISCL.NS',\n 'NOCIL.NS',\n 'ROSSARI.NS',\n 'EPIGRAL.NS',\n 'FCL.NS',\n 'NEOGEN.NS',\n 'SUDARSCHEM.NS',\n 'TATVA.NS',\n 'GULFOILLUB.NS',\n 'GRAUWEIL.NS',\n 'GOCLCORP.NS',\n 'TIDEWATER.NS',\n '506854.NS',\n 'FOSECOIND.NS',\n 'VISHNU.NS',\n 'CAMLINFINE.NS',\n 'TIRUMALCHM.NS',\n 'SADHNANIQ.NS',\n 'VIDHIING.NS',\n 'KIRIINDUS.NS',\n 'SHK.NS',\n '543547.NS',\n '532742.NS',\n '514448.NS',\n 'YASHO.NS',\n 'PREMEXPLN.NS',\n 'FAIRCHEMOR.NS',\n 'IGPL.NS',\n 'VALIANTORG.NS',\n 'HEUBACHIND.NS',\n 'OAL.NS',\n '506808.NS',\n '506852.NS',\n '506685.NS',\n '507753.NS',\n 'GANESHBE.NS',\n 'CHEMCON.NS',\n 'BODALCHEM.NS',\n '506687.NS',\n 'SRHHYPOLTD.NS',\n 'AMNPLST.NS',\n 'HPAL.NS',\n 'JUBLINDS.NS',\n 'TNPETRO.NS',\n 'INDOAMIN.NS',\n 'OCCL.NS',\n 'DMCC.NS',\n '506532.NS',\n 'PLASTIBLEN.NS',\n 'JAYAGROGN.NS',\n 'INDOBORAX.NS',\n 'BHAGERIA.NS',\n 'SHREEPUSHK.NS',\n 'CHEMBOND.NS',\n '500012.NS',\n '530845.NS',\n 'AARTISURF.NS',\n '500298.NS',\n 'KANORICHEM.NS',\n '526159.NS',\n 'DIAMINESQ.NS',\n 'CHEMFAB.NS',\n '540395.NS',\n 'DICIND.NS',\n 'LORDSCHLO.NS',\n '506597.NS',\n 'PODDARMENT.NS',\n 'HIGREEN.NS',\n '524634.NS',\n '500449.NS',\n 'DYNPRO.NS',\n 'ASAHISONG.NS',\n '523586.NS',\n 'MANORG.NS',\n '506528.NS',\n 'HINDCON.NS',\n '526821.NS',\n 'PARAGON.NS',\n '504092.NS',\n 'GULFPETRO.NS',\n '526739.NS',\n '531253.NS',\n 'AKSHARCHEM.NS',\n 'IVP.NS',\n 'VITAL.NS',\n '530627.NS',\n '513353.NS',\n 'JOCIL.NS',\n '532384.NS',\n 'ARVEE.NS',\n '538896.NS',\n 'DUCOL.NS',\n '507645.NS',\n 'ALKALI.NS',\n '531592.NS',\n '524218.NS',\n '524444.NS',\n '544036.NS',\n '531109.NS',\n 'HPIL.NS',\n '524640.NS',\n '506910.NS',\n 'ARABIAN.NS',\n 'PROLIFE.NS',\n '524174.NS',\n 'AMBANIORG.NS',\n 'MAHICKRA.NS',\n '526335.NS',\n 'UCL.NS',\n '543497.NS',\n '507813.NS',\n '524210.NS',\n 'YCCL.NS',\n 'SEYAIND.NS',\n 'VSCL.NS',\n '540204.NS',\n '540550.NS',\n 'SANGINITA.NS',\n 'NIITLTD.NS',\n 'APTECHT.NS',\n 'VINSYS.NS',\n 'COMPUSOFT.NS',\n 'ZEELEARN.NS',\n 'EDUCOMP.NS',\n '517063.NS',\n '526709.NS',\n 'UMESLTD.NS',\n 'LODHA.NS',\n 'RVNL.NS',\n 'NCC.NS',\n '504882.NS',\n 'PNCINFRA.NS',\n 'MAHLIFE.NS',\n 'MANINFRA.NS',\n 'KNRCON.NS',\n 'HGINFRA.NS',\n 'RAMKY.NS',\n 'ITDCEM.NS',\n 'JPASSOCIAT.NS',\n 'PATELENG.NS',\n 'WELENT.NS',\n 'HCC.NS',\n 'GANESHHOUC.NS',\n 'PSPPROJECT.NS',\n 'VPRPL.NS',\n 'EMSLIMITED.NS',\n 'SHRIRAMPPS.NS',\n 'VASCONEQ.NS',\n '514360.NS',\n '504000.NS',\n 'BLKASHYAP.NS',\n 'INDIANHUME.NS',\n 'GIRIRAJ.NS',\n 'GPTINFRA.NS',\n 'BLAL.NS',\n 'MBLINFRA.NS',\n 'PARSVNATH.NS',\n 'SPMLINFRA.NS',\n 'SIMPLEXINF.NS',\n 'RPPINFRA.NS',\n 'BRNL.NS',\n '541353.NS',\n '526961.NS',\n 'RBMINFRA.NS',\n '543542.NS',\n 'SADBHAV.NS',\n 'NILAINFRA.NS',\n '539894.NS',\n '526519.NS',\n '543539.NS',\n 'ABINFRA.NS',\n 'GENCON.NS',\n '539112.NS',\n 'CHAVDA.NS',\n '543241.NS',\n '530677.NS',\n '531540.NS',\n '543391.NS',\n 'GAYAPROJ.NS',\n '543376.NS',\n '540796.NS',\n 'NILASPACES.NS',\n '535693.NS',\n 'NIRAJ.NS',\n 'RKEC.NS',\n 'RILINFRA.NS',\n 'SADBHIN.NS',\n 'PANSARI.NS',\n '539861.NS',\n '533285.NS',\n 'ARTNIRMAN.NS',\n '532123.NS',\n '532159.NS',\n '526654.NS',\n 'UNIVASTU.NS',\n '512479.NS',\n '504273.NS',\n '531494.NS',\n '534338.NS',\n '531694.NS',\n 'AKASH.NS',\n 'EXCEL.NS',\n 'DESTINY.NS',\n '539189.NS',\n 'MADHUCON.NS',\n '536073.NS',\n '530695.NS',\n '531784.NS',\n '533078.NS',\n 'SONUINFRA.NS',\n 'ARSSINFRA.NS',\n '541112.NS',\n '519331.NS',\n '512257.NS',\n '536659.NS',\n '530361.NS',\n '531416.NS',\n '538833.NS',\n 'GAYAHWS.NS',\n '522231.NS',\n '511131.NS',\n '543745.NS',\n '532676.NS',\n 'AILIMITED.NS',\n '512064.NS',\n '538770.NS',\n '531328.NS',\n 'DRL.NS',\n '536128.NS',\n '539099.NS',\n '509845.NS',\n 'SETUINFRA.NS',\n 'MANAV.NS',\n '508929.NS',\n '542864.NS',\n '538521.NS',\n '508961.NS',\n 'CMMIPL.NS',\n '514332.NS',\n '522209.NS',\n '500426.NS',\n '526187.NS',\n '542924.NS',\n '509423.NS',\n '542677.NS',\n '538794.NS',\n '526865.NS',\n '532766.NS',\n '531155.NS',\n '539544.NS',\n '526823.NS',\n '540134.NS',\n '543366.NS',\n '534731.NS',\n 'HAVELLS.NS',\n 'DIXON.NS',\n 'VOLTAS.NS',\n 'CROMPTON.NS',\n 'BLUESTARCO.NS',\n 'WHIRLPOOL.NS',\n 'KAYNES.NS',\n 'BAJAJELEC.NS',\n 'AMBER.NS',\n 'TTKPRESTIG.NS',\n '543482.NS',\n 'PGEL.NS',\n 'SYMPHONY.NS',\n 'GENUSPOWER.NS',\n 'ORIENTELEC.NS',\n '508486.NS',\n 'IFBIND.NS',\n 'AVALON.NS',\n 'KDDL.NS',\n 'JCHAC.NS',\n 'CARYSIL.NS',\n 'BUTTERFLY.NS',\n '500414.NS',\n 'STOVEKRAFT.NS',\n '504132.NS',\n 'HIRECT.NS',\n 'MICEL.NS',\n 'ELIN.NS',\n '543597.NS',\n '517035.NS',\n '541083.NS',\n 'BPL.NS',\n 'MIRCELECTR.NS',\n '523100.NS',\n '531306.NS',\n 'GREENCHEF.NS',\n '517236.NS',\n '523449.NS',\n 'ARHAM.NS',\n 'SONAMLTD.NS',\n 'DELTAMAGNT.NS',\n '543921.NS',\n '517246.NS',\n '531608.NS',\n '517288.NS',\n '500370.NS',\n '517370.NS',\n '505840.NS',\n '543460.NS',\n '509015.NS',\n '517397.NS',\n '517463.NS',\n '526009.NS',\n '517397.NS',\n '517463.NS',\n '526009.NS',\n 'CRISIL.NS',\n 'ICRA.NS',\n 'CARERATING.NS',\n 'ONGC.NS',\n 'OIL.NS',\n 'HINDOILEXP.NS',\n 'ASIANENE.NS',\n 'SELAN.NS',\n 'ABAN.NS',\n '513536.NS',\n 'TITAN.NS',\n 'KALYANKJIL.NS',\n 'RAJESHEXPO.NS',\n 'VAIBHAVGBL.NS',\n 'SENCO.NS',\n 'THANGAMAYL.NS',\n 'PCJEWELLER.NS',\n 'GOLDIAM.NS',\n 'MVGJL.NS',\n '531847.NS',\n 'SKYGOLD.NS',\n 'RGL.NS',\n 'MOTISONS.NS',\n 'TBZ.NS',\n 'RADHIKAJWE.NS',\n 'RBZJEWEL.NS',\n '539518.NS',\n 'LGHL.NS',\n '542579.NS',\n '519455.NS',\n '540953.NS',\n '523676.NS',\n '522235.NS',\n '543848.NS',\n 'KANANIIND.NS',\n '526365.NS',\n '540715.NS',\n '530525.NS',\n '504398.NS',\n '512587.NS',\n 'SILGO.NS',\n 'GOENKA.NS',\n '539559.NS',\n '542034.NS',\n '531626.NS',\n '539884.NS',\n '523790.NS',\n '523826.NS',\n '531506.NS',\n '543970.NS',\n '523373.NS',\n '523425.NS',\n '526195.NS',\n '3MINDIA.NS',\n 'DCMSHRIRAM.NS',\n 'SWANENERGY.NS',\n 'QUESS.NS',\n 'NAVA.NS',\n 'BALMLAWRIE.NS',\n 'TTKHLTCARE.NS',\n 'ANDREWYU.NS',\n 'ROSSELLIND.NS',\n 'ANDHRSUGAR.NS',\n '509525.NS',\n 'KRISHNADEF.NS',\n 'SAAKSHI.NS',\n 'SPECTSTM.NS',\n 'GILLANDERS.NS',\n '511092.NS',\n '501430.NS',\n 'INDIFRA.NS',\n '513149.NS',\n 'HBLPOWER.NS',\n 'EVEREADY.NS',\n 'NIPPOBATRY.NS',\n '504093.NS',\n 'ZOMATO.NS',\n 'NAUKRI.NS',\n 'NYKAA.NS',\n 'PAYTM.NS',\n 'INDIAMART.NS',\n 'EASEMYTRIP.NS',\n 'JUSTDIAL.NS',\n 'MSTCLTD.NS',\n 'YATRA.NS',\n 'CREATIVE.NS',\n 'DENTALKART.NS',\n 'NURECA.NS',\n '543787.NS',\n 'MOS.NS',\n '543941.NS',\n '543637.NS',\n 'CBAZAAR.NS',\n 'WOMANCART.NS',\n '521105.NS',\n '544015.NS',\n '538786.NS',\n '543521.NS',\n '524622.NS',\n ...]"
     },
     "execution_count": 125,
     "metadata": {},
     "output_type": "execute_result"
    }
   ],
   "source": [
    "nta"
   ],
   "metadata": {
    "collapsed": false,
    "pycharm": {
     "name": "#%%\n"
    }
   }
  },
  {
   "cell_type": "code",
   "execution_count": 127,
   "outputs": [
    {
     "name": "stdout",
     "output_type": "stream",
     "text": [
      "['AMBICAAGAR.NS', 'LYPSAGEMS.NS', 'MOHITIND.NS', 'ICDSLTD.NS', 'SKIL.NS', 'JETAIRWAYS.NS', 'SUULD.NS', 'ARENTERP.NS', 'BANG.NS', 'RHFL.NS', 'TPHQ.NS', 'OMKARCHEM.NS', 'FMNL.NS', 'QUINTEGRA.NS', 'VIJIFIN.NS', 'GLOBALVECT.NS', 'CALSOFT.NS', 'BLBLIMITED.NS', 'MITTAL.NS', 'ALPSINDUS.NS', 'ONELIFECAP.NS', 'CAPTRUST.NS', 'AVONMORE.NS', 'SIKKO.NS', 'ACEINTEG.NS', '21STCENMGM.NS', 'ASTEC.NS', 'EASTSILK.NS', 'SUPERSPIN.NS', 'DHARMAJ.NS', 'GATECHDVR.NS', 'INSECTICID.NS', 'SGL.NS', 'SHIVALIK.NS', '3PLAND.NS', 'INDIGO.NS', 'LAXMICOT.NS', 'TERASOFT.NS', 'SUMICHEM.NS', 'DHANUKA.NS', 'MOL.NS', 'WELSPUNIND.NS', 'ADROITINFO.NS', 'ABMINTLLTD.NS', 'RALLIS.NS', 'BHARATRAS.NS', 'TFL.NS', 'LIBAS.NS', 'ORTINLAB.NS', 'NACLIND.NS', 'AUSOMENT.NS', 'JETFREIGHT.NS', 'VIVIDHA.NS', 'PIIND.NS', 'VCL.NS', 'BAYERCROP.NS', 'IPL.NS', 'UPL.NS', 'SHARDACROP.NS', 'WILLAMAGOR.NS', 'HERANBA.NS', 'EXCELINDUS.NS', 'ORIENTALTL.NS', 'PUNJABCHEM.NS', 'GANGESSECU.NS', 'HBSL.NS', 'WINSOME.NS', 'PALASHSECU.NS', 'LFIC.NS', 'ATLANTA.NS', 'SUMEETINDS.NS']\n"
     ]
    }
   ],
   "source": [
    "y=[]\n",
    "for i in nta:\n",
    "    if i not in tname:\n",
    "        y.append(i)\n",
    "print(y)"
   ],
   "metadata": {
    "collapsed": false,
    "pycharm": {
     "name": "#%%\n"
    }
   }
  },
  {
   "cell_type": "code",
   "execution_count": 135,
   "outputs": [
    {
     "data": {
      "text/plain": "Date           2024-02-15  2024-02-14  2024-02-13  2024-02-12  2024-02-09  \\\nGSFC.NS          1.749951    1.389483    1.343150   -9.383586   -0.952750   \nCASTROLIND.NS    0.837135    3.193720   -1.393907   -3.918655    2.283105   \nIDEA.NS          2.572345    5.782316    1.730104   -6.774195    4.729728   \nENGINERSIN.NS    0.325277    4.238314    2.482005  -11.020317   -5.882357   \nJUBLPHARMA.NS    4.539615    0.481967   -0.904049    4.538162   -1.700265   \n...                   ...         ...         ...         ...         ...   \nCCL.NS           0.205398    3.528397   -1.244458   -2.819354   -0.188608   \nDIXON.NS         0.317031    0.702861    0.422701   -0.138577    0.866808   \nKEI.NS           0.628799    0.080173    2.626802   -2.992473    2.838908   \n360ONE.NS        0.812319    2.334822    6.702663   -0.924650   -0.281953   \nEICHERMOT.NS     0.384463    1.228532   -0.455858    0.804492    0.883826   \n\nDate           2024-02-08  2024-02-07  2024-02-06  2024-02-05  2024-02-02  \\\nGSFC.NS         -4.191505   -5.824564    4.281015   -3.953611   -1.437487   \nCASTROLIND.NS   -0.630199   -2.049380    2.221097   -0.151204    4.668948   \nIDEA.NS         -1.333332    5.263158    3.636364   -2.135233   -0.706710   \nENGINERSIN.NS   -0.455200    0.603662   -1.658138   -6.542952   10.320816   \nJUBLPHARMA.NS   -0.696258   -1.110253   -0.120349   -1.789781    2.705276   \n...                   ...         ...         ...         ...         ...   \nCCL.NS          -0.689290    3.441053    1.582436   -1.565412   -3.701491   \nDIXON.NS        -1.345727   -0.781620    1.580767    0.349487    1.851608   \nKEI.NS          -2.030192    1.084392    2.750067   -0.879472    1.337639   \n360ONE.NS        2.029241    2.322987    2.112104    1.743944   -2.032387   \nEICHERMOT.NS    -3.064170   -0.429706    1.404906    1.683415   -2.736955   \n\nDate           ...  2018-02-02  2018-02-01  2018-01-31  2018-01-30  \\\nGSFC.NS        ...   -7.851534   -3.178985   -0.241300   -0.888284   \nCASTROLIND.NS  ...   -2.204083   -0.889964    0.678794   -0.674218   \nIDEA.NS        ...   -3.285870   -1.933402   -0.957452    0.427351   \nENGINERSIN.NS  ...   -3.826090   -2.816901    2.630820   -1.760867   \nJUBLPHARMA.NS  ...   -4.321351    0.711659   -1.578660    0.470957   \n...            ...         ...         ...         ...         ...   \nCCL.NS         ...   -6.395252   -0.033918    1.532373   -0.496835   \nDIXON.NS       ...   -3.602096    2.005143   -0.975631    0.091177   \nKEI.NS         ...   -6.834621    3.645296    0.467529   -0.977363   \n360ONE.NS      ...         NaN         NaN         NaN         NaN   \nEICHERMOT.NS   ...   -0.840010    4.173847    0.877508   -2.783785   \n\nDate           2018-01-29  2018-01-25  2018-01-24  2018-01-23  2018-01-22  \\\nGSFC.NS         -1.811471   -3.119924   -0.645786   -0.128989    1.672133   \nCASTROLIND.NS    1.366867   -2.192517   -0.979617    0.505595    0.079890   \nIDEA.NS         -1.577287    1.277958   -5.485659   -0.150756   -2.737047   \nENGINERSIN.NS    1.352911   -0.344238   -1.636565    0.056460   -1.910826   \nJUBLPHARMA.NS    2.383191   -0.666145    1.856106    0.473268    0.852322   \n...                   ...         ...         ...         ...         ...   \nCCL.NS          -0.102683   -2.421510    0.655566    0.591816    0.715261   \nDIXON.NS        -0.781399    1.478139   -0.860002   -0.892840   -0.138383   \nKEI.NS          -2.824298    0.300830   -0.486469    1.084357    0.967533   \n360ONE.NS             NaN         NaN         NaN         NaN         NaN   \nEICHERMOT.NS     3.522895    0.436861   -2.464606   -2.092420   -1.284034   \n\nDate           2018-01-19  \nGSFC.NS          1.463737  \nCASTROLIND.NS    0.697240  \nIDEA.NS          1.186946  \nENGINERSIN.NS    1.290324  \nJUBLPHARMA.NS   -2.075458  \n...                   ...  \nCCL.NS           2.406695  \nDIXON.NS         0.938195  \nKEI.NS           1.564517  \n360ONE.NS             NaN  \nEICHERMOT.NS     0.196932  \n\n[209 rows x 1499 columns]",
      "text/html": "<div>\n<style scoped>\n    .dataframe tbody tr th:only-of-type {\n        vertical-align: middle;\n    }\n\n    .dataframe tbody tr th {\n        vertical-align: top;\n    }\n\n    .dataframe thead th {\n        text-align: right;\n    }\n</style>\n<table border=\"1\" class=\"dataframe\">\n  <thead>\n    <tr style=\"text-align: right;\">\n      <th>Date</th>\n      <th>2024-02-15</th>\n      <th>2024-02-14</th>\n      <th>2024-02-13</th>\n      <th>2024-02-12</th>\n      <th>2024-02-09</th>\n      <th>2024-02-08</th>\n      <th>2024-02-07</th>\n      <th>2024-02-06</th>\n      <th>2024-02-05</th>\n      <th>2024-02-02</th>\n      <th>...</th>\n      <th>2018-02-02</th>\n      <th>2018-02-01</th>\n      <th>2018-01-31</th>\n      <th>2018-01-30</th>\n      <th>2018-01-29</th>\n      <th>2018-01-25</th>\n      <th>2018-01-24</th>\n      <th>2018-01-23</th>\n      <th>2018-01-22</th>\n      <th>2018-01-19</th>\n    </tr>\n  </thead>\n  <tbody>\n    <tr>\n      <th>GSFC.NS</th>\n      <td>1.749951</td>\n      <td>1.389483</td>\n      <td>1.343150</td>\n      <td>-9.383586</td>\n      <td>-0.952750</td>\n      <td>-4.191505</td>\n      <td>-5.824564</td>\n      <td>4.281015</td>\n      <td>-3.953611</td>\n      <td>-1.437487</td>\n      <td>...</td>\n      <td>-7.851534</td>\n      <td>-3.178985</td>\n      <td>-0.241300</td>\n      <td>-0.888284</td>\n      <td>-1.811471</td>\n      <td>-3.119924</td>\n      <td>-0.645786</td>\n      <td>-0.128989</td>\n      <td>1.672133</td>\n      <td>1.463737</td>\n    </tr>\n    <tr>\n      <th>CASTROLIND.NS</th>\n      <td>0.837135</td>\n      <td>3.193720</td>\n      <td>-1.393907</td>\n      <td>-3.918655</td>\n      <td>2.283105</td>\n      <td>-0.630199</td>\n      <td>-2.049380</td>\n      <td>2.221097</td>\n      <td>-0.151204</td>\n      <td>4.668948</td>\n      <td>...</td>\n      <td>-2.204083</td>\n      <td>-0.889964</td>\n      <td>0.678794</td>\n      <td>-0.674218</td>\n      <td>1.366867</td>\n      <td>-2.192517</td>\n      <td>-0.979617</td>\n      <td>0.505595</td>\n      <td>0.079890</td>\n      <td>0.697240</td>\n    </tr>\n    <tr>\n      <th>IDEA.NS</th>\n      <td>2.572345</td>\n      <td>5.782316</td>\n      <td>1.730104</td>\n      <td>-6.774195</td>\n      <td>4.729728</td>\n      <td>-1.333332</td>\n      <td>5.263158</td>\n      <td>3.636364</td>\n      <td>-2.135233</td>\n      <td>-0.706710</td>\n      <td>...</td>\n      <td>-3.285870</td>\n      <td>-1.933402</td>\n      <td>-0.957452</td>\n      <td>0.427351</td>\n      <td>-1.577287</td>\n      <td>1.277958</td>\n      <td>-5.485659</td>\n      <td>-0.150756</td>\n      <td>-2.737047</td>\n      <td>1.186946</td>\n    </tr>\n    <tr>\n      <th>ENGINERSIN.NS</th>\n      <td>0.325277</td>\n      <td>4.238314</td>\n      <td>2.482005</td>\n      <td>-11.020317</td>\n      <td>-5.882357</td>\n      <td>-0.455200</td>\n      <td>0.603662</td>\n      <td>-1.658138</td>\n      <td>-6.542952</td>\n      <td>10.320816</td>\n      <td>...</td>\n      <td>-3.826090</td>\n      <td>-2.816901</td>\n      <td>2.630820</td>\n      <td>-1.760867</td>\n      <td>1.352911</td>\n      <td>-0.344238</td>\n      <td>-1.636565</td>\n      <td>0.056460</td>\n      <td>-1.910826</td>\n      <td>1.290324</td>\n    </tr>\n    <tr>\n      <th>JUBLPHARMA.NS</th>\n      <td>4.539615</td>\n      <td>0.481967</td>\n      <td>-0.904049</td>\n      <td>4.538162</td>\n      <td>-1.700265</td>\n      <td>-0.696258</td>\n      <td>-1.110253</td>\n      <td>-0.120349</td>\n      <td>-1.789781</td>\n      <td>2.705276</td>\n      <td>...</td>\n      <td>-4.321351</td>\n      <td>0.711659</td>\n      <td>-1.578660</td>\n      <td>0.470957</td>\n      <td>2.383191</td>\n      <td>-0.666145</td>\n      <td>1.856106</td>\n      <td>0.473268</td>\n      <td>0.852322</td>\n      <td>-2.075458</td>\n    </tr>\n    <tr>\n      <th>...</th>\n      <td>...</td>\n      <td>...</td>\n      <td>...</td>\n      <td>...</td>\n      <td>...</td>\n      <td>...</td>\n      <td>...</td>\n      <td>...</td>\n      <td>...</td>\n      <td>...</td>\n      <td>...</td>\n      <td>...</td>\n      <td>...</td>\n      <td>...</td>\n      <td>...</td>\n      <td>...</td>\n      <td>...</td>\n      <td>...</td>\n      <td>...</td>\n      <td>...</td>\n      <td>...</td>\n    </tr>\n    <tr>\n      <th>CCL.NS</th>\n      <td>0.205398</td>\n      <td>3.528397</td>\n      <td>-1.244458</td>\n      <td>-2.819354</td>\n      <td>-0.188608</td>\n      <td>-0.689290</td>\n      <td>3.441053</td>\n      <td>1.582436</td>\n      <td>-1.565412</td>\n      <td>-3.701491</td>\n      <td>...</td>\n      <td>-6.395252</td>\n      <td>-0.033918</td>\n      <td>1.532373</td>\n      <td>-0.496835</td>\n      <td>-0.102683</td>\n      <td>-2.421510</td>\n      <td>0.655566</td>\n      <td>0.591816</td>\n      <td>0.715261</td>\n      <td>2.406695</td>\n    </tr>\n    <tr>\n      <th>DIXON.NS</th>\n      <td>0.317031</td>\n      <td>0.702861</td>\n      <td>0.422701</td>\n      <td>-0.138577</td>\n      <td>0.866808</td>\n      <td>-1.345727</td>\n      <td>-0.781620</td>\n      <td>1.580767</td>\n      <td>0.349487</td>\n      <td>1.851608</td>\n      <td>...</td>\n      <td>-3.602096</td>\n      <td>2.005143</td>\n      <td>-0.975631</td>\n      <td>0.091177</td>\n      <td>-0.781399</td>\n      <td>1.478139</td>\n      <td>-0.860002</td>\n      <td>-0.892840</td>\n      <td>-0.138383</td>\n      <td>0.938195</td>\n    </tr>\n    <tr>\n      <th>KEI.NS</th>\n      <td>0.628799</td>\n      <td>0.080173</td>\n      <td>2.626802</td>\n      <td>-2.992473</td>\n      <td>2.838908</td>\n      <td>-2.030192</td>\n      <td>1.084392</td>\n      <td>2.750067</td>\n      <td>-0.879472</td>\n      <td>1.337639</td>\n      <td>...</td>\n      <td>-6.834621</td>\n      <td>3.645296</td>\n      <td>0.467529</td>\n      <td>-0.977363</td>\n      <td>-2.824298</td>\n      <td>0.300830</td>\n      <td>-0.486469</td>\n      <td>1.084357</td>\n      <td>0.967533</td>\n      <td>1.564517</td>\n    </tr>\n    <tr>\n      <th>360ONE.NS</th>\n      <td>0.812319</td>\n      <td>2.334822</td>\n      <td>6.702663</td>\n      <td>-0.924650</td>\n      <td>-0.281953</td>\n      <td>2.029241</td>\n      <td>2.322987</td>\n      <td>2.112104</td>\n      <td>1.743944</td>\n      <td>-2.032387</td>\n      <td>...</td>\n      <td>NaN</td>\n      <td>NaN</td>\n      <td>NaN</td>\n      <td>NaN</td>\n      <td>NaN</td>\n      <td>NaN</td>\n      <td>NaN</td>\n      <td>NaN</td>\n      <td>NaN</td>\n      <td>NaN</td>\n    </tr>\n    <tr>\n      <th>EICHERMOT.NS</th>\n      <td>0.384463</td>\n      <td>1.228532</td>\n      <td>-0.455858</td>\n      <td>0.804492</td>\n      <td>0.883826</td>\n      <td>-3.064170</td>\n      <td>-0.429706</td>\n      <td>1.404906</td>\n      <td>1.683415</td>\n      <td>-2.736955</td>\n      <td>...</td>\n      <td>-0.840010</td>\n      <td>4.173847</td>\n      <td>0.877508</td>\n      <td>-2.783785</td>\n      <td>3.522895</td>\n      <td>0.436861</td>\n      <td>-2.464606</td>\n      <td>-2.092420</td>\n      <td>-1.284034</td>\n      <td>0.196932</td>\n    </tr>\n  </tbody>\n</table>\n<p>209 rows × 1499 columns</p>\n</div>"
     },
     "execution_count": 135,
     "metadata": {},
     "output_type": "execute_result"
    }
   ],
   "source": [
    "df5[(df5[\"2024-02-15\"]>0) & (df5[\"2024-02-14\"]>0)]"
   ],
   "metadata": {
    "collapsed": false,
    "pycharm": {
     "name": "#%%\n"
    }
   }
  },
  {
   "cell_type": "code",
   "execution_count": 148,
   "outputs": [
    {
     "name": "stdout",
     "output_type": "stream",
     "text": [
      "1499\n"
     ]
    }
   ],
   "source": [
    "n=len(df5.columns)\n",
    "for i in range(n):\n",
    "print(df5[(df5[0]>0) & (df5[1]>0)]"
   ],
   "metadata": {
    "collapsed": false,
    "pycharm": {
     "name": "#%%\n"
    }
   }
  },
  {
   "cell_type": "code",
   "execution_count": null,
   "outputs": [],
   "source": [
    "n = len(df5.columns)\n",
    "df5.iloc[:, :10]"
   ],
   "metadata": {
    "collapsed": false,
    "pycharm": {
     "name": "#%%\n",
     "is_executing": true
    }
   }
  },
  {
   "cell_type": "code",
   "execution_count": 152,
   "outputs": [
    {
     "data": {
      "text/plain": "GSFC.NS          1.463737\nALKYLAMINE.NS    1.164192\nCASTROLIND.NS    0.697240\nIDEA.NS          1.186946\nSPARC.NS         0.394021\n                   ...   \nBSOFT.NS         2.262093\nCHOLAFIN.NS      0.616155\nEICHERMOT.NS     0.196932\nSONATSOFTW.NS    4.344841\nBBTC.NS          1.370602\nName: 2018-01-19, Length: 259, dtype: float64"
     },
     "execution_count": 152,
     "metadata": {},
     "output_type": "execute_result"
    }
   ],
   "source": [
    "n = len(df5.columns)\n",
    "for col in df5.columns[:n]:\n",
    "    filtered_column = df5[df5[col] > 0][col]\n",
    "filtered_column"
   ],
   "metadata": {
    "collapsed": false,
    "pycharm": {
     "name": "#%%\n"
    }
   }
  },
  {
   "cell_type": "code",
   "execution_count": 17,
   "outputs": [],
   "source": [
    "df5=df5.T"
   ],
   "metadata": {
    "collapsed": false,
    "pycharm": {
     "name": "#%%\n"
    }
   }
  },
  {
   "cell_type": "code",
   "execution_count": 18,
   "outputs": [
    {
     "data": {
      "text/plain": "Date           2024-02-15  2024-02-14  2024-02-13  2024-02-12  2024-02-09  \\\nGSFC.NS          1.749951    1.389483    1.343150   -9.383586   -0.952750   \nJBMA.NS          0.112231   -0.479034   -2.530545    2.647200    1.725352   \nALKYLAMINE.NS   -0.509303    0.215503    1.704963   -2.296957    0.049609   \nCASTROLIND.NS    0.837135    3.193720   -1.393907   -3.918655    2.283105   \nIDEA.NS          2.572345    5.782316    1.730104   -6.774195    4.729728   \n...                   ...         ...         ...         ...         ...   \nCHOLAFIN.NS     -0.062207   -1.445213    3.644855   -1.848882   -0.983714   \nEICHERMOT.NS     0.384463    1.228532   -0.455858    0.804492    0.883826   \nSONATSOFTW.NS    4.567679   -0.441941   -0.401884   -1.619182   -0.194173   \nSAFARI.NS       -0.896357    0.562471    0.716605   -1.106103   -0.654092   \nBBTC.NS          0.849157   -3.553597    7.621721   -3.487158   -1.432876   \n\nDate           2024-02-08  2024-02-07  2024-02-06  2024-02-05  2024-02-02  \\\nGSFC.NS         -4.191505   -5.824564    4.281015   -3.953611   -1.437487   \nJBMA.NS         -1.153614   -1.274497    2.802912    1.247013   -0.983230   \nALKYLAMINE.NS   -1.163536   -0.888108    1.897704   -3.792251   -2.312451   \nCASTROLIND.NS   -0.630199   -2.049380    2.221097   -0.151204    4.668948   \nIDEA.NS         -1.333332    5.263158    3.636364   -2.135233   -0.706710   \n...                   ...         ...         ...         ...         ...   \nCHOLAFIN.NS     -2.271952    0.237673    1.821628   -2.110523    1.379846   \nEICHERMOT.NS    -3.064170   -0.429706    1.404906    1.683415   -2.736955   \nSONATSOFTW.NS   -0.875449   -2.180384    1.855861    5.186098    0.490420   \nSAFARI.NS        2.802158    0.853243   -0.103465    0.143087    0.383853   \nBBTC.NS         -1.859941    3.506109    3.333638   -2.806505   -0.492651   \n\nDate           ...  2018-02-02  2018-02-01  2018-01-31  2018-01-30  \\\nGSFC.NS        ...   -7.851534   -3.178985   -0.241300   -0.888284   \nJBMA.NS        ...   -4.716497    0.050736    0.203381   -2.120041   \nALKYLAMINE.NS  ...   -3.045874   -1.909022   -4.493690   -2.109878   \nCASTROLIND.NS  ...   -2.204083   -0.889964    0.678794   -0.674218   \nIDEA.NS        ...   -3.285870   -1.933402   -0.957452    0.427351   \n...            ...         ...         ...         ...         ...   \nCHOLAFIN.NS    ...   -4.513780    3.790677   -0.128142   -1.679772   \nEICHERMOT.NS   ...   -0.840010    4.173847    0.877508   -2.783785   \nSONATSOFTW.NS  ...   -7.154882   -1.476196   -1.131523    0.577272   \nSAFARI.NS      ...         NaN         NaN         NaN         NaN   \nBBTC.NS        ...   -9.453039    1.407198   -1.623281   -4.052185   \n\nDate           2018-01-29  2018-01-25  2018-01-24  2018-01-23  2018-01-22  \\\nGSFC.NS         -1.811471   -3.119924   -0.645786   -0.128989    1.672133   \nJBMA.NS          0.169490   -1.279523   -0.470223    0.068620    0.000000   \nALKYLAMINE.NS   -1.823869   -1.305046    3.362348    5.934118   -0.920636   \nCASTROLIND.NS    1.366867   -2.192517   -0.979617    0.505595    0.079890   \nIDEA.NS         -1.577287    1.277958   -5.485659   -0.150756   -2.737047   \n...                   ...         ...         ...         ...         ...   \nCHOLAFIN.NS      0.168261    0.118687   -0.377599    0.137493   -1.028200   \nEICHERMOT.NS     3.522895    0.436861   -2.464606   -2.092420   -1.284034   \nSONATSOFTW.NS    1.320191   -4.439478    0.594376   -0.016064    2.468729   \nSAFARI.NS             NaN         NaN         NaN         NaN         NaN   \nBBTC.NS         -1.719565   -2.339429   -2.242674   -0.628654   -0.658863   \n\nDate           2018-01-19  \nGSFC.NS          1.463737  \nJBMA.NS         -0.244475  \nALKYLAMINE.NS    1.164192  \nCASTROLIND.NS    0.697240  \nIDEA.NS          1.186946  \n...                   ...  \nCHOLAFIN.NS      0.616155  \nEICHERMOT.NS     0.196932  \nSONATSOFTW.NS    4.344841  \nSAFARI.NS             NaN  \nBBTC.NS          1.370602  \n\n[501 rows x 1499 columns]",
      "text/html": "<div>\n<style scoped>\n    .dataframe tbody tr th:only-of-type {\n        vertical-align: middle;\n    }\n\n    .dataframe tbody tr th {\n        vertical-align: top;\n    }\n\n    .dataframe thead th {\n        text-align: right;\n    }\n</style>\n<table border=\"1\" class=\"dataframe\">\n  <thead>\n    <tr style=\"text-align: right;\">\n      <th>Date</th>\n      <th>2024-02-15</th>\n      <th>2024-02-14</th>\n      <th>2024-02-13</th>\n      <th>2024-02-12</th>\n      <th>2024-02-09</th>\n      <th>2024-02-08</th>\n      <th>2024-02-07</th>\n      <th>2024-02-06</th>\n      <th>2024-02-05</th>\n      <th>2024-02-02</th>\n      <th>...</th>\n      <th>2018-02-02</th>\n      <th>2018-02-01</th>\n      <th>2018-01-31</th>\n      <th>2018-01-30</th>\n      <th>2018-01-29</th>\n      <th>2018-01-25</th>\n      <th>2018-01-24</th>\n      <th>2018-01-23</th>\n      <th>2018-01-22</th>\n      <th>2018-01-19</th>\n    </tr>\n  </thead>\n  <tbody>\n    <tr>\n      <th>GSFC.NS</th>\n      <td>1.749951</td>\n      <td>1.389483</td>\n      <td>1.343150</td>\n      <td>-9.383586</td>\n      <td>-0.952750</td>\n      <td>-4.191505</td>\n      <td>-5.824564</td>\n      <td>4.281015</td>\n      <td>-3.953611</td>\n      <td>-1.437487</td>\n      <td>...</td>\n      <td>-7.851534</td>\n      <td>-3.178985</td>\n      <td>-0.241300</td>\n      <td>-0.888284</td>\n      <td>-1.811471</td>\n      <td>-3.119924</td>\n      <td>-0.645786</td>\n      <td>-0.128989</td>\n      <td>1.672133</td>\n      <td>1.463737</td>\n    </tr>\n    <tr>\n      <th>JBMA.NS</th>\n      <td>0.112231</td>\n      <td>-0.479034</td>\n      <td>-2.530545</td>\n      <td>2.647200</td>\n      <td>1.725352</td>\n      <td>-1.153614</td>\n      <td>-1.274497</td>\n      <td>2.802912</td>\n      <td>1.247013</td>\n      <td>-0.983230</td>\n      <td>...</td>\n      <td>-4.716497</td>\n      <td>0.050736</td>\n      <td>0.203381</td>\n      <td>-2.120041</td>\n      <td>0.169490</td>\n      <td>-1.279523</td>\n      <td>-0.470223</td>\n      <td>0.068620</td>\n      <td>0.000000</td>\n      <td>-0.244475</td>\n    </tr>\n    <tr>\n      <th>ALKYLAMINE.NS</th>\n      <td>-0.509303</td>\n      <td>0.215503</td>\n      <td>1.704963</td>\n      <td>-2.296957</td>\n      <td>0.049609</td>\n      <td>-1.163536</td>\n      <td>-0.888108</td>\n      <td>1.897704</td>\n      <td>-3.792251</td>\n      <td>-2.312451</td>\n      <td>...</td>\n      <td>-3.045874</td>\n      <td>-1.909022</td>\n      <td>-4.493690</td>\n      <td>-2.109878</td>\n      <td>-1.823869</td>\n      <td>-1.305046</td>\n      <td>3.362348</td>\n      <td>5.934118</td>\n      <td>-0.920636</td>\n      <td>1.164192</td>\n    </tr>\n    <tr>\n      <th>CASTROLIND.NS</th>\n      <td>0.837135</td>\n      <td>3.193720</td>\n      <td>-1.393907</td>\n      <td>-3.918655</td>\n      <td>2.283105</td>\n      <td>-0.630199</td>\n      <td>-2.049380</td>\n      <td>2.221097</td>\n      <td>-0.151204</td>\n      <td>4.668948</td>\n      <td>...</td>\n      <td>-2.204083</td>\n      <td>-0.889964</td>\n      <td>0.678794</td>\n      <td>-0.674218</td>\n      <td>1.366867</td>\n      <td>-2.192517</td>\n      <td>-0.979617</td>\n      <td>0.505595</td>\n      <td>0.079890</td>\n      <td>0.697240</td>\n    </tr>\n    <tr>\n      <th>IDEA.NS</th>\n      <td>2.572345</td>\n      <td>5.782316</td>\n      <td>1.730104</td>\n      <td>-6.774195</td>\n      <td>4.729728</td>\n      <td>-1.333332</td>\n      <td>5.263158</td>\n      <td>3.636364</td>\n      <td>-2.135233</td>\n      <td>-0.706710</td>\n      <td>...</td>\n      <td>-3.285870</td>\n      <td>-1.933402</td>\n      <td>-0.957452</td>\n      <td>0.427351</td>\n      <td>-1.577287</td>\n      <td>1.277958</td>\n      <td>-5.485659</td>\n      <td>-0.150756</td>\n      <td>-2.737047</td>\n      <td>1.186946</td>\n    </tr>\n    <tr>\n      <th>...</th>\n      <td>...</td>\n      <td>...</td>\n      <td>...</td>\n      <td>...</td>\n      <td>...</td>\n      <td>...</td>\n      <td>...</td>\n      <td>...</td>\n      <td>...</td>\n      <td>...</td>\n      <td>...</td>\n      <td>...</td>\n      <td>...</td>\n      <td>...</td>\n      <td>...</td>\n      <td>...</td>\n      <td>...</td>\n      <td>...</td>\n      <td>...</td>\n      <td>...</td>\n      <td>...</td>\n    </tr>\n    <tr>\n      <th>CHOLAFIN.NS</th>\n      <td>-0.062207</td>\n      <td>-1.445213</td>\n      <td>3.644855</td>\n      <td>-1.848882</td>\n      <td>-0.983714</td>\n      <td>-2.271952</td>\n      <td>0.237673</td>\n      <td>1.821628</td>\n      <td>-2.110523</td>\n      <td>1.379846</td>\n      <td>...</td>\n      <td>-4.513780</td>\n      <td>3.790677</td>\n      <td>-0.128142</td>\n      <td>-1.679772</td>\n      <td>0.168261</td>\n      <td>0.118687</td>\n      <td>-0.377599</td>\n      <td>0.137493</td>\n      <td>-1.028200</td>\n      <td>0.616155</td>\n    </tr>\n    <tr>\n      <th>EICHERMOT.NS</th>\n      <td>0.384463</td>\n      <td>1.228532</td>\n      <td>-0.455858</td>\n      <td>0.804492</td>\n      <td>0.883826</td>\n      <td>-3.064170</td>\n      <td>-0.429706</td>\n      <td>1.404906</td>\n      <td>1.683415</td>\n      <td>-2.736955</td>\n      <td>...</td>\n      <td>-0.840010</td>\n      <td>4.173847</td>\n      <td>0.877508</td>\n      <td>-2.783785</td>\n      <td>3.522895</td>\n      <td>0.436861</td>\n      <td>-2.464606</td>\n      <td>-2.092420</td>\n      <td>-1.284034</td>\n      <td>0.196932</td>\n    </tr>\n    <tr>\n      <th>SONATSOFTW.NS</th>\n      <td>4.567679</td>\n      <td>-0.441941</td>\n      <td>-0.401884</td>\n      <td>-1.619182</td>\n      <td>-0.194173</td>\n      <td>-0.875449</td>\n      <td>-2.180384</td>\n      <td>1.855861</td>\n      <td>5.186098</td>\n      <td>0.490420</td>\n      <td>...</td>\n      <td>-7.154882</td>\n      <td>-1.476196</td>\n      <td>-1.131523</td>\n      <td>0.577272</td>\n      <td>1.320191</td>\n      <td>-4.439478</td>\n      <td>0.594376</td>\n      <td>-0.016064</td>\n      <td>2.468729</td>\n      <td>4.344841</td>\n    </tr>\n    <tr>\n      <th>SAFARI.NS</th>\n      <td>-0.896357</td>\n      <td>0.562471</td>\n      <td>0.716605</td>\n      <td>-1.106103</td>\n      <td>-0.654092</td>\n      <td>2.802158</td>\n      <td>0.853243</td>\n      <td>-0.103465</td>\n      <td>0.143087</td>\n      <td>0.383853</td>\n      <td>...</td>\n      <td>NaN</td>\n      <td>NaN</td>\n      <td>NaN</td>\n      <td>NaN</td>\n      <td>NaN</td>\n      <td>NaN</td>\n      <td>NaN</td>\n      <td>NaN</td>\n      <td>NaN</td>\n      <td>NaN</td>\n    </tr>\n    <tr>\n      <th>BBTC.NS</th>\n      <td>0.849157</td>\n      <td>-3.553597</td>\n      <td>7.621721</td>\n      <td>-3.487158</td>\n      <td>-1.432876</td>\n      <td>-1.859941</td>\n      <td>3.506109</td>\n      <td>3.333638</td>\n      <td>-2.806505</td>\n      <td>-0.492651</td>\n      <td>...</td>\n      <td>-9.453039</td>\n      <td>1.407198</td>\n      <td>-1.623281</td>\n      <td>-4.052185</td>\n      <td>-1.719565</td>\n      <td>-2.339429</td>\n      <td>-2.242674</td>\n      <td>-0.628654</td>\n      <td>-0.658863</td>\n      <td>1.370602</td>\n    </tr>\n  </tbody>\n</table>\n<p>501 rows × 1499 columns</p>\n</div>"
     },
     "execution_count": 18,
     "metadata": {},
     "output_type": "execute_result"
    }
   ],
   "source": [
    "df5"
   ],
   "metadata": {
    "collapsed": false,
    "pycharm": {
     "name": "#%%\n"
    }
   }
  },
  {
   "cell_type": "code",
   "execution_count": 22,
   "outputs": [
    {
     "data": {
      "text/plain": "Date           2024-02-15  2024-02-14  2024-02-13  2024-02-12  2024-02-09  \\\nGRANULES.NS      0.949405    0.558853    1.729248    0.703717   -1.861169   \nZYDUSLIFE.NS     1.284861    1.165773    0.134240    6.409544    0.374042   \nAFFLE.NS         3.981011    0.167256    1.796680    0.152565   -3.649094   \nUPL.NS           1.235981    0.480064    4.515710    0.098260   -1.484348   \nWIPRO.NS         0.777454    0.566848    2.024129    2.242838    0.327300   \nMRF.NS           0.831957    1.837199    0.573463    4.901694   -3.789748   \nASIANPAINT.NS    1.348950    0.161523    0.602615    0.072846    0.752656   \nBAJAJ-AUTO.NS    0.491755    2.095384    1.116862    0.579332    0.355797   \nTRENT.NS         0.807190    1.811100    1.294037    1.130454   -2.144742   \n\nDate           2024-02-08  2024-02-07  2024-02-06  2024-02-05  2024-02-02  \\\nGRANULES.NS     -1.883545    1.657912    0.175439    1.785714    1.892282   \nZYDUSLIFE.NS     1.320113   -0.727370    4.796951   -0.032845    0.210656   \nAFFLE.NS        -2.285598   -0.063331   -0.899582   -2.892896    1.350686   \nUPL.NS          -2.710335   -0.840514    1.656119  -11.177742    0.679188   \nWIPRO.NS        -1.282311   -0.890620    3.586605   -0.165578    2.503445   \nMRF.NS          -0.359241   -0.272622    1.229796    0.499430   -1.078030   \nASIANPAINT.NS   -1.729192    1.712754    0.466171   -0.645368    0.237252   \nBAJAJ-AUTO.NS    0.718655   -0.239625    0.811542   -1.033189    1.076971   \nTRENT.NS         6.498959   18.863262    0.259323   -3.163742    0.749323   \n\nDate           ...  2018-02-02  2018-02-01  2018-01-31  2018-01-30  \\\nGRANULES.NS    ...   -4.900039   -3.553873   -0.339108   -1.667284   \nZYDUSLIFE.NS   ...   -1.628155   -1.914043    0.117564    1.310148   \nAFFLE.NS       ...         NaN         NaN         NaN         NaN   \nUPL.NS         ...   -3.399878    0.904194   -2.426204   -2.251117   \nWIPRO.NS       ...   -0.049877   -1.296354   -0.846077   -1.237350   \nMRF.NS         ...   -3.507060    5.378236   -0.217099    2.024903   \nASIANPAINT.NS  ...   -1.309625    2.189130    0.142016   -2.200434   \nBAJAJ-AUTO.NS  ...   -5.029371    2.271401   -0.629787   -0.166469   \nTRENT.NS       ...   -0.379982   -0.707436    0.952230   -2.912176   \n\nDate           2018-01-29  2018-01-25  2018-01-24  2018-01-23  2018-01-22  \\\nGRANULES.NS     -1.388388   -2.249996    0.755670    0.108065    2.359880   \nZYDUSLIFE.NS     0.394594   -1.553857   -1.438685   -1.777775   -0.634127   \nAFFLE.NS              NaN         NaN         NaN         NaN         NaN   \nUPL.NS           2.542426   -6.709124    2.105911   -0.780483    1.402131   \nWIPRO.NS        -0.256447   -0.637044   -0.412374   -1.959262   -2.249577   \nMRF.NS          -0.942943   -1.960754   -1.481757    0.363686    0.753798   \nASIANPAINT.NS    0.139085   -0.052135   -1.611247   -0.518705   -1.168167   \nBAJAJ-AUTO.NS    1.576228   -0.893301    1.383519    0.655060    1.996639   \nTRENT.NS         0.077101   -0.613027   -0.137745    0.000000   -1.284182   \n\nDate           2018-01-19  \nGRANULES.NS     -0.184026  \nZYDUSLIFE.NS     0.902647  \nAFFLE.NS              NaN  \nUPL.NS           0.231106  \nWIPRO.NS         1.106499  \nMRF.NS           0.510936  \nASIANPAINT.NS    0.138862  \nBAJAJ-AUTO.NS    0.287391  \nTRENT.NS        -0.060390  \n\n[9 rows x 1499 columns]",
      "text/html": "<div>\n<style scoped>\n    .dataframe tbody tr th:only-of-type {\n        vertical-align: middle;\n    }\n\n    .dataframe tbody tr th {\n        vertical-align: top;\n    }\n\n    .dataframe thead th {\n        text-align: right;\n    }\n</style>\n<table border=\"1\" class=\"dataframe\">\n  <thead>\n    <tr style=\"text-align: right;\">\n      <th>Date</th>\n      <th>2024-02-15</th>\n      <th>2024-02-14</th>\n      <th>2024-02-13</th>\n      <th>2024-02-12</th>\n      <th>2024-02-09</th>\n      <th>2024-02-08</th>\n      <th>2024-02-07</th>\n      <th>2024-02-06</th>\n      <th>2024-02-05</th>\n      <th>2024-02-02</th>\n      <th>...</th>\n      <th>2018-02-02</th>\n      <th>2018-02-01</th>\n      <th>2018-01-31</th>\n      <th>2018-01-30</th>\n      <th>2018-01-29</th>\n      <th>2018-01-25</th>\n      <th>2018-01-24</th>\n      <th>2018-01-23</th>\n      <th>2018-01-22</th>\n      <th>2018-01-19</th>\n    </tr>\n  </thead>\n  <tbody>\n    <tr>\n      <th>GRANULES.NS</th>\n      <td>0.949405</td>\n      <td>0.558853</td>\n      <td>1.729248</td>\n      <td>0.703717</td>\n      <td>-1.861169</td>\n      <td>-1.883545</td>\n      <td>1.657912</td>\n      <td>0.175439</td>\n      <td>1.785714</td>\n      <td>1.892282</td>\n      <td>...</td>\n      <td>-4.900039</td>\n      <td>-3.553873</td>\n      <td>-0.339108</td>\n      <td>-1.667284</td>\n      <td>-1.388388</td>\n      <td>-2.249996</td>\n      <td>0.755670</td>\n      <td>0.108065</td>\n      <td>2.359880</td>\n      <td>-0.184026</td>\n    </tr>\n    <tr>\n      <th>ZYDUSLIFE.NS</th>\n      <td>1.284861</td>\n      <td>1.165773</td>\n      <td>0.134240</td>\n      <td>6.409544</td>\n      <td>0.374042</td>\n      <td>1.320113</td>\n      <td>-0.727370</td>\n      <td>4.796951</td>\n      <td>-0.032845</td>\n      <td>0.210656</td>\n      <td>...</td>\n      <td>-1.628155</td>\n      <td>-1.914043</td>\n      <td>0.117564</td>\n      <td>1.310148</td>\n      <td>0.394594</td>\n      <td>-1.553857</td>\n      <td>-1.438685</td>\n      <td>-1.777775</td>\n      <td>-0.634127</td>\n      <td>0.902647</td>\n    </tr>\n    <tr>\n      <th>AFFLE.NS</th>\n      <td>3.981011</td>\n      <td>0.167256</td>\n      <td>1.796680</td>\n      <td>0.152565</td>\n      <td>-3.649094</td>\n      <td>-2.285598</td>\n      <td>-0.063331</td>\n      <td>-0.899582</td>\n      <td>-2.892896</td>\n      <td>1.350686</td>\n      <td>...</td>\n      <td>NaN</td>\n      <td>NaN</td>\n      <td>NaN</td>\n      <td>NaN</td>\n      <td>NaN</td>\n      <td>NaN</td>\n      <td>NaN</td>\n      <td>NaN</td>\n      <td>NaN</td>\n      <td>NaN</td>\n    </tr>\n    <tr>\n      <th>UPL.NS</th>\n      <td>1.235981</td>\n      <td>0.480064</td>\n      <td>4.515710</td>\n      <td>0.098260</td>\n      <td>-1.484348</td>\n      <td>-2.710335</td>\n      <td>-0.840514</td>\n      <td>1.656119</td>\n      <td>-11.177742</td>\n      <td>0.679188</td>\n      <td>...</td>\n      <td>-3.399878</td>\n      <td>0.904194</td>\n      <td>-2.426204</td>\n      <td>-2.251117</td>\n      <td>2.542426</td>\n      <td>-6.709124</td>\n      <td>2.105911</td>\n      <td>-0.780483</td>\n      <td>1.402131</td>\n      <td>0.231106</td>\n    </tr>\n    <tr>\n      <th>WIPRO.NS</th>\n      <td>0.777454</td>\n      <td>0.566848</td>\n      <td>2.024129</td>\n      <td>2.242838</td>\n      <td>0.327300</td>\n      <td>-1.282311</td>\n      <td>-0.890620</td>\n      <td>3.586605</td>\n      <td>-0.165578</td>\n      <td>2.503445</td>\n      <td>...</td>\n      <td>-0.049877</td>\n      <td>-1.296354</td>\n      <td>-0.846077</td>\n      <td>-1.237350</td>\n      <td>-0.256447</td>\n      <td>-0.637044</td>\n      <td>-0.412374</td>\n      <td>-1.959262</td>\n      <td>-2.249577</td>\n      <td>1.106499</td>\n    </tr>\n    <tr>\n      <th>MRF.NS</th>\n      <td>0.831957</td>\n      <td>1.837199</td>\n      <td>0.573463</td>\n      <td>4.901694</td>\n      <td>-3.789748</td>\n      <td>-0.359241</td>\n      <td>-0.272622</td>\n      <td>1.229796</td>\n      <td>0.499430</td>\n      <td>-1.078030</td>\n      <td>...</td>\n      <td>-3.507060</td>\n      <td>5.378236</td>\n      <td>-0.217099</td>\n      <td>2.024903</td>\n      <td>-0.942943</td>\n      <td>-1.960754</td>\n      <td>-1.481757</td>\n      <td>0.363686</td>\n      <td>0.753798</td>\n      <td>0.510936</td>\n    </tr>\n    <tr>\n      <th>ASIANPAINT.NS</th>\n      <td>1.348950</td>\n      <td>0.161523</td>\n      <td>0.602615</td>\n      <td>0.072846</td>\n      <td>0.752656</td>\n      <td>-1.729192</td>\n      <td>1.712754</td>\n      <td>0.466171</td>\n      <td>-0.645368</td>\n      <td>0.237252</td>\n      <td>...</td>\n      <td>-1.309625</td>\n      <td>2.189130</td>\n      <td>0.142016</td>\n      <td>-2.200434</td>\n      <td>0.139085</td>\n      <td>-0.052135</td>\n      <td>-1.611247</td>\n      <td>-0.518705</td>\n      <td>-1.168167</td>\n      <td>0.138862</td>\n    </tr>\n    <tr>\n      <th>BAJAJ-AUTO.NS</th>\n      <td>0.491755</td>\n      <td>2.095384</td>\n      <td>1.116862</td>\n      <td>0.579332</td>\n      <td>0.355797</td>\n      <td>0.718655</td>\n      <td>-0.239625</td>\n      <td>0.811542</td>\n      <td>-1.033189</td>\n      <td>1.076971</td>\n      <td>...</td>\n      <td>-5.029371</td>\n      <td>2.271401</td>\n      <td>-0.629787</td>\n      <td>-0.166469</td>\n      <td>1.576228</td>\n      <td>-0.893301</td>\n      <td>1.383519</td>\n      <td>0.655060</td>\n      <td>1.996639</td>\n      <td>0.287391</td>\n    </tr>\n    <tr>\n      <th>TRENT.NS</th>\n      <td>0.807190</td>\n      <td>1.811100</td>\n      <td>1.294037</td>\n      <td>1.130454</td>\n      <td>-2.144742</td>\n      <td>6.498959</td>\n      <td>18.863262</td>\n      <td>0.259323</td>\n      <td>-3.163742</td>\n      <td>0.749323</td>\n      <td>...</td>\n      <td>-0.379982</td>\n      <td>-0.707436</td>\n      <td>0.952230</td>\n      <td>-2.912176</td>\n      <td>0.077101</td>\n      <td>-0.613027</td>\n      <td>-0.137745</td>\n      <td>0.000000</td>\n      <td>-1.284182</td>\n      <td>-0.060390</td>\n    </tr>\n  </tbody>\n</table>\n<p>9 rows × 1499 columns</p>\n</div>"
     },
     "execution_count": 22,
     "metadata": {},
     "output_type": "execute_result"
    }
   ],
   "source": [
    "df5[(df5[\"2024-02-15\"]>0) & (df5[\"2024-02-14\"]>0) & (df5[\"2024-02-13\"]>0) & (df5[\"2024-02-12\"]>0)]"
   ],
   "metadata": {
    "collapsed": false,
    "pycharm": {
     "name": "#%%\n"
    }
   }
  },
  {
   "cell_type": "code",
   "execution_count": 26,
   "outputs": [],
   "source": [
    "df10=df5.copy()"
   ],
   "metadata": {
    "collapsed": false,
    "pycharm": {
     "name": "#%%\n"
    }
   }
  },
  {
   "cell_type": "code",
   "execution_count": 28,
   "outputs": [],
   "source": [
    "df10=df10.T"
   ],
   "metadata": {
    "collapsed": false,
    "pycharm": {
     "name": "#%%\n"
    }
   }
  },
  {
   "cell_type": "code",
   "execution_count": 30,
   "outputs": [],
   "source": [
    "columname=df10.columns"
   ],
   "metadata": {
    "collapsed": false,
    "pycharm": {
     "name": "#%%\n"
    }
   }
  },
  {
   "cell_type": "code",
   "execution_count": 33,
   "outputs": [
    {
     "data": {
      "text/plain": "             GSFC.NS   JBMA.NS  ALKYLAMINE.NS  CASTROLIND.NS   IDEA.NS  \\\nDate                                                                     \n2024-02-15  1.749951  0.112231      -0.509303       0.837135  2.572345   \n2024-02-14  1.389483 -0.479034       0.215503       3.193720  5.782316   \n2024-02-13  1.343150 -2.530545       1.704963      -1.393907  1.730104   \n2024-02-12 -9.383586  2.647200      -2.296957      -3.918655 -6.774195   \n2024-02-09 -0.952750  1.725352       0.049609       2.283105  4.729728   \n...              ...       ...            ...            ...       ...   \n2018-01-25 -3.119924 -1.279523      -1.305046      -2.192517  1.277958   \n2018-01-24 -0.645786 -0.470223       3.362348      -0.979617 -5.485659   \n2018-01-23 -0.128989  0.068620       5.934118       0.505595 -0.150756   \n2018-01-22  1.672133  0.000000      -0.920636       0.079890 -2.737047   \n2018-01-19  1.463737 -0.244475       1.164192       0.697240  1.186946   \n\n            SPARC.NS  ENGINERSIN.NS  JUBLPHARMA.NS   GNFC.NS  GUJGASLTD.NS  \\\nDate                                                                         \n2024-02-15  3.086145       0.325277       4.539615  1.232369      3.769536   \n2024-02-14 -3.527586       4.238314       0.481967  0.710325     -0.347163   \n2024-02-13  3.854043       2.482005      -0.904049 -0.605171      0.223035   \n2024-02-12 -4.785822     -11.020317       4.538162 -4.056871     -3.851434   \n2024-02-09  0.617721      -5.882357      -1.700265 -1.948759     -2.938967   \n...              ...            ...            ...       ...           ...   \n2018-01-25 -0.300090      -0.344238      -0.666145 -2.056279     -1.777928   \n2018-01-24  0.705148      -1.636565       1.856106 -2.080923     -0.254149   \n2018-01-23 -1.066376       0.056460       0.473268  1.426615      0.917641   \n2018-01-22  0.976151      -1.910826       0.852322  3.321557      1.211417   \n2018-01-19  0.394021       1.290324      -2.075458  0.527759     -1.202554   \n\n            ...  METROBRAND.NS  360ONE.NS  GOCOLORS.NS  CHEMPLASTS.NS  \\\nDate        ...                                                         \n2024-02-15  ...      -1.453255   0.812319     0.609474      -0.485118   \n2024-02-14  ...       0.633886   2.334822    -0.472716       1.636035   \n2024-02-13  ...       0.372668   6.702663     3.844650      -2.469943   \n2024-02-12  ...       0.004538  -0.924650    -2.163386      -2.535150   \n2024-02-09  ...      -0.312609  -0.281953     3.156787      -0.666595   \n...         ...            ...        ...          ...            ...   \n2018-01-25  ...            NaN        NaN          NaN            NaN   \n2018-01-24  ...            NaN        NaN          NaN            NaN   \n2018-01-23  ...            NaN        NaN          NaN            NaN   \n2018-01-22  ...            NaN        NaN          NaN            NaN   \n2018-01-19  ...            NaN        NaN          NaN            NaN   \n\n            BSOFT.NS  CHOLAFIN.NS  EICHERMOT.NS  SONATSOFTW.NS  SAFARI.NS  \\\nDate                                                                        \n2024-02-15  1.259370    -0.062207      0.384463       4.567679  -0.896357   \n2024-02-14 -1.114870    -1.445213      1.228532      -0.441941   0.562471   \n2024-02-13  2.268180     3.644855     -0.455858      -0.401884   0.716605   \n2024-02-12 -1.073916    -1.848882      0.804492      -1.619182  -1.106103   \n2024-02-09 -0.537057    -0.983714      0.883826      -0.194173  -0.654092   \n...              ...          ...           ...            ...        ...   \n2018-01-25  0.570759     0.118687      0.436861      -4.439478        NaN   \n2018-01-24  3.342338    -0.377599     -2.464606       0.594376        NaN   \n2018-01-23  1.750438     0.137493     -2.092420      -0.016064        NaN   \n2018-01-22  1.678107    -1.028200     -1.284034       2.468729        NaN   \n2018-01-19  2.262093     0.616155      0.196932       4.344841        NaN   \n\n             BBTC.NS  \nDate                  \n2024-02-15  0.849157  \n2024-02-14 -3.553597  \n2024-02-13  7.621721  \n2024-02-12 -3.487158  \n2024-02-09 -1.432876  \n...              ...  \n2018-01-25 -2.339429  \n2018-01-24 -2.242674  \n2018-01-23 -0.628654  \n2018-01-22 -0.658863  \n2018-01-19  1.370602  \n\n[1499 rows x 501 columns]",
      "text/html": "<div>\n<style scoped>\n    .dataframe tbody tr th:only-of-type {\n        vertical-align: middle;\n    }\n\n    .dataframe tbody tr th {\n        vertical-align: top;\n    }\n\n    .dataframe thead th {\n        text-align: right;\n    }\n</style>\n<table border=\"1\" class=\"dataframe\">\n  <thead>\n    <tr style=\"text-align: right;\">\n      <th></th>\n      <th>GSFC.NS</th>\n      <th>JBMA.NS</th>\n      <th>ALKYLAMINE.NS</th>\n      <th>CASTROLIND.NS</th>\n      <th>IDEA.NS</th>\n      <th>SPARC.NS</th>\n      <th>ENGINERSIN.NS</th>\n      <th>JUBLPHARMA.NS</th>\n      <th>GNFC.NS</th>\n      <th>GUJGASLTD.NS</th>\n      <th>...</th>\n      <th>METROBRAND.NS</th>\n      <th>360ONE.NS</th>\n      <th>GOCOLORS.NS</th>\n      <th>CHEMPLASTS.NS</th>\n      <th>BSOFT.NS</th>\n      <th>CHOLAFIN.NS</th>\n      <th>EICHERMOT.NS</th>\n      <th>SONATSOFTW.NS</th>\n      <th>SAFARI.NS</th>\n      <th>BBTC.NS</th>\n    </tr>\n    <tr>\n      <th>Date</th>\n      <th></th>\n      <th></th>\n      <th></th>\n      <th></th>\n      <th></th>\n      <th></th>\n      <th></th>\n      <th></th>\n      <th></th>\n      <th></th>\n      <th></th>\n      <th></th>\n      <th></th>\n      <th></th>\n      <th></th>\n      <th></th>\n      <th></th>\n      <th></th>\n      <th></th>\n      <th></th>\n      <th></th>\n    </tr>\n  </thead>\n  <tbody>\n    <tr>\n      <th>2024-02-15</th>\n      <td>1.749951</td>\n      <td>0.112231</td>\n      <td>-0.509303</td>\n      <td>0.837135</td>\n      <td>2.572345</td>\n      <td>3.086145</td>\n      <td>0.325277</td>\n      <td>4.539615</td>\n      <td>1.232369</td>\n      <td>3.769536</td>\n      <td>...</td>\n      <td>-1.453255</td>\n      <td>0.812319</td>\n      <td>0.609474</td>\n      <td>-0.485118</td>\n      <td>1.259370</td>\n      <td>-0.062207</td>\n      <td>0.384463</td>\n      <td>4.567679</td>\n      <td>-0.896357</td>\n      <td>0.849157</td>\n    </tr>\n    <tr>\n      <th>2024-02-14</th>\n      <td>1.389483</td>\n      <td>-0.479034</td>\n      <td>0.215503</td>\n      <td>3.193720</td>\n      <td>5.782316</td>\n      <td>-3.527586</td>\n      <td>4.238314</td>\n      <td>0.481967</td>\n      <td>0.710325</td>\n      <td>-0.347163</td>\n      <td>...</td>\n      <td>0.633886</td>\n      <td>2.334822</td>\n      <td>-0.472716</td>\n      <td>1.636035</td>\n      <td>-1.114870</td>\n      <td>-1.445213</td>\n      <td>1.228532</td>\n      <td>-0.441941</td>\n      <td>0.562471</td>\n      <td>-3.553597</td>\n    </tr>\n    <tr>\n      <th>2024-02-13</th>\n      <td>1.343150</td>\n      <td>-2.530545</td>\n      <td>1.704963</td>\n      <td>-1.393907</td>\n      <td>1.730104</td>\n      <td>3.854043</td>\n      <td>2.482005</td>\n      <td>-0.904049</td>\n      <td>-0.605171</td>\n      <td>0.223035</td>\n      <td>...</td>\n      <td>0.372668</td>\n      <td>6.702663</td>\n      <td>3.844650</td>\n      <td>-2.469943</td>\n      <td>2.268180</td>\n      <td>3.644855</td>\n      <td>-0.455858</td>\n      <td>-0.401884</td>\n      <td>0.716605</td>\n      <td>7.621721</td>\n    </tr>\n    <tr>\n      <th>2024-02-12</th>\n      <td>-9.383586</td>\n      <td>2.647200</td>\n      <td>-2.296957</td>\n      <td>-3.918655</td>\n      <td>-6.774195</td>\n      <td>-4.785822</td>\n      <td>-11.020317</td>\n      <td>4.538162</td>\n      <td>-4.056871</td>\n      <td>-3.851434</td>\n      <td>...</td>\n      <td>0.004538</td>\n      <td>-0.924650</td>\n      <td>-2.163386</td>\n      <td>-2.535150</td>\n      <td>-1.073916</td>\n      <td>-1.848882</td>\n      <td>0.804492</td>\n      <td>-1.619182</td>\n      <td>-1.106103</td>\n      <td>-3.487158</td>\n    </tr>\n    <tr>\n      <th>2024-02-09</th>\n      <td>-0.952750</td>\n      <td>1.725352</td>\n      <td>0.049609</td>\n      <td>2.283105</td>\n      <td>4.729728</td>\n      <td>0.617721</td>\n      <td>-5.882357</td>\n      <td>-1.700265</td>\n      <td>-1.948759</td>\n      <td>-2.938967</td>\n      <td>...</td>\n      <td>-0.312609</td>\n      <td>-0.281953</td>\n      <td>3.156787</td>\n      <td>-0.666595</td>\n      <td>-0.537057</td>\n      <td>-0.983714</td>\n      <td>0.883826</td>\n      <td>-0.194173</td>\n      <td>-0.654092</td>\n      <td>-1.432876</td>\n    </tr>\n    <tr>\n      <th>...</th>\n      <td>...</td>\n      <td>...</td>\n      <td>...</td>\n      <td>...</td>\n      <td>...</td>\n      <td>...</td>\n      <td>...</td>\n      <td>...</td>\n      <td>...</td>\n      <td>...</td>\n      <td>...</td>\n      <td>...</td>\n      <td>...</td>\n      <td>...</td>\n      <td>...</td>\n      <td>...</td>\n      <td>...</td>\n      <td>...</td>\n      <td>...</td>\n      <td>...</td>\n      <td>...</td>\n    </tr>\n    <tr>\n      <th>2018-01-25</th>\n      <td>-3.119924</td>\n      <td>-1.279523</td>\n      <td>-1.305046</td>\n      <td>-2.192517</td>\n      <td>1.277958</td>\n      <td>-0.300090</td>\n      <td>-0.344238</td>\n      <td>-0.666145</td>\n      <td>-2.056279</td>\n      <td>-1.777928</td>\n      <td>...</td>\n      <td>NaN</td>\n      <td>NaN</td>\n      <td>NaN</td>\n      <td>NaN</td>\n      <td>0.570759</td>\n      <td>0.118687</td>\n      <td>0.436861</td>\n      <td>-4.439478</td>\n      <td>NaN</td>\n      <td>-2.339429</td>\n    </tr>\n    <tr>\n      <th>2018-01-24</th>\n      <td>-0.645786</td>\n      <td>-0.470223</td>\n      <td>3.362348</td>\n      <td>-0.979617</td>\n      <td>-5.485659</td>\n      <td>0.705148</td>\n      <td>-1.636565</td>\n      <td>1.856106</td>\n      <td>-2.080923</td>\n      <td>-0.254149</td>\n      <td>...</td>\n      <td>NaN</td>\n      <td>NaN</td>\n      <td>NaN</td>\n      <td>NaN</td>\n      <td>3.342338</td>\n      <td>-0.377599</td>\n      <td>-2.464606</td>\n      <td>0.594376</td>\n      <td>NaN</td>\n      <td>-2.242674</td>\n    </tr>\n    <tr>\n      <th>2018-01-23</th>\n      <td>-0.128989</td>\n      <td>0.068620</td>\n      <td>5.934118</td>\n      <td>0.505595</td>\n      <td>-0.150756</td>\n      <td>-1.066376</td>\n      <td>0.056460</td>\n      <td>0.473268</td>\n      <td>1.426615</td>\n      <td>0.917641</td>\n      <td>...</td>\n      <td>NaN</td>\n      <td>NaN</td>\n      <td>NaN</td>\n      <td>NaN</td>\n      <td>1.750438</td>\n      <td>0.137493</td>\n      <td>-2.092420</td>\n      <td>-0.016064</td>\n      <td>NaN</td>\n      <td>-0.628654</td>\n    </tr>\n    <tr>\n      <th>2018-01-22</th>\n      <td>1.672133</td>\n      <td>0.000000</td>\n      <td>-0.920636</td>\n      <td>0.079890</td>\n      <td>-2.737047</td>\n      <td>0.976151</td>\n      <td>-1.910826</td>\n      <td>0.852322</td>\n      <td>3.321557</td>\n      <td>1.211417</td>\n      <td>...</td>\n      <td>NaN</td>\n      <td>NaN</td>\n      <td>NaN</td>\n      <td>NaN</td>\n      <td>1.678107</td>\n      <td>-1.028200</td>\n      <td>-1.284034</td>\n      <td>2.468729</td>\n      <td>NaN</td>\n      <td>-0.658863</td>\n    </tr>\n    <tr>\n      <th>2018-01-19</th>\n      <td>1.463737</td>\n      <td>-0.244475</td>\n      <td>1.164192</td>\n      <td>0.697240</td>\n      <td>1.186946</td>\n      <td>0.394021</td>\n      <td>1.290324</td>\n      <td>-2.075458</td>\n      <td>0.527759</td>\n      <td>-1.202554</td>\n      <td>...</td>\n      <td>NaN</td>\n      <td>NaN</td>\n      <td>NaN</td>\n      <td>NaN</td>\n      <td>2.262093</td>\n      <td>0.616155</td>\n      <td>0.196932</td>\n      <td>4.344841</td>\n      <td>NaN</td>\n      <td>1.370602</td>\n    </tr>\n  </tbody>\n</table>\n<p>1499 rows × 501 columns</p>\n</div>"
     },
     "execution_count": 33,
     "metadata": {},
     "output_type": "execute_result"
    }
   ],
   "source": [
    "df10"
   ],
   "metadata": {
    "collapsed": false,
    "pycharm": {
     "name": "#%%\n"
    }
   }
  },
  {
   "cell_type": "code",
   "execution_count": 55,
   "outputs": [
    {
     "data": {
      "text/plain": "51"
     },
     "execution_count": 55,
     "metadata": {},
     "output_type": "execute_result"
    }
   ],
   "source": [
    "len(df10[(df10[\"GSFC.NS\"]>5)==True][\"GSFC.NS\"])"
   ],
   "metadata": {
    "collapsed": false,
    "pycharm": {
     "name": "#%%\n"
    }
   }
  },
  {
   "cell_type": "code",
   "execution_count": 83,
   "outputs": [
    {
     "data": {
      "text/plain": "           name  value\n0          GSFC      7\n1          JBMA     24\n2    ALKYLAMINE     11\n3    CASTROLIND      2\n4          IDEA     46\n..          ...    ...\n496    CHOLAFIN     10\n497   EICHERMOT      2\n498  SONATSOFTW      5\n499      SAFARI      4\n500        BBTC     11\n\n[501 rows x 2 columns]",
      "text/html": "<div>\n<style scoped>\n    .dataframe tbody tr th:only-of-type {\n        vertical-align: middle;\n    }\n\n    .dataframe tbody tr th {\n        vertical-align: top;\n    }\n\n    .dataframe thead th {\n        text-align: right;\n    }\n</style>\n<table border=\"1\" class=\"dataframe\">\n  <thead>\n    <tr style=\"text-align: right;\">\n      <th></th>\n      <th>name</th>\n      <th>value</th>\n    </tr>\n  </thead>\n  <tbody>\n    <tr>\n      <th>0</th>\n      <td>GSFC</td>\n      <td>7</td>\n    </tr>\n    <tr>\n      <th>1</th>\n      <td>JBMA</td>\n      <td>24</td>\n    </tr>\n    <tr>\n      <th>2</th>\n      <td>ALKYLAMINE</td>\n      <td>11</td>\n    </tr>\n    <tr>\n      <th>3</th>\n      <td>CASTROLIND</td>\n      <td>2</td>\n    </tr>\n    <tr>\n      <th>4</th>\n      <td>IDEA</td>\n      <td>46</td>\n    </tr>\n    <tr>\n      <th>...</th>\n      <td>...</td>\n      <td>...</td>\n    </tr>\n    <tr>\n      <th>496</th>\n      <td>CHOLAFIN</td>\n      <td>10</td>\n    </tr>\n    <tr>\n      <th>497</th>\n      <td>EICHERMOT</td>\n      <td>2</td>\n    </tr>\n    <tr>\n      <th>498</th>\n      <td>SONATSOFTW</td>\n      <td>5</td>\n    </tr>\n    <tr>\n      <th>499</th>\n      <td>SAFARI</td>\n      <td>4</td>\n    </tr>\n    <tr>\n      <th>500</th>\n      <td>BBTC</td>\n      <td>11</td>\n    </tr>\n  </tbody>\n</table>\n<p>501 rows × 2 columns</p>\n</div>"
     },
     "execution_count": 83,
     "metadata": {},
     "output_type": "execute_result"
    }
   ],
   "source": [
    "name=[]\n",
    "value=[]\n",
    "for i in columname:\n",
    "    name.append(i)\n",
    "    value.append(len(df10[(df10[i]>10)==True][i]))\n",
    "df89=pd.DataFrame({\"name\": name, \"value\": value})\n",
    "df89[\"name\"]=df89[\"name\"].str.split(\".\").str[0]\n",
    "df89"
   ],
   "metadata": {
    "collapsed": false,
    "pycharm": {
     "name": "#%%\n"
    }
   }
  },
  {
   "cell_type": "code",
   "execution_count": 80,
   "outputs": [
    {
     "data": {
      "text/plain": "           name  value\n0          GSFC      2\n1          JBMA      6\n2    ALKYLAMINE      6\n3    CASTROLIND      0\n4          IDEA     20\n..          ...    ...\n496    CHOLAFIN      1\n497   EICHERMOT      0\n498  SONATSOFTW      3\n499      SAFARI      2\n500        BBTC      6\n\n[501 rows x 2 columns]",
      "text/html": "<div>\n<style scoped>\n    .dataframe tbody tr th:only-of-type {\n        vertical-align: middle;\n    }\n\n    .dataframe tbody tr th {\n        vertical-align: top;\n    }\n\n    .dataframe thead th {\n        text-align: right;\n    }\n</style>\n<table border=\"1\" class=\"dataframe\">\n  <thead>\n    <tr style=\"text-align: right;\">\n      <th></th>\n      <th>name</th>\n      <th>value</th>\n    </tr>\n  </thead>\n  <tbody>\n    <tr>\n      <th>0</th>\n      <td>GSFC</td>\n      <td>2</td>\n    </tr>\n    <tr>\n      <th>1</th>\n      <td>JBMA</td>\n      <td>6</td>\n    </tr>\n    <tr>\n      <th>2</th>\n      <td>ALKYLAMINE</td>\n      <td>6</td>\n    </tr>\n    <tr>\n      <th>3</th>\n      <td>CASTROLIND</td>\n      <td>0</td>\n    </tr>\n    <tr>\n      <th>4</th>\n      <td>IDEA</td>\n      <td>20</td>\n    </tr>\n    <tr>\n      <th>...</th>\n      <td>...</td>\n      <td>...</td>\n    </tr>\n    <tr>\n      <th>496</th>\n      <td>CHOLAFIN</td>\n      <td>1</td>\n    </tr>\n    <tr>\n      <th>497</th>\n      <td>EICHERMOT</td>\n      <td>0</td>\n    </tr>\n    <tr>\n      <th>498</th>\n      <td>SONATSOFTW</td>\n      <td>3</td>\n    </tr>\n    <tr>\n      <th>499</th>\n      <td>SAFARI</td>\n      <td>2</td>\n    </tr>\n    <tr>\n      <th>500</th>\n      <td>BBTC</td>\n      <td>6</td>\n    </tr>\n  </tbody>\n</table>\n<p>501 rows × 2 columns</p>\n</div>"
     },
     "execution_count": 80,
     "metadata": {},
     "output_type": "execute_result"
    }
   ],
   "source": [
    "df88"
   ],
   "metadata": {
    "collapsed": false,
    "pycharm": {
     "name": "#%%\n"
    }
   }
  },
  {
   "cell_type": "code",
   "execution_count": 84,
   "outputs": [],
   "source": [
    "df88.to_csv(\"D:\\Pyn\\online learning\\INURAN_DATA\\FSDS_September\\TEST_WORK\\STOCKS\\data_add\\df88.csv\")"
   ],
   "metadata": {
    "collapsed": false,
    "pycharm": {
     "name": "#%%\n"
    }
   }
  },
  {
   "cell_type": "code",
   "execution_count": 85,
   "outputs": [],
   "source": [
    "df89.to_csv(\"D:\\Pyn\\online learning\\INURAN_DATA\\FSDS_September\\TEST_WORK\\STOCKS\\data_add\\df89.csv\")"
   ],
   "metadata": {
    "collapsed": false,
    "pycharm": {
     "name": "#%%\n"
    }
   }
  },
  {
   "cell_type": "code",
   "execution_count": 87,
   "outputs": [
    {
     "data": {
      "text/plain": "           name  value\n0          GSFC    101\n1          JBMA    168\n2    ALKYLAMINE     95\n3    CASTROLIND     47\n4          IDEA    183\n..          ...    ...\n496    CHOLAFIN    102\n497   EICHERMOT     49\n498  SONATSOFTW     83\n499      SAFARI     72\n500        BBTC     85\n\n[501 rows x 2 columns]",
      "text/html": "<div>\n<style scoped>\n    .dataframe tbody tr th:only-of-type {\n        vertical-align: middle;\n    }\n\n    .dataframe tbody tr th {\n        vertical-align: top;\n    }\n\n    .dataframe thead th {\n        text-align: right;\n    }\n</style>\n<table border=\"1\" class=\"dataframe\">\n  <thead>\n    <tr style=\"text-align: right;\">\n      <th></th>\n      <th>name</th>\n      <th>value</th>\n    </tr>\n  </thead>\n  <tbody>\n    <tr>\n      <th>0</th>\n      <td>GSFC</td>\n      <td>101</td>\n    </tr>\n    <tr>\n      <th>1</th>\n      <td>JBMA</td>\n      <td>168</td>\n    </tr>\n    <tr>\n      <th>2</th>\n      <td>ALKYLAMINE</td>\n      <td>95</td>\n    </tr>\n    <tr>\n      <th>3</th>\n      <td>CASTROLIND</td>\n      <td>47</td>\n    </tr>\n    <tr>\n      <th>4</th>\n      <td>IDEA</td>\n      <td>183</td>\n    </tr>\n    <tr>\n      <th>...</th>\n      <td>...</td>\n      <td>...</td>\n    </tr>\n    <tr>\n      <th>496</th>\n      <td>CHOLAFIN</td>\n      <td>102</td>\n    </tr>\n    <tr>\n      <th>497</th>\n      <td>EICHERMOT</td>\n      <td>49</td>\n    </tr>\n    <tr>\n      <th>498</th>\n      <td>SONATSOFTW</td>\n      <td>83</td>\n    </tr>\n    <tr>\n      <th>499</th>\n      <td>SAFARI</td>\n      <td>72</td>\n    </tr>\n    <tr>\n      <th>500</th>\n      <td>BBTC</td>\n      <td>85</td>\n    </tr>\n  </tbody>\n</table>\n<p>501 rows × 2 columns</p>\n</div>"
     },
     "execution_count": 87,
     "metadata": {},
     "output_type": "execute_result"
    }
   ],
   "source": [
    "columname=df10.columns\n",
    "name=[]\n",
    "value=[]\n",
    "for i in columname:\n",
    "    name.append(i)\n",
    "    value.append(len(df10[(df10[i]>4)==True][i]))\n",
    "df90=pd.DataFrame({\"name\": name, \"value\": value})\n",
    "df90[\"name\"]=df89[\"name\"].str.split(\".\").str[0]\n",
    "df90"
   ],
   "metadata": {
    "collapsed": false,
    "pycharm": {
     "name": "#%%\n"
    }
   }
  },
  {
   "cell_type": "code",
   "execution_count": 88,
   "outputs": [],
   "source": [
    "df90.to_csv(\"D:\\Pyn\\online learning\\INURAN_DATA\\FSDS_September\\TEST_WORK\\STOCKS\\data_add\\df90.csv\")"
   ],
   "metadata": {
    "collapsed": false,
    "pycharm": {
     "name": "#%%\n"
    }
   }
  },
  {
   "cell_type": "code",
   "execution_count": 101,
   "outputs": [],
   "source": [
    "df11=pd.read_csv(\"D:\\Pyn\\online learning\\FINAL_DATA\\SCRNER_DATA\\yf20240218.csv\")"
   ],
   "metadata": {
    "collapsed": false,
    "pycharm": {
     "name": "#%%\n"
    }
   }
  },
  {
   "cell_type": "code",
   "execution_count": 103,
   "outputs": [
    {
     "data": {
      "text/plain": "           Date   GSFC.NS   JBMA.NS  ALKYLAMINE.NS  CASTROLIND.NS   IDEA.NS  \\\n0    2021-02-15       NaN       NaN            NaN            NaN       NaN   \n1    2021-02-16 -0.001953  0.057768      -0.004843      -0.001183 -0.028926   \n2    2021-02-17  0.012394 -0.013353      -0.010713      -0.007501  0.012766   \n3    2021-02-18 -0.016108 -0.008778       0.007767       0.032220 -0.029412   \n4    2021-02-19  0.009168 -0.008241      -0.013900      -0.007322 -0.056277   \n..          ...       ...       ...            ...            ...       ...   \n738  2024-02-09 -0.009528  0.017254       0.000496       0.022831  0.047297   \n739  2024-02-12 -0.093836  0.026472      -0.022970      -0.039187 -0.067742   \n740  2024-02-13  0.013432 -0.025305       0.017050      -0.013939  0.017301   \n741  2024-02-14  0.013895 -0.004790       0.002155       0.031937  0.057823   \n742  2024-02-15  0.017500  0.001122      -0.005093       0.008371  0.025723   \n\n     SPARC.NS  ENGINERSIN.NS  JUBLPHARMA.NS   GNFC.NS  ...  METROBRAND.NS  \\\n0         NaN            NaN            NaN       NaN  ...            NaN   \n1   -0.007127      -0.035183      -0.013220 -0.006766  ...            NaN   \n2   -0.009663      -0.002104      -0.011797 -0.008789  ...            NaN   \n3   -0.017842       0.049192      -0.055189  0.024607  ...            NaN   \n4   -0.003122      -0.013396      -0.018794  0.005409  ...            NaN   \n..        ...            ...            ...       ...  ...            ...   \n738  0.006177      -0.058824      -0.017003 -0.019488  ...      -0.003126   \n739 -0.047858      -0.110203       0.045382 -0.040569  ...       0.000045   \n740  0.038540       0.024820      -0.009040 -0.006052  ...       0.003727   \n741 -0.035276       0.042383       0.004820  0.007103  ...       0.006339   \n742  0.030861       0.003253       0.045396  0.012324  ...      -0.014533   \n\n     360ONE.NS  GOCOLORS.NS  CHEMPLASTS.NS  BSOFT.NS  CHOLAFIN.NS  \\\n0          NaN          NaN            NaN       NaN          NaN   \n1     0.000082          NaN            NaN  0.000000    -0.008822   \n2    -0.001632          NaN            NaN -0.000822    -0.000095   \n3    -0.017446          NaN            NaN -0.001646    -0.000568   \n4    -0.001622          NaN            NaN -0.018133     0.005022   \n..         ...          ...            ...       ...          ...   \n738  -0.002820     0.031568      -0.006666 -0.005371    -0.009837   \n739  -0.009247    -0.021634      -0.025351 -0.010739    -0.018489   \n740   0.067027     0.038447      -0.024699  0.022682     0.036449   \n741   0.023348    -0.004727       0.016360 -0.011149    -0.014452   \n742   0.008123     0.006095      -0.004851  0.012594    -0.000622   \n\n     EICHERMOT.NS  SONATSOFTW.NS  SAFARI.NS   BBTC.NS  \n0             NaN            NaN        NaN       NaN  \n1       -0.015559       0.005734   0.005276 -0.005632  \n2       -0.011533      -0.018117   0.038178 -0.007329  \n3       -0.016806       0.022452  -0.010111 -0.006922  \n4       -0.024734       0.010348  -0.000577  0.007308  \n..            ...            ...        ...       ...  \n738      0.008838      -0.001942  -0.006541 -0.014329  \n739      0.008045      -0.016192  -0.011061 -0.034872  \n740     -0.004559      -0.004019   0.007166  0.076217  \n741      0.012285      -0.004419   0.005625 -0.035536  \n742      0.003845       0.045677  -0.008964  0.008492  \n\n[743 rows x 502 columns]",
      "text/html": "<div>\n<style scoped>\n    .dataframe tbody tr th:only-of-type {\n        vertical-align: middle;\n    }\n\n    .dataframe tbody tr th {\n        vertical-align: top;\n    }\n\n    .dataframe thead th {\n        text-align: right;\n    }\n</style>\n<table border=\"1\" class=\"dataframe\">\n  <thead>\n    <tr style=\"text-align: right;\">\n      <th></th>\n      <th>Date</th>\n      <th>GSFC.NS</th>\n      <th>JBMA.NS</th>\n      <th>ALKYLAMINE.NS</th>\n      <th>CASTROLIND.NS</th>\n      <th>IDEA.NS</th>\n      <th>SPARC.NS</th>\n      <th>ENGINERSIN.NS</th>\n      <th>JUBLPHARMA.NS</th>\n      <th>GNFC.NS</th>\n      <th>...</th>\n      <th>METROBRAND.NS</th>\n      <th>360ONE.NS</th>\n      <th>GOCOLORS.NS</th>\n      <th>CHEMPLASTS.NS</th>\n      <th>BSOFT.NS</th>\n      <th>CHOLAFIN.NS</th>\n      <th>EICHERMOT.NS</th>\n      <th>SONATSOFTW.NS</th>\n      <th>SAFARI.NS</th>\n      <th>BBTC.NS</th>\n    </tr>\n  </thead>\n  <tbody>\n    <tr>\n      <th>0</th>\n      <td>2021-02-15</td>\n      <td>NaN</td>\n      <td>NaN</td>\n      <td>NaN</td>\n      <td>NaN</td>\n      <td>NaN</td>\n      <td>NaN</td>\n      <td>NaN</td>\n      <td>NaN</td>\n      <td>NaN</td>\n      <td>...</td>\n      <td>NaN</td>\n      <td>NaN</td>\n      <td>NaN</td>\n      <td>NaN</td>\n      <td>NaN</td>\n      <td>NaN</td>\n      <td>NaN</td>\n      <td>NaN</td>\n      <td>NaN</td>\n      <td>NaN</td>\n    </tr>\n    <tr>\n      <th>1</th>\n      <td>2021-02-16</td>\n      <td>-0.001953</td>\n      <td>0.057768</td>\n      <td>-0.004843</td>\n      <td>-0.001183</td>\n      <td>-0.028926</td>\n      <td>-0.007127</td>\n      <td>-0.035183</td>\n      <td>-0.013220</td>\n      <td>-0.006766</td>\n      <td>...</td>\n      <td>NaN</td>\n      <td>0.000082</td>\n      <td>NaN</td>\n      <td>NaN</td>\n      <td>0.000000</td>\n      <td>-0.008822</td>\n      <td>-0.015559</td>\n      <td>0.005734</td>\n      <td>0.005276</td>\n      <td>-0.005632</td>\n    </tr>\n    <tr>\n      <th>2</th>\n      <td>2021-02-17</td>\n      <td>0.012394</td>\n      <td>-0.013353</td>\n      <td>-0.010713</td>\n      <td>-0.007501</td>\n      <td>0.012766</td>\n      <td>-0.009663</td>\n      <td>-0.002104</td>\n      <td>-0.011797</td>\n      <td>-0.008789</td>\n      <td>...</td>\n      <td>NaN</td>\n      <td>-0.001632</td>\n      <td>NaN</td>\n      <td>NaN</td>\n      <td>-0.000822</td>\n      <td>-0.000095</td>\n      <td>-0.011533</td>\n      <td>-0.018117</td>\n      <td>0.038178</td>\n      <td>-0.007329</td>\n    </tr>\n    <tr>\n      <th>3</th>\n      <td>2021-02-18</td>\n      <td>-0.016108</td>\n      <td>-0.008778</td>\n      <td>0.007767</td>\n      <td>0.032220</td>\n      <td>-0.029412</td>\n      <td>-0.017842</td>\n      <td>0.049192</td>\n      <td>-0.055189</td>\n      <td>0.024607</td>\n      <td>...</td>\n      <td>NaN</td>\n      <td>-0.017446</td>\n      <td>NaN</td>\n      <td>NaN</td>\n      <td>-0.001646</td>\n      <td>-0.000568</td>\n      <td>-0.016806</td>\n      <td>0.022452</td>\n      <td>-0.010111</td>\n      <td>-0.006922</td>\n    </tr>\n    <tr>\n      <th>4</th>\n      <td>2021-02-19</td>\n      <td>0.009168</td>\n      <td>-0.008241</td>\n      <td>-0.013900</td>\n      <td>-0.007322</td>\n      <td>-0.056277</td>\n      <td>-0.003122</td>\n      <td>-0.013396</td>\n      <td>-0.018794</td>\n      <td>0.005409</td>\n      <td>...</td>\n      <td>NaN</td>\n      <td>-0.001622</td>\n      <td>NaN</td>\n      <td>NaN</td>\n      <td>-0.018133</td>\n      <td>0.005022</td>\n      <td>-0.024734</td>\n      <td>0.010348</td>\n      <td>-0.000577</td>\n      <td>0.007308</td>\n    </tr>\n    <tr>\n      <th>...</th>\n      <td>...</td>\n      <td>...</td>\n      <td>...</td>\n      <td>...</td>\n      <td>...</td>\n      <td>...</td>\n      <td>...</td>\n      <td>...</td>\n      <td>...</td>\n      <td>...</td>\n      <td>...</td>\n      <td>...</td>\n      <td>...</td>\n      <td>...</td>\n      <td>...</td>\n      <td>...</td>\n      <td>...</td>\n      <td>...</td>\n      <td>...</td>\n      <td>...</td>\n      <td>...</td>\n    </tr>\n    <tr>\n      <th>738</th>\n      <td>2024-02-09</td>\n      <td>-0.009528</td>\n      <td>0.017254</td>\n      <td>0.000496</td>\n      <td>0.022831</td>\n      <td>0.047297</td>\n      <td>0.006177</td>\n      <td>-0.058824</td>\n      <td>-0.017003</td>\n      <td>-0.019488</td>\n      <td>...</td>\n      <td>-0.003126</td>\n      <td>-0.002820</td>\n      <td>0.031568</td>\n      <td>-0.006666</td>\n      <td>-0.005371</td>\n      <td>-0.009837</td>\n      <td>0.008838</td>\n      <td>-0.001942</td>\n      <td>-0.006541</td>\n      <td>-0.014329</td>\n    </tr>\n    <tr>\n      <th>739</th>\n      <td>2024-02-12</td>\n      <td>-0.093836</td>\n      <td>0.026472</td>\n      <td>-0.022970</td>\n      <td>-0.039187</td>\n      <td>-0.067742</td>\n      <td>-0.047858</td>\n      <td>-0.110203</td>\n      <td>0.045382</td>\n      <td>-0.040569</td>\n      <td>...</td>\n      <td>0.000045</td>\n      <td>-0.009247</td>\n      <td>-0.021634</td>\n      <td>-0.025351</td>\n      <td>-0.010739</td>\n      <td>-0.018489</td>\n      <td>0.008045</td>\n      <td>-0.016192</td>\n      <td>-0.011061</td>\n      <td>-0.034872</td>\n    </tr>\n    <tr>\n      <th>740</th>\n      <td>2024-02-13</td>\n      <td>0.013432</td>\n      <td>-0.025305</td>\n      <td>0.017050</td>\n      <td>-0.013939</td>\n      <td>0.017301</td>\n      <td>0.038540</td>\n      <td>0.024820</td>\n      <td>-0.009040</td>\n      <td>-0.006052</td>\n      <td>...</td>\n      <td>0.003727</td>\n      <td>0.067027</td>\n      <td>0.038447</td>\n      <td>-0.024699</td>\n      <td>0.022682</td>\n      <td>0.036449</td>\n      <td>-0.004559</td>\n      <td>-0.004019</td>\n      <td>0.007166</td>\n      <td>0.076217</td>\n    </tr>\n    <tr>\n      <th>741</th>\n      <td>2024-02-14</td>\n      <td>0.013895</td>\n      <td>-0.004790</td>\n      <td>0.002155</td>\n      <td>0.031937</td>\n      <td>0.057823</td>\n      <td>-0.035276</td>\n      <td>0.042383</td>\n      <td>0.004820</td>\n      <td>0.007103</td>\n      <td>...</td>\n      <td>0.006339</td>\n      <td>0.023348</td>\n      <td>-0.004727</td>\n      <td>0.016360</td>\n      <td>-0.011149</td>\n      <td>-0.014452</td>\n      <td>0.012285</td>\n      <td>-0.004419</td>\n      <td>0.005625</td>\n      <td>-0.035536</td>\n    </tr>\n    <tr>\n      <th>742</th>\n      <td>2024-02-15</td>\n      <td>0.017500</td>\n      <td>0.001122</td>\n      <td>-0.005093</td>\n      <td>0.008371</td>\n      <td>0.025723</td>\n      <td>0.030861</td>\n      <td>0.003253</td>\n      <td>0.045396</td>\n      <td>0.012324</td>\n      <td>...</td>\n      <td>-0.014533</td>\n      <td>0.008123</td>\n      <td>0.006095</td>\n      <td>-0.004851</td>\n      <td>0.012594</td>\n      <td>-0.000622</td>\n      <td>0.003845</td>\n      <td>0.045677</td>\n      <td>-0.008964</td>\n      <td>0.008492</td>\n    </tr>\n  </tbody>\n</table>\n<p>743 rows × 502 columns</p>\n</div>"
     },
     "execution_count": 103,
     "metadata": {},
     "output_type": "execute_result"
    }
   ],
   "source": [
    "df11"
   ],
   "metadata": {
    "collapsed": false,
    "pycharm": {
     "name": "#%%\n"
    }
   }
  },
  {
   "cell_type": "code",
   "execution_count": 104,
   "outputs": [],
   "source": [
    "df11=df11.iloc[1::]\n",
    "df11=df11.iloc[::-1]\n",
    "df11.set_index(\"Date\",inplace=True)\n",
    "df11=df11.apply(lambda x: x*100)\n",
    "df11=df11.T"
   ],
   "metadata": {
    "collapsed": false,
    "pycharm": {
     "name": "#%%\n"
    }
   }
  },
  {
   "cell_type": "code",
   "execution_count": 106,
   "outputs": [],
   "source": [
    "df11=df11.T"
   ],
   "metadata": {
    "collapsed": false,
    "pycharm": {
     "name": "#%%\n"
    }
   }
  },
  {
   "cell_type": "code",
   "execution_count": 107,
   "outputs": [
    {
     "data": {
      "text/plain": "           name  value\n0          GSFC    101\n1          JBMA    168\n2    ALKYLAMINE     95\n3    CASTROLIND     47\n4          IDEA    183\n..          ...    ...\n496    CHOLAFIN    102\n497   EICHERMOT     49\n498  SONATSOFTW     83\n499      SAFARI     72\n500        BBTC     85\n\n[501 rows x 2 columns]",
      "text/html": "<div>\n<style scoped>\n    .dataframe tbody tr th:only-of-type {\n        vertical-align: middle;\n    }\n\n    .dataframe tbody tr th {\n        vertical-align: top;\n    }\n\n    .dataframe thead th {\n        text-align: right;\n    }\n</style>\n<table border=\"1\" class=\"dataframe\">\n  <thead>\n    <tr style=\"text-align: right;\">\n      <th></th>\n      <th>name</th>\n      <th>value</th>\n    </tr>\n  </thead>\n  <tbody>\n    <tr>\n      <th>0</th>\n      <td>GSFC</td>\n      <td>101</td>\n    </tr>\n    <tr>\n      <th>1</th>\n      <td>JBMA</td>\n      <td>168</td>\n    </tr>\n    <tr>\n      <th>2</th>\n      <td>ALKYLAMINE</td>\n      <td>95</td>\n    </tr>\n    <tr>\n      <th>3</th>\n      <td>CASTROLIND</td>\n      <td>47</td>\n    </tr>\n    <tr>\n      <th>4</th>\n      <td>IDEA</td>\n      <td>183</td>\n    </tr>\n    <tr>\n      <th>...</th>\n      <td>...</td>\n      <td>...</td>\n    </tr>\n    <tr>\n      <th>496</th>\n      <td>CHOLAFIN</td>\n      <td>102</td>\n    </tr>\n    <tr>\n      <th>497</th>\n      <td>EICHERMOT</td>\n      <td>49</td>\n    </tr>\n    <tr>\n      <th>498</th>\n      <td>SONATSOFTW</td>\n      <td>83</td>\n    </tr>\n    <tr>\n      <th>499</th>\n      <td>SAFARI</td>\n      <td>72</td>\n    </tr>\n    <tr>\n      <th>500</th>\n      <td>BBTC</td>\n      <td>85</td>\n    </tr>\n  </tbody>\n</table>\n<p>501 rows × 2 columns</p>\n</div>"
     },
     "execution_count": 107,
     "metadata": {},
     "output_type": "execute_result"
    }
   ],
   "source": [
    "columname=df11.columns\n",
    "name=[]\n",
    "value=[]\n",
    "for i in columname:\n",
    "    name.append(i)\n",
    "    value.append(len(df10[(df10[i]>4)==True][i]))\n",
    "df91=pd.DataFrame({\"name\": name, \"value\": value})\n",
    "df91[\"name\"]=df91[\"name\"].str.split(\".\").str[0]\n",
    "df91"
   ],
   "metadata": {
    "collapsed": false,
    "pycharm": {
     "name": "#%%\n"
    }
   }
  },
  {
   "cell_type": "code",
   "execution_count": 109,
   "outputs": [],
   "source": [
    "df21=pd.read_csv(r\"D:\\Pyn\\online learning\\FINAL_DATA\\SCRNER_DATA\\test10data_20240217.csv\")"
   ],
   "metadata": {
    "collapsed": false,
    "pycharm": {
     "name": "#%%\n"
    }
   }
  },
  {
   "cell_type": "code",
   "execution_count": 110,
   "outputs": [
    {
     "data": {
      "text/plain": "            Date  MCDOWELL-N.NS\\n     UBL.NS\\n  RADICO.NS\\n     TI.NS\\n  \\\n0     2018-01-11       765.530029  1178.099976   317.850006   20.950001   \n1     2018-01-12       761.849976  1159.900024   316.100006   20.350000   \n2     2018-01-15       758.099976  1146.949951   326.149994   20.450001   \n3     2018-01-16       738.700012  1087.050049   316.149994   19.900000   \n4     2018-01-17       736.919983  1131.150024   341.850006   19.900000   \n...          ...              ...          ...          ...         ...   \n1472  2023-12-29      1117.750000  1785.150024  1658.250000  240.949997   \n1473  2024-01-01      1107.199951  1792.699951  1686.050049  240.600006   \n1474  2024-01-02      1093.900024  1812.599976  1656.099976  240.100006   \n1475  2024-01-03      1098.199951  1824.949951  1656.349976  245.850006   \n1476  2024-01-04      1108.599976  1892.400024  1674.449951  251.000000   \n\n       SULA.NS\\n  530305.NS\\n  GLOBUSSPR.NS\\n  INDIAGLYCO.NS\\n   SDBL.NS\\n  \\\n0            NaN          NaN      166.600006       563.549988  121.592674   \n1            NaN          NaN      165.350006       567.750000  125.457840   \n2            NaN          NaN      162.800003       562.849976  135.330017   \n3            NaN          NaN      156.300003       532.549988  129.889236   \n4            NaN          NaN      154.750000       536.650024  134.517593   \n...          ...          ...             ...              ...         ...   \n1472  498.500000          NaN      873.400024       767.950012  284.399994   \n1473  496.000000          NaN      878.549988       829.650024  287.149994   \n1474  490.600006          NaN      875.750000       846.200012  282.649994   \n1475  497.700012          NaN      883.650024       854.750000  281.850006   \n1476  497.750000          NaN      873.349976       904.599976  281.250000   \n\n      ...  EXCELINDUS.NS\\n  ORIENTALTL.NS\\n  PUNJABCHEM.NS\\n  GANGESSECU.NS\\n  \\\n0     ...       681.700012        17.650000       478.000000       114.550003   \n1     ...       728.099976        17.500000       470.250000       113.000000   \n2     ...       734.799988        18.200001       496.100006       114.699997   \n3     ...       709.150024        17.299999       479.799988       110.099998   \n4     ...       727.849976        16.750000       485.500000       110.000000   \n...   ...              ...              ...              ...              ...   \n1472  ...       907.950012         9.400000      1320.449951       124.050003   \n1473  ...       951.250000         9.500000      1334.800049       124.650002   \n1474  ...       945.549988        10.200000      1312.099976       125.650002   \n1475  ...       977.450012        10.200000      1299.250000       123.300003   \n1476  ...       978.700012        10.400000      1295.150024       126.800003   \n\n       HBSL.NS\\n  WINSOME.NS\\n  PALASHSECU.NS\\n   LFIC.NS\\n  ATLANTA.NS\\n  \\\n0     178.166672          2.30        85.199997  113.250000           NaN   \n1     171.500000          2.35        87.000000  118.900002           NaN   \n2     175.833328          2.40        85.849998  124.800003           NaN   \n3     167.166672          2.40        84.849998  131.000000           NaN   \n4     166.833328          2.40        83.300003  131.550003           NaN   \n...          ...           ...              ...         ...           ...   \n1472   73.800003          3.40       117.300003  182.399994           NaN   \n1473   73.849998          3.40       117.949997  177.300003           NaN   \n1474   73.650002          3.45       117.800003  184.149994           NaN   \n1475   74.150002          3.50       117.500000  179.050003           NaN   \n1476   74.500000          3.55       119.800003  182.100006           NaN   \n\n      SUMEETINDS.NS\\n  \n0           26.760000  \n1           30.000000  \n2           29.360001  \n3           27.360001  \n4           27.760000  \n...               ...  \n1472         4.850000  \n1473         4.600000  \n1474         4.600000  \n1475         4.600000  \n1476         4.600000  \n\n[1477 rows x 3476 columns]",
      "text/html": "<div>\n<style scoped>\n    .dataframe tbody tr th:only-of-type {\n        vertical-align: middle;\n    }\n\n    .dataframe tbody tr th {\n        vertical-align: top;\n    }\n\n    .dataframe thead th {\n        text-align: right;\n    }\n</style>\n<table border=\"1\" class=\"dataframe\">\n  <thead>\n    <tr style=\"text-align: right;\">\n      <th></th>\n      <th>Date</th>\n      <th>MCDOWELL-N.NS\\n</th>\n      <th>UBL.NS\\n</th>\n      <th>RADICO.NS\\n</th>\n      <th>TI.NS\\n</th>\n      <th>SULA.NS\\n</th>\n      <th>530305.NS\\n</th>\n      <th>GLOBUSSPR.NS\\n</th>\n      <th>INDIAGLYCO.NS\\n</th>\n      <th>SDBL.NS\\n</th>\n      <th>...</th>\n      <th>EXCELINDUS.NS\\n</th>\n      <th>ORIENTALTL.NS\\n</th>\n      <th>PUNJABCHEM.NS\\n</th>\n      <th>GANGESSECU.NS\\n</th>\n      <th>HBSL.NS\\n</th>\n      <th>WINSOME.NS\\n</th>\n      <th>PALASHSECU.NS\\n</th>\n      <th>LFIC.NS\\n</th>\n      <th>ATLANTA.NS\\n</th>\n      <th>SUMEETINDS.NS\\n</th>\n    </tr>\n  </thead>\n  <tbody>\n    <tr>\n      <th>0</th>\n      <td>2018-01-11</td>\n      <td>765.530029</td>\n      <td>1178.099976</td>\n      <td>317.850006</td>\n      <td>20.950001</td>\n      <td>NaN</td>\n      <td>NaN</td>\n      <td>166.600006</td>\n      <td>563.549988</td>\n      <td>121.592674</td>\n      <td>...</td>\n      <td>681.700012</td>\n      <td>17.650000</td>\n      <td>478.000000</td>\n      <td>114.550003</td>\n      <td>178.166672</td>\n      <td>2.30</td>\n      <td>85.199997</td>\n      <td>113.250000</td>\n      <td>NaN</td>\n      <td>26.760000</td>\n    </tr>\n    <tr>\n      <th>1</th>\n      <td>2018-01-12</td>\n      <td>761.849976</td>\n      <td>1159.900024</td>\n      <td>316.100006</td>\n      <td>20.350000</td>\n      <td>NaN</td>\n      <td>NaN</td>\n      <td>165.350006</td>\n      <td>567.750000</td>\n      <td>125.457840</td>\n      <td>...</td>\n      <td>728.099976</td>\n      <td>17.500000</td>\n      <td>470.250000</td>\n      <td>113.000000</td>\n      <td>171.500000</td>\n      <td>2.35</td>\n      <td>87.000000</td>\n      <td>118.900002</td>\n      <td>NaN</td>\n      <td>30.000000</td>\n    </tr>\n    <tr>\n      <th>2</th>\n      <td>2018-01-15</td>\n      <td>758.099976</td>\n      <td>1146.949951</td>\n      <td>326.149994</td>\n      <td>20.450001</td>\n      <td>NaN</td>\n      <td>NaN</td>\n      <td>162.800003</td>\n      <td>562.849976</td>\n      <td>135.330017</td>\n      <td>...</td>\n      <td>734.799988</td>\n      <td>18.200001</td>\n      <td>496.100006</td>\n      <td>114.699997</td>\n      <td>175.833328</td>\n      <td>2.40</td>\n      <td>85.849998</td>\n      <td>124.800003</td>\n      <td>NaN</td>\n      <td>29.360001</td>\n    </tr>\n    <tr>\n      <th>3</th>\n      <td>2018-01-16</td>\n      <td>738.700012</td>\n      <td>1087.050049</td>\n      <td>316.149994</td>\n      <td>19.900000</td>\n      <td>NaN</td>\n      <td>NaN</td>\n      <td>156.300003</td>\n      <td>532.549988</td>\n      <td>129.889236</td>\n      <td>...</td>\n      <td>709.150024</td>\n      <td>17.299999</td>\n      <td>479.799988</td>\n      <td>110.099998</td>\n      <td>167.166672</td>\n      <td>2.40</td>\n      <td>84.849998</td>\n      <td>131.000000</td>\n      <td>NaN</td>\n      <td>27.360001</td>\n    </tr>\n    <tr>\n      <th>4</th>\n      <td>2018-01-17</td>\n      <td>736.919983</td>\n      <td>1131.150024</td>\n      <td>341.850006</td>\n      <td>19.900000</td>\n      <td>NaN</td>\n      <td>NaN</td>\n      <td>154.750000</td>\n      <td>536.650024</td>\n      <td>134.517593</td>\n      <td>...</td>\n      <td>727.849976</td>\n      <td>16.750000</td>\n      <td>485.500000</td>\n      <td>110.000000</td>\n      <td>166.833328</td>\n      <td>2.40</td>\n      <td>83.300003</td>\n      <td>131.550003</td>\n      <td>NaN</td>\n      <td>27.760000</td>\n    </tr>\n    <tr>\n      <th>...</th>\n      <td>...</td>\n      <td>...</td>\n      <td>...</td>\n      <td>...</td>\n      <td>...</td>\n      <td>...</td>\n      <td>...</td>\n      <td>...</td>\n      <td>...</td>\n      <td>...</td>\n      <td>...</td>\n      <td>...</td>\n      <td>...</td>\n      <td>...</td>\n      <td>...</td>\n      <td>...</td>\n      <td>...</td>\n      <td>...</td>\n      <td>...</td>\n      <td>...</td>\n      <td>...</td>\n    </tr>\n    <tr>\n      <th>1472</th>\n      <td>2023-12-29</td>\n      <td>1117.750000</td>\n      <td>1785.150024</td>\n      <td>1658.250000</td>\n      <td>240.949997</td>\n      <td>498.500000</td>\n      <td>NaN</td>\n      <td>873.400024</td>\n      <td>767.950012</td>\n      <td>284.399994</td>\n      <td>...</td>\n      <td>907.950012</td>\n      <td>9.400000</td>\n      <td>1320.449951</td>\n      <td>124.050003</td>\n      <td>73.800003</td>\n      <td>3.40</td>\n      <td>117.300003</td>\n      <td>182.399994</td>\n      <td>NaN</td>\n      <td>4.850000</td>\n    </tr>\n    <tr>\n      <th>1473</th>\n      <td>2024-01-01</td>\n      <td>1107.199951</td>\n      <td>1792.699951</td>\n      <td>1686.050049</td>\n      <td>240.600006</td>\n      <td>496.000000</td>\n      <td>NaN</td>\n      <td>878.549988</td>\n      <td>829.650024</td>\n      <td>287.149994</td>\n      <td>...</td>\n      <td>951.250000</td>\n      <td>9.500000</td>\n      <td>1334.800049</td>\n      <td>124.650002</td>\n      <td>73.849998</td>\n      <td>3.40</td>\n      <td>117.949997</td>\n      <td>177.300003</td>\n      <td>NaN</td>\n      <td>4.600000</td>\n    </tr>\n    <tr>\n      <th>1474</th>\n      <td>2024-01-02</td>\n      <td>1093.900024</td>\n      <td>1812.599976</td>\n      <td>1656.099976</td>\n      <td>240.100006</td>\n      <td>490.600006</td>\n      <td>NaN</td>\n      <td>875.750000</td>\n      <td>846.200012</td>\n      <td>282.649994</td>\n      <td>...</td>\n      <td>945.549988</td>\n      <td>10.200000</td>\n      <td>1312.099976</td>\n      <td>125.650002</td>\n      <td>73.650002</td>\n      <td>3.45</td>\n      <td>117.800003</td>\n      <td>184.149994</td>\n      <td>NaN</td>\n      <td>4.600000</td>\n    </tr>\n    <tr>\n      <th>1475</th>\n      <td>2024-01-03</td>\n      <td>1098.199951</td>\n      <td>1824.949951</td>\n      <td>1656.349976</td>\n      <td>245.850006</td>\n      <td>497.700012</td>\n      <td>NaN</td>\n      <td>883.650024</td>\n      <td>854.750000</td>\n      <td>281.850006</td>\n      <td>...</td>\n      <td>977.450012</td>\n      <td>10.200000</td>\n      <td>1299.250000</td>\n      <td>123.300003</td>\n      <td>74.150002</td>\n      <td>3.50</td>\n      <td>117.500000</td>\n      <td>179.050003</td>\n      <td>NaN</td>\n      <td>4.600000</td>\n    </tr>\n    <tr>\n      <th>1476</th>\n      <td>2024-01-04</td>\n      <td>1108.599976</td>\n      <td>1892.400024</td>\n      <td>1674.449951</td>\n      <td>251.000000</td>\n      <td>497.750000</td>\n      <td>NaN</td>\n      <td>873.349976</td>\n      <td>904.599976</td>\n      <td>281.250000</td>\n      <td>...</td>\n      <td>978.700012</td>\n      <td>10.400000</td>\n      <td>1295.150024</td>\n      <td>126.800003</td>\n      <td>74.500000</td>\n      <td>3.55</td>\n      <td>119.800003</td>\n      <td>182.100006</td>\n      <td>NaN</td>\n      <td>4.600000</td>\n    </tr>\n  </tbody>\n</table>\n<p>1477 rows × 3476 columns</p>\n</div>"
     },
     "execution_count": 110,
     "metadata": {},
     "output_type": "execute_result"
    }
   ],
   "source": [
    "df21"
   ],
   "metadata": {
    "collapsed": false,
    "pycharm": {
     "name": "#%%\n"
    }
   }
  },
  {
   "cell_type": "code",
   "execution_count": 1,
   "outputs": [
    {
     "name": "stdout",
     "output_type": "stream",
     "text": [
      "avijit\n"
     ]
    }
   ],
   "source": [
    "print('avijit')"
   ],
   "metadata": {
    "collapsed": false,
    "pycharm": {
     "name": "#%%\n"
    }
   }
  },
  {
   "cell_type": "code",
   "execution_count": 2,
   "outputs": [],
   "source": [
    "import pandas as pd"
   ],
   "metadata": {
    "collapsed": false,
    "pycharm": {
     "name": "#%%\n"
    }
   }
  },
  {
   "cell_type": "code",
   "execution_count": 3,
   "outputs": [],
   "source": [
    "import numpy as np"
   ],
   "metadata": {
    "collapsed": false,
    "pycharm": {
     "name": "#%%\n"
    }
   }
  },
  {
   "cell_type": "code",
   "execution_count": 4,
   "outputs": [],
   "source": [
    "import matplotlib.pyplot as plt"
   ],
   "metadata": {
    "collapsed": false,
    "pycharm": {
     "name": "#%%\n"
    }
   }
  },
  {
   "cell_type": "code",
   "execution_count": 6,
   "outputs": [],
   "source": [
    "df=pd.read_csv(r\"D:\\Pyn\\online learning\\INURAN_DATA\\FSDS_September\\14. Time Series Analysis\\time series (2)\\time series\\ARIMA-And-Seasonal-ARIMA-master\\perrin-freres-monthly-champagne-.csv\")"
   ],
   "metadata": {
    "collapsed": false,
    "pycharm": {
     "name": "#%%\n"
    }
   }
  },
  {
   "cell_type": "code",
   "execution_count": 7,
   "outputs": [
    {
     "data": {
      "text/plain": "     Month  Perrin Freres monthly champagne sales millions ?64-?72\n0  1964-01                                             2815.0     \n1  1964-02                                             2672.0     \n2  1964-03                                             2755.0     \n3  1964-04                                             2721.0     \n4  1964-05                                             2946.0     ",
      "text/html": "<div>\n<style scoped>\n    .dataframe tbody tr th:only-of-type {\n        vertical-align: middle;\n    }\n\n    .dataframe tbody tr th {\n        vertical-align: top;\n    }\n\n    .dataframe thead th {\n        text-align: right;\n    }\n</style>\n<table border=\"1\" class=\"dataframe\">\n  <thead>\n    <tr style=\"text-align: right;\">\n      <th></th>\n      <th>Month</th>\n      <th>Perrin Freres monthly champagne sales millions ?64-?72</th>\n    </tr>\n  </thead>\n  <tbody>\n    <tr>\n      <th>0</th>\n      <td>1964-01</td>\n      <td>2815.0</td>\n    </tr>\n    <tr>\n      <th>1</th>\n      <td>1964-02</td>\n      <td>2672.0</td>\n    </tr>\n    <tr>\n      <th>2</th>\n      <td>1964-03</td>\n      <td>2755.0</td>\n    </tr>\n    <tr>\n      <th>3</th>\n      <td>1964-04</td>\n      <td>2721.0</td>\n    </tr>\n    <tr>\n      <th>4</th>\n      <td>1964-05</td>\n      <td>2946.0</td>\n    </tr>\n  </tbody>\n</table>\n</div>"
     },
     "execution_count": 7,
     "metadata": {},
     "output_type": "execute_result"
    }
   ],
   "source": [
    "df.head()"
   ],
   "metadata": {
    "collapsed": false,
    "pycharm": {
     "name": "#%%\n"
    }
   }
  },
  {
   "cell_type": "code",
   "execution_count": null,
   "outputs": [],
   "source": [],
   "metadata": {
    "collapsed": false,
    "pycharm": {
     "name": "#%%\n"
    }
   }
  }
 ],
 "metadata": {
  "kernelspec": {
   "display_name": "Python 3",
   "language": "python",
   "name": "python3"
  },
  "language_info": {
   "codemirror_mode": {
    "name": "ipython",
    "version": 2
   },
   "file_extension": ".py",
   "mimetype": "text/x-python",
   "name": "python",
   "nbconvert_exporter": "python",
   "pygments_lexer": "ipython2",
   "version": "2.7.6"
  }
 },
 "nbformat": 4,
 "nbformat_minor": 0
}